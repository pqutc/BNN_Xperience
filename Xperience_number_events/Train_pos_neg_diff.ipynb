{
 "cells": [
  {
   "cell_type": "code",
   "execution_count": 5,
   "id": "1d1ec5cb",
   "metadata": {},
   "outputs": [],
   "source": [
    "import os\n",
    "import torch\n",
    "import time\n",
    "import numpy as np\n",
    "import torch.nn as nn\n",
    "from tqdm import tqdm\n",
    "from torch.cuda import amp\n",
    "from scipy.io import savemat\n",
    "import torch.nn.functional as F\n",
    "import tonic\n",
    "import tonic.transforms as transforms\n",
    "from torch.utils.data import Dataset, DataLoader\n",
    "import numpy as np\n",
    "import matplotlib.pyplot as plt\n",
    "import pickle\n",
    "\n",
    "# Now import from models\n",
    "import sys\n",
    "sys.path.append(os.path.abspath(os.path.join(os.getcwd(), '..')))\n",
    "from models.ReActNet_A_Qaw import *\n",
    "from models.utils import *\n",
    "\n",
    "os.environ[\"CUDA_VISIBLE_DEVICES\"] = '4'"
   ]
  },
  {
   "cell_type": "code",
   "execution_count": 8,
   "id": "c4af34fe",
   "metadata": {},
   "outputs": [],
   "source": [
    "Begin_epoch = 0\n",
    "Max_epoch = 256\n",
    "Learning_rate = 1e-3\n",
    "Weight_decay = 5e-6\n",
    "Momentum = 0.9\n",
    "Top_k = 5\n",
    "SENSOR_SIZE = (128, 128, 2)\n",
    "batch_size = 64\n",
    "NB_EVENTS = 100\n",
    "filter_time = 10000\n",
    "\n",
    "Dataset_path = '../data'\n",
    "Workers = 8\n",
    "Targetnum = 11\n",
    "\n",
    "Test_every_iteration = None\n",
    "Name_suffix = '_step2_pos_neg_diff'\n",
    "Savemodel_path = './savemodels_DVS/'\n",
    "Record_path = './recorddata_DVS/'\n",
    "if not os.path.exists(Savemodel_path):\n",
    "    os.mkdir(Savemodel_path)\n",
    "if not os.path.exists(Record_path):\n",
    "    os.mkdir(Record_path)\n",
    "\n",
    "\n",
    "class EventChunkDataset(torch.utils.data.Dataset):\n",
    "    def __init__(self, dataset, chunk_size, transform=None):\n",
    "        self.dataset = dataset\n",
    "        self.chunk_size = chunk_size\n",
    "        self.transform = transform\n",
    "        self.chunks = []\n",
    "\n",
    "        for idx in range(len(dataset)):\n",
    "            events, label = dataset[idx]\n",
    "            num_events = events.shape[0]\n",
    "            for start in range(0, num_events, chunk_size):\n",
    "                end = min(start + chunk_size, num_events)\n",
    "                self.chunks.append((idx, start, end, label))\n",
    "\n",
    "    def __len__(self):\n",
    "        return len(self.chunks)\n",
    "\n",
    "    def __getitem__(self, index):\n",
    "        idx, start, end, label = self.chunks[index]\n",
    "        events, _ = self.dataset[idx]\n",
    "        chunk = events[start:end]\n",
    "        if self.transform:\n",
    "            chunk = self.transform(chunk)\n",
    "        return chunk, label\n",
    "\n",
    "\n",
    "_seed_ = 2023\n",
    "torch.manual_seed(_seed_)\n",
    "np.random.seed(_seed_)\n",
    "torch.backends.cudnn.benchmark = False\n",
    "torch.backends.cudnn.deterministic = True"
   ]
  },
  {
   "cell_type": "code",
   "execution_count": 10,
   "id": "40576cee",
   "metadata": {},
   "outputs": [
    {
     "ename": "KeyboardInterrupt",
     "evalue": "",
     "output_type": "error",
     "traceback": [
      "\u001b[0;31m---------------------------------------------------------------------------\u001b[0m",
      "\u001b[0;31mKeyboardInterrupt\u001b[0m                         Traceback (most recent call last)",
      "Cell \u001b[0;32mIn[10], line 25\u001b[0m\n\u001b[1;32m     22\u001b[0m dataset_train_base \u001b[38;5;241m=\u001b[39m tonic\u001b[38;5;241m.\u001b[39mdatasets\u001b[38;5;241m.\u001b[39mDVSGesture(save_to\u001b[38;5;241m=\u001b[39mDataset_path, train\u001b[38;5;241m=\u001b[39m\u001b[38;5;28;01mTrue\u001b[39;00m, transform\u001b[38;5;241m=\u001b[39mtransform)\n\u001b[1;32m     23\u001b[0m dataset_test_base \u001b[38;5;241m=\u001b[39m tonic\u001b[38;5;241m.\u001b[39mdatasets\u001b[38;5;241m.\u001b[39mDVSGesture(save_to\u001b[38;5;241m=\u001b[39mDataset_path, train\u001b[38;5;241m=\u001b[39m\u001b[38;5;28;01mFalse\u001b[39;00m, transform\u001b[38;5;241m=\u001b[39mtransform)\n\u001b[0;32m---> 25\u001b[0m dataset_train \u001b[38;5;241m=\u001b[39m \u001b[43mEventChunkDataset\u001b[49m\u001b[43m(\u001b[49m\u001b[43mdataset_train_base\u001b[49m\u001b[43m,\u001b[49m\u001b[43m \u001b[49m\u001b[43mchunk_size\u001b[49m\u001b[38;5;241;43m=\u001b[39;49m\u001b[43mNB_EVENTS\u001b[49m\u001b[43m,\u001b[49m\u001b[43m \u001b[49m\u001b[43mtransform\u001b[49m\u001b[38;5;241;43m=\u001b[39;49m\u001b[43mframe_transform\u001b[49m\u001b[43m)\u001b[49m\n\u001b[1;32m     26\u001b[0m dataset_test \u001b[38;5;241m=\u001b[39m EventChunkDataset(dataset_test_base, chunk_size\u001b[38;5;241m=\u001b[39mNB_EVENTS, transform\u001b[38;5;241m=\u001b[39mframe_transform)\n\u001b[1;32m     28\u001b[0m \u001b[38;5;66;03m# Function to convert sequences to images\u001b[39;00m\n",
      "Cell \u001b[0;32mIn[8], line 34\u001b[0m, in \u001b[0;36mEventChunkDataset.__init__\u001b[0;34m(self, dataset, chunk_size, transform)\u001b[0m\n\u001b[1;32m     31\u001b[0m \u001b[38;5;28mself\u001b[39m\u001b[38;5;241m.\u001b[39mchunks \u001b[38;5;241m=\u001b[39m []\n\u001b[1;32m     33\u001b[0m \u001b[38;5;28;01mfor\u001b[39;00m idx \u001b[38;5;129;01min\u001b[39;00m \u001b[38;5;28mrange\u001b[39m(\u001b[38;5;28mlen\u001b[39m(dataset)):\n\u001b[0;32m---> 34\u001b[0m     events, label \u001b[38;5;241m=\u001b[39m \u001b[43mdataset\u001b[49m\u001b[43m[\u001b[49m\u001b[43midx\u001b[49m\u001b[43m]\u001b[49m\n\u001b[1;32m     35\u001b[0m     num_events \u001b[38;5;241m=\u001b[39m events\u001b[38;5;241m.\u001b[39mshape[\u001b[38;5;241m0\u001b[39m]\n\u001b[1;32m     36\u001b[0m     \u001b[38;5;28;01mfor\u001b[39;00m start \u001b[38;5;129;01min\u001b[39;00m \u001b[38;5;28mrange\u001b[39m(\u001b[38;5;241m0\u001b[39m, num_events, chunk_size):\n",
      "File \u001b[0;32m~/myenv/lib/python3.10/site-packages/tonic/datasets/dvsgesture.py:115\u001b[0m, in \u001b[0;36mDVSGesture.__getitem__\u001b[0;34m(self, index)\u001b[0m\n\u001b[1;32m    113\u001b[0m target \u001b[38;5;241m=\u001b[39m \u001b[38;5;28mself\u001b[39m\u001b[38;5;241m.\u001b[39mtargets[index]\n\u001b[1;32m    114\u001b[0m \u001b[38;5;28;01mif\u001b[39;00m \u001b[38;5;28mself\u001b[39m\u001b[38;5;241m.\u001b[39mtransform \u001b[38;5;129;01mis\u001b[39;00m \u001b[38;5;129;01mnot\u001b[39;00m \u001b[38;5;28;01mNone\u001b[39;00m:\n\u001b[0;32m--> 115\u001b[0m     events \u001b[38;5;241m=\u001b[39m \u001b[38;5;28;43mself\u001b[39;49m\u001b[38;5;241;43m.\u001b[39;49m\u001b[43mtransform\u001b[49m\u001b[43m(\u001b[49m\u001b[43mevents\u001b[49m\u001b[43m)\u001b[49m\n\u001b[1;32m    116\u001b[0m \u001b[38;5;28;01mif\u001b[39;00m \u001b[38;5;28mself\u001b[39m\u001b[38;5;241m.\u001b[39mtarget_transform \u001b[38;5;129;01mis\u001b[39;00m \u001b[38;5;129;01mnot\u001b[39;00m \u001b[38;5;28;01mNone\u001b[39;00m:\n\u001b[1;32m    117\u001b[0m     target \u001b[38;5;241m=\u001b[39m \u001b[38;5;28mself\u001b[39m\u001b[38;5;241m.\u001b[39mtarget_transform(target)\n",
      "File \u001b[0;32m~/myenv/lib/python3.10/site-packages/tonic/transforms.py:119\u001b[0m, in \u001b[0;36mDenoise.__call__\u001b[0;34m(self, events)\u001b[0m\n\u001b[1;32m    118\u001b[0m \u001b[38;5;28;01mdef\u001b[39;00m\u001b[38;5;250m \u001b[39m\u001b[38;5;21m__call__\u001b[39m(\u001b[38;5;28mself\u001b[39m, events):\n\u001b[0;32m--> 119\u001b[0m     \u001b[38;5;28;01mreturn\u001b[39;00m \u001b[43mfunctional\u001b[49m\u001b[38;5;241;43m.\u001b[39;49m\u001b[43mdenoise_numpy\u001b[49m\u001b[43m(\u001b[49m\u001b[43mevents\u001b[49m\u001b[38;5;241;43m=\u001b[39;49m\u001b[43mevents\u001b[49m\u001b[43m,\u001b[49m\u001b[43m \u001b[49m\u001b[43mfilter_time\u001b[49m\u001b[38;5;241;43m=\u001b[39;49m\u001b[38;5;28;43mself\u001b[39;49m\u001b[38;5;241;43m.\u001b[39;49m\u001b[43mfilter_time\u001b[49m\u001b[43m)\u001b[49m\n",
      "File \u001b[0;32m~/myenv/lib/python3.10/site-packages/tonic/functional/denoise.py:28\u001b[0m, in \u001b[0;36mdenoise_numpy\u001b[0;34m(events, filter_time)\u001b[0m\n\u001b[1;32m     25\u001b[0m timestamp_memory \u001b[38;5;241m=\u001b[39m np\u001b[38;5;241m.\u001b[39mzeros((width, height)) \u001b[38;5;241m+\u001b[39m filter_time\n\u001b[1;32m     27\u001b[0m \u001b[38;5;28;01mfor\u001b[39;00m event \u001b[38;5;129;01min\u001b[39;00m events:\n\u001b[0;32m---> 28\u001b[0m     x \u001b[38;5;241m=\u001b[39m \u001b[38;5;28;43mint\u001b[39;49m\u001b[43m(\u001b[49m\u001b[43mevent\u001b[49m\u001b[43m[\u001b[49m\u001b[38;5;124;43m\"\u001b[39;49m\u001b[38;5;124;43mx\u001b[39;49m\u001b[38;5;124;43m\"\u001b[39;49m\u001b[43m]\u001b[49m\u001b[43m)\u001b[49m\n\u001b[1;32m     29\u001b[0m     y \u001b[38;5;241m=\u001b[39m \u001b[38;5;28mint\u001b[39m(event[\u001b[38;5;124m\"\u001b[39m\u001b[38;5;124my\u001b[39m\u001b[38;5;124m\"\u001b[39m])\n\u001b[1;32m     30\u001b[0m     t \u001b[38;5;241m=\u001b[39m event[\u001b[38;5;124m\"\u001b[39m\u001b[38;5;124mt\u001b[39m\u001b[38;5;124m\"\u001b[39m]\n",
      "\u001b[0;31mKeyboardInterrupt\u001b[0m: "
     ]
    }
   ],
   "source": [
    "# Set paths\n",
    "output_dir = \"./processed_dvsgesture\"\n",
    "train_data_path = os.path.join(output_dir, \"train_data\"+Name_suffix+\".pkl\")\n",
    "test_data_path = os.path.join(output_dir, \"test_data\"+Name_suffix+\".pkl\")\n",
    "\n",
    "# Create output directory if it doesn't exist\n",
    "os.makedirs(output_dir, exist_ok=True)\n",
    "\n",
    "# Check if processed data already exists\n",
    "if os.path.exists(train_data_path) and os.path.exists(test_data_path):\n",
    "    # Load processed data\n",
    "    with open(train_data_path, \"rb\") as f:\n",
    "        train_images, train_labels = pickle.load(f)\n",
    "    with open(test_data_path, \"rb\") as f:\n",
    "        test_images, test_labels = pickle.load(f)\n",
    "    print(\"Loaded preprocessed data from files\")\n",
    "else:\n",
    "    \n",
    "    transform = transforms.Denoise(filter_time=filter_time)\n",
    "    frame_transform = transforms.ToFrame(sensor_size=SENSOR_SIZE)\n",
    "\n",
    "    dataset_train_base = tonic.datasets.DVSGesture(save_to=Dataset_path, train=True, transform=transform)\n",
    "    dataset_test_base = tonic.datasets.DVSGesture(save_to=Dataset_path, train=False, transform=transform)\n",
    "\n",
    "    dataset_train = EventChunkDataset(dataset_train_base, chunk_size=NB_EVENTS, transform=frame_transform)\n",
    "    dataset_test = EventChunkDataset(dataset_test_base, chunk_size=NB_EVENTS, transform=frame_transform)\n",
    "\n",
    "    # Function to convert sequences to images\n",
    "    def convert_to_single_image(frame_sequence):\n",
    "        time_steps, channels, height, width = frame_sequence.shape\n",
    "        pos_sum = np.sum(frame_sequence[:, 0, :, :], axis=0)\n",
    "        neg_sum = np.sum(frame_sequence[:, 1, :, :], axis=0)\n",
    "        \n",
    "        result = np.zeros((3, height, width))\n",
    "        result[0] = pos_sum / max(pos_sum.max(), 1e-6)\n",
    "        result[1] = neg_sum / max(neg_sum.max(), 1e-6)\n",
    "        diff = pos_sum - neg_sum\n",
    "        result[2] = (diff / max(np.abs(diff).max(), 1e-6) + 1) / 2\n",
    "        return result\n",
    "    \n",
    "    # Process training data\n",
    "    train_images = []\n",
    "    train_labels = []\n",
    "    for i, (frames, label) in enumerate(dataset_train):\n",
    "        if i % 100 == 0:\n",
    "            print(f\"Processing training sample {i}/{len(dataset_train)}\")\n",
    "        img = convert_to_single_image(frames, method='combined')\n",
    "        train_images.append(torch.FloatTensor(img))\n",
    "        train_labels.append(label)\n",
    "    \n",
    "    # Process test data\n",
    "    test_images = []\n",
    "    test_labels = []\n",
    "    for i, (frames, label) in enumerate(dataset_test):\n",
    "        if i % 100 == 0:\n",
    "            print(f\"Processing test sample {i}/{len(dataset_test)}\")\n",
    "        img = convert_to_single_image(frames, method='combined')\n",
    "        test_images.append(torch.FloatTensor(img))\n",
    "        test_labels.append(label)\n",
    "    \n",
    "    # Save processed data\n",
    "    with open(train_data_path, \"wb\") as f:\n",
    "        pickle.dump((train_images, train_labels), f)\n",
    "    with open(test_data_path, \"wb\") as f:\n",
    "        pickle.dump((test_images, test_labels), f)\n",
    "    print(\"Saved preprocessed data to files\")\n",
    "\n",
    "# Create dataloaders\n",
    "train_data_loader = torch.utils.data.DataLoader(\n",
    "    list(zip(train_images, train_labels)),\n",
    "    batch_size=batch_size,\n",
    "    shuffle=True,\n",
    "    num_workers=Workers,\n",
    "    pin_memory=True\n",
    ")\n",
    "\n",
    "test_data_loader = torch.utils.data.DataLoader(\n",
    "    list(zip(test_images, test_labels)),\n",
    "    batch_size=batch_size,\n",
    "    shuffle=False,\n",
    "    num_workers=Workers,\n",
    "    pin_memory=True\n",
    ")"
   ]
  },
  {
   "cell_type": "code",
   "execution_count": 27,
   "id": "39e343a7",
   "metadata": {},
   "outputs": [
    {
     "data": {
      "image/png": "[encoded data removed]",
      "text/plain": [
       "<Figure size 1500x300 with 5 Axes>"
      ]
     },
     "metadata": {},
     "output_type": "display_data"
    }
   ],
   "source": [
    "def visualize_cnn_samples(dataloader, method, num_samples=5):\n",
    "    \"\"\"Visualise quelques échantillons du dataloader pour CNN\"\"\"\n",
    "    images, labels = next(iter(dataloader))\n",
    "    \n",
    "    num_samples = min(num_samples, len(images))\n",
    "    fig, axes = plt.subplots(1, num_samples, figsize=(15, 3))\n",
    "    \n",
    "    for i in range(num_samples):\n",
    "        image = images[i].numpy()  # (C, H, W)\n",
    "        \n",
    "        if method == 'combined':\n",
    "            # Image RGB\n",
    "            img = np.transpose(image, (1, 2, 0))\n",
    "            axes[i].imshow(img)#np.clip(img, 0, 1))\n",
    "        else:\n",
    "            # Image en niveaux de gris\n",
    "            axes[i].imshow(image[0], cmap='coolwarm', vmin=-1, vmax=1)\n",
    "        \n",
    "        axes[i].set_title(f\"Classe: {labels[i].item()}\")\n",
    "        axes[i].axis('off')\n",
    "    \n",
    "    plt.suptitle(f\"Échantillons DVSGesture convertis pour CNN (méthode: {method})\")\n",
    "    plt.tight_layout()\n",
    "    plt.show()\n",
    "visualize_cnn_samples(train_data_loader, method='combined', num_samples=5)"
   ]
  },
  {
   "cell_type": "code",
   "execution_count": 28,
   "id": "173d26b8",
   "metadata": {},
   "outputs": [],
   "source": [
    "net = Reactnet(num_classes=Targetnum, imagenet=False)"
   ]
  },
  {
   "cell_type": "code",
   "execution_count": 29,
   "id": "ae5f5a69",
   "metadata": {},
   "outputs": [],
   "source": [
    "net = nn.DataParallel(net).cuda()\n",
    "max_test_acc = 0.\n",
    "\n",
    "Test_top1 = []\n",
    "Test_topk = []\n",
    "Test_lossall = []\n",
    "Epoch_list = []\n",
    "Iteration_list = []"
   ]
  },
  {
   "cell_type": "code",
   "execution_count": 30,
   "id": "f71e710a",
   "metadata": {},
   "outputs": [],
   "source": [
    "all_parameters = net.parameters()\n",
    "weight_parameters = []\n",
    "for pname, p in net.named_parameters():\n",
    "    if (p.ndimension() == 4 or 'conv' in pname) and 'L_alpha' not in pname:\n",
    "        weight_parameters.append(p)\n",
    "weight_parameters_id = list(map(id, weight_parameters))\n",
    "other_parameters = list(filter(lambda p: id(p) not in weight_parameters_id, all_parameters))\n",
    "\n",
    "criterion_train = DistributionLoss()\n",
    "criterion_test = nn.CrossEntropyLoss()\n",
    "optimizer = torch.optim.Adam([\n",
    "    {'params' : other_parameters, 'weight_decay' : 0., 'initial_lr': Learning_rate},\n",
    "    {'params' : weight_parameters, 'weight_decay' : Weight_decay, 'initial_lr': Learning_rate}],\n",
    "    lr = Learning_rate)\n",
    "lr_scheduler = torch.optim.lr_scheduler.LambdaLR(optimizer, lambda step : (1.0-step/Max_epoch), last_epoch=Begin_epoch-1)"
   ]
  },
  {
   "cell_type": "code",
   "execution_count": 31,
   "id": "79d58a6d",
   "metadata": {},
   "outputs": [],
   "source": [
    "def test_model(net, max_test_acc, data_loader=test_data_loader, criterion=criterion_test, epoch=None, iteration=None, record=True):\n",
    "    net.eval()\n",
    "    test_samples = 0\n",
    "    test_loss = 0\n",
    "    test_acc_top1 = 0\n",
    "    test_acc_topk = 0\n",
    "    \n",
    "    with torch.no_grad():\n",
    "        for img, label in tqdm(data_loader):\n",
    "            img = img.cuda()\n",
    "            label = label.cuda()\n",
    "            \n",
    "            out_fr = net(img)\n",
    "            loss = criterion(out_fr, label)\n",
    "                \n",
    "            test_samples += label.numel()\n",
    "            test_loss += loss.item() * label.numel()\n",
    "\n",
    "            test_acc_top1 += (out_fr.argmax(1) == label).float().sum().item()\n",
    "            _, pred = out_fr.topk(Top_k, 1, True, True)\n",
    "            test_acc_topk += torch.eq(pred, label.view(-1,1)).float().sum().item()\n",
    "    \n",
    "    test_loss /= test_samples\n",
    "    test_acc_top1 /= test_samples\n",
    "    test_acc_topk /= test_samples\n",
    "\n",
    "    if test_acc_top1 >= max_test_acc:\n",
    "        max_test_acc = test_acc_top1\n",
    "        torch.save(net.state_dict(), Savemodel_path + f'max_acc{Name_suffix}.h5')\n",
    "        np.save(Savemodel_path + f'max_acc{Name_suffix}.npy', np.array(max_test_acc))\n",
    "\n",
    "    if record:\n",
    "        assert epoch is not None, \"epoch is None!\"\n",
    "        assert iteration is not None, \"iteration is None!\"\n",
    "        \n",
    "        Epoch_list.append(epoch+1)\n",
    "        Iteration_list.append(iteration+1)\n",
    "        Test_top1.append(test_acc_top1)\n",
    "        Test_topk.append(test_acc_topk)\n",
    "        Test_lossall.append(test_loss)\n",
    "\n",
    "        record_data = np.array([Epoch_list, Iteration_list, Test_top1, Test_topk, Test_lossall]).T\n",
    "        mdic = {f'Record_data':record_data, f'Record_meaning':['Epoch_list', 'Iteration_list', 'Test_top1', f'Test_top{Top_k}', 'Test_loss']}\n",
    "\n",
    "        savemat(Record_path + f'Test_{Begin_epoch}_{epoch}{Name_suffix}.mat',mdic)\n",
    "        if os.path.exists(Record_path + f'Test_{Begin_epoch}_{epoch-1}{Name_suffix}.mat'):\n",
    "            os.remove(Record_path + f'Test_{Begin_epoch}_{epoch-1}{Name_suffix}.mat')\n",
    "\n",
    "    return test_loss, test_acc_top1, test_acc_topk, max_test_acc"
   ]
  },
  {
   "cell_type": "code",
   "execution_count": 32,
   "id": "cd42d283",
   "metadata": {},
   "outputs": [],
   "source": [
    "def train_model(net, max_test_acc, epoch, data_loader=train_data_loader, optimizer=optimizer, criterion=criterion_test, record=True):\n",
    "    train_samples = 0\n",
    "    train_loss = 0\n",
    "    train_acc_top1 = 0\n",
    "    train_acc_topk = 0\n",
    "    \n",
    "    for i, (img, label) in enumerate(tqdm(data_loader)):\n",
    "        net.train()\n",
    "        img = img.cuda()\n",
    "        label = label.cuda()\n",
    "        \n",
    "        out_fr = net(img)\n",
    "        loss = criterion(out_fr, label)\n",
    "            \n",
    "        train_samples += label.numel()\n",
    "        train_loss += loss.item() * label.numel()\n",
    "\n",
    "        train_acc_top1 += (out_fr.argmax(1) == label).float().sum().item()\n",
    "        _, pred = out_fr.topk(Top_k, 1, True, True)\n",
    "        train_acc_topk += torch.eq(pred, label.view(-1,1)).float().sum().item()\n",
    "        \n",
    "        optimizer.zero_grad()\n",
    "        loss.backward()\n",
    "\n",
    "        parameters_list = []\n",
    "        for name, p in net.named_parameters():\n",
    "            if not 'fc' in name:\n",
    "                parameters_list.append(p)\n",
    "        adaptive_clip_grad(parameters_list, clip_factor=0.001)\n",
    "            \n",
    "        optimizer.step()\n",
    "\n",
    "        if Test_every_iteration is not None:\n",
    "            if (i+1) % Test_every_iteration == 0:\n",
    "                test_loss, test_acc_top1, test_acc_topk, max_test_acc = test_model(net, max_test_acc, epoch=epoch, iteration=i, record=record)\n",
    "                print(f'Test_loss: {test_loss:.4f}, Test_acc_top1: {test_acc_top1:.4f}, Test_acc_top{Top_k}: {test_acc_topk:.4f}, Max_test_acc: {max_test_acc:.4f}')\n",
    "    \n",
    "    train_loss /= train_samples\n",
    "    train_acc_top1 /= train_samples\n",
    "    train_acc_topk /= train_samples\n",
    "\n",
    "    test_loss, test_acc_top1, test_acc_topk, max_test_acc = test_model(net, max_test_acc, epoch=epoch, iteration=i, record=record)\n",
    "        \n",
    "    return train_loss, train_acc_top1, train_acc_topk, test_loss, test_acc_top1, test_acc_topk, max_test_acc"
   ]
  },
  {
   "cell_type": "code",
   "execution_count": 33,
   "id": "017a43a9",
   "metadata": {},
   "outputs": [
    {
     "name": "stderr",
     "output_type": "stream",
     "text": [
      "100%|██████████| 17/17 [00:06<00:00,  2.48it/s]\n",
      "100%|██████████| 5/5 [00:01<00:00,  3.80it/s]\n"
     ]
    },
    {
     "name": "stdout",
     "output_type": "stream",
     "text": [
      "epoch=0, train_acc_top1=0.1040, train_acc_top5=0.4540, train_loss=13.7157, test_top1=0.0909, test_top5=0.4621, test_loss=11.1958, max_test_acc=0.0909, total_time=8.8061, LR=0.00100000\n"
     ]
    },
    {
     "name": "stderr",
     "output_type": "stream",
     "text": [
      "100%|██████████| 17/17 [00:06<00:00,  2.72it/s]\n",
      "100%|██████████| 5/5 [00:00<00:00,  5.21it/s]\n"
     ]
    },
    {
     "name": "stdout",
     "output_type": "stream",
     "text": [
      "epoch=1, train_acc_top1=0.1077, train_acc_top5=0.4670, train_loss=8.8358, test_top1=0.0909, test_top5=0.4545, test_loss=7.3722, max_test_acc=0.0909, total_time=7.6088, LR=0.00099609\n"
     ]
    },
    {
     "name": "stderr",
     "output_type": "stream",
     "text": [
      "100%|██████████| 17/17 [00:06<00:00,  2.82it/s]\n",
      "100%|██████████| 5/5 [00:01<00:00,  4.30it/s]\n"
     ]
    },
    {
     "name": "stdout",
     "output_type": "stream",
     "text": [
      "epoch=2, train_acc_top1=0.1123, train_acc_top5=0.4754, train_loss=7.2576, test_top1=0.0606, test_top5=0.4583, test_loss=7.8166, max_test_acc=0.0909, total_time=7.2055, LR=0.00099219\n"
     ]
    },
    {
     "name": "stderr",
     "output_type": "stream",
     "text": [
      "100%|██████████| 17/17 [00:05<00:00,  2.95it/s]\n",
      "100%|██████████| 5/5 [00:00<00:00,  5.32it/s]\n"
     ]
    },
    {
     "name": "stdout",
     "output_type": "stream",
     "text": [
      "epoch=3, train_acc_top1=0.0956, train_acc_top5=0.4299, train_loss=5.8790, test_top1=0.1250, test_top5=0.5341, test_loss=4.8963, max_test_acc=0.1250, total_time=7.0613, LR=0.00098828\n"
     ]
    },
    {
     "name": "stderr",
     "output_type": "stream",
     "text": [
      "100%|██████████| 17/17 [00:05<00:00,  2.92it/s]\n",
      "100%|██████████| 5/5 [00:01<00:00,  3.74it/s]\n"
     ]
    },
    {
     "name": "stdout",
     "output_type": "stream",
     "text": [
      "epoch=4, train_acc_top1=0.1096, train_acc_top5=0.5506, train_loss=5.4948, test_top1=0.0909, test_top5=0.4545, test_loss=10.3232, max_test_acc=0.1250, total_time=7.1803, LR=0.00098438\n"
     ]
    },
    {
     "name": "stderr",
     "output_type": "stream",
     "text": [
      "100%|██████████| 17/17 [00:06<00:00,  2.83it/s]\n",
      "100%|██████████| 5/5 [00:01<00:00,  4.68it/s]\n"
     ]
    },
    {
     "name": "stdout",
     "output_type": "stream",
     "text": [
      "epoch=5, train_acc_top1=0.0975, train_acc_top5=0.4745, train_loss=4.9776, test_top1=0.0758, test_top5=0.5303, test_loss=3.5394, max_test_acc=0.1250, total_time=7.0852, LR=0.00098047\n"
     ]
    },
    {
     "name": "stderr",
     "output_type": "stream",
     "text": [
      "100%|██████████| 17/17 [00:05<00:00,  2.95it/s]\n",
      "100%|██████████| 5/5 [00:01<00:00,  3.41it/s]\n"
     ]
    },
    {
     "name": "stdout",
     "output_type": "stream",
     "text": [
      "epoch=6, train_acc_top1=0.0966, train_acc_top5=0.5320, train_loss=4.3784, test_top1=0.1705, test_top5=0.6515, test_loss=3.0714, max_test_acc=0.1705, total_time=7.5923, LR=0.00097656\n"
     ]
    },
    {
     "name": "stderr",
     "output_type": "stream",
     "text": [
      "100%|██████████| 17/17 [00:06<00:00,  2.70it/s]\n",
      "100%|██████████| 5/5 [00:01<00:00,  4.71it/s]\n"
     ]
    },
    {
     "name": "stdout",
     "output_type": "stream",
     "text": [
      "epoch=7, train_acc_top1=0.1532, train_acc_top5=0.6035, train_loss=2.9345, test_top1=0.1023, test_top5=0.7348, test_loss=2.7371, max_test_acc=0.1705, total_time=7.3778, LR=0.00097266\n"
     ]
    },
    {
     "name": "stderr",
     "output_type": "stream",
     "text": [
      "100%|██████████| 17/17 [00:06<00:00,  2.70it/s]\n",
      "100%|██████████| 5/5 [00:01<00:00,  3.81it/s]\n"
     ]
    },
    {
     "name": "stdout",
     "output_type": "stream",
     "text": [
      "epoch=8, train_acc_top1=0.1411, train_acc_top5=0.5970, train_loss=3.7277, test_top1=0.1515, test_top5=0.6136, test_loss=2.6414, max_test_acc=0.1705, total_time=7.6286, LR=0.00096875\n"
     ]
    },
    {
     "name": "stderr",
     "output_type": "stream",
     "text": [
      "100%|██████████| 17/17 [00:06<00:00,  2.52it/s]\n",
      "100%|██████████| 5/5 [00:01<00:00,  3.18it/s]\n"
     ]
    },
    {
     "name": "stdout",
     "output_type": "stream",
     "text": [
      "epoch=9, train_acc_top1=0.0984, train_acc_top5=0.5079, train_loss=4.0369, test_top1=0.0909, test_top5=0.4621, test_loss=2.9141, max_test_acc=0.1705, total_time=8.3341, LR=0.00096484\n"
     ]
    },
    {
     "name": "stderr",
     "output_type": "stream",
     "text": [
      "100%|██████████| 17/17 [00:06<00:00,  2.50it/s]\n",
      "100%|██████████| 5/5 [00:01<00:00,  3.35it/s]\n"
     ]
    },
    {
     "name": "stdout",
     "output_type": "stream",
     "text": [
      "epoch=10, train_acc_top1=0.0919, train_acc_top5=0.5125, train_loss=3.3631, test_top1=0.1667, test_top5=0.6098, test_loss=2.5275, max_test_acc=0.1705, total_time=8.3164, LR=0.00096094\n"
     ]
    },
    {
     "name": "stderr",
     "output_type": "stream",
     "text": [
      "100%|██████████| 17/17 [00:06<00:00,  2.49it/s]\n",
      "100%|██████████| 5/5 [00:01<00:00,  4.00it/s]\n"
     ]
    },
    {
     "name": "stdout",
     "output_type": "stream",
     "text": [
      "epoch=11, train_acc_top1=0.1263, train_acc_top5=0.5812, train_loss=3.0893, test_top1=0.0909, test_top5=0.4773, test_loss=5.8341, max_test_acc=0.1705, total_time=8.0921, LR=0.00095703\n"
     ]
    },
    {
     "name": "stderr",
     "output_type": "stream",
     "text": [
      "100%|██████████| 17/17 [00:07<00:00,  2.40it/s]\n",
      "100%|██████████| 5/5 [00:01<00:00,  4.09it/s]\n"
     ]
    },
    {
     "name": "stdout",
     "output_type": "stream",
     "text": [
      "epoch=12, train_acc_top1=0.1086, train_acc_top5=0.5060, train_loss=3.1578, test_top1=0.1591, test_top5=0.5947, test_loss=2.4121, max_test_acc=0.1705, total_time=8.3283, LR=0.00095312\n"
     ]
    },
    {
     "name": "stderr",
     "output_type": "stream",
     "text": [
      "100%|██████████| 17/17 [00:06<00:00,  2.58it/s]\n",
      "100%|██████████| 5/5 [00:01<00:00,  3.46it/s]\n"
     ]
    },
    {
     "name": "stdout",
     "output_type": "stream",
     "text": [
      "epoch=13, train_acc_top1=0.1031, train_acc_top5=0.5237, train_loss=2.9608, test_top1=0.0909, test_top5=0.5152, test_loss=3.0253, max_test_acc=0.1705, total_time=8.0487, LR=0.00094922\n"
     ]
    },
    {
     "name": "stderr",
     "output_type": "stream",
     "text": [
      "100%|██████████| 17/17 [00:06<00:00,  2.56it/s]\n",
      "100%|██████████| 5/5 [00:01<00:00,  2.95it/s]\n"
     ]
    },
    {
     "name": "stdout",
     "output_type": "stream",
     "text": [
      "epoch=14, train_acc_top1=0.1337, train_acc_top5=0.6175, train_loss=2.5122, test_top1=0.0720, test_top5=0.7121, test_loss=2.6019, max_test_acc=0.1705, total_time=8.3411, LR=0.00094531\n"
     ]
    },
    {
     "name": "stderr",
     "output_type": "stream",
     "text": [
      "100%|██████████| 17/17 [00:06<00:00,  2.46it/s]\n",
      "100%|██████████| 5/5 [00:01<00:00,  3.19it/s]\n"
     ]
    },
    {
     "name": "stdout",
     "output_type": "stream",
     "text": [
      "epoch=15, train_acc_top1=0.1328, train_acc_top5=0.5803, train_loss=3.4510, test_top1=0.2727, test_top5=0.7614, test_loss=2.1109, max_test_acc=0.2727, total_time=9.1467, LR=0.00094141\n"
     ]
    },
    {
     "name": "stderr",
     "output_type": "stream",
     "text": [
      "100%|██████████| 17/17 [00:06<00:00,  2.44it/s]\n",
      "100%|██████████| 5/5 [00:01<00:00,  3.73it/s]\n"
     ]
    },
    {
     "name": "stdout",
     "output_type": "stream",
     "text": [
      "epoch=16, train_acc_top1=0.1718, train_acc_top5=0.6351, train_loss=2.8510, test_top1=0.1780, test_top5=0.6553, test_loss=2.4488, max_test_acc=0.2727, total_time=8.3365, LR=0.00093750\n"
     ]
    },
    {
     "name": "stderr",
     "output_type": "stream",
     "text": [
      "100%|██████████| 17/17 [00:07<00:00,  2.35it/s]\n",
      "100%|██████████| 5/5 [00:01<00:00,  3.08it/s]\n"
     ]
    },
    {
     "name": "stdout",
     "output_type": "stream",
     "text": [
      "epoch=17, train_acc_top1=0.1959, train_acc_top5=0.7205, train_loss=2.3116, test_top1=0.2273, test_top5=0.7197, test_loss=2.2072, max_test_acc=0.2727, total_time=8.8678, LR=0.00093359\n"
     ]
    },
    {
     "name": "stderr",
     "output_type": "stream",
     "text": [
      "100%|██████████| 17/17 [00:07<00:00,  2.32it/s]\n",
      "100%|██████████| 5/5 [00:01<00:00,  3.77it/s]\n"
     ]
    },
    {
     "name": "stdout",
     "output_type": "stream",
     "text": [
      "epoch=18, train_acc_top1=0.1968, train_acc_top5=0.7103, train_loss=2.2589, test_top1=0.2955, test_top5=0.7955, test_loss=1.9651, max_test_acc=0.2955, total_time=9.0360, LR=0.00092969\n"
     ]
    },
    {
     "name": "stderr",
     "output_type": "stream",
     "text": [
      "100%|██████████| 17/17 [00:07<00:00,  2.40it/s]\n",
      "100%|██████████| 5/5 [00:01<00:00,  3.47it/s]\n"
     ]
    },
    {
     "name": "stdout",
     "output_type": "stream",
     "text": [
      "epoch=19, train_acc_top1=0.2813, train_acc_top5=0.7902, train_loss=1.9789, test_top1=0.3106, test_top5=0.9015, test_loss=1.6654, max_test_acc=0.3106, total_time=9.1550, LR=0.00092578\n"
     ]
    },
    {
     "name": "stderr",
     "output_type": "stream",
     "text": [
      "100%|██████████| 17/17 [00:06<00:00,  2.45it/s]\n",
      "100%|██████████| 5/5 [00:01<00:00,  3.36it/s]\n"
     ]
    },
    {
     "name": "stdout",
     "output_type": "stream",
     "text": [
      "epoch=20, train_acc_top1=0.2572, train_acc_top5=0.8097, train_loss=2.0834, test_top1=0.2614, test_top5=0.7955, test_loss=2.1870, max_test_acc=0.3106, total_time=8.4482, LR=0.00092188\n"
     ]
    },
    {
     "name": "stderr",
     "output_type": "stream",
     "text": [
      "100%|██████████| 17/17 [00:07<00:00,  2.35it/s]\n",
      "100%|██████████| 5/5 [00:01<00:00,  3.11it/s]\n"
     ]
    },
    {
     "name": "stdout",
     "output_type": "stream",
     "text": [
      "epoch=21, train_acc_top1=0.1922, train_acc_top5=0.6732, train_loss=2.6657, test_top1=0.2727, test_top5=0.8409, test_loss=2.1176, max_test_acc=0.3106, total_time=8.8611, LR=0.00091797\n"
     ]
    },
    {
     "name": "stderr",
     "output_type": "stream",
     "text": [
      "100%|██████████| 17/17 [00:07<00:00,  2.41it/s]\n",
      "100%|██████████| 5/5 [00:01<00:00,  4.31it/s]\n"
     ]
    },
    {
     "name": "stdout",
     "output_type": "stream",
     "text": [
      "epoch=22, train_acc_top1=0.2618, train_acc_top5=0.7400, train_loss=2.3733, test_top1=0.3144, test_top5=0.6818, test_loss=2.1401, max_test_acc=0.3144, total_time=8.7341, LR=0.00091406\n"
     ]
    },
    {
     "name": "stderr",
     "output_type": "stream",
     "text": [
      "100%|██████████| 17/17 [00:06<00:00,  2.62it/s]\n",
      "100%|██████████| 5/5 [00:01<00:00,  3.23it/s]\n"
     ]
    },
    {
     "name": "stdout",
     "output_type": "stream",
     "text": [
      "epoch=23, train_acc_top1=0.2312, train_acc_top5=0.6825, train_loss=2.2561, test_top1=0.1061, test_top5=0.5530, test_loss=4.2913, max_test_acc=0.3144, total_time=8.0452, LR=0.00091016\n"
     ]
    },
    {
     "name": "stderr",
     "output_type": "stream",
     "text": [
      "100%|██████████| 17/17 [00:06<00:00,  2.76it/s]\n",
      "100%|██████████| 5/5 [00:01<00:00,  4.22it/s]\n"
     ]
    },
    {
     "name": "stdout",
     "output_type": "stream",
     "text": [
      "epoch=24, train_acc_top1=0.2758, train_acc_top5=0.7567, train_loss=2.2305, test_top1=0.3712, test_top5=0.9205, test_loss=1.5376, max_test_acc=0.3712, total_time=8.2346, LR=0.00090625\n"
     ]
    },
    {
     "name": "stderr",
     "output_type": "stream",
     "text": [
      "100%|██████████| 17/17 [00:06<00:00,  2.68it/s]\n",
      "100%|██████████| 5/5 [00:01<00:00,  4.71it/s]\n"
     ]
    },
    {
     "name": "stdout",
     "output_type": "stream",
     "text": [
      "epoch=25, train_acc_top1=0.3435, train_acc_top5=0.8663, train_loss=1.8348, test_top1=0.3220, test_top5=0.8447, test_loss=1.7983, max_test_acc=0.3712, total_time=7.4266, LR=0.00090234\n"
     ]
    },
    {
     "name": "stderr",
     "output_type": "stream",
     "text": [
      "100%|██████████| 17/17 [00:05<00:00,  2.87it/s]\n",
      "100%|██████████| 5/5 [00:01<00:00,  3.96it/s]\n"
     ]
    },
    {
     "name": "stdout",
     "output_type": "stream",
     "text": [
      "epoch=26, train_acc_top1=0.3454, train_acc_top5=0.8663, train_loss=1.7877, test_top1=0.5076, test_top5=0.9697, test_loss=1.2083, max_test_acc=0.5076, total_time=7.5837, LR=0.00089844\n"
     ]
    },
    {
     "name": "stderr",
     "output_type": "stream",
     "text": [
      "100%|██████████| 17/17 [00:06<00:00,  2.76it/s]\n",
      "100%|██████████| 5/5 [00:01<00:00,  3.68it/s]\n"
     ]
    },
    {
     "name": "stdout",
     "output_type": "stream",
     "text": [
      "epoch=27, train_acc_top1=0.4280, train_acc_top5=0.8886, train_loss=1.9268, test_top1=0.3220, test_top5=0.8333, test_loss=2.0589, max_test_acc=0.5076, total_time=7.5276, LR=0.00089453\n"
     ]
    },
    {
     "name": "stderr",
     "output_type": "stream",
     "text": [
      "100%|██████████| 17/17 [00:06<00:00,  2.77it/s]\n",
      "100%|██████████| 5/5 [00:01<00:00,  4.71it/s]\n"
     ]
    },
    {
     "name": "stdout",
     "output_type": "stream",
     "text": [
      "epoch=28, train_acc_top1=0.4420, train_acc_top5=0.9211, train_loss=1.5306, test_top1=0.5341, test_top5=0.9432, test_loss=1.2698, max_test_acc=0.5341, total_time=7.7320, LR=0.00089063\n"
     ]
    },
    {
     "name": "stderr",
     "output_type": "stream",
     "text": [
      "100%|██████████| 17/17 [00:05<00:00,  2.92it/s]\n",
      "100%|██████████| 5/5 [00:01<00:00,  4.14it/s]\n"
     ]
    },
    {
     "name": "stdout",
     "output_type": "stream",
     "text": [
      "epoch=29, train_acc_top1=0.4605, train_acc_top5=0.9378, train_loss=1.4291, test_top1=0.5114, test_top5=0.9015, test_loss=1.4650, max_test_acc=0.5341, total_time=7.0432, LR=0.00088672\n"
     ]
    },
    {
     "name": "stderr",
     "output_type": "stream",
     "text": [
      "100%|██████████| 17/17 [00:07<00:00,  2.20it/s]\n",
      "100%|██████████| 5/5 [00:01<00:00,  3.72it/s]\n"
     ]
    },
    {
     "name": "stdout",
     "output_type": "stream",
     "text": [
      "epoch=30, train_acc_top1=0.4383, train_acc_top5=0.9099, train_loss=1.5068, test_top1=0.5455, test_top5=1.0000, test_loss=1.0729, max_test_acc=0.5455, total_time=9.7253, LR=0.00088281\n"
     ]
    },
    {
     "name": "stderr",
     "output_type": "stream",
     "text": [
      "100%|██████████| 17/17 [00:07<00:00,  2.37it/s]\n",
      "100%|██████████| 5/5 [00:01<00:00,  3.10it/s]\n"
     ]
    },
    {
     "name": "stdout",
     "output_type": "stream",
     "text": [
      "epoch=31, train_acc_top1=0.5088, train_acc_top5=0.9749, train_loss=1.2228, test_top1=0.5985, test_top5=0.9735, test_loss=1.0267, max_test_acc=0.5985, total_time=9.4476, LR=0.00087891\n"
     ]
    },
    {
     "name": "stderr",
     "output_type": "stream",
     "text": [
      "100%|██████████| 17/17 [00:07<00:00,  2.38it/s]\n",
      "100%|██████████| 5/5 [00:01<00:00,  3.85it/s]\n"
     ]
    },
    {
     "name": "stdout",
     "output_type": "stream",
     "text": [
      "epoch=32, train_acc_top1=0.4550, train_acc_top5=0.8635, train_loss=1.9889, test_top1=0.3523, test_top5=0.8712, test_loss=1.7173, max_test_acc=0.5985, total_time=8.4680, LR=0.00087500\n"
     ]
    },
    {
     "name": "stderr",
     "output_type": "stream",
     "text": [
      "100%|██████████| 17/17 [00:06<00:00,  2.48it/s]\n",
      "100%|██████████| 5/5 [00:01<00:00,  3.08it/s]\n"
     ]
    },
    {
     "name": "stdout",
     "output_type": "stream",
     "text": [
      "epoch=33, train_acc_top1=0.4095, train_acc_top5=0.9229, train_loss=1.4688, test_top1=0.5871, test_top5=0.9773, test_loss=1.0894, max_test_acc=0.5985, total_time=8.4997, LR=0.00087109\n"
     ]
    },
    {
     "name": "stderr",
     "output_type": "stream",
     "text": [
      "100%|██████████| 17/17 [00:07<00:00,  2.30it/s]\n",
      "100%|██████████| 5/5 [00:01<00:00,  3.15it/s]\n"
     ]
    },
    {
     "name": "stdout",
     "output_type": "stream",
     "text": [
      "epoch=34, train_acc_top1=0.4940, train_acc_top5=0.9239, train_loss=1.3966, test_top1=0.5417, test_top5=0.9659, test_loss=1.0649, max_test_acc=0.5985, total_time=8.9950, LR=0.00086719\n"
     ]
    },
    {
     "name": "stderr",
     "output_type": "stream",
     "text": [
      "100%|██████████| 17/17 [00:07<00:00,  2.37it/s]\n",
      "100%|██████████| 5/5 [00:01<00:00,  3.11it/s]\n"
     ]
    },
    {
     "name": "stdout",
     "output_type": "stream",
     "text": [
      "epoch=35, train_acc_top1=0.6045, train_acc_top5=0.9870, train_loss=1.0135, test_top1=0.6326, test_top5=0.9735, test_loss=0.9780, max_test_acc=0.6326, total_time=9.4470, LR=0.00086328\n"
     ]
    },
    {
     "name": "stderr",
     "output_type": "stream",
     "text": [
      "100%|██████████| 17/17 [00:06<00:00,  2.73it/s]\n",
      "100%|██████████| 5/5 [00:01<00:00,  4.49it/s]\n"
     ]
    },
    {
     "name": "stdout",
     "output_type": "stream",
     "text": [
      "epoch=36, train_acc_top1=0.6184, train_acc_top5=0.9861, train_loss=0.9336, test_top1=0.5455, test_top5=0.9621, test_loss=1.1823, max_test_acc=0.6326, total_time=7.3642, LR=0.00085938\n"
     ]
    },
    {
     "name": "stderr",
     "output_type": "stream",
     "text": [
      "100%|██████████| 17/17 [00:05<00:00,  2.89it/s]\n",
      "100%|██████████| 5/5 [00:01<00:00,  4.56it/s]\n"
     ]
    },
    {
     "name": "stdout",
     "output_type": "stream",
     "text": [
      "epoch=37, train_acc_top1=0.5905, train_acc_top5=0.9879, train_loss=0.9809, test_top1=0.6402, test_top5=0.9583, test_loss=1.0260, max_test_acc=0.6402, total_time=8.2376, LR=0.00085547\n"
     ]
    },
    {
     "name": "stderr",
     "output_type": "stream",
     "text": [
      "100%|██████████| 17/17 [00:05<00:00,  2.92it/s]\n",
      "100%|██████████| 5/5 [00:01<00:00,  4.96it/s]\n"
     ]
    },
    {
     "name": "stdout",
     "output_type": "stream",
     "text": [
      "epoch=38, train_acc_top1=0.6741, train_acc_top5=0.9907, train_loss=0.7711, test_top1=0.7121, test_top5=0.9848, test_loss=0.7783, max_test_acc=0.7121, total_time=7.3346, LR=0.00085156\n"
     ]
    },
    {
     "name": "stderr",
     "output_type": "stream",
     "text": [
      "100%|██████████| 17/17 [00:05<00:00,  2.87it/s]\n",
      "100%|██████████| 5/5 [00:01<00:00,  4.45it/s]\n"
     ]
    },
    {
     "name": "stdout",
     "output_type": "stream",
     "text": [
      "epoch=39, train_acc_top1=0.6351, train_acc_top5=0.9786, train_loss=1.0518, test_top1=0.1667, test_top5=0.5644, test_loss=8.8431, max_test_acc=0.7121, total_time=7.0572, LR=0.00084766\n"
     ]
    },
    {
     "name": "stderr",
     "output_type": "stream",
     "text": [
      "100%|██████████| 17/17 [00:05<00:00,  2.84it/s]\n",
      "100%|██████████| 5/5 [00:01<00:00,  3.99it/s]\n"
     ]
    },
    {
     "name": "stdout",
     "output_type": "stream",
     "text": [
      "epoch=40, train_acc_top1=0.4661, train_acc_top5=0.8635, train_loss=2.4179, test_top1=0.5114, test_top5=0.9053, test_loss=1.4285, max_test_acc=0.7121, total_time=7.2540, LR=0.00084375\n"
     ]
    },
    {
     "name": "stderr",
     "output_type": "stream",
     "text": [
      "100%|██████████| 17/17 [00:06<00:00,  2.66it/s]\n",
      "100%|██████████| 5/5 [00:01<00:00,  3.17it/s]\n"
     ]
    },
    {
     "name": "stdout",
     "output_type": "stream",
     "text": [
      "epoch=41, train_acc_top1=0.5283, train_acc_top5=0.9499, train_loss=1.2418, test_top1=0.5833, test_top5=0.9659, test_loss=1.0126, max_test_acc=0.7121, total_time=7.9861, LR=0.00083984\n"
     ]
    },
    {
     "name": "stderr",
     "output_type": "stream",
     "text": [
      "100%|██████████| 17/17 [00:06<00:00,  2.73it/s]\n",
      "100%|██████████| 5/5 [00:01<00:00,  3.92it/s]\n"
     ]
    },
    {
     "name": "stdout",
     "output_type": "stream",
     "text": [
      "epoch=42, train_acc_top1=0.6527, train_acc_top5=0.9972, train_loss=0.8527, test_top1=0.7008, test_top5=0.9886, test_loss=0.7129, max_test_acc=0.7121, total_time=7.5164, LR=0.00083594\n"
     ]
    },
    {
     "name": "stderr",
     "output_type": "stream",
     "text": [
      "100%|██████████| 17/17 [00:06<00:00,  2.70it/s]\n",
      "100%|██████████| 5/5 [00:01<00:00,  3.21it/s]\n"
     ]
    },
    {
     "name": "stdout",
     "output_type": "stream",
     "text": [
      "epoch=43, train_acc_top1=0.6193, train_acc_top5=0.9861, train_loss=0.9415, test_top1=0.5833, test_top5=0.9848, test_loss=1.0529, max_test_acc=0.7121, total_time=7.8853, LR=0.00083203\n"
     ]
    },
    {
     "name": "stderr",
     "output_type": "stream",
     "text": [
      "100%|██████████| 17/17 [00:05<00:00,  2.98it/s]\n",
      "100%|██████████| 5/5 [00:01<00:00,  4.83it/s]\n"
     ]
    },
    {
     "name": "stdout",
     "output_type": "stream",
     "text": [
      "epoch=44, train_acc_top1=0.6843, train_acc_top5=0.9889, train_loss=0.7994, test_top1=0.6780, test_top5=0.9735, test_loss=0.8491, max_test_acc=0.7121, total_time=6.7607, LR=0.00082812\n"
     ]
    },
    {
     "name": "stderr",
     "output_type": "stream",
     "text": [
      "100%|██████████| 17/17 [00:06<00:00,  2.74it/s]\n",
      "100%|██████████| 5/5 [00:01<00:00,  3.88it/s]\n"
     ]
    },
    {
     "name": "stdout",
     "output_type": "stream",
     "text": [
      "epoch=45, train_acc_top1=0.6555, train_acc_top5=0.9898, train_loss=0.8349, test_top1=0.6742, test_top5=0.9848, test_loss=0.8174, max_test_acc=0.7121, total_time=7.4990, LR=0.00082422\n"
     ]
    },
    {
     "name": "stderr",
     "output_type": "stream",
     "text": [
      "100%|██████████| 17/17 [00:06<00:00,  2.58it/s]\n",
      "100%|██████████| 5/5 [00:00<00:00,  5.06it/s]\n"
     ]
    },
    {
     "name": "stdout",
     "output_type": "stream",
     "text": [
      "epoch=46, train_acc_top1=0.7344, train_acc_top5=0.9954, train_loss=0.6900, test_top1=0.5000, test_top5=0.9356, test_loss=1.3461, max_test_acc=0.7121, total_time=7.5910, LR=0.00082031\n"
     ]
    },
    {
     "name": "stderr",
     "output_type": "stream",
     "text": [
      "100%|██████████| 17/17 [00:05<00:00,  2.94it/s]\n",
      "100%|██████████| 5/5 [00:01<00:00,  4.30it/s]\n"
     ]
    },
    {
     "name": "stdout",
     "output_type": "stream",
     "text": [
      "epoch=47, train_acc_top1=0.5961, train_acc_top5=0.9759, train_loss=1.0892, test_top1=0.6970, test_top5=0.9735, test_loss=0.9159, max_test_acc=0.7121, total_time=6.9621, LR=0.00081641\n"
     ]
    },
    {
     "name": "stderr",
     "output_type": "stream",
     "text": [
      "100%|██████████| 17/17 [00:05<00:00,  2.92it/s]\n",
      "100%|██████████| 5/5 [00:00<00:00,  5.21it/s]\n"
     ]
    },
    {
     "name": "stdout",
     "output_type": "stream",
     "text": [
      "epoch=48, train_acc_top1=0.7270, train_acc_top5=0.9944, train_loss=0.6880, test_top1=0.7008, test_top5=0.9773, test_loss=0.8064, max_test_acc=0.7121, total_time=6.7950, LR=0.00081250\n"
     ]
    },
    {
     "name": "stderr",
     "output_type": "stream",
     "text": [
      "100%|██████████| 17/17 [00:05<00:00,  2.96it/s]\n",
      "100%|██████████| 5/5 [00:00<00:00,  5.48it/s]\n"
     ]
    },
    {
     "name": "stdout",
     "output_type": "stream",
     "text": [
      "epoch=49, train_acc_top1=0.7289, train_acc_top5=0.9963, train_loss=0.7136, test_top1=0.6364, test_top5=1.0000, test_loss=0.9342, max_test_acc=0.7121, total_time=6.6773, LR=0.00080859\n"
     ]
    },
    {
     "name": "stderr",
     "output_type": "stream",
     "text": [
      "100%|██████████| 17/17 [00:05<00:00,  2.97it/s]\n",
      "100%|██████████| 5/5 [00:00<00:00,  5.33it/s]\n"
     ]
    },
    {
     "name": "stdout",
     "output_type": "stream",
     "text": [
      "epoch=50, train_acc_top1=0.7326, train_acc_top5=0.9954, train_loss=0.6732, test_top1=0.7121, test_top5=0.9886, test_loss=0.7267, max_test_acc=0.7121, total_time=7.0541, LR=0.00080469\n"
     ]
    },
    {
     "name": "stderr",
     "output_type": "stream",
     "text": [
      "100%|██████████| 17/17 [00:06<00:00,  2.79it/s]\n",
      "100%|██████████| 5/5 [00:01<00:00,  3.93it/s]\n"
     ]
    },
    {
     "name": "stdout",
     "output_type": "stream",
     "text": [
      "epoch=51, train_acc_top1=0.6630, train_acc_top5=0.9833, train_loss=0.9166, test_top1=0.6705, test_top5=0.9848, test_loss=0.8157, max_test_acc=0.7121, total_time=7.3853, LR=0.00080078\n"
     ]
    },
    {
     "name": "stderr",
     "output_type": "stream",
     "text": [
      "100%|██████████| 17/17 [00:06<00:00,  2.66it/s]\n",
      "100%|██████████| 5/5 [00:01<00:00,  3.20it/s]\n"
     ]
    },
    {
     "name": "stdout",
     "output_type": "stream",
     "text": [
      "epoch=52, train_acc_top1=0.6982, train_acc_top5=0.9981, train_loss=0.7375, test_top1=0.7424, test_top5=0.9962, test_loss=0.7211, max_test_acc=0.7424, total_time=10.1825, LR=0.00079688\n"
     ]
    },
    {
     "name": "stderr",
     "output_type": "stream",
     "text": [
      "100%|██████████| 17/17 [00:07<00:00,  2.34it/s]\n",
      "100%|██████████| 5/5 [00:01<00:00,  3.12it/s]\n"
     ]
    },
    {
     "name": "stdout",
     "output_type": "stream",
     "text": [
      "epoch=53, train_acc_top1=0.7809, train_acc_top5=0.9963, train_loss=0.5778, test_top1=0.7008, test_top5=0.9811, test_loss=0.8016, max_test_acc=0.7424, total_time=8.8918, LR=0.00079297\n"
     ]
    },
    {
     "name": "stderr",
     "output_type": "stream",
     "text": [
      "100%|██████████| 17/17 [00:06<00:00,  2.61it/s]\n",
      "100%|██████████| 5/5 [00:01<00:00,  4.49it/s]\n"
     ]
    },
    {
     "name": "stdout",
     "output_type": "stream",
     "text": [
      "epoch=54, train_acc_top1=0.8022, train_acc_top5=0.9991, train_loss=0.5082, test_top1=0.7614, test_top5=0.9962, test_loss=0.6056, max_test_acc=0.7614, total_time=8.2903, LR=0.00078906\n"
     ]
    },
    {
     "name": "stderr",
     "output_type": "stream",
     "text": [
      "100%|██████████| 17/17 [00:07<00:00,  2.34it/s]\n",
      "100%|██████████| 5/5 [00:01<00:00,  2.89it/s]\n"
     ]
    },
    {
     "name": "stdout",
     "output_type": "stream",
     "text": [
      "epoch=55, train_acc_top1=0.8329, train_acc_top5=0.9981, train_loss=0.4659, test_top1=0.7917, test_top5=1.0000, test_loss=0.5355, max_test_acc=0.7917, total_time=9.6979, LR=0.00078516\n"
     ]
    },
    {
     "name": "stderr",
     "output_type": "stream",
     "text": [
      "100%|██████████| 17/17 [00:07<00:00,  2.22it/s]\n",
      "100%|██████████| 5/5 [00:01<00:00,  3.08it/s]\n"
     ]
    },
    {
     "name": "stdout",
     "output_type": "stream",
     "text": [
      "epoch=56, train_acc_top1=0.8617, train_acc_top5=0.9981, train_loss=0.4031, test_top1=0.8068, test_top5=1.0000, test_loss=0.5066, max_test_acc=0.8068, total_time=9.7900, LR=0.00078125\n"
     ]
    },
    {
     "name": "stderr",
     "output_type": "stream",
     "text": [
      "100%|██████████| 17/17 [00:06<00:00,  2.76it/s]\n",
      "100%|██████████| 5/5 [00:01<00:00,  4.82it/s]\n"
     ]
    },
    {
     "name": "stdout",
     "output_type": "stream",
     "text": [
      "epoch=57, train_acc_top1=0.8747, train_acc_top5=0.9991, train_loss=0.3679, test_top1=0.7765, test_top5=1.0000, test_loss=0.5453, max_test_acc=0.8068, total_time=7.2195, LR=0.00077734\n"
     ]
    },
    {
     "name": "stderr",
     "output_type": "stream",
     "text": [
      "100%|██████████| 17/17 [00:06<00:00,  2.74it/s]\n",
      "100%|██████████| 5/5 [00:01<00:00,  3.35it/s]\n"
     ]
    },
    {
     "name": "stdout",
     "output_type": "stream",
     "text": [
      "epoch=58, train_acc_top1=0.8097, train_acc_top5=0.9935, train_loss=0.5145, test_top1=0.7652, test_top5=0.9924, test_loss=0.6327, max_test_acc=0.8068, total_time=7.7092, LR=0.00077344\n"
     ]
    },
    {
     "name": "stderr",
     "output_type": "stream",
     "text": [
      "100%|██████████| 17/17 [00:06<00:00,  2.45it/s]\n",
      "100%|██████████| 5/5 [00:01<00:00,  3.20it/s]\n"
     ]
    },
    {
     "name": "stdout",
     "output_type": "stream",
     "text": [
      "epoch=59, train_acc_top1=0.8375, train_acc_top5=0.9972, train_loss=0.4215, test_top1=0.8030, test_top5=1.0000, test_loss=0.5797, max_test_acc=0.8068, total_time=8.5339, LR=0.00076953\n"
     ]
    },
    {
     "name": "stderr",
     "output_type": "stream",
     "text": [
      "100%|██████████| 17/17 [00:06<00:00,  2.72it/s]\n",
      "100%|██████████| 5/5 [00:01<00:00,  3.43it/s]\n"
     ]
    },
    {
     "name": "stdout",
     "output_type": "stream",
     "text": [
      "epoch=60, train_acc_top1=0.8895, train_acc_top5=0.9972, train_loss=0.3454, test_top1=0.7765, test_top5=0.9924, test_loss=0.5621, max_test_acc=0.8068, total_time=7.7231, LR=0.00076563\n"
     ]
    },
    {
     "name": "stderr",
     "output_type": "stream",
     "text": [
      "100%|██████████| 17/17 [00:06<00:00,  2.61it/s]\n",
      "100%|██████████| 5/5 [00:01<00:00,  4.45it/s]\n"
     ]
    },
    {
     "name": "stdout",
     "output_type": "stream",
     "text": [
      "epoch=61, train_acc_top1=0.8802, train_acc_top5=0.9991, train_loss=0.3420, test_top1=0.8144, test_top5=1.0000, test_loss=0.5003, max_test_acc=0.8144, total_time=8.1042, LR=0.00076172\n"
     ]
    },
    {
     "name": "stderr",
     "output_type": "stream",
     "text": [
      "100%|██████████| 17/17 [00:06<00:00,  2.59it/s]\n",
      "100%|██████████| 5/5 [00:01<00:00,  3.94it/s]\n"
     ]
    },
    {
     "name": "stdout",
     "output_type": "stream",
     "text": [
      "epoch=62, train_acc_top1=0.8904, train_acc_top5=0.9981, train_loss=0.3247, test_top1=0.6932, test_top5=0.9848, test_loss=1.0202, max_test_acc=0.8144, total_time=7.8535, LR=0.00075781\n"
     ]
    },
    {
     "name": "stderr",
     "output_type": "stream",
     "text": [
      "100%|██████████| 17/17 [00:06<00:00,  2.67it/s]\n",
      "100%|██████████| 5/5 [00:01<00:00,  3.23it/s]\n"
     ]
    },
    {
     "name": "stdout",
     "output_type": "stream",
     "text": [
      "epoch=63, train_acc_top1=0.8709, train_acc_top5=1.0000, train_loss=0.3601, test_top1=0.8295, test_top5=1.0000, test_loss=0.5050, max_test_acc=0.8295, total_time=8.3204, LR=0.00075391\n"
     ]
    },
    {
     "name": "stderr",
     "output_type": "stream",
     "text": [
      "100%|██████████| 17/17 [00:06<00:00,  2.73it/s]\n",
      "100%|██████████| 5/5 [00:01<00:00,  3.25it/s]\n"
     ]
    },
    {
     "name": "stdout",
     "output_type": "stream",
     "text": [
      "epoch=64, train_acc_top1=0.8988, train_acc_top5=0.9991, train_loss=0.3014, test_top1=0.7727, test_top5=0.9848, test_loss=0.6961, max_test_acc=0.8295, total_time=7.7926, LR=0.00075000\n"
     ]
    },
    {
     "name": "stderr",
     "output_type": "stream",
     "text": [
      "100%|██████████| 17/17 [00:06<00:00,  2.72it/s]\n",
      "100%|██████████| 5/5 [00:01<00:00,  3.90it/s]\n"
     ]
    },
    {
     "name": "stdout",
     "output_type": "stream",
     "text": [
      "epoch=65, train_acc_top1=0.8747, train_acc_top5=0.9991, train_loss=0.3361, test_top1=0.7235, test_top5=0.9811, test_loss=0.7044, max_test_acc=0.8295, total_time=7.5381, LR=0.00074609\n"
     ]
    },
    {
     "name": "stderr",
     "output_type": "stream",
     "text": [
      "100%|██████████| 17/17 [00:05<00:00,  2.84it/s]\n",
      "100%|██████████| 5/5 [00:01<00:00,  3.52it/s]\n"
     ]
    },
    {
     "name": "stdout",
     "output_type": "stream",
     "text": [
      "epoch=66, train_acc_top1=0.8997, train_acc_top5=0.9991, train_loss=0.2804, test_top1=0.8220, test_top5=1.0000, test_loss=0.5002, max_test_acc=0.8295, total_time=7.4132, LR=0.00074219\n"
     ]
    },
    {
     "name": "stderr",
     "output_type": "stream",
     "text": [
      "100%|██████████| 17/17 [00:06<00:00,  2.59it/s]\n",
      "100%|██████████| 5/5 [00:01<00:00,  3.48it/s]\n"
     ]
    },
    {
     "name": "stdout",
     "output_type": "stream",
     "text": [
      "epoch=67, train_acc_top1=0.8951, train_acc_top5=0.9981, train_loss=0.2945, test_top1=0.8030, test_top5=0.9924, test_loss=0.5564, max_test_acc=0.8295, total_time=8.0158, LR=0.00073828\n"
     ]
    },
    {
     "name": "stderr",
     "output_type": "stream",
     "text": [
      "100%|██████████| 17/17 [00:06<00:00,  2.72it/s]\n",
      "100%|██████████| 5/5 [00:01<00:00,  4.42it/s]\n"
     ]
    },
    {
     "name": "stdout",
     "output_type": "stream",
     "text": [
      "epoch=68, train_acc_top1=0.8802, train_acc_top5=1.0000, train_loss=0.3825, test_top1=0.8144, test_top5=0.9924, test_loss=0.6166, max_test_acc=0.8295, total_time=7.3929, LR=0.00073438\n"
     ]
    },
    {
     "name": "stderr",
     "output_type": "stream",
     "text": [
      "100%|██████████| 17/17 [00:06<00:00,  2.66it/s]\n",
      "100%|██████████| 5/5 [00:01<00:00,  4.01it/s]\n"
     ]
    },
    {
     "name": "stdout",
     "output_type": "stream",
     "text": [
      "epoch=69, train_acc_top1=0.8635, train_acc_top5=0.9991, train_loss=0.3651, test_top1=0.8030, test_top5=1.0000, test_loss=0.5447, max_test_acc=0.8295, total_time=7.6490, LR=0.00073047\n"
     ]
    },
    {
     "name": "stderr",
     "output_type": "stream",
     "text": [
      "100%|██████████| 17/17 [00:05<00:00,  2.89it/s]\n",
      "100%|██████████| 5/5 [00:01<00:00,  4.76it/s]\n"
     ]
    },
    {
     "name": "stdout",
     "output_type": "stream",
     "text": [
      "epoch=70, train_acc_top1=0.9062, train_acc_top5=0.9981, train_loss=0.3109, test_top1=0.8371, test_top5=0.9886, test_loss=0.5193, max_test_acc=0.8371, total_time=7.3585, LR=0.00072656\n"
     ]
    },
    {
     "name": "stderr",
     "output_type": "stream",
     "text": [
      "100%|██████████| 17/17 [00:06<00:00,  2.65it/s]\n",
      "100%|██████████| 5/5 [00:01<00:00,  4.60it/s]\n"
     ]
    },
    {
     "name": "stdout",
     "output_type": "stream",
     "text": [
      "epoch=71, train_acc_top1=0.9109, train_acc_top5=0.9981, train_loss=0.2826, test_top1=0.7917, test_top5=0.9924, test_loss=0.6664, max_test_acc=0.8371, total_time=7.5185, LR=0.00072266\n"
     ]
    },
    {
     "name": "stderr",
     "output_type": "stream",
     "text": [
      "100%|██████████| 17/17 [00:06<00:00,  2.68it/s]\n",
      "100%|██████████| 5/5 [00:01<00:00,  3.52it/s]\n"
     ]
    },
    {
     "name": "stdout",
     "output_type": "stream",
     "text": [
      "epoch=72, train_acc_top1=0.8839, train_acc_top5=0.9981, train_loss=0.3443, test_top1=0.7348, test_top5=1.0000, test_loss=0.6790, max_test_acc=0.8371, total_time=7.7778, LR=0.00071875\n"
     ]
    },
    {
     "name": "stderr",
     "output_type": "stream",
     "text": [
      "100%|██████████| 17/17 [00:06<00:00,  2.73it/s]\n",
      "100%|██████████| 5/5 [00:00<00:00,  5.28it/s]\n"
     ]
    },
    {
     "name": "stdout",
     "output_type": "stream",
     "text": [
      "epoch=73, train_acc_top1=0.8756, train_acc_top5=0.9991, train_loss=0.3449, test_top1=0.7992, test_top5=1.0000, test_loss=0.7025, max_test_acc=0.8371, total_time=7.1966, LR=0.00071484\n"
     ]
    },
    {
     "name": "stderr",
     "output_type": "stream",
     "text": [
      "100%|██████████| 17/17 [00:06<00:00,  2.81it/s]\n",
      "100%|██████████| 5/5 [00:01<00:00,  4.03it/s]\n"
     ]
    },
    {
     "name": "stdout",
     "output_type": "stream",
     "text": [
      "epoch=74, train_acc_top1=0.4847, train_acc_top5=0.8319, train_loss=2.7050, test_top1=0.5000, test_top5=0.9394, test_loss=1.4695, max_test_acc=0.8371, total_time=7.3122, LR=0.00071094\n"
     ]
    },
    {
     "name": "stderr",
     "output_type": "stream",
     "text": [
      "100%|██████████| 17/17 [00:06<00:00,  2.81it/s]\n",
      "100%|██████████| 5/5 [00:01<00:00,  3.74it/s]\n"
     ]
    },
    {
     "name": "stdout",
     "output_type": "stream",
     "text": [
      "epoch=75, train_acc_top1=0.7279, train_acc_top5=0.9935, train_loss=0.7086, test_top1=0.7273, test_top5=1.0000, test_loss=0.6606, max_test_acc=0.8371, total_time=7.4053, LR=0.00070703\n"
     ]
    },
    {
     "name": "stderr",
     "output_type": "stream",
     "text": [
      "100%|██████████| 17/17 [00:06<00:00,  2.83it/s]\n",
      "100%|██████████| 5/5 [00:00<00:00,  5.11it/s]\n"
     ]
    },
    {
     "name": "stdout",
     "output_type": "stream",
     "text": [
      "epoch=76, train_acc_top1=0.8579, train_acc_top5=0.9981, train_loss=0.4193, test_top1=0.7652, test_top5=0.9924, test_loss=0.7608, max_test_acc=0.8371, total_time=7.0086, LR=0.00070312\n"
     ]
    },
    {
     "name": "stderr",
     "output_type": "stream",
     "text": [
      "100%|██████████| 17/17 [00:06<00:00,  2.82it/s]\n",
      "100%|██████████| 5/5 [00:01<00:00,  4.54it/s]\n"
     ]
    },
    {
     "name": "stdout",
     "output_type": "stream",
     "text": [
      "epoch=77, train_acc_top1=0.8654, train_acc_top5=0.9981, train_loss=0.3639, test_top1=0.7197, test_top5=0.9924, test_loss=0.7799, max_test_acc=0.8371, total_time=7.1451, LR=0.00069922\n"
     ]
    },
    {
     "name": "stderr",
     "output_type": "stream",
     "text": [
      "100%|██████████| 17/17 [00:06<00:00,  2.76it/s]\n",
      "100%|██████████| 5/5 [00:01<00:00,  4.72it/s]\n"
     ]
    },
    {
     "name": "stdout",
     "output_type": "stream",
     "text": [
      "epoch=78, train_acc_top1=0.8737, train_acc_top5=1.0000, train_loss=0.3215, test_top1=0.7727, test_top5=1.0000, test_loss=0.5816, max_test_acc=0.8371, total_time=7.2419, LR=0.00069531\n"
     ]
    },
    {
     "name": "stderr",
     "output_type": "stream",
     "text": [
      "100%|██████████| 17/17 [00:05<00:00,  2.91it/s]\n",
      "100%|██████████| 5/5 [00:00<00:00,  5.10it/s]\n"
     ]
    },
    {
     "name": "stdout",
     "output_type": "stream",
     "text": [
      "epoch=79, train_acc_top1=0.8932, train_acc_top5=0.9981, train_loss=0.3136, test_top1=0.7689, test_top5=0.9848, test_loss=0.6484, max_test_acc=0.8371, total_time=6.8366, LR=0.00069141\n"
     ]
    },
    {
     "name": "stderr",
     "output_type": "stream",
     "text": [
      "100%|██████████| 17/17 [00:05<00:00,  2.89it/s]\n",
      "100%|██████████| 5/5 [00:01<00:00,  4.39it/s]\n"
     ]
    },
    {
     "name": "stdout",
     "output_type": "stream",
     "text": [
      "epoch=80, train_acc_top1=0.9331, train_acc_top5=1.0000, train_loss=0.2278, test_top1=0.8068, test_top5=0.9962, test_loss=0.5337, max_test_acc=0.8371, total_time=7.0382, LR=0.00068750\n"
     ]
    },
    {
     "name": "stderr",
     "output_type": "stream",
     "text": [
      "100%|██████████| 17/17 [00:06<00:00,  2.46it/s]\n",
      "100%|██████████| 5/5 [00:01<00:00,  3.31it/s]\n"
     ]
    },
    {
     "name": "stdout",
     "output_type": "stream",
     "text": [
      "epoch=81, train_acc_top1=0.9424, train_acc_top5=1.0000, train_loss=0.1920, test_top1=0.8220, test_top5=1.0000, test_loss=0.4860, max_test_acc=0.8371, total_time=8.4249, LR=0.00068359\n"
     ]
    },
    {
     "name": "stderr",
     "output_type": "stream",
     "text": [
      "100%|██████████| 17/17 [00:07<00:00,  2.39it/s]\n",
      "100%|██████████| 5/5 [00:01<00:00,  3.08it/s]\n"
     ]
    },
    {
     "name": "stdout",
     "output_type": "stream",
     "text": [
      "epoch=82, train_acc_top1=0.9424, train_acc_top5=1.0000, train_loss=0.1865, test_top1=0.7689, test_top5=0.9962, test_loss=0.6261, max_test_acc=0.8371, total_time=8.7512, LR=0.00067969\n"
     ]
    },
    {
     "name": "stderr",
     "output_type": "stream",
     "text": [
      "100%|██████████| 17/17 [00:07<00:00,  2.34it/s]\n",
      "100%|██████████| 5/5 [00:01<00:00,  3.11it/s]\n"
     ]
    },
    {
     "name": "stdout",
     "output_type": "stream",
     "text": [
      "epoch=83, train_acc_top1=0.9211, train_acc_top5=0.9991, train_loss=0.2398, test_top1=0.8258, test_top5=0.9962, test_loss=0.5469, max_test_acc=0.8371, total_time=8.8920, LR=0.00067578\n"
     ]
    },
    {
     "name": "stderr",
     "output_type": "stream",
     "text": [
      "100%|██████████| 17/17 [00:07<00:00,  2.31it/s]\n",
      "100%|██████████| 5/5 [00:01<00:00,  3.41it/s]\n"
     ]
    },
    {
     "name": "stdout",
     "output_type": "stream",
     "text": [
      "epoch=84, train_acc_top1=0.9285, train_acc_top5=1.0000, train_loss=0.2080, test_top1=0.7841, test_top5=0.9924, test_loss=0.6612, max_test_acc=0.8371, total_time=8.8493, LR=0.00067188\n"
     ]
    },
    {
     "name": "stderr",
     "output_type": "stream",
     "text": [
      "100%|██████████| 17/17 [00:07<00:00,  2.37it/s]\n",
      "100%|██████████| 5/5 [00:01<00:00,  3.75it/s]\n"
     ]
    },
    {
     "name": "stdout",
     "output_type": "stream",
     "text": [
      "epoch=85, train_acc_top1=0.9387, train_acc_top5=1.0000, train_loss=0.1803, test_top1=0.8068, test_top5=0.9848, test_loss=0.6501, max_test_acc=0.8371, total_time=8.5198, LR=0.00066797\n"
     ]
    },
    {
     "name": "stderr",
     "output_type": "stream",
     "text": [
      "100%|██████████| 17/17 [00:07<00:00,  2.33it/s]\n",
      "100%|██████████| 5/5 [00:01<00:00,  3.20it/s]\n"
     ]
    },
    {
     "name": "stdout",
     "output_type": "stream",
     "text": [
      "epoch=86, train_acc_top1=0.9508, train_acc_top5=1.0000, train_loss=0.1612, test_top1=0.7765, test_top5=0.9886, test_loss=0.6328, max_test_acc=0.8371, total_time=8.8686, LR=0.00066406\n"
     ]
    },
    {
     "name": "stderr",
     "output_type": "stream",
     "text": [
      "100%|██████████| 17/17 [00:06<00:00,  2.51it/s]\n",
      "100%|██████████| 5/5 [00:01<00:00,  3.68it/s]\n"
     ]
    },
    {
     "name": "stdout",
     "output_type": "stream",
     "text": [
      "epoch=87, train_acc_top1=0.9248, train_acc_top5=1.0000, train_loss=0.2137, test_top1=0.8333, test_top5=0.9962, test_loss=0.5071, max_test_acc=0.8371, total_time=8.1423, LR=0.00066016\n"
     ]
    },
    {
     "name": "stderr",
     "output_type": "stream",
     "text": [
      "100%|██████████| 17/17 [00:07<00:00,  2.38it/s]\n",
      "100%|██████████| 5/5 [00:01<00:00,  3.42it/s]\n"
     ]
    },
    {
     "name": "stdout",
     "output_type": "stream",
     "text": [
      "epoch=88, train_acc_top1=0.9461, train_acc_top5=1.0000, train_loss=0.1518, test_top1=0.8220, test_top5=1.0000, test_loss=0.5580, max_test_acc=0.8371, total_time=8.6184, LR=0.00065625\n"
     ]
    },
    {
     "name": "stderr",
     "output_type": "stream",
     "text": [
      "100%|██████████| 17/17 [00:06<00:00,  2.63it/s]\n",
      "100%|██████████| 5/5 [00:01<00:00,  3.82it/s]\n"
     ]
    },
    {
     "name": "stdout",
     "output_type": "stream",
     "text": [
      "epoch=89, train_acc_top1=0.9415, train_acc_top5=1.0000, train_loss=0.1785, test_top1=0.8030, test_top5=1.0000, test_loss=0.6391, max_test_acc=0.8371, total_time=7.7907, LR=0.00065234\n"
     ]
    },
    {
     "name": "stderr",
     "output_type": "stream",
     "text": [
      "100%|██████████| 17/17 [00:06<00:00,  2.59it/s]\n",
      "100%|██████████| 5/5 [00:01<00:00,  3.88it/s]\n"
     ]
    },
    {
     "name": "stdout",
     "output_type": "stream",
     "text": [
      "epoch=90, train_acc_top1=0.9666, train_acc_top5=1.0000, train_loss=0.1210, test_top1=0.8182, test_top5=1.0000, test_loss=0.5757, max_test_acc=0.8371, total_time=7.8818, LR=0.00064844\n"
     ]
    },
    {
     "name": "stderr",
     "output_type": "stream",
     "text": [
      "100%|██████████| 17/17 [00:06<00:00,  2.57it/s]\n",
      "100%|██████████| 5/5 [00:01<00:00,  3.09it/s]\n"
     ]
    },
    {
     "name": "stdout",
     "output_type": "stream",
     "text": [
      "epoch=91, train_acc_top1=0.9666, train_acc_top5=1.0000, train_loss=0.1089, test_top1=0.7992, test_top5=1.0000, test_loss=0.6947, max_test_acc=0.8371, total_time=8.2567, LR=0.00064453\n"
     ]
    },
    {
     "name": "stderr",
     "output_type": "stream",
     "text": [
      "100%|██████████| 17/17 [00:06<00:00,  2.49it/s]\n",
      "100%|██████████| 5/5 [00:00<00:00,  5.34it/s]\n"
     ]
    },
    {
     "name": "stdout",
     "output_type": "stream",
     "text": [
      "epoch=92, train_acc_top1=0.9136, train_acc_top5=0.9954, train_loss=0.2934, test_top1=0.7652, test_top5=0.9924, test_loss=0.8045, max_test_acc=0.8371, total_time=7.7792, LR=0.00064063\n"
     ]
    },
    {
     "name": "stderr",
     "output_type": "stream",
     "text": [
      "100%|██████████| 17/17 [00:06<00:00,  2.80it/s]\n",
      "100%|██████████| 5/5 [00:01<00:00,  4.19it/s]\n"
     ]
    },
    {
     "name": "stdout",
     "output_type": "stream",
     "text": [
      "epoch=93, train_acc_top1=0.9489, train_acc_top5=1.0000, train_loss=0.1545, test_top1=0.8106, test_top5=1.0000, test_loss=0.5806, max_test_acc=0.8371, total_time=7.2724, LR=0.00063672\n"
     ]
    },
    {
     "name": "stderr",
     "output_type": "stream",
     "text": [
      "100%|██████████| 17/17 [00:06<00:00,  2.64it/s]\n",
      "100%|██████████| 5/5 [00:01<00:00,  3.97it/s]\n"
     ]
    },
    {
     "name": "stdout",
     "output_type": "stream",
     "text": [
      "epoch=94, train_acc_top1=0.9703, train_acc_top5=1.0000, train_loss=0.1204, test_top1=0.8333, test_top5=0.9962, test_loss=0.5939, max_test_acc=0.8371, total_time=7.7122, LR=0.00063281\n"
     ]
    },
    {
     "name": "stderr",
     "output_type": "stream",
     "text": [
      "100%|██████████| 17/17 [00:06<00:00,  2.67it/s]\n",
      "100%|██████████| 5/5 [00:01<00:00,  3.53it/s]\n"
     ]
    },
    {
     "name": "stdout",
     "output_type": "stream",
     "text": [
      "epoch=95, train_acc_top1=0.9601, train_acc_top5=1.0000, train_loss=0.1280, test_top1=0.8182, test_top5=0.9962, test_loss=0.5947, max_test_acc=0.8371, total_time=7.7938, LR=0.00062891\n"
     ]
    },
    {
     "name": "stderr",
     "output_type": "stream",
     "text": [
      "100%|██████████| 17/17 [00:06<00:00,  2.50it/s]\n",
      "100%|██████████| 5/5 [00:01<00:00,  4.39it/s]\n"
     ]
    },
    {
     "name": "stdout",
     "output_type": "stream",
     "text": [
      "epoch=96, train_acc_top1=0.9591, train_acc_top5=0.9991, train_loss=0.1265, test_top1=0.8258, test_top5=1.0000, test_loss=0.6430, max_test_acc=0.8371, total_time=7.9575, LR=0.00062500\n"
     ]
    },
    {
     "name": "stderr",
     "output_type": "stream",
     "text": [
      "100%|██████████| 17/17 [00:06<00:00,  2.63it/s]\n",
      "100%|██████████| 5/5 [00:01<00:00,  3.17it/s]\n"
     ]
    },
    {
     "name": "stdout",
     "output_type": "stream",
     "text": [
      "epoch=97, train_acc_top1=0.9285, train_acc_top5=1.0000, train_loss=0.2087, test_top1=0.7917, test_top5=0.9886, test_loss=0.6880, max_test_acc=0.8371, total_time=8.0573, LR=0.00062109\n"
     ]
    },
    {
     "name": "stderr",
     "output_type": "stream",
     "text": [
      "100%|██████████| 17/17 [00:07<00:00,  2.35it/s]\n",
      "100%|██████████| 5/5 [00:01<00:00,  3.72it/s]\n"
     ]
    },
    {
     "name": "stdout",
     "output_type": "stream",
     "text": [
      "epoch=98, train_acc_top1=0.9656, train_acc_top5=1.0000, train_loss=0.1285, test_top1=0.7879, test_top5=0.9962, test_loss=0.6943, max_test_acc=0.8371, total_time=8.5909, LR=0.00061719\n"
     ]
    },
    {
     "name": "stderr",
     "output_type": "stream",
     "text": [
      "100%|██████████| 17/17 [00:06<00:00,  2.48it/s]\n",
      "100%|██████████| 5/5 [00:01<00:00,  3.17it/s]\n"
     ]
    },
    {
     "name": "stdout",
     "output_type": "stream",
     "text": [
      "epoch=99, train_acc_top1=0.9610, train_acc_top5=0.9991, train_loss=0.1131, test_top1=0.8220, test_top5=0.9962, test_loss=0.5890, max_test_acc=0.8371, total_time=8.4566, LR=0.00061328\n"
     ]
    },
    {
     "name": "stderr",
     "output_type": "stream",
     "text": [
      "100%|██████████| 17/17 [00:06<00:00,  2.61it/s]\n",
      "100%|██████████| 5/5 [00:01<00:00,  3.76it/s]\n"
     ]
    },
    {
     "name": "stdout",
     "output_type": "stream",
     "text": [
      "epoch=100, train_acc_top1=0.9796, train_acc_top5=1.0000, train_loss=0.0786, test_top1=0.8144, test_top5=0.9886, test_loss=0.6034, max_test_acc=0.8371, total_time=7.8704, LR=0.00060937\n"
     ]
    },
    {
     "name": "stderr",
     "output_type": "stream",
     "text": [
      "100%|██████████| 17/17 [00:06<00:00,  2.52it/s]\n",
      "100%|██████████| 5/5 [00:01<00:00,  3.19it/s]\n"
     ]
    },
    {
     "name": "stdout",
     "output_type": "stream",
     "text": [
      "epoch=101, train_acc_top1=0.9647, train_acc_top5=1.0000, train_loss=0.1116, test_top1=0.8371, test_top5=0.9962, test_loss=0.5813, max_test_acc=0.8371, total_time=8.9195, LR=0.00060547\n"
     ]
    },
    {
     "name": "stderr",
     "output_type": "stream",
     "text": [
      "100%|██████████| 17/17 [00:06<00:00,  2.67it/s]\n",
      "100%|██████████| 5/5 [00:01<00:00,  3.45it/s]\n"
     ]
    },
    {
     "name": "stdout",
     "output_type": "stream",
     "text": [
      "epoch=102, train_acc_top1=0.9926, train_acc_top5=1.0000, train_loss=0.0549, test_top1=0.8258, test_top5=1.0000, test_loss=0.6190, max_test_acc=0.8371, total_time=7.8391, LR=0.00060156\n"
     ]
    },
    {
     "name": "stderr",
     "output_type": "stream",
     "text": [
      "100%|██████████| 17/17 [00:05<00:00,  3.01it/s]\n",
      "100%|██████████| 5/5 [00:00<00:00,  5.42it/s]\n"
     ]
    },
    {
     "name": "stdout",
     "output_type": "stream",
     "text": [
      "epoch=103, train_acc_top1=0.9721, train_acc_top5=1.0000, train_loss=0.0841, test_top1=0.7955, test_top5=0.9924, test_loss=0.8804, max_test_acc=0.8371, total_time=6.5721, LR=0.00059766\n"
     ]
    },
    {
     "name": "stderr",
     "output_type": "stream",
     "text": [
      "100%|██████████| 17/17 [00:05<00:00,  3.00it/s]\n",
      "100%|██████████| 5/5 [00:00<00:00,  5.35it/s]\n"
     ]
    },
    {
     "name": "stdout",
     "output_type": "stream",
     "text": [
      "epoch=104, train_acc_top1=0.9694, train_acc_top5=1.0000, train_loss=0.0993, test_top1=0.8182, test_top5=0.9962, test_loss=0.6405, max_test_acc=0.8371, total_time=6.6024, LR=0.00059375\n"
     ]
    },
    {
     "name": "stderr",
     "output_type": "stream",
     "text": [
      "100%|██████████| 17/17 [00:05<00:00,  2.99it/s]\n",
      "100%|██████████| 5/5 [00:00<00:00,  5.66it/s]\n"
     ]
    },
    {
     "name": "stdout",
     "output_type": "stream",
     "text": [
      "epoch=105, train_acc_top1=0.9889, train_acc_top5=1.0000, train_loss=0.0578, test_top1=0.8485, test_top5=0.9962, test_loss=0.6202, max_test_acc=0.8485, total_time=6.8909, LR=0.00058984\n"
     ]
    },
    {
     "name": "stderr",
     "output_type": "stream",
     "text": [
      "100%|██████████| 17/17 [00:05<00:00,  3.07it/s]\n",
      "100%|██████████| 5/5 [00:00<00:00,  5.65it/s]\n"
     ]
    },
    {
     "name": "stdout",
     "output_type": "stream",
     "text": [
      "epoch=106, train_acc_top1=0.9786, train_acc_top5=0.9991, train_loss=0.0820, test_top1=0.8409, test_top5=0.9924, test_loss=0.5677, max_test_acc=0.8485, total_time=6.4273, LR=0.00058594\n"
     ]
    },
    {
     "name": "stderr",
     "output_type": "stream",
     "text": [
      "100%|██████████| 17/17 [00:05<00:00,  3.06it/s]\n",
      "100%|██████████| 5/5 [00:00<00:00,  5.67it/s]\n"
     ]
    },
    {
     "name": "stdout",
     "output_type": "stream",
     "text": [
      "epoch=107, train_acc_top1=0.9378, train_acc_top5=0.9981, train_loss=0.2209, test_top1=0.8523, test_top5=1.0000, test_loss=0.5199, max_test_acc=0.8523, total_time=7.4508, LR=0.00058203\n"
     ]
    },
    {
     "name": "stderr",
     "output_type": "stream",
     "text": [
      "100%|██████████| 17/17 [00:05<00:00,  3.07it/s]\n",
      "100%|██████████| 5/5 [00:00<00:00,  5.46it/s]\n"
     ]
    },
    {
     "name": "stdout",
     "output_type": "stream",
     "text": [
      "epoch=108, train_acc_top1=0.9796, train_acc_top5=1.0000, train_loss=0.0710, test_top1=0.8371, test_top5=1.0000, test_loss=0.5352, max_test_acc=0.8523, total_time=6.4673, LR=0.00057812\n"
     ]
    },
    {
     "name": "stderr",
     "output_type": "stream",
     "text": [
      "100%|██████████| 17/17 [00:05<00:00,  3.07it/s]\n",
      "100%|██████████| 5/5 [00:00<00:00,  5.50it/s]\n"
     ]
    },
    {
     "name": "stdout",
     "output_type": "stream",
     "text": [
      "epoch=109, train_acc_top1=0.9879, train_acc_top5=1.0000, train_loss=0.0624, test_top1=0.8182, test_top5=0.9886, test_loss=0.6648, max_test_acc=0.8523, total_time=6.4529, LR=0.00057422\n"
     ]
    },
    {
     "name": "stderr",
     "output_type": "stream",
     "text": [
      "100%|██████████| 17/17 [00:05<00:00,  3.08it/s]\n",
      "100%|██████████| 5/5 [00:00<00:00,  5.51it/s]\n"
     ]
    },
    {
     "name": "stdout",
     "output_type": "stream",
     "text": [
      "epoch=110, train_acc_top1=0.9786, train_acc_top5=1.0000, train_loss=0.0778, test_top1=0.8220, test_top5=0.9886, test_loss=0.7056, max_test_acc=0.8523, total_time=6.4331, LR=0.00057031\n"
     ]
    },
    {
     "name": "stderr",
     "output_type": "stream",
     "text": [
      "100%|██████████| 17/17 [00:05<00:00,  3.09it/s]\n",
      "100%|██████████| 5/5 [00:00<00:00,  5.51it/s]\n"
     ]
    },
    {
     "name": "stdout",
     "output_type": "stream",
     "text": [
      "epoch=111, train_acc_top1=0.9610, train_acc_top5=1.0000, train_loss=0.1177, test_top1=0.8030, test_top5=0.9962, test_loss=0.7178, max_test_acc=0.8523, total_time=6.4227, LR=0.00056641\n"
     ]
    },
    {
     "name": "stderr",
     "output_type": "stream",
     "text": [
      "100%|██████████| 17/17 [00:05<00:00,  3.08it/s]\n",
      "100%|██████████| 5/5 [00:00<00:00,  5.50it/s]\n"
     ]
    },
    {
     "name": "stdout",
     "output_type": "stream",
     "text": [
      "epoch=112, train_acc_top1=0.9796, train_acc_top5=1.0000, train_loss=0.0827, test_top1=0.8144, test_top5=1.0000, test_loss=0.5926, max_test_acc=0.8523, total_time=6.4451, LR=0.00056250\n"
     ]
    },
    {
     "name": "stderr",
     "output_type": "stream",
     "text": [
      "100%|██████████| 17/17 [00:05<00:00,  3.10it/s]\n",
      "100%|██████████| 5/5 [00:00<00:00,  5.52it/s]\n"
     ]
    },
    {
     "name": "stdout",
     "output_type": "stream",
     "text": [
      "epoch=113, train_acc_top1=0.9851, train_acc_top5=1.0000, train_loss=0.0701, test_top1=0.8182, test_top5=1.0000, test_loss=0.7011, max_test_acc=0.8523, total_time=6.4024, LR=0.00055859\n"
     ]
    },
    {
     "name": "stderr",
     "output_type": "stream",
     "text": [
      "100%|██████████| 17/17 [00:05<00:00,  3.09it/s]\n",
      "100%|██████████| 5/5 [00:00<00:00,  5.69it/s]\n"
     ]
    },
    {
     "name": "stdout",
     "output_type": "stream",
     "text": [
      "epoch=114, train_acc_top1=0.9526, train_acc_top5=0.9926, train_loss=0.1919, test_top1=0.8371, test_top5=1.0000, test_loss=0.6904, max_test_acc=0.8523, total_time=6.3817, LR=0.00055469\n"
     ]
    },
    {
     "name": "stderr",
     "output_type": "stream",
     "text": [
      "100%|██████████| 17/17 [00:05<00:00,  3.08it/s]\n",
      "100%|██████████| 5/5 [00:00<00:00,  5.50it/s]\n"
     ]
    },
    {
     "name": "stdout",
     "output_type": "stream",
     "text": [
      "epoch=115, train_acc_top1=0.9870, train_acc_top5=1.0000, train_loss=0.0606, test_top1=0.8333, test_top5=1.0000, test_loss=0.6174, max_test_acc=0.8523, total_time=6.4425, LR=0.00055078\n"
     ]
    },
    {
     "name": "stderr",
     "output_type": "stream",
     "text": [
      "100%|██████████| 17/17 [00:05<00:00,  3.06it/s]\n",
      "100%|██████████| 5/5 [00:00<00:00,  5.55it/s]\n"
     ]
    },
    {
     "name": "stdout",
     "output_type": "stream",
     "text": [
      "epoch=116, train_acc_top1=0.9916, train_acc_top5=1.0000, train_loss=0.0525, test_top1=0.8144, test_top5=1.0000, test_loss=0.6049, max_test_acc=0.8523, total_time=6.4707, LR=0.00054688\n"
     ]
    },
    {
     "name": "stderr",
     "output_type": "stream",
     "text": [
      "100%|██████████| 17/17 [00:05<00:00,  3.07it/s]\n",
      "100%|██████████| 5/5 [00:00<00:00,  5.53it/s]\n"
     ]
    },
    {
     "name": "stdout",
     "output_type": "stream",
     "text": [
      "epoch=117, train_acc_top1=0.9833, train_acc_top5=1.0000, train_loss=0.0614, test_top1=0.8030, test_top5=0.9848, test_loss=0.8118, max_test_acc=0.8523, total_time=6.4591, LR=0.00054297\n"
     ]
    },
    {
     "name": "stderr",
     "output_type": "stream",
     "text": [
      "100%|██████████| 17/17 [00:05<00:00,  3.07it/s]\n",
      "100%|██████████| 5/5 [00:00<00:00,  5.55it/s]\n"
     ]
    },
    {
     "name": "stdout",
     "output_type": "stream",
     "text": [
      "epoch=118, train_acc_top1=0.9387, train_acc_top5=0.9879, train_loss=0.3866, test_top1=0.8674, test_top5=0.9962, test_loss=0.5287, max_test_acc=0.8674, total_time=8.2392, LR=0.00053906\n"
     ]
    },
    {
     "name": "stderr",
     "output_type": "stream",
     "text": [
      "100%|██████████| 17/17 [00:05<00:00,  3.04it/s]\n",
      "100%|██████████| 5/5 [00:00<00:00,  5.47it/s]\n"
     ]
    },
    {
     "name": "stdout",
     "output_type": "stream",
     "text": [
      "epoch=119, train_acc_top1=0.9174, train_acc_top5=1.0000, train_loss=0.2288, test_top1=0.7841, test_top5=0.9924, test_loss=0.7266, max_test_acc=0.8674, total_time=6.5102, LR=0.00053516\n"
     ]
    },
    {
     "name": "stderr",
     "output_type": "stream",
     "text": [
      "100%|██████████| 17/17 [00:05<00:00,  3.04it/s]\n",
      "100%|██████████| 5/5 [00:00<00:00,  5.56it/s]\n"
     ]
    },
    {
     "name": "stdout",
     "output_type": "stream",
     "text": [
      "epoch=120, train_acc_top1=0.9545, train_acc_top5=1.0000, train_loss=0.1476, test_top1=0.7955, test_top5=0.9811, test_loss=0.8140, max_test_acc=0.8674, total_time=6.5058, LR=0.00053125\n"
     ]
    },
    {
     "name": "stderr",
     "output_type": "stream",
     "text": [
      "100%|██████████| 17/17 [00:05<00:00,  3.07it/s]\n",
      "100%|██████████| 5/5 [00:00<00:00,  5.57it/s]\n"
     ]
    },
    {
     "name": "stdout",
     "output_type": "stream",
     "text": [
      "epoch=121, train_acc_top1=0.9647, train_acc_top5=1.0000, train_loss=0.1063, test_top1=0.8144, test_top5=1.0000, test_loss=0.6803, max_test_acc=0.8674, total_time=6.4397, LR=0.00052734\n"
     ]
    },
    {
     "name": "stderr",
     "output_type": "stream",
     "text": [
      "100%|██████████| 17/17 [00:05<00:00,  3.08it/s]\n",
      "100%|██████████| 5/5 [00:00<00:00,  5.58it/s]\n"
     ]
    },
    {
     "name": "stdout",
     "output_type": "stream",
     "text": [
      "epoch=122, train_acc_top1=0.9907, train_acc_top5=1.0000, train_loss=0.0470, test_top1=0.8030, test_top5=0.9848, test_loss=0.6601, max_test_acc=0.8674, total_time=6.4243, LR=0.00052344\n"
     ]
    },
    {
     "name": "stderr",
     "output_type": "stream",
     "text": [
      "100%|██████████| 17/17 [00:05<00:00,  3.06it/s]\n",
      "100%|██████████| 5/5 [00:00<00:00,  5.65it/s]\n"
     ]
    },
    {
     "name": "stdout",
     "output_type": "stream",
     "text": [
      "epoch=123, train_acc_top1=0.9972, train_acc_top5=1.0000, train_loss=0.0350, test_top1=0.8409, test_top5=0.9962, test_loss=0.6540, max_test_acc=0.8674, total_time=6.4413, LR=0.00051953\n"
     ]
    },
    {
     "name": "stderr",
     "output_type": "stream",
     "text": [
      "100%|██████████| 17/17 [00:05<00:00,  3.05it/s]\n",
      "100%|██████████| 5/5 [00:00<00:00,  5.60it/s]\n"
     ]
    },
    {
     "name": "stdout",
     "output_type": "stream",
     "text": [
      "epoch=124, train_acc_top1=0.9675, train_acc_top5=1.0000, train_loss=0.1095, test_top1=0.8447, test_top5=0.9962, test_loss=0.5459, max_test_acc=0.8674, total_time=6.4823, LR=0.00051563\n"
     ]
    },
    {
     "name": "stderr",
     "output_type": "stream",
     "text": [
      "100%|██████████| 17/17 [00:05<00:00,  3.07it/s]\n",
      "100%|██████████| 5/5 [00:00<00:00,  5.60it/s]\n"
     ]
    },
    {
     "name": "stdout",
     "output_type": "stream",
     "text": [
      "epoch=125, train_acc_top1=0.9712, train_acc_top5=1.0000, train_loss=0.0998, test_top1=0.8182, test_top5=0.9924, test_loss=0.8015, max_test_acc=0.8674, total_time=6.4448, LR=0.00051172\n"
     ]
    },
    {
     "name": "stderr",
     "output_type": "stream",
     "text": [
      "100%|██████████| 17/17 [00:05<00:00,  3.06it/s]\n",
      "100%|██████████| 5/5 [00:00<00:00,  5.50it/s]\n"
     ]
    },
    {
     "name": "stdout",
     "output_type": "stream",
     "text": [
      "epoch=126, train_acc_top1=0.9889, train_acc_top5=1.0000, train_loss=0.0467, test_top1=0.8485, test_top5=1.0000, test_loss=0.5387, max_test_acc=0.8674, total_time=6.4672, LR=0.00050781\n"
     ]
    },
    {
     "name": "stderr",
     "output_type": "stream",
     "text": [
      "100%|██████████| 17/17 [00:05<00:00,  3.04it/s]\n",
      "100%|██████████| 5/5 [00:00<00:00,  5.50it/s]\n"
     ]
    },
    {
     "name": "stdout",
     "output_type": "stream",
     "text": [
      "epoch=127, train_acc_top1=0.9935, train_acc_top5=1.0000, train_loss=0.0389, test_top1=0.8144, test_top5=1.0000, test_loss=0.6876, max_test_acc=0.8674, total_time=6.5065, LR=0.00050391\n"
     ]
    },
    {
     "name": "stderr",
     "output_type": "stream",
     "text": [
      "100%|██████████| 17/17 [00:05<00:00,  3.06it/s]\n",
      "100%|██████████| 5/5 [00:00<00:00,  5.47it/s]\n"
     ]
    },
    {
     "name": "stdout",
     "output_type": "stream",
     "text": [
      "epoch=128, train_acc_top1=0.9889, train_acc_top5=1.0000, train_loss=0.0506, test_top1=0.8295, test_top5=0.9962, test_loss=0.6051, max_test_acc=0.8674, total_time=6.4768, LR=0.00050000\n"
     ]
    },
    {
     "name": "stderr",
     "output_type": "stream",
     "text": [
      "100%|██████████| 17/17 [00:05<00:00,  3.06it/s]\n",
      "100%|██████████| 5/5 [00:00<00:00,  5.39it/s]\n"
     ]
    },
    {
     "name": "stdout",
     "output_type": "stream",
     "text": [
      "epoch=129, train_acc_top1=0.9981, train_acc_top5=1.0000, train_loss=0.0189, test_top1=0.8106, test_top5=1.0000, test_loss=0.6904, max_test_acc=0.8674, total_time=6.4980, LR=0.00049609\n"
     ]
    },
    {
     "name": "stderr",
     "output_type": "stream",
     "text": [
      "100%|██████████| 17/17 [00:05<00:00,  3.06it/s]\n",
      "100%|██████████| 5/5 [00:00<00:00,  5.62it/s]\n"
     ]
    },
    {
     "name": "stdout",
     "output_type": "stream",
     "text": [
      "epoch=130, train_acc_top1=0.9935, train_acc_top5=1.0000, train_loss=0.0284, test_top1=0.8523, test_top5=0.9924, test_loss=0.6288, max_test_acc=0.8674, total_time=6.4585, LR=0.00049219\n"
     ]
    },
    {
     "name": "stderr",
     "output_type": "stream",
     "text": [
      "100%|██████████| 17/17 [00:05<00:00,  3.04it/s]\n",
      "100%|██████████| 5/5 [00:00<00:00,  5.61it/s]\n"
     ]
    },
    {
     "name": "stdout",
     "output_type": "stream",
     "text": [
      "epoch=131, train_acc_top1=0.9972, train_acc_top5=1.0000, train_loss=0.0225, test_top1=0.8182, test_top5=1.0000, test_loss=0.6665, max_test_acc=0.8674, total_time=6.4868, LR=0.00048828\n"
     ]
    },
    {
     "name": "stderr",
     "output_type": "stream",
     "text": [
      "100%|██████████| 17/17 [00:05<00:00,  3.07it/s]\n",
      "100%|██████████| 5/5 [00:00<00:00,  5.48it/s]\n"
     ]
    },
    {
     "name": "stdout",
     "output_type": "stream",
     "text": [
      "epoch=132, train_acc_top1=0.9889, train_acc_top5=1.0000, train_loss=0.0379, test_top1=0.8333, test_top5=0.9962, test_loss=0.5508, max_test_acc=0.8674, total_time=6.4543, LR=0.00048437\n"
     ]
    },
    {
     "name": "stderr",
     "output_type": "stream",
     "text": [
      "100%|██████████| 17/17 [00:05<00:00,  3.04it/s]\n",
      "100%|██████████| 5/5 [00:00<00:00,  5.45it/s]\n"
     ]
    },
    {
     "name": "stdout",
     "output_type": "stream",
     "text": [
      "epoch=133, train_acc_top1=0.9944, train_acc_top5=1.0000, train_loss=0.0273, test_top1=0.8220, test_top5=0.9962, test_loss=0.7228, max_test_acc=0.8674, total_time=6.5145, LR=0.00048047\n"
     ]
    },
    {
     "name": "stderr",
     "output_type": "stream",
     "text": [
      "100%|██████████| 17/17 [00:05<00:00,  3.07it/s]\n",
      "100%|██████████| 5/5 [00:00<00:00,  5.58it/s]\n"
     ]
    },
    {
     "name": "stdout",
     "output_type": "stream",
     "text": [
      "epoch=134, train_acc_top1=0.9972, train_acc_top5=1.0000, train_loss=0.0233, test_top1=0.8409, test_top5=0.9886, test_loss=0.6792, max_test_acc=0.8674, total_time=6.4377, LR=0.00047656\n"
     ]
    },
    {
     "name": "stderr",
     "output_type": "stream",
     "text": [
      "100%|██████████| 17/17 [00:05<00:00,  3.08it/s]\n",
      "100%|██████████| 5/5 [00:00<00:00,  5.63it/s]\n"
     ]
    },
    {
     "name": "stdout",
     "output_type": "stream",
     "text": [
      "epoch=135, train_acc_top1=0.9703, train_acc_top5=1.0000, train_loss=0.0982, test_top1=0.7727, test_top5=0.9848, test_loss=1.0066, max_test_acc=0.8674, total_time=6.4239, LR=0.00047266\n"
     ]
    },
    {
     "name": "stderr",
     "output_type": "stream",
     "text": [
      "100%|██████████| 17/17 [00:05<00:00,  3.09it/s]\n",
      "100%|██████████| 5/5 [00:00<00:00,  5.60it/s]\n"
     ]
    },
    {
     "name": "stdout",
     "output_type": "stream",
     "text": [
      "epoch=136, train_acc_top1=0.9749, train_acc_top5=0.9991, train_loss=0.0744, test_top1=0.8409, test_top5=0.9962, test_loss=0.5682, max_test_acc=0.8674, total_time=6.4074, LR=0.00046875\n"
     ]
    },
    {
     "name": "stderr",
     "output_type": "stream",
     "text": [
      "100%|██████████| 17/17 [00:05<00:00,  3.08it/s]\n",
      "100%|██████████| 5/5 [00:00<00:00,  5.65it/s]\n"
     ]
    },
    {
     "name": "stdout",
     "output_type": "stream",
     "text": [
      "epoch=137, train_acc_top1=0.9963, train_acc_top5=1.0000, train_loss=0.0251, test_top1=0.6780, test_top5=0.9773, test_loss=1.0305, max_test_acc=0.8674, total_time=6.4184, LR=0.00046484\n"
     ]
    },
    {
     "name": "stderr",
     "output_type": "stream",
     "text": [
      "100%|██████████| 17/17 [00:05<00:00,  3.08it/s]\n",
      "100%|██████████| 5/5 [00:00<00:00,  5.75it/s]\n"
     ]
    },
    {
     "name": "stdout",
     "output_type": "stream",
     "text": [
      "epoch=138, train_acc_top1=0.9582, train_acc_top5=0.9981, train_loss=0.1370, test_top1=0.8447, test_top5=0.9848, test_loss=0.6398, max_test_acc=0.8674, total_time=6.4024, LR=0.00046094\n"
     ]
    },
    {
     "name": "stderr",
     "output_type": "stream",
     "text": [
      "100%|██████████| 17/17 [00:05<00:00,  3.06it/s]\n",
      "100%|██████████| 5/5 [00:00<00:00,  5.53it/s]\n"
     ]
    },
    {
     "name": "stdout",
     "output_type": "stream",
     "text": [
      "epoch=139, train_acc_top1=0.9731, train_acc_top5=1.0000, train_loss=0.0821, test_top1=0.8106, test_top5=0.9962, test_loss=0.7393, max_test_acc=0.8674, total_time=6.4769, LR=0.00045703\n"
     ]
    },
    {
     "name": "stderr",
     "output_type": "stream",
     "text": [
      "100%|██████████| 17/17 [00:05<00:00,  3.06it/s]\n",
      "100%|██████████| 5/5 [00:00<00:00,  5.49it/s]\n"
     ]
    },
    {
     "name": "stdout",
     "output_type": "stream",
     "text": [
      "epoch=140, train_acc_top1=0.9916, train_acc_top5=1.0000, train_loss=0.0361, test_top1=0.8371, test_top5=1.0000, test_loss=0.5726, max_test_acc=0.8674, total_time=6.4806, LR=0.00045313\n"
     ]
    },
    {
     "name": "stderr",
     "output_type": "stream",
     "text": [
      "100%|██████████| 17/17 [00:05<00:00,  3.07it/s]\n",
      "100%|██████████| 5/5 [00:00<00:00,  5.53it/s]\n"
     ]
    },
    {
     "name": "stdout",
     "output_type": "stream",
     "text": [
      "epoch=141, train_acc_top1=0.9991, train_acc_top5=1.0000, train_loss=0.0179, test_top1=0.8485, test_top5=1.0000, test_loss=0.6119, max_test_acc=0.8674, total_time=6.4472, LR=0.00044922\n"
     ]
    },
    {
     "name": "stderr",
     "output_type": "stream",
     "text": [
      "100%|██████████| 17/17 [00:05<00:00,  3.08it/s]\n",
      "100%|██████████| 5/5 [00:00<00:00,  5.73it/s]\n"
     ]
    },
    {
     "name": "stdout",
     "output_type": "stream",
     "text": [
      "epoch=142, train_acc_top1=0.9981, train_acc_top5=1.0000, train_loss=0.0146, test_top1=0.8333, test_top5=0.9924, test_loss=0.6785, max_test_acc=0.8674, total_time=6.3967, LR=0.00044531\n"
     ]
    },
    {
     "name": "stderr",
     "output_type": "stream",
     "text": [
      "100%|██████████| 17/17 [00:05<00:00,  3.06it/s]\n",
      "100%|██████████| 5/5 [00:00<00:00,  5.62it/s]\n"
     ]
    },
    {
     "name": "stdout",
     "output_type": "stream",
     "text": [
      "epoch=143, train_acc_top1=0.9731, train_acc_top5=0.9991, train_loss=0.0922, test_top1=0.8030, test_top5=0.9886, test_loss=0.7219, max_test_acc=0.8674, total_time=6.4622, LR=0.00044141\n"
     ]
    },
    {
     "name": "stderr",
     "output_type": "stream",
     "text": [
      "100%|██████████| 17/17 [00:05<00:00,  3.09it/s]\n",
      "100%|██████████| 5/5 [00:00<00:00,  5.57it/s]\n"
     ]
    },
    {
     "name": "stdout",
     "output_type": "stream",
     "text": [
      "epoch=144, train_acc_top1=0.9898, train_acc_top5=1.0000, train_loss=0.0430, test_top1=0.7917, test_top5=0.9886, test_loss=0.7636, max_test_acc=0.8674, total_time=6.4074, LR=0.00043750\n"
     ]
    },
    {
     "name": "stderr",
     "output_type": "stream",
     "text": [
      "100%|██████████| 17/17 [00:05<00:00,  3.08it/s]\n",
      "100%|██████████| 5/5 [00:00<00:00,  5.54it/s]\n"
     ]
    },
    {
     "name": "stdout",
     "output_type": "stream",
     "text": [
      "epoch=145, train_acc_top1=0.9889, train_acc_top5=1.0000, train_loss=0.0374, test_top1=0.8144, test_top5=0.9924, test_loss=0.6575, max_test_acc=0.8674, total_time=6.4251, LR=0.00043359\n"
     ]
    },
    {
     "name": "stderr",
     "output_type": "stream",
     "text": [
      "100%|██████████| 17/17 [00:05<00:00,  3.05it/s]\n",
      "100%|██████████| 5/5 [00:00<00:00,  5.62it/s]\n"
     ]
    },
    {
     "name": "stdout",
     "output_type": "stream",
     "text": [
      "epoch=146, train_acc_top1=0.9981, train_acc_top5=1.0000, train_loss=0.0154, test_top1=0.8371, test_top5=0.9924, test_loss=0.6386, max_test_acc=0.8674, total_time=6.4713, LR=0.00042969\n"
     ]
    },
    {
     "name": "stderr",
     "output_type": "stream",
     "text": [
      "100%|██████████| 17/17 [00:05<00:00,  3.07it/s]\n",
      "100%|██████████| 5/5 [00:00<00:00,  5.65it/s]\n"
     ]
    },
    {
     "name": "stdout",
     "output_type": "stream",
     "text": [
      "epoch=147, train_acc_top1=1.0000, train_acc_top5=1.0000, train_loss=0.0074, test_top1=0.8409, test_top5=0.9924, test_loss=0.6926, max_test_acc=0.8674, total_time=6.4297, LR=0.00042578\n"
     ]
    },
    {
     "name": "stderr",
     "output_type": "stream",
     "text": [
      "100%|██████████| 17/17 [00:05<00:00,  3.08it/s]\n",
      "100%|██████████| 5/5 [00:00<00:00,  5.69it/s]\n"
     ]
    },
    {
     "name": "stdout",
     "output_type": "stream",
     "text": [
      "epoch=148, train_acc_top1=1.0000, train_acc_top5=1.0000, train_loss=0.0055, test_top1=0.8561, test_top5=1.0000, test_loss=0.5937, max_test_acc=0.8674, total_time=6.3997, LR=0.00042187\n"
     ]
    },
    {
     "name": "stderr",
     "output_type": "stream",
     "text": [
      "100%|██████████| 17/17 [00:05<00:00,  3.07it/s]\n",
      "100%|██████████| 5/5 [00:00<00:00,  5.45it/s]\n"
     ]
    },
    {
     "name": "stdout",
     "output_type": "stream",
     "text": [
      "epoch=149, train_acc_top1=1.0000, train_acc_top5=1.0000, train_loss=0.0038, test_top1=0.8523, test_top5=0.9924, test_loss=0.6469, max_test_acc=0.8674, total_time=6.4561, LR=0.00041797\n"
     ]
    },
    {
     "name": "stderr",
     "output_type": "stream",
     "text": [
      "100%|██████████| 17/17 [00:05<00:00,  3.07it/s]\n",
      "100%|██████████| 5/5 [00:00<00:00,  5.63it/s]\n"
     ]
    },
    {
     "name": "stdout",
     "output_type": "stream",
     "text": [
      "epoch=150, train_acc_top1=1.0000, train_acc_top5=1.0000, train_loss=0.0035, test_top1=0.8409, test_top5=0.9924, test_loss=0.6886, max_test_acc=0.8674, total_time=6.4349, LR=0.00041406\n"
     ]
    },
    {
     "name": "stderr",
     "output_type": "stream",
     "text": [
      "100%|██████████| 17/17 [00:05<00:00,  3.08it/s]\n",
      "100%|██████████| 5/5 [00:00<00:00,  5.51it/s]\n"
     ]
    },
    {
     "name": "stdout",
     "output_type": "stream",
     "text": [
      "epoch=151, train_acc_top1=1.0000, train_acc_top5=1.0000, train_loss=0.0030, test_top1=0.8485, test_top5=0.9924, test_loss=0.6777, max_test_acc=0.8674, total_time=6.4430, LR=0.00041016\n"
     ]
    },
    {
     "name": "stderr",
     "output_type": "stream",
     "text": [
      "100%|██████████| 17/17 [00:05<00:00,  3.08it/s]\n",
      "100%|██████████| 5/5 [00:00<00:00,  5.66it/s]\n"
     ]
    },
    {
     "name": "stdout",
     "output_type": "stream",
     "text": [
      "epoch=152, train_acc_top1=1.0000, train_acc_top5=1.0000, train_loss=0.0028, test_top1=0.8523, test_top5=0.9924, test_loss=0.7244, max_test_acc=0.8674, total_time=6.4049, LR=0.00040625\n"
     ]
    },
    {
     "name": "stderr",
     "output_type": "stream",
     "text": [
      "100%|██████████| 17/17 [00:05<00:00,  3.06it/s]\n",
      "100%|██████████| 5/5 [00:00<00:00,  5.54it/s]\n"
     ]
    },
    {
     "name": "stdout",
     "output_type": "stream",
     "text": [
      "epoch=153, train_acc_top1=1.0000, train_acc_top5=1.0000, train_loss=0.0025, test_top1=0.8485, test_top5=0.9962, test_loss=0.6605, max_test_acc=0.8674, total_time=6.4706, LR=0.00040234\n"
     ]
    },
    {
     "name": "stderr",
     "output_type": "stream",
     "text": [
      "100%|██████████| 17/17 [00:05<00:00,  3.09it/s]\n",
      "100%|██████████| 5/5 [00:00<00:00,  5.70it/s]\n"
     ]
    },
    {
     "name": "stdout",
     "output_type": "stream",
     "text": [
      "epoch=154, train_acc_top1=1.0000, train_acc_top5=1.0000, train_loss=0.0039, test_top1=0.8598, test_top5=0.9962, test_loss=0.6456, max_test_acc=0.8674, total_time=6.3963, LR=0.00039844\n"
     ]
    },
    {
     "name": "stderr",
     "output_type": "stream",
     "text": [
      "100%|██████████| 17/17 [00:05<00:00,  3.08it/s]\n",
      "100%|██████████| 5/5 [00:00<00:00,  5.63it/s]\n"
     ]
    },
    {
     "name": "stdout",
     "output_type": "stream",
     "text": [
      "epoch=155, train_acc_top1=1.0000, train_acc_top5=1.0000, train_loss=0.0023, test_top1=0.8598, test_top5=0.9962, test_loss=0.6887, max_test_acc=0.8674, total_time=6.4120, LR=0.00039453\n"
     ]
    },
    {
     "name": "stderr",
     "output_type": "stream",
     "text": [
      "100%|██████████| 17/17 [00:05<00:00,  3.10it/s]\n",
      "100%|██████████| 5/5 [00:00<00:00,  5.56it/s]\n"
     ]
    },
    {
     "name": "stdout",
     "output_type": "stream",
     "text": [
      "epoch=156, train_acc_top1=1.0000, train_acc_top5=1.0000, train_loss=0.0021, test_top1=0.8712, test_top5=0.9962, test_loss=0.6743, max_test_acc=0.8712, total_time=6.7116, LR=0.00039063\n"
     ]
    },
    {
     "name": "stderr",
     "output_type": "stream",
     "text": [
      "100%|██████████| 17/17 [00:05<00:00,  3.09it/s]\n",
      "100%|██████████| 5/5 [00:01<00:00,  4.67it/s]\n"
     ]
    },
    {
     "name": "stdout",
     "output_type": "stream",
     "text": [
      "epoch=157, train_acc_top1=1.0000, train_acc_top5=1.0000, train_loss=0.0021, test_top1=0.8636, test_top5=0.9962, test_loss=0.6618, max_test_acc=0.8712, total_time=6.5776, LR=0.00038672\n"
     ]
    },
    {
     "name": "stderr",
     "output_type": "stream",
     "text": [
      "100%|██████████| 17/17 [00:05<00:00,  3.09it/s]\n",
      "100%|██████████| 5/5 [00:00<00:00,  5.46it/s]\n"
     ]
    },
    {
     "name": "stdout",
     "output_type": "stream",
     "text": [
      "epoch=158, train_acc_top1=1.0000, train_acc_top5=1.0000, train_loss=0.0019, test_top1=0.8523, test_top5=0.9962, test_loss=0.6936, max_test_acc=0.8712, total_time=6.4247, LR=0.00038281\n"
     ]
    },
    {
     "name": "stderr",
     "output_type": "stream",
     "text": [
      "100%|██████████| 17/17 [00:05<00:00,  3.09it/s]\n",
      "100%|██████████| 5/5 [00:00<00:00,  5.68it/s]\n"
     ]
    },
    {
     "name": "stdout",
     "output_type": "stream",
     "text": [
      "epoch=159, train_acc_top1=1.0000, train_acc_top5=1.0000, train_loss=0.0021, test_top1=0.8598, test_top5=0.9962, test_loss=0.6634, max_test_acc=0.8712, total_time=6.3850, LR=0.00037891\n"
     ]
    },
    {
     "name": "stderr",
     "output_type": "stream",
     "text": [
      "100%|██████████| 17/17 [00:05<00:00,  3.09it/s]\n",
      "100%|██████████| 5/5 [00:00<00:00,  5.45it/s]\n"
     ]
    },
    {
     "name": "stdout",
     "output_type": "stream",
     "text": [
      "epoch=160, train_acc_top1=1.0000, train_acc_top5=1.0000, train_loss=0.0018, test_top1=0.8674, test_top5=0.9924, test_loss=0.6855, max_test_acc=0.8712, total_time=6.4338, LR=0.00037500\n"
     ]
    },
    {
     "name": "stderr",
     "output_type": "stream",
     "text": [
      "100%|██████████| 17/17 [00:05<00:00,  3.05it/s]\n",
      "100%|██████████| 5/5 [00:00<00:00,  5.56it/s]\n"
     ]
    },
    {
     "name": "stdout",
     "output_type": "stream",
     "text": [
      "epoch=161, train_acc_top1=1.0000, train_acc_top5=1.0000, train_loss=0.0031, test_top1=0.8750, test_top5=1.0000, test_loss=0.6681, max_test_acc=0.8750, total_time=6.8035, LR=0.00037109\n"
     ]
    },
    {
     "name": "stderr",
     "output_type": "stream",
     "text": [
      "100%|██████████| 17/17 [00:05<00:00,  3.07it/s]\n",
      "100%|██████████| 5/5 [00:00<00:00,  5.52it/s]\n"
     ]
    },
    {
     "name": "stdout",
     "output_type": "stream",
     "text": [
      "epoch=162, train_acc_top1=1.0000, train_acc_top5=1.0000, train_loss=0.0029, test_top1=0.8561, test_top5=0.9962, test_loss=0.6659, max_test_acc=0.8750, total_time=6.4603, LR=0.00036719\n"
     ]
    },
    {
     "name": "stderr",
     "output_type": "stream",
     "text": [
      "100%|██████████| 17/17 [00:05<00:00,  3.10it/s]\n",
      "100%|██████████| 5/5 [00:00<00:00,  5.45it/s]\n"
     ]
    },
    {
     "name": "stdout",
     "output_type": "stream",
     "text": [
      "epoch=163, train_acc_top1=1.0000, train_acc_top5=1.0000, train_loss=0.0028, test_top1=0.8447, test_top5=0.9924, test_loss=0.7830, max_test_acc=0.8750, total_time=6.4158, LR=0.00036328\n"
     ]
    },
    {
     "name": "stderr",
     "output_type": "stream",
     "text": [
      "100%|██████████| 17/17 [00:05<00:00,  3.08it/s]\n",
      "100%|██████████| 5/5 [00:00<00:00,  5.45it/s]\n"
     ]
    },
    {
     "name": "stdout",
     "output_type": "stream",
     "text": [
      "epoch=164, train_acc_top1=1.0000, train_acc_top5=1.0000, train_loss=0.0025, test_top1=0.8561, test_top5=1.0000, test_loss=0.7050, max_test_acc=0.8750, total_time=6.4406, LR=0.00035937\n"
     ]
    },
    {
     "name": "stderr",
     "output_type": "stream",
     "text": [
      "100%|██████████| 17/17 [00:05<00:00,  3.08it/s]\n",
      "100%|██████████| 5/5 [00:00<00:00,  5.51it/s]\n"
     ]
    },
    {
     "name": "stdout",
     "output_type": "stream",
     "text": [
      "epoch=165, train_acc_top1=1.0000, train_acc_top5=1.0000, train_loss=0.0033, test_top1=0.8485, test_top5=1.0000, test_loss=0.7307, max_test_acc=0.8750, total_time=6.4306, LR=0.00035547\n"
     ]
    },
    {
     "name": "stderr",
     "output_type": "stream",
     "text": [
      "100%|██████████| 17/17 [00:05<00:00,  3.06it/s]\n",
      "100%|██████████| 5/5 [00:00<00:00,  5.55it/s]\n"
     ]
    },
    {
     "name": "stdout",
     "output_type": "stream",
     "text": [
      "epoch=166, train_acc_top1=1.0000, train_acc_top5=1.0000, train_loss=0.0035, test_top1=0.8674, test_top5=0.9886, test_loss=0.7090, max_test_acc=0.8750, total_time=6.4651, LR=0.00035156\n"
     ]
    },
    {
     "name": "stderr",
     "output_type": "stream",
     "text": [
      "100%|██████████| 17/17 [00:05<00:00,  3.08it/s]\n",
      "100%|██████████| 5/5 [00:00<00:00,  5.75it/s]\n"
     ]
    },
    {
     "name": "stdout",
     "output_type": "stream",
     "text": [
      "epoch=167, train_acc_top1=1.0000, train_acc_top5=1.0000, train_loss=0.0041, test_top1=0.8485, test_top5=0.9924, test_loss=0.6664, max_test_acc=0.8750, total_time=6.4060, LR=0.00034766\n"
     ]
    },
    {
     "name": "stderr",
     "output_type": "stream",
     "text": [
      "100%|██████████| 17/17 [00:05<00:00,  3.08it/s]\n",
      "100%|██████████| 5/5 [00:00<00:00,  5.73it/s]\n"
     ]
    },
    {
     "name": "stdout",
     "output_type": "stream",
     "text": [
      "epoch=168, train_acc_top1=0.9972, train_acc_top5=1.0000, train_loss=0.0106, test_top1=0.8447, test_top5=1.0000, test_loss=0.7434, max_test_acc=0.8750, total_time=6.3983, LR=0.00034375\n"
     ]
    },
    {
     "name": "stderr",
     "output_type": "stream",
     "text": [
      "100%|██████████| 17/17 [00:05<00:00,  3.08it/s]\n",
      "100%|██████████| 5/5 [00:00<00:00,  5.75it/s]\n"
     ]
    },
    {
     "name": "stdout",
     "output_type": "stream",
     "text": [
      "epoch=169, train_acc_top1=0.9944, train_acc_top5=1.0000, train_loss=0.0169, test_top1=0.8333, test_top5=0.9924, test_loss=0.7001, max_test_acc=0.8750, total_time=6.3930, LR=0.00033984\n"
     ]
    },
    {
     "name": "stderr",
     "output_type": "stream",
     "text": [
      "100%|██████████| 17/17 [00:05<00:00,  3.08it/s]\n",
      "100%|██████████| 5/5 [00:00<00:00,  5.66it/s]\n"
     ]
    },
    {
     "name": "stdout",
     "output_type": "stream",
     "text": [
      "epoch=170, train_acc_top1=0.9981, train_acc_top5=1.0000, train_loss=0.0090, test_top1=0.8561, test_top5=0.9962, test_loss=0.6253, max_test_acc=0.8750, total_time=6.4021, LR=0.00033594\n"
     ]
    },
    {
     "name": "stderr",
     "output_type": "stream",
     "text": [
      "100%|██████████| 17/17 [00:05<00:00,  3.08it/s]\n",
      "100%|██████████| 5/5 [00:00<00:00,  5.57it/s]\n"
     ]
    },
    {
     "name": "stdout",
     "output_type": "stream",
     "text": [
      "epoch=171, train_acc_top1=0.9991, train_acc_top5=1.0000, train_loss=0.0047, test_top1=0.8447, test_top5=1.0000, test_loss=0.7254, max_test_acc=0.8750, total_time=6.4247, LR=0.00033203\n"
     ]
    },
    {
     "name": "stderr",
     "output_type": "stream",
     "text": [
      "100%|██████████| 17/17 [00:05<00:00,  3.07it/s]\n",
      "100%|██████████| 5/5 [00:00<00:00,  5.68it/s]\n"
     ]
    },
    {
     "name": "stdout",
     "output_type": "stream",
     "text": [
      "epoch=172, train_acc_top1=1.0000, train_acc_top5=1.0000, train_loss=0.0028, test_top1=0.8561, test_top5=1.0000, test_loss=0.6476, max_test_acc=0.8750, total_time=6.4196, LR=0.00032813\n"
     ]
    },
    {
     "name": "stderr",
     "output_type": "stream",
     "text": [
      "100%|██████████| 17/17 [00:05<00:00,  3.08it/s]\n",
      "100%|██████████| 5/5 [00:00<00:00,  5.64it/s]\n"
     ]
    },
    {
     "name": "stdout",
     "output_type": "stream",
     "text": [
      "epoch=173, train_acc_top1=1.0000, train_acc_top5=1.0000, train_loss=0.0023, test_top1=0.8598, test_top5=1.0000, test_loss=0.6462, max_test_acc=0.8750, total_time=6.4146, LR=0.00032422\n"
     ]
    },
    {
     "name": "stderr",
     "output_type": "stream",
     "text": [
      "100%|██████████| 17/17 [00:05<00:00,  3.08it/s]\n",
      "100%|██████████| 5/5 [00:00<00:00,  5.61it/s]\n"
     ]
    },
    {
     "name": "stdout",
     "output_type": "stream",
     "text": [
      "epoch=174, train_acc_top1=1.0000, train_acc_top5=1.0000, train_loss=0.0020, test_top1=0.8674, test_top5=1.0000, test_loss=0.6145, max_test_acc=0.8750, total_time=6.4154, LR=0.00032031\n"
     ]
    },
    {
     "name": "stderr",
     "output_type": "stream",
     "text": [
      "100%|██████████| 17/17 [00:05<00:00,  3.09it/s]\n",
      "100%|██████████| 5/5 [00:00<00:00,  5.63it/s]\n"
     ]
    },
    {
     "name": "stdout",
     "output_type": "stream",
     "text": [
      "epoch=175, train_acc_top1=1.0000, train_acc_top5=1.0000, train_loss=0.0015, test_top1=0.8712, test_top5=0.9962, test_loss=0.6663, max_test_acc=0.8750, total_time=6.4055, LR=0.00031641\n"
     ]
    },
    {
     "name": "stderr",
     "output_type": "stream",
     "text": [
      "100%|██████████| 17/17 [00:05<00:00,  3.06it/s]\n",
      "100%|██████████| 5/5 [00:00<00:00,  5.45it/s]\n"
     ]
    },
    {
     "name": "stdout",
     "output_type": "stream",
     "text": [
      "epoch=176, train_acc_top1=1.0000, train_acc_top5=1.0000, train_loss=0.0016, test_top1=0.8750, test_top5=0.9962, test_loss=0.6470, max_test_acc=0.8750, total_time=6.7927, LR=0.00031250\n"
     ]
    },
    {
     "name": "stderr",
     "output_type": "stream",
     "text": [
      "100%|██████████| 17/17 [00:05<00:00,  3.07it/s]\n",
      "100%|██████████| 5/5 [00:00<00:00,  5.53it/s]\n"
     ]
    },
    {
     "name": "stdout",
     "output_type": "stream",
     "text": [
      "epoch=177, train_acc_top1=1.0000, train_acc_top5=1.0000, train_loss=0.0014, test_top1=0.8674, test_top5=0.9962, test_loss=0.6496, max_test_acc=0.8750, total_time=6.4556, LR=0.00030859\n"
     ]
    },
    {
     "name": "stderr",
     "output_type": "stream",
     "text": [
      "100%|██████████| 17/17 [00:05<00:00,  3.08it/s]\n",
      "100%|██████████| 5/5 [00:00<00:00,  5.56it/s]\n"
     ]
    },
    {
     "name": "stdout",
     "output_type": "stream",
     "text": [
      "epoch=178, train_acc_top1=1.0000, train_acc_top5=1.0000, train_loss=0.0012, test_top1=0.8674, test_top5=0.9962, test_loss=0.6616, max_test_acc=0.8750, total_time=6.4193, LR=0.00030469\n"
     ]
    },
    {
     "name": "stderr",
     "output_type": "stream",
     "text": [
      "100%|██████████| 17/17 [00:05<00:00,  3.09it/s]\n",
      "100%|██████████| 5/5 [00:00<00:00,  5.63it/s]\n"
     ]
    },
    {
     "name": "stdout",
     "output_type": "stream",
     "text": [
      "epoch=179, train_acc_top1=1.0000, train_acc_top5=1.0000, train_loss=0.0012, test_top1=0.8636, test_top5=1.0000, test_loss=0.6516, max_test_acc=0.8750, total_time=6.4069, LR=0.00030078\n"
     ]
    },
    {
     "name": "stderr",
     "output_type": "stream",
     "text": [
      "100%|██████████| 17/17 [00:05<00:00,  3.08it/s]\n",
      "100%|██████████| 5/5 [00:00<00:00,  5.49it/s]\n"
     ]
    },
    {
     "name": "stdout",
     "output_type": "stream",
     "text": [
      "epoch=180, train_acc_top1=1.0000, train_acc_top5=1.0000, train_loss=0.0012, test_top1=0.8636, test_top5=0.9924, test_loss=0.6484, max_test_acc=0.8750, total_time=6.4480, LR=0.00029687\n"
     ]
    },
    {
     "name": "stderr",
     "output_type": "stream",
     "text": [
      "100%|██████████| 17/17 [00:05<00:00,  3.09it/s]\n",
      "100%|██████████| 5/5 [00:00<00:00,  5.35it/s]\n"
     ]
    },
    {
     "name": "stdout",
     "output_type": "stream",
     "text": [
      "epoch=181, train_acc_top1=1.0000, train_acc_top5=1.0000, train_loss=0.0016, test_top1=0.8636, test_top5=0.9962, test_loss=0.6883, max_test_acc=0.8750, total_time=6.4504, LR=0.00029297\n"
     ]
    },
    {
     "name": "stderr",
     "output_type": "stream",
     "text": [
      "100%|██████████| 17/17 [00:05<00:00,  3.01it/s]\n",
      "100%|██████████| 5/5 [00:00<00:00,  5.44it/s]\n"
     ]
    },
    {
     "name": "stdout",
     "output_type": "stream",
     "text": [
      "epoch=182, train_acc_top1=1.0000, train_acc_top5=1.0000, train_loss=0.0021, test_top1=0.8598, test_top5=1.0000, test_loss=0.6585, max_test_acc=0.8750, total_time=6.5672, LR=0.00028906\n"
     ]
    },
    {
     "name": "stderr",
     "output_type": "stream",
     "text": [
      "100%|██████████| 17/17 [00:05<00:00,  3.05it/s]\n",
      "100%|██████████| 5/5 [00:00<00:00,  5.78it/s]\n"
     ]
    },
    {
     "name": "stdout",
     "output_type": "stream",
     "text": [
      "epoch=183, train_acc_top1=1.0000, train_acc_top5=1.0000, train_loss=0.0018, test_top1=0.8674, test_top5=0.9924, test_loss=0.7413, max_test_acc=0.8750, total_time=6.4496, LR=0.00028516\n"
     ]
    },
    {
     "name": "stderr",
     "output_type": "stream",
     "text": [
      "100%|██████████| 17/17 [00:05<00:00,  3.07it/s]\n",
      "100%|██████████| 5/5 [00:00<00:00,  5.46it/s]\n"
     ]
    },
    {
     "name": "stdout",
     "output_type": "stream",
     "text": [
      "epoch=184, train_acc_top1=1.0000, train_acc_top5=1.0000, train_loss=0.0018, test_top1=0.8598, test_top5=0.9924, test_loss=0.6919, max_test_acc=0.8750, total_time=6.4668, LR=0.00028125\n"
     ]
    },
    {
     "name": "stderr",
     "output_type": "stream",
     "text": [
      "100%|██████████| 17/17 [00:05<00:00,  3.07it/s]\n",
      "100%|██████████| 5/5 [00:00<00:00,  5.77it/s]\n"
     ]
    },
    {
     "name": "stdout",
     "output_type": "stream",
     "text": [
      "epoch=185, train_acc_top1=1.0000, train_acc_top5=1.0000, train_loss=0.0017, test_top1=0.8523, test_top5=1.0000, test_loss=0.6564, max_test_acc=0.8750, total_time=6.4083, LR=0.00027734\n"
     ]
    },
    {
     "name": "stderr",
     "output_type": "stream",
     "text": [
      "100%|██████████| 17/17 [00:05<00:00,  3.05it/s]\n",
      "100%|██████████| 5/5 [00:00<00:00,  5.62it/s]\n"
     ]
    },
    {
     "name": "stdout",
     "output_type": "stream",
     "text": [
      "epoch=186, train_acc_top1=1.0000, train_acc_top5=1.0000, train_loss=0.0016, test_top1=0.8636, test_top5=1.0000, test_loss=0.7118, max_test_acc=0.8750, total_time=6.4654, LR=0.00027344\n"
     ]
    },
    {
     "name": "stderr",
     "output_type": "stream",
     "text": [
      "100%|██████████| 17/17 [00:05<00:00,  3.07it/s]\n",
      "100%|██████████| 5/5 [00:00<00:00,  5.55it/s]\n"
     ]
    },
    {
     "name": "stdout",
     "output_type": "stream",
     "text": [
      "epoch=187, train_acc_top1=1.0000, train_acc_top5=1.0000, train_loss=0.0014, test_top1=0.8598, test_top5=1.0000, test_loss=0.6547, max_test_acc=0.8750, total_time=6.4412, LR=0.00026953\n"
     ]
    },
    {
     "name": "stderr",
     "output_type": "stream",
     "text": [
      "100%|██████████| 17/17 [00:05<00:00,  3.06it/s]\n",
      "100%|██████████| 5/5 [00:00<00:00,  5.18it/s]\n"
     ]
    },
    {
     "name": "stdout",
     "output_type": "stream",
     "text": [
      "epoch=188, train_acc_top1=1.0000, train_acc_top5=1.0000, train_loss=0.0011, test_top1=0.8788, test_top5=1.0000, test_loss=0.6401, max_test_acc=0.8788, total_time=6.8488, LR=0.00026563\n"
     ]
    },
    {
     "name": "stderr",
     "output_type": "stream",
     "text": [
      "100%|██████████| 17/17 [00:05<00:00,  3.07it/s]\n",
      "100%|██████████| 5/5 [00:00<00:00,  5.57it/s]\n"
     ]
    },
    {
     "name": "stdout",
     "output_type": "stream",
     "text": [
      "epoch=189, train_acc_top1=1.0000, train_acc_top5=1.0000, train_loss=0.0011, test_top1=0.8561, test_top5=0.9962, test_loss=0.7488, max_test_acc=0.8788, total_time=6.4369, LR=0.00026172\n"
     ]
    },
    {
     "name": "stderr",
     "output_type": "stream",
     "text": [
      "100%|██████████| 17/17 [00:05<00:00,  3.08it/s]\n",
      "100%|██████████| 5/5 [00:00<00:00,  5.52it/s]\n"
     ]
    },
    {
     "name": "stdout",
     "output_type": "stream",
     "text": [
      "epoch=190, train_acc_top1=1.0000, train_acc_top5=1.0000, train_loss=0.0010, test_top1=0.8712, test_top5=0.9962, test_loss=0.6786, max_test_acc=0.8788, total_time=6.4398, LR=0.00025781\n"
     ]
    },
    {
     "name": "stderr",
     "output_type": "stream",
     "text": [
      "100%|██████████| 17/17 [00:05<00:00,  2.98it/s]\n",
      "100%|██████████| 5/5 [00:00<00:00,  5.50it/s]\n"
     ]
    },
    {
     "name": "stdout",
     "output_type": "stream",
     "text": [
      "epoch=191, train_acc_top1=1.0000, train_acc_top5=1.0000, train_loss=0.0010, test_top1=0.8674, test_top5=1.0000, test_loss=0.6789, max_test_acc=0.8788, total_time=6.6153, LR=0.00025391\n"
     ]
    },
    {
     "name": "stderr",
     "output_type": "stream",
     "text": [
      "100%|██████████| 17/17 [00:05<00:00,  2.99it/s]\n",
      "100%|██████████| 5/5 [00:00<00:00,  5.58it/s]\n"
     ]
    },
    {
     "name": "stdout",
     "output_type": "stream",
     "text": [
      "epoch=192, train_acc_top1=1.0000, train_acc_top5=1.0000, train_loss=0.0009, test_top1=0.8598, test_top5=1.0000, test_loss=0.7223, max_test_acc=0.8788, total_time=6.5917, LR=0.00025000\n"
     ]
    },
    {
     "name": "stderr",
     "output_type": "stream",
     "text": [
      "100%|██████████| 17/17 [00:05<00:00,  3.00it/s]\n",
      "100%|██████████| 5/5 [00:00<00:00,  5.45it/s]\n"
     ]
    },
    {
     "name": "stdout",
     "output_type": "stream",
     "text": [
      "epoch=193, train_acc_top1=1.0000, train_acc_top5=1.0000, train_loss=0.0010, test_top1=0.8750, test_top5=1.0000, test_loss=0.6858, max_test_acc=0.8788, total_time=6.5892, LR=0.00024609\n"
     ]
    },
    {
     "name": "stderr",
     "output_type": "stream",
     "text": [
      "100%|██████████| 17/17 [00:05<00:00,  3.02it/s]\n",
      "100%|██████████| 5/5 [00:00<00:00,  5.46it/s]\n"
     ]
    },
    {
     "name": "stdout",
     "output_type": "stream",
     "text": [
      "epoch=194, train_acc_top1=1.0000, train_acc_top5=1.0000, train_loss=0.0010, test_top1=0.8636, test_top5=0.9962, test_loss=0.7100, max_test_acc=0.8788, total_time=6.5538, LR=0.00024219\n"
     ]
    },
    {
     "name": "stderr",
     "output_type": "stream",
     "text": [
      "100%|██████████| 17/17 [00:05<00:00,  3.08it/s]\n",
      "100%|██████████| 5/5 [00:00<00:00,  5.61it/s]\n"
     ]
    },
    {
     "name": "stdout",
     "output_type": "stream",
     "text": [
      "epoch=195, train_acc_top1=1.0000, train_acc_top5=1.0000, train_loss=0.0011, test_top1=0.8636, test_top5=1.0000, test_loss=0.6958, max_test_acc=0.8788, total_time=6.4271, LR=0.00023828\n"
     ]
    },
    {
     "name": "stderr",
     "output_type": "stream",
     "text": [
      "100%|██████████| 17/17 [00:05<00:00,  3.06it/s]\n",
      "100%|██████████| 5/5 [00:00<00:00,  5.55it/s]\n"
     ]
    },
    {
     "name": "stdout",
     "output_type": "stream",
     "text": [
      "epoch=196, train_acc_top1=1.0000, train_acc_top5=1.0000, train_loss=0.0008, test_top1=0.8636, test_top5=1.0000, test_loss=0.7566, max_test_acc=0.8788, total_time=6.4737, LR=0.00023437\n"
     ]
    },
    {
     "name": "stderr",
     "output_type": "stream",
     "text": [
      "100%|██████████| 17/17 [00:05<00:00,  3.08it/s]\n",
      "100%|██████████| 5/5 [00:00<00:00,  5.61it/s]\n"
     ]
    },
    {
     "name": "stdout",
     "output_type": "stream",
     "text": [
      "epoch=197, train_acc_top1=1.0000, train_acc_top5=1.0000, train_loss=0.0009, test_top1=0.8636, test_top5=1.0000, test_loss=0.7091, max_test_acc=0.8788, total_time=6.4261, LR=0.00023047\n"
     ]
    },
    {
     "name": "stderr",
     "output_type": "stream",
     "text": [
      "100%|██████████| 17/17 [00:05<00:00,  3.07it/s]\n",
      "100%|██████████| 5/5 [00:00<00:00,  5.54it/s]\n"
     ]
    },
    {
     "name": "stdout",
     "output_type": "stream",
     "text": [
      "epoch=198, train_acc_top1=1.0000, train_acc_top5=1.0000, train_loss=0.0011, test_top1=0.8561, test_top5=1.0000, test_loss=0.7469, max_test_acc=0.8788, total_time=6.4523, LR=0.00022656\n"
     ]
    },
    {
     "name": "stderr",
     "output_type": "stream",
     "text": [
      "100%|██████████| 17/17 [00:05<00:00,  3.08it/s]\n",
      "100%|██████████| 5/5 [00:00<00:00,  5.55it/s]\n"
     ]
    },
    {
     "name": "stdout",
     "output_type": "stream",
     "text": [
      "epoch=199, train_acc_top1=1.0000, train_acc_top5=1.0000, train_loss=0.0009, test_top1=0.8561, test_top5=1.0000, test_loss=0.7525, max_test_acc=0.8788, total_time=6.4241, LR=0.00022266\n"
     ]
    },
    {
     "name": "stderr",
     "output_type": "stream",
     "text": [
      "100%|██████████| 17/17 [00:05<00:00,  3.07it/s]\n",
      "100%|██████████| 5/5 [00:00<00:00,  5.60it/s]\n"
     ]
    },
    {
     "name": "stdout",
     "output_type": "stream",
     "text": [
      "epoch=200, train_acc_top1=1.0000, train_acc_top5=1.0000, train_loss=0.0009, test_top1=0.8674, test_top5=1.0000, test_loss=0.7296, max_test_acc=0.8788, total_time=6.4349, LR=0.00021875\n"
     ]
    },
    {
     "name": "stderr",
     "output_type": "stream",
     "text": [
      "100%|██████████| 17/17 [00:05<00:00,  3.07it/s]\n",
      "100%|██████████| 5/5 [00:00<00:00,  5.60it/s]\n"
     ]
    },
    {
     "name": "stdout",
     "output_type": "stream",
     "text": [
      "epoch=201, train_acc_top1=1.0000, train_acc_top5=1.0000, train_loss=0.0008, test_top1=0.8712, test_top5=1.0000, test_loss=0.7151, max_test_acc=0.8788, total_time=6.4329, LR=0.00021484\n"
     ]
    },
    {
     "name": "stderr",
     "output_type": "stream",
     "text": [
      "100%|██████████| 17/17 [00:05<00:00,  3.09it/s]\n",
      "100%|██████████| 5/5 [00:00<00:00,  5.65it/s]\n"
     ]
    },
    {
     "name": "stdout",
     "output_type": "stream",
     "text": [
      "epoch=202, train_acc_top1=1.0000, train_acc_top5=1.0000, train_loss=0.0008, test_top1=0.8636, test_top5=1.0000, test_loss=0.7176, max_test_acc=0.8788, total_time=6.4026, LR=0.00021094\n"
     ]
    },
    {
     "name": "stderr",
     "output_type": "stream",
     "text": [
      "100%|██████████| 17/17 [00:05<00:00,  3.01it/s]\n",
      "100%|██████████| 5/5 [00:00<00:00,  5.56it/s]\n"
     ]
    },
    {
     "name": "stdout",
     "output_type": "stream",
     "text": [
      "epoch=203, train_acc_top1=1.0000, train_acc_top5=1.0000, train_loss=0.0008, test_top1=0.8598, test_top5=1.0000, test_loss=0.7509, max_test_acc=0.8788, total_time=6.5636, LR=0.00020703\n"
     ]
    },
    {
     "name": "stderr",
     "output_type": "stream",
     "text": [
      "100%|██████████| 17/17 [00:05<00:00,  3.01it/s]\n",
      "100%|██████████| 5/5 [00:00<00:00,  5.51it/s]\n"
     ]
    },
    {
     "name": "stdout",
     "output_type": "stream",
     "text": [
      "epoch=204, train_acc_top1=1.0000, train_acc_top5=1.0000, train_loss=0.0007, test_top1=0.8674, test_top5=1.0000, test_loss=0.7222, max_test_acc=0.8788, total_time=6.5721, LR=0.00020313\n"
     ]
    },
    {
     "name": "stderr",
     "output_type": "stream",
     "text": [
      "100%|██████████| 17/17 [00:05<00:00,  3.08it/s]\n",
      "100%|██████████| 5/5 [00:00<00:00,  5.65it/s]\n"
     ]
    },
    {
     "name": "stdout",
     "output_type": "stream",
     "text": [
      "epoch=205, train_acc_top1=1.0000, train_acc_top5=1.0000, train_loss=0.0007, test_top1=0.8636, test_top5=1.0000, test_loss=0.7349, max_test_acc=0.8788, total_time=6.4113, LR=0.00019922\n"
     ]
    },
    {
     "name": "stderr",
     "output_type": "stream",
     "text": [
      "100%|██████████| 17/17 [00:05<00:00,  3.07it/s]\n",
      "100%|██████████| 5/5 [00:00<00:00,  5.50it/s]\n"
     ]
    },
    {
     "name": "stdout",
     "output_type": "stream",
     "text": [
      "epoch=206, train_acc_top1=1.0000, train_acc_top5=1.0000, train_loss=0.0007, test_top1=0.8598, test_top5=0.9962, test_loss=0.7734, max_test_acc=0.8788, total_time=6.4616, LR=0.00019531\n"
     ]
    },
    {
     "name": "stderr",
     "output_type": "stream",
     "text": [
      "100%|██████████| 17/17 [00:05<00:00,  3.06it/s]\n",
      "100%|██████████| 5/5 [00:00<00:00,  5.38it/s]\n"
     ]
    },
    {
     "name": "stdout",
     "output_type": "stream",
     "text": [
      "epoch=207, train_acc_top1=1.0000, train_acc_top5=1.0000, train_loss=0.0008, test_top1=0.8598, test_top5=1.0000, test_loss=0.7697, max_test_acc=0.8788, total_time=6.5022, LR=0.00019141\n"
     ]
    },
    {
     "name": "stderr",
     "output_type": "stream",
     "text": [
      "100%|██████████| 17/17 [00:05<00:00,  3.02it/s]\n",
      "100%|██████████| 5/5 [00:00<00:00,  5.19it/s]\n"
     ]
    },
    {
     "name": "stdout",
     "output_type": "stream",
     "text": [
      "epoch=208, train_acc_top1=1.0000, train_acc_top5=1.0000, train_loss=0.0007, test_top1=0.8561, test_top5=1.0000, test_loss=0.7630, max_test_acc=0.8788, total_time=6.5938, LR=0.00018750\n"
     ]
    },
    {
     "name": "stderr",
     "output_type": "stream",
     "text": [
      "100%|██████████| 17/17 [00:05<00:00,  3.06it/s]\n",
      "100%|██████████| 5/5 [00:00<00:00,  5.63it/s]\n"
     ]
    },
    {
     "name": "stdout",
     "output_type": "stream",
     "text": [
      "epoch=209, train_acc_top1=1.0000, train_acc_top5=1.0000, train_loss=0.0008, test_top1=0.8523, test_top5=1.0000, test_loss=0.7740, max_test_acc=0.8788, total_time=6.4476, LR=0.00018359\n"
     ]
    },
    {
     "name": "stderr",
     "output_type": "stream",
     "text": [
      "100%|██████████| 17/17 [00:05<00:00,  2.97it/s]\n",
      "100%|██████████| 5/5 [00:00<00:00,  5.26it/s]\n"
     ]
    },
    {
     "name": "stdout",
     "output_type": "stream",
     "text": [
      "epoch=210, train_acc_top1=1.0000, train_acc_top5=1.0000, train_loss=0.0007, test_top1=0.8712, test_top5=1.0000, test_loss=0.7108, max_test_acc=0.8788, total_time=6.6903, LR=0.00017969\n"
     ]
    },
    {
     "name": "stderr",
     "output_type": "stream",
     "text": [
      "100%|██████████| 17/17 [00:05<00:00,  3.07it/s]\n",
      "100%|██████████| 5/5 [00:00<00:00,  5.68it/s]\n"
     ]
    },
    {
     "name": "stdout",
     "output_type": "stream",
     "text": [
      "epoch=211, train_acc_top1=1.0000, train_acc_top5=1.0000, train_loss=0.0007, test_top1=0.8750, test_top5=1.0000, test_loss=0.7390, max_test_acc=0.8788, total_time=6.4176, LR=0.00017578\n"
     ]
    },
    {
     "name": "stderr",
     "output_type": "stream",
     "text": [
      "100%|██████████| 17/17 [00:05<00:00,  3.08it/s]\n",
      "100%|██████████| 5/5 [00:00<00:00,  5.65it/s]\n"
     ]
    },
    {
     "name": "stdout",
     "output_type": "stream",
     "text": [
      "epoch=212, train_acc_top1=1.0000, train_acc_top5=1.0000, train_loss=0.0006, test_top1=0.8674, test_top5=0.9962, test_loss=0.7654, max_test_acc=0.8788, total_time=6.4195, LR=0.00017187\n"
     ]
    },
    {
     "name": "stderr",
     "output_type": "stream",
     "text": [
      "100%|██████████| 17/17 [00:05<00:00,  3.04it/s]\n",
      "100%|██████████| 5/5 [00:00<00:00,  5.49it/s]\n"
     ]
    },
    {
     "name": "stdout",
     "output_type": "stream",
     "text": [
      "epoch=213, train_acc_top1=1.0000, train_acc_top5=1.0000, train_loss=0.0006, test_top1=0.8788, test_top5=0.9962, test_loss=0.7427, max_test_acc=0.8788, total_time=6.8200, LR=0.00016797\n"
     ]
    },
    {
     "name": "stderr",
     "output_type": "stream",
     "text": [
      "100%|██████████| 17/17 [00:05<00:00,  3.06it/s]\n",
      "100%|██████████| 5/5 [00:00<00:00,  5.52it/s]\n"
     ]
    },
    {
     "name": "stdout",
     "output_type": "stream",
     "text": [
      "epoch=214, train_acc_top1=1.0000, train_acc_top5=1.0000, train_loss=0.0006, test_top1=0.8750, test_top5=1.0000, test_loss=0.7232, max_test_acc=0.8788, total_time=6.4769, LR=0.00016406\n"
     ]
    },
    {
     "name": "stderr",
     "output_type": "stream",
     "text": [
      "100%|██████████| 17/17 [00:05<00:00,  3.08it/s]\n",
      "100%|██████████| 5/5 [00:00<00:00,  5.56it/s]\n"
     ]
    },
    {
     "name": "stdout",
     "output_type": "stream",
     "text": [
      "epoch=215, train_acc_top1=1.0000, train_acc_top5=1.0000, train_loss=0.0006, test_top1=0.8674, test_top5=1.0000, test_loss=0.7476, max_test_acc=0.8788, total_time=6.4326, LR=0.00016016\n"
     ]
    },
    {
     "name": "stderr",
     "output_type": "stream",
     "text": [
      "100%|██████████| 17/17 [00:05<00:00,  3.04it/s]\n",
      "100%|██████████| 5/5 [00:00<00:00,  5.65it/s]\n"
     ]
    },
    {
     "name": "stdout",
     "output_type": "stream",
     "text": [
      "epoch=216, train_acc_top1=1.0000, train_acc_top5=1.0000, train_loss=0.0006, test_top1=0.8674, test_top5=0.9962, test_loss=0.7393, max_test_acc=0.8788, total_time=6.4825, LR=0.00015625\n"
     ]
    },
    {
     "name": "stderr",
     "output_type": "stream",
     "text": [
      "100%|██████████| 17/17 [00:05<00:00,  3.08it/s]\n",
      "100%|██████████| 5/5 [00:00<00:00,  5.71it/s]\n"
     ]
    },
    {
     "name": "stdout",
     "output_type": "stream",
     "text": [
      "epoch=217, train_acc_top1=1.0000, train_acc_top5=1.0000, train_loss=0.0006, test_top1=0.8598, test_top5=0.9962, test_loss=0.7551, max_test_acc=0.8788, total_time=6.4118, LR=0.00015234\n"
     ]
    },
    {
     "name": "stderr",
     "output_type": "stream",
     "text": [
      "100%|██████████| 17/17 [00:05<00:00,  3.08it/s]\n",
      "100%|██████████| 5/5 [00:00<00:00,  5.52it/s]\n"
     ]
    },
    {
     "name": "stdout",
     "output_type": "stream",
     "text": [
      "epoch=218, train_acc_top1=1.0000, train_acc_top5=1.0000, train_loss=0.0006, test_top1=0.8902, test_top5=0.9962, test_loss=0.7353, max_test_acc=0.8902, total_time=7.0168, LR=0.00014844\n"
     ]
    },
    {
     "name": "stderr",
     "output_type": "stream",
     "text": [
      "100%|██████████| 17/17 [00:05<00:00,  3.07it/s]\n",
      "100%|██████████| 5/5 [00:00<00:00,  5.58it/s]\n"
     ]
    },
    {
     "name": "stdout",
     "output_type": "stream",
     "text": [
      "epoch=219, train_acc_top1=1.0000, train_acc_top5=1.0000, train_loss=0.0006, test_top1=0.8636, test_top5=1.0000, test_loss=0.7700, max_test_acc=0.8902, total_time=6.4376, LR=0.00014453\n"
     ]
    },
    {
     "name": "stderr",
     "output_type": "stream",
     "text": [
      "100%|██████████| 17/17 [00:05<00:00,  3.07it/s]\n",
      "100%|██████████| 5/5 [00:00<00:00,  5.71it/s]\n"
     ]
    },
    {
     "name": "stdout",
     "output_type": "stream",
     "text": [
      "epoch=220, train_acc_top1=1.0000, train_acc_top5=1.0000, train_loss=0.0006, test_top1=0.8674, test_top5=0.9962, test_loss=0.7441, max_test_acc=0.8902, total_time=6.4153, LR=0.00014063\n"
     ]
    },
    {
     "name": "stderr",
     "output_type": "stream",
     "text": [
      "100%|██████████| 17/17 [00:05<00:00,  3.08it/s]\n",
      "100%|██████████| 5/5 [00:00<00:00,  5.69it/s]\n"
     ]
    },
    {
     "name": "stdout",
     "output_type": "stream",
     "text": [
      "epoch=221, train_acc_top1=1.0000, train_acc_top5=1.0000, train_loss=0.0007, test_top1=0.8712, test_top5=1.0000, test_loss=0.7514, max_test_acc=0.8902, total_time=6.4150, LR=0.00013672\n"
     ]
    },
    {
     "name": "stderr",
     "output_type": "stream",
     "text": [
      "100%|██████████| 17/17 [00:05<00:00,  3.08it/s]\n",
      "100%|██████████| 5/5 [00:00<00:00,  5.63it/s]\n"
     ]
    },
    {
     "name": "stdout",
     "output_type": "stream",
     "text": [
      "epoch=222, train_acc_top1=1.0000, train_acc_top5=1.0000, train_loss=0.0006, test_top1=0.8561, test_top5=0.9962, test_loss=0.7618, max_test_acc=0.8902, total_time=6.4094, LR=0.00013281\n"
     ]
    },
    {
     "name": "stderr",
     "output_type": "stream",
     "text": [
      "100%|██████████| 17/17 [00:05<00:00,  3.09it/s]\n",
      "100%|██████████| 5/5 [00:00<00:00,  5.68it/s]\n"
     ]
    },
    {
     "name": "stdout",
     "output_type": "stream",
     "text": [
      "epoch=223, train_acc_top1=1.0000, train_acc_top5=1.0000, train_loss=0.0006, test_top1=0.8674, test_top5=0.9962, test_loss=0.7569, max_test_acc=0.8902, total_time=6.3980, LR=0.00012891\n"
     ]
    },
    {
     "name": "stderr",
     "output_type": "stream",
     "text": [
      "100%|██████████| 17/17 [00:05<00:00,  2.87it/s]\n",
      "100%|██████████| 5/5 [00:00<00:00,  5.56it/s]\n"
     ]
    },
    {
     "name": "stdout",
     "output_type": "stream",
     "text": [
      "epoch=224, train_acc_top1=1.0000, train_acc_top5=1.0000, train_loss=0.0008, test_top1=0.8485, test_top5=0.9962, test_loss=0.7694, max_test_acc=0.8902, total_time=6.8319, LR=0.00012500\n"
     ]
    },
    {
     "name": "stderr",
     "output_type": "stream",
     "text": [
      "100%|██████████| 17/17 [00:05<00:00,  3.08it/s]\n",
      "100%|██████████| 5/5 [00:00<00:00,  5.57it/s]\n"
     ]
    },
    {
     "name": "stdout",
     "output_type": "stream",
     "text": [
      "epoch=225, train_acc_top1=1.0000, train_acc_top5=1.0000, train_loss=0.0008, test_top1=0.8561, test_top5=0.9962, test_loss=0.7580, max_test_acc=0.8902, total_time=6.4305, LR=0.00012109\n"
     ]
    },
    {
     "name": "stderr",
     "output_type": "stream",
     "text": [
      "100%|██████████| 17/17 [00:05<00:00,  3.07it/s]\n",
      "100%|██████████| 5/5 [00:00<00:00,  5.61it/s]\n"
     ]
    },
    {
     "name": "stdout",
     "output_type": "stream",
     "text": [
      "epoch=226, train_acc_top1=1.0000, train_acc_top5=1.0000, train_loss=0.0007, test_top1=0.8598, test_top5=0.9962, test_loss=0.7979, max_test_acc=0.8902, total_time=6.4354, LR=0.00011719\n"
     ]
    },
    {
     "name": "stderr",
     "output_type": "stream",
     "text": [
      "100%|██████████| 17/17 [00:05<00:00,  3.09it/s]\n",
      "100%|██████████| 5/5 [00:00<00:00,  5.53it/s]\n"
     ]
    },
    {
     "name": "stdout",
     "output_type": "stream",
     "text": [
      "epoch=227, train_acc_top1=1.0000, train_acc_top5=1.0000, train_loss=0.0005, test_top1=0.8598, test_top5=1.0000, test_loss=0.7638, max_test_acc=0.8902, total_time=6.4223, LR=0.00011328\n"
     ]
    },
    {
     "name": "stderr",
     "output_type": "stream",
     "text": [
      "100%|██████████| 17/17 [00:05<00:00,  3.08it/s]\n",
      "100%|██████████| 5/5 [00:00<00:00,  5.57it/s]\n"
     ]
    },
    {
     "name": "stdout",
     "output_type": "stream",
     "text": [
      "epoch=228, train_acc_top1=1.0000, train_acc_top5=1.0000, train_loss=0.0006, test_top1=0.8523, test_top5=0.9962, test_loss=0.7633, max_test_acc=0.8902, total_time=6.4304, LR=0.00010938\n"
     ]
    },
    {
     "name": "stderr",
     "output_type": "stream",
     "text": [
      "100%|██████████| 17/17 [00:05<00:00,  3.04it/s]\n",
      "100%|██████████| 5/5 [00:00<00:00,  5.53it/s]\n"
     ]
    },
    {
     "name": "stdout",
     "output_type": "stream",
     "text": [
      "epoch=229, train_acc_top1=1.0000, train_acc_top5=1.0000, train_loss=0.0006, test_top1=0.8561, test_top5=1.0000, test_loss=0.7471, max_test_acc=0.8902, total_time=6.5117, LR=0.00010547\n"
     ]
    },
    {
     "name": "stderr",
     "output_type": "stream",
     "text": [
      "100%|██████████| 17/17 [00:05<00:00,  3.08it/s]\n",
      "100%|██████████| 5/5 [00:00<00:00,  5.43it/s]\n"
     ]
    },
    {
     "name": "stdout",
     "output_type": "stream",
     "text": [
      "epoch=230, train_acc_top1=1.0000, train_acc_top5=1.0000, train_loss=0.0006, test_top1=0.8674, test_top5=0.9962, test_loss=0.7680, max_test_acc=0.8902, total_time=6.4590, LR=0.00010156\n"
     ]
    },
    {
     "name": "stderr",
     "output_type": "stream",
     "text": [
      "100%|██████████| 17/17 [00:05<00:00,  3.05it/s]\n",
      "100%|██████████| 5/5 [00:00<00:00,  5.55it/s]\n"
     ]
    },
    {
     "name": "stdout",
     "output_type": "stream",
     "text": [
      "epoch=231, train_acc_top1=1.0000, train_acc_top5=1.0000, train_loss=0.0005, test_top1=0.8636, test_top5=1.0000, test_loss=0.7765, max_test_acc=0.8902, total_time=6.4762, LR=0.00009766\n"
     ]
    },
    {
     "name": "stderr",
     "output_type": "stream",
     "text": [
      "100%|██████████| 17/17 [00:05<00:00,  3.07it/s]\n",
      "100%|██████████| 5/5 [00:00<00:00,  5.57it/s]\n"
     ]
    },
    {
     "name": "stdout",
     "output_type": "stream",
     "text": [
      "epoch=232, train_acc_top1=1.0000, train_acc_top5=1.0000, train_loss=0.0006, test_top1=0.8598, test_top5=0.9962, test_loss=0.7577, max_test_acc=0.8902, total_time=6.4375, LR=0.00009375\n"
     ]
    },
    {
     "name": "stderr",
     "output_type": "stream",
     "text": [
      "100%|██████████| 17/17 [00:05<00:00,  3.08it/s]\n",
      "100%|██████████| 5/5 [00:00<00:00,  5.60it/s]\n"
     ]
    },
    {
     "name": "stdout",
     "output_type": "stream",
     "text": [
      "epoch=233, train_acc_top1=1.0000, train_acc_top5=1.0000, train_loss=0.0006, test_top1=0.8598, test_top5=1.0000, test_loss=0.7385, max_test_acc=0.8902, total_time=6.4136, LR=0.00008984\n"
     ]
    },
    {
     "name": "stderr",
     "output_type": "stream",
     "text": [
      "100%|██████████| 17/17 [00:05<00:00,  3.06it/s]\n",
      "100%|██████████| 5/5 [00:00<00:00,  5.44it/s]\n"
     ]
    },
    {
     "name": "stdout",
     "output_type": "stream",
     "text": [
      "epoch=234, train_acc_top1=1.0000, train_acc_top5=1.0000, train_loss=0.0005, test_top1=0.8788, test_top5=0.9962, test_loss=0.7673, max_test_acc=0.8902, total_time=6.4763, LR=0.00008594\n"
     ]
    },
    {
     "name": "stderr",
     "output_type": "stream",
     "text": [
      "100%|██████████| 17/17 [00:05<00:00,  3.04it/s]\n",
      "100%|██████████| 5/5 [00:00<00:00,  5.61it/s]\n"
     ]
    },
    {
     "name": "stdout",
     "output_type": "stream",
     "text": [
      "epoch=235, train_acc_top1=1.0000, train_acc_top5=1.0000, train_loss=0.0005, test_top1=0.8636, test_top5=0.9962, test_loss=0.7606, max_test_acc=0.8902, total_time=6.6503, LR=0.00008203\n"
     ]
    },
    {
     "name": "stderr",
     "output_type": "stream",
     "text": [
      "100%|██████████| 17/17 [00:05<00:00,  2.99it/s]\n",
      "100%|██████████| 5/5 [00:00<00:00,  5.48it/s]\n"
     ]
    },
    {
     "name": "stdout",
     "output_type": "stream",
     "text": [
      "epoch=236, train_acc_top1=1.0000, train_acc_top5=1.0000, train_loss=0.0006, test_top1=0.8523, test_top5=0.9962, test_loss=0.7573, max_test_acc=0.8902, total_time=6.6125, LR=0.00007813\n"
     ]
    },
    {
     "name": "stderr",
     "output_type": "stream",
     "text": [
      "100%|██████████| 17/17 [00:05<00:00,  3.00it/s]\n",
      "100%|██████████| 5/5 [00:00<00:00,  5.44it/s]\n"
     ]
    },
    {
     "name": "stdout",
     "output_type": "stream",
     "text": [
      "epoch=237, train_acc_top1=1.0000, train_acc_top5=1.0000, train_loss=0.0005, test_top1=0.8598, test_top5=1.0000, test_loss=0.7568, max_test_acc=0.8902, total_time=6.5915, LR=0.00007422\n"
     ]
    },
    {
     "name": "stderr",
     "output_type": "stream",
     "text": [
      "100%|██████████| 17/17 [00:05<00:00,  3.08it/s]\n",
      "100%|██████████| 5/5 [00:00<00:00,  5.43it/s]\n"
     ]
    },
    {
     "name": "stdout",
     "output_type": "stream",
     "text": [
      "epoch=238, train_acc_top1=1.0000, train_acc_top5=1.0000, train_loss=0.0005, test_top1=0.8674, test_top5=0.9962, test_loss=0.7560, max_test_acc=0.8902, total_time=6.4472, LR=0.00007031\n"
     ]
    },
    {
     "name": "stderr",
     "output_type": "stream",
     "text": [
      "100%|██████████| 17/17 [00:05<00:00,  3.06it/s]\n",
      "100%|██████████| 5/5 [00:00<00:00,  5.56it/s]\n"
     ]
    },
    {
     "name": "stdout",
     "output_type": "stream",
     "text": [
      "epoch=239, train_acc_top1=1.0000, train_acc_top5=1.0000, train_loss=0.0005, test_top1=0.8788, test_top5=0.9962, test_loss=0.7636, max_test_acc=0.8902, total_time=6.4680, LR=0.00006641\n"
     ]
    },
    {
     "name": "stderr",
     "output_type": "stream",
     "text": [
      "100%|██████████| 17/17 [00:05<00:00,  3.09it/s]\n",
      "100%|██████████| 5/5 [00:00<00:00,  5.38it/s]\n"
     ]
    },
    {
     "name": "stdout",
     "output_type": "stream",
     "text": [
      "epoch=240, train_acc_top1=1.0000, train_acc_top5=1.0000, train_loss=0.0006, test_top1=0.8674, test_top5=0.9962, test_loss=0.7616, max_test_acc=0.8902, total_time=6.4480, LR=0.00006250\n"
     ]
    },
    {
     "name": "stderr",
     "output_type": "stream",
     "text": [
      "100%|██████████| 17/17 [00:05<00:00,  3.07it/s]\n",
      "100%|██████████| 5/5 [00:00<00:00,  5.62it/s]\n"
     ]
    },
    {
     "name": "stdout",
     "output_type": "stream",
     "text": [
      "epoch=241, train_acc_top1=1.0000, train_acc_top5=1.0000, train_loss=0.0005, test_top1=0.8523, test_top5=1.0000, test_loss=0.7802, max_test_acc=0.8902, total_time=6.4352, LR=0.00005859\n"
     ]
    },
    {
     "name": "stderr",
     "output_type": "stream",
     "text": [
      "100%|██████████| 17/17 [00:05<00:00,  3.08it/s]\n",
      "100%|██████████| 5/5 [00:00<00:00,  5.52it/s]\n"
     ]
    },
    {
     "name": "stdout",
     "output_type": "stream",
     "text": [
      "epoch=242, train_acc_top1=1.0000, train_acc_top5=1.0000, train_loss=0.0005, test_top1=0.8561, test_top5=0.9962, test_loss=0.7442, max_test_acc=0.8902, total_time=6.4373, LR=0.00005469\n"
     ]
    },
    {
     "name": "stderr",
     "output_type": "stream",
     "text": [
      "100%|██████████| 17/17 [00:05<00:00,  3.07it/s]\n",
      "100%|██████████| 5/5 [00:00<00:00,  5.61it/s]\n"
     ]
    },
    {
     "name": "stdout",
     "output_type": "stream",
     "text": [
      "epoch=243, train_acc_top1=1.0000, train_acc_top5=1.0000, train_loss=0.0005, test_top1=0.8712, test_top5=0.9962, test_loss=0.7364, max_test_acc=0.8902, total_time=6.4329, LR=0.00005078\n"
     ]
    },
    {
     "name": "stderr",
     "output_type": "stream",
     "text": [
      "100%|██████████| 17/17 [00:05<00:00,  3.05it/s]\n",
      "100%|██████████| 5/5 [00:00<00:00,  5.11it/s]\n"
     ]
    },
    {
     "name": "stdout",
     "output_type": "stream",
     "text": [
      "epoch=244, train_acc_top1=1.0000, train_acc_top5=1.0000, train_loss=0.0005, test_top1=0.8598, test_top5=1.0000, test_loss=0.7570, max_test_acc=0.8902, total_time=6.5695, LR=0.00004688\n"
     ]
    },
    {
     "name": "stderr",
     "output_type": "stream",
     "text": [
      "100%|██████████| 17/17 [00:05<00:00,  3.04it/s]\n",
      "100%|██████████| 5/5 [00:00<00:00,  5.36it/s]\n"
     ]
    },
    {
     "name": "stdout",
     "output_type": "stream",
     "text": [
      "epoch=245, train_acc_top1=1.0000, train_acc_top5=1.0000, train_loss=0.0005, test_top1=0.8561, test_top5=1.0000, test_loss=0.7774, max_test_acc=0.8902, total_time=6.5376, LR=0.00004297\n"
     ]
    },
    {
     "name": "stderr",
     "output_type": "stream",
     "text": [
      "100%|██████████| 17/17 [00:05<00:00,  3.06it/s]\n",
      "100%|██████████| 5/5 [00:00<00:00,  5.53it/s]\n"
     ]
    },
    {
     "name": "stdout",
     "output_type": "stream",
     "text": [
      "epoch=246, train_acc_top1=1.0000, train_acc_top5=1.0000, train_loss=0.0005, test_top1=0.8674, test_top5=0.9962, test_loss=0.7337, max_test_acc=0.8902, total_time=6.4693, LR=0.00003906\n"
     ]
    },
    {
     "name": "stderr",
     "output_type": "stream",
     "text": [
      "100%|██████████| 17/17 [00:05<00:00,  3.03it/s]\n",
      "100%|██████████| 5/5 [00:00<00:00,  5.54it/s]\n"
     ]
    },
    {
     "name": "stdout",
     "output_type": "stream",
     "text": [
      "epoch=247, train_acc_top1=1.0000, train_acc_top5=1.0000, train_loss=0.0005, test_top1=0.8712, test_top5=0.9924, test_loss=0.7549, max_test_acc=0.8902, total_time=6.5199, LR=0.00003516\n"
     ]
    },
    {
     "name": "stderr",
     "output_type": "stream",
     "text": [
      "100%|██████████| 17/17 [00:05<00:00,  3.06it/s]\n",
      "100%|██████████| 5/5 [00:00<00:00,  5.46it/s]\n"
     ]
    },
    {
     "name": "stdout",
     "output_type": "stream",
     "text": [
      "epoch=248, train_acc_top1=1.0000, train_acc_top5=1.0000, train_loss=0.0005, test_top1=0.8485, test_top5=0.9962, test_loss=0.7735, max_test_acc=0.8902, total_time=6.4808, LR=0.00003125\n"
     ]
    },
    {
     "name": "stderr",
     "output_type": "stream",
     "text": [
      "100%|██████████| 17/17 [00:05<00:00,  3.07it/s]\n",
      "100%|██████████| 5/5 [00:00<00:00,  5.40it/s]\n"
     ]
    },
    {
     "name": "stdout",
     "output_type": "stream",
     "text": [
      "epoch=249, train_acc_top1=1.0000, train_acc_top5=1.0000, train_loss=0.0005, test_top1=0.8636, test_top5=1.0000, test_loss=0.7587, max_test_acc=0.8902, total_time=6.4780, LR=0.00002734\n"
     ]
    },
    {
     "name": "stderr",
     "output_type": "stream",
     "text": [
      "100%|██████████| 17/17 [00:05<00:00,  3.06it/s]\n",
      "100%|██████████| 5/5 [00:00<00:00,  5.59it/s]\n"
     ]
    },
    {
     "name": "stdout",
     "output_type": "stream",
     "text": [
      "epoch=250, train_acc_top1=1.0000, train_acc_top5=1.0000, train_loss=0.0005, test_top1=0.8636, test_top5=0.9962, test_loss=0.7505, max_test_acc=0.8902, total_time=6.4604, LR=0.00002344\n"
     ]
    },
    {
     "name": "stderr",
     "output_type": "stream",
     "text": [
      "100%|██████████| 17/17 [00:05<00:00,  3.06it/s]\n",
      "100%|██████████| 5/5 [00:00<00:00,  5.48it/s]\n"
     ]
    },
    {
     "name": "stdout",
     "output_type": "stream",
     "text": [
      "epoch=251, train_acc_top1=1.0000, train_acc_top5=1.0000, train_loss=0.0005, test_top1=0.8674, test_top5=0.9962, test_loss=0.7526, max_test_acc=0.8902, total_time=6.4792, LR=0.00001953\n"
     ]
    },
    {
     "name": "stderr",
     "output_type": "stream",
     "text": [
      "100%|██████████| 17/17 [00:05<00:00,  2.90it/s]\n",
      "100%|██████████| 5/5 [00:00<00:00,  5.46it/s]\n"
     ]
    },
    {
     "name": "stdout",
     "output_type": "stream",
     "text": [
      "epoch=252, train_acc_top1=1.0000, train_acc_top5=1.0000, train_loss=0.0005, test_top1=0.8598, test_top5=1.0000, test_loss=0.7592, max_test_acc=0.8902, total_time=6.7795, LR=0.00001563\n"
     ]
    },
    {
     "name": "stderr",
     "output_type": "stream",
     "text": [
      "100%|██████████| 17/17 [00:05<00:00,  3.07it/s]\n",
      "100%|██████████| 5/5 [00:00<00:00,  5.42it/s]\n"
     ]
    },
    {
     "name": "stdout",
     "output_type": "stream",
     "text": [
      "epoch=253, train_acc_top1=1.0000, train_acc_top5=1.0000, train_loss=0.0005, test_top1=0.8712, test_top5=0.9962, test_loss=0.7268, max_test_acc=0.8902, total_time=6.4682, LR=0.00001172\n"
     ]
    },
    {
     "name": "stderr",
     "output_type": "stream",
     "text": [
      "100%|██████████| 17/17 [00:05<00:00,  3.07it/s]\n",
      "100%|██████████| 5/5 [00:00<00:00,  5.31it/s]\n"
     ]
    },
    {
     "name": "stdout",
     "output_type": "stream",
     "text": [
      "epoch=254, train_acc_top1=1.0000, train_acc_top5=1.0000, train_loss=0.0005, test_top1=0.8674, test_top5=0.9962, test_loss=0.7479, max_test_acc=0.8902, total_time=6.4859, LR=0.00000781\n"
     ]
    },
    {
     "name": "stderr",
     "output_type": "stream",
     "text": [
      "100%|██████████| 17/17 [00:05<00:00,  3.06it/s]\n",
      "100%|██████████| 5/5 [00:00<00:00,  5.41it/s]\n"
     ]
    },
    {
     "name": "stdout",
     "output_type": "stream",
     "text": [
      "epoch=255, train_acc_top1=1.0000, train_acc_top5=1.0000, train_loss=0.0005, test_top1=0.8712, test_top5=0.9962, test_loss=0.7536, max_test_acc=0.8902, total_time=6.4843, LR=0.00000391\n"
     ]
    }
   ],
   "source": [
    "for epoch in range(Begin_epoch, Max_epoch):\n",
    "\n",
    "    start_time = time.time()\n",
    "    train_loss, train_acc_top1, train_acc_topk, test_loss, test_acc_top1, test_acc_topk, max_test_acc = train_model(net, max_test_acc, epoch)\n",
    "    \n",
    "    for param_group in optimizer.param_groups:\n",
    "        lr = param_group['lr']\n",
    "        \n",
    "    lr_scheduler.step()\n",
    "\n",
    "    print(f'''epoch={epoch}, train_acc_top1={train_acc_top1:.4f}, train_acc_top{Top_k}={train_acc_topk:.4f}, train_loss={train_loss:.4f}, test_top1={test_acc_top1:.4f}, test_top{Top_k}={test_acc_topk:.4f}, test_loss={test_loss:.4f}, max_test_acc={max_test_acc:.4f}, total_time={(time.time() - start_time):.4f}, LR={lr:.8f}''')\n",
    "    \n",
    "    torch.save(net.state_dict(), Savemodel_path + f'epoch{epoch}{Name_suffix}.h5')\n",
    "    if os.path.exists(Savemodel_path + f'epoch{epoch-1}{Name_suffix}.h5'):\n",
    "        os.remove(Savemodel_path + f'epoch{epoch-1}{Name_suffix}.h5')"
   ]
  },
  {
   "cell_type": "code",
   "execution_count": null,
   "id": "d61072ee",
   "metadata": {},
   "outputs": [],
   "source": []
  },
  {
   "cell_type": "code",
   "execution_count": 34,
   "id": "1014b20b",
   "metadata": {},
   "outputs": [
    {
     "name": "stdout",
     "output_type": "stream",
     "text": [
      "Fichier chargé: ./recorddata_DVS/Test_0_255_step2_pos_neg_diff.mat\n"
     ]
    },
    {
     "data": {
      "image/png": "[encoded data removed]",
      "text/plain": [
       "<Figure size 1500x1000 with 2 Axes>"
      ]
     },
     "metadata": {},
     "output_type": "display_data"
    },
    {
     "name": "stdout",
     "output_type": "stream",
     "text": [
      "Meilleure précision: 0.8902 à l'époque 219.0\n"
     ]
    }
   ],
   "source": [
    "import numpy as np\n",
    "import matplotlib.pyplot as plt\n",
    "from scipy.io import loadmat\n",
    "import os\n",
    "import glob\n",
    "\n",
    "def plot_learning_curves(record_path, name_suffix, top_k=5):\n",
    "    \"\"\"\n",
    "    Visualise les courbes d'apprentissage à partir des fichiers .mat générés\n",
    "    \"\"\"\n",
    "    # Recherche du fichier le plus récent\n",
    "    pattern = os.path.join(record_path, f'Test_*{name_suffix}.mat')\n",
    "    files = glob.glob(pattern)\n",
    "    \n",
    "    if not files:\n",
    "        print(f\"Aucun fichier trouvé avec le pattern: {pattern}\")\n",
    "        return\n",
    "    \n",
    "    # Charger le fichier le plus récent\n",
    "    latest_file = max(files, key=os.path.getctime)\n",
    "    print(f\"Fichier chargé: {latest_file}\")\n",
    "    \n",
    "    data = loadmat(latest_file)\n",
    "    record_data = data['Record_data']\n",
    "    \n",
    "    # Extraire les données\n",
    "    epochs = record_data[:, 0]\n",
    "    test_top1 = record_data[:, 2]\n",
    "    test_topk = record_data[:, 3]\n",
    "    test_loss = record_data[:, 4]\n",
    "    \n",
    "    # Créer les graphiques\n",
    "    plt.figure(figsize=(15, 10))\n",
    "    \n",
    "    # Précision Top-1 et Top-k\n",
    "    plt.subplot(2, 1, 1)\n",
    "    plt.plot(epochs, test_top1, 'b-', label=f'Test Accuracy (Top-1)')\n",
    "    plt.plot(epochs, test_topk, 'r-', label=f'Test Accuracy (Top-{top_k})')\n",
    "    plt.title('Précision du modèle au cours des époques')\n",
    "    plt.xlabel('Époque')\n",
    "    plt.ylabel('Précision')\n",
    "    plt.grid(True)\n",
    "    plt.legend()\n",
    "    \n",
    "    # Perte de test\n",
    "    plt.subplot(2, 1, 2)\n",
    "    plt.plot(epochs, test_loss, 'g-', label='Test Loss')\n",
    "    plt.title('Perte de test au cours des époques')\n",
    "    plt.xlabel('Époque')\n",
    "    plt.ylabel('Perte')\n",
    "    plt.grid(True)\n",
    "    plt.legend()\n",
    "    \n",
    "    plt.tight_layout()\n",
    "    plt.savefig(os.path.join(record_path, f'learning_curves{name_suffix}.png'))\n",
    "    plt.show()\n",
    "    \n",
    "    return max(test_top1), epochs[np.argmax(test_top1)]\n",
    "\n",
    "def plot_train_test_comparison(history, top_k=5, save_path=None):\n",
    "    \"\"\"\n",
    "    Compare les métriques d'entraînement et de test\n",
    "    \"\"\"\n",
    "    epochs = history['epochs']\n",
    "    \n",
    "    plt.figure(figsize=(15, 15))\n",
    "    \n",
    "    # Précision Top-1\n",
    "    plt.subplot(3, 1, 1)\n",
    "    plt.plot(epochs, history['train_acc_top1'], 'b-', label='Train Accuracy (Top-1)')\n",
    "    plt.plot(epochs, history['test_acc_top1'], 'r-', label='Test Accuracy (Top-1)')\n",
    "    plt.title('Précision Top-1 (Train vs Test)')\n",
    "    plt.xlabel('Époque')\n",
    "    plt.ylabel('Précision')\n",
    "    plt.grid(True)\n",
    "    plt.legend()\n",
    "    \n",
    "    # Précision Top-k\n",
    "    plt.subplot(3, 1, 2)\n",
    "    plt.plot(epochs, history['train_acc_topk'], 'b-', label=f'Train Accuracy (Top-{top_k})')\n",
    "    plt.plot(epochs, history['test_acc_topk'], 'r-', label=f'Test Accuracy (Top-{top_k})')\n",
    "    plt.title(f'Précision Top-{top_k} (Train vs Test)')\n",
    "    plt.xlabel('Époque')\n",
    "    plt.ylabel('Précision')\n",
    "    plt.grid(True)\n",
    "    plt.legend()\n",
    "    \n",
    "    # Perte\n",
    "    plt.subplot(3, 1, 3)\n",
    "    plt.plot(epochs, history['train_losses'], 'b-', label='Train Loss')\n",
    "    plt.plot(epochs, history['test_losses'], 'r-', label='Test Loss')\n",
    "    plt.title('Perte (Train vs Test)')\n",
    "    plt.xlabel('Époque')\n",
    "    plt.ylabel('Perte')\n",
    "    plt.grid(True)\n",
    "    plt.legend()\n",
    "    \n",
    "    plt.tight_layout()\n",
    "    \n",
    "    if save_path:\n",
    "        plt.savefig(save_path)\n",
    "    \n",
    "    plt.show()\n",
    "\n",
    "def plot_learning_rate(history, save_path=None):\n",
    "    \"\"\"\n",
    "    Visualise l'évolution du taux d'apprentissage\n",
    "    \"\"\"\n",
    "    plt.figure(figsize=(10, 6))\n",
    "    plt.plot(history['epochs'], history['learning_rates'], 'b-')\n",
    "    plt.title(\"Évolution du taux d'apprentissag\")\n",
    "    plt.xlabel('Époque')\n",
    "    plt.ylabel(\"Taux d'apprentissage\")\n",
    "    plt.grid(True)\n",
    "    \n",
    "    if save_path:\n",
    "        plt.savefig(save_path)\n",
    "    \n",
    "    plt.show()\n",
    "\n",
    "max_acc, best_epoch = plot_learning_curves(Record_path, Name_suffix, 5)\n",
    "print(f\"Meilleure précision: {max_acc:.4f} à l'époque {best_epoch}\")"
   ]
  },
  {
   "cell_type": "code",
   "execution_count": null,
   "id": "00eca72f",
   "metadata": {},
   "outputs": [],
   "source": []
  },
  {
   "cell_type": "code",
   "execution_count": 35,
   "id": "c5fadb14",
   "metadata": {},
   "outputs": [],
   "source": [
    "img, label = next(iter(test_data_loader))"
   ]
  },
  {
   "cell_type": "code",
   "execution_count": 36,
   "id": "4790fe39",
   "metadata": {},
   "outputs": [
    {
     "data": {
      "text/plain": [
       "tensor([[12.8830,  4.2055, 13.6046, 15.4558, 27.6387, 22.0529, 40.2661, 24.8750,\n",
       "         20.4456, 13.6894, 18.3791],\n",
       "        [14.9146, 19.7554,  6.0727, 29.2955, 29.9265,  5.4151, 13.7218, 19.2194,\n",
       "          7.7812, 12.8073, 18.8199],\n",
       "        [15.2867, 19.1270,  7.1259, 28.5135, 33.6564,  4.7683, 18.3157, 19.2978,\n",
       "          9.5919, 12.7149, 24.3464],\n",
       "        [18.0080,  6.8156,  8.7516,  4.5479,  7.0307, 10.4072,  9.2068, 16.3459,\n",
       "         25.1479, 14.0696, 12.8437],\n",
       "        [13.2484, 15.9314, 29.3292,  5.0914,  3.2670, 15.6732, 14.2953, 12.5226,\n",
       "          4.6393, 13.6653,  8.1541],\n",
       "        [ 9.1074,  8.4554, 14.1608, 21.2657, 18.1366, 18.3710, 12.1014,  4.4407,\n",
       "          9.1729, 27.0219, 32.6607],\n",
       "        [11.5972,  0.1216, 18.5917, 28.5621,  8.4565, 44.2775, 28.6644, 12.6171,\n",
       "         20.1878, 20.4330, 22.6893],\n",
       "        [14.3116, 10.7645, 11.5330,  8.4191, 12.4411,  7.8763, 11.3829, 23.0951,\n",
       "         15.8096, 15.4130,  7.4995],\n",
       "        [11.1563,  4.8744, 14.8708, 13.1438, 11.4998, 19.4360, 11.8204,  8.7315,\n",
       "         21.7735, 26.7284, 33.8835],\n",
       "        [27.0466, 11.6521, 11.5859,  6.0319,  5.7788,  9.0780,  8.6828, 12.1054,\n",
       "         14.7399,  8.2166, 11.6032],\n",
       "        [14.0126, 29.4803, 15.4211, 14.8576, 18.8069, -0.9982,  4.5875, 16.3993,\n",
       "         -0.6010, 11.4774,  8.7297],\n",
       "        [14.9172,  3.4566, 15.6665, 19.0661, 19.8189, 27.7595, 36.1794, 19.5012,\n",
       "         15.8026, 14.9012, 14.8186],\n",
       "        [14.8680, 13.2608,  7.0342, 40.4383, 25.7604, 20.7531, 17.8563, 14.2508,\n",
       "         12.6495, 16.8234, 24.4888],\n",
       "        [15.9467, 16.4241,  2.2729, 29.7037, 40.4048,  4.6087, 26.2570, 27.7068,\n",
       "         12.0644, 12.2580, 14.7497],\n",
       "        [21.4699, 11.0034, 12.6080, 11.2223,  9.7281, 11.5525,  9.8798, 10.1536,\n",
       "         10.6640, 11.8018, 16.9624],\n",
       "        [15.5941, 15.9403, 29.2928,  5.5637,  2.2631, 15.4568, 12.3920,  9.2941,\n",
       "          4.4013, 12.8604, 10.8702],\n",
       "        [12.8158,  5.1746, 10.0402, 32.4838, 22.6342, 26.8620, 25.4707, 12.9402,\n",
       "         22.3736, 18.0797, 34.1785],\n",
       "        [16.5419, -0.3614, 17.9692, 27.0446,  6.3591, 43.6811, 26.0094,  7.0128,\n",
       "         18.7144, 21.2252, 25.1328],\n",
       "        [15.6816, 10.5274, 11.7439,  9.3145, 14.6271,  9.0535, 15.3163, 22.6047,\n",
       "         17.1848, 11.9369, 12.8557],\n",
       "        [14.1141,  3.8243, 16.6922, 11.5844,  8.3022, 21.1339, 13.6968,  9.4023,\n",
       "         16.7093, 21.5928, 24.6922],\n",
       "        [26.6149, 14.5434, 18.8518, 10.1024,  6.1624, 13.8823, 11.6767,  6.5034,\n",
       "          5.6411,  7.8491, 14.6086],\n",
       "        [16.7826, 28.3098, 16.2388, 15.4244, 17.1657,  1.1242,  4.6800, 13.4305,\n",
       "          0.4877, 10.3967, 11.1591],\n",
       "        [11.7069,  9.7119, 21.8209, 11.1047, 15.3343, 17.7983, 25.4623, 20.9547,\n",
       "         10.9293, 15.8715, 12.3103],\n",
       "        [15.9789, 20.9265, 10.9367, 24.6383, 18.3718,  7.3309,  5.4776, 13.5760,\n",
       "          4.9429, 12.7742, 17.0808],\n",
       "        [12.5774, 21.6198,  9.6163, 23.4651, 24.6476,  2.9665,  7.8448, 15.8665,\n",
       "          2.1157, 15.4653, 14.3399],\n",
       "        [17.3328,  7.5108,  7.4510, 14.8714, 17.6895, 12.2120, 16.3847, 15.4648,\n",
       "         18.2087, 14.7214, 17.7670],\n",
       "        [14.9771, 16.0307, 25.6698,  6.7425,  3.8439, 13.2422,  9.9444,  7.8019,\n",
       "          4.8702, 14.7635, 13.4562],\n",
       "        [11.9433,  7.3929,  7.5778, 20.8361, 19.1791, 14.1229, 15.0377, 13.5550,\n",
       "         19.3442, 16.5322, 25.9946],\n",
       "        [17.2492,  6.1987, 23.7852, 14.6524,  3.4502, 29.6742, 21.2611, 11.9993,\n",
       "         11.1937, 16.4773, 13.3323],\n",
       "        [12.9426, 11.0050, 10.5530,  9.0776, 14.2008,  7.1841, 11.6486, 20.9783,\n",
       "         15.0248, 16.7382,  8.6252],\n",
       "        [15.7613,  9.5895, 12.2838, 15.7892, 13.5378, 13.0435, 10.3392,  9.4568,\n",
       "         10.6659, 20.6964, 20.4323],\n",
       "        [14.8007,  8.5113,  9.8482,  9.2285, 14.9944,  9.4367, 14.6224, 18.1934,\n",
       "         15.6947, 17.4005, 13.2565],\n",
       "        [13.0230, 25.9580, 15.4939, 13.5909, 11.5690,  2.1448, -0.9837,  7.4610,\n",
       "          0.6589, 15.7428, 14.3115],\n",
       "        [18.5666,  5.7916, 12.4909, 17.8914, 26.5623, 22.2691, 41.3474, 25.4630,\n",
       "         19.3959,  9.4623, 14.6970],\n",
       "        [17.8344,  7.5381,  8.2930, 38.1365, 22.9433, 28.3339, 24.0682, 12.5181,\n",
       "         16.4813, 14.7400, 25.2959],\n",
       "        [16.2248, 14.6031,  5.0182, 30.1323, 39.9667,  9.2872, 29.0052, 21.9458,\n",
       "         15.6414, 13.3889, 25.3638],\n",
       "        [17.4288,  5.7349, 11.7291,  4.3549,  6.3197, 12.6058, 11.6864, 17.5895,\n",
       "         25.8577, 14.5206, 14.3141],\n",
       "        [13.1480, 16.1627, 26.8958,  7.7963,  6.9278, 15.1086, 14.5791, 14.4352,\n",
       "          5.9472, 16.2236, 10.4295],\n",
       "        [ 7.3844,  2.9745, 13.2867, 24.7609, 14.7883, 27.4712, 13.4661,  5.4559,\n",
       "         18.1566, 30.8383, 37.9189],\n",
       "        [18.6816,  0.2736, 15.8367, 25.5786, 10.9951, 40.2297, 30.9184, 11.7190,\n",
       "         20.2869, 15.9741, 22.4527],\n",
       "        [13.9191, 11.6017, 17.4365,  9.9237, 15.8129, 11.5657, 20.7952, 25.0911,\n",
       "         11.6308, 11.7656,  9.2630],\n",
       "        [ 8.2075,  8.0359, 18.8127, 10.4056,  8.4541, 15.5500, 11.1122, 16.7017,\n",
       "         12.5685, 26.2058, 13.9199],\n",
       "        [25.4461, 10.4989, 13.4312,  6.7339,  6.1069, 11.4488, 10.3549,  9.6683,\n",
       "         11.7721,  9.9317, 13.1206],\n",
       "        [16.3633, 27.9630, 14.7469, 19.9642, 16.8924,  3.5684,  4.0234, 11.5381,\n",
       "          0.8342, 12.3339, 13.4422],\n",
       "        [19.6773,  7.5028, 12.2774, 19.5689, 25.6193, 21.3745, 36.9144, 23.7933,\n",
       "         17.9186,  9.0819, 15.7410],\n",
       "        [15.2629, 11.0258,  8.4074, 41.7270, 24.3947, 25.2764, 20.1033, 13.5003,\n",
       "         11.7446, 16.8731, 24.0246],\n",
       "        [17.2135, 15.7655,  5.6577, 27.4716, 40.5968,  6.8062, 30.2485, 25.0756,\n",
       "         13.2443, 12.3424, 20.6117],\n",
       "        [22.1938,  6.3213,  9.9362,  5.2740,  7.8021, 12.5932, 14.1849, 17.2743,\n",
       "         25.1860, 10.6391, 14.0065],\n",
       "        [13.0565, 17.1915, 27.2968,  8.1551,  6.1113, 14.7738, 12.8283, 12.9944,\n",
       "          5.8050, 16.6668, 11.5173],\n",
       "        [16.4542,  3.2129, 10.5136, 25.3999, 16.3877, 28.2356, 14.5055,  3.0819,\n",
       "         23.5503, 25.6959, 45.7630],\n",
       "        [19.2364,  0.8160, 14.8217, 27.0923, 12.4264, 40.1424, 28.6730,  9.0970,\n",
       "         20.7134, 17.5586, 27.9270],\n",
       "        [14.7675, 10.9515, 15.6339, 10.3030, 14.1966, 11.6577, 17.9985, 21.2306,\n",
       "         11.7956, 13.0385, 10.5138],\n",
       "        [ 8.5084,  8.0425, 17.9922, 11.2118,  9.1204, 15.6246, 10.1922, 15.6332,\n",
       "         13.5627, 27.7007, 15.9644],\n",
       "        [25.7267, 13.9653, 15.1444,  7.0574,  5.2188,  9.9021,  7.4882,  6.5632,\n",
       "          7.2473,  9.4607, 13.4090],\n",
       "        [13.2592, 28.2794, 14.8951, 17.5620, 16.7462,  1.5005,  2.3622, 12.3125,\n",
       "          0.8608, 14.9518, 12.9512],\n",
       "        [16.6371, -2.4774, 13.8268, 13.0385, 13.8174, 30.6569, 35.8488, 13.4723,\n",
       "         23.3007, 12.7814, 21.0164],\n",
       "        [18.0585, 12.5569,  6.0601, 32.9246, 24.8070, 17.0771, 17.8195, 12.3500,\n",
       "         14.6637, 12.6944, 26.8946],\n",
       "        [19.5613, 16.2622,  2.8572, 30.4041, 36.6695,  5.5015, 23.7398, 21.7549,\n",
       "         14.8765,  9.5665, 23.4569],\n",
       "        [16.4371,  5.4335, 10.6970,  5.9438,  8.8894, 13.6112, 14.5429, 20.6499,\n",
       "         27.8668, 13.5811, 13.0057],\n",
       "        [18.7095, 10.7100, 24.5957,  7.6911,  4.0990, 20.8950, 19.5734, 11.1825,\n",
       "          5.9771, 11.2533,  8.2143],\n",
       "        [11.9526,  4.0728, 11.7354, 30.4847, 15.4537, 31.7530, 16.7834,  6.3383,\n",
       "         20.6438, 22.4073, 37.6378],\n",
       "        [13.0970, -1.4863, 17.7790, 13.2991,  8.8516, 32.7682, 31.3585, 12.0832,\n",
       "         18.4691, 18.4640, 16.9260],\n",
       "        [15.7972, 11.0985, 13.9033,  7.9794, 11.5767,  9.9764, 14.6342, 23.6136,\n",
       "         16.8324, 10.4378,  9.0620],\n",
       "        [13.4020,  0.3779, 12.8213, 14.7946, 11.2315, 25.8835, 17.8926,  9.1979,\n",
       "         26.0057, 22.1314, 33.2241]], device='cuda:0',\n",
       "       grad_fn=<AddmmBackward0>)"
      ]
     },
     "execution_count": 36,
     "metadata": {},
     "output_type": "execute_result"
    }
   ],
   "source": [
    "net(img)"
   ]
  },
  {
   "cell_type": "code",
   "execution_count": null,
   "id": "0f0843ba",
   "metadata": {},
   "outputs": [],
   "source": []
  },
  {
   "cell_type": "code",
   "execution_count": null,
   "id": "b67b96f9",
   "metadata": {},
   "outputs": [],
   "source": []
  }
 ],
 "metadata": {
  "kernelspec": {
   "display_name": "myenv",
   "language": "python",
   "name": "python3"
  },
  "language_info": {
   "codemirror_mode": {
    "name": "ipython",
    "version": 3
   },
   "file_extension": ".py",
   "mimetype": "text/x-python",
   "name": "python",
   "nbconvert_exporter": "python",
   "pygments_lexer": "ipython3",
   "version": "3.10.12"
  }
 },
 "nbformat": 4,
 "nbformat_minor": 5
}
