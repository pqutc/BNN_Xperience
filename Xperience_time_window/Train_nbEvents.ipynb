{
 "cells": [
  {
   "cell_type": "code",
   "execution_count": 1,
   "id": "1d1ec5cb",
   "metadata": {},
   "outputs": [
    {
     "name": "stderr",
     "output_type": "stream",
     "text": [
      "/home/lab/plongour/myenv/lib/python3.10/site-packages/tqdm/auto.py:21: TqdmWarning: IProgress not found. Please update jupyter and ipywidgets. See https://ipywidgets.readthedocs.io/en/stable/user_install.html\n",
      "  from .autonotebook import tqdm as notebook_tqdm\n"
     ]
    }
   ],
   "source": [
    "import os\n",
    "import torch\n",
    "import time\n",
    "import numpy as np\n",
    "import torch.nn as nn\n",
    "from tqdm import tqdm\n",
    "from torch.cuda import amp\n",
    "from scipy.io import savemat\n",
    "import torch.nn.functional as F\n",
    "import tonic\n",
    "import tonic.transforms as transforms\n",
    "from torch.utils.data import Dataset, DataLoader\n",
    "import numpy as np\n",
    "import matplotlib.pyplot as plt\n",
    "import pickle\n",
    "\n",
    "# Now import from models\n",
    "import sys\n",
    "sys.path.append(os.path.abspath(os.path.join(os.getcwd(), '..')))\n",
    "from models.ReActNet_A_Qaw import *\n",
    "from models.utils import *\n",
    "\n",
    "os.environ[\"CUDA_VISIBLE_DEVICES\"] = '5'"
   ]
  },
  {
   "cell_type": "code",
   "execution_count": 2,
   "id": "c4af34fe",
   "metadata": {},
   "outputs": [],
   "source": [
    "Begin_epoch = 0\n",
    "Max_epoch = 256\n",
    "Learning_rate = 1e-3\n",
    "Weight_decay = 5e-6\n",
    "Momentum = 0.9\n",
    "Top_k = 5\n",
    "SENSOR_SIZE = (128, 128, 2)\n",
    "batch_size = 64\n",
    "\n",
    "Dataset_path = '../data'\n",
    "Workers = 8\n",
    "Targetnum = 11\n",
    "\n",
    "Test_every_iteration = None\n",
    "Name_suffix = '_step2_nbEvents'\n",
    "Savemodel_path = './savemodels_DVS/'\n",
    "Record_path = './recorddata_DVS/'\n",
    "if not os.path.exists(Savemodel_path):\n",
    "    os.mkdir(Savemodel_path)\n",
    "if not os.path.exists(Record_path):\n",
    "    os.mkdir(Record_path)\n",
    "\n",
    "_seed_ = 2023\n",
    "torch.manual_seed(_seed_)\n",
    "np.random.seed(_seed_)\n",
    "torch.backends.cudnn.benchmark = False\n",
    "torch.backends.cudnn.deterministic = True"
   ]
  },
  {
   "cell_type": "code",
   "execution_count": 4,
   "id": "40576cee",
   "metadata": {},
   "outputs": [
    {
     "name": "stdout",
     "output_type": "stream",
     "text": [
      "Processing training sample 0/1077\n",
      "Processing training sample 100/1077\n",
      "Processing training sample 200/1077\n",
      "Processing training sample 300/1077\n",
      "Processing training sample 400/1077\n",
      "Processing training sample 500/1077\n",
      "Processing training sample 600/1077\n",
      "Processing training sample 700/1077\n",
      "Processing training sample 800/1077\n",
      "Processing training sample 900/1077\n",
      "Processing training sample 1000/1077\n",
      "Processing test sample 0/264\n",
      "Processing test sample 100/264\n",
      "Processing test sample 200/264\n",
      "Saved preprocessed data to files\n"
     ]
    }
   ],
   "source": [
    "def convert_to_event_representation(frame_sequence):\n",
    "    time_steps, channels, height, width = frame_sequence.shape  # (T, 2, H, W)\n",
    "    \n",
    "    middle_idx = time_steps // 2  # Index de la frame du milieu\n",
    "    middle_frame = frame_sequence[middle_idx]  # (2, H, W)\n",
    "    \n",
    "    # Somme des canaux positifs et négatifs\n",
    "    event_sum = (middle_frame[0] + middle_frame[1]).astype(np.float32)  # (H, W)\n",
    "    event_sum /= np.max(event_sum) if np.max(event_sum) > 0 else event_sum  # Normalisation\n",
    "    \n",
    "    return event_sum  # (H, W)\n",
    "\n",
    "\n",
    "\n",
    "# Set paths\n",
    "output_dir = \"./processed_dvsgesture\"\n",
    "train_data_path = os.path.join(output_dir, \"train_data\"+Name_suffix+\".pkl\")\n",
    "test_data_path = os.path.join(output_dir, \"test_data\"+Name_suffix+\".pkl\")\n",
    "\n",
    "# Create output directory if it doesn't exist\n",
    "os.makedirs(output_dir, exist_ok=True)\n",
    "\n",
    "# Check if processed data already exists\n",
    "if os.path.exists(train_data_path) and os.path.exists(test_data_path):\n",
    "    # Load processed data\n",
    "    with open(train_data_path, \"rb\") as f:\n",
    "        train_images, train_labels = pickle.load(f)\n",
    "    with open(test_data_path, \"rb\") as f:\n",
    "        test_images, test_labels = pickle.load(f)\n",
    "    print(\"Loaded preprocessed data from files\")\n",
    "else:\n",
    "    # Load dataset\n",
    "    transform = transforms.Compose([\n",
    "        transforms.Denoise(filter_time=10000),\n",
    "        transforms.ToFrame(sensor_size=SENSOR_SIZE, time_window=25000)\n",
    "    ])\n",
    "\n",
    "    dataset_train = tonic.datasets.DVSGesture(save_to=Dataset_path, train=True, transform=transform)\n",
    "    dataset_test = tonic.datasets.DVSGesture(save_to=Dataset_path, train=False, transform=transform)\n",
    "\n",
    "    # Process training data\n",
    "    train_images = []\n",
    "    train_labels = []\n",
    "    for i, (frames, label) in enumerate(dataset_train):\n",
    "        if i % 100 == 0:\n",
    "            print(f\"Processing training sample {i}/{len(dataset_train)}\")\n",
    "        img = convert_to_event_representation(frames)\n",
    "        train_images.append(torch.FloatTensor(img))\n",
    "        train_labels.append(label)\n",
    "        \n",
    "    # Process test data\n",
    "    test_images = []\n",
    "    test_labels = []\n",
    "    for i, (frames, label) in enumerate(dataset_test):\n",
    "        if i % 100 == 0:\n",
    "            print(f\"Processing test sample {i}/{len(dataset_test)}\")\n",
    "        img = convert_to_event_representation(frames)\n",
    "        test_images.append(torch.FloatTensor(img))\n",
    "        test_labels.append(label)\n",
    "\n",
    "    \n",
    "    # Save processed data\n",
    "    with open(train_data_path, \"wb\") as f:\n",
    "        pickle.dump((train_images, train_labels), f)\n",
    "    with open(test_data_path, \"wb\") as f:\n",
    "        pickle.dump((test_images, test_labels), f)\n",
    "    print(\"Saved preprocessed data to files\")\n",
    "\n",
    "\n",
    "# Create dataloaders\n",
    "train_data_loader = torch.utils.data.DataLoader(\n",
    "    list(zip(train_images, train_labels)),\n",
    "    batch_size=batch_size,\n",
    "    shuffle=True,\n",
    "    num_workers=Workers,\n",
    "    pin_memory=True\n",
    ")\n",
    "\n",
    "test_data_loader = torch.utils.data.DataLoader(\n",
    "    list(zip(test_images, test_labels)),\n",
    "    batch_size=batch_size,\n",
    "    shuffle=False,\n",
    "    num_workers=Workers,\n",
    "    pin_memory=True\n",
    ")"
   ]
  },
  {
   "cell_type": "code",
   "execution_count": 5,
   "id": "39e343a7",
   "metadata": {},
   "outputs": [
    {
     "name": "stdout",
     "output_type": "stream",
     "text": [
      "\n",
      "Statistiques du canal:\n",
      "\n",
      "Événements:\n",
      "  Min: 0.0000\n",
      "  Max: 1.0000\n",
      "  Mean: 0.0046\n",
      "  Std: 0.0378\n"
     ]
    },
    {
     "data": {
      "image/png": "[encoded data removed]",
      "text/plain": [
       "<Figure size 1200x500 with 2 Axes>"
      ]
     },
     "metadata": {},
     "output_type": "display_data"
    }
   ],
   "source": [
    "def visualize_event_representation(data_loader, sample_index=0):\n",
    "    \"\"\"\n",
    "    Visualise un seul canal d'événements pour un échantillon du DataLoader,\n",
    "    avec statistiques.\n",
    "    \n",
    "    Args:\n",
    "        data_loader: PyTorch DataLoader contenant des pairs (images, labels).\n",
    "        sample_index: Index de l'échantillon à visualiser (défaut: 0).\n",
    "    \"\"\"\n",
    "    # Obtenir un batch du DataLoader\n",
    "    for batch in data_loader:\n",
    "        images, labels = batch\n",
    "        break  # Prendre uniquement le premier batch\n",
    "    \n",
    "    # Sélectionner l'échantillon à l'index spécifié\n",
    "    if sample_index >= images.shape[0]:\n",
    "        raise ValueError(f\"sample_index {sample_index} est hors limites pour un batch de taille {images.shape[0]}\")\n",
    "    \n",
    "    # Extraire l'image (forme: (1, height, width))\n",
    "    img = images[sample_index].numpy()  # Convertir le tenseur PyTorch en tableau NumPy\n",
    "    \n",
    "    # S'assurer que nous avons un tableau 2D même si la dimension du canal est 1\n",
    "    if len(img.shape) == 3:\n",
    "        event_data = img[0]  # Premier (et seul) canal\n",
    "    else:\n",
    "        event_data = img  # Déjà en 2D\n",
    "    \n",
    "    # Calculer les statistiques\n",
    "    stats = {\n",
    "        \"Événements\": {\n",
    "            \"min\": np.min(event_data),\n",
    "            \"max\": np.max(event_data),\n",
    "            \"mean\": np.mean(event_data),\n",
    "            \"std\": np.std(event_data)\n",
    "        }\n",
    "    }\n",
    "    \n",
    "    # Afficher les statistiques\n",
    "    print(\"\\nStatistiques du canal:\")\n",
    "    for channel, values in stats.items():\n",
    "        print(f\"\\n{channel}:\")\n",
    "        print(f\"  Min: {values['min']:.4f}\")\n",
    "        print(f\"  Max: {values['max']:.4f}\")\n",
    "        print(f\"  Mean: {values['mean']:.4f}\")\n",
    "        print(f\"  Std: {values['std']:.4f}\")\n",
    "    \n",
    "    # Créer une figure pour la visualisation\n",
    "    fig, axes = plt.subplots(1, 2, figsize=(12, 5))\n",
    "    \n",
    "    # Plot en niveaux de gris\n",
    "    axes[0].imshow(event_data, cmap='gray')\n",
    "    axes[0].set_title(\"Événements (Gris)\")\n",
    "    axes[0].axis('off')\n",
    "    \n",
    "    # Plot avec une colormap différente pour plus de contraste\n",
    "    axes[1].imshow(event_data, cmap='viridis')\n",
    "    axes[1].set_title(\"Événements (Viridis)\")\n",
    "    axes[1].axis('off')\n",
    "    \n",
    "    plt.tight_layout()\n",
    "    plt.show()\n",
    "\n",
    "visualize_event_representation(train_data_loader, sample_index=0)"
   ]
  },
  {
   "cell_type": "code",
   "execution_count": 6,
   "id": "173d26b8",
   "metadata": {},
   "outputs": [],
   "source": [
    "net = Reactnet(num_classes=Targetnum, imagenet=False)\n",
    "\n",
    "# Modifier la première couche pour accepter 1 canal au lieu de 3\n",
    "net.feature[0] = firstconv3x3(1, stage_out_channel[0], 1)"
   ]
  },
  {
   "cell_type": "code",
   "execution_count": 7,
   "id": "ae5f5a69",
   "metadata": {},
   "outputs": [],
   "source": [
    "net = nn.DataParallel(net).cuda()\n",
    "max_test_acc = 0.\n",
    "\n",
    "Test_top1 = []\n",
    "Test_topk = []\n",
    "Test_lossall = []\n",
    "Epoch_list = []\n",
    "Iteration_list = []"
   ]
  },
  {
   "cell_type": "code",
   "execution_count": 8,
   "id": "f71e710a",
   "metadata": {},
   "outputs": [],
   "source": [
    "all_parameters = net.parameters()\n",
    "weight_parameters = []\n",
    "for pname, p in net.named_parameters():\n",
    "    if (p.ndimension() == 4 or 'conv' in pname) and 'L_alpha' not in pname:\n",
    "        weight_parameters.append(p)\n",
    "weight_parameters_id = list(map(id, weight_parameters))\n",
    "other_parameters = list(filter(lambda p: id(p) not in weight_parameters_id, all_parameters))\n",
    "\n",
    "criterion_train = DistributionLoss()\n",
    "criterion_test = nn.CrossEntropyLoss()\n",
    "optimizer = torch.optim.Adam([\n",
    "    {'params' : other_parameters, 'weight_decay' : 0., 'initial_lr': Learning_rate},\n",
    "    {'params' : weight_parameters, 'weight_decay' : Weight_decay, 'initial_lr': Learning_rate}],\n",
    "    lr = Learning_rate)\n",
    "lr_scheduler = torch.optim.lr_scheduler.LambdaLR(optimizer, lambda step : (1.0-step/Max_epoch), last_epoch=Begin_epoch-1)"
   ]
  },
  {
   "cell_type": "code",
   "execution_count": 9,
   "id": "79d58a6d",
   "metadata": {},
   "outputs": [],
   "source": [
    "def test_model(net, max_test_acc, data_loader=test_data_loader, criterion=criterion_test, epoch=None, iteration=None, record=True):\n",
    "    net.eval()\n",
    "    test_samples = 0\n",
    "    test_loss = 0\n",
    "    test_acc_top1 = 0\n",
    "    test_acc_topk = 0\n",
    "    \n",
    "    with torch.no_grad():\n",
    "        for img, label in tqdm(data_loader):\n",
    "            img = img.unsqueeze(1) \n",
    "            img = img.cuda()\n",
    "            label = label.cuda()\n",
    "            \n",
    "            out_fr = net(img)\n",
    "            loss = criterion(out_fr, label)\n",
    "                \n",
    "            test_samples += label.numel()\n",
    "            test_loss += loss.item() * label.numel()\n",
    "\n",
    "            test_acc_top1 += (out_fr.argmax(1) == label).float().sum().item()\n",
    "            _, pred = out_fr.topk(Top_k, 1, True, True)\n",
    "            test_acc_topk += torch.eq(pred, label.view(-1,1)).float().sum().item()\n",
    "    \n",
    "    test_loss /= test_samples\n",
    "    test_acc_top1 /= test_samples\n",
    "    test_acc_topk /= test_samples\n",
    "\n",
    "    if test_acc_top1 >= max_test_acc:\n",
    "        max_test_acc = test_acc_top1\n",
    "        torch.save(net.state_dict(), Savemodel_path + f'max_acc{Name_suffix}.h5')\n",
    "        np.save(Savemodel_path + f'max_acc{Name_suffix}.npy', np.array(max_test_acc))\n",
    "\n",
    "    if record:\n",
    "        assert epoch is not None, \"epoch is None!\"\n",
    "        assert iteration is not None, \"iteration is None!\"\n",
    "        \n",
    "        Epoch_list.append(epoch+1)\n",
    "        Iteration_list.append(iteration+1)\n",
    "        Test_top1.append(test_acc_top1)\n",
    "        Test_topk.append(test_acc_topk)\n",
    "        Test_lossall.append(test_loss)\n",
    "\n",
    "        record_data = np.array([Epoch_list, Iteration_list, Test_top1, Test_topk, Test_lossall]).T\n",
    "        mdic = {f'Record_data':record_data, f'Record_meaning':['Epoch_list', 'Iteration_list', 'Test_top1', f'Test_top{Top_k}', 'Test_loss']}\n",
    "\n",
    "        savemat(Record_path + f'Test_{Begin_epoch}_{epoch}{Name_suffix}.mat',mdic)\n",
    "        if os.path.exists(Record_path + f'Test_{Begin_epoch}_{epoch-1}{Name_suffix}.mat'):\n",
    "            os.remove(Record_path + f'Test_{Begin_epoch}_{epoch-1}{Name_suffix}.mat')\n",
    "\n",
    "    return test_loss, test_acc_top1, test_acc_topk, max_test_acc"
   ]
  },
  {
   "cell_type": "code",
   "execution_count": 10,
   "id": "cd42d283",
   "metadata": {},
   "outputs": [],
   "source": [
    "def train_model(net, max_test_acc, epoch, data_loader=train_data_loader, optimizer=optimizer, criterion=criterion_test, record=True):\n",
    "    train_samples = 0\n",
    "    train_loss = 0\n",
    "    train_acc_top1 = 0\n",
    "    train_acc_topk = 0\n",
    "    \n",
    "    for i, (img, label) in enumerate(tqdm(data_loader)):\n",
    "        net.train()\n",
    "        img = img.unsqueeze(1) \n",
    "        img = img.cuda()\n",
    "        label = label.cuda()\n",
    "        \n",
    "        out_fr = net(img)\n",
    "        loss = criterion(out_fr, label)\n",
    "            \n",
    "        train_samples += label.numel()\n",
    "        train_loss += loss.item() * label.numel()\n",
    "\n",
    "        train_acc_top1 += (out_fr.argmax(1) == label).float().sum().item()\n",
    "        _, pred = out_fr.topk(Top_k, 1, True, True)\n",
    "        train_acc_topk += torch.eq(pred, label.view(-1,1)).float().sum().item()\n",
    "        \n",
    "        optimizer.zero_grad()\n",
    "        loss.backward()\n",
    "\n",
    "        parameters_list = []\n",
    "        for name, p in net.named_parameters():\n",
    "            if not 'fc' in name:\n",
    "                parameters_list.append(p)\n",
    "        adaptive_clip_grad(parameters_list, clip_factor=0.001)\n",
    "            \n",
    "        optimizer.step()\n",
    "\n",
    "        if Test_every_iteration is not None:\n",
    "            if (i+1) % Test_every_iteration == 0:\n",
    "                test_loss, test_acc_top1, test_acc_topk, max_test_acc = test_model(net, max_test_acc, epoch=epoch, iteration=i, record=record)\n",
    "                print(f'Test_loss: {test_loss:.4f}, Test_acc_top1: {test_acc_top1:.4f}, Test_acc_top{Top_k}: {test_acc_topk:.4f}, Max_test_acc: {max_test_acc:.4f}')\n",
    "    \n",
    "    train_loss /= train_samples\n",
    "    train_acc_top1 /= train_samples\n",
    "    train_acc_topk /= train_samples\n",
    "\n",
    "    test_loss, test_acc_top1, test_acc_topk, max_test_acc = test_model(net, max_test_acc, epoch=epoch, iteration=i, record=record)\n",
    "        \n",
    "    return train_loss, train_acc_top1, train_acc_topk, test_loss, test_acc_top1, test_acc_topk, max_test_acc"
   ]
  },
  {
   "cell_type": "code",
   "execution_count": 11,
   "id": "017a43a9",
   "metadata": {},
   "outputs": [
    {
     "name": "stderr",
     "output_type": "stream",
     "text": [
      "100%|██████████| 17/17 [00:05<00:00,  2.91it/s]\n",
      "100%|██████████| 5/5 [00:00<00:00,  7.83it/s]\n"
     ]
    },
    {
     "name": "stdout",
     "output_type": "stream",
     "text": [
      "epoch=0, train_acc_top1=0.0799, train_acc_top5=0.4550, train_loss=11.1168, test_top1=0.0909, test_top5=0.4545, test_loss=9.4229, max_test_acc=0.0909, total_time=6.8180, LR=0.00100000\n"
     ]
    },
    {
     "name": "stderr",
     "output_type": "stream",
     "text": [
      "100%|██████████| 17/17 [00:05<00:00,  3.30it/s]\n",
      "100%|██████████| 5/5 [00:00<00:00,  7.97it/s]\n"
     ]
    },
    {
     "name": "stdout",
     "output_type": "stream",
     "text": [
      "epoch=1, train_acc_top1=0.0780, train_acc_top5=0.4494, train_loss=8.6692, test_top1=0.0909, test_top5=0.4508, test_loss=8.2284, max_test_acc=0.0909, total_time=6.0993, LR=0.00099609\n"
     ]
    },
    {
     "name": "stderr",
     "output_type": "stream",
     "text": [
      "100%|██████████| 17/17 [00:05<00:00,  3.31it/s]\n",
      "100%|██████████| 5/5 [00:00<00:00,  8.00it/s]\n"
     ]
    },
    {
     "name": "stdout",
     "output_type": "stream",
     "text": [
      "epoch=2, train_acc_top1=0.0956, train_acc_top5=0.4754, train_loss=7.3380, test_top1=0.0909, test_top5=0.4583, test_loss=4.1766, max_test_acc=0.0909, total_time=6.0890, LR=0.00099219\n"
     ]
    },
    {
     "name": "stderr",
     "output_type": "stream",
     "text": [
      "100%|██████████| 17/17 [00:05<00:00,  3.30it/s]\n",
      "100%|██████████| 5/5 [00:00<00:00,  8.19it/s]\n"
     ]
    },
    {
     "name": "stdout",
     "output_type": "stream",
     "text": [
      "epoch=3, train_acc_top1=0.1003, train_acc_top5=0.4466, train_loss=5.1811, test_top1=0.0909, test_top5=0.4545, test_loss=3.7577, max_test_acc=0.0909, total_time=8.0251, LR=0.00098828\n"
     ]
    },
    {
     "name": "stderr",
     "output_type": "stream",
     "text": [
      "100%|██████████| 17/17 [00:05<00:00,  3.29it/s]\n",
      "100%|██████████| 5/5 [00:00<00:00,  7.93it/s]\n"
     ]
    },
    {
     "name": "stdout",
     "output_type": "stream",
     "text": [
      "epoch=4, train_acc_top1=0.1049, train_acc_top5=0.4893, train_loss=3.7789, test_top1=0.0909, test_top5=0.4545, test_loss=3.8604, max_test_acc=0.0909, total_time=6.1178, LR=0.00098438\n"
     ]
    },
    {
     "name": "stderr",
     "output_type": "stream",
     "text": [
      "100%|██████████| 17/17 [00:05<00:00,  3.29it/s]\n",
      "100%|██████████| 5/5 [00:00<00:00,  7.87it/s]\n"
     ]
    },
    {
     "name": "stdout",
     "output_type": "stream",
     "text": [
      "epoch=5, train_acc_top1=0.0799, train_acc_top5=0.4364, train_loss=3.6713, test_top1=0.0909, test_top5=0.3977, test_loss=3.1093, max_test_acc=0.0909, total_time=6.1174, LR=0.00098047\n"
     ]
    },
    {
     "name": "stderr",
     "output_type": "stream",
     "text": [
      "100%|██████████| 17/17 [00:05<00:00,  3.30it/s]\n",
      "100%|██████████| 5/5 [00:00<00:00,  7.82it/s]\n"
     ]
    },
    {
     "name": "stdout",
     "output_type": "stream",
     "text": [
      "epoch=6, train_acc_top1=0.1077, train_acc_top5=0.4522, train_loss=2.8894, test_top1=0.0909, test_top5=0.4583, test_loss=2.8269, max_test_acc=0.0909, total_time=6.1146, LR=0.00097656\n"
     ]
    },
    {
     "name": "stderr",
     "output_type": "stream",
     "text": [
      "100%|██████████| 17/17 [00:05<00:00,  3.30it/s]\n",
      "100%|██████████| 5/5 [00:00<00:00,  7.98it/s]\n"
     ]
    },
    {
     "name": "stdout",
     "output_type": "stream",
     "text": [
      "epoch=7, train_acc_top1=0.0891, train_acc_top5=0.4587, train_loss=2.8065, test_top1=0.0909, test_top5=0.4545, test_loss=3.2148, max_test_acc=0.0909, total_time=6.1071, LR=0.00097266\n"
     ]
    },
    {
     "name": "stderr",
     "output_type": "stream",
     "text": [
      "100%|██████████| 17/17 [00:05<00:00,  3.29it/s]\n",
      "100%|██████████| 5/5 [00:00<00:00,  7.60it/s]\n"
     ]
    },
    {
     "name": "stdout",
     "output_type": "stream",
     "text": [
      "epoch=8, train_acc_top1=0.0826, train_acc_top5=0.4438, train_loss=3.1379, test_top1=0.0909, test_top5=0.4545, test_loss=3.0651, max_test_acc=0.0909, total_time=7.2618, LR=0.00096875\n"
     ]
    },
    {
     "name": "stderr",
     "output_type": "stream",
     "text": [
      "100%|██████████| 17/17 [00:05<00:00,  3.22it/s]\n",
      "100%|██████████| 5/5 [00:00<00:00,  7.80it/s]\n"
     ]
    },
    {
     "name": "stdout",
     "output_type": "stream",
     "text": [
      "epoch=9, train_acc_top1=0.0910, train_acc_top5=0.4355, train_loss=2.9426, test_top1=0.0947, test_top5=0.4583, test_loss=2.6850, max_test_acc=0.0947, total_time=6.2471, LR=0.00096484\n"
     ]
    },
    {
     "name": "stderr",
     "output_type": "stream",
     "text": [
      "100%|██████████| 17/17 [00:05<00:00,  3.22it/s]\n",
      "100%|██████████| 5/5 [00:00<00:00,  7.82it/s]\n"
     ]
    },
    {
     "name": "stdout",
     "output_type": "stream",
     "text": [
      "epoch=10, train_acc_top1=0.0854, train_acc_top5=0.4308, train_loss=2.8813, test_top1=0.0909, test_top5=0.4545, test_loss=2.6982, max_test_acc=0.0947, total_time=5.9217, LR=0.00096094\n"
     ]
    },
    {
     "name": "stderr",
     "output_type": "stream",
     "text": [
      "100%|██████████| 17/17 [00:05<00:00,  3.31it/s]\n",
      "100%|██████████| 5/5 [00:00<00:00,  8.08it/s]\n"
     ]
    },
    {
     "name": "stdout",
     "output_type": "stream",
     "text": [
      "epoch=11, train_acc_top1=0.0956, train_acc_top5=0.4717, train_loss=2.7180, test_top1=0.1061, test_top5=0.4508, test_loss=2.7430, max_test_acc=0.1061, total_time=6.0715, LR=0.00095703\n"
     ]
    },
    {
     "name": "stderr",
     "output_type": "stream",
     "text": [
      "100%|██████████| 17/17 [00:05<00:00,  3.22it/s]\n",
      "100%|██████████| 5/5 [00:00<00:00,  7.91it/s]\n"
     ]
    },
    {
     "name": "stdout",
     "output_type": "stream",
     "text": [
      "epoch=12, train_acc_top1=0.1040, train_acc_top5=0.4596, train_loss=2.6925, test_top1=0.0909, test_top5=0.4545, test_loss=2.9500, max_test_acc=0.1061, total_time=5.9244, LR=0.00095312\n"
     ]
    },
    {
     "name": "stderr",
     "output_type": "stream",
     "text": [
      "100%|██████████| 17/17 [00:05<00:00,  3.22it/s]\n",
      "100%|██████████| 5/5 [00:00<00:00,  7.63it/s]\n"
     ]
    },
    {
     "name": "stdout",
     "output_type": "stream",
     "text": [
      "epoch=13, train_acc_top1=0.1003, train_acc_top5=0.4550, train_loss=2.8696, test_top1=0.0909, test_top5=0.4545, test_loss=2.7759, max_test_acc=0.1061, total_time=5.9384, LR=0.00094922\n"
     ]
    },
    {
     "name": "stderr",
     "output_type": "stream",
     "text": [
      "100%|██████████| 17/17 [00:05<00:00,  3.29it/s]\n",
      "100%|██████████| 5/5 [00:00<00:00,  7.85it/s]\n"
     ]
    },
    {
     "name": "stdout",
     "output_type": "stream",
     "text": [
      "epoch=14, train_acc_top1=0.0938, train_acc_top5=0.4578, train_loss=2.6576, test_top1=0.0909, test_top5=0.4545, test_loss=2.7840, max_test_acc=0.1061, total_time=5.8114, LR=0.00094531\n"
     ]
    },
    {
     "name": "stderr",
     "output_type": "stream",
     "text": [
      "100%|██████████| 17/17 [00:05<00:00,  2.96it/s]\n",
      "100%|██████████| 5/5 [00:00<00:00,  7.77it/s]\n"
     ]
    },
    {
     "name": "stdout",
     "output_type": "stream",
     "text": [
      "epoch=15, train_acc_top1=0.0891, train_acc_top5=0.4457, train_loss=2.6224, test_top1=0.0909, test_top5=0.4545, test_loss=2.4746, max_test_acc=0.1061, total_time=6.4037, LR=0.00094141\n"
     ]
    },
    {
     "name": "stderr",
     "output_type": "stream",
     "text": [
      "100%|██████████| 17/17 [00:05<00:00,  3.30it/s]\n",
      "100%|██████████| 5/5 [00:00<00:00,  7.96it/s]\n"
     ]
    },
    {
     "name": "stdout",
     "output_type": "stream",
     "text": [
      "epoch=16, train_acc_top1=0.0854, train_acc_top5=0.4475, train_loss=2.5606, test_top1=0.0909, test_top5=0.4583, test_loss=2.5234, max_test_acc=0.1061, total_time=5.7828, LR=0.00093750\n"
     ]
    },
    {
     "name": "stderr",
     "output_type": "stream",
     "text": [
      "100%|██████████| 17/17 [00:05<00:00,  3.30it/s]\n",
      "100%|██████████| 5/5 [00:00<00:00,  7.83it/s]\n"
     ]
    },
    {
     "name": "stdout",
     "output_type": "stream",
     "text": [
      "epoch=17, train_acc_top1=0.0771, train_acc_top5=0.4680, train_loss=2.5280, test_top1=0.0909, test_top5=0.4545, test_loss=2.5804, max_test_acc=0.1061, total_time=5.7925, LR=0.00093359\n"
     ]
    },
    {
     "name": "stderr",
     "output_type": "stream",
     "text": [
      "100%|██████████| 17/17 [00:05<00:00,  3.30it/s]\n",
      "100%|██████████| 5/5 [00:00<00:00,  7.89it/s]\n"
     ]
    },
    {
     "name": "stdout",
     "output_type": "stream",
     "text": [
      "epoch=18, train_acc_top1=0.0966, train_acc_top5=0.4513, train_loss=2.5653, test_top1=0.0947, test_top5=0.4545, test_loss=2.4896, max_test_acc=0.1061, total_time=5.7898, LR=0.00092969\n"
     ]
    },
    {
     "name": "stderr",
     "output_type": "stream",
     "text": [
      "100%|██████████| 17/17 [00:05<00:00,  3.30it/s]\n",
      "100%|██████████| 5/5 [00:00<00:00,  7.73it/s]\n"
     ]
    },
    {
     "name": "stdout",
     "output_type": "stream",
     "text": [
      "epoch=19, train_acc_top1=0.0938, train_acc_top5=0.4466, train_loss=2.4936, test_top1=0.0909, test_top5=0.4545, test_loss=2.5854, max_test_acc=0.1061, total_time=5.8031, LR=0.00092578\n"
     ]
    },
    {
     "name": "stderr",
     "output_type": "stream",
     "text": [
      "100%|██████████| 17/17 [00:05<00:00,  3.23it/s]\n",
      "100%|██████████| 5/5 [00:00<00:00,  7.85it/s]\n"
     ]
    },
    {
     "name": "stdout",
     "output_type": "stream",
     "text": [
      "epoch=20, train_acc_top1=0.0836, train_acc_top5=0.4513, train_loss=2.5530, test_top1=0.0909, test_top5=0.4545, test_loss=2.5755, max_test_acc=0.1061, total_time=5.9044, LR=0.00092188\n"
     ]
    },
    {
     "name": "stderr",
     "output_type": "stream",
     "text": [
      "100%|██████████| 17/17 [00:05<00:00,  3.25it/s]\n",
      "100%|██████████| 5/5 [00:00<00:00,  8.07it/s]\n"
     ]
    },
    {
     "name": "stdout",
     "output_type": "stream",
     "text": [
      "epoch=21, train_acc_top1=0.0975, train_acc_top5=0.4652, train_loss=2.4744, test_top1=0.0909, test_top5=0.4545, test_loss=2.5302, max_test_acc=0.1061, total_time=5.8535, LR=0.00091797\n"
     ]
    },
    {
     "name": "stderr",
     "output_type": "stream",
     "text": [
      "100%|██████████| 17/17 [00:05<00:00,  3.31it/s]\n",
      "100%|██████████| 5/5 [00:00<00:00,  7.98it/s]\n"
     ]
    },
    {
     "name": "stdout",
     "output_type": "stream",
     "text": [
      "epoch=22, train_acc_top1=0.0910, train_acc_top5=0.4522, train_loss=2.4947, test_top1=0.0909, test_top5=0.4545, test_loss=2.4560, max_test_acc=0.1061, total_time=5.7689, LR=0.00091406\n"
     ]
    },
    {
     "name": "stderr",
     "output_type": "stream",
     "text": [
      "100%|██████████| 17/17 [00:05<00:00,  3.31it/s]\n",
      "100%|██████████| 5/5 [00:00<00:00,  7.98it/s]\n"
     ]
    },
    {
     "name": "stdout",
     "output_type": "stream",
     "text": [
      "epoch=23, train_acc_top1=0.0808, train_acc_top5=0.4587, train_loss=2.4753, test_top1=0.0909, test_top5=0.4545, test_loss=2.4970, max_test_acc=0.1061, total_time=5.7774, LR=0.00091016\n"
     ]
    },
    {
     "name": "stderr",
     "output_type": "stream",
     "text": [
      "100%|██████████| 17/17 [00:05<00:00,  3.31it/s]\n",
      "100%|██████████| 5/5 [00:00<00:00,  7.92it/s]\n"
     ]
    },
    {
     "name": "stdout",
     "output_type": "stream",
     "text": [
      "epoch=24, train_acc_top1=0.0873, train_acc_top5=0.4522, train_loss=2.4582, test_top1=0.1174, test_top5=0.4432, test_loss=2.4539, max_test_acc=0.1174, total_time=6.0809, LR=0.00090625\n"
     ]
    },
    {
     "name": "stderr",
     "output_type": "stream",
     "text": [
      "100%|██████████| 17/17 [00:05<00:00,  3.31it/s]\n",
      "100%|██████████| 5/5 [00:00<00:00,  7.86it/s]\n"
     ]
    },
    {
     "name": "stdout",
     "output_type": "stream",
     "text": [
      "epoch=25, train_acc_top1=0.1096, train_acc_top5=0.4596, train_loss=2.4379, test_top1=0.0947, test_top5=0.4545, test_loss=2.4289, max_test_acc=0.1174, total_time=5.7841, LR=0.00090234\n"
     ]
    },
    {
     "name": "stderr",
     "output_type": "stream",
     "text": [
      "100%|██████████| 17/17 [00:05<00:00,  3.30it/s]\n",
      "100%|██████████| 5/5 [00:00<00:00,  7.89it/s]\n"
     ]
    },
    {
     "name": "stdout",
     "output_type": "stream",
     "text": [
      "epoch=26, train_acc_top1=0.0873, train_acc_top5=0.4290, train_loss=2.4814, test_top1=0.0909, test_top5=0.4394, test_loss=2.4395, max_test_acc=0.1174, total_time=5.7914, LR=0.00089844\n"
     ]
    },
    {
     "name": "stderr",
     "output_type": "stream",
     "text": [
      "100%|██████████| 17/17 [00:05<00:00,  3.30it/s]\n",
      "100%|██████████| 5/5 [00:00<00:00,  7.93it/s]\n"
     ]
    },
    {
     "name": "stdout",
     "output_type": "stream",
     "text": [
      "epoch=27, train_acc_top1=0.0864, train_acc_top5=0.4661, train_loss=2.4280, test_top1=0.0909, test_top5=0.4432, test_loss=2.4291, max_test_acc=0.1174, total_time=5.7883, LR=0.00089453\n"
     ]
    },
    {
     "name": "stderr",
     "output_type": "stream",
     "text": [
      "100%|██████████| 17/17 [00:05<00:00,  3.30it/s]\n",
      "100%|██████████| 5/5 [00:00<00:00,  7.91it/s]\n"
     ]
    },
    {
     "name": "stdout",
     "output_type": "stream",
     "text": [
      "epoch=28, train_acc_top1=0.0910, train_acc_top5=0.4559, train_loss=2.4518, test_top1=0.0909, test_top5=0.4545, test_loss=2.5145, max_test_acc=0.1174, total_time=5.7987, LR=0.00089063\n"
     ]
    },
    {
     "name": "stderr",
     "output_type": "stream",
     "text": [
      "100%|██████████| 17/17 [00:05<00:00,  3.29it/s]\n",
      "100%|██████████| 5/5 [00:00<00:00,  7.93it/s]\n"
     ]
    },
    {
     "name": "stdout",
     "output_type": "stream",
     "text": [
      "epoch=29, train_acc_top1=0.0808, train_acc_top5=0.4215, train_loss=2.4626, test_top1=0.0985, test_top5=0.4545, test_loss=2.4110, max_test_acc=0.1174, total_time=5.8042, LR=0.00088672\n"
     ]
    },
    {
     "name": "stderr",
     "output_type": "stream",
     "text": [
      "100%|██████████| 17/17 [00:05<00:00,  3.31it/s]\n",
      "100%|██████████| 5/5 [00:00<00:00,  7.97it/s]\n"
     ]
    },
    {
     "name": "stdout",
     "output_type": "stream",
     "text": [
      "epoch=30, train_acc_top1=0.0901, train_acc_top5=0.4132, train_loss=2.4320, test_top1=0.0909, test_top5=0.4545, test_loss=2.4204, max_test_acc=0.1174, total_time=5.7680, LR=0.00088281\n"
     ]
    },
    {
     "name": "stderr",
     "output_type": "stream",
     "text": [
      "100%|██████████| 17/17 [00:05<00:00,  3.31it/s]\n",
      "100%|██████████| 5/5 [00:00<00:00,  7.89it/s]\n"
     ]
    },
    {
     "name": "stdout",
     "output_type": "stream",
     "text": [
      "epoch=31, train_acc_top1=0.0771, train_acc_top5=0.4308, train_loss=2.4198, test_top1=0.0909, test_top5=0.4545, test_loss=2.4558, max_test_acc=0.1174, total_time=5.7813, LR=0.00087891\n"
     ]
    },
    {
     "name": "stderr",
     "output_type": "stream",
     "text": [
      "100%|██████████| 17/17 [00:05<00:00,  3.30it/s]\n",
      "100%|██████████| 5/5 [00:00<00:00,  7.91it/s]\n"
     ]
    },
    {
     "name": "stdout",
     "output_type": "stream",
     "text": [
      "epoch=32, train_acc_top1=0.0910, train_acc_top5=0.4364, train_loss=2.4338, test_top1=0.0909, test_top5=0.4583, test_loss=2.4069, max_test_acc=0.1174, total_time=5.7848, LR=0.00087500\n"
     ]
    },
    {
     "name": "stderr",
     "output_type": "stream",
     "text": [
      "100%|██████████| 17/17 [00:05<00:00,  3.31it/s]\n",
      "100%|██████████| 5/5 [00:00<00:00,  7.87it/s]\n"
     ]
    },
    {
     "name": "stdout",
     "output_type": "stream",
     "text": [
      "epoch=33, train_acc_top1=0.0669, train_acc_top5=0.4132, train_loss=2.4149, test_top1=0.0909, test_top5=0.4621, test_loss=2.4034, max_test_acc=0.1174, total_time=5.7786, LR=0.00087109\n"
     ]
    },
    {
     "name": "stderr",
     "output_type": "stream",
     "text": [
      "100%|██████████| 17/17 [00:05<00:00,  3.30it/s]\n",
      "100%|██████████| 5/5 [00:00<00:00,  7.81it/s]\n"
     ]
    },
    {
     "name": "stdout",
     "output_type": "stream",
     "text": [
      "epoch=34, train_acc_top1=0.0715, train_acc_top5=0.4206, train_loss=2.4159, test_top1=0.0909, test_top5=0.4545, test_loss=2.4043, max_test_acc=0.1174, total_time=5.8032, LR=0.00086719\n"
     ]
    },
    {
     "name": "stderr",
     "output_type": "stream",
     "text": [
      "100%|██████████| 17/17 [00:05<00:00,  3.30it/s]\n",
      "100%|██████████| 5/5 [00:00<00:00,  7.92it/s]\n"
     ]
    },
    {
     "name": "stdout",
     "output_type": "stream",
     "text": [
      "epoch=35, train_acc_top1=0.0817, train_acc_top5=0.4345, train_loss=2.4151, test_top1=0.0909, test_top5=0.4167, test_loss=2.4056, max_test_acc=0.1174, total_time=5.7902, LR=0.00086328\n"
     ]
    },
    {
     "name": "stderr",
     "output_type": "stream",
     "text": [
      "100%|██████████| 17/17 [00:05<00:00,  3.32it/s]\n",
      "100%|██████████| 5/5 [00:00<00:00,  7.97it/s]\n"
     ]
    },
    {
     "name": "stdout",
     "output_type": "stream",
     "text": [
      "epoch=36, train_acc_top1=0.0780, train_acc_top5=0.4392, train_loss=2.4175, test_top1=0.0909, test_top5=0.4545, test_loss=2.4011, max_test_acc=0.1174, total_time=5.7618, LR=0.00085938\n"
     ]
    },
    {
     "name": "stderr",
     "output_type": "stream",
     "text": [
      "100%|██████████| 17/17 [00:05<00:00,  3.30it/s]\n",
      "100%|██████████| 5/5 [00:00<00:00,  7.93it/s]\n"
     ]
    },
    {
     "name": "stdout",
     "output_type": "stream",
     "text": [
      "epoch=37, train_acc_top1=0.0901, train_acc_top5=0.4392, train_loss=2.4060, test_top1=0.0909, test_top5=0.4545, test_loss=2.4035, max_test_acc=0.1174, total_time=5.7832, LR=0.00085547\n"
     ]
    },
    {
     "name": "stderr",
     "output_type": "stream",
     "text": [
      "100%|██████████| 17/17 [00:05<00:00,  3.31it/s]\n",
      "100%|██████████| 5/5 [00:00<00:00,  7.93it/s]\n"
     ]
    },
    {
     "name": "stdout",
     "output_type": "stream",
     "text": [
      "epoch=38, train_acc_top1=0.0947, train_acc_top5=0.4383, train_loss=2.4061, test_top1=0.0909, test_top5=0.4432, test_loss=2.4002, max_test_acc=0.1174, total_time=5.7787, LR=0.00085156\n"
     ]
    },
    {
     "name": "stderr",
     "output_type": "stream",
     "text": [
      "100%|██████████| 17/17 [00:05<00:00,  3.30it/s]\n",
      "100%|██████████| 5/5 [00:00<00:00,  8.00it/s]\n"
     ]
    },
    {
     "name": "stdout",
     "output_type": "stream",
     "text": [
      "epoch=39, train_acc_top1=0.0864, train_acc_top5=0.4215, train_loss=2.4037, test_top1=0.1023, test_top5=0.4545, test_loss=2.3980, max_test_acc=0.1174, total_time=5.7801, LR=0.00084766\n"
     ]
    },
    {
     "name": "stderr",
     "output_type": "stream",
     "text": [
      "100%|██████████| 17/17 [00:05<00:00,  3.30it/s]\n",
      "100%|██████████| 5/5 [00:00<00:00,  7.93it/s]\n"
     ]
    },
    {
     "name": "stdout",
     "output_type": "stream",
     "text": [
      "epoch=40, train_acc_top1=0.0780, train_acc_top5=0.4383, train_loss=2.4052, test_top1=0.0720, test_top5=0.4508, test_loss=2.3985, max_test_acc=0.1174, total_time=5.7936, LR=0.00084375\n"
     ]
    },
    {
     "name": "stderr",
     "output_type": "stream",
     "text": [
      "100%|██████████| 17/17 [00:05<00:00,  3.31it/s]\n",
      "100%|██████████| 5/5 [00:00<00:00,  8.00it/s]\n"
     ]
    },
    {
     "name": "stdout",
     "output_type": "stream",
     "text": [
      "epoch=41, train_acc_top1=0.0780, train_acc_top5=0.4364, train_loss=2.4033, test_top1=0.0909, test_top5=0.4621, test_loss=2.3981, max_test_acc=0.1174, total_time=5.7695, LR=0.00083984\n"
     ]
    },
    {
     "name": "stderr",
     "output_type": "stream",
     "text": [
      "100%|██████████| 17/17 [00:05<00:00,  3.30it/s]\n",
      "100%|██████████| 5/5 [00:00<00:00,  8.13it/s]\n"
     ]
    },
    {
     "name": "stdout",
     "output_type": "stream",
     "text": [
      "epoch=42, train_acc_top1=0.0780, train_acc_top5=0.4345, train_loss=2.4035, test_top1=0.0909, test_top5=0.4470, test_loss=2.3982, max_test_acc=0.1174, total_time=5.7785, LR=0.00083594\n"
     ]
    },
    {
     "name": "stderr",
     "output_type": "stream",
     "text": [
      "100%|██████████| 17/17 [00:05<00:00,  3.31it/s]\n",
      "100%|██████████| 5/5 [00:00<00:00,  8.01it/s]\n"
     ]
    },
    {
     "name": "stdout",
     "output_type": "stream",
     "text": [
      "epoch=43, train_acc_top1=0.0845, train_acc_top5=0.4280, train_loss=2.4033, test_top1=0.0644, test_top5=0.4545, test_loss=2.3982, max_test_acc=0.1174, total_time=5.7618, LR=0.00083203\n"
     ]
    },
    {
     "name": "stderr",
     "output_type": "stream",
     "text": [
      "100%|██████████| 17/17 [00:05<00:00,  3.31it/s]\n",
      "100%|██████████| 5/5 [00:00<00:00,  7.94it/s]\n"
     ]
    },
    {
     "name": "stdout",
     "output_type": "stream",
     "text": [
      "epoch=44, train_acc_top1=0.0817, train_acc_top5=0.4336, train_loss=2.4031, test_top1=0.0909, test_top5=0.4697, test_loss=2.3984, max_test_acc=0.1174, total_time=5.7767, LR=0.00082812\n"
     ]
    },
    {
     "name": "stderr",
     "output_type": "stream",
     "text": [
      "100%|██████████| 17/17 [00:05<00:00,  3.29it/s]\n",
      "100%|██████████| 5/5 [00:00<00:00,  8.00it/s]\n"
     ]
    },
    {
     "name": "stdout",
     "output_type": "stream",
     "text": [
      "epoch=45, train_acc_top1=0.0845, train_acc_top5=0.4364, train_loss=2.4007, test_top1=0.0909, test_top5=0.4659, test_loss=2.3975, max_test_acc=0.1174, total_time=5.8010, LR=0.00082422\n"
     ]
    },
    {
     "name": "stderr",
     "output_type": "stream",
     "text": [
      "100%|██████████| 17/17 [00:05<00:00,  3.31it/s]\n",
      "100%|██████████| 5/5 [00:00<00:00,  6.27it/s]\n"
     ]
    },
    {
     "name": "stdout",
     "output_type": "stream",
     "text": [
      "epoch=46, train_acc_top1=0.0975, train_acc_top5=0.4318, train_loss=2.4007, test_top1=0.0909, test_top5=0.4545, test_loss=2.3981, max_test_acc=0.1174, total_time=5.9450, LR=0.00082031\n"
     ]
    },
    {
     "name": "stderr",
     "output_type": "stream",
     "text": [
      "100%|██████████| 17/17 [00:05<00:00,  3.31it/s]\n",
      "100%|██████████| 5/5 [00:00<00:00,  8.03it/s]\n"
     ]
    },
    {
     "name": "stdout",
     "output_type": "stream",
     "text": [
      "epoch=47, train_acc_top1=0.0956, train_acc_top5=0.4299, train_loss=2.4023, test_top1=0.0909, test_top5=0.4545, test_loss=2.3986, max_test_acc=0.1174, total_time=5.7592, LR=0.00081641\n"
     ]
    },
    {
     "name": "stderr",
     "output_type": "stream",
     "text": [
      "100%|██████████| 17/17 [00:05<00:00,  3.30it/s]\n",
      "100%|██████████| 5/5 [00:00<00:00,  7.85it/s]\n"
     ]
    },
    {
     "name": "stdout",
     "output_type": "stream",
     "text": [
      "epoch=48, train_acc_top1=0.0910, train_acc_top5=0.4327, train_loss=2.4007, test_top1=0.0909, test_top5=0.4545, test_loss=2.3981, max_test_acc=0.1174, total_time=5.7948, LR=0.00081250\n"
     ]
    },
    {
     "name": "stderr",
     "output_type": "stream",
     "text": [
      "100%|██████████| 17/17 [00:05<00:00,  3.31it/s]\n",
      "100%|██████████| 5/5 [00:00<00:00,  7.95it/s]\n"
     ]
    },
    {
     "name": "stdout",
     "output_type": "stream",
     "text": [
      "epoch=49, train_acc_top1=0.0808, train_acc_top5=0.4318, train_loss=2.4012, test_top1=0.0909, test_top5=0.4394, test_loss=2.3981, max_test_acc=0.1174, total_time=5.7714, LR=0.00080859\n"
     ]
    },
    {
     "name": "stderr",
     "output_type": "stream",
     "text": [
      "100%|██████████| 17/17 [00:05<00:00,  3.31it/s]\n",
      "100%|██████████| 5/5 [00:00<00:00,  7.94it/s]\n"
     ]
    },
    {
     "name": "stdout",
     "output_type": "stream",
     "text": [
      "epoch=50, train_acc_top1=0.0799, train_acc_top5=0.4206, train_loss=2.4023, test_top1=0.0909, test_top5=0.4773, test_loss=2.3983, max_test_acc=0.1174, total_time=5.7719, LR=0.00080469\n"
     ]
    },
    {
     "name": "stderr",
     "output_type": "stream",
     "text": [
      "100%|██████████| 17/17 [00:05<00:00,  3.31it/s]\n",
      "100%|██████████| 5/5 [00:00<00:00,  7.94it/s]\n"
     ]
    },
    {
     "name": "stdout",
     "output_type": "stream",
     "text": [
      "epoch=51, train_acc_top1=0.0734, train_acc_top5=0.4123, train_loss=2.4030, test_top1=0.1023, test_top5=0.4470, test_loss=2.3977, max_test_acc=0.1174, total_time=5.7704, LR=0.00080078\n"
     ]
    },
    {
     "name": "stderr",
     "output_type": "stream",
     "text": [
      "100%|██████████| 17/17 [00:05<00:00,  3.30it/s]\n",
      "100%|██████████| 5/5 [00:00<00:00,  7.91it/s]\n"
     ]
    },
    {
     "name": "stdout",
     "output_type": "stream",
     "text": [
      "epoch=52, train_acc_top1=0.0845, train_acc_top5=0.4253, train_loss=2.4017, test_top1=0.0909, test_top5=0.4545, test_loss=2.3976, max_test_acc=0.1174, total_time=5.7975, LR=0.00079688\n"
     ]
    },
    {
     "name": "stderr",
     "output_type": "stream",
     "text": [
      "100%|██████████| 17/17 [00:05<00:00,  3.30it/s]\n",
      "100%|██████████| 5/5 [00:00<00:00,  7.95it/s]\n"
     ]
    },
    {
     "name": "stdout",
     "output_type": "stream",
     "text": [
      "epoch=53, train_acc_top1=0.0836, train_acc_top5=0.4178, train_loss=2.4027, test_top1=0.0909, test_top5=0.5038, test_loss=2.3974, max_test_acc=0.1174, total_time=5.7837, LR=0.00079297\n"
     ]
    },
    {
     "name": "stderr",
     "output_type": "stream",
     "text": [
      "100%|██████████| 17/17 [00:05<00:00,  3.30it/s]\n",
      "100%|██████████| 5/5 [00:00<00:00,  7.93it/s]\n"
     ]
    },
    {
     "name": "stdout",
     "output_type": "stream",
     "text": [
      "epoch=54, train_acc_top1=0.0817, train_acc_top5=0.4364, train_loss=2.4020, test_top1=0.0909, test_top5=0.4545, test_loss=2.3988, max_test_acc=0.1174, total_time=5.7877, LR=0.00078906\n"
     ]
    },
    {
     "name": "stderr",
     "output_type": "stream",
     "text": [
      "100%|██████████| 17/17 [00:05<00:00,  3.30it/s]\n",
      "100%|██████████| 5/5 [00:00<00:00,  8.02it/s]\n"
     ]
    },
    {
     "name": "stdout",
     "output_type": "stream",
     "text": [
      "epoch=55, train_acc_top1=0.0734, train_acc_top5=0.4420, train_loss=2.4006, test_top1=0.1061, test_top5=0.4545, test_loss=2.3977, max_test_acc=0.1174, total_time=5.7844, LR=0.00078516\n"
     ]
    },
    {
     "name": "stderr",
     "output_type": "stream",
     "text": [
      "100%|██████████| 17/17 [00:05<00:00,  3.30it/s]\n",
      "100%|██████████| 5/5 [00:00<00:00,  7.90it/s]\n"
     ]
    },
    {
     "name": "stdout",
     "output_type": "stream",
     "text": [
      "epoch=56, train_acc_top1=0.0808, train_acc_top5=0.4308, train_loss=2.3997, test_top1=0.0909, test_top5=0.4545, test_loss=2.3978, max_test_acc=0.1174, total_time=5.7910, LR=0.00078125\n"
     ]
    },
    {
     "name": "stderr",
     "output_type": "stream",
     "text": [
      "100%|██████████| 17/17 [00:05<00:00,  3.30it/s]\n",
      "100%|██████████| 5/5 [00:00<00:00,  7.95it/s]\n"
     ]
    },
    {
     "name": "stdout",
     "output_type": "stream",
     "text": [
      "epoch=57, train_acc_top1=0.0734, train_acc_top5=0.4225, train_loss=2.3997, test_top1=0.0833, test_top5=0.4545, test_loss=2.3981, max_test_acc=0.1174, total_time=5.7836, LR=0.00077734\n"
     ]
    },
    {
     "name": "stderr",
     "output_type": "stream",
     "text": [
      "100%|██████████| 17/17 [00:05<00:00,  3.31it/s]\n",
      "100%|██████████| 5/5 [00:00<00:00,  7.84it/s]\n"
     ]
    },
    {
     "name": "stdout",
     "output_type": "stream",
     "text": [
      "epoch=58, train_acc_top1=0.0799, train_acc_top5=0.4123, train_loss=2.4011, test_top1=0.0909, test_top5=0.4545, test_loss=2.3978, max_test_acc=0.1174, total_time=5.7831, LR=0.00077344\n"
     ]
    },
    {
     "name": "stderr",
     "output_type": "stream",
     "text": [
      "100%|██████████| 17/17 [00:05<00:00,  3.30it/s]\n",
      "100%|██████████| 5/5 [00:00<00:00,  7.85it/s]\n"
     ]
    },
    {
     "name": "stdout",
     "output_type": "stream",
     "text": [
      "epoch=59, train_acc_top1=0.0761, train_acc_top5=0.4271, train_loss=2.3998, test_top1=0.0833, test_top5=0.4508, test_loss=2.3978, max_test_acc=0.1174, total_time=5.7954, LR=0.00076953\n"
     ]
    },
    {
     "name": "stderr",
     "output_type": "stream",
     "text": [
      "100%|██████████| 17/17 [00:05<00:00,  3.29it/s]\n",
      "100%|██████████| 5/5 [00:00<00:00,  8.02it/s]\n"
     ]
    },
    {
     "name": "stdout",
     "output_type": "stream",
     "text": [
      "epoch=60, train_acc_top1=0.0864, train_acc_top5=0.4448, train_loss=2.4016, test_top1=0.0909, test_top5=0.4545, test_loss=2.3976, max_test_acc=0.1174, total_time=5.7953, LR=0.00076563\n"
     ]
    },
    {
     "name": "stderr",
     "output_type": "stream",
     "text": [
      "100%|██████████| 17/17 [00:05<00:00,  3.31it/s]\n",
      "100%|██████████| 5/5 [00:00<00:00,  7.69it/s]\n"
     ]
    },
    {
     "name": "stdout",
     "output_type": "stream",
     "text": [
      "epoch=61, train_acc_top1=0.0901, train_acc_top5=0.4215, train_loss=2.4021, test_top1=0.0909, test_top5=0.4583, test_loss=2.3977, max_test_acc=0.1174, total_time=5.7961, LR=0.00076172\n"
     ]
    },
    {
     "name": "stderr",
     "output_type": "stream",
     "text": [
      "100%|██████████| 17/17 [00:05<00:00,  3.30it/s]\n",
      "100%|██████████| 5/5 [00:00<00:00,  7.92it/s]\n"
     ]
    },
    {
     "name": "stdout",
     "output_type": "stream",
     "text": [
      "epoch=62, train_acc_top1=0.0836, train_acc_top5=0.4095, train_loss=2.4032, test_top1=0.0947, test_top5=0.4735, test_loss=2.3983, max_test_acc=0.1174, total_time=5.7936, LR=0.00075781\n"
     ]
    },
    {
     "name": "stderr",
     "output_type": "stream",
     "text": [
      "100%|██████████| 17/17 [00:05<00:00,  3.30it/s]\n",
      "100%|██████████| 5/5 [00:00<00:00,  7.87it/s]\n"
     ]
    },
    {
     "name": "stdout",
     "output_type": "stream",
     "text": [
      "epoch=63, train_acc_top1=0.0826, train_acc_top5=0.4345, train_loss=2.4024, test_top1=0.0947, test_top5=0.4545, test_loss=2.3987, max_test_acc=0.1174, total_time=5.7928, LR=0.00075391\n"
     ]
    },
    {
     "name": "stderr",
     "output_type": "stream",
     "text": [
      "100%|██████████| 17/17 [00:05<00:00,  3.30it/s]\n",
      "100%|██████████| 5/5 [00:00<00:00,  7.84it/s]\n"
     ]
    },
    {
     "name": "stdout",
     "output_type": "stream",
     "text": [
      "epoch=64, train_acc_top1=0.0854, train_acc_top5=0.4206, train_loss=2.4024, test_top1=0.0909, test_top5=0.4545, test_loss=2.3986, max_test_acc=0.1174, total_time=5.7978, LR=0.00075000\n"
     ]
    },
    {
     "name": "stderr",
     "output_type": "stream",
     "text": [
      "100%|██████████| 17/17 [00:05<00:00,  3.30it/s]\n",
      "100%|██████████| 5/5 [00:00<00:00,  7.80it/s]\n"
     ]
    },
    {
     "name": "stdout",
     "output_type": "stream",
     "text": [
      "epoch=65, train_acc_top1=0.0808, train_acc_top5=0.4345, train_loss=2.4019, test_top1=0.0947, test_top5=0.4545, test_loss=2.3984, max_test_acc=0.1174, total_time=5.7987, LR=0.00074609\n"
     ]
    },
    {
     "name": "stderr",
     "output_type": "stream",
     "text": [
      "100%|██████████| 17/17 [00:05<00:00,  3.30it/s]\n",
      "100%|██████████| 5/5 [00:00<00:00,  7.96it/s]\n"
     ]
    },
    {
     "name": "stdout",
     "output_type": "stream",
     "text": [
      "epoch=66, train_acc_top1=0.0780, train_acc_top5=0.4336, train_loss=2.4015, test_top1=0.0909, test_top5=0.4545, test_loss=2.3986, max_test_acc=0.1174, total_time=5.7867, LR=0.00074219\n"
     ]
    },
    {
     "name": "stderr",
     "output_type": "stream",
     "text": [
      "100%|██████████| 17/17 [00:05<00:00,  3.30it/s]\n",
      "100%|██████████| 5/5 [00:00<00:00,  7.83it/s]\n"
     ]
    },
    {
     "name": "stdout",
     "output_type": "stream",
     "text": [
      "epoch=67, train_acc_top1=0.0771, train_acc_top5=0.4234, train_loss=2.4016, test_top1=0.0909, test_top5=0.4773, test_loss=2.3977, max_test_acc=0.1174, total_time=5.8023, LR=0.00073828\n"
     ]
    },
    {
     "name": "stderr",
     "output_type": "stream",
     "text": [
      "100%|██████████| 17/17 [00:05<00:00,  3.21it/s]\n",
      "100%|██████████| 5/5 [00:00<00:00,  7.81it/s]\n"
     ]
    },
    {
     "name": "stdout",
     "output_type": "stream",
     "text": [
      "epoch=68, train_acc_top1=0.0845, train_acc_top5=0.4522, train_loss=2.4032, test_top1=0.0909, test_top5=0.4470, test_loss=2.3977, max_test_acc=0.1174, total_time=5.9380, LR=0.00073438\n"
     ]
    },
    {
     "name": "stderr",
     "output_type": "stream",
     "text": [
      "100%|██████████| 17/17 [00:05<00:00,  3.30it/s]\n",
      "100%|██████████| 5/5 [00:00<00:00,  7.87it/s]\n"
     ]
    },
    {
     "name": "stdout",
     "output_type": "stream",
     "text": [
      "epoch=69, train_acc_top1=0.0715, train_acc_top5=0.4104, train_loss=2.4024, test_top1=0.0909, test_top5=0.4545, test_loss=2.3979, max_test_acc=0.1174, total_time=5.7892, LR=0.00073047\n"
     ]
    },
    {
     "name": "stderr",
     "output_type": "stream",
     "text": [
      "100%|██████████| 17/17 [00:05<00:00,  3.22it/s]\n",
      "100%|██████████| 5/5 [00:00<00:00,  7.92it/s]\n"
     ]
    },
    {
     "name": "stdout",
     "output_type": "stream",
     "text": [
      "epoch=70, train_acc_top1=0.0715, train_acc_top5=0.4652, train_loss=2.4004, test_top1=0.0909, test_top5=0.4545, test_loss=2.3979, max_test_acc=0.1174, total_time=5.9158, LR=0.00072656\n"
     ]
    },
    {
     "name": "stderr",
     "output_type": "stream",
     "text": [
      "100%|██████████| 17/17 [00:05<00:00,  3.30it/s]\n",
      "100%|██████████| 5/5 [00:00<00:00,  7.95it/s]\n"
     ]
    },
    {
     "name": "stdout",
     "output_type": "stream",
     "text": [
      "epoch=71, train_acc_top1=0.0826, train_acc_top5=0.4420, train_loss=2.4004, test_top1=0.0909, test_top5=0.4962, test_loss=2.3977, max_test_acc=0.1174, total_time=5.7903, LR=0.00072266\n"
     ]
    },
    {
     "name": "stderr",
     "output_type": "stream",
     "text": [
      "100%|██████████| 17/17 [00:05<00:00,  2.84it/s]\n",
      "100%|██████████| 5/5 [00:00<00:00,  8.07it/s]\n"
     ]
    },
    {
     "name": "stdout",
     "output_type": "stream",
     "text": [
      "epoch=72, train_acc_top1=0.0864, train_acc_top5=0.4438, train_loss=2.3997, test_top1=0.0909, test_top5=0.4394, test_loss=2.3982, max_test_acc=0.1174, total_time=6.6129, LR=0.00071875\n"
     ]
    },
    {
     "name": "stderr",
     "output_type": "stream",
     "text": [
      "100%|██████████| 17/17 [00:05<00:00,  3.31it/s]\n",
      "100%|██████████| 5/5 [00:00<00:00,  7.90it/s]\n"
     ]
    },
    {
     "name": "stdout",
     "output_type": "stream",
     "text": [
      "epoch=73, train_acc_top1=0.0715, train_acc_top5=0.4355, train_loss=2.4013, test_top1=0.0871, test_top5=0.4545, test_loss=2.3983, max_test_acc=0.1174, total_time=5.7713, LR=0.00071484\n"
     ]
    },
    {
     "name": "stderr",
     "output_type": "stream",
     "text": [
      "100%|██████████| 17/17 [00:05<00:00,  3.31it/s]\n",
      "100%|██████████| 5/5 [00:00<00:00,  7.81it/s]\n"
     ]
    },
    {
     "name": "stdout",
     "output_type": "stream",
     "text": [
      "epoch=74, train_acc_top1=0.0891, train_acc_top5=0.4280, train_loss=2.4005, test_top1=0.0909, test_top5=0.4545, test_loss=2.3980, max_test_acc=0.1174, total_time=5.7857, LR=0.00071094\n"
     ]
    },
    {
     "name": "stderr",
     "output_type": "stream",
     "text": [
      "100%|██████████| 17/17 [00:05<00:00,  3.31it/s]\n",
      "100%|██████████| 5/5 [00:00<00:00,  7.90it/s]\n"
     ]
    },
    {
     "name": "stdout",
     "output_type": "stream",
     "text": [
      "epoch=75, train_acc_top1=0.0761, train_acc_top5=0.4243, train_loss=2.3998, test_top1=0.0909, test_top5=0.4583, test_loss=2.3974, max_test_acc=0.1174, total_time=5.7724, LR=0.00070703\n"
     ]
    },
    {
     "name": "stderr",
     "output_type": "stream",
     "text": [
      "100%|██████████| 17/17 [00:05<00:00,  3.31it/s]\n",
      "100%|██████████| 5/5 [00:00<00:00,  7.98it/s]\n"
     ]
    },
    {
     "name": "stdout",
     "output_type": "stream",
     "text": [
      "epoch=76, train_acc_top1=0.0817, train_acc_top5=0.4225, train_loss=2.4002, test_top1=0.0909, test_top5=0.4583, test_loss=2.3979, max_test_acc=0.1174, total_time=5.7704, LR=0.00070312\n"
     ]
    },
    {
     "name": "stderr",
     "output_type": "stream",
     "text": [
      "100%|██████████| 17/17 [00:05<00:00,  3.30it/s]\n",
      "100%|██████████| 5/5 [00:00<00:00,  8.03it/s]\n"
     ]
    },
    {
     "name": "stdout",
     "output_type": "stream",
     "text": [
      "epoch=77, train_acc_top1=0.0836, train_acc_top5=0.4299, train_loss=2.3994, test_top1=0.0985, test_top5=0.4545, test_loss=2.3978, max_test_acc=0.1174, total_time=5.7752, LR=0.00069922\n"
     ]
    },
    {
     "name": "stderr",
     "output_type": "stream",
     "text": [
      "100%|██████████| 17/17 [00:05<00:00,  3.30it/s]\n",
      "100%|██████████| 5/5 [00:00<00:00,  7.99it/s]\n"
     ]
    },
    {
     "name": "stdout",
     "output_type": "stream",
     "text": [
      "epoch=78, train_acc_top1=0.0826, train_acc_top5=0.4438, train_loss=2.4017, test_top1=0.0909, test_top5=0.4432, test_loss=2.3984, max_test_acc=0.1174, total_time=5.7915, LR=0.00069531\n"
     ]
    },
    {
     "name": "stderr",
     "output_type": "stream",
     "text": [
      "100%|██████████| 17/17 [00:05<00:00,  3.29it/s]\n",
      "100%|██████████| 5/5 [00:00<00:00,  7.91it/s]\n"
     ]
    },
    {
     "name": "stdout",
     "output_type": "stream",
     "text": [
      "epoch=79, train_acc_top1=0.0910, train_acc_top5=0.4290, train_loss=2.4005, test_top1=0.0947, test_top5=0.5038, test_loss=2.3978, max_test_acc=0.1174, total_time=5.8019, LR=0.00069141\n"
     ]
    },
    {
     "name": "stderr",
     "output_type": "stream",
     "text": [
      "100%|██████████| 17/17 [00:05<00:00,  3.30it/s]\n",
      "100%|██████████| 5/5 [00:00<00:00,  8.03it/s]\n"
     ]
    },
    {
     "name": "stdout",
     "output_type": "stream",
     "text": [
      "epoch=80, train_acc_top1=0.0808, train_acc_top5=0.4160, train_loss=2.4003, test_top1=0.0871, test_top5=0.4545, test_loss=2.3975, max_test_acc=0.1174, total_time=5.7815, LR=0.00068750\n"
     ]
    },
    {
     "name": "stderr",
     "output_type": "stream",
     "text": [
      "100%|██████████| 17/17 [00:05<00:00,  3.30it/s]\n",
      "100%|██████████| 5/5 [00:00<00:00,  7.94it/s]\n"
     ]
    },
    {
     "name": "stdout",
     "output_type": "stream",
     "text": [
      "epoch=81, train_acc_top1=0.0808, train_acc_top5=0.4188, train_loss=2.4019, test_top1=0.0909, test_top5=0.4545, test_loss=2.3981, max_test_acc=0.1174, total_time=5.7875, LR=0.00068359\n"
     ]
    },
    {
     "name": "stderr",
     "output_type": "stream",
     "text": [
      "100%|██████████| 17/17 [00:05<00:00,  3.29it/s]\n",
      "100%|██████████| 5/5 [00:00<00:00,  7.86it/s]\n"
     ]
    },
    {
     "name": "stdout",
     "output_type": "stream",
     "text": [
      "epoch=82, train_acc_top1=0.0910, train_acc_top5=0.4253, train_loss=2.4042, test_top1=0.0909, test_top5=0.4545, test_loss=2.3981, max_test_acc=0.1174, total_time=5.8121, LR=0.00067969\n"
     ]
    },
    {
     "name": "stderr",
     "output_type": "stream",
     "text": [
      "100%|██████████| 17/17 [00:05<00:00,  3.29it/s]\n",
      "100%|██████████| 5/5 [00:00<00:00,  7.92it/s]\n"
     ]
    },
    {
     "name": "stdout",
     "output_type": "stream",
     "text": [
      "epoch=83, train_acc_top1=0.0854, train_acc_top5=0.4299, train_loss=2.4027, test_top1=0.0909, test_top5=0.4545, test_loss=2.3990, max_test_acc=0.1174, total_time=5.8114, LR=0.00067578\n"
     ]
    },
    {
     "name": "stderr",
     "output_type": "stream",
     "text": [
      "100%|██████████| 17/17 [00:05<00:00,  3.30it/s]\n",
      "100%|██████████| 5/5 [00:00<00:00,  7.80it/s]\n"
     ]
    },
    {
     "name": "stdout",
     "output_type": "stream",
     "text": [
      "epoch=84, train_acc_top1=0.0799, train_acc_top5=0.4410, train_loss=2.4057, test_top1=0.0909, test_top5=0.4545, test_loss=2.3992, max_test_acc=0.1174, total_time=5.8075, LR=0.00067188\n"
     ]
    },
    {
     "name": "stderr",
     "output_type": "stream",
     "text": [
      "100%|██████████| 17/17 [00:05<00:00,  3.28it/s]\n",
      "100%|██████████| 5/5 [00:00<00:00,  7.88it/s]\n"
     ]
    },
    {
     "name": "stdout",
     "output_type": "stream",
     "text": [
      "epoch=85, train_acc_top1=0.0901, train_acc_top5=0.4215, train_loss=2.4020, test_top1=0.0909, test_top5=0.4508, test_loss=2.3983, max_test_acc=0.1174, total_time=5.8272, LR=0.00066797\n"
     ]
    },
    {
     "name": "stderr",
     "output_type": "stream",
     "text": [
      "100%|██████████| 17/17 [00:05<00:00,  3.29it/s]\n",
      "100%|██████████| 5/5 [00:00<00:00,  7.85it/s]\n"
     ]
    },
    {
     "name": "stdout",
     "output_type": "stream",
     "text": [
      "epoch=86, train_acc_top1=0.0891, train_acc_top5=0.4253, train_loss=2.4012, test_top1=0.0909, test_top5=0.4545, test_loss=2.3988, max_test_acc=0.1174, total_time=5.8120, LR=0.00066406\n"
     ]
    },
    {
     "name": "stderr",
     "output_type": "stream",
     "text": [
      "100%|██████████| 17/17 [00:05<00:00,  3.29it/s]\n",
      "100%|██████████| 5/5 [00:00<00:00,  7.88it/s]\n"
     ]
    },
    {
     "name": "stdout",
     "output_type": "stream",
     "text": [
      "epoch=87, train_acc_top1=0.0836, train_acc_top5=0.4188, train_loss=2.4006, test_top1=0.0985, test_top5=0.4545, test_loss=2.3980, max_test_acc=0.1174, total_time=5.8151, LR=0.00066016\n"
     ]
    },
    {
     "name": "stderr",
     "output_type": "stream",
     "text": [
      "100%|██████████| 17/17 [00:05<00:00,  3.29it/s]\n",
      "100%|██████████| 5/5 [00:00<00:00,  7.88it/s]\n"
     ]
    },
    {
     "name": "stdout",
     "output_type": "stream",
     "text": [
      "epoch=88, train_acc_top1=0.0919, train_acc_top5=0.4280, train_loss=2.4016, test_top1=0.0909, test_top5=0.4545, test_loss=2.3987, max_test_acc=0.1174, total_time=5.8104, LR=0.00065625\n"
     ]
    },
    {
     "name": "stderr",
     "output_type": "stream",
     "text": [
      "100%|██████████| 17/17 [00:05<00:00,  3.29it/s]\n",
      "100%|██████████| 5/5 [00:00<00:00,  7.87it/s]\n"
     ]
    },
    {
     "name": "stdout",
     "output_type": "stream",
     "text": [
      "epoch=89, train_acc_top1=0.0873, train_acc_top5=0.4169, train_loss=2.4013, test_top1=0.0909, test_top5=0.4621, test_loss=2.3980, max_test_acc=0.1174, total_time=5.8093, LR=0.00065234\n"
     ]
    },
    {
     "name": "stderr",
     "output_type": "stream",
     "text": [
      "100%|██████████| 17/17 [00:05<00:00,  3.30it/s]\n",
      "100%|██████████| 5/5 [00:00<00:00,  7.88it/s]\n"
     ]
    },
    {
     "name": "stdout",
     "output_type": "stream",
     "text": [
      "epoch=90, train_acc_top1=0.0780, train_acc_top5=0.4299, train_loss=2.4021, test_top1=0.0909, test_top5=0.4545, test_loss=2.3984, max_test_acc=0.1174, total_time=5.7913, LR=0.00064844\n"
     ]
    },
    {
     "name": "stderr",
     "output_type": "stream",
     "text": [
      "100%|██████████| 17/17 [00:05<00:00,  3.30it/s]\n",
      "100%|██████████| 5/5 [00:00<00:00,  7.86it/s]\n"
     ]
    },
    {
     "name": "stdout",
     "output_type": "stream",
     "text": [
      "epoch=91, train_acc_top1=0.0826, train_acc_top5=0.4225, train_loss=2.4006, test_top1=0.0909, test_top5=0.4697, test_loss=2.3979, max_test_acc=0.1174, total_time=5.8030, LR=0.00064453\n"
     ]
    },
    {
     "name": "stderr",
     "output_type": "stream",
     "text": [
      "100%|██████████| 17/17 [00:05<00:00,  3.29it/s]\n",
      "100%|██████████| 5/5 [00:00<00:00,  7.84it/s]\n"
     ]
    },
    {
     "name": "stdout",
     "output_type": "stream",
     "text": [
      "epoch=92, train_acc_top1=0.0864, train_acc_top5=0.4132, train_loss=2.4005, test_top1=0.0909, test_top5=0.4545, test_loss=2.3981, max_test_acc=0.1174, total_time=5.8106, LR=0.00064063\n"
     ]
    },
    {
     "name": "stderr",
     "output_type": "stream",
     "text": [
      "100%|██████████| 17/17 [00:05<00:00,  3.29it/s]\n",
      "100%|██████████| 5/5 [00:00<00:00,  7.92it/s]\n"
     ]
    },
    {
     "name": "stdout",
     "output_type": "stream",
     "text": [
      "epoch=93, train_acc_top1=0.0864, train_acc_top5=0.4141, train_loss=2.3994, test_top1=0.0909, test_top5=0.4545, test_loss=2.3979, max_test_acc=0.1174, total_time=5.8023, LR=0.00063672\n"
     ]
    },
    {
     "name": "stderr",
     "output_type": "stream",
     "text": [
      "100%|██████████| 17/17 [00:05<00:00,  3.30it/s]\n",
      "100%|██████████| 5/5 [00:00<00:00,  7.88it/s]\n"
     ]
    },
    {
     "name": "stdout",
     "output_type": "stream",
     "text": [
      "epoch=94, train_acc_top1=0.0771, train_acc_top5=0.4373, train_loss=2.3998, test_top1=0.1098, test_top5=0.5038, test_loss=2.3977, max_test_acc=0.1174, total_time=5.8011, LR=0.00063281\n"
     ]
    },
    {
     "name": "stderr",
     "output_type": "stream",
     "text": [
      "100%|██████████| 17/17 [00:05<00:00,  3.30it/s]\n",
      "100%|██████████| 5/5 [00:00<00:00,  7.92it/s]\n"
     ]
    },
    {
     "name": "stdout",
     "output_type": "stream",
     "text": [
      "epoch=95, train_acc_top1=0.0734, train_acc_top5=0.4364, train_loss=2.3992, test_top1=0.0909, test_top5=0.4545, test_loss=2.3982, max_test_acc=0.1174, total_time=5.7918, LR=0.00062891\n"
     ]
    },
    {
     "name": "stderr",
     "output_type": "stream",
     "text": [
      "100%|██████████| 17/17 [00:05<00:00,  3.31it/s]\n",
      "100%|██████████| 5/5 [00:00<00:00,  5.13it/s]\n"
     ]
    },
    {
     "name": "stdout",
     "output_type": "stream",
     "text": [
      "epoch=96, train_acc_top1=0.0836, train_acc_top5=0.4475, train_loss=2.3995, test_top1=0.0909, test_top5=0.4318, test_loss=2.3981, max_test_acc=0.1174, total_time=6.1103, LR=0.00062500\n"
     ]
    },
    {
     "name": "stderr",
     "output_type": "stream",
     "text": [
      "100%|██████████| 17/17 [00:05<00:00,  3.28it/s]\n",
      "100%|██████████| 5/5 [00:00<00:00,  8.04it/s]\n"
     ]
    },
    {
     "name": "stdout",
     "output_type": "stream",
     "text": [
      "epoch=97, train_acc_top1=0.0808, train_acc_top5=0.4345, train_loss=2.3996, test_top1=0.0909, test_top5=0.4773, test_loss=2.3978, max_test_acc=0.1174, total_time=5.8156, LR=0.00062109\n"
     ]
    },
    {
     "name": "stderr",
     "output_type": "stream",
     "text": [
      "100%|██████████| 17/17 [00:05<00:00,  3.29it/s]\n",
      "100%|██████████| 5/5 [00:00<00:00,  7.98it/s]\n"
     ]
    },
    {
     "name": "stdout",
     "output_type": "stream",
     "text": [
      "epoch=98, train_acc_top1=0.0789, train_acc_top5=0.4253, train_loss=2.4005, test_top1=0.0909, test_top5=0.4508, test_loss=2.3980, max_test_acc=0.1174, total_time=5.7993, LR=0.00061719\n"
     ]
    },
    {
     "name": "stderr",
     "output_type": "stream",
     "text": [
      "100%|██████████| 17/17 [00:05<00:00,  3.30it/s]\n",
      "100%|██████████| 5/5 [00:00<00:00,  7.87it/s]\n"
     ]
    },
    {
     "name": "stdout",
     "output_type": "stream",
     "text": [
      "epoch=99, train_acc_top1=0.0761, train_acc_top5=0.4178, train_loss=2.4002, test_top1=0.0909, test_top5=0.4545, test_loss=2.3980, max_test_acc=0.1174, total_time=5.7979, LR=0.00061328\n"
     ]
    },
    {
     "name": "stderr",
     "output_type": "stream",
     "text": [
      "100%|██████████| 17/17 [00:05<00:00,  3.30it/s]\n",
      "100%|██████████| 5/5 [00:00<00:00,  7.93it/s]\n"
     ]
    },
    {
     "name": "stdout",
     "output_type": "stream",
     "text": [
      "epoch=100, train_acc_top1=0.0882, train_acc_top5=0.4373, train_loss=2.3997, test_top1=0.0909, test_top5=0.4545, test_loss=2.3981, max_test_acc=0.1174, total_time=5.7874, LR=0.00060937\n"
     ]
    },
    {
     "name": "stderr",
     "output_type": "stream",
     "text": [
      "100%|██████████| 17/17 [00:05<00:00,  3.30it/s]\n",
      "100%|██████████| 5/5 [00:00<00:00,  7.89it/s]\n"
     ]
    },
    {
     "name": "stdout",
     "output_type": "stream",
     "text": [
      "epoch=101, train_acc_top1=0.0836, train_acc_top5=0.4457, train_loss=2.3998, test_top1=0.0909, test_top5=0.4583, test_loss=2.3978, max_test_acc=0.1174, total_time=5.7914, LR=0.00060547\n"
     ]
    },
    {
     "name": "stderr",
     "output_type": "stream",
     "text": [
      "100%|██████████| 17/17 [00:05<00:00,  3.30it/s]\n",
      "100%|██████████| 5/5 [00:00<00:00,  7.85it/s]\n"
     ]
    },
    {
     "name": "stdout",
     "output_type": "stream",
     "text": [
      "epoch=102, train_acc_top1=0.0799, train_acc_top5=0.4225, train_loss=2.4001, test_top1=0.0909, test_top5=0.4583, test_loss=2.3978, max_test_acc=0.1174, total_time=5.8035, LR=0.00060156\n"
     ]
    },
    {
     "name": "stderr",
     "output_type": "stream",
     "text": [
      "100%|██████████| 17/17 [00:05<00:00,  3.30it/s]\n",
      "100%|██████████| 5/5 [00:00<00:00,  7.82it/s]\n"
     ]
    },
    {
     "name": "stdout",
     "output_type": "stream",
     "text": [
      "epoch=103, train_acc_top1=0.0845, train_acc_top5=0.4475, train_loss=2.3990, test_top1=0.0909, test_top5=0.4545, test_loss=2.3977, max_test_acc=0.1174, total_time=5.8046, LR=0.00059766\n"
     ]
    },
    {
     "name": "stderr",
     "output_type": "stream",
     "text": [
      "100%|██████████| 17/17 [00:05<00:00,  3.30it/s]\n",
      "100%|██████████| 5/5 [00:00<00:00,  7.84it/s]\n"
     ]
    },
    {
     "name": "stdout",
     "output_type": "stream",
     "text": [
      "epoch=104, train_acc_top1=0.0938, train_acc_top5=0.4401, train_loss=2.3997, test_top1=0.0909, test_top5=0.5189, test_loss=2.3975, max_test_acc=0.1174, total_time=5.8005, LR=0.00059375\n"
     ]
    },
    {
     "name": "stderr",
     "output_type": "stream",
     "text": [
      "100%|██████████| 17/17 [00:05<00:00,  3.30it/s]\n",
      "100%|██████████| 5/5 [00:00<00:00,  8.05it/s]\n"
     ]
    },
    {
     "name": "stdout",
     "output_type": "stream",
     "text": [
      "epoch=105, train_acc_top1=0.0780, train_acc_top5=0.4308, train_loss=2.4010, test_top1=0.0909, test_top5=0.4432, test_loss=2.3985, max_test_acc=0.1174, total_time=5.7787, LR=0.00058984\n"
     ]
    },
    {
     "name": "stderr",
     "output_type": "stream",
     "text": [
      "100%|██████████| 17/17 [00:05<00:00,  3.30it/s]\n",
      "100%|██████████| 5/5 [00:00<00:00,  7.97it/s]\n"
     ]
    },
    {
     "name": "stdout",
     "output_type": "stream",
     "text": [
      "epoch=106, train_acc_top1=0.0724, train_acc_top5=0.4540, train_loss=2.4043, test_top1=0.0909, test_top5=0.4583, test_loss=2.3980, max_test_acc=0.1174, total_time=5.7878, LR=0.00058594\n"
     ]
    },
    {
     "name": "stderr",
     "output_type": "stream",
     "text": [
      "100%|██████████| 17/17 [00:05<00:00,  3.30it/s]\n",
      "100%|██████████| 5/5 [00:00<00:00,  7.87it/s]\n"
     ]
    },
    {
     "name": "stdout",
     "output_type": "stream",
     "text": [
      "epoch=107, train_acc_top1=0.0808, train_acc_top5=0.4243, train_loss=2.4020, test_top1=0.0909, test_top5=0.4545, test_loss=2.4001, max_test_acc=0.1174, total_time=5.7952, LR=0.00058203\n"
     ]
    },
    {
     "name": "stderr",
     "output_type": "stream",
     "text": [
      "100%|██████████| 17/17 [00:05<00:00,  3.30it/s]\n",
      "100%|██████████| 5/5 [00:00<00:00,  7.44it/s]\n"
     ]
    },
    {
     "name": "stdout",
     "output_type": "stream",
     "text": [
      "epoch=108, train_acc_top1=0.0854, train_acc_top5=0.4188, train_loss=2.4094, test_top1=0.0909, test_top5=0.4394, test_loss=2.4014, max_test_acc=0.1174, total_time=5.8297, LR=0.00057812\n"
     ]
    },
    {
     "name": "stderr",
     "output_type": "stream",
     "text": [
      "100%|██████████| 17/17 [00:05<00:00,  3.28it/s]\n",
      "100%|██████████| 5/5 [00:00<00:00,  7.92it/s]\n"
     ]
    },
    {
     "name": "stdout",
     "output_type": "stream",
     "text": [
      "epoch=109, train_acc_top1=0.0808, train_acc_top5=0.4234, train_loss=2.4059, test_top1=0.1174, test_top5=0.4545, test_loss=2.3979, max_test_acc=0.1174, total_time=6.1327, LR=0.00057422\n"
     ]
    },
    {
     "name": "stderr",
     "output_type": "stream",
     "text": [
      "100%|██████████| 17/17 [00:05<00:00,  3.30it/s]\n",
      "100%|██████████| 5/5 [00:00<00:00,  7.83it/s]\n"
     ]
    },
    {
     "name": "stdout",
     "output_type": "stream",
     "text": [
      "epoch=110, train_acc_top1=0.0956, train_acc_top5=0.4568, train_loss=2.4146, test_top1=0.0909, test_top5=0.4545, test_loss=2.4016, max_test_acc=0.1174, total_time=5.7972, LR=0.00057031\n"
     ]
    },
    {
     "name": "stderr",
     "output_type": "stream",
     "text": [
      "100%|██████████| 17/17 [00:05<00:00,  3.30it/s]\n",
      "100%|██████████| 5/5 [00:00<00:00,  7.83it/s]\n"
     ]
    },
    {
     "name": "stdout",
     "output_type": "stream",
     "text": [
      "epoch=111, train_acc_top1=0.0780, train_acc_top5=0.4503, train_loss=2.4095, test_top1=0.0909, test_top5=0.4545, test_loss=2.4034, max_test_acc=0.1174, total_time=5.8053, LR=0.00056641\n"
     ]
    },
    {
     "name": "stderr",
     "output_type": "stream",
     "text": [
      "100%|██████████| 17/17 [00:05<00:00,  3.31it/s]\n",
      "100%|██████████| 5/5 [00:00<00:00,  7.92it/s]\n"
     ]
    },
    {
     "name": "stdout",
     "output_type": "stream",
     "text": [
      "epoch=112, train_acc_top1=0.0799, train_acc_top5=0.4364, train_loss=2.4128, test_top1=0.0909, test_top5=0.4545, test_loss=2.4034, max_test_acc=0.1174, total_time=5.7689, LR=0.00056250\n"
     ]
    },
    {
     "name": "stderr",
     "output_type": "stream",
     "text": [
      "100%|██████████| 17/17 [00:05<00:00,  3.31it/s]\n",
      "100%|██████████| 5/5 [00:00<00:00,  7.91it/s]\n"
     ]
    },
    {
     "name": "stdout",
     "output_type": "stream",
     "text": [
      "epoch=113, train_acc_top1=0.0743, train_acc_top5=0.4104, train_loss=2.4113, test_top1=0.0909, test_top5=0.4621, test_loss=2.4012, max_test_acc=0.1174, total_time=5.7769, LR=0.00055859\n"
     ]
    },
    {
     "name": "stderr",
     "output_type": "stream",
     "text": [
      "100%|██████████| 17/17 [00:05<00:00,  3.30it/s]\n",
      "100%|██████████| 5/5 [00:00<00:00,  7.96it/s]\n"
     ]
    },
    {
     "name": "stdout",
     "output_type": "stream",
     "text": [
      "epoch=114, train_acc_top1=0.0882, train_acc_top5=0.4373, train_loss=2.4123, test_top1=0.0909, test_top5=0.4545, test_loss=2.4127, max_test_acc=0.1174, total_time=5.7835, LR=0.00055469\n"
     ]
    },
    {
     "name": "stderr",
     "output_type": "stream",
     "text": [
      "100%|██████████| 17/17 [00:05<00:00,  3.31it/s]\n",
      "100%|██████████| 5/5 [00:00<00:00,  7.86it/s]\n"
     ]
    },
    {
     "name": "stdout",
     "output_type": "stream",
     "text": [
      "epoch=115, train_acc_top1=0.0864, train_acc_top5=0.4383, train_loss=2.4109, test_top1=0.0985, test_top5=0.4545, test_loss=2.4039, max_test_acc=0.1174, total_time=5.7870, LR=0.00055078\n"
     ]
    },
    {
     "name": "stderr",
     "output_type": "stream",
     "text": [
      "100%|██████████| 17/17 [00:05<00:00,  3.31it/s]\n",
      "100%|██████████| 5/5 [00:00<00:00,  8.02it/s]\n"
     ]
    },
    {
     "name": "stdout",
     "output_type": "stream",
     "text": [
      "epoch=116, train_acc_top1=0.0808, train_acc_top5=0.4262, train_loss=2.4119, test_top1=0.0909, test_top5=0.4545, test_loss=2.4032, max_test_acc=0.1174, total_time=5.7607, LR=0.00054688\n"
     ]
    },
    {
     "name": "stderr",
     "output_type": "stream",
     "text": [
      "100%|██████████| 17/17 [00:05<00:00,  3.30it/s]\n",
      "100%|██████████| 5/5 [00:00<00:00,  7.96it/s]\n"
     ]
    },
    {
     "name": "stdout",
     "output_type": "stream",
     "text": [
      "epoch=117, train_acc_top1=0.0901, train_acc_top5=0.4578, train_loss=2.4084, test_top1=0.0909, test_top5=0.4545, test_loss=2.4314, max_test_acc=0.1174, total_time=5.7809, LR=0.00054297\n"
     ]
    },
    {
     "name": "stderr",
     "output_type": "stream",
     "text": [
      "100%|██████████| 17/17 [00:05<00:00,  3.31it/s]\n",
      "100%|██████████| 5/5 [00:00<00:00,  7.96it/s]\n"
     ]
    },
    {
     "name": "stdout",
     "output_type": "stream",
     "text": [
      "epoch=118, train_acc_top1=0.0743, train_acc_top5=0.4494, train_loss=2.4127, test_top1=0.0909, test_top5=0.4583, test_loss=2.4003, max_test_acc=0.1174, total_time=5.7801, LR=0.00053906\n"
     ]
    },
    {
     "name": "stderr",
     "output_type": "stream",
     "text": [
      "100%|██████████| 17/17 [00:05<00:00,  3.31it/s]\n",
      "100%|██████████| 5/5 [00:00<00:00,  7.97it/s]\n"
     ]
    },
    {
     "name": "stdout",
     "output_type": "stream",
     "text": [
      "epoch=119, train_acc_top1=0.0873, train_acc_top5=0.4373, train_loss=2.4091, test_top1=0.0909, test_top5=0.4508, test_loss=2.3998, max_test_acc=0.1174, total_time=5.7696, LR=0.00053516\n"
     ]
    },
    {
     "name": "stderr",
     "output_type": "stream",
     "text": [
      "100%|██████████| 17/17 [00:05<00:00,  3.31it/s]\n",
      "100%|██████████| 5/5 [00:00<00:00,  7.75it/s]\n"
     ]
    },
    {
     "name": "stdout",
     "output_type": "stream",
     "text": [
      "epoch=120, train_acc_top1=0.0929, train_acc_top5=0.4429, train_loss=2.4079, test_top1=0.0909, test_top5=0.4470, test_loss=2.4005, max_test_acc=0.1174, total_time=5.7826, LR=0.00053125\n"
     ]
    },
    {
     "name": "stderr",
     "output_type": "stream",
     "text": [
      "100%|██████████| 17/17 [00:05<00:00,  3.32it/s]\n",
      "100%|██████████| 5/5 [00:00<00:00,  8.01it/s]\n"
     ]
    },
    {
     "name": "stdout",
     "output_type": "stream",
     "text": [
      "epoch=121, train_acc_top1=0.0808, train_acc_top5=0.4225, train_loss=2.4085, test_top1=0.0909, test_top5=0.4545, test_loss=2.4023, max_test_acc=0.1174, total_time=5.7592, LR=0.00052734\n"
     ]
    },
    {
     "name": "stderr",
     "output_type": "stream",
     "text": [
      "100%|██████████| 17/17 [00:05<00:00,  3.31it/s]\n",
      "100%|██████████| 5/5 [00:00<00:00,  8.05it/s]\n"
     ]
    },
    {
     "name": "stdout",
     "output_type": "stream",
     "text": [
      "epoch=122, train_acc_top1=0.0752, train_acc_top5=0.4225, train_loss=2.4089, test_top1=0.0909, test_top5=0.4508, test_loss=2.3991, max_test_acc=0.1174, total_time=5.7650, LR=0.00052344\n"
     ]
    },
    {
     "name": "stderr",
     "output_type": "stream",
     "text": [
      "100%|██████████| 17/17 [00:05<00:00,  3.31it/s]\n",
      "100%|██████████| 5/5 [00:00<00:00,  7.87it/s]\n"
     ]
    },
    {
     "name": "stdout",
     "output_type": "stream",
     "text": [
      "epoch=123, train_acc_top1=0.0808, train_acc_top5=0.4234, train_loss=2.4061, test_top1=0.0909, test_top5=0.4545, test_loss=2.3984, max_test_acc=0.1174, total_time=5.7719, LR=0.00051953\n"
     ]
    },
    {
     "name": "stderr",
     "output_type": "stream",
     "text": [
      "100%|██████████| 17/17 [00:05<00:00,  3.30it/s]\n",
      "100%|██████████| 5/5 [00:00<00:00,  7.87it/s]\n"
     ]
    },
    {
     "name": "stdout",
     "output_type": "stream",
     "text": [
      "epoch=124, train_acc_top1=0.0836, train_acc_top5=0.4280, train_loss=2.4033, test_top1=0.0909, test_top5=0.4545, test_loss=2.3989, max_test_acc=0.1174, total_time=5.7898, LR=0.00051563\n"
     ]
    },
    {
     "name": "stderr",
     "output_type": "stream",
     "text": [
      "100%|██████████| 17/17 [00:05<00:00,  3.31it/s]\n",
      "100%|██████████| 5/5 [00:00<00:00,  7.97it/s]\n"
     ]
    },
    {
     "name": "stdout",
     "output_type": "stream",
     "text": [
      "epoch=125, train_acc_top1=0.0743, train_acc_top5=0.4234, train_loss=2.4014, test_top1=0.0909, test_top5=0.4545, test_loss=2.3983, max_test_acc=0.1174, total_time=5.7754, LR=0.00051172\n"
     ]
    },
    {
     "name": "stderr",
     "output_type": "stream",
     "text": [
      "100%|██████████| 17/17 [00:05<00:00,  3.31it/s]\n",
      "100%|██████████| 5/5 [00:00<00:00,  7.91it/s]\n"
     ]
    },
    {
     "name": "stdout",
     "output_type": "stream",
     "text": [
      "epoch=126, train_acc_top1=0.0919, train_acc_top5=0.4188, train_loss=2.4016, test_top1=0.0909, test_top5=0.4545, test_loss=2.3988, max_test_acc=0.1174, total_time=5.7691, LR=0.00050781\n"
     ]
    },
    {
     "name": "stderr",
     "output_type": "stream",
     "text": [
      "100%|██████████| 17/17 [00:05<00:00,  3.31it/s]\n",
      "100%|██████████| 5/5 [00:00<00:00,  7.86it/s]\n"
     ]
    },
    {
     "name": "stdout",
     "output_type": "stream",
     "text": [
      "epoch=127, train_acc_top1=0.0873, train_acc_top5=0.4345, train_loss=2.4016, test_top1=0.0909, test_top5=0.4545, test_loss=2.3982, max_test_acc=0.1174, total_time=5.7865, LR=0.00050391\n"
     ]
    },
    {
     "name": "stderr",
     "output_type": "stream",
     "text": [
      "100%|██████████| 17/17 [00:05<00:00,  3.32it/s]\n",
      "100%|██████████| 5/5 [00:00<00:00,  7.94it/s]\n"
     ]
    },
    {
     "name": "stdout",
     "output_type": "stream",
     "text": [
      "epoch=128, train_acc_top1=0.0845, train_acc_top5=0.4420, train_loss=2.3998, test_top1=0.0871, test_top5=0.4470, test_loss=2.3981, max_test_acc=0.1174, total_time=5.7652, LR=0.00050000\n"
     ]
    },
    {
     "name": "stderr",
     "output_type": "stream",
     "text": [
      "100%|██████████| 17/17 [00:05<00:00,  3.30it/s]\n",
      "100%|██████████| 5/5 [00:00<00:00,  7.97it/s]\n"
     ]
    },
    {
     "name": "stdout",
     "output_type": "stream",
     "text": [
      "epoch=129, train_acc_top1=0.0780, train_acc_top5=0.4206, train_loss=2.4009, test_top1=0.0909, test_top5=0.4508, test_loss=2.3980, max_test_acc=0.1174, total_time=5.7875, LR=0.00049609\n"
     ]
    },
    {
     "name": "stderr",
     "output_type": "stream",
     "text": [
      "100%|██████████| 17/17 [00:05<00:00,  3.31it/s]\n",
      "100%|██████████| 5/5 [00:00<00:00,  7.96it/s]\n"
     ]
    },
    {
     "name": "stdout",
     "output_type": "stream",
     "text": [
      "epoch=130, train_acc_top1=0.0715, train_acc_top5=0.4290, train_loss=2.4031, test_top1=0.0909, test_top5=0.4545, test_loss=2.3980, max_test_acc=0.1174, total_time=5.7687, LR=0.00049219\n"
     ]
    },
    {
     "name": "stderr",
     "output_type": "stream",
     "text": [
      "100%|██████████| 17/17 [00:05<00:00,  3.30it/s]\n",
      "100%|██████████| 5/5 [00:00<00:00,  8.01it/s]\n"
     ]
    },
    {
     "name": "stdout",
     "output_type": "stream",
     "text": [
      "epoch=131, train_acc_top1=0.0789, train_acc_top5=0.4420, train_loss=2.4015, test_top1=0.0833, test_top5=0.4545, test_loss=2.3987, max_test_acc=0.1174, total_time=5.7884, LR=0.00048828\n"
     ]
    },
    {
     "name": "stderr",
     "output_type": "stream",
     "text": [
      "100%|██████████| 17/17 [00:05<00:00,  3.30it/s]\n",
      "100%|██████████| 5/5 [00:00<00:00,  8.00it/s]\n"
     ]
    },
    {
     "name": "stdout",
     "output_type": "stream",
     "text": [
      "epoch=132, train_acc_top1=0.0882, train_acc_top5=0.4373, train_loss=2.4002, test_top1=0.0909, test_top5=0.4545, test_loss=2.3980, max_test_acc=0.1174, total_time=5.7877, LR=0.00048437\n"
     ]
    },
    {
     "name": "stderr",
     "output_type": "stream",
     "text": [
      "100%|██████████| 17/17 [00:05<00:00,  3.31it/s]\n",
      "100%|██████████| 5/5 [00:00<00:00,  7.95it/s]\n"
     ]
    },
    {
     "name": "stdout",
     "output_type": "stream",
     "text": [
      "epoch=133, train_acc_top1=0.0706, train_acc_top5=0.4345, train_loss=2.4017, test_top1=0.0909, test_top5=0.4508, test_loss=2.3983, max_test_acc=0.1174, total_time=5.7794, LR=0.00048047\n"
     ]
    },
    {
     "name": "stderr",
     "output_type": "stream",
     "text": [
      "100%|██████████| 17/17 [00:05<00:00,  3.30it/s]\n",
      "100%|██████████| 5/5 [00:00<00:00,  7.82it/s]\n"
     ]
    },
    {
     "name": "stdout",
     "output_type": "stream",
     "text": [
      "epoch=134, train_acc_top1=0.0873, train_acc_top5=0.4410, train_loss=2.3995, test_top1=0.0909, test_top5=0.4545, test_loss=2.3977, max_test_acc=0.1174, total_time=5.8053, LR=0.00047656\n"
     ]
    },
    {
     "name": "stderr",
     "output_type": "stream",
     "text": [
      "100%|██████████| 17/17 [00:05<00:00,  3.31it/s]\n",
      "100%|██████████| 5/5 [00:00<00:00,  8.02it/s]\n"
     ]
    },
    {
     "name": "stdout",
     "output_type": "stream",
     "text": [
      "epoch=135, train_acc_top1=0.0799, train_acc_top5=0.4150, train_loss=2.4003, test_top1=0.0909, test_top5=0.4545, test_loss=2.3976, max_test_acc=0.1174, total_time=5.7660, LR=0.00047266\n"
     ]
    },
    {
     "name": "stderr",
     "output_type": "stream",
     "text": [
      "100%|██████████| 17/17 [00:05<00:00,  3.30it/s]\n",
      "100%|██████████| 5/5 [00:00<00:00,  7.86it/s]\n"
     ]
    },
    {
     "name": "stdout",
     "output_type": "stream",
     "text": [
      "epoch=136, train_acc_top1=0.0901, train_acc_top5=0.4290, train_loss=2.3997, test_top1=0.0909, test_top5=0.4735, test_loss=2.3975, max_test_acc=0.1174, total_time=5.7991, LR=0.00046875\n"
     ]
    },
    {
     "name": "stderr",
     "output_type": "stream",
     "text": [
      "100%|██████████| 17/17 [00:05<00:00,  3.30it/s]\n",
      "100%|██████████| 5/5 [00:00<00:00,  7.82it/s]\n"
     ]
    },
    {
     "name": "stdout",
     "output_type": "stream",
     "text": [
      "epoch=137, train_acc_top1=0.0845, train_acc_top5=0.4438, train_loss=2.4004, test_top1=0.0909, test_top5=0.4621, test_loss=2.3973, max_test_acc=0.1174, total_time=5.8018, LR=0.00046484\n"
     ]
    },
    {
     "name": "stderr",
     "output_type": "stream",
     "text": [
      "100%|██████████| 17/17 [00:05<00:00,  3.31it/s]\n",
      "100%|██████████| 5/5 [00:00<00:00,  7.88it/s]\n"
     ]
    },
    {
     "name": "stdout",
     "output_type": "stream",
     "text": [
      "epoch=138, train_acc_top1=0.0882, train_acc_top5=0.4383, train_loss=2.3996, test_top1=0.0909, test_top5=0.4811, test_loss=2.3974, max_test_acc=0.1174, total_time=5.7784, LR=0.00046094\n"
     ]
    },
    {
     "name": "stderr",
     "output_type": "stream",
     "text": [
      "100%|██████████| 17/17 [00:05<00:00,  3.29it/s]\n",
      "100%|██████████| 5/5 [00:00<00:00,  7.87it/s]\n"
     ]
    },
    {
     "name": "stdout",
     "output_type": "stream",
     "text": [
      "epoch=139, train_acc_top1=0.0854, train_acc_top5=0.4355, train_loss=2.3994, test_top1=0.0985, test_top5=0.4508, test_loss=2.3976, max_test_acc=0.1174, total_time=5.8042, LR=0.00045703\n"
     ]
    },
    {
     "name": "stderr",
     "output_type": "stream",
     "text": [
      "100%|██████████| 17/17 [00:05<00:00,  3.18it/s]\n",
      "100%|██████████| 5/5 [00:00<00:00,  7.86it/s]\n"
     ]
    },
    {
     "name": "stdout",
     "output_type": "stream",
     "text": [
      "epoch=140, train_acc_top1=0.0901, train_acc_top5=0.4531, train_loss=2.4003, test_top1=0.0947, test_top5=0.4659, test_loss=2.3975, max_test_acc=0.1174, total_time=5.9884, LR=0.00045313\n"
     ]
    },
    {
     "name": "stderr",
     "output_type": "stream",
     "text": [
      "100%|██████████| 17/17 [00:05<00:00,  3.31it/s]\n",
      "100%|██████████| 5/5 [00:00<00:00,  8.00it/s]\n"
     ]
    },
    {
     "name": "stdout",
     "output_type": "stream",
     "text": [
      "epoch=141, train_acc_top1=0.0836, train_acc_top5=0.4392, train_loss=2.3999, test_top1=0.0985, test_top5=0.4545, test_loss=2.3974, max_test_acc=0.1174, total_time=5.7693, LR=0.00044922\n"
     ]
    },
    {
     "name": "stderr",
     "output_type": "stream",
     "text": [
      "100%|██████████| 17/17 [00:05<00:00,  3.31it/s]\n",
      "100%|██████████| 5/5 [00:00<00:00,  8.09it/s]\n"
     ]
    },
    {
     "name": "stdout",
     "output_type": "stream",
     "text": [
      "epoch=142, train_acc_top1=0.0864, train_acc_top5=0.4336, train_loss=2.4019, test_top1=0.0909, test_top5=0.4508, test_loss=2.3982, max_test_acc=0.1174, total_time=5.7601, LR=0.00044531\n"
     ]
    },
    {
     "name": "stderr",
     "output_type": "stream",
     "text": [
      "100%|██████████| 17/17 [00:05<00:00,  3.31it/s]\n",
      "100%|██████████| 5/5 [00:00<00:00,  7.91it/s]\n"
     ]
    },
    {
     "name": "stdout",
     "output_type": "stream",
     "text": [
      "epoch=143, train_acc_top1=0.0864, train_acc_top5=0.4355, train_loss=2.4009, test_top1=0.0909, test_top5=0.4545, test_loss=2.3981, max_test_acc=0.1174, total_time=5.7789, LR=0.00044141\n"
     ]
    },
    {
     "name": "stderr",
     "output_type": "stream",
     "text": [
      "100%|██████████| 17/17 [00:05<00:00,  3.31it/s]\n",
      "100%|██████████| 5/5 [00:00<00:00,  7.92it/s]\n"
     ]
    },
    {
     "name": "stdout",
     "output_type": "stream",
     "text": [
      "epoch=144, train_acc_top1=0.0901, train_acc_top5=0.4215, train_loss=2.4006, test_top1=0.1098, test_top5=0.4621, test_loss=2.3980, max_test_acc=0.1174, total_time=5.7796, LR=0.00043750\n"
     ]
    },
    {
     "name": "stderr",
     "output_type": "stream",
     "text": [
      "100%|██████████| 17/17 [00:05<00:00,  3.31it/s]\n",
      "100%|██████████| 5/5 [00:00<00:00,  8.01it/s]\n"
     ]
    },
    {
     "name": "stdout",
     "output_type": "stream",
     "text": [
      "epoch=145, train_acc_top1=0.0854, train_acc_top5=0.4401, train_loss=2.3994, test_top1=0.0909, test_top5=0.4848, test_loss=2.3970, max_test_acc=0.1174, total_time=5.7652, LR=0.00043359\n"
     ]
    },
    {
     "name": "stderr",
     "output_type": "stream",
     "text": [
      "100%|██████████| 17/17 [00:05<00:00,  3.08it/s]\n",
      "100%|██████████| 5/5 [00:00<00:00,  8.03it/s]\n"
     ]
    },
    {
     "name": "stdout",
     "output_type": "stream",
     "text": [
      "epoch=146, train_acc_top1=0.0854, train_acc_top5=0.4485, train_loss=2.4007, test_top1=0.0833, test_top5=0.4773, test_loss=2.3975, max_test_acc=0.1174, total_time=6.1456, LR=0.00042969\n"
     ]
    },
    {
     "name": "stderr",
     "output_type": "stream",
     "text": [
      "100%|██████████| 17/17 [00:05<00:00,  3.31it/s]\n",
      "100%|██████████| 5/5 [00:00<00:00,  7.99it/s]\n"
     ]
    },
    {
     "name": "stdout",
     "output_type": "stream",
     "text": [
      "epoch=147, train_acc_top1=0.0864, train_acc_top5=0.4318, train_loss=2.4024, test_top1=0.0909, test_top5=0.4508, test_loss=2.3983, max_test_acc=0.1174, total_time=5.7635, LR=0.00042578\n"
     ]
    },
    {
     "name": "stderr",
     "output_type": "stream",
     "text": [
      "100%|██████████| 17/17 [00:05<00:00,  3.31it/s]\n",
      "100%|██████████| 5/5 [00:00<00:00,  7.98it/s]\n"
     ]
    },
    {
     "name": "stdout",
     "output_type": "stream",
     "text": [
      "epoch=148, train_acc_top1=0.0789, train_acc_top5=0.4513, train_loss=2.3999, test_top1=0.0909, test_top5=0.4545, test_loss=2.3983, max_test_acc=0.1174, total_time=5.7635, LR=0.00042187\n"
     ]
    },
    {
     "name": "stderr",
     "output_type": "stream",
     "text": [
      "100%|██████████| 17/17 [00:05<00:00,  3.30it/s]\n",
      "100%|██████████| 5/5 [00:00<00:00,  7.92it/s]\n"
     ]
    },
    {
     "name": "stdout",
     "output_type": "stream",
     "text": [
      "epoch=149, train_acc_top1=0.0789, train_acc_top5=0.4345, train_loss=2.4017, test_top1=0.0909, test_top5=0.4545, test_loss=2.3981, max_test_acc=0.1174, total_time=5.7876, LR=0.00041797\n"
     ]
    },
    {
     "name": "stderr",
     "output_type": "stream",
     "text": [
      "100%|██████████| 17/17 [00:05<00:00,  3.32it/s]\n",
      "100%|██████████| 5/5 [00:00<00:00,  7.98it/s]\n"
     ]
    },
    {
     "name": "stdout",
     "output_type": "stream",
     "text": [
      "epoch=150, train_acc_top1=0.0817, train_acc_top5=0.4318, train_loss=2.3991, test_top1=0.0909, test_top5=0.4545, test_loss=2.3978, max_test_acc=0.1174, total_time=5.7612, LR=0.00041406\n"
     ]
    },
    {
     "name": "stderr",
     "output_type": "stream",
     "text": [
      "100%|██████████| 17/17 [00:05<00:00,  3.30it/s]\n",
      "100%|██████████| 5/5 [00:00<00:00,  7.89it/s]\n"
     ]
    },
    {
     "name": "stdout",
     "output_type": "stream",
     "text": [
      "epoch=151, train_acc_top1=0.0891, train_acc_top5=0.4290, train_loss=2.3990, test_top1=0.0909, test_top5=0.4053, test_loss=2.4000, max_test_acc=0.1174, total_time=5.8007, LR=0.00041016\n"
     ]
    },
    {
     "name": "stderr",
     "output_type": "stream",
     "text": [
      "100%|██████████| 17/17 [00:05<00:00,  3.30it/s]\n",
      "100%|██████████| 5/5 [00:00<00:00,  7.72it/s]\n"
     ]
    },
    {
     "name": "stdout",
     "output_type": "stream",
     "text": [
      "epoch=152, train_acc_top1=0.0826, train_acc_top5=0.4299, train_loss=2.4001, test_top1=0.1061, test_top5=0.4773, test_loss=2.3967, max_test_acc=0.1174, total_time=5.8029, LR=0.00040625\n"
     ]
    },
    {
     "name": "stderr",
     "output_type": "stream",
     "text": [
      "100%|██████████| 17/17 [00:05<00:00,  3.30it/s]\n",
      "100%|██████████| 5/5 [00:00<00:00,  7.83it/s]\n"
     ]
    },
    {
     "name": "stdout",
     "output_type": "stream",
     "text": [
      "epoch=153, train_acc_top1=0.0984, train_acc_top5=0.4810, train_loss=2.3981, test_top1=0.0909, test_top5=0.5038, test_loss=2.3936, max_test_acc=0.1174, total_time=5.7917, LR=0.00040234\n"
     ]
    },
    {
     "name": "stderr",
     "output_type": "stream",
     "text": [
      "100%|██████████| 17/17 [00:05<00:00,  3.30it/s]\n",
      "100%|██████████| 5/5 [00:00<00:00,  7.83it/s]\n"
     ]
    },
    {
     "name": "stdout",
     "output_type": "stream",
     "text": [
      "epoch=154, train_acc_top1=0.0891, train_acc_top5=0.4457, train_loss=2.3989, test_top1=0.1174, test_top5=0.4659, test_loss=2.3924, max_test_acc=0.1174, total_time=6.1170, LR=0.00039844\n"
     ]
    },
    {
     "name": "stderr",
     "output_type": "stream",
     "text": [
      "100%|██████████| 17/17 [00:05<00:00,  3.30it/s]\n",
      "100%|██████████| 5/5 [00:00<00:00,  7.96it/s]\n"
     ]
    },
    {
     "name": "stdout",
     "output_type": "stream",
     "text": [
      "epoch=155, train_acc_top1=0.0864, train_acc_top5=0.4689, train_loss=2.3984, test_top1=0.0909, test_top5=0.4848, test_loss=2.4234, max_test_acc=0.1174, total_time=5.7942, LR=0.00039453\n"
     ]
    },
    {
     "name": "stderr",
     "output_type": "stream",
     "text": [
      "100%|██████████| 17/17 [00:05<00:00,  3.31it/s]\n",
      "100%|██████████| 5/5 [00:00<00:00,  7.85it/s]\n"
     ]
    },
    {
     "name": "stdout",
     "output_type": "stream",
     "text": [
      "epoch=156, train_acc_top1=0.1003, train_acc_top5=0.4633, train_loss=2.3998, test_top1=0.0720, test_top5=0.5379, test_loss=2.3921, max_test_acc=0.1174, total_time=5.7879, LR=0.00039063\n"
     ]
    },
    {
     "name": "stderr",
     "output_type": "stream",
     "text": [
      "100%|██████████| 17/17 [00:05<00:00,  3.31it/s]\n",
      "100%|██████████| 5/5 [00:00<00:00,  7.87it/s]\n"
     ]
    },
    {
     "name": "stdout",
     "output_type": "stream",
     "text": [
      "epoch=157, train_acc_top1=0.0864, train_acc_top5=0.4485, train_loss=2.4187, test_top1=0.0947, test_top5=0.4583, test_loss=2.4313, max_test_acc=0.1174, total_time=5.7829, LR=0.00038672\n"
     ]
    },
    {
     "name": "stderr",
     "output_type": "stream",
     "text": [
      "100%|██████████| 17/17 [00:05<00:00,  3.32it/s]\n",
      "100%|██████████| 5/5 [00:00<00:00,  7.97it/s]\n"
     ]
    },
    {
     "name": "stdout",
     "output_type": "stream",
     "text": [
      "epoch=158, train_acc_top1=0.0669, train_acc_top5=0.4280, train_loss=2.4125, test_top1=0.0909, test_top5=0.4545, test_loss=2.4015, max_test_acc=0.1174, total_time=5.7571, LR=0.00038281\n"
     ]
    },
    {
     "name": "stderr",
     "output_type": "stream",
     "text": [
      "100%|██████████| 17/17 [00:05<00:00,  3.30it/s]\n",
      "100%|██████████| 5/5 [00:00<00:00,  7.93it/s]\n"
     ]
    },
    {
     "name": "stdout",
     "output_type": "stream",
     "text": [
      "epoch=159, train_acc_top1=0.0789, train_acc_top5=0.4355, train_loss=2.4107, test_top1=0.0909, test_top5=0.4545, test_loss=2.4056, max_test_acc=0.1174, total_time=5.7849, LR=0.00037891\n"
     ]
    },
    {
     "name": "stderr",
     "output_type": "stream",
     "text": [
      "100%|██████████| 17/17 [00:05<00:00,  3.32it/s]\n",
      "100%|██████████| 5/5 [00:00<00:00,  7.95it/s]\n"
     ]
    },
    {
     "name": "stdout",
     "output_type": "stream",
     "text": [
      "epoch=160, train_acc_top1=0.0669, train_acc_top5=0.4169, train_loss=2.4090, test_top1=0.0909, test_top5=0.4545, test_loss=2.4000, max_test_acc=0.1174, total_time=5.7598, LR=0.00037500\n"
     ]
    },
    {
     "name": "stderr",
     "output_type": "stream",
     "text": [
      "100%|██████████| 17/17 [00:05<00:00,  3.29it/s]\n",
      "100%|██████████| 5/5 [00:00<00:00,  7.85it/s]\n"
     ]
    },
    {
     "name": "stdout",
     "output_type": "stream",
     "text": [
      "epoch=161, train_acc_top1=0.0734, train_acc_top5=0.4095, train_loss=2.4063, test_top1=0.0909, test_top5=0.4394, test_loss=2.3986, max_test_acc=0.1174, total_time=5.8094, LR=0.00037109\n"
     ]
    },
    {
     "name": "stderr",
     "output_type": "stream",
     "text": [
      "100%|██████████| 17/17 [00:05<00:00,  3.31it/s]\n",
      "100%|██████████| 5/5 [00:00<00:00,  8.12it/s]\n"
     ]
    },
    {
     "name": "stdout",
     "output_type": "stream",
     "text": [
      "epoch=162, train_acc_top1=0.0845, train_acc_top5=0.4206, train_loss=2.4040, test_top1=0.0985, test_top5=0.4470, test_loss=2.3984, max_test_acc=0.1174, total_time=5.7605, LR=0.00036719\n"
     ]
    },
    {
     "name": "stderr",
     "output_type": "stream",
     "text": [
      "100%|██████████| 17/17 [00:05<00:00,  3.30it/s]\n",
      "100%|██████████| 5/5 [00:00<00:00,  7.81it/s]\n"
     ]
    },
    {
     "name": "stdout",
     "output_type": "stream",
     "text": [
      "epoch=163, train_acc_top1=0.0771, train_acc_top5=0.4327, train_loss=2.4077, test_top1=0.0909, test_top5=0.4545, test_loss=2.4017, max_test_acc=0.1174, total_time=5.8052, LR=0.00036328\n"
     ]
    },
    {
     "name": "stderr",
     "output_type": "stream",
     "text": [
      "100%|██████████| 17/17 [00:05<00:00,  3.32it/s]\n",
      "100%|██████████| 5/5 [00:00<00:00,  7.95it/s]\n"
     ]
    },
    {
     "name": "stdout",
     "output_type": "stream",
     "text": [
      "epoch=164, train_acc_top1=0.0817, train_acc_top5=0.4253, train_loss=2.4034, test_top1=0.0909, test_top5=0.4545, test_loss=2.3990, max_test_acc=0.1174, total_time=5.7628, LR=0.00035937\n"
     ]
    },
    {
     "name": "stderr",
     "output_type": "stream",
     "text": [
      "100%|██████████| 17/17 [00:05<00:00,  3.25it/s]\n",
      "100%|██████████| 5/5 [00:00<00:00,  7.80it/s]\n"
     ]
    },
    {
     "name": "stdout",
     "output_type": "stream",
     "text": [
      "epoch=165, train_acc_top1=0.0938, train_acc_top5=0.4280, train_loss=2.4015, test_top1=0.0909, test_top5=0.4545, test_loss=2.3996, max_test_acc=0.1174, total_time=5.8724, LR=0.00035547\n"
     ]
    },
    {
     "name": "stderr",
     "output_type": "stream",
     "text": [
      "100%|██████████| 17/17 [00:05<00:00,  3.31it/s]\n",
      "100%|██████████| 5/5 [00:00<00:00,  8.07it/s]\n"
     ]
    },
    {
     "name": "stdout",
     "output_type": "stream",
     "text": [
      "epoch=166, train_acc_top1=0.0678, train_acc_top5=0.4429, train_loss=2.4064, test_top1=0.0909, test_top5=0.4545, test_loss=2.3990, max_test_acc=0.1174, total_time=5.7596, LR=0.00035156\n"
     ]
    },
    {
     "name": "stderr",
     "output_type": "stream",
     "text": [
      "100%|██████████| 17/17 [00:05<00:00,  3.32it/s]\n",
      "100%|██████████| 5/5 [00:00<00:00,  7.96it/s]\n"
     ]
    },
    {
     "name": "stdout",
     "output_type": "stream",
     "text": [
      "epoch=167, train_acc_top1=0.0799, train_acc_top5=0.4438, train_loss=2.4012, test_top1=0.0909, test_top5=0.4432, test_loss=2.3979, max_test_acc=0.1174, total_time=5.7629, LR=0.00034766\n"
     ]
    },
    {
     "name": "stderr",
     "output_type": "stream",
     "text": [
      "100%|██████████| 17/17 [00:05<00:00,  3.31it/s]\n",
      "100%|██████████| 5/5 [00:00<00:00,  8.00it/s]\n"
     ]
    },
    {
     "name": "stdout",
     "output_type": "stream",
     "text": [
      "epoch=168, train_acc_top1=0.0845, train_acc_top5=0.4206, train_loss=2.4008, test_top1=0.0909, test_top5=0.4545, test_loss=2.3992, max_test_acc=0.1174, total_time=5.7738, LR=0.00034375\n"
     ]
    },
    {
     "name": "stderr",
     "output_type": "stream",
     "text": [
      "100%|██████████| 17/17 [00:05<00:00,  3.30it/s]\n",
      "100%|██████████| 5/5 [00:00<00:00,  7.94it/s]\n"
     ]
    },
    {
     "name": "stdout",
     "output_type": "stream",
     "text": [
      "epoch=169, train_acc_top1=0.0854, train_acc_top5=0.4290, train_loss=2.4018, test_top1=0.0909, test_top5=0.4583, test_loss=2.3978, max_test_acc=0.1174, total_time=5.7882, LR=0.00033984\n"
     ]
    },
    {
     "name": "stderr",
     "output_type": "stream",
     "text": [
      "100%|██████████| 17/17 [00:05<00:00,  3.29it/s]\n",
      "100%|██████████| 5/5 [00:00<00:00,  7.95it/s]\n"
     ]
    },
    {
     "name": "stdout",
     "output_type": "stream",
     "text": [
      "epoch=170, train_acc_top1=0.0752, train_acc_top5=0.4383, train_loss=2.4025, test_top1=0.0909, test_top5=0.4545, test_loss=2.3982, max_test_acc=0.1174, total_time=5.8028, LR=0.00033594\n"
     ]
    },
    {
     "name": "stderr",
     "output_type": "stream",
     "text": [
      "100%|██████████| 17/17 [00:05<00:00,  3.31it/s]\n",
      "100%|██████████| 5/5 [00:00<00:00,  8.12it/s]\n"
     ]
    },
    {
     "name": "stdout",
     "output_type": "stream",
     "text": [
      "epoch=171, train_acc_top1=0.0696, train_acc_top5=0.4178, train_loss=2.4010, test_top1=0.0909, test_top5=0.4545, test_loss=2.3979, max_test_acc=0.1174, total_time=5.7667, LR=0.00033203\n"
     ]
    },
    {
     "name": "stderr",
     "output_type": "stream",
     "text": [
      "100%|██████████| 17/17 [00:05<00:00,  3.30it/s]\n",
      "100%|██████████| 5/5 [00:00<00:00,  7.99it/s]\n"
     ]
    },
    {
     "name": "stdout",
     "output_type": "stream",
     "text": [
      "epoch=172, train_acc_top1=0.0966, train_acc_top5=0.4299, train_loss=2.3999, test_top1=0.0909, test_top5=0.4621, test_loss=2.3982, max_test_acc=0.1174, total_time=5.7794, LR=0.00032813\n"
     ]
    },
    {
     "name": "stderr",
     "output_type": "stream",
     "text": [
      " 88%|████████▊ | 15/17 [00:04<00:00,  3.08it/s]\n"
     ]
    },
    {
     "ename": "KeyboardInterrupt",
     "evalue": "",
     "output_type": "error",
     "traceback": [
      "\u001b[0;31m---------------------------------------------------------------------------\u001b[0m",
      "\u001b[0;31mKeyboardInterrupt\u001b[0m                         Traceback (most recent call last)",
      "Cell \u001b[0;32mIn[11], line 4\u001b[0m\n\u001b[1;32m      1\u001b[0m \u001b[38;5;28;01mfor\u001b[39;00m epoch \u001b[38;5;129;01min\u001b[39;00m \u001b[38;5;28mrange\u001b[39m(Begin_epoch, Max_epoch):\n\u001b[1;32m      3\u001b[0m     start_time \u001b[38;5;241m=\u001b[39m time\u001b[38;5;241m.\u001b[39mtime()\n\u001b[0;32m----> 4\u001b[0m     train_loss, train_acc_top1, train_acc_topk, test_loss, test_acc_top1, test_acc_topk, max_test_acc \u001b[38;5;241m=\u001b[39m \u001b[43mtrain_model\u001b[49m\u001b[43m(\u001b[49m\u001b[43mnet\u001b[49m\u001b[43m,\u001b[49m\u001b[43m \u001b[49m\u001b[43mmax_test_acc\u001b[49m\u001b[43m,\u001b[49m\u001b[43m \u001b[49m\u001b[43mepoch\u001b[49m\u001b[43m)\u001b[49m\n\u001b[1;32m      6\u001b[0m     \u001b[38;5;28;01mfor\u001b[39;00m param_group \u001b[38;5;129;01min\u001b[39;00m optimizer\u001b[38;5;241m.\u001b[39mparam_groups:\n\u001b[1;32m      7\u001b[0m         lr \u001b[38;5;241m=\u001b[39m param_group[\u001b[38;5;124m'\u001b[39m\u001b[38;5;124mlr\u001b[39m\u001b[38;5;124m'\u001b[39m]\n",
      "Cell \u001b[0;32mIn[10], line 30\u001b[0m, in \u001b[0;36mtrain_model\u001b[0;34m(net, max_test_acc, epoch, data_loader, optimizer, criterion, record)\u001b[0m\n\u001b[1;32m     28\u001b[0m     \u001b[38;5;28;01mif\u001b[39;00m \u001b[38;5;129;01mnot\u001b[39;00m \u001b[38;5;124m'\u001b[39m\u001b[38;5;124mfc\u001b[39m\u001b[38;5;124m'\u001b[39m \u001b[38;5;129;01min\u001b[39;00m name:\n\u001b[1;32m     29\u001b[0m         parameters_list\u001b[38;5;241m.\u001b[39mappend(p)\n\u001b[0;32m---> 30\u001b[0m \u001b[43madaptive_clip_grad\u001b[49m\u001b[43m(\u001b[49m\u001b[43mparameters_list\u001b[49m\u001b[43m,\u001b[49m\u001b[43m \u001b[49m\u001b[43mclip_factor\u001b[49m\u001b[38;5;241;43m=\u001b[39;49m\u001b[38;5;241;43m0.001\u001b[39;49m\u001b[43m)\u001b[49m\n\u001b[1;32m     32\u001b[0m optimizer\u001b[38;5;241m.\u001b[39mstep()\n\u001b[1;32m     34\u001b[0m \u001b[38;5;28;01mif\u001b[39;00m Test_every_iteration \u001b[38;5;129;01mis\u001b[39;00m \u001b[38;5;129;01mnot\u001b[39;00m \u001b[38;5;28;01mNone\u001b[39;00m:\n",
      "File \u001b[0;32m/raid/lab/plongour/BNN_Xperience/models/utils.py:98\u001b[0m, in \u001b[0;36madaptive_clip_grad\u001b[0;34m(parameters, clip_factor, eps, norm_type)\u001b[0m\n\u001b[1;32m     96\u001b[0m p_data \u001b[38;5;241m=\u001b[39m p\u001b[38;5;241m.\u001b[39mdetach()\n\u001b[1;32m     97\u001b[0m g_data \u001b[38;5;241m=\u001b[39m p\u001b[38;5;241m.\u001b[39mgrad\u001b[38;5;241m.\u001b[39mdetach()\n\u001b[0;32m---> 98\u001b[0m max_norm \u001b[38;5;241m=\u001b[39m \u001b[43munitwise_norm\u001b[49m\u001b[43m(\u001b[49m\u001b[43mp_data\u001b[49m\u001b[43m,\u001b[49m\u001b[43m \u001b[49m\u001b[43mnorm_type\u001b[49m\u001b[38;5;241;43m=\u001b[39;49m\u001b[43mnorm_type\u001b[49m\u001b[43m)\u001b[49m\u001b[38;5;241m.\u001b[39mclamp_(\u001b[38;5;28mmin\u001b[39m\u001b[38;5;241m=\u001b[39meps)\u001b[38;5;241m.\u001b[39mmul_(clip_factor)\n\u001b[1;32m     99\u001b[0m grad_norm \u001b[38;5;241m=\u001b[39m unitwise_norm(g_data, norm_type\u001b[38;5;241m=\u001b[39mnorm_type)\n\u001b[1;32m    100\u001b[0m clipped_grad \u001b[38;5;241m=\u001b[39m g_data \u001b[38;5;241m*\u001b[39m (max_norm \u001b[38;5;241m/\u001b[39m grad_norm\u001b[38;5;241m.\u001b[39mclamp(\u001b[38;5;28mmin\u001b[39m\u001b[38;5;241m=\u001b[39m\u001b[38;5;241m1e-6\u001b[39m))\n",
      "File \u001b[0;32m/raid/lab/plongour/BNN_Xperience/models/utils.py:87\u001b[0m, in \u001b[0;36munitwise_norm\u001b[0;34m(x, norm_type)\u001b[0m\n\u001b[1;32m     83\u001b[0m     \u001b[38;5;28;01mreturn\u001b[39;00m x\u001b[38;5;241m.\u001b[39mnorm(norm_type)\n\u001b[1;32m     84\u001b[0m \u001b[38;5;28;01melse\u001b[39;00m:\n\u001b[1;32m     85\u001b[0m     \u001b[38;5;66;03m# works for nn.ConvNd and nn,Linear where output dim is first in the kernel/weight tensor\u001b[39;00m\n\u001b[1;32m     86\u001b[0m     \u001b[38;5;66;03m# might need special cases for other weights (possibly MHA) where this may not be true\u001b[39;00m\n\u001b[0;32m---> 87\u001b[0m     \u001b[38;5;28;01mreturn\u001b[39;00m \u001b[43mx\u001b[49m\u001b[38;5;241;43m.\u001b[39;49m\u001b[43mnorm\u001b[49m\u001b[43m(\u001b[49m\u001b[43mnorm_type\u001b[49m\u001b[43m,\u001b[49m\u001b[43m \u001b[49m\u001b[43mdim\u001b[49m\u001b[38;5;241;43m=\u001b[39;49m\u001b[38;5;28;43mtuple\u001b[39;49m\u001b[43m(\u001b[49m\u001b[38;5;28;43mrange\u001b[39;49m\u001b[43m(\u001b[49m\u001b[38;5;241;43m1\u001b[39;49m\u001b[43m,\u001b[49m\u001b[43m \u001b[49m\u001b[43mx\u001b[49m\u001b[38;5;241;43m.\u001b[39;49m\u001b[43mndim\u001b[49m\u001b[43m)\u001b[49m\u001b[43m)\u001b[49m\u001b[43m,\u001b[49m\u001b[43m \u001b[49m\u001b[43mkeepdim\u001b[49m\u001b[38;5;241;43m=\u001b[39;49m\u001b[38;5;28;43;01mTrue\u001b[39;49;00m\u001b[43m)\u001b[49m\n",
      "File \u001b[0;32m~/myenv/lib/python3.10/site-packages/torch/_tensor.py:894\u001b[0m, in \u001b[0;36mTensor.norm\u001b[0;34m(self, p, dim, keepdim, dtype)\u001b[0m\n\u001b[1;32m    890\u001b[0m \u001b[38;5;28;01mif\u001b[39;00m has_torch_function_unary(\u001b[38;5;28mself\u001b[39m):\n\u001b[1;32m    891\u001b[0m     \u001b[38;5;28;01mreturn\u001b[39;00m handle_torch_function(\n\u001b[1;32m    892\u001b[0m         Tensor\u001b[38;5;241m.\u001b[39mnorm, (\u001b[38;5;28mself\u001b[39m,), \u001b[38;5;28mself\u001b[39m, p\u001b[38;5;241m=\u001b[39mp, dim\u001b[38;5;241m=\u001b[39mdim, keepdim\u001b[38;5;241m=\u001b[39mkeepdim, dtype\u001b[38;5;241m=\u001b[39mdtype\n\u001b[1;32m    893\u001b[0m     )\n\u001b[0;32m--> 894\u001b[0m \u001b[38;5;28;01mreturn\u001b[39;00m \u001b[43mtorch\u001b[49m\u001b[38;5;241;43m.\u001b[39;49m\u001b[43mnorm\u001b[49m\u001b[43m(\u001b[49m\u001b[38;5;28;43mself\u001b[39;49m\u001b[43m,\u001b[49m\u001b[43m \u001b[49m\u001b[43mp\u001b[49m\u001b[43m,\u001b[49m\u001b[43m \u001b[49m\u001b[43mdim\u001b[49m\u001b[43m,\u001b[49m\u001b[43m \u001b[49m\u001b[43mkeepdim\u001b[49m\u001b[43m,\u001b[49m\u001b[43m \u001b[49m\u001b[43mdtype\u001b[49m\u001b[38;5;241;43m=\u001b[39;49m\u001b[43mdtype\u001b[49m\u001b[43m)\u001b[49m\n",
      "File \u001b[0;32m~/myenv/lib/python3.10/site-packages/torch/functional.py:1849\u001b[0m, in \u001b[0;36mnorm\u001b[0;34m(input, p, dim, keepdim, out, dtype)\u001b[0m\n\u001b[1;32m   1847\u001b[0m _p \u001b[38;5;241m=\u001b[39m \u001b[38;5;241m2.0\u001b[39m \u001b[38;5;28;01mif\u001b[39;00m p \u001b[38;5;129;01mis\u001b[39;00m \u001b[38;5;28;01mNone\u001b[39;00m \u001b[38;5;28;01melse\u001b[39;00m p\n\u001b[1;32m   1848\u001b[0m \u001b[38;5;28;01mif\u001b[39;00m out \u001b[38;5;129;01mis\u001b[39;00m \u001b[38;5;28;01mNone\u001b[39;00m:\n\u001b[0;32m-> 1849\u001b[0m     \u001b[38;5;28;01mreturn\u001b[39;00m \u001b[43mtorch\u001b[49m\u001b[38;5;241;43m.\u001b[39;49m\u001b[43mlinalg\u001b[49m\u001b[38;5;241;43m.\u001b[39;49m\u001b[43mvector_norm\u001b[49m\u001b[43m(\u001b[49m\u001b[38;5;28;43minput\u001b[39;49m\u001b[43m,\u001b[49m\u001b[43m \u001b[49m\u001b[43m_p\u001b[49m\u001b[43m,\u001b[49m\u001b[43m \u001b[49m\u001b[43m_dim\u001b[49m\u001b[43m,\u001b[49m\u001b[43m \u001b[49m\u001b[43mkeepdim\u001b[49m\u001b[43m,\u001b[49m\u001b[43m \u001b[49m\u001b[43mdtype\u001b[49m\u001b[38;5;241;43m=\u001b[39;49m\u001b[43mdtype\u001b[49m\u001b[43m)\u001b[49m\n\u001b[1;32m   1850\u001b[0m \u001b[38;5;28;01melse\u001b[39;00m:\n\u001b[1;32m   1851\u001b[0m     \u001b[38;5;28;01mreturn\u001b[39;00m torch\u001b[38;5;241m.\u001b[39mlinalg\u001b[38;5;241m.\u001b[39mvector_norm(\n\u001b[1;32m   1852\u001b[0m         \u001b[38;5;28minput\u001b[39m, _p, _dim, keepdim, dtype\u001b[38;5;241m=\u001b[39mdtype, out\u001b[38;5;241m=\u001b[39mout\n\u001b[1;32m   1853\u001b[0m     )\n",
      "\u001b[0;31mKeyboardInterrupt\u001b[0m: "
     ]
    }
   ],
   "source": [
    "for epoch in range(Begin_epoch, Max_epoch):\n",
    "\n",
    "    start_time = time.time()\n",
    "    train_loss, train_acc_top1, train_acc_topk, test_loss, test_acc_top1, test_acc_topk, max_test_acc = train_model(net, max_test_acc, epoch)\n",
    "    \n",
    "    for param_group in optimizer.param_groups:\n",
    "        lr = param_group['lr']\n",
    "        \n",
    "    lr_scheduler.step()\n",
    "\n",
    "    print(f'''epoch={epoch}, train_acc_top1={train_acc_top1:.4f}, train_acc_top{Top_k}={train_acc_topk:.4f}, train_loss={train_loss:.4f}, test_top1={test_acc_top1:.4f}, test_top{Top_k}={test_acc_topk:.4f}, test_loss={test_loss:.4f}, max_test_acc={max_test_acc:.4f}, total_time={(time.time() - start_time):.4f}, LR={lr:.8f}''')\n",
    "    \n",
    "    torch.save(net.state_dict(), Savemodel_path + f'epoch{epoch}{Name_suffix}.h5')\n",
    "    if os.path.exists(Savemodel_path + f'epoch{epoch-1}{Name_suffix}.h5'):\n",
    "        os.remove(Savemodel_path + f'epoch{epoch-1}{Name_suffix}.h5')"
   ]
  },
  {
   "cell_type": "code",
   "execution_count": 11,
   "id": "1014b20b",
   "metadata": {},
   "outputs": [
    {
     "name": "stdout",
     "output_type": "stream",
     "text": [
      "Fichier chargé: ./recorddata_DVS/Test_0_255_step2_nbEvents_presEvents.mat\n"
     ]
    },
    {
     "data": {
      "image/png": "[encoded data removed]",
      "text/plain": [
       "<Figure size 1500x1000 with 2 Axes>"
      ]
     },
     "metadata": {},
     "output_type": "display_data"
    },
    {
     "name": "stdout",
     "output_type": "stream",
     "text": [
      "Meilleure précision: 0.8258 à l'époque 168.0\n"
     ]
    }
   ],
   "source": [
    "import numpy as np\n",
    "import matplotlib.pyplot as plt\n",
    "from scipy.io import loadmat\n",
    "import os\n",
    "import glob\n",
    "\n",
    "def plot_learning_curves(record_path, name_suffix, top_k=5):\n",
    "    \"\"\"\n",
    "    Visualise les courbes d'apprentissage à partir des fichiers .mat générés\n",
    "    \"\"\"\n",
    "    # Recherche du fichier le plus récent\n",
    "    pattern = os.path.join(record_path, f'Test_*{name_suffix}.mat')\n",
    "    files = glob.glob(pattern)\n",
    "    \n",
    "    if not files:\n",
    "        print(f\"Aucun fichier trouvé avec le pattern: {pattern}\")\n",
    "        return\n",
    "    \n",
    "    # Charger le fichier le plus récent\n",
    "    latest_file = max(files, key=os.path.getctime)\n",
    "    print(f\"Fichier chargé: {latest_file}\")\n",
    "    \n",
    "    data = loadmat(latest_file)\n",
    "    record_data = data['Record_data']\n",
    "    \n",
    "    # Extraire les données\n",
    "    epochs = record_data[:, 0]\n",
    "    test_top1 = record_data[:, 2]\n",
    "    test_topk = record_data[:, 3]\n",
    "    test_loss = record_data[:, 4]\n",
    "    \n",
    "    # Créer les graphiques\n",
    "    plt.figure(figsize=(15, 10))\n",
    "    \n",
    "    # Précision Top-1 et Top-k\n",
    "    plt.subplot(2, 1, 1)\n",
    "    plt.plot(epochs, test_top1, 'b-', label=f'Test Accuracy (Top-1)')\n",
    "    plt.plot(epochs, test_topk, 'r-', label=f'Test Accuracy (Top-{top_k})')\n",
    "    plt.title('Précision du modèle au cours des époques')\n",
    "    plt.xlabel('Époque')\n",
    "    plt.ylabel('Précision')\n",
    "    plt.grid(True)\n",
    "    plt.legend()\n",
    "    \n",
    "    # Perte de test\n",
    "    plt.subplot(2, 1, 2)\n",
    "    plt.plot(epochs, test_loss, 'g-', label='Test Loss')\n",
    "    plt.title('Perte de test au cours des époques')\n",
    "    plt.xlabel('Époque')\n",
    "    plt.ylabel('Perte')\n",
    "    plt.grid(True)\n",
    "    plt.legend()\n",
    "    \n",
    "    plt.tight_layout()\n",
    "    plt.savefig(os.path.join(record_path, f'learning_curves{name_suffix}.png'))\n",
    "    plt.show()\n",
    "    \n",
    "    return max(test_top1), epochs[np.argmax(test_top1)]\n",
    "\n",
    "def plot_train_test_comparison(history, top_k=5, save_path=None):\n",
    "    \"\"\"\n",
    "    Compare les métriques d'entraînement et de test\n",
    "    \"\"\"\n",
    "    epochs = history['epochs']\n",
    "    \n",
    "    plt.figure(figsize=(15, 15))\n",
    "    \n",
    "    # Précision Top-1\n",
    "    plt.subplot(3, 1, 1)\n",
    "    plt.plot(epochs, history['train_acc_top1'], 'b-', label='Train Accuracy (Top-1)')\n",
    "    plt.plot(epochs, history['test_acc_top1'], 'r-', label='Test Accuracy (Top-1)')\n",
    "    plt.title('Précision Top-1 (Train vs Test)')\n",
    "    plt.xlabel('Époque')\n",
    "    plt.ylabel('Précision')\n",
    "    plt.grid(True)\n",
    "    plt.legend()\n",
    "    \n",
    "    # Précision Top-k\n",
    "    plt.subplot(3, 1, 2)\n",
    "    plt.plot(epochs, history['train_acc_topk'], 'b-', label=f'Train Accuracy (Top-{top_k})')\n",
    "    plt.plot(epochs, history['test_acc_topk'], 'r-', label=f'Test Accuracy (Top-{top_k})')\n",
    "    plt.title(f'Précision Top-{top_k} (Train vs Test)')\n",
    "    plt.xlabel('Époque')\n",
    "    plt.ylabel('Précision')\n",
    "    plt.grid(True)\n",
    "    plt.legend()\n",
    "    \n",
    "    # Perte\n",
    "    plt.subplot(3, 1, 3)\n",
    "    plt.plot(epochs, history['train_losses'], 'b-', label='Train Loss')\n",
    "    plt.plot(epochs, history['test_losses'], 'r-', label='Test Loss')\n",
    "    plt.title('Perte (Train vs Test)')\n",
    "    plt.xlabel('Époque')\n",
    "    plt.ylabel('Perte')\n",
    "    plt.grid(True)\n",
    "    plt.legend()\n",
    "    \n",
    "    plt.tight_layout()\n",
    "    \n",
    "    if save_path:\n",
    "        plt.savefig(save_path)\n",
    "    \n",
    "    plt.show()\n",
    "\n",
    "def plot_learning_rate(history, save_path=None):\n",
    "    \"\"\"\n",
    "    Visualise l'évolution du taux d'apprentissage\n",
    "    \"\"\"\n",
    "    plt.figure(figsize=(10, 6))\n",
    "    plt.plot(history['epochs'], history['learning_rates'], 'b-')\n",
    "    plt.title(\"Évolution du taux d'apprentissag\")\n",
    "    plt.xlabel('Époque')\n",
    "    plt.ylabel(\"Taux d'apprentissage\")\n",
    "    plt.grid(True)\n",
    "    \n",
    "    if save_path:\n",
    "        plt.savefig(save_path)\n",
    "    \n",
    "    plt.show()\n",
    "\n",
    "BEGIN_EPOCH = 0\n",
    "MAX_EPOCH = 50\n",
    "TOP_K = 5\n",
    "max_acc, best_epoch = plot_learning_curves(Record_path, Name_suffix, TOP_K)\n",
    "print(f\"Meilleure précision: {max_acc:.4f} à l'époque {best_epoch}\")"
   ]
  },
  {
   "cell_type": "code",
   "execution_count": null,
   "id": "00eca72f",
   "metadata": {},
   "outputs": [],
   "source": []
  }
 ],
 "metadata": {
  "kernelspec": {
   "display_name": "myenv",
   "language": "python",
   "name": "python3"
  },
  "language_info": {
   "codemirror_mode": {
    "name": "ipython",
    "version": 3
   },
   "file_extension": ".py",
   "mimetype": "text/x-python",
   "name": "python",
   "nbconvert_exporter": "python",
   "pygments_lexer": "ipython3",
   "version": "3.10.12"
  }
 },
 "nbformat": 4,
 "nbformat_minor": 5
}
