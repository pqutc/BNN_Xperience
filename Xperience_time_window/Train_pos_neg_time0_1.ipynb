{
 "cells": [
  {
   "cell_type": "code",
   "execution_count": 1,
   "id": "1d1ec5cb",
   "metadata": {},
   "outputs": [
    {
     "name": "stderr",
     "output_type": "stream",
     "text": [
      "/home/pqul/Bureau/BNN_Xperience/.venv/lib/python3.12/site-packages/tqdm/auto.py:21: TqdmWarning: IProgress not found. Please update jupyter and ipywidgets. See https://ipywidgets.readthedocs.io/en/stable/user_install.html\n",
      "  from .autonotebook import tqdm as notebook_tqdm\n"
     ]
    }
   ],
   "source": [
    "import os\n",
    "import torch\n",
    "import time\n",
    "import numpy as np\n",
    "import torch.nn as nn\n",
    "from tqdm import tqdm\n",
    "from torch.cuda import amp\n",
    "from scipy.io import savemat\n",
    "import torch.nn.functional as F\n",
    "import tonic\n",
    "import tonic.transforms as transforms\n",
    "from torch.utils.data import Dataset, DataLoader\n",
    "import numpy as np\n",
    "import matplotlib.pyplot as plt\n",
    "import pickle\n",
    "\n",
    "# Now import from models\n",
    "import sys\n",
    "sys.path.append(os.path.abspath(os.path.join(os.getcwd(), '..')))\n",
    "from models.ReActNet_A_Qaw import *\n",
    "from models.utils import *\n",
    "\n",
    "os.environ[\"CUDA_VISIBLE_DEVICES\"] = '0'"
   ]
  },
  {
   "cell_type": "code",
   "execution_count": 9,
   "id": "c4af34fe",
   "metadata": {},
   "outputs": [],
   "source": [
    "Begin_epoch = 0\n",
    "Max_epoch = 256\n",
    "Learning_rate = 1e-3\n",
    "Weight_decay = 5e-6\n",
    "Momentum = 0.9\n",
    "Top_k = 5\n",
    "SENSOR_SIZE = (128, 128, 2)\n",
    "batch_size = 12\n",
    "\n",
    "Dataset_path = '../data'\n",
    "Workers = 8\n",
    "Targetnum = 11\n",
    "\n",
    "Test_every_iteration = None\n",
    "Name_suffix = '_step2_pos_neg_time0_1'\n",
    "Savemodel_path = './savemodels_DVS/'\n",
    "Record_path = './recorddata_DVS/'\n",
    "if not os.path.exists(Savemodel_path):\n",
    "    os.mkdir(Savemodel_path)\n",
    "if not os.path.exists(Record_path):\n",
    "    os.mkdir(Record_path)\n",
    "\n",
    "\n",
    "def collate_fn(batch):\n",
    "    \"\"\"Fonction personnalisée pour collate les événements de longueur variable\"\"\"\n",
    "    events, targets = list(zip(*batch))\n",
    "    return events, torch.tensor(targets)\n",
    "\n",
    "_seed_ = 2023\n",
    "torch.manual_seed(_seed_)\n",
    "np.random.seed(_seed_)\n",
    "torch.backends.cudnn.benchmark = False\n",
    "torch.backends.cudnn.deterministic = True"
   ]
  },
  {
   "cell_type": "code",
   "execution_count": null,
   "id": "40576cee",
   "metadata": {},
   "outputs": [
    {
     "name": "stdout",
     "output_type": "stream",
     "text": [
      "Processing training sample 0/1077\n"
     ]
    },
    {
     "ename": "ValueError",
     "evalue": "all input arrays must have the same shape",
     "output_type": "error",
     "traceback": [
      "\u001b[31m---------------------------------------------------------------------------\u001b[39m",
      "\u001b[31mValueError\u001b[39m                                Traceback (most recent call last)",
      "\u001b[36mCell\u001b[39m\u001b[36m \u001b[39m\u001b[32mIn[13]\u001b[39m\u001b[32m, line 38\u001b[39m\n\u001b[32m     36\u001b[39m \u001b[38;5;28;01mif\u001b[39;00m i % \u001b[32m100\u001b[39m == \u001b[32m0\u001b[39m:\n\u001b[32m     37\u001b[39m     \u001b[38;5;28mprint\u001b[39m(\u001b[33mf\u001b[39m\u001b[33m\"\u001b[39m\u001b[33mProcessing training sample \u001b[39m\u001b[38;5;132;01m{\u001b[39;00mi\u001b[38;5;132;01m}\u001b[39;00m\u001b[33m/\u001b[39m\u001b[38;5;132;01m{\u001b[39;00m\u001b[38;5;28mlen\u001b[39m(dataset_train)\u001b[38;5;132;01m}\u001b[39;00m\u001b[33m\"\u001b[39m)\n\u001b[32m---> \u001b[39m\u001b[32m38\u001b[39m img = \u001b[43mconvert_to_event_representation\u001b[49m\u001b[43m(\u001b[49m\u001b[43mframes\u001b[49m\u001b[43m)\u001b[49m\n\u001b[32m     39\u001b[39m train_images.append(torch.FloatTensor(img))\n\u001b[32m     40\u001b[39m train_labels.append(label)\n",
      "\u001b[36mCell\u001b[39m\u001b[36m \u001b[39m\u001b[32mIn[13]\u001b[39m\u001b[32m, line 27\u001b[39m, in \u001b[36mconvert_to_event_representation\u001b[39m\u001b[34m(frame_sequence)\u001b[39m\n\u001b[32m     24\u001b[39m negative_events_count = np.sum(frame_sequence[:, \u001b[32m1\u001b[39m, :, :], axis=\u001b[32m0\u001b[39m)\n\u001b[32m     26\u001b[39m \u001b[38;5;66;03m# Combine into three-channel representation\u001b[39;00m\n\u001b[32m---> \u001b[39m\u001b[32m27\u001b[39m result = \u001b[43mnp\u001b[49m\u001b[43m.\u001b[49m\u001b[43mstack\u001b[49m\u001b[43m(\u001b[49m\u001b[43m[\u001b[49m\u001b[43mtimestamp_aggregation\u001b[49m\u001b[43m,\u001b[49m\u001b[43m \u001b[49m\u001b[43mpositive_events_count\u001b[49m\u001b[43m,\u001b[49m\u001b[43m \u001b[49m\u001b[43mnegative_events_count\u001b[49m\u001b[43m]\u001b[49m\u001b[43m,\u001b[49m\u001b[43m \u001b[49m\u001b[43maxis\u001b[49m\u001b[43m=\u001b[49m\u001b[32;43m0\u001b[39;49m\u001b[43m)\u001b[49m\n\u001b[32m     29\u001b[39m \u001b[38;5;28;01mreturn\u001b[39;00m result\n",
      "\u001b[36mFile \u001b[39m\u001b[32m~/Bureau/BNN_Xperience/.venv/lib/python3.12/site-packages/numpy/core/shape_base.py:449\u001b[39m, in \u001b[36mstack\u001b[39m\u001b[34m(arrays, axis, out, dtype, casting)\u001b[39m\n\u001b[32m    447\u001b[39m shapes = {arr.shape \u001b[38;5;28;01mfor\u001b[39;00m arr \u001b[38;5;129;01min\u001b[39;00m arrays}\n\u001b[32m    448\u001b[39m \u001b[38;5;28;01mif\u001b[39;00m \u001b[38;5;28mlen\u001b[39m(shapes) != \u001b[32m1\u001b[39m:\n\u001b[32m--> \u001b[39m\u001b[32m449\u001b[39m     \u001b[38;5;28;01mraise\u001b[39;00m \u001b[38;5;167;01mValueError\u001b[39;00m(\u001b[33m'\u001b[39m\u001b[33mall input arrays must have the same shape\u001b[39m\u001b[33m'\u001b[39m)\n\u001b[32m    451\u001b[39m result_ndim = arrays[\u001b[32m0\u001b[39m].ndim + \u001b[32m1\u001b[39m\n\u001b[32m    452\u001b[39m axis = normalize_axis_index(axis, result_ndim)\n",
      "\u001b[31mValueError\u001b[39m: all input arrays must have the same shape"
     ]
    }
   ],
   "source": [
    "\n",
    "transform = transforms.Compose([\n",
    "        transforms.Denoise(filter_time=10000),\n",
    "        transforms.ToFrame(sensor_size=SENSOR_SIZE, time_window=25000)\n",
    "])\n",
    "    \n",
    "# Load dataset\n",
    "dataset_train = tonic.datasets.DVSGesture(save_to=Dataset_path, train=True, transform=transform)\n",
    "dataset_test = tonic.datasets.DVSGesture(save_to=Dataset_path, train=False, transform=transform)\n",
    "    \n",
    "def convert_to_event_representation(frame_sequence):\n",
    "    time_steps, channels, height, width = frame_sequence.shape\n",
    "    \n",
    "    # Normalization factor for timestamp aggregation\n",
    "    carte_normalization = np.maximum(np.sum(frame_sequence[:, 0, :, :] + frame_sequence[:, 1, :, :], axis=0), 1)\n",
    "    \n",
    "    # First channel: timestamp aggregation within time slice\n",
    "    timestamp_aggregation = np.sum(np.arange(time_steps)[:, None, None, None] * \n",
    "                                 (frame_sequence[:, 0, :, :] + frame_sequence[:, 1, :, :]), axis=0) / carte_normalization\n",
    "    \n",
    "    # Second channel: count of positive events (unnormalized)\n",
    "    positive_events_count = np.sum(frame_sequence[:, 0, :, :], axis=0)\n",
    "    \n",
    "    # Third channel: count of negative events (unnormalized)\n",
    "    negative_events_count = np.sum(frame_sequence[:, 1, :, :], axis=0)\n",
    "    \n",
    "    # Combine into three-channel representation\n",
    "    result = np.stack([timestamp_aggregation, positive_events_count, negative_events_count], axis=0)\n",
    "    \n",
    "    return result\n",
    "\n",
    "\n",
    "# Process training data\n",
    "train_images = []\n",
    "train_labels = []\n",
    "for i, (frames, label) in enumerate(dataset_train):\n",
    "    if i % 100 == 0:\n",
    "        print(f\"Processing training sample {i}/{len(dataset_train)}\")\n",
    "    img = convert_to_event_representation(frames)\n",
    "    train_images.append(torch.FloatTensor(img))\n",
    "    train_labels.append(label)\n",
    "    \n",
    "# Process test data\n",
    "test_images = []\n",
    "test_labels = []\n",
    "for i, (frames, label) in enumerate(dataset_test):\n",
    "    if i % 100 == 0:\n",
    "        print(f\"Processing test sample {i}/{len(dataset_test)}\")\n",
    "    img = convert_to_event_representation(frames)\n",
    "    test_images.append(torch.FloatTensor(img))\n",
    "    test_labels.append(label)\n",
    "\n",
    "\n",
    "# Create dataloaders\n",
    "train_data_loader = torch.utils.data.DataLoader(\n",
    "    list(zip(train_images, train_labels)),\n",
    "    batch_size=batch_size,\n",
    "    shuffle=True,\n",
    "    num_workers=Workers,\n",
    "    pin_memory=True\n",
    ")\n",
    "\n",
    "test_data_loader = torch.utils.data.DataLoader(\n",
    "    list(zip(test_images, test_labels)),\n",
    "    batch_size=batch_size,\n",
    "    shuffle=False,\n",
    "    num_workers=Workers,\n",
    "    pin_memory=True\n",
    ")\n"
   ]
  },
  {
   "cell_type": "code",
   "execution_count": 19,
   "id": "97794452",
   "metadata": {},
   "outputs": [
    {
     "data": {
      "text/plain": [
       "(87, 2, 128, 128)"
      ]
     },
     "execution_count": 19,
     "metadata": {},
     "output_type": "execute_result"
    }
   ],
   "source": [
    "dataset_train[2][0].shape"
   ]
  },
  {
   "cell_type": "code",
   "execution_count": 12,
   "id": "39e343a7",
   "metadata": {},
   "outputs": [
    {
     "ename": "ValueError",
     "evalue": "axes don't match array",
     "output_type": "error",
     "traceback": [
      "\u001b[31m---------------------------------------------------------------------------\u001b[39m",
      "\u001b[31mValueError\u001b[39m                                Traceback (most recent call last)",
      "\u001b[36mCell\u001b[39m\u001b[36m \u001b[39m\u001b[32mIn[12]\u001b[39m\u001b[32m, line 25\u001b[39m\n\u001b[32m     23\u001b[39m     plt.tight_layout()\n\u001b[32m     24\u001b[39m     plt.show()\n\u001b[32m---> \u001b[39m\u001b[32m25\u001b[39m \u001b[43mvisualize_cnn_samples\u001b[49m\u001b[43m(\u001b[49m\u001b[43mtrain_data_loader\u001b[49m\u001b[43m,\u001b[49m\u001b[43m \u001b[49m\u001b[43mmethod\u001b[49m\u001b[43m=\u001b[49m\u001b[33;43m'\u001b[39;49m\u001b[33;43mcombined\u001b[39;49m\u001b[33;43m'\u001b[39;49m\u001b[43m,\u001b[49m\u001b[43m \u001b[49m\u001b[43mnum_samples\u001b[49m\u001b[43m=\u001b[49m\u001b[32;43m5\u001b[39;49m\u001b[43m)\u001b[49m\n",
      "\u001b[36mCell\u001b[39m\u001b[36m \u001b[39m\u001b[32mIn[12]\u001b[39m\u001b[32m, line 13\u001b[39m, in \u001b[36mvisualize_cnn_samples\u001b[39m\u001b[34m(dataloader, method, num_samples)\u001b[39m\n\u001b[32m      9\u001b[39m image = images[i] \u001b[38;5;66;03m# (C, H, W)\u001b[39;00m\n\u001b[32m     11\u001b[39m \u001b[38;5;28;01mif\u001b[39;00m method == \u001b[33m'\u001b[39m\u001b[33mcombined\u001b[39m\u001b[33m'\u001b[39m:\n\u001b[32m     12\u001b[39m     \u001b[38;5;66;03m# Image RGB\u001b[39;00m\n\u001b[32m---> \u001b[39m\u001b[32m13\u001b[39m     img = \u001b[43mnp\u001b[49m\u001b[43m.\u001b[49m\u001b[43mtranspose\u001b[49m\u001b[43m(\u001b[49m\u001b[43mimage\u001b[49m\u001b[43m,\u001b[49m\u001b[43m \u001b[49m\u001b[43m(\u001b[49m\u001b[32;43m1\u001b[39;49m\u001b[43m,\u001b[49m\u001b[43m \u001b[49m\u001b[32;43m2\u001b[39;49m\u001b[43m,\u001b[49m\u001b[43m \u001b[49m\u001b[32;43m0\u001b[39;49m\u001b[43m)\u001b[49m\u001b[43m)\u001b[49m\n\u001b[32m     14\u001b[39m     axes[i].imshow(img)\u001b[38;5;66;03m#np.clip(img, 0, 1))\u001b[39;00m\n\u001b[32m     15\u001b[39m \u001b[38;5;28;01melse\u001b[39;00m:\n\u001b[32m     16\u001b[39m     \u001b[38;5;66;03m# Image en niveaux de gris\u001b[39;00m\n",
      "\u001b[36mFile \u001b[39m\u001b[32m~/Bureau/BNN_Xperience/.venv/lib/python3.12/site-packages/numpy/core/fromnumeric.py:655\u001b[39m, in \u001b[36mtranspose\u001b[39m\u001b[34m(a, axes)\u001b[39m\n\u001b[32m    588\u001b[39m \u001b[38;5;129m@array_function_dispatch\u001b[39m(_transpose_dispatcher)\n\u001b[32m    589\u001b[39m \u001b[38;5;28;01mdef\u001b[39;00m\u001b[38;5;250m \u001b[39m\u001b[34mtranspose\u001b[39m(a, axes=\u001b[38;5;28;01mNone\u001b[39;00m):\n\u001b[32m    590\u001b[39m \u001b[38;5;250m    \u001b[39m\u001b[33;03m\"\"\"\u001b[39;00m\n\u001b[32m    591\u001b[39m \u001b[33;03m    Returns an array with axes transposed.\u001b[39;00m\n\u001b[32m    592\u001b[39m \n\u001b[32m   (...)\u001b[39m\u001b[32m    653\u001b[39m \n\u001b[32m    654\u001b[39m \u001b[33;03m    \"\"\"\u001b[39;00m\n\u001b[32m--> \u001b[39m\u001b[32m655\u001b[39m     \u001b[38;5;28;01mreturn\u001b[39;00m \u001b[43m_wrapfunc\u001b[49m\u001b[43m(\u001b[49m\u001b[43ma\u001b[49m\u001b[43m,\u001b[49m\u001b[43m \u001b[49m\u001b[33;43m'\u001b[39;49m\u001b[33;43mtranspose\u001b[39;49m\u001b[33;43m'\u001b[39;49m\u001b[43m,\u001b[49m\u001b[43m \u001b[49m\u001b[43maxes\u001b[49m\u001b[43m)\u001b[49m\n",
      "\u001b[36mFile \u001b[39m\u001b[32m~/Bureau/BNN_Xperience/.venv/lib/python3.12/site-packages/numpy/core/fromnumeric.py:59\u001b[39m, in \u001b[36m_wrapfunc\u001b[39m\u001b[34m(obj, method, *args, **kwds)\u001b[39m\n\u001b[32m     56\u001b[39m     \u001b[38;5;28;01mreturn\u001b[39;00m _wrapit(obj, method, *args, **kwds)\n\u001b[32m     58\u001b[39m \u001b[38;5;28;01mtry\u001b[39;00m:\n\u001b[32m---> \u001b[39m\u001b[32m59\u001b[39m     \u001b[38;5;28;01mreturn\u001b[39;00m \u001b[43mbound\u001b[49m\u001b[43m(\u001b[49m\u001b[43m*\u001b[49m\u001b[43margs\u001b[49m\u001b[43m,\u001b[49m\u001b[43m \u001b[49m\u001b[43m*\u001b[49m\u001b[43m*\u001b[49m\u001b[43mkwds\u001b[49m\u001b[43m)\u001b[49m\n\u001b[32m     60\u001b[39m \u001b[38;5;28;01mexcept\u001b[39;00m \u001b[38;5;167;01mTypeError\u001b[39;00m:\n\u001b[32m     61\u001b[39m     \u001b[38;5;66;03m# A TypeError occurs if the object does have such a method in its\u001b[39;00m\n\u001b[32m     62\u001b[39m     \u001b[38;5;66;03m# class, but its signature is not identical to that of NumPy's. This\u001b[39;00m\n\u001b[32m   (...)\u001b[39m\u001b[32m     66\u001b[39m     \u001b[38;5;66;03m# Call _wrapit from within the except clause to ensure a potential\u001b[39;00m\n\u001b[32m     67\u001b[39m     \u001b[38;5;66;03m# exception has a traceback chain.\u001b[39;00m\n\u001b[32m     68\u001b[39m     \u001b[38;5;28;01mreturn\u001b[39;00m _wrapit(obj, method, *args, **kwds)\n",
      "\u001b[31mValueError\u001b[39m: axes don't match array"
     ]
    },
    {
     "data": {
      "image/png": "[encoded data removed]",
      "text/plain": [
       "<Figure size 1500x300 with 5 Axes>"
      ]
     },
     "metadata": {},
     "output_type": "display_data"
    }
   ],
   "source": [
    "def visualize_cnn_samples(dataloader, method, num_samples=5):\n",
    "    \"\"\"Visualise quelques échantillons du dataloader pour CNN\"\"\"\n",
    "    images, labels = next(iter(dataloader))\n",
    "    \n",
    "    num_samples = min(num_samples, len(images))\n",
    "    fig, axes = plt.subplots(1, num_samples, figsize=(15, 3))\n",
    "    \n",
    "    for i in range(num_samples):\n",
    "        image = images[i] # (C, H, W)\n",
    "        \n",
    "        if method == 'combined':\n",
    "            # Image RGB\n",
    "            img = np.transpose(image, (1, 2, 0))\n",
    "            axes[i].imshow(img)#np.clip(img, 0, 1))\n",
    "        else:\n",
    "            # Image en niveaux de gris\n",
    "            axes[i].imshow(image[0], cmap='coolwarm', vmin=-1, vmax=1)\n",
    "        \n",
    "        axes[i].set_title(f\"Classe: {labels[i].item()}\")\n",
    "        axes[i].axis('off')\n",
    "    \n",
    "    plt.suptitle(f\"Échantillons DVSGesture convertis pour CNN (méthode: {method})\")\n",
    "    plt.tight_layout()\n",
    "    plt.show()\n",
    "visualize_cnn_samples(train_data_loader, method='combined', num_samples=5)"
   ]
  },
  {
   "cell_type": "code",
   "execution_count": 9,
   "id": "173d26b8",
   "metadata": {},
   "outputs": [],
   "source": [
    "net = Reactnet(num_classes=Targetnum, imagenet=False)"
   ]
  },
  {
   "cell_type": "code",
   "execution_count": 11,
   "id": "8672d3dd",
   "metadata": {},
   "outputs": [
    {
     "ename": "RuntimeError",
     "evalue": "Attempting to deserialize object on a CUDA device but torch.cuda.is_available() is False. If you are running on a CPU-only machine, please use torch.load with map_location=torch.device('cpu') to map your storages to the CPU.",
     "output_type": "error",
     "traceback": [
      "\u001b[31m---------------------------------------------------------------------------\u001b[39m",
      "\u001b[31mRuntimeError\u001b[39m                              Traceback (most recent call last)",
      "\u001b[36mCell\u001b[39m\u001b[36m \u001b[39m\u001b[32mIn[11]\u001b[39m\u001b[32m, line 3\u001b[39m\n\u001b[32m      1\u001b[39m \u001b[38;5;66;03m#net = net.cuda()\u001b[39;00m\n\u001b[32m      2\u001b[39m max_test_acc = \u001b[32m0.\u001b[39m\n\u001b[32m----> \u001b[39m\u001b[32m3\u001b[39m net.load_state_dict(\u001b[43mtorch\u001b[49m\u001b[43m.\u001b[49m\u001b[43mload\u001b[49m\u001b[43m(\u001b[49m\u001b[43mSavemodel_path\u001b[49m\u001b[43m \u001b[49m\u001b[43m+\u001b[49m\u001b[43m \u001b[49m\u001b[33;43mf\u001b[39;49m\u001b[33;43m'\u001b[39;49m\u001b[33;43mepoch\u001b[39;49m\u001b[38;5;132;43;01m{\u001b[39;49;00m\u001b[32;43m255\u001b[39;49m\u001b[38;5;132;43;01m}\u001b[39;49;00m\u001b[38;5;132;43;01m{\u001b[39;49;00m\u001b[43mName_suffix\u001b[49m\u001b[38;5;132;43;01m}\u001b[39;49;00m\u001b[33;43m.h5\u001b[39;49m\u001b[33;43m'\u001b[39;49m\u001b[43m)\u001b[49m)\n\u001b[32m      4\u001b[39m max_test_acc = np.load(Savemodel_path + \u001b[33mf\u001b[39m\u001b[33m'\u001b[39m\u001b[33mmax_acc\u001b[39m\u001b[38;5;132;01m{\u001b[39;00mName_suffix\u001b[38;5;132;01m}\u001b[39;00m\u001b[33m.npy\u001b[39m\u001b[33m'\u001b[39m)\n\u001b[32m      5\u001b[39m max_test_acc = max_test_acc.item()\n",
      "\u001b[36mFile \u001b[39m\u001b[32m~/Bureau/AB-BNN/.venv/lib/python3.12/site-packages/torch/serialization.py:1462\u001b[39m, in \u001b[36mload\u001b[39m\u001b[34m(f, map_location, pickle_module, weights_only, mmap, **pickle_load_args)\u001b[39m\n\u001b[32m   1460\u001b[39m \u001b[38;5;28;01mif\u001b[39;00m weights_only:\n\u001b[32m   1461\u001b[39m     \u001b[38;5;28;01mtry\u001b[39;00m:\n\u001b[32m-> \u001b[39m\u001b[32m1462\u001b[39m         \u001b[38;5;28;01mreturn\u001b[39;00m \u001b[43m_load\u001b[49m\u001b[43m(\u001b[49m\n\u001b[32m   1463\u001b[39m \u001b[43m            \u001b[49m\u001b[43mopened_zipfile\u001b[49m\u001b[43m,\u001b[49m\n\u001b[32m   1464\u001b[39m \u001b[43m            \u001b[49m\u001b[43mmap_location\u001b[49m\u001b[43m,\u001b[49m\n\u001b[32m   1465\u001b[39m \u001b[43m            \u001b[49m\u001b[43m_weights_only_unpickler\u001b[49m\u001b[43m,\u001b[49m\n\u001b[32m   1466\u001b[39m \u001b[43m            \u001b[49m\u001b[43moverall_storage\u001b[49m\u001b[43m=\u001b[49m\u001b[43moverall_storage\u001b[49m\u001b[43m,\u001b[49m\n\u001b[32m   1467\u001b[39m \u001b[43m            \u001b[49m\u001b[43m*\u001b[49m\u001b[43m*\u001b[49m\u001b[43mpickle_load_args\u001b[49m\u001b[43m,\u001b[49m\n\u001b[32m   1468\u001b[39m \u001b[43m        \u001b[49m\u001b[43m)\u001b[49m\n\u001b[32m   1469\u001b[39m     \u001b[38;5;28;01mexcept\u001b[39;00m pickle.UnpicklingError \u001b[38;5;28;01mas\u001b[39;00m e:\n\u001b[32m   1470\u001b[39m         \u001b[38;5;28;01mraise\u001b[39;00m pickle.UnpicklingError(_get_wo_message(\u001b[38;5;28mstr\u001b[39m(e))) \u001b[38;5;28;01mfrom\u001b[39;00m\u001b[38;5;250m \u001b[39m\u001b[38;5;28;01mNone\u001b[39;00m\n",
      "\u001b[36mFile \u001b[39m\u001b[32m~/Bureau/AB-BNN/.venv/lib/python3.12/site-packages/torch/serialization.py:1964\u001b[39m, in \u001b[36m_load\u001b[39m\u001b[34m(zip_file, map_location, pickle_module, pickle_file, overall_storage, **pickle_load_args)\u001b[39m\n\u001b[32m   1962\u001b[39m \u001b[38;5;28;01mglobal\u001b[39;00m _serialization_tls\n\u001b[32m   1963\u001b[39m _serialization_tls.map_location = map_location\n\u001b[32m-> \u001b[39m\u001b[32m1964\u001b[39m result = \u001b[43munpickler\u001b[49m\u001b[43m.\u001b[49m\u001b[43mload\u001b[49m\u001b[43m(\u001b[49m\u001b[43m)\u001b[49m\n\u001b[32m   1965\u001b[39m _serialization_tls.map_location = \u001b[38;5;28;01mNone\u001b[39;00m\n\u001b[32m   1967\u001b[39m torch._utils._validate_loaded_sparse_tensors()\n",
      "\u001b[36mFile \u001b[39m\u001b[32m~/Bureau/AB-BNN/.venv/lib/python3.12/site-packages/torch/_weights_only_unpickler.py:512\u001b[39m, in \u001b[36mUnpickler.load\u001b[39m\u001b[34m(self)\u001b[39m\n\u001b[32m    504\u001b[39m     \u001b[38;5;28;01mif\u001b[39;00m (\n\u001b[32m    505\u001b[39m         \u001b[38;5;28mtype\u001b[39m(pid) \u001b[38;5;129;01mis\u001b[39;00m \u001b[38;5;28mtuple\u001b[39m\n\u001b[32m    506\u001b[39m         \u001b[38;5;129;01mand\u001b[39;00m \u001b[38;5;28mlen\u001b[39m(pid) > \u001b[32m0\u001b[39m\n\u001b[32m    507\u001b[39m         \u001b[38;5;129;01mand\u001b[39;00m torch.serialization._maybe_decode_ascii(pid[\u001b[32m0\u001b[39m]) != \u001b[33m\"\u001b[39m\u001b[33mstorage\u001b[39m\u001b[33m\"\u001b[39m\n\u001b[32m    508\u001b[39m     ):\n\u001b[32m    509\u001b[39m         \u001b[38;5;28;01mraise\u001b[39;00m UnpicklingError(\n\u001b[32m    510\u001b[39m             \u001b[33mf\u001b[39m\u001b[33m\"\u001b[39m\u001b[33mOnly persistent_load of storage is allowed, but got \u001b[39m\u001b[38;5;132;01m{\u001b[39;00mpid[\u001b[32m0\u001b[39m]\u001b[38;5;132;01m}\u001b[39;00m\u001b[33m\"\u001b[39m\n\u001b[32m    511\u001b[39m         )\n\u001b[32m--> \u001b[39m\u001b[32m512\u001b[39m     \u001b[38;5;28mself\u001b[39m.append(\u001b[38;5;28;43mself\u001b[39;49m\u001b[43m.\u001b[49m\u001b[43mpersistent_load\u001b[49m\u001b[43m(\u001b[49m\u001b[43mpid\u001b[49m\u001b[43m)\u001b[49m)\n\u001b[32m    513\u001b[39m \u001b[38;5;28;01melif\u001b[39;00m key[\u001b[32m0\u001b[39m] \u001b[38;5;129;01min\u001b[39;00m [BINGET[\u001b[32m0\u001b[39m], LONG_BINGET[\u001b[32m0\u001b[39m]]:\n\u001b[32m    514\u001b[39m     idx = (read(\u001b[32m1\u001b[39m) \u001b[38;5;28;01mif\u001b[39;00m key[\u001b[32m0\u001b[39m] == BINGET[\u001b[32m0\u001b[39m] \u001b[38;5;28;01melse\u001b[39;00m unpack(\u001b[33m\"\u001b[39m\u001b[33m<I\u001b[39m\u001b[33m\"\u001b[39m, read(\u001b[32m4\u001b[39m)))[\u001b[32m0\u001b[39m]\n",
      "\u001b[36mFile \u001b[39m\u001b[32m~/Bureau/AB-BNN/.venv/lib/python3.12/site-packages/torch/serialization.py:1928\u001b[39m, in \u001b[36m_load.<locals>.persistent_load\u001b[39m\u001b[34m(saved_id)\u001b[39m\n\u001b[32m   1926\u001b[39m \u001b[38;5;28;01melse\u001b[39;00m:\n\u001b[32m   1927\u001b[39m     nbytes = numel * torch._utils._element_size(dtype)\n\u001b[32m-> \u001b[39m\u001b[32m1928\u001b[39m     typed_storage = \u001b[43mload_tensor\u001b[49m\u001b[43m(\u001b[49m\n\u001b[32m   1929\u001b[39m \u001b[43m        \u001b[49m\u001b[43mdtype\u001b[49m\u001b[43m,\u001b[49m\u001b[43m \u001b[49m\u001b[43mnbytes\u001b[49m\u001b[43m,\u001b[49m\u001b[43m \u001b[49m\u001b[43mkey\u001b[49m\u001b[43m,\u001b[49m\u001b[43m \u001b[49m\u001b[43m_maybe_decode_ascii\u001b[49m\u001b[43m(\u001b[49m\u001b[43mlocation\u001b[49m\u001b[43m)\u001b[49m\n\u001b[32m   1930\u001b[39m \u001b[43m    \u001b[49m\u001b[43m)\u001b[49m\n\u001b[32m   1932\u001b[39m \u001b[38;5;28;01mreturn\u001b[39;00m typed_storage\n",
      "\u001b[36mFile \u001b[39m\u001b[32m~/Bureau/AB-BNN/.venv/lib/python3.12/site-packages/torch/serialization.py:1900\u001b[39m, in \u001b[36m_load.<locals>.load_tensor\u001b[39m\u001b[34m(dtype, numel, key, location)\u001b[39m\n\u001b[32m   1895\u001b[39m         storage.byteswap(dtype)\n\u001b[32m   1897\u001b[39m \u001b[38;5;66;03m# TODO: Once we decide to break serialization FC, we can\u001b[39;00m\n\u001b[32m   1898\u001b[39m \u001b[38;5;66;03m# stop wrapping with TypedStorage\u001b[39;00m\n\u001b[32m   1899\u001b[39m typed_storage = torch.storage.TypedStorage(\n\u001b[32m-> \u001b[39m\u001b[32m1900\u001b[39m     wrap_storage=\u001b[43mrestore_location\u001b[49m\u001b[43m(\u001b[49m\u001b[43mstorage\u001b[49m\u001b[43m,\u001b[49m\u001b[43m \u001b[49m\u001b[43mlocation\u001b[49m\u001b[43m)\u001b[49m,\n\u001b[32m   1901\u001b[39m     dtype=dtype,\n\u001b[32m   1902\u001b[39m     _internal=\u001b[38;5;28;01mTrue\u001b[39;00m,\n\u001b[32m   1903\u001b[39m )\n\u001b[32m   1905\u001b[39m \u001b[38;5;28;01mif\u001b[39;00m typed_storage._data_ptr() != \u001b[32m0\u001b[39m:\n\u001b[32m   1906\u001b[39m     loaded_storages[key] = typed_storage\n",
      "\u001b[36mFile \u001b[39m\u001b[32m~/Bureau/AB-BNN/.venv/lib/python3.12/site-packages/torch/serialization.py:693\u001b[39m, in \u001b[36mdefault_restore_location\u001b[39m\u001b[34m(storage, location)\u001b[39m\n\u001b[32m    673\u001b[39m \u001b[38;5;250m\u001b[39m\u001b[33;03m\"\"\"\u001b[39;00m\n\u001b[32m    674\u001b[39m \u001b[33;03mRestores `storage` using a deserializer function registered for the `location`.\u001b[39;00m\n\u001b[32m    675\u001b[39m \n\u001b[32m   (...)\u001b[39m\u001b[32m    690\u001b[39m \u001b[33;03m       all matching ones return `None`.\u001b[39;00m\n\u001b[32m    691\u001b[39m \u001b[33;03m\"\"\"\u001b[39;00m\n\u001b[32m    692\u001b[39m \u001b[38;5;28;01mfor\u001b[39;00m _, _, fn \u001b[38;5;129;01min\u001b[39;00m _package_registry:\n\u001b[32m--> \u001b[39m\u001b[32m693\u001b[39m     result = \u001b[43mfn\u001b[49m\u001b[43m(\u001b[49m\u001b[43mstorage\u001b[49m\u001b[43m,\u001b[49m\u001b[43m \u001b[49m\u001b[43mlocation\u001b[49m\u001b[43m)\u001b[49m\n\u001b[32m    694\u001b[39m     \u001b[38;5;28;01mif\u001b[39;00m result \u001b[38;5;129;01mis\u001b[39;00m \u001b[38;5;129;01mnot\u001b[39;00m \u001b[38;5;28;01mNone\u001b[39;00m:\n\u001b[32m    695\u001b[39m         \u001b[38;5;28;01mreturn\u001b[39;00m result\n",
      "\u001b[36mFile \u001b[39m\u001b[32m~/Bureau/AB-BNN/.venv/lib/python3.12/site-packages/torch/serialization.py:631\u001b[39m, in \u001b[36m_deserialize\u001b[39m\u001b[34m(backend_name, obj, location)\u001b[39m\n\u001b[32m    629\u001b[39m     backend_name = torch._C._get_privateuse1_backend_name()\n\u001b[32m    630\u001b[39m \u001b[38;5;28;01mif\u001b[39;00m location.startswith(backend_name):\n\u001b[32m--> \u001b[39m\u001b[32m631\u001b[39m     device = \u001b[43m_validate_device\u001b[49m\u001b[43m(\u001b[49m\u001b[43mlocation\u001b[49m\u001b[43m,\u001b[49m\u001b[43m \u001b[49m\u001b[43mbackend_name\u001b[49m\u001b[43m)\u001b[49m\n\u001b[32m    632\u001b[39m     \u001b[38;5;28;01mreturn\u001b[39;00m obj.to(device=device)\n",
      "\u001b[36mFile \u001b[39m\u001b[32m~/Bureau/AB-BNN/.venv/lib/python3.12/site-packages/torch/serialization.py:600\u001b[39m, in \u001b[36m_validate_device\u001b[39m\u001b[34m(location, backend_name)\u001b[39m\n\u001b[32m    598\u001b[39m     device_index = device.index \u001b[38;5;28;01mif\u001b[39;00m device.index \u001b[38;5;28;01melse\u001b[39;00m \u001b[32m0\u001b[39m\n\u001b[32m    599\u001b[39m \u001b[38;5;28;01mif\u001b[39;00m \u001b[38;5;28mhasattr\u001b[39m(device_module, \u001b[33m\"\u001b[39m\u001b[33mis_available\u001b[39m\u001b[33m\"\u001b[39m) \u001b[38;5;129;01mand\u001b[39;00m \u001b[38;5;129;01mnot\u001b[39;00m device_module.is_available():\n\u001b[32m--> \u001b[39m\u001b[32m600\u001b[39m     \u001b[38;5;28;01mraise\u001b[39;00m \u001b[38;5;167;01mRuntimeError\u001b[39;00m(\n\u001b[32m    601\u001b[39m         \u001b[33mf\u001b[39m\u001b[33m\"\u001b[39m\u001b[33mAttempting to deserialize object on a \u001b[39m\u001b[38;5;132;01m{\u001b[39;00mbackend_name.upper()\u001b[38;5;132;01m}\u001b[39;00m\u001b[33m \u001b[39m\u001b[33m\"\u001b[39m\n\u001b[32m    602\u001b[39m         \u001b[33mf\u001b[39m\u001b[33m\"\u001b[39m\u001b[33mdevice but torch.\u001b[39m\u001b[38;5;132;01m{\u001b[39;00mbackend_name\u001b[38;5;132;01m}\u001b[39;00m\u001b[33m.is_available() is False. \u001b[39m\u001b[33m\"\u001b[39m\n\u001b[32m    603\u001b[39m         \u001b[33m\"\u001b[39m\u001b[33mIf you are running on a CPU-only machine, \u001b[39m\u001b[33m\"\u001b[39m\n\u001b[32m    604\u001b[39m         \u001b[33m\"\u001b[39m\u001b[33mplease use torch.load with map_location=torch.device(\u001b[39m\u001b[33m'\u001b[39m\u001b[33mcpu\u001b[39m\u001b[33m'\u001b[39m\u001b[33m) \u001b[39m\u001b[33m\"\u001b[39m\n\u001b[32m    605\u001b[39m         \u001b[33m\"\u001b[39m\u001b[33mto map your storages to the CPU.\u001b[39m\u001b[33m\"\u001b[39m\n\u001b[32m    606\u001b[39m     )\n\u001b[32m    607\u001b[39m \u001b[38;5;28;01mif\u001b[39;00m \u001b[38;5;28mhasattr\u001b[39m(device_module, \u001b[33m\"\u001b[39m\u001b[33mdevice_count\u001b[39m\u001b[33m\"\u001b[39m):\n\u001b[32m    608\u001b[39m     device_count = device_module.device_count()\n",
      "\u001b[31mRuntimeError\u001b[39m: Attempting to deserialize object on a CUDA device but torch.cuda.is_available() is False. If you are running on a CPU-only machine, please use torch.load with map_location=torch.device('cpu') to map your storages to the CPU."
     ]
    }
   ],
   "source": [
    "#net = net.cuda()\n",
    "max_test_acc = 0.\n",
    "net.load_state_dict(torch.load(Savemodel_path + f'epoch{255}{Name_suffix}.h5'))\n",
    "max_test_acc = np.load(Savemodel_path + f'max_acc{Name_suffix}.npy')\n",
    "max_test_acc = max_test_acc.item()"
   ]
  },
  {
   "cell_type": "code",
   "execution_count": 15,
   "id": "ae5f5a69",
   "metadata": {},
   "outputs": [],
   "source": [
    "net = nn.DataParallel(net).cuda()\n",
    "max_test_acc = 0.\n",
    "\n",
    "Test_top1 = []\n",
    "Test_topk = []\n",
    "Test_lossall = []\n",
    "Epoch_list = []\n",
    "Iteration_list = []"
   ]
  },
  {
   "cell_type": "code",
   "execution_count": 16,
   "id": "f71e710a",
   "metadata": {},
   "outputs": [],
   "source": [
    "all_parameters = net.parameters()\n",
    "weight_parameters = []\n",
    "for pname, p in net.named_parameters():\n",
    "    if (p.ndimension() == 4 or 'conv' in pname) and 'L_alpha' not in pname:\n",
    "        weight_parameters.append(p)\n",
    "weight_parameters_id = list(map(id, weight_parameters))\n",
    "other_parameters = list(filter(lambda p: id(p) not in weight_parameters_id, all_parameters))\n",
    "\n",
    "criterion_train = DistributionLoss()\n",
    "criterion_test = nn.CrossEntropyLoss()\n",
    "optimizer = torch.optim.Adam([\n",
    "    {'params' : other_parameters, 'weight_decay' : 0., 'initial_lr': Learning_rate},\n",
    "    {'params' : weight_parameters, 'weight_decay' : Weight_decay, 'initial_lr': Learning_rate}],\n",
    "    lr = Learning_rate)\n",
    "lr_scheduler = torch.optim.lr_scheduler.LambdaLR(optimizer, lambda step : (1.0-step/Max_epoch), last_epoch=Begin_epoch-1)"
   ]
  },
  {
   "cell_type": "code",
   "execution_count": 17,
   "id": "79d58a6d",
   "metadata": {},
   "outputs": [],
   "source": [
    "def test_model(net, max_test_acc, data_loader=test_data_loader, criterion=criterion_test, epoch=None, iteration=None, record=True):\n",
    "    net.eval()\n",
    "    test_samples = 0\n",
    "    test_loss = 0\n",
    "    test_acc_top1 = 0\n",
    "    test_acc_topk = 0\n",
    "    \n",
    "    with torch.no_grad():\n",
    "        for img, label in tqdm(data_loader):\n",
    "            img = img.cuda()\n",
    "            label = label.cuda()\n",
    "            \n",
    "            out_fr = net(img)\n",
    "            loss = criterion(out_fr, label)\n",
    "                \n",
    "            test_samples += label.numel()\n",
    "            test_loss += loss.item() * label.numel()\n",
    "\n",
    "            test_acc_top1 += (out_fr.argmax(1) == label).float().sum().item()\n",
    "            _, pred = out_fr.topk(Top_k, 1, True, True)\n",
    "            test_acc_topk += torch.eq(pred, label.view(-1,1)).float().sum().item()\n",
    "    \n",
    "    test_loss /= test_samples\n",
    "    test_acc_top1 /= test_samples\n",
    "    test_acc_topk /= test_samples\n",
    "\n",
    "    if test_acc_top1 >= max_test_acc:\n",
    "        max_test_acc = test_acc_top1\n",
    "        torch.save(net.state_dict(), Savemodel_path + f'max_acc{Name_suffix}.h5')\n",
    "        np.save(Savemodel_path + f'max_acc{Name_suffix}.npy', np.array(max_test_acc))\n",
    "\n",
    "    if record:\n",
    "        assert epoch is not None, \"epoch is None!\"\n",
    "        assert iteration is not None, \"iteration is None!\"\n",
    "        \n",
    "        Epoch_list.append(epoch+1)\n",
    "        Iteration_list.append(iteration+1)\n",
    "        Test_top1.append(test_acc_top1)\n",
    "        Test_topk.append(test_acc_topk)\n",
    "        Test_lossall.append(test_loss)\n",
    "\n",
    "        record_data = np.array([Epoch_list, Iteration_list, Test_top1, Test_topk, Test_lossall]).T\n",
    "        mdic = {f'Record_data':record_data, f'Record_meaning':['Epoch_list', 'Iteration_list', 'Test_top1', f'Test_top{Top_k}', 'Test_loss']}\n",
    "\n",
    "        savemat(Record_path + f'Test_{Begin_epoch}_{epoch}{Name_suffix}.mat',mdic)\n",
    "        if os.path.exists(Record_path + f'Test_{Begin_epoch}_{epoch-1}{Name_suffix}.mat'):\n",
    "            os.remove(Record_path + f'Test_{Begin_epoch}_{epoch-1}{Name_suffix}.mat')\n",
    "\n",
    "    return test_loss, test_acc_top1, test_acc_topk, max_test_acc"
   ]
  },
  {
   "cell_type": "code",
   "execution_count": 18,
   "id": "cd42d283",
   "metadata": {},
   "outputs": [],
   "source": [
    "def train_model(net, max_test_acc, epoch, data_loader=train_data_loader, optimizer=optimizer, criterion=criterion_test, record=True):\n",
    "    train_samples = 0\n",
    "    train_loss = 0\n",
    "    train_acc_top1 = 0\n",
    "    train_acc_topk = 0\n",
    "    \n",
    "    for i, (img, label) in enumerate(tqdm(data_loader)):\n",
    "        net.train()\n",
    "        img = img.cuda()\n",
    "        label = label.cuda()\n",
    "        \n",
    "        out_fr = net(img)\n",
    "        loss = criterion(out_fr, label)\n",
    "            \n",
    "        train_samples += label.numel()\n",
    "        train_loss += loss.item() * label.numel()\n",
    "\n",
    "        train_acc_top1 += (out_fr.argmax(1) == label).float().sum().item()\n",
    "        _, pred = out_fr.topk(Top_k, 1, True, True)\n",
    "        train_acc_topk += torch.eq(pred, label.view(-1,1)).float().sum().item()\n",
    "        \n",
    "        optimizer.zero_grad()\n",
    "        loss.backward()\n",
    "\n",
    "        parameters_list = []\n",
    "        for name, p in net.named_parameters():\n",
    "            if not 'fc' in name:\n",
    "                parameters_list.append(p)\n",
    "        adaptive_clip_grad(parameters_list, clip_factor=0.001)\n",
    "            \n",
    "        optimizer.step()\n",
    "\n",
    "        if Test_every_iteration is not None:\n",
    "            if (i+1) % Test_every_iteration == 0:\n",
    "                test_loss, test_acc_top1, test_acc_topk, max_test_acc = test_model(net, max_test_acc, epoch=epoch, iteration=i, record=record)\n",
    "                print(f'Test_loss: {test_loss:.4f}, Test_acc_top1: {test_acc_top1:.4f}, Test_acc_top{Top_k}: {test_acc_topk:.4f}, Max_test_acc: {max_test_acc:.4f}')\n",
    "    \n",
    "    train_loss /= train_samples\n",
    "    train_acc_top1 /= train_samples\n",
    "    train_acc_topk /= train_samples\n",
    "\n",
    "    test_loss, test_acc_top1, test_acc_topk, max_test_acc = test_model(net, max_test_acc, epoch=epoch, iteration=i, record=record)\n",
    "        \n",
    "    return train_loss, train_acc_top1, train_acc_topk, test_loss, test_acc_top1, test_acc_topk, max_test_acc"
   ]
  },
  {
   "cell_type": "code",
   "execution_count": 19,
   "id": "017a43a9",
   "metadata": {},
   "outputs": [
    {
     "name": "stderr",
     "output_type": "stream",
     "text": [
      "100%|██████████| 90/90 [00:17<00:00,  5.09it/s]\n",
      "100%|██████████| 22/22 [00:01<00:00, 15.04it/s]\n"
     ]
    },
    {
     "name": "stdout",
     "output_type": "stream",
     "text": [
      "epoch=0, train_acc_top1=0.0836, train_acc_top5=0.4336, train_loss=8.8392, test_top1=0.0909, test_top5=0.4053, test_loss=4.8455, max_test_acc=0.0909, total_time=19.3056, LR=0.00100000\n"
     ]
    },
    {
     "name": "stderr",
     "output_type": "stream",
     "text": [
      "100%|██████████| 90/90 [00:16<00:00,  5.42it/s]\n",
      "100%|██████████| 22/22 [00:01<00:00, 15.11it/s]\n"
     ]
    },
    {
     "name": "stdout",
     "output_type": "stream",
     "text": [
      "epoch=1, train_acc_top1=0.1161, train_acc_top5=0.5627, train_loss=3.3660, test_top1=0.1742, test_top5=0.6818, test_loss=3.5545, max_test_acc=0.1742, total_time=18.2367, LR=0.00099609\n"
     ]
    },
    {
     "name": "stderr",
     "output_type": "stream",
     "text": [
      "100%|██████████| 90/90 [00:16<00:00,  5.36it/s]\n",
      "100%|██████████| 22/22 [00:01<00:00, 15.07it/s]\n"
     ]
    },
    {
     "name": "stdout",
     "output_type": "stream",
     "text": [
      "epoch=2, train_acc_top1=0.1560, train_acc_top5=0.6973, train_loss=2.7044, test_top1=0.2008, test_top5=0.7879, test_loss=1.9888, max_test_acc=0.2008, total_time=18.4469, LR=0.00099219\n"
     ]
    },
    {
     "name": "stderr",
     "output_type": "stream",
     "text": [
      "100%|██████████| 90/90 [00:16<00:00,  5.40it/s]\n",
      "100%|██████████| 22/22 [00:01<00:00, 15.18it/s]\n"
     ]
    },
    {
     "name": "stdout",
     "output_type": "stream",
     "text": [
      "epoch=3, train_acc_top1=0.1671, train_acc_top5=0.7168, train_loss=2.5967, test_top1=0.2727, test_top5=0.6174, test_loss=2.3945, max_test_acc=0.2727, total_time=18.3007, LR=0.00098828\n"
     ]
    },
    {
     "name": "stderr",
     "output_type": "stream",
     "text": [
      "100%|██████████| 90/90 [00:16<00:00,  5.34it/s]\n",
      "100%|██████████| 22/22 [00:01<00:00, 15.04it/s]\n"
     ]
    },
    {
     "name": "stdout",
     "output_type": "stream",
     "text": [
      "epoch=4, train_acc_top1=0.2201, train_acc_top5=0.7818, train_loss=2.2749, test_top1=0.3258, test_top5=0.9621, test_loss=1.7279, max_test_acc=0.3258, total_time=18.4930, LR=0.00098438\n"
     ]
    },
    {
     "name": "stderr",
     "output_type": "stream",
     "text": [
      "100%|██████████| 90/90 [00:17<00:00,  5.25it/s]\n",
      "100%|██████████| 22/22 [00:01<00:00, 15.24it/s]\n"
     ]
    },
    {
     "name": "stdout",
     "output_type": "stream",
     "text": [
      "epoch=5, train_acc_top1=0.3305, train_acc_top5=0.8477, train_loss=1.9061, test_top1=0.3939, test_top5=0.9621, test_loss=1.8991, max_test_acc=0.3939, total_time=18.7600, LR=0.00098047\n"
     ]
    },
    {
     "name": "stderr",
     "output_type": "stream",
     "text": [
      "100%|██████████| 90/90 [00:16<00:00,  5.39it/s]\n",
      "100%|██████████| 22/22 [00:01<00:00, 14.92it/s]\n"
     ]
    },
    {
     "name": "stdout",
     "output_type": "stream",
     "text": [
      "epoch=6, train_acc_top1=0.4234, train_acc_top5=0.9201, train_loss=1.5401, test_top1=0.4811, test_top5=0.9773, test_loss=1.3057, max_test_acc=0.4811, total_time=18.3458, LR=0.00097656\n"
     ]
    },
    {
     "name": "stderr",
     "output_type": "stream",
     "text": [
      "100%|██████████| 90/90 [00:16<00:00,  5.34it/s]\n",
      "100%|██████████| 22/22 [00:01<00:00, 14.91it/s]\n"
     ]
    },
    {
     "name": "stdout",
     "output_type": "stream",
     "text": [
      "epoch=7, train_acc_top1=0.4271, train_acc_top5=0.9424, train_loss=1.4559, test_top1=0.4697, test_top5=0.8826, test_loss=1.4110, max_test_acc=0.4811, total_time=18.3229, LR=0.00097266\n"
     ]
    },
    {
     "name": "stderr",
     "output_type": "stream",
     "text": [
      "100%|██████████| 90/90 [00:16<00:00,  5.33it/s]\n",
      "100%|██████████| 22/22 [00:01<00:00, 15.00it/s]\n"
     ]
    },
    {
     "name": "stdout",
     "output_type": "stream",
     "text": [
      "epoch=8, train_acc_top1=0.4225, train_acc_top5=0.9034, train_loss=1.7734, test_top1=0.4697, test_top5=0.9508, test_loss=1.4422, max_test_acc=0.4811, total_time=18.3478, LR=0.00096875\n"
     ]
    },
    {
     "name": "stderr",
     "output_type": "stream",
     "text": [
      "100%|██████████| 90/90 [00:16<00:00,  5.40it/s]\n",
      "100%|██████████| 22/22 [00:01<00:00, 15.03it/s]\n"
     ]
    },
    {
     "name": "stdout",
     "output_type": "stream",
     "text": [
      "epoch=9, train_acc_top1=0.4178, train_acc_top5=0.9109, train_loss=1.8503, test_top1=0.4659, test_top5=0.9053, test_loss=1.3792, max_test_acc=0.4811, total_time=18.1497, LR=0.00096484\n"
     ]
    },
    {
     "name": "stderr",
     "output_type": "stream",
     "text": [
      "100%|██████████| 90/90 [00:16<00:00,  5.39it/s]\n",
      "100%|██████████| 22/22 [00:01<00:00, 14.85it/s]\n"
     ]
    },
    {
     "name": "stdout",
     "output_type": "stream",
     "text": [
      "epoch=10, train_acc_top1=0.4828, train_acc_top5=0.9694, train_loss=1.3179, test_top1=0.5682, test_top5=0.9962, test_loss=1.2645, max_test_acc=0.5682, total_time=18.3746, LR=0.00096094\n"
     ]
    },
    {
     "name": "stderr",
     "output_type": "stream",
     "text": [
      "100%|██████████| 90/90 [00:17<00:00,  5.28it/s]\n",
      "100%|██████████| 22/22 [00:01<00:00, 14.98it/s]\n"
     ]
    },
    {
     "name": "stdout",
     "output_type": "stream",
     "text": [
      "epoch=11, train_acc_top1=0.5042, train_acc_top5=0.9452, train_loss=1.4139, test_top1=0.5000, test_top5=0.9167, test_loss=1.5557, max_test_acc=0.5682, total_time=18.5050, LR=0.00095703\n"
     ]
    },
    {
     "name": "stderr",
     "output_type": "stream",
     "text": [
      "100%|██████████| 90/90 [00:16<00:00,  5.31it/s]\n",
      "100%|██████████| 22/22 [00:01<00:00, 14.99it/s]\n"
     ]
    },
    {
     "name": "stdout",
     "output_type": "stream",
     "text": [
      "epoch=12, train_acc_top1=0.5432, train_acc_top5=0.9731, train_loss=1.1597, test_top1=0.5644, test_top5=0.9583, test_loss=1.0845, max_test_acc=0.5682, total_time=18.4110, LR=0.00095312\n"
     ]
    },
    {
     "name": "stderr",
     "output_type": "stream",
     "text": [
      "100%|██████████| 90/90 [00:16<00:00,  5.35it/s]\n",
      "100%|██████████| 22/22 [00:01<00:00, 15.02it/s]\n"
     ]
    },
    {
     "name": "stdout",
     "output_type": "stream",
     "text": [
      "epoch=13, train_acc_top1=0.5729, train_acc_top5=0.9675, train_loss=1.1599, test_top1=0.6364, test_top5=1.0000, test_loss=0.8380, max_test_acc=0.6364, total_time=18.4620, LR=0.00094922\n"
     ]
    },
    {
     "name": "stderr",
     "output_type": "stream",
     "text": [
      "100%|██████████| 90/90 [00:16<00:00,  5.37it/s]\n",
      "100%|██████████| 22/22 [00:01<00:00, 14.99it/s]\n"
     ]
    },
    {
     "name": "stdout",
     "output_type": "stream",
     "text": [
      "epoch=14, train_acc_top1=0.6184, train_acc_top5=0.9842, train_loss=0.9239, test_top1=0.6553, test_top5=1.0000, test_loss=0.8075, max_test_acc=0.6553, total_time=18.4185, LR=0.00094531\n"
     ]
    },
    {
     "name": "stderr",
     "output_type": "stream",
     "text": [
      "100%|██████████| 90/90 [00:16<00:00,  5.40it/s]\n",
      "100%|██████████| 22/22 [00:01<00:00, 15.13it/s]\n"
     ]
    },
    {
     "name": "stdout",
     "output_type": "stream",
     "text": [
      "epoch=15, train_acc_top1=0.6518, train_acc_top5=0.9916, train_loss=0.8461, test_top1=0.6098, test_top5=0.9773, test_loss=0.8622, max_test_acc=0.6553, total_time=18.1301, LR=0.00094141\n"
     ]
    },
    {
     "name": "stderr",
     "output_type": "stream",
     "text": [
      "100%|██████████| 90/90 [00:16<00:00,  5.34it/s]\n",
      "100%|██████████| 22/22 [00:01<00:00, 14.88it/s]\n"
     ]
    },
    {
     "name": "stdout",
     "output_type": "stream",
     "text": [
      "epoch=16, train_acc_top1=0.6565, train_acc_top5=0.9963, train_loss=0.7876, test_top1=0.7008, test_top5=1.0000, test_loss=0.6556, max_test_acc=0.7008, total_time=18.5046, LR=0.00093750\n"
     ]
    },
    {
     "name": "stderr",
     "output_type": "stream",
     "text": [
      "100%|██████████| 90/90 [00:16<00:00,  5.35it/s]\n",
      "100%|██████████| 22/22 [00:01<00:00, 15.09it/s]\n"
     ]
    },
    {
     "name": "stdout",
     "output_type": "stream",
     "text": [
      "epoch=17, train_acc_top1=0.6685, train_acc_top5=0.9944, train_loss=0.7905, test_top1=0.6136, test_top5=0.9886, test_loss=0.9137, max_test_acc=0.7008, total_time=18.2777, LR=0.00093359\n"
     ]
    },
    {
     "name": "stderr",
     "output_type": "stream",
     "text": [
      "100%|██████████| 90/90 [00:16<00:00,  5.39it/s]\n",
      "100%|██████████| 22/22 [00:01<00:00, 15.18it/s]\n"
     ]
    },
    {
     "name": "stdout",
     "output_type": "stream",
     "text": [
      "epoch=18, train_acc_top1=0.6834, train_acc_top5=0.9963, train_loss=0.7455, test_top1=0.6439, test_top5=0.9962, test_loss=0.8171, max_test_acc=0.7008, total_time=18.1449, LR=0.00092969\n"
     ]
    },
    {
     "name": "stderr",
     "output_type": "stream",
     "text": [
      "100%|██████████| 90/90 [00:16<00:00,  5.39it/s]\n",
      "100%|██████████| 22/22 [00:01<00:00, 15.11it/s]\n"
     ]
    },
    {
     "name": "stdout",
     "output_type": "stream",
     "text": [
      "epoch=19, train_acc_top1=0.7084, train_acc_top5=0.9954, train_loss=0.6766, test_top1=0.7045, test_top5=0.9962, test_loss=0.6542, max_test_acc=0.7045, total_time=18.3437, LR=0.00092578\n"
     ]
    },
    {
     "name": "stderr",
     "output_type": "stream",
     "text": [
      "100%|██████████| 90/90 [00:16<00:00,  5.33it/s]\n",
      "100%|██████████| 22/22 [00:01<00:00, 15.05it/s]\n"
     ]
    },
    {
     "name": "stdout",
     "output_type": "stream",
     "text": [
      "epoch=20, train_acc_top1=0.6936, train_acc_top5=0.9907, train_loss=0.7605, test_top1=0.7311, test_top5=0.9886, test_loss=0.6787, max_test_acc=0.7311, total_time=18.5439, LR=0.00092188\n"
     ]
    },
    {
     "name": "stderr",
     "output_type": "stream",
     "text": [
      "100%|██████████| 90/90 [00:16<00:00,  5.33it/s]\n",
      "100%|██████████| 22/22 [00:01<00:00, 15.14it/s]\n"
     ]
    },
    {
     "name": "stdout",
     "output_type": "stream",
     "text": [
      "epoch=21, train_acc_top1=0.7586, train_acc_top5=0.9963, train_loss=0.6118, test_top1=0.7159, test_top5=0.9886, test_loss=0.7936, max_test_acc=0.7311, total_time=18.3480, LR=0.00091797\n"
     ]
    },
    {
     "name": "stderr",
     "output_type": "stream",
     "text": [
      "100%|██████████| 90/90 [00:16<00:00,  5.39it/s]\n",
      "100%|██████████| 22/22 [00:01<00:00, 14.96it/s]\n"
     ]
    },
    {
     "name": "stdout",
     "output_type": "stream",
     "text": [
      "epoch=22, train_acc_top1=0.7642, train_acc_top5=0.9944, train_loss=0.5677, test_top1=0.7311, test_top5=0.9962, test_loss=0.6554, max_test_acc=0.7311, total_time=18.3621, LR=0.00091406\n"
     ]
    },
    {
     "name": "stderr",
     "output_type": "stream",
     "text": [
      "100%|██████████| 90/90 [00:16<00:00,  5.35it/s]\n",
      "100%|██████████| 22/22 [00:01<00:00, 14.97it/s]\n"
     ]
    },
    {
     "name": "stdout",
     "output_type": "stream",
     "text": [
      "epoch=23, train_acc_top1=0.7781, train_acc_top5=0.9963, train_loss=0.5468, test_top1=0.7500, test_top5=0.9962, test_loss=0.6427, max_test_acc=0.7500, total_time=18.4407, LR=0.00091016\n"
     ]
    },
    {
     "name": "stderr",
     "output_type": "stream",
     "text": [
      "100%|██████████| 90/90 [00:16<00:00,  5.38it/s]\n",
      "100%|██████████| 22/22 [00:01<00:00, 15.05it/s]\n"
     ]
    },
    {
     "name": "stdout",
     "output_type": "stream",
     "text": [
      "epoch=24, train_acc_top1=0.7614, train_acc_top5=0.9981, train_loss=0.5597, test_top1=0.6780, test_top5=0.9962, test_loss=0.7615, max_test_acc=0.7500, total_time=18.1950, LR=0.00090625\n"
     ]
    },
    {
     "name": "stderr",
     "output_type": "stream",
     "text": [
      "100%|██████████| 90/90 [00:16<00:00,  5.33it/s]\n",
      "100%|██████████| 22/22 [00:01<00:00, 14.82it/s]\n"
     ]
    },
    {
     "name": "stdout",
     "output_type": "stream",
     "text": [
      "epoch=25, train_acc_top1=0.7809, train_acc_top5=0.9981, train_loss=0.4883, test_top1=0.7348, test_top5=0.9848, test_loss=0.6424, max_test_acc=0.7500, total_time=18.3708, LR=0.00090234\n"
     ]
    },
    {
     "name": "stderr",
     "output_type": "stream",
     "text": [
      "100%|██████████| 90/90 [00:16<00:00,  5.32it/s]\n",
      "100%|██████████| 22/22 [00:01<00:00, 15.03it/s]\n"
     ]
    },
    {
     "name": "stdout",
     "output_type": "stream",
     "text": [
      "epoch=26, train_acc_top1=0.7874, train_acc_top5=0.9907, train_loss=0.5332, test_top1=0.7348, test_top5=0.9848, test_loss=0.6716, max_test_acc=0.7500, total_time=18.3749, LR=0.00089844\n"
     ]
    },
    {
     "name": "stderr",
     "output_type": "stream",
     "text": [
      "100%|██████████| 90/90 [00:16<00:00,  5.38it/s]\n",
      "100%|██████████| 22/22 [00:01<00:00, 14.88it/s]\n"
     ]
    },
    {
     "name": "stdout",
     "output_type": "stream",
     "text": [
      "epoch=27, train_acc_top1=0.8273, train_acc_top5=0.9991, train_loss=0.4411, test_top1=0.7462, test_top5=1.0000, test_loss=0.6135, max_test_acc=0.7500, total_time=18.1996, LR=0.00089453\n"
     ]
    },
    {
     "name": "stderr",
     "output_type": "stream",
     "text": [
      "100%|██████████| 90/90 [00:16<00:00,  5.36it/s]\n",
      "100%|██████████| 22/22 [00:01<00:00, 15.05it/s]\n"
     ]
    },
    {
     "name": "stdout",
     "output_type": "stream",
     "text": [
      "epoch=28, train_acc_top1=0.7957, train_acc_top5=0.9963, train_loss=0.5192, test_top1=0.7803, test_top5=0.9924, test_loss=0.5630, max_test_acc=0.7803, total_time=18.4326, LR=0.00089063\n"
     ]
    },
    {
     "name": "stderr",
     "output_type": "stream",
     "text": [
      "100%|██████████| 90/90 [00:16<00:00,  5.39it/s]\n",
      "100%|██████████| 22/22 [00:01<00:00, 15.03it/s]\n"
     ]
    },
    {
     "name": "stdout",
     "output_type": "stream",
     "text": [
      "epoch=29, train_acc_top1=0.8570, train_acc_top5=0.9981, train_loss=0.4027, test_top1=0.7689, test_top5=0.9886, test_loss=0.9009, max_test_acc=0.7803, total_time=18.1787, LR=0.00088672\n"
     ]
    },
    {
     "name": "stderr",
     "output_type": "stream",
     "text": [
      "100%|██████████| 90/90 [00:16<00:00,  5.39it/s]\n",
      "100%|██████████| 22/22 [00:01<00:00, 14.94it/s]\n"
     ]
    },
    {
     "name": "stdout",
     "output_type": "stream",
     "text": [
      "epoch=30, train_acc_top1=0.8626, train_acc_top5=0.9991, train_loss=0.3640, test_top1=0.7727, test_top5=0.9811, test_loss=0.6166, max_test_acc=0.7803, total_time=18.1827, LR=0.00088281\n"
     ]
    },
    {
     "name": "stderr",
     "output_type": "stream",
     "text": [
      "100%|██████████| 90/90 [00:16<00:00,  5.36it/s]\n",
      "100%|██████████| 22/22 [00:01<00:00, 14.87it/s]\n"
     ]
    },
    {
     "name": "stdout",
     "output_type": "stream",
     "text": [
      "epoch=31, train_acc_top1=0.8598, train_acc_top5=0.9972, train_loss=0.3558, test_top1=0.7462, test_top5=0.9848, test_loss=0.6230, max_test_acc=0.7803, total_time=18.2780, LR=0.00087891\n"
     ]
    },
    {
     "name": "stderr",
     "output_type": "stream",
     "text": [
      "100%|██████████| 90/90 [00:17<00:00,  5.27it/s]\n",
      "100%|██████████| 22/22 [00:01<00:00, 14.75it/s]\n"
     ]
    },
    {
     "name": "stdout",
     "output_type": "stream",
     "text": [
      "epoch=32, train_acc_top1=0.8923, train_acc_top5=0.9991, train_loss=0.3332, test_top1=0.7500, test_top5=0.9886, test_loss=0.7661, max_test_acc=0.7803, total_time=18.5692, LR=0.00087500\n"
     ]
    },
    {
     "name": "stderr",
     "output_type": "stream",
     "text": [
      "100%|██████████| 90/90 [00:15<00:00,  5.91it/s]\n",
      "100%|██████████| 22/22 [00:01<00:00, 16.63it/s]\n"
     ]
    },
    {
     "name": "stdout",
     "output_type": "stream",
     "text": [
      "epoch=33, train_acc_top1=0.9034, train_acc_top5=0.9991, train_loss=0.2837, test_top1=0.7652, test_top5=1.0000, test_loss=0.6688, max_test_acc=0.7803, total_time=16.5551, LR=0.00087109\n"
     ]
    },
    {
     "name": "stderr",
     "output_type": "stream",
     "text": [
      "100%|██████████| 90/90 [00:14<00:00,  6.00it/s]\n",
      "100%|██████████| 22/22 [00:01<00:00, 16.66it/s]\n"
     ]
    },
    {
     "name": "stdout",
     "output_type": "stream",
     "text": [
      "epoch=34, train_acc_top1=0.8960, train_acc_top5=0.9991, train_loss=0.2946, test_top1=0.8068, test_top5=1.0000, test_loss=0.5591, max_test_acc=0.8068, total_time=16.4758, LR=0.00086719\n"
     ]
    },
    {
     "name": "stderr",
     "output_type": "stream",
     "text": [
      "100%|██████████| 90/90 [00:15<00:00,  6.00it/s]\n",
      "100%|██████████| 22/22 [00:01<00:00, 16.59it/s]\n"
     ]
    },
    {
     "name": "stdout",
     "output_type": "stream",
     "text": [
      "epoch=35, train_acc_top1=0.8756, train_acc_top5=0.9954, train_loss=0.3613, test_top1=0.7689, test_top5=0.9962, test_loss=0.7419, max_test_acc=0.8068, total_time=16.3384, LR=0.00086328\n"
     ]
    },
    {
     "name": "stderr",
     "output_type": "stream",
     "text": [
      "100%|██████████| 90/90 [00:15<00:00,  6.00it/s]\n",
      "100%|██████████| 22/22 [00:01<00:00, 16.61it/s]\n"
     ]
    },
    {
     "name": "stdout",
     "output_type": "stream",
     "text": [
      "epoch=36, train_acc_top1=0.8895, train_acc_top5=0.9981, train_loss=0.2965, test_top1=0.7576, test_top5=0.9924, test_loss=0.7806, max_test_acc=0.8068, total_time=16.3362, LR=0.00085938\n"
     ]
    },
    {
     "name": "stderr",
     "output_type": "stream",
     "text": [
      "100%|██████████| 90/90 [00:15<00:00,  6.00it/s]\n",
      "100%|██████████| 22/22 [00:01<00:00, 16.62it/s]\n"
     ]
    },
    {
     "name": "stdout",
     "output_type": "stream",
     "text": [
      "epoch=37, train_acc_top1=0.8979, train_acc_top5=0.9991, train_loss=0.2616, test_top1=0.7955, test_top5=0.9962, test_loss=0.7798, max_test_acc=0.8068, total_time=16.3330, LR=0.00085547\n"
     ]
    },
    {
     "name": "stderr",
     "output_type": "stream",
     "text": [
      "100%|██████████| 90/90 [00:15<00:00,  6.00it/s]\n",
      "100%|██████████| 22/22 [00:01<00:00, 16.65it/s]\n"
     ]
    },
    {
     "name": "stdout",
     "output_type": "stream",
     "text": [
      "epoch=38, train_acc_top1=0.9164, train_acc_top5=1.0000, train_loss=0.2224, test_top1=0.8220, test_top5=0.9848, test_loss=0.5928, max_test_acc=0.8220, total_time=16.4985, LR=0.00085156\n"
     ]
    },
    {
     "name": "stderr",
     "output_type": "stream",
     "text": [
      "100%|██████████| 90/90 [00:14<00:00,  6.00it/s]\n",
      "100%|██████████| 22/22 [00:01<00:00, 16.60it/s]\n"
     ]
    },
    {
     "name": "stdout",
     "output_type": "stream",
     "text": [
      "epoch=39, train_acc_top1=0.8867, train_acc_top5=0.9963, train_loss=0.3186, test_top1=0.7803, test_top5=0.9886, test_loss=0.6743, max_test_acc=0.8220, total_time=16.3268, LR=0.00084766\n"
     ]
    },
    {
     "name": "stderr",
     "output_type": "stream",
     "text": [
      "100%|██████████| 90/90 [00:15<00:00,  6.00it/s]\n",
      "100%|██████████| 22/22 [00:01<00:00, 16.70it/s]\n"
     ]
    },
    {
     "name": "stdout",
     "output_type": "stream",
     "text": [
      "epoch=40, train_acc_top1=0.9090, train_acc_top5=0.9991, train_loss=0.2376, test_top1=0.7803, test_top5=0.9886, test_loss=0.6674, max_test_acc=0.8220, total_time=16.3267, LR=0.00084375\n"
     ]
    },
    {
     "name": "stderr",
     "output_type": "stream",
     "text": [
      "100%|██████████| 90/90 [00:15<00:00,  5.99it/s]\n",
      "100%|██████████| 22/22 [00:01<00:00, 16.57it/s]\n"
     ]
    },
    {
     "name": "stdout",
     "output_type": "stream",
     "text": [
      "epoch=41, train_acc_top1=0.9424, train_acc_top5=0.9991, train_loss=0.1618, test_top1=0.7917, test_top5=0.9924, test_loss=0.7114, max_test_acc=0.8220, total_time=16.3498, LR=0.00083984\n"
     ]
    },
    {
     "name": "stderr",
     "output_type": "stream",
     "text": [
      "100%|██████████| 90/90 [00:15<00:00,  5.99it/s]\n",
      "100%|██████████| 22/22 [00:01<00:00, 16.71it/s]\n"
     ]
    },
    {
     "name": "stdout",
     "output_type": "stream",
     "text": [
      "epoch=42, train_acc_top1=0.9434, train_acc_top5=1.0000, train_loss=0.1584, test_top1=0.8030, test_top5=0.9924, test_loss=0.6354, max_test_acc=0.8220, total_time=16.3417, LR=0.00083594\n"
     ]
    },
    {
     "name": "stderr",
     "output_type": "stream",
     "text": [
      "100%|██████████| 90/90 [00:14<00:00,  6.01it/s]\n",
      "100%|██████████| 22/22 [00:01<00:00, 16.58it/s]\n"
     ]
    },
    {
     "name": "stdout",
     "output_type": "stream",
     "text": [
      "epoch=43, train_acc_top1=0.9443, train_acc_top5=0.9991, train_loss=0.1565, test_top1=0.8106, test_top5=1.0000, test_loss=0.6593, max_test_acc=0.8220, total_time=16.3062, LR=0.00083203\n"
     ]
    },
    {
     "name": "stderr",
     "output_type": "stream",
     "text": [
      "100%|██████████| 90/90 [00:15<00:00,  5.95it/s]\n",
      "100%|██████████| 22/22 [00:01<00:00, 15.53it/s]\n"
     ]
    },
    {
     "name": "stdout",
     "output_type": "stream",
     "text": [
      "epoch=44, train_acc_top1=0.9443, train_acc_top5=0.9991, train_loss=0.1750, test_top1=0.7803, test_top5=1.0000, test_loss=0.6555, max_test_acc=0.8220, total_time=16.5465, LR=0.00082812\n"
     ]
    },
    {
     "name": "stderr",
     "output_type": "stream",
     "text": [
      "100%|██████████| 90/90 [00:16<00:00,  5.34it/s]\n",
      "100%|██████████| 22/22 [00:01<00:00, 15.01it/s]\n"
     ]
    },
    {
     "name": "stdout",
     "output_type": "stream",
     "text": [
      "epoch=45, train_acc_top1=0.9099, train_acc_top5=0.9898, train_loss=0.3815, test_top1=0.7955, test_top5=1.0000, test_loss=0.6651, max_test_acc=0.8220, total_time=18.3338, LR=0.00082422\n"
     ]
    },
    {
     "name": "stderr",
     "output_type": "stream",
     "text": [
      "100%|██████████| 90/90 [00:16<00:00,  5.38it/s]\n",
      "100%|██████████| 22/22 [00:01<00:00, 15.15it/s]\n"
     ]
    },
    {
     "name": "stdout",
     "output_type": "stream",
     "text": [
      "epoch=46, train_acc_top1=0.9350, train_acc_top5=1.0000, train_loss=0.1904, test_top1=0.7538, test_top5=0.9886, test_loss=0.8058, max_test_acc=0.8220, total_time=18.1733, LR=0.00082031\n"
     ]
    },
    {
     "name": "stderr",
     "output_type": "stream",
     "text": [
      "100%|██████████| 90/90 [00:16<00:00,  5.40it/s]\n",
      "100%|██████████| 22/22 [00:01<00:00, 15.12it/s]\n"
     ]
    },
    {
     "name": "stdout",
     "output_type": "stream",
     "text": [
      "epoch=47, train_acc_top1=0.9396, train_acc_top5=1.0000, train_loss=0.1808, test_top1=0.8106, test_top5=1.0000, test_loss=0.6413, max_test_acc=0.8220, total_time=18.1390, LR=0.00081641\n"
     ]
    },
    {
     "name": "stderr",
     "output_type": "stream",
     "text": [
      "100%|██████████| 90/90 [00:16<00:00,  5.42it/s]\n",
      "100%|██████████| 22/22 [00:01<00:00, 15.25it/s]\n"
     ]
    },
    {
     "name": "stdout",
     "output_type": "stream",
     "text": [
      "epoch=48, train_acc_top1=0.9564, train_acc_top5=1.0000, train_loss=0.1168, test_top1=0.7689, test_top5=0.9924, test_loss=0.8656, max_test_acc=0.8220, total_time=18.0511, LR=0.00081250\n"
     ]
    },
    {
     "name": "stderr",
     "output_type": "stream",
     "text": [
      "100%|██████████| 90/90 [00:16<00:00,  5.43it/s]\n",
      "100%|██████████| 22/22 [00:01<00:00, 15.22it/s]\n"
     ]
    },
    {
     "name": "stdout",
     "output_type": "stream",
     "text": [
      "epoch=49, train_acc_top1=0.9573, train_acc_top5=1.0000, train_loss=0.1244, test_top1=0.8333, test_top5=0.9962, test_loss=0.7205, max_test_acc=0.8333, total_time=18.1983, LR=0.00080859\n"
     ]
    },
    {
     "name": "stderr",
     "output_type": "stream",
     "text": [
      "100%|██████████| 90/90 [00:16<00:00,  5.40it/s]\n",
      "100%|██████████| 22/22 [00:01<00:00, 15.21it/s]\n"
     ]
    },
    {
     "name": "stdout",
     "output_type": "stream",
     "text": [
      "epoch=50, train_acc_top1=0.9127, train_acc_top5=0.9963, train_loss=0.3272, test_top1=0.7576, test_top5=0.9886, test_loss=0.6840, max_test_acc=0.8333, total_time=18.1244, LR=0.00080469\n"
     ]
    },
    {
     "name": "stderr",
     "output_type": "stream",
     "text": [
      "100%|██████████| 90/90 [00:16<00:00,  5.38it/s]\n",
      "100%|██████████| 22/22 [00:01<00:00, 15.32it/s]\n"
     ]
    },
    {
     "name": "stdout",
     "output_type": "stream",
     "text": [
      "epoch=51, train_acc_top1=0.9350, train_acc_top5=0.9991, train_loss=0.2006, test_top1=0.8371, test_top5=1.0000, test_loss=0.5450, max_test_acc=0.8371, total_time=18.3310, LR=0.00080078\n"
     ]
    },
    {
     "name": "stderr",
     "output_type": "stream",
     "text": [
      "100%|██████████| 90/90 [00:16<00:00,  5.35it/s]\n",
      "100%|██████████| 22/22 [00:01<00:00, 15.13it/s]\n"
     ]
    },
    {
     "name": "stdout",
     "output_type": "stream",
     "text": [
      "epoch=52, train_acc_top1=0.9591, train_acc_top5=1.0000, train_loss=0.1359, test_top1=0.8068, test_top5=0.9811, test_loss=0.8903, max_test_acc=0.8371, total_time=18.2854, LR=0.00079688\n"
     ]
    },
    {
     "name": "stderr",
     "output_type": "stream",
     "text": [
      "100%|██████████| 90/90 [00:16<00:00,  5.39it/s]\n",
      "100%|██████████| 22/22 [00:01<00:00, 15.03it/s]\n"
     ]
    },
    {
     "name": "stdout",
     "output_type": "stream",
     "text": [
      "epoch=53, train_acc_top1=0.9703, train_acc_top5=1.0000, train_loss=0.0925, test_top1=0.7992, test_top5=0.9811, test_loss=0.8309, max_test_acc=0.8371, total_time=18.1526, LR=0.00079297\n"
     ]
    },
    {
     "name": "stderr",
     "output_type": "stream",
     "text": [
      "100%|██████████| 90/90 [00:16<00:00,  5.39it/s]\n",
      "100%|██████████| 22/22 [00:01<00:00, 15.13it/s]\n"
     ]
    },
    {
     "name": "stdout",
     "output_type": "stream",
     "text": [
      "epoch=54, train_acc_top1=0.9675, train_acc_top5=1.0000, train_loss=0.0993, test_top1=0.7879, test_top5=0.9848, test_loss=0.8597, max_test_acc=0.8371, total_time=18.1543, LR=0.00078906\n"
     ]
    },
    {
     "name": "stderr",
     "output_type": "stream",
     "text": [
      "100%|██████████| 90/90 [00:16<00:00,  5.41it/s]\n",
      "100%|██████████| 22/22 [00:01<00:00, 15.28it/s]\n"
     ]
    },
    {
     "name": "stdout",
     "output_type": "stream",
     "text": [
      "epoch=55, train_acc_top1=0.9638, train_acc_top5=1.0000, train_loss=0.1133, test_top1=0.7917, test_top5=0.9735, test_loss=0.7720, max_test_acc=0.8371, total_time=18.0699, LR=0.00078516\n"
     ]
    },
    {
     "name": "stderr",
     "output_type": "stream",
     "text": [
      "100%|██████████| 90/90 [00:16<00:00,  5.43it/s]\n",
      "100%|██████████| 22/22 [00:01<00:00, 15.35it/s]\n"
     ]
    },
    {
     "name": "stdout",
     "output_type": "stream",
     "text": [
      "epoch=56, train_acc_top1=0.9499, train_acc_top5=1.0000, train_loss=0.1414, test_top1=0.7500, test_top5=0.9886, test_loss=0.8380, max_test_acc=0.8371, total_time=18.0286, LR=0.00078125\n"
     ]
    },
    {
     "name": "stderr",
     "output_type": "stream",
     "text": [
      "100%|██████████| 90/90 [00:16<00:00,  5.41it/s]\n",
      "100%|██████████| 22/22 [00:01<00:00, 15.32it/s]\n"
     ]
    },
    {
     "name": "stdout",
     "output_type": "stream",
     "text": [
      "epoch=57, train_acc_top1=0.9619, train_acc_top5=1.0000, train_loss=0.1186, test_top1=0.8182, test_top5=0.9811, test_loss=0.7437, max_test_acc=0.8371, total_time=18.0700, LR=0.00077734\n"
     ]
    },
    {
     "name": "stderr",
     "output_type": "stream",
     "text": [
      "100%|██████████| 90/90 [00:16<00:00,  5.43it/s]\n",
      "100%|██████████| 22/22 [00:01<00:00, 15.21it/s]\n"
     ]
    },
    {
     "name": "stdout",
     "output_type": "stream",
     "text": [
      "epoch=58, train_acc_top1=0.9703, train_acc_top5=0.9991, train_loss=0.1067, test_top1=0.8220, test_top5=0.9735, test_loss=0.8384, max_test_acc=0.8371, total_time=18.0236, LR=0.00077344\n"
     ]
    },
    {
     "name": "stderr",
     "output_type": "stream",
     "text": [
      "100%|██████████| 90/90 [00:16<00:00,  5.41it/s]\n",
      "100%|██████████| 22/22 [00:01<00:00, 15.12it/s]\n"
     ]
    },
    {
     "name": "stdout",
     "output_type": "stream",
     "text": [
      "epoch=59, train_acc_top1=0.9721, train_acc_top5=1.0000, train_loss=0.1003, test_top1=0.7992, test_top5=0.9773, test_loss=0.7864, max_test_acc=0.8371, total_time=18.1081, LR=0.00076953\n"
     ]
    },
    {
     "name": "stderr",
     "output_type": "stream",
     "text": [
      "100%|██████████| 90/90 [00:16<00:00,  5.38it/s]\n",
      "100%|██████████| 22/22 [00:01<00:00, 15.03it/s]\n"
     ]
    },
    {
     "name": "stdout",
     "output_type": "stream",
     "text": [
      "epoch=60, train_acc_top1=0.9777, train_acc_top5=0.9991, train_loss=0.0664, test_top1=0.8144, test_top5=0.9886, test_loss=1.0201, max_test_acc=0.8371, total_time=18.1911, LR=0.00076563\n"
     ]
    },
    {
     "name": "stderr",
     "output_type": "stream",
     "text": [
      "100%|██████████| 90/90 [00:16<00:00,  5.37it/s]\n",
      "100%|██████████| 22/22 [00:01<00:00, 14.95it/s]\n"
     ]
    },
    {
     "name": "stdout",
     "output_type": "stream",
     "text": [
      "epoch=61, train_acc_top1=0.9554, train_acc_top5=0.9944, train_loss=0.2376, test_top1=0.7652, test_top5=0.9659, test_loss=1.1249, max_test_acc=0.8371, total_time=18.2455, LR=0.00076172\n"
     ]
    },
    {
     "name": "stderr",
     "output_type": "stream",
     "text": [
      "100%|██████████| 90/90 [00:16<00:00,  5.38it/s]\n",
      "100%|██████████| 22/22 [00:01<00:00, 15.27it/s]\n"
     ]
    },
    {
     "name": "stdout",
     "output_type": "stream",
     "text": [
      "epoch=62, train_acc_top1=0.9619, train_acc_top5=1.0000, train_loss=0.1161, test_top1=0.7917, test_top5=0.9962, test_loss=0.7409, max_test_acc=0.8371, total_time=18.1630, LR=0.00075781\n"
     ]
    },
    {
     "name": "stderr",
     "output_type": "stream",
     "text": [
      "100%|██████████| 90/90 [00:16<00:00,  5.36it/s]\n",
      "100%|██████████| 22/22 [00:01<00:00, 15.04it/s]\n"
     ]
    },
    {
     "name": "stdout",
     "output_type": "stream",
     "text": [
      "epoch=63, train_acc_top1=0.9759, train_acc_top5=1.0000, train_loss=0.0891, test_top1=0.8220, test_top5=0.9583, test_loss=0.8641, max_test_acc=0.8371, total_time=18.2564, LR=0.00075391\n"
     ]
    },
    {
     "name": "stderr",
     "output_type": "stream",
     "text": [
      "100%|██████████| 90/90 [00:16<00:00,  5.39it/s]\n",
      "100%|██████████| 22/22 [00:01<00:00, 15.25it/s]\n"
     ]
    },
    {
     "name": "stdout",
     "output_type": "stream",
     "text": [
      "epoch=64, train_acc_top1=0.9805, train_acc_top5=1.0000, train_loss=0.0575, test_top1=0.7955, test_top5=0.9924, test_loss=0.8744, max_test_acc=0.8371, total_time=18.1354, LR=0.00075000\n"
     ]
    },
    {
     "name": "stderr",
     "output_type": "stream",
     "text": [
      "100%|██████████| 90/90 [00:16<00:00,  5.43it/s]\n",
      "100%|██████████| 22/22 [00:01<00:00, 15.22it/s]\n"
     ]
    },
    {
     "name": "stdout",
     "output_type": "stream",
     "text": [
      "epoch=65, train_acc_top1=0.9740, train_acc_top5=1.0000, train_loss=0.1034, test_top1=0.8144, test_top5=0.9886, test_loss=0.8954, max_test_acc=0.8371, total_time=18.0267, LR=0.00074609\n"
     ]
    },
    {
     "name": "stderr",
     "output_type": "stream",
     "text": [
      "100%|██████████| 90/90 [00:16<00:00,  5.42it/s]\n",
      "100%|██████████| 22/22 [00:01<00:00, 15.15it/s]\n"
     ]
    },
    {
     "name": "stdout",
     "output_type": "stream",
     "text": [
      "epoch=66, train_acc_top1=0.9786, train_acc_top5=1.0000, train_loss=0.0933, test_top1=0.7917, test_top5=0.9962, test_loss=1.0201, max_test_acc=0.8371, total_time=18.0583, LR=0.00074219\n"
     ]
    },
    {
     "name": "stderr",
     "output_type": "stream",
     "text": [
      "100%|██████████| 90/90 [00:16<00:00,  5.43it/s]\n",
      "100%|██████████| 22/22 [00:01<00:00, 15.21it/s]\n"
     ]
    },
    {
     "name": "stdout",
     "output_type": "stream",
     "text": [
      "epoch=67, train_acc_top1=0.9211, train_acc_top5=0.9935, train_loss=0.4883, test_top1=0.8106, test_top5=0.9848, test_loss=0.8010, max_test_acc=0.8371, total_time=18.0320, LR=0.00073828\n"
     ]
    },
    {
     "name": "stderr",
     "output_type": "stream",
     "text": [
      "100%|██████████| 90/90 [00:16<00:00,  5.38it/s]\n",
      "100%|██████████| 22/22 [00:01<00:00, 14.99it/s]\n"
     ]
    },
    {
     "name": "stdout",
     "output_type": "stream",
     "text": [
      "epoch=68, train_acc_top1=0.9582, train_acc_top5=0.9954, train_loss=0.1612, test_top1=0.8068, test_top5=0.9848, test_loss=0.8719, max_test_acc=0.8371, total_time=18.2039, LR=0.00073438\n"
     ]
    },
    {
     "name": "stderr",
     "output_type": "stream",
     "text": [
      "100%|██████████| 90/90 [00:16<00:00,  5.39it/s]\n",
      "100%|██████████| 22/22 [00:01<00:00, 15.10it/s]\n"
     ]
    },
    {
     "name": "stdout",
     "output_type": "stream",
     "text": [
      "epoch=69, train_acc_top1=0.9768, train_acc_top5=1.0000, train_loss=0.0615, test_top1=0.7765, test_top5=0.9886, test_loss=1.1555, max_test_acc=0.8371, total_time=18.1553, LR=0.00073047\n"
     ]
    },
    {
     "name": "stderr",
     "output_type": "stream",
     "text": [
      "100%|██████████| 90/90 [00:16<00:00,  5.38it/s]\n",
      "100%|██████████| 22/22 [00:01<00:00, 15.01it/s]\n"
     ]
    },
    {
     "name": "stdout",
     "output_type": "stream",
     "text": [
      "epoch=70, train_acc_top1=0.9796, train_acc_top5=1.0000, train_loss=0.0527, test_top1=0.7803, test_top5=1.0000, test_loss=1.1887, max_test_acc=0.8371, total_time=18.1935, LR=0.00072656\n"
     ]
    },
    {
     "name": "stderr",
     "output_type": "stream",
     "text": [
      "100%|██████████| 90/90 [00:16<00:00,  5.39it/s]\n",
      "100%|██████████| 22/22 [00:01<00:00, 15.24it/s]\n"
     ]
    },
    {
     "name": "stdout",
     "output_type": "stream",
     "text": [
      "epoch=71, train_acc_top1=0.9786, train_acc_top5=1.0000, train_loss=0.0640, test_top1=0.7803, test_top5=0.9848, test_loss=1.0217, max_test_acc=0.8371, total_time=18.1538, LR=0.00072266\n"
     ]
    },
    {
     "name": "stderr",
     "output_type": "stream",
     "text": [
      "100%|██████████| 90/90 [00:16<00:00,  5.38it/s]\n",
      "100%|██████████| 22/22 [00:01<00:00, 15.14it/s]\n"
     ]
    },
    {
     "name": "stdout",
     "output_type": "stream",
     "text": [
      "epoch=72, train_acc_top1=0.9656, train_acc_top5=1.0000, train_loss=0.0953, test_top1=0.7803, test_top5=0.9962, test_loss=1.0184, max_test_acc=0.8371, total_time=18.1914, LR=0.00071875\n"
     ]
    },
    {
     "name": "stderr",
     "output_type": "stream",
     "text": [
      "100%|██████████| 90/90 [00:16<00:00,  5.35it/s]\n",
      "100%|██████████| 22/22 [00:01<00:00, 15.26it/s]\n"
     ]
    },
    {
     "name": "stdout",
     "output_type": "stream",
     "text": [
      "epoch=73, train_acc_top1=0.9759, train_acc_top5=0.9991, train_loss=0.0747, test_top1=0.7992, test_top5=1.0000, test_loss=0.7981, max_test_acc=0.8371, total_time=18.2855, LR=0.00071484\n"
     ]
    },
    {
     "name": "stderr",
     "output_type": "stream",
     "text": [
      "100%|██████████| 90/90 [00:16<00:00,  5.43it/s]\n",
      "100%|██████████| 22/22 [00:01<00:00, 15.22it/s]\n"
     ]
    },
    {
     "name": "stdout",
     "output_type": "stream",
     "text": [
      "epoch=74, train_acc_top1=0.9814, train_acc_top5=1.0000, train_loss=0.0547, test_top1=0.8182, test_top5=0.9924, test_loss=0.8532, max_test_acc=0.8371, total_time=18.0404, LR=0.00071094\n"
     ]
    },
    {
     "name": "stderr",
     "output_type": "stream",
     "text": [
      "100%|██████████| 90/90 [00:16<00:00,  5.41it/s]\n",
      "100%|██████████| 22/22 [00:01<00:00, 15.29it/s]\n"
     ]
    },
    {
     "name": "stdout",
     "output_type": "stream",
     "text": [
      "epoch=75, train_acc_top1=0.9796, train_acc_top5=1.0000, train_loss=0.0662, test_top1=0.8220, test_top5=0.9924, test_loss=0.9232, max_test_acc=0.8371, total_time=18.0867, LR=0.00070703\n"
     ]
    },
    {
     "name": "stderr",
     "output_type": "stream",
     "text": [
      "100%|██████████| 90/90 [00:16<00:00,  5.43it/s]\n",
      "100%|██████████| 22/22 [00:01<00:00, 15.12it/s]\n"
     ]
    },
    {
     "name": "stdout",
     "output_type": "stream",
     "text": [
      "epoch=76, train_acc_top1=0.9898, train_acc_top5=1.0000, train_loss=0.0315, test_top1=0.8106, test_top5=0.9962, test_loss=0.8473, max_test_acc=0.8371, total_time=18.0339, LR=0.00070312\n"
     ]
    },
    {
     "name": "stderr",
     "output_type": "stream",
     "text": [
      "100%|██████████| 90/90 [00:16<00:00,  5.41it/s]\n",
      "100%|██████████| 22/22 [00:01<00:00, 14.98it/s]\n"
     ]
    },
    {
     "name": "stdout",
     "output_type": "stream",
     "text": [
      "epoch=77, train_acc_top1=0.9508, train_acc_top5=0.9926, train_loss=0.2285, test_top1=0.7992, test_top5=0.9962, test_loss=1.5901, max_test_acc=0.8371, total_time=18.1245, LR=0.00069922\n"
     ]
    },
    {
     "name": "stderr",
     "output_type": "stream",
     "text": [
      "100%|██████████| 90/90 [00:16<00:00,  5.38it/s]\n",
      "100%|██████████| 22/22 [00:01<00:00, 15.20it/s]\n"
     ]
    },
    {
     "name": "stdout",
     "output_type": "stream",
     "text": [
      "epoch=78, train_acc_top1=0.9666, train_acc_top5=1.0000, train_loss=0.1090, test_top1=0.8144, test_top5=1.0000, test_loss=0.7623, max_test_acc=0.8371, total_time=18.1778, LR=0.00069531\n"
     ]
    },
    {
     "name": "stderr",
     "output_type": "stream",
     "text": [
      "100%|██████████| 90/90 [00:16<00:00,  5.37it/s]\n",
      "100%|██████████| 22/22 [00:01<00:00, 14.93it/s]\n"
     ]
    },
    {
     "name": "stdout",
     "output_type": "stream",
     "text": [
      "epoch=79, train_acc_top1=0.9926, train_acc_top5=1.0000, train_loss=0.0248, test_top1=0.8068, test_top5=0.9962, test_loss=1.0680, max_test_acc=0.8371, total_time=18.2552, LR=0.00069141\n"
     ]
    },
    {
     "name": "stderr",
     "output_type": "stream",
     "text": [
      "100%|██████████| 90/90 [00:16<00:00,  5.34it/s]\n",
      "100%|██████████| 22/22 [00:01<00:00, 15.18it/s]\n"
     ]
    },
    {
     "name": "stdout",
     "output_type": "stream",
     "text": [
      "epoch=80, train_acc_top1=0.9851, train_acc_top5=1.0000, train_loss=0.0503, test_top1=0.7841, test_top5=0.9886, test_loss=1.2373, max_test_acc=0.8371, total_time=18.2955, LR=0.00068750\n"
     ]
    },
    {
     "name": "stderr",
     "output_type": "stream",
     "text": [
      "100%|██████████| 90/90 [00:16<00:00,  5.31it/s]\n",
      "100%|██████████| 22/22 [00:01<00:00, 15.23it/s]\n"
     ]
    },
    {
     "name": "stdout",
     "output_type": "stream",
     "text": [
      "epoch=81, train_acc_top1=0.9090, train_acc_top5=0.9851, train_loss=0.3533, test_top1=0.7538, test_top5=1.0000, test_loss=1.0446, max_test_acc=0.8371, total_time=18.3831, LR=0.00068359\n"
     ]
    },
    {
     "name": "stderr",
     "output_type": "stream",
     "text": [
      "100%|██████████| 90/90 [00:15<00:00,  5.97it/s]\n",
      "100%|██████████| 22/22 [00:01<00:00, 16.69it/s]\n"
     ]
    },
    {
     "name": "stdout",
     "output_type": "stream",
     "text": [
      "epoch=82, train_acc_top1=0.9740, train_acc_top5=1.0000, train_loss=0.0776, test_top1=0.7803, test_top5=0.9697, test_loss=1.0212, max_test_acc=0.8371, total_time=16.3936, LR=0.00067969\n"
     ]
    },
    {
     "name": "stderr",
     "output_type": "stream",
     "text": [
      "100%|██████████| 90/90 [00:15<00:00,  5.98it/s]\n",
      "100%|██████████| 22/22 [00:01<00:00, 16.65it/s]\n"
     ]
    },
    {
     "name": "stdout",
     "output_type": "stream",
     "text": [
      "epoch=83, train_acc_top1=0.9907, train_acc_top5=1.0000, train_loss=0.0384, test_top1=0.7992, test_top5=0.9924, test_loss=0.8626, max_test_acc=0.8371, total_time=16.3888, LR=0.00067578\n"
     ]
    },
    {
     "name": "stderr",
     "output_type": "stream",
     "text": [
      "100%|██████████| 90/90 [00:15<00:00,  5.98it/s]\n",
      "100%|██████████| 22/22 [00:01<00:00, 16.59it/s]\n"
     ]
    },
    {
     "name": "stdout",
     "output_type": "stream",
     "text": [
      "epoch=84, train_acc_top1=0.9898, train_acc_top5=1.0000, train_loss=0.0392, test_top1=0.8220, test_top5=0.9962, test_loss=1.0107, max_test_acc=0.8371, total_time=16.3881, LR=0.00067188\n"
     ]
    },
    {
     "name": "stderr",
     "output_type": "stream",
     "text": [
      "100%|██████████| 90/90 [00:15<00:00,  5.97it/s]\n",
      "100%|██████████| 22/22 [00:01<00:00, 16.63it/s]\n"
     ]
    },
    {
     "name": "stdout",
     "output_type": "stream",
     "text": [
      "epoch=85, train_acc_top1=0.9833, train_acc_top5=1.0000, train_loss=0.0538, test_top1=0.7765, test_top5=0.9924, test_loss=1.1792, max_test_acc=0.8371, total_time=16.4008, LR=0.00066797\n"
     ]
    },
    {
     "name": "stderr",
     "output_type": "stream",
     "text": [
      "100%|██████████| 90/90 [00:15<00:00,  5.98it/s]\n",
      "100%|██████████| 22/22 [00:01<00:00, 16.66it/s]\n"
     ]
    },
    {
     "name": "stdout",
     "output_type": "stream",
     "text": [
      "epoch=86, train_acc_top1=0.9508, train_acc_top5=0.9991, train_loss=0.2201, test_top1=0.8220, test_top5=0.9962, test_loss=0.7134, max_test_acc=0.8371, total_time=16.3839, LR=0.00066406\n"
     ]
    },
    {
     "name": "stderr",
     "output_type": "stream",
     "text": [
      "100%|██████████| 90/90 [00:15<00:00,  5.99it/s]\n",
      "100%|██████████| 22/22 [00:01<00:00, 16.61it/s]\n"
     ]
    },
    {
     "name": "stdout",
     "output_type": "stream",
     "text": [
      "epoch=87, train_acc_top1=0.9907, train_acc_top5=1.0000, train_loss=0.0300, test_top1=0.8068, test_top5=0.9962, test_loss=0.9883, max_test_acc=0.8371, total_time=16.3575, LR=0.00066016\n"
     ]
    },
    {
     "name": "stderr",
     "output_type": "stream",
     "text": [
      "100%|██████████| 90/90 [00:15<00:00,  5.98it/s]\n",
      "100%|██████████| 22/22 [00:01<00:00, 16.62it/s]\n"
     ]
    },
    {
     "name": "stdout",
     "output_type": "stream",
     "text": [
      "epoch=88, train_acc_top1=0.9889, train_acc_top5=1.0000, train_loss=0.0442, test_top1=0.7879, test_top5=0.9773, test_loss=1.1686, max_test_acc=0.8371, total_time=16.3904, LR=0.00065625\n"
     ]
    },
    {
     "name": "stderr",
     "output_type": "stream",
     "text": [
      "100%|██████████| 90/90 [00:14<00:00,  6.00it/s]\n",
      "100%|██████████| 22/22 [00:01<00:00, 15.34it/s]\n"
     ]
    },
    {
     "name": "stdout",
     "output_type": "stream",
     "text": [
      "epoch=89, train_acc_top1=0.9805, train_acc_top5=1.0000, train_loss=0.0480, test_top1=0.8220, test_top5=0.9886, test_loss=0.8081, max_test_acc=0.8371, total_time=16.4294, LR=0.00065234\n"
     ]
    },
    {
     "name": "stderr",
     "output_type": "stream",
     "text": [
      "100%|██████████| 90/90 [00:15<00:00,  5.97it/s]\n",
      "100%|██████████| 22/22 [00:01<00:00, 16.58it/s]\n"
     ]
    },
    {
     "name": "stdout",
     "output_type": "stream",
     "text": [
      "epoch=90, train_acc_top1=0.9963, train_acc_top5=1.0000, train_loss=0.0159, test_top1=0.8295, test_top5=1.0000, test_loss=0.8469, max_test_acc=0.8371, total_time=16.4003, LR=0.00064844\n"
     ]
    },
    {
     "name": "stderr",
     "output_type": "stream",
     "text": [
      "100%|██████████| 90/90 [00:15<00:00,  5.99it/s]\n",
      "100%|██████████| 22/22 [00:01<00:00, 16.57it/s]\n"
     ]
    },
    {
     "name": "stdout",
     "output_type": "stream",
     "text": [
      "epoch=91, train_acc_top1=0.9842, train_acc_top5=1.0000, train_loss=0.0437, test_top1=0.7955, test_top5=0.9848, test_loss=1.1214, max_test_acc=0.8371, total_time=16.3467, LR=0.00064453\n"
     ]
    },
    {
     "name": "stderr",
     "output_type": "stream",
     "text": [
      "100%|██████████| 90/90 [00:15<00:00,  5.98it/s]\n",
      "100%|██████████| 22/22 [00:01<00:00, 16.67it/s]\n"
     ]
    },
    {
     "name": "stdout",
     "output_type": "stream",
     "text": [
      "epoch=92, train_acc_top1=0.9954, train_acc_top5=1.0000, train_loss=0.0203, test_top1=0.7992, test_top5=0.9962, test_loss=0.9527, max_test_acc=0.8371, total_time=16.3669, LR=0.00064063\n"
     ]
    },
    {
     "name": "stderr",
     "output_type": "stream",
     "text": [
      "100%|██████████| 90/90 [00:15<00:00,  5.98it/s]\n",
      "100%|██████████| 22/22 [00:01<00:00, 16.42it/s]\n"
     ]
    },
    {
     "name": "stdout",
     "output_type": "stream",
     "text": [
      "epoch=93, train_acc_top1=0.9907, train_acc_top5=1.0000, train_loss=0.0285, test_top1=0.7917, test_top5=0.9773, test_loss=1.2527, max_test_acc=0.8371, total_time=16.3954, LR=0.00063672\n"
     ]
    },
    {
     "name": "stderr",
     "output_type": "stream",
     "text": [
      "100%|██████████| 90/90 [00:15<00:00,  6.00it/s]\n",
      "100%|██████████| 22/22 [00:01<00:00, 16.66it/s]\n"
     ]
    },
    {
     "name": "stdout",
     "output_type": "stream",
     "text": [
      "epoch=94, train_acc_top1=0.9879, train_acc_top5=1.0000, train_loss=0.0425, test_top1=0.8068, test_top5=0.9886, test_loss=0.9247, max_test_acc=0.8371, total_time=16.3341, LR=0.00063281\n"
     ]
    },
    {
     "name": "stderr",
     "output_type": "stream",
     "text": [
      "100%|██████████| 90/90 [00:15<00:00,  5.99it/s]\n",
      "100%|██████████| 22/22 [00:01<00:00, 16.71it/s]\n"
     ]
    },
    {
     "name": "stdout",
     "output_type": "stream",
     "text": [
      "epoch=95, train_acc_top1=0.9833, train_acc_top5=0.9991, train_loss=0.0698, test_top1=0.7917, test_top5=0.9924, test_loss=0.8551, max_test_acc=0.8371, total_time=16.3490, LR=0.00062891\n"
     ]
    },
    {
     "name": "stderr",
     "output_type": "stream",
     "text": [
      "100%|██████████| 90/90 [00:15<00:00,  5.97it/s]\n",
      "100%|██████████| 22/22 [00:01<00:00, 16.50it/s]\n"
     ]
    },
    {
     "name": "stdout",
     "output_type": "stream",
     "text": [
      "epoch=96, train_acc_top1=0.9814, train_acc_top5=1.0000, train_loss=0.0636, test_top1=0.8068, test_top5=0.9924, test_loss=0.8982, max_test_acc=0.8371, total_time=16.4202, LR=0.00062500\n"
     ]
    },
    {
     "name": "stderr",
     "output_type": "stream",
     "text": [
      "100%|██████████| 90/90 [00:14<00:00,  6.00it/s]\n",
      "100%|██████████| 22/22 [00:01<00:00, 16.59it/s]\n"
     ]
    },
    {
     "name": "stdout",
     "output_type": "stream",
     "text": [
      "epoch=97, train_acc_top1=0.9824, train_acc_top5=1.0000, train_loss=0.0492, test_top1=0.7992, test_top5=0.9848, test_loss=0.9942, max_test_acc=0.8371, total_time=16.3270, LR=0.00062109\n"
     ]
    },
    {
     "name": "stderr",
     "output_type": "stream",
     "text": [
      "100%|██████████| 90/90 [00:15<00:00,  5.99it/s]\n",
      "100%|██████████| 22/22 [00:01<00:00, 16.64it/s]\n"
     ]
    },
    {
     "name": "stdout",
     "output_type": "stream",
     "text": [
      "epoch=98, train_acc_top1=0.9879, train_acc_top5=1.0000, train_loss=0.0284, test_top1=0.8068, test_top5=0.9962, test_loss=0.8588, max_test_acc=0.8371, total_time=16.3496, LR=0.00061719\n"
     ]
    },
    {
     "name": "stderr",
     "output_type": "stream",
     "text": [
      "100%|██████████| 90/90 [00:15<00:00,  6.00it/s]\n",
      "100%|██████████| 22/22 [00:01<00:00, 16.70it/s]\n"
     ]
    },
    {
     "name": "stdout",
     "output_type": "stream",
     "text": [
      "epoch=99, train_acc_top1=0.9879, train_acc_top5=1.0000, train_loss=0.0458, test_top1=0.7917, test_top5=1.0000, test_loss=1.1460, max_test_acc=0.8371, total_time=16.3265, LR=0.00061328\n"
     ]
    },
    {
     "name": "stderr",
     "output_type": "stream",
     "text": [
      "100%|██████████| 90/90 [00:15<00:00,  6.00it/s]\n",
      "100%|██████████| 22/22 [00:01<00:00, 16.70it/s]\n"
     ]
    },
    {
     "name": "stdout",
     "output_type": "stream",
     "text": [
      "epoch=100, train_acc_top1=0.9071, train_acc_top5=0.9786, train_loss=0.6272, test_top1=0.8068, test_top5=1.0000, test_loss=0.7115, max_test_acc=0.8371, total_time=16.3294, LR=0.00060937\n"
     ]
    },
    {
     "name": "stderr",
     "output_type": "stream",
     "text": [
      "100%|██████████| 90/90 [00:15<00:00,  5.98it/s]\n",
      "100%|██████████| 22/22 [00:01<00:00, 16.65it/s]\n"
     ]
    },
    {
     "name": "stdout",
     "output_type": "stream",
     "text": [
      "epoch=101, train_acc_top1=0.9601, train_acc_top5=0.9991, train_loss=0.1177, test_top1=0.8258, test_top5=0.9773, test_loss=0.8997, max_test_acc=0.8371, total_time=16.3712, LR=0.00060547\n"
     ]
    },
    {
     "name": "stderr",
     "output_type": "stream",
     "text": [
      "100%|██████████| 90/90 [00:15<00:00,  5.99it/s]\n",
      "100%|██████████| 22/22 [00:01<00:00, 16.75it/s]\n"
     ]
    },
    {
     "name": "stdout",
     "output_type": "stream",
     "text": [
      "epoch=102, train_acc_top1=0.9898, train_acc_top5=1.0000, train_loss=0.0356, test_top1=0.7955, test_top5=0.9773, test_loss=1.4076, max_test_acc=0.8371, total_time=16.3388, LR=0.00060156\n"
     ]
    },
    {
     "name": "stderr",
     "output_type": "stream",
     "text": [
      "100%|██████████| 90/90 [00:15<00:00,  6.00it/s]\n",
      "100%|██████████| 22/22 [00:01<00:00, 16.64it/s]\n"
     ]
    },
    {
     "name": "stdout",
     "output_type": "stream",
     "text": [
      "epoch=103, train_acc_top1=0.9842, train_acc_top5=1.0000, train_loss=0.0454, test_top1=0.8485, test_top5=0.9962, test_loss=0.8265, max_test_acc=0.8485, total_time=16.5169, LR=0.00059766\n"
     ]
    },
    {
     "name": "stderr",
     "output_type": "stream",
     "text": [
      "100%|██████████| 90/90 [00:15<00:00,  6.00it/s]\n",
      "100%|██████████| 22/22 [00:01<00:00, 16.54it/s]\n"
     ]
    },
    {
     "name": "stdout",
     "output_type": "stream",
     "text": [
      "epoch=104, train_acc_top1=0.9907, train_acc_top5=1.0000, train_loss=0.0274, test_top1=0.8144, test_top5=0.9962, test_loss=1.0237, max_test_acc=0.8485, total_time=16.3443, LR=0.00059375\n"
     ]
    },
    {
     "name": "stderr",
     "output_type": "stream",
     "text": [
      "100%|██████████| 90/90 [00:15<00:00,  5.97it/s]\n",
      "100%|██████████| 22/22 [00:01<00:00, 16.60it/s]\n"
     ]
    },
    {
     "name": "stdout",
     "output_type": "stream",
     "text": [
      "epoch=105, train_acc_top1=0.9926, train_acc_top5=1.0000, train_loss=0.0392, test_top1=0.8068, test_top5=0.9924, test_loss=0.9540, max_test_acc=0.8485, total_time=16.3958, LR=0.00058984\n"
     ]
    },
    {
     "name": "stderr",
     "output_type": "stream",
     "text": [
      "100%|██████████| 90/90 [00:14<00:00,  6.00it/s]\n",
      "100%|██████████| 22/22 [00:01<00:00, 16.70it/s]\n"
     ]
    },
    {
     "name": "stdout",
     "output_type": "stream",
     "text": [
      "epoch=106, train_acc_top1=0.9954, train_acc_top5=1.0000, train_loss=0.0196, test_top1=0.8409, test_top5=1.0000, test_loss=0.9158, max_test_acc=0.8485, total_time=16.3113, LR=0.00058594\n"
     ]
    },
    {
     "name": "stderr",
     "output_type": "stream",
     "text": [
      "100%|██████████| 90/90 [00:15<00:00,  5.99it/s]\n",
      "100%|██████████| 22/22 [00:01<00:00, 16.70it/s]\n"
     ]
    },
    {
     "name": "stdout",
     "output_type": "stream",
     "text": [
      "epoch=107, train_acc_top1=0.9944, train_acc_top5=1.0000, train_loss=0.0204, test_top1=0.7955, test_top5=0.9811, test_loss=1.1371, max_test_acc=0.8485, total_time=16.3488, LR=0.00058203\n"
     ]
    },
    {
     "name": "stderr",
     "output_type": "stream",
     "text": [
      "100%|██████████| 90/90 [00:15<00:00,  5.99it/s]\n",
      "100%|██████████| 22/22 [00:01<00:00, 16.62it/s]\n"
     ]
    },
    {
     "name": "stdout",
     "output_type": "stream",
     "text": [
      "epoch=108, train_acc_top1=0.9647, train_acc_top5=0.9991, train_loss=0.2291, test_top1=0.7348, test_top5=0.9735, test_loss=1.2297, max_test_acc=0.8485, total_time=16.3445, LR=0.00057812\n"
     ]
    },
    {
     "name": "stderr",
     "output_type": "stream",
     "text": [
      "100%|██████████| 90/90 [00:15<00:00,  5.99it/s]\n",
      "100%|██████████| 22/22 [00:01<00:00, 16.75it/s]\n"
     ]
    },
    {
     "name": "stdout",
     "output_type": "stream",
     "text": [
      "epoch=109, train_acc_top1=0.9331, train_acc_top5=0.9991, train_loss=0.2414, test_top1=0.7879, test_top5=0.9962, test_loss=0.7811, max_test_acc=0.8485, total_time=16.3503, LR=0.00057422\n"
     ]
    },
    {
     "name": "stderr",
     "output_type": "stream",
     "text": [
      "100%|██████████| 90/90 [00:15<00:00,  6.00it/s]\n",
      "100%|██████████| 22/22 [00:01<00:00, 16.68it/s]\n"
     ]
    },
    {
     "name": "stdout",
     "output_type": "stream",
     "text": [
      "epoch=110, train_acc_top1=0.9833, train_acc_top5=0.9991, train_loss=0.0638, test_top1=0.7841, test_top5=0.9773, test_loss=1.1669, max_test_acc=0.8485, total_time=16.3368, LR=0.00057031\n"
     ]
    },
    {
     "name": "stderr",
     "output_type": "stream",
     "text": [
      "100%|██████████| 90/90 [00:15<00:00,  5.98it/s]\n",
      "100%|██████████| 22/22 [00:01<00:00, 16.63it/s]\n"
     ]
    },
    {
     "name": "stdout",
     "output_type": "stream",
     "text": [
      "epoch=111, train_acc_top1=0.9870, train_acc_top5=1.0000, train_loss=0.0508, test_top1=0.8106, test_top5=1.0000, test_loss=0.8243, max_test_acc=0.8485, total_time=16.3768, LR=0.00056641\n"
     ]
    },
    {
     "name": "stderr",
     "output_type": "stream",
     "text": [
      "100%|██████████| 90/90 [00:14<00:00,  6.00it/s]\n",
      "100%|██████████| 22/22 [00:01<00:00, 16.55it/s]\n"
     ]
    },
    {
     "name": "stdout",
     "output_type": "stream",
     "text": [
      "epoch=112, train_acc_top1=1.0000, train_acc_top5=1.0000, train_loss=0.0018, test_top1=0.8371, test_top5=1.0000, test_loss=0.8021, max_test_acc=0.8485, total_time=16.3298, LR=0.00056250\n"
     ]
    },
    {
     "name": "stderr",
     "output_type": "stream",
     "text": [
      "100%|██████████| 90/90 [00:15<00:00,  5.98it/s]\n",
      "100%|██████████| 22/22 [00:01<00:00, 16.67it/s]\n"
     ]
    },
    {
     "name": "stdout",
     "output_type": "stream",
     "text": [
      "epoch=113, train_acc_top1=1.0000, train_acc_top5=1.0000, train_loss=0.0011, test_top1=0.8409, test_top5=0.9924, test_loss=0.8289, max_test_acc=0.8485, total_time=16.3819, LR=0.00055859\n"
     ]
    },
    {
     "name": "stderr",
     "output_type": "stream",
     "text": [
      "100%|██████████| 90/90 [00:15<00:00,  5.99it/s]\n",
      "100%|██████████| 22/22 [00:01<00:00, 16.64it/s]\n"
     ]
    },
    {
     "name": "stdout",
     "output_type": "stream",
     "text": [
      "epoch=114, train_acc_top1=1.0000, train_acc_top5=1.0000, train_loss=0.0003, test_top1=0.8371, test_top5=0.9962, test_loss=0.8380, max_test_acc=0.8485, total_time=16.3524, LR=0.00055469\n"
     ]
    },
    {
     "name": "stderr",
     "output_type": "stream",
     "text": [
      "100%|██████████| 90/90 [00:15<00:00,  5.99it/s]\n",
      "100%|██████████| 22/22 [00:01<00:00, 16.72it/s]\n"
     ]
    },
    {
     "name": "stdout",
     "output_type": "stream",
     "text": [
      "epoch=115, train_acc_top1=1.0000, train_acc_top5=1.0000, train_loss=0.0002, test_top1=0.8333, test_top5=1.0000, test_loss=0.8311, max_test_acc=0.8485, total_time=16.3374, LR=0.00055078\n"
     ]
    },
    {
     "name": "stderr",
     "output_type": "stream",
     "text": [
      "100%|██████████| 90/90 [00:15<00:00,  6.00it/s]\n",
      "100%|██████████| 22/22 [00:01<00:00, 16.56it/s]\n"
     ]
    },
    {
     "name": "stdout",
     "output_type": "stream",
     "text": [
      "epoch=116, train_acc_top1=1.0000, train_acc_top5=1.0000, train_loss=0.0002, test_top1=0.8295, test_top5=0.9962, test_loss=0.8258, max_test_acc=0.8485, total_time=16.3391, LR=0.00054688\n"
     ]
    },
    {
     "name": "stderr",
     "output_type": "stream",
     "text": [
      "100%|██████████| 90/90 [00:15<00:00,  5.99it/s]\n",
      "100%|██████████| 22/22 [00:01<00:00, 16.68it/s]\n"
     ]
    },
    {
     "name": "stdout",
     "output_type": "stream",
     "text": [
      "epoch=117, train_acc_top1=1.0000, train_acc_top5=1.0000, train_loss=0.0002, test_top1=0.8333, test_top5=0.9962, test_loss=0.8045, max_test_acc=0.8485, total_time=16.3486, LR=0.00054297\n"
     ]
    },
    {
     "name": "stderr",
     "output_type": "stream",
     "text": [
      "100%|██████████| 90/90 [00:15<00:00,  5.99it/s]\n",
      "100%|██████████| 22/22 [00:01<00:00, 16.58it/s]\n"
     ]
    },
    {
     "name": "stdout",
     "output_type": "stream",
     "text": [
      "epoch=118, train_acc_top1=1.0000, train_acc_top5=1.0000, train_loss=0.0002, test_top1=0.8182, test_top5=1.0000, test_loss=0.8459, max_test_acc=0.8485, total_time=16.3660, LR=0.00053906\n"
     ]
    },
    {
     "name": "stderr",
     "output_type": "stream",
     "text": [
      "100%|██████████| 90/90 [00:15<00:00,  5.99it/s]\n",
      "100%|██████████| 22/22 [00:01<00:00, 16.68it/s]\n"
     ]
    },
    {
     "name": "stdout",
     "output_type": "stream",
     "text": [
      "epoch=119, train_acc_top1=1.0000, train_acc_top5=1.0000, train_loss=0.0001, test_top1=0.8258, test_top5=0.9962, test_loss=0.8624, max_test_acc=0.8485, total_time=16.3414, LR=0.00053516\n"
     ]
    },
    {
     "name": "stderr",
     "output_type": "stream",
     "text": [
      "100%|██████████| 90/90 [00:15<00:00,  5.97it/s]\n",
      "100%|██████████| 22/22 [00:01<00:00, 16.62it/s]\n"
     ]
    },
    {
     "name": "stdout",
     "output_type": "stream",
     "text": [
      "epoch=120, train_acc_top1=1.0000, train_acc_top5=1.0000, train_loss=0.0001, test_top1=0.8295, test_top5=0.9962, test_loss=0.8038, max_test_acc=0.8485, total_time=16.3953, LR=0.00053125\n"
     ]
    },
    {
     "name": "stderr",
     "output_type": "stream",
     "text": [
      "100%|██████████| 90/90 [00:15<00:00,  6.00it/s]\n",
      "100%|██████████| 22/22 [00:01<00:00, 16.66it/s]\n"
     ]
    },
    {
     "name": "stdout",
     "output_type": "stream",
     "text": [
      "epoch=121, train_acc_top1=1.0000, train_acc_top5=1.0000, train_loss=0.0001, test_top1=0.8447, test_top5=0.9962, test_loss=0.8578, max_test_acc=0.8485, total_time=16.3266, LR=0.00052734\n"
     ]
    },
    {
     "name": "stderr",
     "output_type": "stream",
     "text": [
      "100%|██████████| 90/90 [00:15<00:00,  5.98it/s]\n",
      "100%|██████████| 22/22 [00:01<00:00, 16.64it/s]\n"
     ]
    },
    {
     "name": "stdout",
     "output_type": "stream",
     "text": [
      "epoch=122, train_acc_top1=1.0000, train_acc_top5=1.0000, train_loss=0.0001, test_top1=0.8295, test_top5=1.0000, test_loss=0.8663, max_test_acc=0.8485, total_time=16.3783, LR=0.00052344\n"
     ]
    },
    {
     "name": "stderr",
     "output_type": "stream",
     "text": [
      "100%|██████████| 90/90 [00:15<00:00,  5.98it/s]\n",
      "100%|██████████| 22/22 [00:01<00:00, 16.67it/s]\n"
     ]
    },
    {
     "name": "stdout",
     "output_type": "stream",
     "text": [
      "epoch=123, train_acc_top1=1.0000, train_acc_top5=1.0000, train_loss=0.0001, test_top1=0.8371, test_top5=1.0000, test_loss=0.8790, max_test_acc=0.8485, total_time=16.3867, LR=0.00051953\n"
     ]
    },
    {
     "name": "stderr",
     "output_type": "stream",
     "text": [
      "100%|██████████| 90/90 [00:15<00:00,  6.00it/s]\n",
      "100%|██████████| 22/22 [00:01<00:00, 16.77it/s]\n"
     ]
    },
    {
     "name": "stdout",
     "output_type": "stream",
     "text": [
      "epoch=124, train_acc_top1=1.0000, train_acc_top5=1.0000, train_loss=0.0002, test_top1=0.8371, test_top5=0.9962, test_loss=0.8911, max_test_acc=0.8485, total_time=16.3219, LR=0.00051563\n"
     ]
    },
    {
     "name": "stderr",
     "output_type": "stream",
     "text": [
      "100%|██████████| 90/90 [00:15<00:00,  5.99it/s]\n",
      "100%|██████████| 22/22 [00:01<00:00, 16.61it/s]\n"
     ]
    },
    {
     "name": "stdout",
     "output_type": "stream",
     "text": [
      "epoch=125, train_acc_top1=1.0000, train_acc_top5=1.0000, train_loss=0.0001, test_top1=0.8220, test_top5=1.0000, test_loss=0.9322, max_test_acc=0.8485, total_time=16.3550, LR=0.00051172\n"
     ]
    },
    {
     "name": "stderr",
     "output_type": "stream",
     "text": [
      "100%|██████████| 90/90 [00:15<00:00,  5.99it/s]\n",
      "100%|██████████| 22/22 [00:01<00:00, 16.68it/s]\n"
     ]
    },
    {
     "name": "stdout",
     "output_type": "stream",
     "text": [
      "epoch=126, train_acc_top1=1.0000, train_acc_top5=1.0000, train_loss=0.0001, test_top1=0.8371, test_top5=1.0000, test_loss=0.9640, max_test_acc=0.8485, total_time=16.3553, LR=0.00050781\n"
     ]
    },
    {
     "name": "stderr",
     "output_type": "stream",
     "text": [
      "100%|██████████| 90/90 [00:15<00:00,  5.98it/s]\n",
      "100%|██████████| 22/22 [00:01<00:00, 16.60it/s]\n"
     ]
    },
    {
     "name": "stdout",
     "output_type": "stream",
     "text": [
      "epoch=127, train_acc_top1=1.0000, train_acc_top5=1.0000, train_loss=0.0001, test_top1=0.8409, test_top5=1.0000, test_loss=0.8865, max_test_acc=0.8485, total_time=16.3889, LR=0.00050391\n"
     ]
    },
    {
     "name": "stderr",
     "output_type": "stream",
     "text": [
      "100%|██████████| 90/90 [00:15<00:00,  6.00it/s]\n",
      "100%|██████████| 22/22 [00:01<00:00, 16.69it/s]\n"
     ]
    },
    {
     "name": "stdout",
     "output_type": "stream",
     "text": [
      "epoch=128, train_acc_top1=1.0000, train_acc_top5=1.0000, train_loss=0.0001, test_top1=0.8409, test_top5=0.9962, test_loss=0.9575, max_test_acc=0.8485, total_time=16.3333, LR=0.00050000\n"
     ]
    },
    {
     "name": "stderr",
     "output_type": "stream",
     "text": [
      "100%|██████████| 90/90 [00:15<00:00,  6.00it/s]\n",
      "100%|██████████| 22/22 [00:01<00:00, 16.56it/s]\n"
     ]
    },
    {
     "name": "stdout",
     "output_type": "stream",
     "text": [
      "epoch=129, train_acc_top1=1.0000, train_acc_top5=1.0000, train_loss=0.0001, test_top1=0.8333, test_top5=1.0000, test_loss=0.9862, max_test_acc=0.8485, total_time=16.3365, LR=0.00049609\n"
     ]
    },
    {
     "name": "stderr",
     "output_type": "stream",
     "text": [
      "100%|██████████| 90/90 [00:15<00:00,  5.98it/s]\n",
      "100%|██████████| 22/22 [00:01<00:00, 16.66it/s]\n"
     ]
    },
    {
     "name": "stdout",
     "output_type": "stream",
     "text": [
      "epoch=130, train_acc_top1=1.0000, train_acc_top5=1.0000, train_loss=0.0001, test_top1=0.8333, test_top5=0.9962, test_loss=1.0128, max_test_acc=0.8485, total_time=16.3761, LR=0.00049219\n"
     ]
    },
    {
     "name": "stderr",
     "output_type": "stream",
     "text": [
      "100%|██████████| 90/90 [00:15<00:00,  5.98it/s]\n",
      "100%|██████████| 22/22 [00:01<00:00, 16.43it/s]\n"
     ]
    },
    {
     "name": "stdout",
     "output_type": "stream",
     "text": [
      "epoch=131, train_acc_top1=1.0000, train_acc_top5=1.0000, train_loss=0.0001, test_top1=0.8409, test_top5=1.0000, test_loss=0.9485, max_test_acc=0.8485, total_time=16.3955, LR=0.00048828\n"
     ]
    },
    {
     "name": "stderr",
     "output_type": "stream",
     "text": [
      "100%|██████████| 90/90 [00:15<00:00,  5.99it/s]\n",
      "100%|██████████| 22/22 [00:01<00:00, 16.59it/s]\n"
     ]
    },
    {
     "name": "stdout",
     "output_type": "stream",
     "text": [
      "epoch=132, train_acc_top1=1.0000, train_acc_top5=1.0000, train_loss=0.0001, test_top1=0.8409, test_top5=1.0000, test_loss=0.9689, max_test_acc=0.8485, total_time=16.3615, LR=0.00048437\n"
     ]
    },
    {
     "name": "stderr",
     "output_type": "stream",
     "text": [
      "100%|██████████| 90/90 [00:15<00:00,  5.97it/s]\n",
      "100%|██████████| 22/22 [00:01<00:00, 16.62it/s]\n"
     ]
    },
    {
     "name": "stdout",
     "output_type": "stream",
     "text": [
      "epoch=133, train_acc_top1=1.0000, train_acc_top5=1.0000, train_loss=0.0001, test_top1=0.8333, test_top5=1.0000, test_loss=0.9742, max_test_acc=0.8485, total_time=16.4009, LR=0.00048047\n"
     ]
    },
    {
     "name": "stderr",
     "output_type": "stream",
     "text": [
      "100%|██████████| 90/90 [00:15<00:00,  5.98it/s]\n",
      "100%|██████████| 22/22 [00:01<00:00, 16.62it/s]\n"
     ]
    },
    {
     "name": "stdout",
     "output_type": "stream",
     "text": [
      "epoch=134, train_acc_top1=1.0000, train_acc_top5=1.0000, train_loss=0.0001, test_top1=0.8295, test_top5=1.0000, test_loss=0.9930, max_test_acc=0.8485, total_time=16.3831, LR=0.00047656\n"
     ]
    },
    {
     "name": "stderr",
     "output_type": "stream",
     "text": [
      "100%|██████████| 90/90 [00:15<00:00,  5.99it/s]\n",
      "100%|██████████| 22/22 [00:01<00:00, 16.60it/s]\n"
     ]
    },
    {
     "name": "stdout",
     "output_type": "stream",
     "text": [
      "epoch=135, train_acc_top1=0.9006, train_acc_top5=0.9935, train_loss=0.3852, test_top1=0.7348, test_top5=0.9773, test_loss=1.1541, max_test_acc=0.8485, total_time=16.3527, LR=0.00047266\n"
     ]
    },
    {
     "name": "stderr",
     "output_type": "stream",
     "text": [
      "100%|██████████| 90/90 [00:15<00:00,  5.98it/s]\n",
      "100%|██████████| 22/22 [00:01<00:00, 16.57it/s]\n"
     ]
    },
    {
     "name": "stdout",
     "output_type": "stream",
     "text": [
      "epoch=136, train_acc_top1=0.8626, train_acc_top5=0.9972, train_loss=0.4329, test_top1=0.6553, test_top5=0.9886, test_loss=1.5578, max_test_acc=0.8485, total_time=16.3848, LR=0.00046875\n"
     ]
    },
    {
     "name": "stderr",
     "output_type": "stream",
     "text": [
      "100%|██████████| 90/90 [00:15<00:00,  5.98it/s]\n",
      "100%|██████████| 22/22 [00:01<00:00, 16.59it/s]\n"
     ]
    },
    {
     "name": "stdout",
     "output_type": "stream",
     "text": [
      "epoch=137, train_acc_top1=0.8812, train_acc_top5=0.9991, train_loss=0.3479, test_top1=0.7348, test_top5=0.9659, test_loss=1.2885, max_test_acc=0.8485, total_time=16.3824, LR=0.00046484\n"
     ]
    },
    {
     "name": "stderr",
     "output_type": "stream",
     "text": [
      "100%|██████████| 90/90 [00:15<00:00,  5.99it/s]\n",
      "100%|██████████| 22/22 [00:01<00:00, 16.70it/s]\n"
     ]
    },
    {
     "name": "stdout",
     "output_type": "stream",
     "text": [
      "epoch=138, train_acc_top1=0.9164, train_acc_top5=1.0000, train_loss=0.2572, test_top1=0.7765, test_top5=0.9886, test_loss=0.9636, max_test_acc=0.8485, total_time=16.3437, LR=0.00046094\n"
     ]
    },
    {
     "name": "stderr",
     "output_type": "stream",
     "text": [
      "100%|██████████| 90/90 [00:15<00:00,  5.98it/s]\n",
      "100%|██████████| 22/22 [00:01<00:00, 16.71it/s]\n"
     ]
    },
    {
     "name": "stdout",
     "output_type": "stream",
     "text": [
      "epoch=139, train_acc_top1=0.9415, train_acc_top5=0.9981, train_loss=0.1764, test_top1=0.7159, test_top5=0.9470, test_loss=1.3553, max_test_acc=0.8485, total_time=16.3780, LR=0.00045703\n"
     ]
    },
    {
     "name": "stderr",
     "output_type": "stream",
     "text": [
      "100%|██████████| 90/90 [00:15<00:00,  5.99it/s]\n",
      "100%|██████████| 22/22 [00:01<00:00, 16.49it/s]\n"
     ]
    },
    {
     "name": "stdout",
     "output_type": "stream",
     "text": [
      "epoch=140, train_acc_top1=0.9610, train_acc_top5=1.0000, train_loss=0.1319, test_top1=0.7992, test_top5=0.9886, test_loss=0.8479, max_test_acc=0.8485, total_time=16.3633, LR=0.00045313\n"
     ]
    },
    {
     "name": "stderr",
     "output_type": "stream",
     "text": [
      "100%|██████████| 90/90 [00:15<00:00,  5.99it/s]\n",
      "100%|██████████| 22/22 [00:01<00:00, 16.60it/s]\n"
     ]
    },
    {
     "name": "stdout",
     "output_type": "stream",
     "text": [
      "epoch=141, train_acc_top1=0.9591, train_acc_top5=1.0000, train_loss=0.1075, test_top1=0.8409, test_top5=1.0000, test_loss=0.7803, max_test_acc=0.8485, total_time=16.3459, LR=0.00044922\n"
     ]
    },
    {
     "name": "stderr",
     "output_type": "stream",
     "text": [
      "100%|██████████| 90/90 [00:15<00:00,  5.98it/s]\n",
      "100%|██████████| 22/22 [00:01<00:00, 16.73it/s]\n"
     ]
    },
    {
     "name": "stdout",
     "output_type": "stream",
     "text": [
      "epoch=142, train_acc_top1=0.9796, train_acc_top5=1.0000, train_loss=0.0584, test_top1=0.7879, test_top5=0.9924, test_loss=1.0850, max_test_acc=0.8485, total_time=16.3727, LR=0.00044531\n"
     ]
    },
    {
     "name": "stderr",
     "output_type": "stream",
     "text": [
      "100%|██████████| 90/90 [00:15<00:00,  6.00it/s]\n",
      "100%|██████████| 22/22 [00:01<00:00, 16.67it/s]\n"
     ]
    },
    {
     "name": "stdout",
     "output_type": "stream",
     "text": [
      "epoch=143, train_acc_top1=0.9842, train_acc_top5=1.0000, train_loss=0.0670, test_top1=0.7727, test_top5=0.9924, test_loss=0.9627, max_test_acc=0.8485, total_time=16.3305, LR=0.00044141\n"
     ]
    },
    {
     "name": "stderr",
     "output_type": "stream",
     "text": [
      "100%|██████████| 90/90 [00:15<00:00,  5.99it/s]\n",
      "100%|██████████| 22/22 [00:01<00:00, 16.62it/s]\n"
     ]
    },
    {
     "name": "stdout",
     "output_type": "stream",
     "text": [
      "epoch=144, train_acc_top1=0.9898, train_acc_top5=1.0000, train_loss=0.0383, test_top1=0.8220, test_top5=0.9924, test_loss=1.0162, max_test_acc=0.8485, total_time=16.3578, LR=0.00043750\n"
     ]
    },
    {
     "name": "stderr",
     "output_type": "stream",
     "text": [
      "100%|██████████| 90/90 [00:15<00:00,  6.00it/s]\n",
      "100%|██████████| 22/22 [00:01<00:00, 16.61it/s]\n"
     ]
    },
    {
     "name": "stdout",
     "output_type": "stream",
     "text": [
      "epoch=145, train_acc_top1=0.9935, train_acc_top5=1.0000, train_loss=0.0274, test_top1=0.8333, test_top5=0.9962, test_loss=0.9491, max_test_acc=0.8485, total_time=16.3378, LR=0.00043359\n"
     ]
    },
    {
     "name": "stderr",
     "output_type": "stream",
     "text": [
      "100%|██████████| 90/90 [00:15<00:00,  6.00it/s]\n",
      "100%|██████████| 22/22 [00:01<00:00, 16.69it/s]\n"
     ]
    },
    {
     "name": "stdout",
     "output_type": "stream",
     "text": [
      "epoch=146, train_acc_top1=0.9944, train_acc_top5=1.0000, train_loss=0.0237, test_top1=0.8220, test_top5=0.9886, test_loss=0.7990, max_test_acc=0.8485, total_time=16.3310, LR=0.00042969\n"
     ]
    },
    {
     "name": "stderr",
     "output_type": "stream",
     "text": [
      "100%|██████████| 90/90 [00:15<00:00,  5.99it/s]\n",
      "100%|██████████| 22/22 [00:01<00:00, 16.73it/s]\n"
     ]
    },
    {
     "name": "stdout",
     "output_type": "stream",
     "text": [
      "epoch=147, train_acc_top1=0.9164, train_acc_top5=0.9851, train_loss=0.9819, test_top1=0.8030, test_top5=0.9848, test_loss=0.7824, max_test_acc=0.8485, total_time=16.3492, LR=0.00042578\n"
     ]
    },
    {
     "name": "stderr",
     "output_type": "stream",
     "text": [
      "100%|██████████| 90/90 [00:15<00:00,  5.98it/s]\n",
      "100%|██████████| 22/22 [00:01<00:00, 16.42it/s]\n"
     ]
    },
    {
     "name": "stdout",
     "output_type": "stream",
     "text": [
      "epoch=148, train_acc_top1=0.9907, train_acc_top5=1.0000, train_loss=0.0362, test_top1=0.8220, test_top5=0.9962, test_loss=0.8275, max_test_acc=0.8485, total_time=16.3961, LR=0.00042187\n"
     ]
    },
    {
     "name": "stderr",
     "output_type": "stream",
     "text": [
      "100%|██████████| 90/90 [00:15<00:00,  5.99it/s]\n",
      "100%|██████████| 22/22 [00:01<00:00, 16.61it/s]\n"
     ]
    },
    {
     "name": "stdout",
     "output_type": "stream",
     "text": [
      "epoch=149, train_acc_top1=0.9954, train_acc_top5=1.0000, train_loss=0.0123, test_top1=0.8030, test_top5=0.9924, test_loss=0.8052, max_test_acc=0.8485, total_time=16.3607, LR=0.00041797\n"
     ]
    },
    {
     "name": "stderr",
     "output_type": "stream",
     "text": [
      "100%|██████████| 90/90 [00:15<00:00,  5.99it/s]\n",
      "100%|██████████| 22/22 [00:01<00:00, 16.58it/s]\n"
     ]
    },
    {
     "name": "stdout",
     "output_type": "stream",
     "text": [
      "epoch=150, train_acc_top1=0.9972, train_acc_top5=1.0000, train_loss=0.0137, test_top1=0.7955, test_top5=0.9962, test_loss=0.9946, max_test_acc=0.8485, total_time=16.3697, LR=0.00041406\n"
     ]
    },
    {
     "name": "stderr",
     "output_type": "stream",
     "text": [
      "100%|██████████| 90/90 [00:15<00:00,  5.98it/s]\n",
      "100%|██████████| 22/22 [00:01<00:00, 16.47it/s]\n"
     ]
    },
    {
     "name": "stdout",
     "output_type": "stream",
     "text": [
      "epoch=151, train_acc_top1=1.0000, train_acc_top5=1.0000, train_loss=0.0024, test_top1=0.8182, test_top5=0.9848, test_loss=1.0297, max_test_acc=0.8485, total_time=16.3893, LR=0.00041016\n"
     ]
    },
    {
     "name": "stderr",
     "output_type": "stream",
     "text": [
      "100%|██████████| 90/90 [00:14<00:00,  6.00it/s]\n",
      "100%|██████████| 22/22 [00:01<00:00, 16.68it/s]\n"
     ]
    },
    {
     "name": "stdout",
     "output_type": "stream",
     "text": [
      "epoch=152, train_acc_top1=1.0000, train_acc_top5=1.0000, train_loss=0.0008, test_top1=0.8371, test_top5=0.9962, test_loss=0.8730, max_test_acc=0.8485, total_time=16.3174, LR=0.00040625\n"
     ]
    },
    {
     "name": "stderr",
     "output_type": "stream",
     "text": [
      "100%|██████████| 90/90 [00:15<00:00,  5.98it/s]\n",
      "100%|██████████| 22/22 [00:01<00:00, 16.62it/s]\n"
     ]
    },
    {
     "name": "stdout",
     "output_type": "stream",
     "text": [
      "epoch=153, train_acc_top1=1.0000, train_acc_top5=1.0000, train_loss=0.0003, test_top1=0.8409, test_top5=0.9962, test_loss=0.8655, max_test_acc=0.8485, total_time=16.3773, LR=0.00040234\n"
     ]
    },
    {
     "name": "stderr",
     "output_type": "stream",
     "text": [
      "100%|██████████| 90/90 [00:15<00:00,  5.99it/s]\n",
      "100%|██████████| 22/22 [00:01<00:00, 16.57it/s]\n"
     ]
    },
    {
     "name": "stdout",
     "output_type": "stream",
     "text": [
      "epoch=154, train_acc_top1=1.0000, train_acc_top5=1.0000, train_loss=0.0002, test_top1=0.8333, test_top5=0.9924, test_loss=0.8202, max_test_acc=0.8485, total_time=16.3610, LR=0.00039844\n"
     ]
    },
    {
     "name": "stderr",
     "output_type": "stream",
     "text": [
      "100%|██████████| 90/90 [00:15<00:00,  6.00it/s]\n",
      "100%|██████████| 22/22 [00:01<00:00, 16.62it/s]\n"
     ]
    },
    {
     "name": "stdout",
     "output_type": "stream",
     "text": [
      "epoch=155, train_acc_top1=1.0000, train_acc_top5=1.0000, train_loss=0.0001, test_top1=0.8258, test_top5=0.9962, test_loss=0.8157, max_test_acc=0.8485, total_time=16.3389, LR=0.00039453\n"
     ]
    },
    {
     "name": "stderr",
     "output_type": "stream",
     "text": [
      "100%|██████████| 90/90 [00:14<00:00,  6.00it/s]\n",
      "100%|██████████| 22/22 [00:01<00:00, 16.60it/s]\n"
     ]
    },
    {
     "name": "stdout",
     "output_type": "stream",
     "text": [
      "epoch=156, train_acc_top1=1.0000, train_acc_top5=1.0000, train_loss=0.0001, test_top1=0.8333, test_top5=0.9962, test_loss=0.8374, max_test_acc=0.8485, total_time=16.3258, LR=0.00039063\n"
     ]
    },
    {
     "name": "stderr",
     "output_type": "stream",
     "text": [
      "100%|██████████| 90/90 [00:15<00:00,  5.98it/s]\n",
      "100%|██████████| 22/22 [00:01<00:00, 16.63it/s]\n"
     ]
    },
    {
     "name": "stdout",
     "output_type": "stream",
     "text": [
      "epoch=157, train_acc_top1=1.0000, train_acc_top5=1.0000, train_loss=0.0001, test_top1=0.8485, test_top5=0.9924, test_loss=0.8172, max_test_acc=0.8485, total_time=16.5541, LR=0.00038672\n"
     ]
    },
    {
     "name": "stderr",
     "output_type": "stream",
     "text": [
      "100%|██████████| 90/90 [00:15<00:00,  5.99it/s]\n",
      "100%|██████████| 22/22 [00:01<00:00, 16.61it/s]\n"
     ]
    },
    {
     "name": "stdout",
     "output_type": "stream",
     "text": [
      "epoch=158, train_acc_top1=1.0000, train_acc_top5=1.0000, train_loss=0.0001, test_top1=0.8371, test_top5=0.9962, test_loss=0.7961, max_test_acc=0.8485, total_time=16.3612, LR=0.00038281\n"
     ]
    },
    {
     "name": "stderr",
     "output_type": "stream",
     "text": [
      "100%|██████████| 90/90 [00:15<00:00,  6.00it/s]\n",
      "100%|██████████| 22/22 [00:01<00:00, 16.53it/s]\n"
     ]
    },
    {
     "name": "stdout",
     "output_type": "stream",
     "text": [
      "epoch=159, train_acc_top1=1.0000, train_acc_top5=1.0000, train_loss=0.0001, test_top1=0.8409, test_top5=0.9962, test_loss=0.8582, max_test_acc=0.8485, total_time=16.3438, LR=0.00037891\n"
     ]
    },
    {
     "name": "stderr",
     "output_type": "stream",
     "text": [
      "100%|██████████| 90/90 [00:15<00:00,  6.00it/s]\n",
      "100%|██████████| 22/22 [00:01<00:00, 16.50it/s]\n"
     ]
    },
    {
     "name": "stdout",
     "output_type": "stream",
     "text": [
      "epoch=160, train_acc_top1=1.0000, train_acc_top5=1.0000, train_loss=0.0001, test_top1=0.8447, test_top5=0.9962, test_loss=0.8258, max_test_acc=0.8485, total_time=16.3437, LR=0.00037500\n"
     ]
    },
    {
     "name": "stderr",
     "output_type": "stream",
     "text": [
      "100%|██████████| 90/90 [00:15<00:00,  5.98it/s]\n",
      "100%|██████████| 22/22 [00:01<00:00, 16.77it/s]\n"
     ]
    },
    {
     "name": "stdout",
     "output_type": "stream",
     "text": [
      "epoch=161, train_acc_top1=1.0000, train_acc_top5=1.0000, train_loss=0.0001, test_top1=0.8333, test_top5=0.9962, test_loss=0.8319, max_test_acc=0.8485, total_time=16.3563, LR=0.00037109\n"
     ]
    },
    {
     "name": "stderr",
     "output_type": "stream",
     "text": [
      "100%|██████████| 90/90 [00:15<00:00,  5.98it/s]\n",
      "100%|██████████| 22/22 [00:01<00:00, 16.69it/s]\n"
     ]
    },
    {
     "name": "stdout",
     "output_type": "stream",
     "text": [
      "epoch=162, train_acc_top1=1.0000, train_acc_top5=1.0000, train_loss=0.0001, test_top1=0.8447, test_top5=0.9962, test_loss=0.8210, max_test_acc=0.8485, total_time=16.3619, LR=0.00036719\n"
     ]
    },
    {
     "name": "stderr",
     "output_type": "stream",
     "text": [
      "100%|██████████| 90/90 [00:15<00:00,  5.98it/s]\n",
      "100%|██████████| 22/22 [00:01<00:00, 16.67it/s]\n"
     ]
    },
    {
     "name": "stdout",
     "output_type": "stream",
     "text": [
      "epoch=163, train_acc_top1=1.0000, train_acc_top5=1.0000, train_loss=0.0001, test_top1=0.8371, test_top5=0.9962, test_loss=0.8321, max_test_acc=0.8485, total_time=16.3648, LR=0.00036328\n"
     ]
    },
    {
     "name": "stderr",
     "output_type": "stream",
     "text": [
      "100%|██████████| 90/90 [00:15<00:00,  5.98it/s]\n",
      "100%|██████████| 22/22 [00:01<00:00, 16.65it/s]\n"
     ]
    },
    {
     "name": "stdout",
     "output_type": "stream",
     "text": [
      "epoch=164, train_acc_top1=1.0000, train_acc_top5=1.0000, train_loss=0.0001, test_top1=0.8409, test_top5=0.9962, test_loss=0.8216, max_test_acc=0.8485, total_time=16.3683, LR=0.00035937\n"
     ]
    },
    {
     "name": "stderr",
     "output_type": "stream",
     "text": [
      "100%|██████████| 90/90 [00:14<00:00,  6.00it/s]\n",
      "100%|██████████| 22/22 [00:01<00:00, 16.63it/s]\n"
     ]
    },
    {
     "name": "stdout",
     "output_type": "stream",
     "text": [
      "epoch=165, train_acc_top1=1.0000, train_acc_top5=1.0000, train_loss=0.0001, test_top1=0.8447, test_top5=0.9962, test_loss=0.8647, max_test_acc=0.8485, total_time=16.3256, LR=0.00035547\n"
     ]
    },
    {
     "name": "stderr",
     "output_type": "stream",
     "text": [
      "100%|██████████| 90/90 [00:15<00:00,  5.97it/s]\n",
      "100%|██████████| 22/22 [00:01<00:00, 16.64it/s]\n"
     ]
    },
    {
     "name": "stdout",
     "output_type": "stream",
     "text": [
      "epoch=166, train_acc_top1=1.0000, train_acc_top5=1.0000, train_loss=0.0001, test_top1=0.8333, test_top5=0.9962, test_loss=0.8535, max_test_acc=0.8485, total_time=16.4005, LR=0.00035156\n"
     ]
    },
    {
     "name": "stderr",
     "output_type": "stream",
     "text": [
      "100%|██████████| 90/90 [00:15<00:00,  5.99it/s]\n",
      "100%|██████████| 22/22 [00:01<00:00, 16.55it/s]\n"
     ]
    },
    {
     "name": "stdout",
     "output_type": "stream",
     "text": [
      "epoch=167, train_acc_top1=1.0000, train_acc_top5=1.0000, train_loss=0.0001, test_top1=0.8295, test_top5=0.9962, test_loss=0.8838, max_test_acc=0.8485, total_time=16.3581, LR=0.00034766\n"
     ]
    },
    {
     "name": "stderr",
     "output_type": "stream",
     "text": [
      "100%|██████████| 90/90 [00:15<00:00,  5.98it/s]\n",
      "100%|██████████| 22/22 [00:01<00:00, 16.57it/s]\n"
     ]
    },
    {
     "name": "stdout",
     "output_type": "stream",
     "text": [
      "epoch=168, train_acc_top1=1.0000, train_acc_top5=1.0000, train_loss=0.0001, test_top1=0.8295, test_top5=0.9962, test_loss=0.8782, max_test_acc=0.8485, total_time=16.3866, LR=0.00034375\n"
     ]
    },
    {
     "name": "stderr",
     "output_type": "stream",
     "text": [
      "100%|██████████| 90/90 [00:15<00:00,  5.98it/s]\n",
      "100%|██████████| 22/22 [00:01<00:00, 16.54it/s]\n"
     ]
    },
    {
     "name": "stdout",
     "output_type": "stream",
     "text": [
      "epoch=169, train_acc_top1=1.0000, train_acc_top5=1.0000, train_loss=0.0001, test_top1=0.8523, test_top5=0.9962, test_loss=0.9365, max_test_acc=0.8523, total_time=16.5546, LR=0.00033984\n"
     ]
    },
    {
     "name": "stderr",
     "output_type": "stream",
     "text": [
      "100%|██████████| 90/90 [00:15<00:00,  5.99it/s]\n",
      "100%|██████████| 22/22 [00:01<00:00, 16.49it/s]\n"
     ]
    },
    {
     "name": "stdout",
     "output_type": "stream",
     "text": [
      "epoch=170, train_acc_top1=1.0000, train_acc_top5=1.0000, train_loss=0.0001, test_top1=0.8258, test_top5=0.9962, test_loss=0.9185, max_test_acc=0.8523, total_time=16.3767, LR=0.00033594\n"
     ]
    },
    {
     "name": "stderr",
     "output_type": "stream",
     "text": [
      "100%|██████████| 90/90 [00:15<00:00,  6.00it/s]\n",
      "100%|██████████| 22/22 [00:01<00:00, 16.46it/s]\n"
     ]
    },
    {
     "name": "stdout",
     "output_type": "stream",
     "text": [
      "epoch=171, train_acc_top1=1.0000, train_acc_top5=1.0000, train_loss=0.0001, test_top1=0.8333, test_top5=0.9962, test_loss=0.8860, max_test_acc=0.8523, total_time=16.3525, LR=0.00033203\n"
     ]
    },
    {
     "name": "stderr",
     "output_type": "stream",
     "text": [
      "100%|██████████| 90/90 [00:15<00:00,  5.97it/s]\n",
      "100%|██████████| 22/22 [00:01<00:00, 16.57it/s]\n"
     ]
    },
    {
     "name": "stdout",
     "output_type": "stream",
     "text": [
      "epoch=172, train_acc_top1=1.0000, train_acc_top5=1.0000, train_loss=0.0000, test_top1=0.8295, test_top5=0.9962, test_loss=0.8826, max_test_acc=0.8523, total_time=16.3969, LR=0.00032813\n"
     ]
    },
    {
     "name": "stderr",
     "output_type": "stream",
     "text": [
      "100%|██████████| 90/90 [00:15<00:00,  5.99it/s]\n",
      "100%|██████████| 22/22 [00:01<00:00, 16.55it/s]\n"
     ]
    },
    {
     "name": "stdout",
     "output_type": "stream",
     "text": [
      "epoch=173, train_acc_top1=1.0000, train_acc_top5=1.0000, train_loss=0.0000, test_top1=0.8295, test_top5=0.9886, test_loss=0.9049, max_test_acc=0.8523, total_time=16.3483, LR=0.00032422\n"
     ]
    },
    {
     "name": "stderr",
     "output_type": "stream",
     "text": [
      "100%|██████████| 90/90 [00:15<00:00,  5.99it/s]\n",
      "100%|██████████| 22/22 [00:01<00:00, 16.50it/s]\n"
     ]
    },
    {
     "name": "stdout",
     "output_type": "stream",
     "text": [
      "epoch=174, train_acc_top1=1.0000, train_acc_top5=1.0000, train_loss=0.0000, test_top1=0.8220, test_top5=0.9962, test_loss=0.9481, max_test_acc=0.8523, total_time=16.3763, LR=0.00032031\n"
     ]
    },
    {
     "name": "stderr",
     "output_type": "stream",
     "text": [
      "100%|██████████| 90/90 [00:15<00:00,  5.97it/s]\n",
      "100%|██████████| 22/22 [00:01<00:00, 16.50it/s]\n"
     ]
    },
    {
     "name": "stdout",
     "output_type": "stream",
     "text": [
      "epoch=175, train_acc_top1=1.0000, train_acc_top5=1.0000, train_loss=0.0000, test_top1=0.8371, test_top5=0.9962, test_loss=0.9247, max_test_acc=0.8523, total_time=16.4044, LR=0.00031641\n"
     ]
    },
    {
     "name": "stderr",
     "output_type": "stream",
     "text": [
      "100%|██████████| 90/90 [00:15<00:00,  5.97it/s]\n",
      "100%|██████████| 22/22 [00:01<00:00, 16.60it/s]\n"
     ]
    },
    {
     "name": "stdout",
     "output_type": "stream",
     "text": [
      "epoch=176, train_acc_top1=1.0000, train_acc_top5=1.0000, train_loss=0.0000, test_top1=0.8409, test_top5=0.9924, test_loss=0.8905, max_test_acc=0.8523, total_time=16.3992, LR=0.00031250\n"
     ]
    },
    {
     "name": "stderr",
     "output_type": "stream",
     "text": [
      "100%|██████████| 90/90 [00:15<00:00,  5.99it/s]\n",
      "100%|██████████| 22/22 [00:01<00:00, 16.65it/s]\n"
     ]
    },
    {
     "name": "stdout",
     "output_type": "stream",
     "text": [
      "epoch=177, train_acc_top1=0.9954, train_acc_top5=1.0000, train_loss=0.0191, test_top1=0.7538, test_top5=0.9773, test_loss=1.4309, max_test_acc=0.8523, total_time=16.3420, LR=0.00030859\n"
     ]
    },
    {
     "name": "stderr",
     "output_type": "stream",
     "text": [
      "100%|██████████| 90/90 [00:15<00:00,  5.99it/s]\n",
      "100%|██████████| 22/22 [00:01<00:00, 16.47it/s]\n"
     ]
    },
    {
     "name": "stdout",
     "output_type": "stream",
     "text": [
      "epoch=178, train_acc_top1=0.8598, train_acc_top5=0.9944, train_loss=0.5545, test_top1=0.6894, test_top5=0.9470, test_loss=1.6506, max_test_acc=0.8523, total_time=16.3625, LR=0.00030469\n"
     ]
    },
    {
     "name": "stderr",
     "output_type": "stream",
     "text": [
      "100%|██████████| 90/90 [00:15<00:00,  5.99it/s]\n",
      "100%|██████████| 22/22 [00:01<00:00, 16.40it/s]\n"
     ]
    },
    {
     "name": "stdout",
     "output_type": "stream",
     "text": [
      "epoch=179, train_acc_top1=0.8932, train_acc_top5=0.9935, train_loss=0.7406, test_top1=0.1212, test_top5=0.4697, test_loss=25.0729, max_test_acc=0.8523, total_time=16.3642, LR=0.00030078\n"
     ]
    },
    {
     "name": "stderr",
     "output_type": "stream",
     "text": [
      "100%|██████████| 90/90 [00:15<00:00,  5.97it/s]\n",
      "100%|██████████| 22/22 [00:01<00:00, 16.43it/s]\n"
     ]
    },
    {
     "name": "stdout",
     "output_type": "stream",
     "text": [
      "epoch=180, train_acc_top1=0.9136, train_acc_top5=0.9926, train_loss=0.4284, test_top1=0.7803, test_top5=0.9886, test_loss=0.8815, max_test_acc=0.8523, total_time=16.4292, LR=0.00029687\n"
     ]
    },
    {
     "name": "stderr",
     "output_type": "stream",
     "text": [
      "100%|██████████| 90/90 [00:15<00:00,  5.98it/s]\n",
      "100%|██████████| 22/22 [00:01<00:00, 16.63it/s]\n"
     ]
    },
    {
     "name": "stdout",
     "output_type": "stream",
     "text": [
      "epoch=181, train_acc_top1=0.9786, train_acc_top5=1.0000, train_loss=0.0668, test_top1=0.7955, test_top5=0.9924, test_loss=0.9461, max_test_acc=0.8523, total_time=16.3749, LR=0.00029297\n"
     ]
    },
    {
     "name": "stderr",
     "output_type": "stream",
     "text": [
      "100%|██████████| 90/90 [00:15<00:00,  5.97it/s]\n",
      "100%|██████████| 22/22 [00:01<00:00, 16.54it/s]\n"
     ]
    },
    {
     "name": "stdout",
     "output_type": "stream",
     "text": [
      "epoch=182, train_acc_top1=0.9786, train_acc_top5=1.0000, train_loss=0.0664, test_top1=0.7955, test_top5=0.9924, test_loss=0.7435, max_test_acc=0.8523, total_time=16.4081, LR=0.00028906\n"
     ]
    },
    {
     "name": "stderr",
     "output_type": "stream",
     "text": [
      "100%|██████████| 90/90 [00:15<00:00,  5.99it/s]\n",
      "100%|██████████| 22/22 [00:01<00:00, 16.53it/s]\n"
     ]
    },
    {
     "name": "stdout",
     "output_type": "stream",
     "text": [
      "epoch=183, train_acc_top1=0.9861, train_acc_top5=1.0000, train_loss=0.0430, test_top1=0.8258, test_top5=0.9886, test_loss=0.9264, max_test_acc=0.8523, total_time=16.3706, LR=0.00028516\n"
     ]
    },
    {
     "name": "stderr",
     "output_type": "stream",
     "text": [
      "100%|██████████| 90/90 [00:15<00:00,  5.98it/s]\n",
      "100%|██████████| 22/22 [00:01<00:00, 16.43it/s]\n"
     ]
    },
    {
     "name": "stdout",
     "output_type": "stream",
     "text": [
      "epoch=184, train_acc_top1=0.9759, train_acc_top5=1.0000, train_loss=0.0709, test_top1=0.7803, test_top5=0.9735, test_loss=1.1258, max_test_acc=0.8523, total_time=16.4011, LR=0.00028125\n"
     ]
    },
    {
     "name": "stderr",
     "output_type": "stream",
     "text": [
      "100%|██████████| 90/90 [00:15<00:00,  5.98it/s]\n",
      "100%|██████████| 22/22 [00:01<00:00, 16.66it/s]\n"
     ]
    },
    {
     "name": "stdout",
     "output_type": "stream",
     "text": [
      "epoch=185, train_acc_top1=0.9796, train_acc_top5=1.0000, train_loss=0.0613, test_top1=0.8106, test_top5=0.9811, test_loss=1.0120, max_test_acc=0.8523, total_time=16.3699, LR=0.00027734\n"
     ]
    },
    {
     "name": "stderr",
     "output_type": "stream",
     "text": [
      "100%|██████████| 90/90 [00:15<00:00,  5.99it/s]\n",
      "100%|██████████| 22/22 [00:01<00:00, 16.43it/s]\n"
     ]
    },
    {
     "name": "stdout",
     "output_type": "stream",
     "text": [
      "epoch=186, train_acc_top1=0.9898, train_acc_top5=1.0000, train_loss=0.0436, test_top1=0.8333, test_top5=0.9886, test_loss=0.7454, max_test_acc=0.8523, total_time=16.3720, LR=0.00027344\n"
     ]
    },
    {
     "name": "stderr",
     "output_type": "stream",
     "text": [
      "100%|██████████| 90/90 [00:15<00:00,  5.98it/s]\n",
      "100%|██████████| 22/22 [00:01<00:00, 16.61it/s]\n"
     ]
    },
    {
     "name": "stdout",
     "output_type": "stream",
     "text": [
      "epoch=187, train_acc_top1=0.9991, train_acc_top5=1.0000, train_loss=0.0080, test_top1=0.8182, test_top5=0.9886, test_loss=0.9399, max_test_acc=0.8523, total_time=16.3762, LR=0.00026953\n"
     ]
    },
    {
     "name": "stderr",
     "output_type": "stream",
     "text": [
      "100%|██████████| 90/90 [00:15<00:00,  5.97it/s]\n",
      "100%|██████████| 22/22 [00:01<00:00, 16.60it/s]\n"
     ]
    },
    {
     "name": "stdout",
     "output_type": "stream",
     "text": [
      "epoch=188, train_acc_top1=1.0000, train_acc_top5=1.0000, train_loss=0.0035, test_top1=0.7841, test_top5=0.9962, test_loss=1.0508, max_test_acc=0.8523, total_time=16.4041, LR=0.00026563\n"
     ]
    },
    {
     "name": "stderr",
     "output_type": "stream",
     "text": [
      "100%|██████████| 90/90 [00:15<00:00,  5.98it/s]\n",
      "100%|██████████| 22/22 [00:01<00:00, 16.55it/s]\n"
     ]
    },
    {
     "name": "stdout",
     "output_type": "stream",
     "text": [
      "epoch=189, train_acc_top1=0.9889, train_acc_top5=0.9972, train_loss=0.0513, test_top1=0.8220, test_top5=0.9811, test_loss=1.0114, max_test_acc=0.8523, total_time=16.3805, LR=0.00026172\n"
     ]
    },
    {
     "name": "stderr",
     "output_type": "stream",
     "text": [
      "100%|██████████| 90/90 [00:15<00:00,  5.97it/s]\n",
      "100%|██████████| 22/22 [00:01<00:00, 16.56it/s]\n"
     ]
    },
    {
     "name": "stdout",
     "output_type": "stream",
     "text": [
      "epoch=190, train_acc_top1=0.9981, train_acc_top5=1.0000, train_loss=0.0102, test_top1=0.8220, test_top5=0.9924, test_loss=1.1307, max_test_acc=0.8523, total_time=16.4162, LR=0.00025781\n"
     ]
    },
    {
     "name": "stderr",
     "output_type": "stream",
     "text": [
      "100%|██████████| 90/90 [00:15<00:00,  5.99it/s]\n",
      "100%|██████████| 22/22 [00:01<00:00, 16.52it/s]\n"
     ]
    },
    {
     "name": "stdout",
     "output_type": "stream",
     "text": [
      "epoch=191, train_acc_top1=0.9981, train_acc_top5=1.0000, train_loss=0.0119, test_top1=0.8106, test_top5=0.9924, test_loss=0.9725, max_test_acc=0.8523, total_time=16.3538, LR=0.00025391\n"
     ]
    },
    {
     "name": "stderr",
     "output_type": "stream",
     "text": [
      "100%|██████████| 90/90 [00:15<00:00,  5.94it/s]\n",
      "100%|██████████| 22/22 [00:01<00:00, 16.57it/s]\n"
     ]
    },
    {
     "name": "stdout",
     "output_type": "stream",
     "text": [
      "epoch=192, train_acc_top1=0.9926, train_acc_top5=1.0000, train_loss=0.0268, test_top1=0.8258, test_top5=0.9962, test_loss=0.9355, max_test_acc=0.8523, total_time=16.4897, LR=0.00025000\n"
     ]
    },
    {
     "name": "stderr",
     "output_type": "stream",
     "text": [
      "100%|██████████| 90/90 [00:15<00:00,  5.99it/s]\n",
      "100%|██████████| 22/22 [00:01<00:00, 16.56it/s]\n"
     ]
    },
    {
     "name": "stdout",
     "output_type": "stream",
     "text": [
      "epoch=193, train_acc_top1=1.0000, train_acc_top5=1.0000, train_loss=0.0043, test_top1=0.8220, test_top5=0.9886, test_loss=0.9136, max_test_acc=0.8523, total_time=16.3712, LR=0.00024609\n"
     ]
    },
    {
     "name": "stderr",
     "output_type": "stream",
     "text": [
      "100%|██████████| 90/90 [00:15<00:00,  5.98it/s]\n",
      "100%|██████████| 22/22 [00:01<00:00, 16.53it/s]\n"
     ]
    },
    {
     "name": "stdout",
     "output_type": "stream",
     "text": [
      "epoch=194, train_acc_top1=1.0000, train_acc_top5=1.0000, train_loss=0.0003, test_top1=0.8371, test_top5=0.9886, test_loss=0.7758, max_test_acc=0.8523, total_time=16.3756, LR=0.00024219\n"
     ]
    },
    {
     "name": "stderr",
     "output_type": "stream",
     "text": [
      "100%|██████████| 90/90 [00:15<00:00,  5.99it/s]\n",
      "100%|██████████| 22/22 [00:01<00:00, 16.58it/s]\n"
     ]
    },
    {
     "name": "stdout",
     "output_type": "stream",
     "text": [
      "epoch=195, train_acc_top1=1.0000, train_acc_top5=1.0000, train_loss=0.0002, test_top1=0.8409, test_top5=0.9886, test_loss=0.8313, max_test_acc=0.8523, total_time=16.3459, LR=0.00023828\n"
     ]
    },
    {
     "name": "stderr",
     "output_type": "stream",
     "text": [
      "100%|██████████| 90/90 [00:15<00:00,  5.99it/s]\n",
      "100%|██████████| 22/22 [00:01<00:00, 16.49it/s]\n"
     ]
    },
    {
     "name": "stdout",
     "output_type": "stream",
     "text": [
      "epoch=196, train_acc_top1=1.0000, train_acc_top5=1.0000, train_loss=0.0001, test_top1=0.8485, test_top5=0.9886, test_loss=0.8173, max_test_acc=0.8523, total_time=16.3601, LR=0.00023437\n"
     ]
    },
    {
     "name": "stderr",
     "output_type": "stream",
     "text": [
      "100%|██████████| 90/90 [00:15<00:00,  6.00it/s]\n",
      "100%|██████████| 22/22 [00:01<00:00, 16.53it/s]\n"
     ]
    },
    {
     "name": "stdout",
     "output_type": "stream",
     "text": [
      "epoch=197, train_acc_top1=1.0000, train_acc_top5=1.0000, train_loss=0.0001, test_top1=0.8485, test_top5=0.9886, test_loss=0.8245, max_test_acc=0.8523, total_time=16.3469, LR=0.00023047\n"
     ]
    },
    {
     "name": "stderr",
     "output_type": "stream",
     "text": [
      "100%|██████████| 90/90 [00:15<00:00,  5.98it/s]\n",
      "100%|██████████| 22/22 [00:01<00:00, 16.45it/s]\n"
     ]
    },
    {
     "name": "stdout",
     "output_type": "stream",
     "text": [
      "epoch=198, train_acc_top1=1.0000, train_acc_top5=1.0000, train_loss=0.0001, test_top1=0.8409, test_top5=0.9886, test_loss=0.8523, max_test_acc=0.8523, total_time=16.3906, LR=0.00022656\n"
     ]
    },
    {
     "name": "stderr",
     "output_type": "stream",
     "text": [
      "100%|██████████| 90/90 [00:15<00:00,  5.98it/s]\n",
      "100%|██████████| 22/22 [00:01<00:00, 16.57it/s]\n"
     ]
    },
    {
     "name": "stdout",
     "output_type": "stream",
     "text": [
      "epoch=199, train_acc_top1=1.0000, train_acc_top5=1.0000, train_loss=0.0001, test_top1=0.8333, test_top5=0.9886, test_loss=0.8712, max_test_acc=0.8523, total_time=16.3773, LR=0.00022266\n"
     ]
    },
    {
     "name": "stderr",
     "output_type": "stream",
     "text": [
      "100%|██████████| 90/90 [00:15<00:00,  6.00it/s]\n",
      "100%|██████████| 22/22 [00:01<00:00, 16.56it/s]\n"
     ]
    },
    {
     "name": "stdout",
     "output_type": "stream",
     "text": [
      "epoch=200, train_acc_top1=1.0000, train_acc_top5=1.0000, train_loss=0.0001, test_top1=0.8409, test_top5=0.9924, test_loss=0.8381, max_test_acc=0.8523, total_time=16.3430, LR=0.00021875\n"
     ]
    },
    {
     "name": "stderr",
     "output_type": "stream",
     "text": [
      "100%|██████████| 90/90 [00:15<00:00,  5.99it/s]\n",
      "100%|██████████| 22/22 [00:01<00:00, 16.62it/s]\n"
     ]
    },
    {
     "name": "stdout",
     "output_type": "stream",
     "text": [
      "epoch=201, train_acc_top1=1.0000, train_acc_top5=1.0000, train_loss=0.0001, test_top1=0.8447, test_top5=0.9886, test_loss=0.8175, max_test_acc=0.8523, total_time=16.3429, LR=0.00021484\n"
     ]
    },
    {
     "name": "stderr",
     "output_type": "stream",
     "text": [
      "100%|██████████| 90/90 [00:15<00:00,  5.98it/s]\n",
      "100%|██████████| 22/22 [00:01<00:00, 16.59it/s]\n"
     ]
    },
    {
     "name": "stdout",
     "output_type": "stream",
     "text": [
      "epoch=202, train_acc_top1=1.0000, train_acc_top5=1.0000, train_loss=0.0001, test_top1=0.8485, test_top5=0.9886, test_loss=0.8165, max_test_acc=0.8523, total_time=16.3873, LR=0.00021094\n"
     ]
    },
    {
     "name": "stderr",
     "output_type": "stream",
     "text": [
      "100%|██████████| 90/90 [00:15<00:00,  5.99it/s]\n",
      "100%|██████████| 22/22 [00:01<00:00, 16.56it/s]\n"
     ]
    },
    {
     "name": "stdout",
     "output_type": "stream",
     "text": [
      "epoch=203, train_acc_top1=1.0000, train_acc_top5=1.0000, train_loss=0.0001, test_top1=0.8523, test_top5=0.9886, test_loss=0.8130, max_test_acc=0.8523, total_time=16.5299, LR=0.00020703\n"
     ]
    },
    {
     "name": "stderr",
     "output_type": "stream",
     "text": [
      "100%|██████████| 90/90 [00:15<00:00,  5.98it/s]\n",
      "100%|██████████| 22/22 [00:01<00:00, 16.46it/s]\n"
     ]
    },
    {
     "name": "stdout",
     "output_type": "stream",
     "text": [
      "epoch=204, train_acc_top1=1.0000, train_acc_top5=1.0000, train_loss=0.0000, test_top1=0.8485, test_top5=0.9886, test_loss=0.8553, max_test_acc=0.8523, total_time=16.3923, LR=0.00020313\n"
     ]
    },
    {
     "name": "stderr",
     "output_type": "stream",
     "text": [
      "100%|██████████| 90/90 [00:15<00:00,  5.98it/s]\n",
      "100%|██████████| 22/22 [00:01<00:00, 16.50it/s]\n"
     ]
    },
    {
     "name": "stdout",
     "output_type": "stream",
     "text": [
      "epoch=205, train_acc_top1=1.0000, train_acc_top5=1.0000, train_loss=0.0000, test_top1=0.8447, test_top5=0.9886, test_loss=0.8742, max_test_acc=0.8523, total_time=16.3876, LR=0.00019922\n"
     ]
    },
    {
     "name": "stderr",
     "output_type": "stream",
     "text": [
      "100%|██████████| 90/90 [00:15<00:00,  5.98it/s]\n",
      "100%|██████████| 22/22 [00:01<00:00, 16.52it/s]\n"
     ]
    },
    {
     "name": "stdout",
     "output_type": "stream",
     "text": [
      "epoch=206, train_acc_top1=1.0000, train_acc_top5=1.0000, train_loss=0.0000, test_top1=0.8409, test_top5=0.9924, test_loss=0.8690, max_test_acc=0.8523, total_time=16.3874, LR=0.00019531\n"
     ]
    },
    {
     "name": "stderr",
     "output_type": "stream",
     "text": [
      "100%|██████████| 90/90 [00:15<00:00,  5.97it/s]\n",
      "100%|██████████| 22/22 [00:01<00:00, 16.65it/s]\n"
     ]
    },
    {
     "name": "stdout",
     "output_type": "stream",
     "text": [
      "epoch=207, train_acc_top1=1.0000, train_acc_top5=1.0000, train_loss=0.0000, test_top1=0.8523, test_top5=0.9886, test_loss=0.8721, max_test_acc=0.8523, total_time=16.5819, LR=0.00019141\n"
     ]
    },
    {
     "name": "stderr",
     "output_type": "stream",
     "text": [
      "100%|██████████| 90/90 [00:15<00:00,  5.99it/s]\n",
      "100%|██████████| 22/22 [00:01<00:00, 16.49it/s]\n"
     ]
    },
    {
     "name": "stdout",
     "output_type": "stream",
     "text": [
      "epoch=208, train_acc_top1=1.0000, train_acc_top5=1.0000, train_loss=0.0000, test_top1=0.8371, test_top5=0.9886, test_loss=0.8894, max_test_acc=0.8523, total_time=16.3661, LR=0.00018750\n"
     ]
    },
    {
     "name": "stderr",
     "output_type": "stream",
     "text": [
      "100%|██████████| 90/90 [00:15<00:00,  5.98it/s]\n",
      "100%|██████████| 22/22 [00:01<00:00, 16.66it/s]\n"
     ]
    },
    {
     "name": "stdout",
     "output_type": "stream",
     "text": [
      "epoch=209, train_acc_top1=1.0000, train_acc_top5=1.0000, train_loss=0.0000, test_top1=0.8447, test_top5=0.9886, test_loss=0.9064, max_test_acc=0.8523, total_time=16.3673, LR=0.00018359\n"
     ]
    },
    {
     "name": "stderr",
     "output_type": "stream",
     "text": [
      "100%|██████████| 90/90 [00:15<00:00,  5.99it/s]\n",
      "100%|██████████| 22/22 [00:01<00:00, 16.64it/s]\n"
     ]
    },
    {
     "name": "stdout",
     "output_type": "stream",
     "text": [
      "epoch=210, train_acc_top1=1.0000, train_acc_top5=1.0000, train_loss=0.0000, test_top1=0.8409, test_top5=0.9886, test_loss=0.8983, max_test_acc=0.8523, total_time=16.3509, LR=0.00017969\n"
     ]
    },
    {
     "name": "stderr",
     "output_type": "stream",
     "text": [
      "100%|██████████| 90/90 [00:15<00:00,  6.00it/s]\n",
      "100%|██████████| 22/22 [00:01<00:00, 16.59it/s]\n"
     ]
    },
    {
     "name": "stdout",
     "output_type": "stream",
     "text": [
      "epoch=211, train_acc_top1=1.0000, train_acc_top5=1.0000, train_loss=0.0000, test_top1=0.8409, test_top5=0.9886, test_loss=0.9144, max_test_acc=0.8523, total_time=16.3414, LR=0.00017578\n"
     ]
    },
    {
     "name": "stderr",
     "output_type": "stream",
     "text": [
      "100%|██████████| 90/90 [00:15<00:00,  5.98it/s]\n",
      "100%|██████████| 22/22 [00:01<00:00, 16.52it/s]\n"
     ]
    },
    {
     "name": "stdout",
     "output_type": "stream",
     "text": [
      "epoch=212, train_acc_top1=1.0000, train_acc_top5=1.0000, train_loss=0.0000, test_top1=0.8485, test_top5=0.9886, test_loss=0.8991, max_test_acc=0.8523, total_time=16.3883, LR=0.00017187\n"
     ]
    },
    {
     "name": "stderr",
     "output_type": "stream",
     "text": [
      "100%|██████████| 90/90 [00:15<00:00,  5.99it/s]\n",
      "100%|██████████| 22/22 [00:01<00:00, 16.62it/s]\n"
     ]
    },
    {
     "name": "stdout",
     "output_type": "stream",
     "text": [
      "epoch=213, train_acc_top1=1.0000, train_acc_top5=1.0000, train_loss=0.0000, test_top1=0.8371, test_top5=0.9886, test_loss=0.9029, max_test_acc=0.8523, total_time=16.3456, LR=0.00016797\n"
     ]
    },
    {
     "name": "stderr",
     "output_type": "stream",
     "text": [
      "100%|██████████| 90/90 [00:14<00:00,  6.01it/s]\n",
      "100%|██████████| 22/22 [00:01<00:00, 16.49it/s]\n"
     ]
    },
    {
     "name": "stdout",
     "output_type": "stream",
     "text": [
      "epoch=214, train_acc_top1=1.0000, train_acc_top5=1.0000, train_loss=0.0000, test_top1=0.8409, test_top5=0.9886, test_loss=0.8706, max_test_acc=0.8523, total_time=16.3270, LR=0.00016406\n"
     ]
    },
    {
     "name": "stderr",
     "output_type": "stream",
     "text": [
      "100%|██████████| 90/90 [00:15<00:00,  5.98it/s]\n",
      "100%|██████████| 22/22 [00:01<00:00, 16.70it/s]\n"
     ]
    },
    {
     "name": "stdout",
     "output_type": "stream",
     "text": [
      "epoch=215, train_acc_top1=1.0000, train_acc_top5=1.0000, train_loss=0.0000, test_top1=0.8523, test_top5=0.9886, test_loss=0.8927, max_test_acc=0.8523, total_time=16.5516, LR=0.00016016\n"
     ]
    },
    {
     "name": "stderr",
     "output_type": "stream",
     "text": [
      "100%|██████████| 90/90 [00:15<00:00,  5.98it/s]\n",
      "100%|██████████| 22/22 [00:01<00:00, 16.48it/s]\n"
     ]
    },
    {
     "name": "stdout",
     "output_type": "stream",
     "text": [
      "epoch=216, train_acc_top1=1.0000, train_acc_top5=1.0000, train_loss=0.0000, test_top1=0.8371, test_top5=0.9886, test_loss=0.9324, max_test_acc=0.8523, total_time=16.3872, LR=0.00015625\n"
     ]
    },
    {
     "name": "stderr",
     "output_type": "stream",
     "text": [
      "100%|██████████| 90/90 [00:15<00:00,  5.99it/s]\n",
      "100%|██████████| 22/22 [00:01<00:00, 16.61it/s]\n"
     ]
    },
    {
     "name": "stdout",
     "output_type": "stream",
     "text": [
      "epoch=217, train_acc_top1=1.0000, train_acc_top5=1.0000, train_loss=0.0000, test_top1=0.8447, test_top5=0.9886, test_loss=0.9099, max_test_acc=0.8523, total_time=16.3582, LR=0.00015234\n"
     ]
    },
    {
     "name": "stderr",
     "output_type": "stream",
     "text": [
      "100%|██████████| 90/90 [00:15<00:00,  5.99it/s]\n",
      "100%|██████████| 22/22 [00:01<00:00, 16.50it/s]\n"
     ]
    },
    {
     "name": "stdout",
     "output_type": "stream",
     "text": [
      "epoch=218, train_acc_top1=1.0000, train_acc_top5=1.0000, train_loss=0.0000, test_top1=0.8409, test_top5=0.9924, test_loss=0.9550, max_test_acc=0.8523, total_time=16.3657, LR=0.00014844\n"
     ]
    },
    {
     "name": "stderr",
     "output_type": "stream",
     "text": [
      "100%|██████████| 90/90 [00:15<00:00,  5.98it/s]\n",
      "100%|██████████| 22/22 [00:01<00:00, 16.55it/s]\n"
     ]
    },
    {
     "name": "stdout",
     "output_type": "stream",
     "text": [
      "epoch=219, train_acc_top1=1.0000, train_acc_top5=1.0000, train_loss=0.0000, test_top1=0.8371, test_top5=0.9924, test_loss=0.9375, max_test_acc=0.8523, total_time=16.3800, LR=0.00014453\n"
     ]
    },
    {
     "name": "stderr",
     "output_type": "stream",
     "text": [
      "100%|██████████| 90/90 [00:15<00:00,  5.99it/s]\n",
      "100%|██████████| 22/22 [00:01<00:00, 16.64it/s]\n"
     ]
    },
    {
     "name": "stdout",
     "output_type": "stream",
     "text": [
      "epoch=220, train_acc_top1=1.0000, train_acc_top5=1.0000, train_loss=0.0000, test_top1=0.8447, test_top5=0.9924, test_loss=0.9386, max_test_acc=0.8523, total_time=16.3574, LR=0.00014063\n"
     ]
    },
    {
     "name": "stderr",
     "output_type": "stream",
     "text": [
      "100%|██████████| 90/90 [00:15<00:00,  5.99it/s]\n",
      "100%|██████████| 22/22 [00:01<00:00, 16.56it/s]\n"
     ]
    },
    {
     "name": "stdout",
     "output_type": "stream",
     "text": [
      "epoch=221, train_acc_top1=1.0000, train_acc_top5=1.0000, train_loss=0.0000, test_top1=0.8447, test_top5=0.9924, test_loss=0.9304, max_test_acc=0.8523, total_time=16.3625, LR=0.00013672\n"
     ]
    },
    {
     "name": "stderr",
     "output_type": "stream",
     "text": [
      "100%|██████████| 90/90 [00:15<00:00,  5.98it/s]\n",
      "100%|██████████| 22/22 [00:01<00:00, 16.48it/s]\n"
     ]
    },
    {
     "name": "stdout",
     "output_type": "stream",
     "text": [
      "epoch=222, train_acc_top1=1.0000, train_acc_top5=1.0000, train_loss=0.0000, test_top1=0.8447, test_top5=0.9886, test_loss=0.9407, max_test_acc=0.8523, total_time=16.3941, LR=0.00013281\n"
     ]
    },
    {
     "name": "stderr",
     "output_type": "stream",
     "text": [
      "100%|██████████| 90/90 [00:15<00:00,  5.99it/s]\n",
      "100%|██████████| 22/22 [00:01<00:00, 16.40it/s]\n"
     ]
    },
    {
     "name": "stdout",
     "output_type": "stream",
     "text": [
      "epoch=223, train_acc_top1=1.0000, train_acc_top5=1.0000, train_loss=0.0000, test_top1=0.8371, test_top5=0.9924, test_loss=1.0126, max_test_acc=0.8523, total_time=16.3694, LR=0.00012891\n"
     ]
    },
    {
     "name": "stderr",
     "output_type": "stream",
     "text": [
      "100%|██████████| 90/90 [00:15<00:00,  5.99it/s]\n",
      "100%|██████████| 22/22 [00:01<00:00, 16.56it/s]\n"
     ]
    },
    {
     "name": "stdout",
     "output_type": "stream",
     "text": [
      "epoch=224, train_acc_top1=1.0000, train_acc_top5=1.0000, train_loss=0.0000, test_top1=0.8371, test_top5=0.9924, test_loss=0.9914, max_test_acc=0.8523, total_time=16.3681, LR=0.00012500\n"
     ]
    },
    {
     "name": "stderr",
     "output_type": "stream",
     "text": [
      "100%|██████████| 90/90 [00:15<00:00,  5.97it/s]\n",
      "100%|██████████| 22/22 [00:01<00:00, 16.51it/s]\n"
     ]
    },
    {
     "name": "stdout",
     "output_type": "stream",
     "text": [
      "epoch=225, train_acc_top1=1.0000, train_acc_top5=1.0000, train_loss=0.0000, test_top1=0.8333, test_top5=0.9886, test_loss=0.9359, max_test_acc=0.8523, total_time=16.4013, LR=0.00012109\n"
     ]
    },
    {
     "name": "stderr",
     "output_type": "stream",
     "text": [
      "100%|██████████| 90/90 [00:15<00:00,  5.97it/s]\n",
      "100%|██████████| 22/22 [00:01<00:00, 16.44it/s]\n"
     ]
    },
    {
     "name": "stdout",
     "output_type": "stream",
     "text": [
      "epoch=226, train_acc_top1=1.0000, train_acc_top5=1.0000, train_loss=0.0000, test_top1=0.8409, test_top5=0.9924, test_loss=0.9496, max_test_acc=0.8523, total_time=16.4229, LR=0.00011719\n"
     ]
    },
    {
     "name": "stderr",
     "output_type": "stream",
     "text": [
      "100%|██████████| 90/90 [00:15<00:00,  5.99it/s]\n",
      "100%|██████████| 22/22 [00:01<00:00, 16.54it/s]\n"
     ]
    },
    {
     "name": "stdout",
     "output_type": "stream",
     "text": [
      "epoch=227, train_acc_top1=1.0000, train_acc_top5=1.0000, train_loss=0.0000, test_top1=0.8371, test_top5=0.9924, test_loss=0.9942, max_test_acc=0.8523, total_time=16.3690, LR=0.00011328\n"
     ]
    },
    {
     "name": "stderr",
     "output_type": "stream",
     "text": [
      "100%|██████████| 90/90 [00:15<00:00,  5.98it/s]\n",
      "100%|██████████| 22/22 [00:01<00:00, 16.60it/s]\n"
     ]
    },
    {
     "name": "stdout",
     "output_type": "stream",
     "text": [
      "epoch=228, train_acc_top1=1.0000, train_acc_top5=1.0000, train_loss=0.0000, test_top1=0.8333, test_top5=0.9886, test_loss=0.9838, max_test_acc=0.8523, total_time=16.3719, LR=0.00010938\n"
     ]
    },
    {
     "name": "stderr",
     "output_type": "stream",
     "text": [
      "100%|██████████| 90/90 [00:15<00:00,  5.98it/s]\n",
      "100%|██████████| 22/22 [00:01<00:00, 16.58it/s]\n"
     ]
    },
    {
     "name": "stdout",
     "output_type": "stream",
     "text": [
      "epoch=229, train_acc_top1=1.0000, train_acc_top5=1.0000, train_loss=0.0000, test_top1=0.8220, test_top5=0.9924, test_loss=0.9932, max_test_acc=0.8523, total_time=16.3846, LR=0.00010547\n"
     ]
    },
    {
     "name": "stderr",
     "output_type": "stream",
     "text": [
      "100%|██████████| 90/90 [00:15<00:00,  5.98it/s]\n",
      "100%|██████████| 22/22 [00:01<00:00, 16.57it/s]\n"
     ]
    },
    {
     "name": "stdout",
     "output_type": "stream",
     "text": [
      "epoch=230, train_acc_top1=1.0000, train_acc_top5=1.0000, train_loss=0.0000, test_top1=0.8220, test_top5=0.9924, test_loss=0.9999, max_test_acc=0.8523, total_time=16.3879, LR=0.00010156\n"
     ]
    },
    {
     "name": "stderr",
     "output_type": "stream",
     "text": [
      "100%|██████████| 90/90 [00:15<00:00,  5.99it/s]\n",
      "100%|██████████| 22/22 [00:01<00:00, 16.49it/s]\n"
     ]
    },
    {
     "name": "stdout",
     "output_type": "stream",
     "text": [
      "epoch=231, train_acc_top1=1.0000, train_acc_top5=1.0000, train_loss=0.0000, test_top1=0.8258, test_top5=0.9886, test_loss=1.0181, max_test_acc=0.8523, total_time=16.3783, LR=0.00009766\n"
     ]
    },
    {
     "name": "stderr",
     "output_type": "stream",
     "text": [
      "100%|██████████| 90/90 [00:15<00:00,  5.97it/s]\n",
      "100%|██████████| 22/22 [00:01<00:00, 16.66it/s]\n"
     ]
    },
    {
     "name": "stdout",
     "output_type": "stream",
     "text": [
      "epoch=232, train_acc_top1=0.9972, train_acc_top5=1.0000, train_loss=0.0173, test_top1=0.8220, test_top5=0.9848, test_loss=1.1126, max_test_acc=0.8523, total_time=16.4044, LR=0.00009375\n"
     ]
    },
    {
     "name": "stderr",
     "output_type": "stream",
     "text": [
      "100%|██████████| 90/90 [00:15<00:00,  5.98it/s]\n",
      "100%|██████████| 22/22 [00:01<00:00, 16.55it/s]\n"
     ]
    },
    {
     "name": "stdout",
     "output_type": "stream",
     "text": [
      "epoch=233, train_acc_top1=0.9731, train_acc_top5=1.0000, train_loss=0.0883, test_top1=0.8295, test_top5=0.9886, test_loss=1.0624, max_test_acc=0.8523, total_time=16.3898, LR=0.00008984\n"
     ]
    },
    {
     "name": "stderr",
     "output_type": "stream",
     "text": [
      "100%|██████████| 90/90 [00:15<00:00,  5.97it/s]\n",
      "100%|██████████| 22/22 [00:01<00:00, 16.57it/s]\n"
     ]
    },
    {
     "name": "stdout",
     "output_type": "stream",
     "text": [
      "epoch=234, train_acc_top1=0.9786, train_acc_top5=0.9991, train_loss=0.0738, test_top1=0.8371, test_top5=0.9924, test_loss=0.8019, max_test_acc=0.8523, total_time=16.4049, LR=0.00008594\n"
     ]
    },
    {
     "name": "stderr",
     "output_type": "stream",
     "text": [
      "100%|██████████| 90/90 [00:15<00:00,  5.98it/s]\n",
      "100%|██████████| 22/22 [00:01<00:00, 16.46it/s]\n"
     ]
    },
    {
     "name": "stdout",
     "output_type": "stream",
     "text": [
      "epoch=235, train_acc_top1=0.9981, train_acc_top5=1.0000, train_loss=0.0037, test_top1=0.8523, test_top5=0.9811, test_loss=0.9632, max_test_acc=0.8523, total_time=16.5555, LR=0.00008203\n"
     ]
    },
    {
     "name": "stderr",
     "output_type": "stream",
     "text": [
      "100%|██████████| 90/90 [00:14<00:00,  6.00it/s]\n",
      "100%|██████████| 22/22 [00:01<00:00, 16.44it/s]\n"
     ]
    },
    {
     "name": "stdout",
     "output_type": "stream",
     "text": [
      "epoch=236, train_acc_top1=0.9981, train_acc_top5=1.0000, train_loss=0.0061, test_top1=0.8523, test_top5=0.9773, test_loss=0.9577, max_test_acc=0.8523, total_time=16.5112, LR=0.00007813\n"
     ]
    },
    {
     "name": "stderr",
     "output_type": "stream",
     "text": [
      "100%|██████████| 90/90 [00:15<00:00,  5.99it/s]\n",
      "100%|██████████| 22/22 [00:01<00:00, 16.67it/s]\n"
     ]
    },
    {
     "name": "stdout",
     "output_type": "stream",
     "text": [
      "epoch=237, train_acc_top1=0.9991, train_acc_top5=1.0000, train_loss=0.0014, test_top1=0.8371, test_top5=0.9886, test_loss=0.8799, max_test_acc=0.8523, total_time=16.3548, LR=0.00007422\n"
     ]
    },
    {
     "name": "stderr",
     "output_type": "stream",
     "text": [
      "100%|██████████| 90/90 [00:15<00:00,  6.00it/s]\n",
      "100%|██████████| 22/22 [00:01<00:00, 16.65it/s]\n"
     ]
    },
    {
     "name": "stdout",
     "output_type": "stream",
     "text": [
      "epoch=238, train_acc_top1=1.0000, train_acc_top5=1.0000, train_loss=0.0001, test_top1=0.8182, test_top5=0.9886, test_loss=0.9979, max_test_acc=0.8523, total_time=16.3320, LR=0.00007031\n"
     ]
    },
    {
     "name": "stderr",
     "output_type": "stream",
     "text": [
      "100%|██████████| 90/90 [00:15<00:00,  5.99it/s]\n",
      "100%|██████████| 22/22 [00:01<00:00, 16.66it/s]\n"
     ]
    },
    {
     "name": "stdout",
     "output_type": "stream",
     "text": [
      "epoch=239, train_acc_top1=1.0000, train_acc_top5=1.0000, train_loss=0.0000, test_top1=0.8258, test_top5=0.9886, test_loss=0.9397, max_test_acc=0.8523, total_time=16.3538, LR=0.00006641\n"
     ]
    },
    {
     "name": "stderr",
     "output_type": "stream",
     "text": [
      "100%|██████████| 90/90 [00:15<00:00,  6.00it/s]\n",
      "100%|██████████| 22/22 [00:01<00:00, 16.64it/s]\n"
     ]
    },
    {
     "name": "stdout",
     "output_type": "stream",
     "text": [
      "epoch=240, train_acc_top1=1.0000, train_acc_top5=1.0000, train_loss=0.0000, test_top1=0.8409, test_top5=0.9886, test_loss=0.9269, max_test_acc=0.8523, total_time=16.3405, LR=0.00006250\n"
     ]
    },
    {
     "name": "stderr",
     "output_type": "stream",
     "text": [
      "100%|██████████| 90/90 [00:15<00:00,  6.00it/s]\n",
      "100%|██████████| 22/22 [00:01<00:00, 16.70it/s]\n"
     ]
    },
    {
     "name": "stdout",
     "output_type": "stream",
     "text": [
      "epoch=241, train_acc_top1=1.0000, train_acc_top5=1.0000, train_loss=0.0000, test_top1=0.8371, test_top5=0.9924, test_loss=0.9129, max_test_acc=0.8523, total_time=16.3245, LR=0.00005859\n"
     ]
    },
    {
     "name": "stderr",
     "output_type": "stream",
     "text": [
      "100%|██████████| 90/90 [00:15<00:00,  6.00it/s]\n",
      "100%|██████████| 22/22 [00:01<00:00, 16.64it/s]\n"
     ]
    },
    {
     "name": "stdout",
     "output_type": "stream",
     "text": [
      "epoch=242, train_acc_top1=1.0000, train_acc_top5=1.0000, train_loss=0.0000, test_top1=0.8258, test_top5=0.9886, test_loss=0.9123, max_test_acc=0.8523, total_time=16.3365, LR=0.00005469\n"
     ]
    },
    {
     "name": "stderr",
     "output_type": "stream",
     "text": [
      "100%|██████████| 90/90 [00:15<00:00,  6.00it/s]\n",
      "100%|██████████| 22/22 [00:01<00:00, 16.71it/s]\n"
     ]
    },
    {
     "name": "stdout",
     "output_type": "stream",
     "text": [
      "epoch=243, train_acc_top1=1.0000, train_acc_top5=1.0000, train_loss=0.0000, test_top1=0.8447, test_top5=0.9886, test_loss=0.9282, max_test_acc=0.8523, total_time=16.3313, LR=0.00005078\n"
     ]
    },
    {
     "name": "stderr",
     "output_type": "stream",
     "text": [
      "100%|██████████| 90/90 [00:15<00:00,  5.99it/s]\n",
      "100%|██████████| 22/22 [00:01<00:00, 16.60it/s]\n"
     ]
    },
    {
     "name": "stdout",
     "output_type": "stream",
     "text": [
      "epoch=244, train_acc_top1=1.0000, train_acc_top5=1.0000, train_loss=0.0000, test_top1=0.8295, test_top5=0.9886, test_loss=0.9021, max_test_acc=0.8523, total_time=16.3465, LR=0.00004688\n"
     ]
    },
    {
     "name": "stderr",
     "output_type": "stream",
     "text": [
      "100%|██████████| 90/90 [00:15<00:00,  5.99it/s]\n",
      "100%|██████████| 22/22 [00:01<00:00, 16.62it/s]\n"
     ]
    },
    {
     "name": "stdout",
     "output_type": "stream",
     "text": [
      "epoch=245, train_acc_top1=1.0000, train_acc_top5=1.0000, train_loss=0.0000, test_top1=0.8371, test_top5=0.9924, test_loss=0.9035, max_test_acc=0.8523, total_time=16.3459, LR=0.00004297\n"
     ]
    },
    {
     "name": "stderr",
     "output_type": "stream",
     "text": [
      "100%|██████████| 90/90 [00:14<00:00,  6.00it/s]\n",
      "100%|██████████| 22/22 [00:01<00:00, 16.53it/s]\n"
     ]
    },
    {
     "name": "stdout",
     "output_type": "stream",
     "text": [
      "epoch=246, train_acc_top1=1.0000, train_acc_top5=1.0000, train_loss=0.0000, test_top1=0.8220, test_top5=0.9886, test_loss=0.9242, max_test_acc=0.8523, total_time=16.3257, LR=0.00003906\n"
     ]
    },
    {
     "name": "stderr",
     "output_type": "stream",
     "text": [
      "100%|██████████| 90/90 [00:14<00:00,  6.01it/s]\n",
      "100%|██████████| 22/22 [00:01<00:00, 16.67it/s]\n"
     ]
    },
    {
     "name": "stdout",
     "output_type": "stream",
     "text": [
      "epoch=247, train_acc_top1=1.0000, train_acc_top5=1.0000, train_loss=0.0000, test_top1=0.8258, test_top5=0.9924, test_loss=0.8979, max_test_acc=0.8523, total_time=16.3103, LR=0.00003516\n"
     ]
    },
    {
     "name": "stderr",
     "output_type": "stream",
     "text": [
      "100%|██████████| 90/90 [00:15<00:00,  6.00it/s]\n",
      "100%|██████████| 22/22 [00:01<00:00, 16.55it/s]\n"
     ]
    },
    {
     "name": "stdout",
     "output_type": "stream",
     "text": [
      "epoch=248, train_acc_top1=1.0000, train_acc_top5=1.0000, train_loss=0.0000, test_top1=0.8333, test_top5=0.9924, test_loss=0.9258, max_test_acc=0.8523, total_time=16.3413, LR=0.00003125\n"
     ]
    },
    {
     "name": "stderr",
     "output_type": "stream",
     "text": [
      "100%|██████████| 90/90 [00:15<00:00,  5.98it/s]\n",
      "100%|██████████| 22/22 [00:01<00:00, 16.65it/s]\n"
     ]
    },
    {
     "name": "stdout",
     "output_type": "stream",
     "text": [
      "epoch=249, train_acc_top1=1.0000, train_acc_top5=1.0000, train_loss=0.0000, test_top1=0.8295, test_top5=0.9924, test_loss=0.9412, max_test_acc=0.8523, total_time=16.3686, LR=0.00002734\n"
     ]
    },
    {
     "name": "stderr",
     "output_type": "stream",
     "text": [
      "100%|██████████| 90/90 [00:15<00:00,  5.98it/s]\n",
      "100%|██████████| 22/22 [00:01<00:00, 16.66it/s]\n"
     ]
    },
    {
     "name": "stdout",
     "output_type": "stream",
     "text": [
      "epoch=250, train_acc_top1=1.0000, train_acc_top5=1.0000, train_loss=0.0000, test_top1=0.8371, test_top5=0.9924, test_loss=0.9266, max_test_acc=0.8523, total_time=16.3671, LR=0.00002344\n"
     ]
    },
    {
     "name": "stderr",
     "output_type": "stream",
     "text": [
      "100%|██████████| 90/90 [00:15<00:00,  5.99it/s]\n",
      "100%|██████████| 22/22 [00:01<00:00, 16.60it/s]\n"
     ]
    },
    {
     "name": "stdout",
     "output_type": "stream",
     "text": [
      "epoch=251, train_acc_top1=1.0000, train_acc_top5=1.0000, train_loss=0.0000, test_top1=0.8333, test_top5=0.9924, test_loss=0.9057, max_test_acc=0.8523, total_time=16.3511, LR=0.00001953\n"
     ]
    },
    {
     "name": "stderr",
     "output_type": "stream",
     "text": [
      "100%|██████████| 90/90 [00:15<00:00,  6.00it/s]\n",
      "100%|██████████| 22/22 [00:01<00:00, 16.75it/s]\n"
     ]
    },
    {
     "name": "stdout",
     "output_type": "stream",
     "text": [
      "epoch=252, train_acc_top1=1.0000, train_acc_top5=1.0000, train_loss=0.0000, test_top1=0.8258, test_top5=0.9924, test_loss=0.9158, max_test_acc=0.8523, total_time=16.3257, LR=0.00001563\n"
     ]
    },
    {
     "name": "stderr",
     "output_type": "stream",
     "text": [
      "100%|██████████| 90/90 [00:15<00:00,  5.98it/s]\n",
      "100%|██████████| 22/22 [00:01<00:00, 16.57it/s]\n"
     ]
    },
    {
     "name": "stdout",
     "output_type": "stream",
     "text": [
      "epoch=253, train_acc_top1=1.0000, train_acc_top5=1.0000, train_loss=0.0000, test_top1=0.8371, test_top5=0.9924, test_loss=0.9231, max_test_acc=0.8523, total_time=16.3810, LR=0.00001172\n"
     ]
    },
    {
     "name": "stderr",
     "output_type": "stream",
     "text": [
      "100%|██████████| 90/90 [00:14<00:00,  6.00it/s]\n",
      "100%|██████████| 22/22 [00:01<00:00, 16.65it/s]\n"
     ]
    },
    {
     "name": "stdout",
     "output_type": "stream",
     "text": [
      "epoch=254, train_acc_top1=1.0000, train_acc_top5=1.0000, train_loss=0.0000, test_top1=0.8333, test_top5=0.9924, test_loss=0.9324, max_test_acc=0.8523, total_time=16.3274, LR=0.00000781\n"
     ]
    },
    {
     "name": "stderr",
     "output_type": "stream",
     "text": [
      "100%|██████████| 90/90 [00:15<00:00,  5.98it/s]\n",
      "100%|██████████| 22/22 [00:01<00:00, 16.66it/s]\n"
     ]
    },
    {
     "name": "stdout",
     "output_type": "stream",
     "text": [
      "epoch=255, train_acc_top1=1.0000, train_acc_top5=1.0000, train_loss=0.0000, test_top1=0.8371, test_top5=0.9924, test_loss=0.9137, max_test_acc=0.8523, total_time=16.3716, LR=0.00000391\n"
     ]
    }
   ],
   "source": [
    "for epoch in range(Begin_epoch, Max_epoch):\n",
    "\n",
    "    start_time = time.time()\n",
    "    train_loss, train_acc_top1, train_acc_topk, test_loss, test_acc_top1, test_acc_topk, max_test_acc = train_model(net, max_test_acc, epoch)\n",
    "    \n",
    "    for param_group in optimizer.param_groups:\n",
    "        lr = param_group['lr']\n",
    "        \n",
    "    lr_scheduler.step()\n",
    "\n",
    "    print(f'''epoch={epoch}, train_acc_top1={train_acc_top1:.4f}, train_acc_top{Top_k}={train_acc_topk:.4f}, train_loss={train_loss:.4f}, test_top1={test_acc_top1:.4f}, test_top{Top_k}={test_acc_topk:.4f}, test_loss={test_loss:.4f}, max_test_acc={max_test_acc:.4f}, total_time={(time.time() - start_time):.4f}, LR={lr:.8f}''')\n",
    "    \n",
    "    torch.save(net.state_dict(), Savemodel_path + f'epoch{epoch}{Name_suffix}.h5')\n",
    "    if os.path.exists(Savemodel_path + f'epoch{epoch-1}{Name_suffix}.h5'):\n",
    "        os.remove(Savemodel_path + f'epoch{epoch-1}{Name_suffix}.h5')"
   ]
  },
  {
   "cell_type": "code",
   "execution_count": null,
   "id": "d61072ee",
   "metadata": {},
   "outputs": [],
   "source": []
  },
  {
   "cell_type": "code",
   "execution_count": 20,
   "id": "1014b20b",
   "metadata": {},
   "outputs": [
    {
     "name": "stdout",
     "output_type": "stream",
     "text": [
      "Fichier chargé: ./recorddata_DVS/Test_0_255_step1.mat\n"
     ]
    },
    {
     "data": {
      "image/png": "[encoded data removed]",
      "text/plain": [
       "<Figure size 1500x1000 with 2 Axes>"
      ]
     },
     "metadata": {},
     "output_type": "display_data"
    },
    {
     "name": "stdout",
     "output_type": "stream",
     "text": [
      "Meilleure précision: 0.8523 à l'époque 170.0\n"
     ]
    }
   ],
   "source": [
    "import numpy as np\n",
    "import matplotlib.pyplot as plt\n",
    "from scipy.io import loadmat\n",
    "import os\n",
    "import glob\n",
    "\n",
    "def plot_learning_curves(record_path, name_suffix=\"_step2\", top_k=5):\n",
    "    \"\"\"\n",
    "    Visualise les courbes d'apprentissage à partir des fichiers .mat générés\n",
    "    \"\"\"\n",
    "    # Recherche du fichier le plus récent\n",
    "    pattern = os.path.join(record_path, f'Test_*{name_suffix}.mat')\n",
    "    files = glob.glob(pattern)\n",
    "    \n",
    "    if not files:\n",
    "        print(f\"Aucun fichier trouvé avec le pattern: {pattern}\")\n",
    "        return\n",
    "    \n",
    "    # Charger le fichier le plus récent\n",
    "    latest_file = max(files, key=os.path.getctime)\n",
    "    print(f\"Fichier chargé: {latest_file}\")\n",
    "    \n",
    "    data = loadmat(latest_file)\n",
    "    record_data = data['Record_data']\n",
    "    \n",
    "    # Extraire les données\n",
    "    epochs = record_data[:, 0]\n",
    "    test_top1 = record_data[:, 2]\n",
    "    test_topk = record_data[:, 3]\n",
    "    test_loss = record_data[:, 4]\n",
    "    \n",
    "    # Créer les graphiques\n",
    "    plt.figure(figsize=(15, 10))\n",
    "    \n",
    "    # Précision Top-1 et Top-k\n",
    "    plt.subplot(2, 1, 1)\n",
    "    plt.plot(epochs, test_top1, 'b-', label=f'Test Accuracy (Top-1)')\n",
    "    plt.plot(epochs, test_topk, 'r-', label=f'Test Accuracy (Top-{top_k})')\n",
    "    plt.title('Précision du modèle au cours des époques')\n",
    "    plt.xlabel('Époque')\n",
    "    plt.ylabel('Précision')\n",
    "    plt.grid(True)\n",
    "    plt.legend()\n",
    "    \n",
    "    # Perte de test\n",
    "    plt.subplot(2, 1, 2)\n",
    "    plt.plot(epochs, test_loss, 'g-', label='Test Loss')\n",
    "    plt.title('Perte de test au cours des époques')\n",
    "    plt.xlabel('Époque')\n",
    "    plt.ylabel('Perte')\n",
    "    plt.grid(True)\n",
    "    plt.legend()\n",
    "    \n",
    "    plt.tight_layout()\n",
    "    plt.savefig(os.path.join(record_path, f'learning_curves{name_suffix}.png'))\n",
    "    plt.show()\n",
    "    \n",
    "    return max(test_top1), epochs[np.argmax(test_top1)]\n",
    "\n",
    "def plot_train_test_comparison(history, top_k=5, save_path=None):\n",
    "    \"\"\"\n",
    "    Compare les métriques d'entraînement et de test\n",
    "    \"\"\"\n",
    "    epochs = history['epochs']\n",
    "    \n",
    "    plt.figure(figsize=(15, 15))\n",
    "    \n",
    "    # Précision Top-1\n",
    "    plt.subplot(3, 1, 1)\n",
    "    plt.plot(epochs, history['train_acc_top1'], 'b-', label='Train Accuracy (Top-1)')\n",
    "    plt.plot(epochs, history['test_acc_top1'], 'r-', label='Test Accuracy (Top-1)')\n",
    "    plt.title('Précision Top-1 (Train vs Test)')\n",
    "    plt.xlabel('Époque')\n",
    "    plt.ylabel('Précision')\n",
    "    plt.grid(True)\n",
    "    plt.legend()\n",
    "    \n",
    "    # Précision Top-k\n",
    "    plt.subplot(3, 1, 2)\n",
    "    plt.plot(epochs, history['train_acc_topk'], 'b-', label=f'Train Accuracy (Top-{top_k})')\n",
    "    plt.plot(epochs, history['test_acc_topk'], 'r-', label=f'Test Accuracy (Top-{top_k})')\n",
    "    plt.title(f'Précision Top-{top_k} (Train vs Test)')\n",
    "    plt.xlabel('Époque')\n",
    "    plt.ylabel('Précision')\n",
    "    plt.grid(True)\n",
    "    plt.legend()\n",
    "    \n",
    "    # Perte\n",
    "    plt.subplot(3, 1, 3)\n",
    "    plt.plot(epochs, history['train_losses'], 'b-', label='Train Loss')\n",
    "    plt.plot(epochs, history['test_losses'], 'r-', label='Test Loss')\n",
    "    plt.title('Perte (Train vs Test)')\n",
    "    plt.xlabel('Époque')\n",
    "    plt.ylabel('Perte')\n",
    "    plt.grid(True)\n",
    "    plt.legend()\n",
    "    \n",
    "    plt.tight_layout()\n",
    "    \n",
    "    if save_path:\n",
    "        plt.savefig(save_path)\n",
    "    \n",
    "    plt.show()\n",
    "\n",
    "def plot_learning_rate(history, save_path=None):\n",
    "    \"\"\"\n",
    "    Visualise l'évolution du taux d'apprentissage\n",
    "    \"\"\"\n",
    "    plt.figure(figsize=(10, 6))\n",
    "    plt.plot(history['epochs'], history['learning_rates'], 'b-')\n",
    "    plt.title(\"Évolution du taux d'apprentissag\")\n",
    "    plt.xlabel('Époque')\n",
    "    plt.ylabel(\"Taux d'apprentissage\")\n",
    "    plt.grid(True)\n",
    "    \n",
    "    if save_path:\n",
    "        plt.savefig(save_path)\n",
    "    \n",
    "    plt.show()\n",
    "\n",
    "# Exemple d'utilisation\n",
    "if __name__ == \"__main__\":\n",
    "    # Configuration selon les paramètres fournis\n",
    "    BEGIN_EPOCH = 0\n",
    "    MAX_EPOCH = 256\n",
    "    TOP_K = 5\n",
    "    NAME_SUFFIX = \"_step1\"\n",
    "    RECORD_PATH = './recorddata_DVS/'\n",
    "    SAVEMODEL_PATH = './savemodels_DVS/'\n",
    "    \n",
    "    # 1. Visualiser à partir des fichiers .mat\n",
    "    max_acc, best_epoch = plot_learning_curves(RECORD_PATH, NAME_SUFFIX, TOP_K)\n",
    "    print(f\"Meilleure précision: {max_acc:.4f} à l'époque {best_epoch}\")"
   ]
  },
  {
   "cell_type": "code",
   "execution_count": null,
   "id": "00eca72f",
   "metadata": {},
   "outputs": [],
   "source": []
  },
  {
   "cell_type": "code",
   "execution_count": 9,
   "id": "c5fadb14",
   "metadata": {},
   "outputs": [],
   "source": [
    "img, label = next(iter(test_data_loader))"
   ]
  },
  {
   "cell_type": "code",
   "execution_count": 10,
   "id": "4790fe39",
   "metadata": {},
   "outputs": [
    {
     "name": "stdout",
     "output_type": "stream",
     "text": [
      "Taille initiale : torch.Size([12, 3, 128, 128])\n",
      "Après bloc 0 (firstconv3x3) : torch.Size([12, 32, 128, 128])\n",
      "Après bloc 1 (BasicBlock) : torch.Size([12, 64, 128, 128])\n",
      "Après bloc 2 (BasicBlock) : torch.Size([12, 128, 64, 64])\n",
      "Après bloc 3 (BasicBlock) : torch.Size([12, 128, 64, 64])\n",
      "Après bloc 4 (BasicBlock) : torch.Size([12, 256, 32, 32])\n",
      "Après bloc 5 (BasicBlock) : torch.Size([12, 256, 32, 32])\n",
      "Après bloc 6 (BasicBlock) : torch.Size([12, 512, 16, 16])\n",
      "Après bloc 7 (BasicBlock) : torch.Size([12, 512, 16, 16])\n",
      "Après bloc 8 (BasicBlock) : torch.Size([12, 512, 16, 16])\n",
      "Après bloc 9 (BasicBlock) : torch.Size([12, 512, 16, 16])\n",
      "Après bloc 10 (BasicBlock) : torch.Size([12, 512, 16, 16])\n",
      "Après bloc 11 (BasicBlock) : torch.Size([12, 512, 16, 16])\n",
      "Après bloc 12 (BasicBlock) : torch.Size([12, 1024, 8, 8])\n",
      "Après bloc 13 (BasicBlock) : torch.Size([12, 1024, 8, 8])\n",
      "Après pooling : torch.Size([12, 1024, 1, 1])\n",
      "Après reshape : torch.Size([12, 1024])\n",
      "Après couche fully connected : torch.Size([12, 11])\n"
     ]
    },
    {
     "data": {
      "text/plain": [
       "tensor([[ 0.3459,  0.6830, -0.4791, -0.3720, -0.4690,  0.3966,  0.2919,  0.5269,\n",
       "         -0.0819,  0.5827,  1.1379],\n",
       "        [ 0.0487,  0.5250, -0.4252, -0.2330, -0.3013,  0.3113,  0.3184,  0.5010,\n",
       "         -0.0647,  0.5537,  1.0427],\n",
       "        [ 0.1250,  0.5393, -0.3439, -0.2561, -0.3041,  0.3107,  0.2875,  0.5020,\n",
       "         -0.0998,  0.5243,  1.0555],\n",
       "        [ 0.1410,  0.5541, -0.4237, -0.2379, -0.3677,  0.3419,  0.3232,  0.5002,\n",
       "         -0.0881,  0.5335,  1.0505],\n",
       "        [ 0.2662,  0.6689, -0.4440, -0.3514, -0.4352,  0.3502,  0.3028,  0.5082,\n",
       "         -0.0901,  0.5584,  1.1725],\n",
       "        [ 0.3191,  0.6739, -0.4519, -0.3165, -0.4311,  0.3751,  0.3027,  0.5300,\n",
       "         -0.1070,  0.5730,  1.1575],\n",
       "        [ 0.2065,  0.6050, -0.4434, -0.2887, -0.3714,  0.3584,  0.3121,  0.4811,\n",
       "         -0.0789,  0.5599,  1.1292],\n",
       "        [ 0.1069,  0.6050, -0.4249, -0.2421, -0.3352,  0.3320,  0.3154,  0.4962,\n",
       "         -0.1054,  0.5674,  1.0902],\n",
       "        [ 0.3549,  0.7185, -0.4754, -0.3375, -0.4780,  0.4395,  0.2872,  0.4855,\n",
       "         -0.0895,  0.5967,  1.1399],\n",
       "        [ 0.1303,  0.5387, -0.4240, -0.2032, -0.3318,  0.3284,  0.3246,  0.4825,\n",
       "         -0.0803,  0.5355,  1.0953],\n",
       "        [ 0.3996,  0.6879, -0.4783, -0.3900, -0.4896,  0.4555,  0.2817,  0.5283,\n",
       "         -0.0543,  0.5920,  1.1550],\n",
       "        [ 0.2563,  0.6194, -0.4286, -0.3389, -0.4146,  0.3436,  0.3060,  0.5039,\n",
       "         -0.0743,  0.5466,  1.1333]], device='cuda:0',\n",
       "       grad_fn=<AddmmBackward0>)"
      ]
     },
     "execution_count": 10,
     "metadata": {},
     "output_type": "execute_result"
    }
   ],
   "source": [
    "net(img)"
   ]
  },
  {
   "cell_type": "code",
   "execution_count": 26,
   "id": "25c3998e",
   "metadata": {},
   "outputs": [],
   "source": [
    "img = test_data_loader.dataset[0][0]\n",
    "img = img.unsqueeze(0) "
   ]
  },
  {
   "cell_type": "code",
   "execution_count": 29,
   "id": "ca40693e",
   "metadata": {},
   "outputs": [
    {
     "ename": "RuntimeError",
     "evalue": "CUDA error: unspecified launch failure\nCUDA kernel errors might be asynchronously reported at some other API call, so the stacktrace below might be incorrect.\nFor debugging consider passing CUDA_LAUNCH_BLOCKING=1\nCompile with `TORCH_USE_CUDA_DSA` to enable device-side assertions.\n",
     "output_type": "error",
     "traceback": [
      "\u001b[31m---------------------------------------------------------------------------\u001b[39m",
      "\u001b[31mRuntimeError\u001b[39m                              Traceback (most recent call last)",
      "\u001b[36mCell\u001b[39m\u001b[36m \u001b[39m\u001b[32mIn[29]\u001b[39m\u001b[32m, line 5\u001b[39m\n\u001b[32m      3\u001b[39m \u001b[38;5;66;03m# Prédiction sans calculer de gradients\u001b[39;00m\n\u001b[32m      4\u001b[39m \u001b[38;5;28;01mwith\u001b[39;00m torch.no_grad():\n\u001b[32m----> \u001b[39m\u001b[32m5\u001b[39m     img = \u001b[43mimg\u001b[49m\u001b[43m.\u001b[49m\u001b[43mcuda\u001b[49m\u001b[43m(\u001b[49m\u001b[43m)\u001b[49m\n\u001b[32m      6\u001b[39m     output = net(img)     \u001b[38;5;66;03m# Sortie: [1, 11]\u001b[39;00m\n\u001b[32m      7\u001b[39m     \u001b[38;5;28mprint\u001b[39m(output)\n",
      "\u001b[31mRuntimeError\u001b[39m: CUDA error: unspecified launch failure\nCUDA kernel errors might be asynchronously reported at some other API call, so the stacktrace below might be incorrect.\nFor debugging consider passing CUDA_LAUNCH_BLOCKING=1\nCompile with `TORCH_USE_CUDA_DSA` to enable device-side assertions.\n"
     ]
    }
   ],
   "source": [
    "net.eval()\n",
    "\n",
    "# Prédiction sans calculer de gradients\n",
    "with torch.no_grad():\n",
    "    img = img.cuda()\n",
    "    output = net(img)     # Sortie: [1, 11]\n",
    "    print(output)"
   ]
  },
  {
   "cell_type": "code",
   "execution_count": 34,
   "id": "adbcd0c7",
   "metadata": {},
   "outputs": [
    {
     "data": {
      "text/plain": [
       "tensor([ 7,  5,  6,  4,  2,  8,  9, 10,  0,  3,  1,  7])"
      ]
     },
     "execution_count": 34,
     "metadata": {},
     "output_type": "execute_result"
    }
   ],
   "source": [
    "label"
   ]
  },
  {
   "cell_type": "code",
   "execution_count": 39,
   "id": "4e1a086a",
   "metadata": {},
   "outputs": [
    {
     "data": {
      "text/plain": [
       "(tensor(1.), tensor(0.), tensor(0.0187), tensor(0.0726))"
      ]
     },
     "execution_count": 39,
     "metadata": {},
     "output_type": "execute_result"
    }
   ],
   "source": [
    "img[0][0].max(), img[0][0].min(), img[0][0].mean(), img[0][0].std()"
   ]
  },
  {
   "cell_type": "code",
   "execution_count": 54,
   "id": "b1da2e2f",
   "metadata": {},
   "outputs": [
    {
     "data": {
      "text/plain": [
       "DVSGesture"
      ]
     },
     "execution_count": 54,
     "metadata": {},
     "output_type": "execute_result"
    }
   ],
   "source": [
    "dataset_train"
   ]
  },
  {
   "cell_type": "code",
   "execution_count": 33,
   "id": "ce956d3e",
   "metadata": {},
   "outputs": [
    {
     "name": "stdout",
     "output_type": "stream",
     "text": [
      "tensor([[[[0.0000, 0.0000, 0.0000,  ..., 0.0000, 0.0000, 0.0000],\n",
      "          [0.0000, 0.0000, 0.0000,  ..., 0.0000, 0.0000, 0.0000],\n",
      "          [0.0000, 0.0000, 0.0000,  ..., 0.0000, 0.0000, 0.0000],\n",
      "          ...,\n",
      "          [0.0000, 0.0000, 0.0000,  ..., 0.0000, 0.0000, 0.0000],\n",
      "          [0.0000, 0.0000, 0.0000,  ..., 0.0000, 0.0000, 0.0000],\n",
      "          [0.0000, 0.0000, 0.0000,  ..., 0.0000, 0.0000, 0.0000]],\n",
      "\n",
      "         [[0.0000, 0.0000, 0.0000,  ..., 0.0000, 0.0000, 0.0000],\n",
      "          [0.0000, 0.0000, 0.0000,  ..., 0.0000, 0.0000, 0.0000],\n",
      "          [0.0000, 0.0000, 0.0000,  ..., 0.0000, 0.0000, 0.0000],\n",
      "          ...,\n",
      "          [0.0000, 0.0000, 0.0000,  ..., 0.0000, 0.0000, 0.0000],\n",
      "          [0.0000, 0.0000, 0.0000,  ..., 0.0000, 0.0000, 0.0000],\n",
      "          [0.0000, 0.0000, 0.0000,  ..., 0.0000, 0.0000, 0.0000]],\n",
      "\n",
      "         [[0.5000, 0.5000, 0.5000,  ..., 0.5000, 0.5000, 0.5000],\n",
      "          [0.5000, 0.5000, 0.5000,  ..., 0.5000, 0.5000, 0.5000],\n",
      "          [0.5000, 0.5000, 0.5000,  ..., 0.5000, 0.5000, 0.5000],\n",
      "          ...,\n",
      "          [0.5000, 0.5000, 0.5000,  ..., 0.5000, 0.5000, 0.5000],\n",
      "          [0.5000, 0.5000, 0.5000,  ..., 0.5000, 0.5000, 0.5000],\n",
      "          [0.5000, 0.5000, 0.5000,  ..., 0.5000, 0.5000, 0.5000]]],\n",
      "\n",
      "\n",
      "        [[[0.0000, 0.0000, 0.0000,  ..., 0.0000, 0.0000, 0.0000],\n",
      "          [0.0000, 0.0000, 0.0000,  ..., 0.0000, 0.0000, 0.0000],\n",
      "          [0.0000, 0.0000, 0.0000,  ..., 0.0000, 0.0000, 0.0000],\n",
      "          ...,\n",
      "          [0.0000, 0.0000, 0.0000,  ..., 0.0000, 0.0000, 0.0000],\n",
      "          [0.0000, 0.0000, 0.0000,  ..., 0.0000, 0.0000, 0.0000],\n",
      "          [0.0000, 0.0000, 0.0000,  ..., 0.0000, 0.0000, 0.0000]],\n",
      "\n",
      "         [[0.0000, 0.0000, 0.0000,  ..., 0.0000, 0.0000, 0.0000],\n",
      "          [0.0000, 0.0000, 0.0000,  ..., 0.0000, 0.0000, 0.0000],\n",
      "          [0.0000, 0.0000, 0.0000,  ..., 0.0000, 0.0000, 0.0000],\n",
      "          ...,\n",
      "          [0.0000, 0.0000, 0.0000,  ..., 0.0000, 0.0000, 0.0000],\n",
      "          [0.0000, 0.0000, 0.0000,  ..., 0.0000, 0.0000, 0.0000],\n",
      "          [0.0000, 0.0000, 0.0000,  ..., 0.0000, 0.0000, 0.0000]],\n",
      "\n",
      "         [[0.5000, 0.5000, 0.5000,  ..., 0.5000, 0.5000, 0.5000],\n",
      "          [0.5000, 0.5000, 0.5000,  ..., 0.5000, 0.5000, 0.5000],\n",
      "          [0.5000, 0.5000, 0.5000,  ..., 0.5000, 0.5000, 0.5000],\n",
      "          ...,\n",
      "          [0.5000, 0.5000, 0.5000,  ..., 0.5000, 0.5000, 0.5000],\n",
      "          [0.5000, 0.5000, 0.5000,  ..., 0.5000, 0.5000, 0.5000],\n",
      "          [0.5000, 0.5000, 0.5000,  ..., 0.5000, 0.5000, 0.5000]]],\n",
      "\n",
      "\n",
      "        [[[0.0000, 0.0000, 0.0000,  ..., 0.0000, 0.0000, 0.0000],\n",
      "          [0.0000, 0.0000, 0.0000,  ..., 0.0000, 0.0000, 0.0000],\n",
      "          [0.0000, 0.0000, 0.0000,  ..., 0.0000, 0.0000, 0.0000],\n",
      "          ...,\n",
      "          [0.0000, 0.0000, 0.0000,  ..., 0.0000, 0.0000, 0.0000],\n",
      "          [0.0000, 0.0000, 0.0000,  ..., 0.0000, 0.0000, 0.0000],\n",
      "          [0.0000, 0.0000, 0.0000,  ..., 0.0000, 0.0000, 0.0000]],\n",
      "\n",
      "         [[0.0000, 0.0000, 0.0000,  ..., 0.0000, 0.0000, 0.0000],\n",
      "          [0.0000, 0.0000, 0.0000,  ..., 0.0000, 0.0000, 0.0000],\n",
      "          [0.0000, 0.0000, 0.0000,  ..., 0.0000, 0.0000, 0.0000],\n",
      "          ...,\n",
      "          [0.0000, 0.0000, 0.0000,  ..., 0.0000, 0.0000, 0.0000],\n",
      "          [0.0000, 0.0000, 0.0000,  ..., 0.0000, 0.0000, 0.0000],\n",
      "          [0.0000, 0.0000, 0.0000,  ..., 0.0000, 0.0000, 0.0000]],\n",
      "\n",
      "         [[0.5000, 0.5000, 0.5000,  ..., 0.5000, 0.5000, 0.5000],\n",
      "          [0.5000, 0.5000, 0.5000,  ..., 0.5000, 0.5000, 0.5000],\n",
      "          [0.5000, 0.5000, 0.5000,  ..., 0.5000, 0.5000, 0.5000],\n",
      "          ...,\n",
      "          [0.5000, 0.5000, 0.5000,  ..., 0.5000, 0.5000, 0.5000],\n",
      "          [0.5000, 0.5000, 0.5000,  ..., 0.5000, 0.5000, 0.5000],\n",
      "          [0.5000, 0.5000, 0.5000,  ..., 0.5000, 0.5000, 0.5000]]],\n",
      "\n",
      "\n",
      "        ...,\n",
      "\n",
      "\n",
      "        [[[0.0000, 0.0000, 0.0000,  ..., 0.0000, 0.0000, 0.0000],\n",
      "          [0.0000, 0.0000, 0.0000,  ..., 0.0000, 0.0000, 0.0000],\n",
      "          [0.0000, 0.0000, 0.0000,  ..., 0.0000, 0.0000, 0.0000],\n",
      "          ...,\n",
      "          [0.0000, 0.0000, 0.0000,  ..., 0.0000, 0.0000, 0.0000],\n",
      "          [0.0000, 0.0165, 0.0083,  ..., 0.0000, 0.0000, 0.0000],\n",
      "          [0.0000, 0.0000, 0.0000,  ..., 0.0000, 0.0000, 0.0000]],\n",
      "\n",
      "         [[0.0000, 0.0000, 0.0000,  ..., 0.0000, 0.0000, 0.0000],\n",
      "          [0.0000, 0.0000, 0.0000,  ..., 0.0000, 0.0000, 0.0000],\n",
      "          [0.0000, 0.0000, 0.0000,  ..., 0.0000, 0.0000, 0.0000],\n",
      "          ...,\n",
      "          [0.0000, 0.0000, 0.0000,  ..., 0.0000, 0.0000, 0.0000],\n",
      "          [0.0000, 0.0054, 0.0054,  ..., 0.0000, 0.0000, 0.0000],\n",
      "          [0.0000, 0.0000, 0.0000,  ..., 0.0000, 0.0000, 0.0000]],\n",
      "\n",
      "         [[0.5000, 0.5000, 0.5000,  ..., 0.5000, 0.5000, 0.5000],\n",
      "          [0.5000, 0.5000, 0.5000,  ..., 0.5000, 0.5000, 0.5000],\n",
      "          [0.5000, 0.5000, 0.5000,  ..., 0.5000, 0.5000, 0.5000],\n",
      "          ...,\n",
      "          [0.5000, 0.5000, 0.5000,  ..., 0.5000, 0.5000, 0.5000],\n",
      "          [0.5000, 0.5048, 0.5000,  ..., 0.5000, 0.5000, 0.5000],\n",
      "          [0.5000, 0.5000, 0.5000,  ..., 0.5000, 0.5000, 0.5000]]],\n",
      "\n",
      "\n",
      "        [[[0.0000, 0.0000, 0.0000,  ..., 0.0000, 0.0000, 0.0000],\n",
      "          [0.0000, 0.0000, 0.0000,  ..., 0.0000, 0.0000, 0.0000],\n",
      "          [0.0000, 0.0000, 0.0000,  ..., 0.0000, 0.0000, 0.0000],\n",
      "          ...,\n",
      "          [0.0000, 0.0000, 0.0000,  ..., 0.0000, 0.0000, 0.0000],\n",
      "          [0.0000, 0.0000, 0.0000,  ..., 0.0000, 0.0000, 0.0000],\n",
      "          [0.0000, 0.0000, 0.0000,  ..., 0.0000, 0.0000, 0.0000]],\n",
      "\n",
      "         [[0.0000, 0.0000, 0.0000,  ..., 0.0000, 0.0000, 0.0000],\n",
      "          [0.0000, 0.0000, 0.0000,  ..., 0.0000, 0.0000, 0.0000],\n",
      "          [0.0000, 0.0000, 0.0000,  ..., 0.0000, 0.0000, 0.0000],\n",
      "          ...,\n",
      "          [0.0000, 0.0000, 0.0000,  ..., 0.0000, 0.0000, 0.0000],\n",
      "          [0.0000, 0.0000, 0.0000,  ..., 0.0000, 0.0000, 0.0000],\n",
      "          [0.0000, 0.0000, 0.0000,  ..., 0.0000, 0.0000, 0.0000]],\n",
      "\n",
      "         [[0.5000, 0.5000, 0.5000,  ..., 0.5000, 0.5000, 0.5000],\n",
      "          [0.5000, 0.5000, 0.5000,  ..., 0.5000, 0.5000, 0.5000],\n",
      "          [0.5000, 0.5000, 0.5000,  ..., 0.5000, 0.5000, 0.5000],\n",
      "          ...,\n",
      "          [0.5000, 0.5000, 0.5000,  ..., 0.5000, 0.5000, 0.5000],\n",
      "          [0.5000, 0.5000, 0.5000,  ..., 0.5000, 0.5000, 0.5000],\n",
      "          [0.5000, 0.5000, 0.5000,  ..., 0.5000, 0.5000, 0.5000]]],\n",
      "\n",
      "\n",
      "        [[[0.0000, 0.0000, 0.0000,  ..., 0.0000, 0.0000, 0.0000],\n",
      "          [0.0000, 0.0000, 0.0039,  ..., 0.0000, 0.0000, 0.0000],\n",
      "          [0.0000, 0.0000, 0.0000,  ..., 0.0000, 0.0000, 0.0000],\n",
      "          ...,\n",
      "          [0.0000, 0.0000, 0.0000,  ..., 0.0000, 0.0000, 0.0000],\n",
      "          [0.0000, 0.0000, 0.0000,  ..., 0.0000, 0.0000, 0.0000],\n",
      "          [0.0000, 0.0000, 0.0000,  ..., 0.0000, 0.0000, 0.0000]],\n",
      "\n",
      "         [[0.0000, 0.0000, 0.0000,  ..., 0.0000, 0.0000, 0.0000],\n",
      "          [0.0000, 0.0000, 0.0000,  ..., 0.0000, 0.0000, 0.0000],\n",
      "          [0.0000, 0.0000, 0.0000,  ..., 0.0000, 0.0000, 0.0000],\n",
      "          ...,\n",
      "          [0.0000, 0.0000, 0.0000,  ..., 0.0000, 0.0000, 0.0000],\n",
      "          [0.0000, 0.0000, 0.0000,  ..., 0.0000, 0.0000, 0.0000],\n",
      "          [0.0000, 0.0000, 0.0000,  ..., 0.0000, 0.0000, 0.0000]],\n",
      "\n",
      "         [[0.5000, 0.5000, 0.5000,  ..., 0.5000, 0.5000, 0.5000],\n",
      "          [0.5000, 0.5000, 0.5068,  ..., 0.5000, 0.5000, 0.5000],\n",
      "          [0.5000, 0.5000, 0.5000,  ..., 0.5000, 0.5000, 0.5000],\n",
      "          ...,\n",
      "          [0.5000, 0.5000, 0.5000,  ..., 0.5000, 0.5000, 0.5000],\n",
      "          [0.5000, 0.5000, 0.5000,  ..., 0.5000, 0.5000, 0.5000],\n",
      "          [0.5000, 0.5000, 0.5000,  ..., 0.5000, 0.5000, 0.5000]]]])\n"
     ]
    }
   ],
   "source": [
    "im,label = next(iter(test_data_loader))\n",
    "print(im)"
   ]
  },
  {
   "cell_type": "code",
   "execution_count": 39,
   "id": "035ef5ad",
   "metadata": {},
   "outputs": [
    {
     "ename": "RuntimeError",
     "evalue": "CUDA error: unspecified launch failure\nCUDA kernel errors might be asynchronously reported at some other API call, so the stacktrace below might be incorrect.\nFor debugging consider passing CUDA_LAUNCH_BLOCKING=1\nCompile with `TORCH_USE_CUDA_DSA` to enable device-side assertions.\n",
     "output_type": "error",
     "traceback": [
      "\u001b[31m---------------------------------------------------------------------------\u001b[39m",
      "\u001b[31mRuntimeError\u001b[39m                              Traceback (most recent call last)",
      "\u001b[36mCell\u001b[39m\u001b[36m \u001b[39m\u001b[32mIn[39]\u001b[39m\u001b[32m, line 1\u001b[39m\n\u001b[32m----> \u001b[39m\u001b[32m1\u001b[39m im = \u001b[43mim\u001b[49m\u001b[43m.\u001b[49m\u001b[43mcuda\u001b[49m\u001b[43m(\u001b[49m\u001b[43m)\u001b[49m\n",
      "\u001b[31mRuntimeError\u001b[39m: CUDA error: unspecified launch failure\nCUDA kernel errors might be asynchronously reported at some other API call, so the stacktrace below might be incorrect.\nFor debugging consider passing CUDA_LAUNCH_BLOCKING=1\nCompile with `TORCH_USE_CUDA_DSA` to enable device-side assertions.\n"
     ]
    }
   ],
   "source": [
    "im = im.cuda()"
   ]
  },
  {
   "cell_type": "code",
   "execution_count": null,
   "id": "0f0843ba",
   "metadata": {},
   "outputs": [],
   "source": []
  },
  {
   "cell_type": "code",
   "execution_count": null,
   "id": "b67b96f9",
   "metadata": {},
   "outputs": [],
   "source": []
  }
 ],
 "metadata": {
  "kernelspec": {
   "display_name": ".venv",
   "language": "python",
   "name": "python3"
  },
  "language_info": {
   "codemirror_mode": {
    "name": "ipython",
    "version": 3
   },
   "file_extension": ".py",
   "mimetype": "text/x-python",
   "name": "python",
   "nbconvert_exporter": "python",
   "pygments_lexer": "ipython3",
   "version": "3.12.3"
  }
 },
 "nbformat": 4,
 "nbformat_minor": 5
}
