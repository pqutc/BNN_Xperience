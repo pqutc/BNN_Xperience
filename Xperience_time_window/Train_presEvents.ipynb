{
 "cells": [
  {
   "cell_type": "code",
   "execution_count": 9,
   "id": "1d1ec5cb",
   "metadata": {},
   "outputs": [],
   "source": [
    "import os\n",
    "import torch\n",
    "import time\n",
    "import numpy as np\n",
    "import torch.nn as nn\n",
    "from tqdm import tqdm\n",
    "from torch.cuda import amp\n",
    "from scipy.io import savemat\n",
    "import torch.nn.functional as F\n",
    "import tonic\n",
    "import tonic.transforms as transforms\n",
    "from torch.utils.data import Dataset, DataLoader\n",
    "import numpy as np\n",
    "import matplotlib.pyplot as plt\n",
    "import pickle\n",
    "\n",
    "# Now import from models\n",
    "import sys\n",
    "sys.path.append(os.path.abspath(os.path.join(os.getcwd(), '..')))\n",
    "from models.ReActNet_A_Qaw import *\n",
    "from models.utils import *\n",
    "\n",
    "os.environ[\"CUDA_VISIBLE_DEVICES\"] = '2'"
   ]
  },
  {
   "cell_type": "code",
   "execution_count": 10,
   "id": "c4af34fe",
   "metadata": {},
   "outputs": [],
   "source": [
    "Begin_epoch = 0\n",
    "Max_epoch = 256\n",
    "Learning_rate = 1e-3\n",
    "Weight_decay = 5e-6\n",
    "Momentum = 0.9\n",
    "Top_k = 5\n",
    "SENSOR_SIZE = (128, 128, 2)\n",
    "batch_size = 64\n",
    "\n",
    "Dataset_path = '../data'\n",
    "Workers = 8\n",
    "Targetnum = 11\n",
    "\n",
    "Test_every_iteration = None\n",
    "Name_suffix = '_step2_nbEvents_presEvents'\n",
    "Savemodel_path = './savemodels_DVS/'\n",
    "Record_path = './recorddata_DVS/'\n",
    "if not os.path.exists(Savemodel_path):\n",
    "    os.mkdir(Savemodel_path)\n",
    "if not os.path.exists(Record_path):\n",
    "    os.mkdir(Record_path)\n",
    "\n",
    "_seed_ = 2023\n",
    "torch.manual_seed(_seed_)\n",
    "np.random.seed(_seed_)\n",
    "torch.backends.cudnn.benchmark = False\n",
    "torch.backends.cudnn.deterministic = True"
   ]
  },
  {
   "cell_type": "code",
   "execution_count": null,
   "id": "40576cee",
   "metadata": {},
   "outputs": [
    {
     "name": "stdout",
     "output_type": "stream",
     "text": [
      "Loaded preprocessed data from files\n"
     ]
    }
   ],
   "source": [
    "def convert_to_event_representation(frame_sequence):\n",
    "    time_steps, channels, height, width = frame_sequence.shape  # (time_steps, 2, 128, 128)\n",
    "    \n",
    "    # Check if any event (positive or negative) occurred at each pixel\n",
    "    event_mask = np.any(frame_sequence > 0, axis=(0, 1)).astype(np.float32)  # (128, 128)\n",
    "    \n",
    "    return event_mask\n",
    "\n",
    "\n",
    "# Set paths\n",
    "output_dir = \"./processed_dvsgesture\"\n",
    "train_data_path = os.path.join(output_dir, \"train_data\"+Name_suffix+\".pkl\")\n",
    "test_data_path = os.path.join(output_dir, \"test_data\"+Name_suffix+\".pkl\")\n",
    "\n",
    "# Create output directory if it doesn't exist\n",
    "os.makedirs(output_dir, exist_ok=True)\n",
    "\n",
    "# Check if processed data already exists\n",
    "if os.path.exists(train_data_path) and os.path.exists(test_data_path):\n",
    "    # Load processed data\n",
    "    with open(train_data_path, \"rb\") as f:\n",
    "        train_images, train_labels = pickle.load(f)\n",
    "    with open(test_data_path, \"rb\") as f:\n",
    "        test_images, test_labels = pickle.load(f)\n",
    "    print(\"Loaded preprocessed data from files\")\n",
    "else:\n",
    "    # Load dataset\n",
    "    transform = transforms.Compose([\n",
    "        transforms.Denoise(filter_time=10000),\n",
    "        transforms.ToFrame(sensor_size=SENSOR_SIZE, time_window=25000)\n",
    "    ])\n",
    "\n",
    "    dataset_train = tonic.datasets.DVSGesture(save_to=Dataset_path, train=True, transform=transform)\n",
    "    dataset_test = tonic.datasets.DVSGesture(save_to=Dataset_path, train=False, transform=transform)\n",
    "\n",
    "    # Process training data\n",
    "    train_images = []\n",
    "    train_labels = []\n",
    "    for i, (frames, label) in enumerate(dataset_train):\n",
    "        if i % 100 == 0:\n",
    "            print(f\"Processing training sample {i}/{len(dataset_train)}\")\n",
    "        img = convert_to_event_representation(frames)\n",
    "        train_images.append(torch.FloatTensor(img))\n",
    "        train_labels.append(label)\n",
    "        \n",
    "    # Process test data\n",
    "    test_images = []\n",
    "    test_labels = []\n",
    "    for i, (frames, label) in enumerate(dataset_test):\n",
    "        if i % 100 == 0:\n",
    "            print(f\"Processing test sample {i}/{len(dataset_test)}\")\n",
    "        img = convert_to_event_representation(frames)\n",
    "        test_images.append(torch.FloatTensor(img))\n",
    "        test_labels.append(label)\n",
    "\n",
    "    \n",
    "    # Save processed data\n",
    "    with open(train_data_path, \"wb\") as f:\n",
    "        pickle.dump((train_images, train_labels), f)\n",
    "    with open(test_data_path, \"wb\") as f:\n",
    "        pickle.dump((test_images, test_labels), f)\n",
    "    print(\"Saved preprocessed data to files\")\n",
    "\n",
    "\n",
    "# Create dataloaders\n",
    "train_data_loader = torch.utils.data.DataLoader(\n",
    "    list(zip(train_images, train_labels)),\n",
    "    batch_size=batch_size,\n",
    "    shuffle=True,\n",
    "    num_workers=Workers,\n",
    "    pin_memory=True\n",
    ")\n",
    "\n",
    "test_data_loader = torch.utils.data.DataLoader(\n",
    "    list(zip(test_images, test_labels)),\n",
    "    batch_size=batch_size,\n",
    "    shuffle=False,\n",
    "    num_workers=Workers,\n",
    "    pin_memory=True\n",
    ")"
   ]
  },
  {
   "cell_type": "code",
   "execution_count": 12,
   "id": "39e343a7",
   "metadata": {},
   "outputs": [
    {
     "name": "stdout",
     "output_type": "stream",
     "text": [
      "\n",
      "Statistics for Event Mask:\n",
      "\n",
      "Event Mask:\n",
      "  Min: 0.0000\n",
      "  Max: 1.0000\n",
      "  Mean: 0.1354\n",
      "  Std: 0.3422\n"
     ]
    },
    {
     "data": {
      "image/png": "[encoded data removed]",
      "text/plain": [
       "<Figure size 600x600 with 2 Axes>"
      ]
     },
     "metadata": {},
     "output_type": "display_data"
    }
   ],
   "source": [
    "def visualize_event_mask(data_loader, sample_index=0):\n",
    "    \"\"\"\n",
    "    Visualizes the event mask for a sample from the DataLoader, along with statistics.\n",
    "    \n",
    "    Args:\n",
    "        data_loader: PyTorch DataLoader containing (images, labels) pairs.\n",
    "        sample_index: Index of the sample to visualize within the first batch (default: 0).\n",
    "    \"\"\"\n",
    "    # Get one batch from the DataLoader\n",
    "    for batch in data_loader:\n",
    "        images, labels = batch\n",
    "        break  # Take only the first batch\n",
    "    \n",
    "    # Select the sample at sample_index\n",
    "    if sample_index >= images.shape[0]:\n",
    "        raise ValueError(f\"sample_index {sample_index} is out of range for batch size {images.shape[0]}\")\n",
    "    \n",
    "    # Extract the event mask (shape: (height, width))\n",
    "    event_mask = images[sample_index].numpy()  # Convert PyTorch tensor to NumPy array\n",
    "    \n",
    "    # Compute statistics\n",
    "    stats = {\n",
    "        \"Event Mask\": {\n",
    "            \"min\": np.min(event_mask),\n",
    "            \"max\": np.max(event_mask),\n",
    "            \"mean\": np.mean(event_mask),\n",
    "            \"std\": np.std(event_mask)\n",
    "        }\n",
    "    }\n",
    "    \n",
    "    # Print statistics\n",
    "    print(\"\\nStatistics for Event Mask:\")\n",
    "    for channel, values in stats.items():\n",
    "        print(f\"\\n{channel}:\")\n",
    "        print(f\"  Min: {values['min']:.4f}\")\n",
    "        print(f\"  Max: {values['max']:.4f}\")\n",
    "        print(f\"  Mean: {values['mean']:.4f}\")\n",
    "        print(f\"  Std: {values['std']:.4f}\")\n",
    "    \n",
    "    # Create figure for visualization\n",
    "    plt.figure(figsize=(6, 6))\n",
    "    \n",
    "    # Plot Event Mask\n",
    "    plt.imshow(event_mask, cmap='binary')\n",
    "    plt.title(\"Event Mask (1 if any event, 0 otherwise)\")\n",
    "    plt.colorbar(label=\"Presence of Events\")\n",
    "    plt.axis('off')\n",
    "    \n",
    "    plt.tight_layout()\n",
    "    plt.show()\n",
    "\n",
    "# Example usage\n",
    "visualize_event_mask(train_data_loader, sample_index=0)"
   ]
  },
  {
   "cell_type": "code",
   "execution_count": 13,
   "id": "173d26b8",
   "metadata": {},
   "outputs": [],
   "source": [
    "net = Reactnet(num_classes=Targetnum, imagenet=False)\n",
    "\n",
    "# Modifier la première couche pour accepter 1 canal au lieu de 3\n",
    "net.feature[0] = firstconv3x3(1, stage_out_channel[0], 1)"
   ]
  },
  {
   "cell_type": "code",
   "execution_count": 14,
   "id": "ae5f5a69",
   "metadata": {},
   "outputs": [],
   "source": [
    "net = nn.DataParallel(net).cuda()\n",
    "max_test_acc = 0.\n",
    "\n",
    "Test_top1 = []\n",
    "Test_topk = []\n",
    "Test_lossall = []\n",
    "Epoch_list = []\n",
    "Iteration_list = []"
   ]
  },
  {
   "cell_type": "code",
   "execution_count": 15,
   "id": "f71e710a",
   "metadata": {},
   "outputs": [],
   "source": [
    "all_parameters = net.parameters()\n",
    "weight_parameters = []\n",
    "for pname, p in net.named_parameters():\n",
    "    if (p.ndimension() == 4 or 'conv' in pname) and 'L_alpha' not in pname:\n",
    "        weight_parameters.append(p)\n",
    "weight_parameters_id = list(map(id, weight_parameters))\n",
    "other_parameters = list(filter(lambda p: id(p) not in weight_parameters_id, all_parameters))\n",
    "\n",
    "criterion_train = DistributionLoss()\n",
    "criterion_test = nn.CrossEntropyLoss()\n",
    "optimizer = torch.optim.Adam([\n",
    "    {'params' : other_parameters, 'weight_decay' : 0., 'initial_lr': Learning_rate},\n",
    "    {'params' : weight_parameters, 'weight_decay' : Weight_decay, 'initial_lr': Learning_rate}],\n",
    "    lr = Learning_rate)\n",
    "lr_scheduler = torch.optim.lr_scheduler.LambdaLR(optimizer, lambda step : (1.0-step/Max_epoch), last_epoch=Begin_epoch-1)"
   ]
  },
  {
   "cell_type": "code",
   "execution_count": 16,
   "id": "79d58a6d",
   "metadata": {},
   "outputs": [],
   "source": [
    "def test_model(net, max_test_acc, data_loader=test_data_loader, criterion=criterion_test, epoch=None, iteration=None, record=True):\n",
    "    net.eval()\n",
    "    test_samples = 0\n",
    "    test_loss = 0\n",
    "    test_acc_top1 = 0\n",
    "    test_acc_topk = 0\n",
    "    \n",
    "    with torch.no_grad():\n",
    "        for img, label in tqdm(data_loader):\n",
    "            img = img.unsqueeze(1) \n",
    "            img = img.cuda()\n",
    "            label = label.cuda()\n",
    "            \n",
    "            out_fr = net(img)\n",
    "            loss = criterion(out_fr, label)\n",
    "                \n",
    "            test_samples += label.numel()\n",
    "            test_loss += loss.item() * label.numel()\n",
    "\n",
    "            test_acc_top1 += (out_fr.argmax(1) == label).float().sum().item()\n",
    "            _, pred = out_fr.topk(Top_k, 1, True, True)\n",
    "            test_acc_topk += torch.eq(pred, label.view(-1,1)).float().sum().item()\n",
    "    \n",
    "    test_loss /= test_samples\n",
    "    test_acc_top1 /= test_samples\n",
    "    test_acc_topk /= test_samples\n",
    "\n",
    "    if test_acc_top1 >= max_test_acc:\n",
    "        max_test_acc = test_acc_top1\n",
    "        torch.save(net.state_dict(), Savemodel_path + f'max_acc{Name_suffix}.h5')\n",
    "        np.save(Savemodel_path + f'max_acc{Name_suffix}.npy', np.array(max_test_acc))\n",
    "\n",
    "    if record:\n",
    "        assert epoch is not None, \"epoch is None!\"\n",
    "        assert iteration is not None, \"iteration is None!\"\n",
    "        \n",
    "        Epoch_list.append(epoch+1)\n",
    "        Iteration_list.append(iteration+1)\n",
    "        Test_top1.append(test_acc_top1)\n",
    "        Test_topk.append(test_acc_topk)\n",
    "        Test_lossall.append(test_loss)\n",
    "\n",
    "        record_data = np.array([Epoch_list, Iteration_list, Test_top1, Test_topk, Test_lossall]).T\n",
    "        mdic = {f'Record_data':record_data, f'Record_meaning':['Epoch_list', 'Iteration_list', 'Test_top1', f'Test_top{Top_k}', 'Test_loss']}\n",
    "\n",
    "        savemat(Record_path + f'Test_{Begin_epoch}_{epoch}{Name_suffix}.mat',mdic)\n",
    "        if os.path.exists(Record_path + f'Test_{Begin_epoch}_{epoch-1}{Name_suffix}.mat'):\n",
    "            os.remove(Record_path + f'Test_{Begin_epoch}_{epoch-1}{Name_suffix}.mat')\n",
    "\n",
    "    return test_loss, test_acc_top1, test_acc_topk, max_test_acc"
   ]
  },
  {
   "cell_type": "code",
   "execution_count": 17,
   "id": "cd42d283",
   "metadata": {},
   "outputs": [],
   "source": [
    "def train_model(net, max_test_acc, epoch, data_loader=train_data_loader, optimizer=optimizer, criterion=criterion_test, record=True):\n",
    "    train_samples = 0\n",
    "    train_loss = 0\n",
    "    train_acc_top1 = 0\n",
    "    train_acc_topk = 0\n",
    "    \n",
    "    for i, (img, label) in enumerate(tqdm(data_loader)):\n",
    "        net.train()\n",
    "        img = img.unsqueeze(1) \n",
    "        img = img.cuda()\n",
    "        label = label.cuda()\n",
    "        \n",
    "        out_fr = net(img)\n",
    "        loss = criterion(out_fr, label)\n",
    "            \n",
    "        train_samples += label.numel()\n",
    "        train_loss += loss.item() * label.numel()\n",
    "\n",
    "        train_acc_top1 += (out_fr.argmax(1) == label).float().sum().item()\n",
    "        _, pred = out_fr.topk(Top_k, 1, True, True)\n",
    "        train_acc_topk += torch.eq(pred, label.view(-1,1)).float().sum().item()\n",
    "        \n",
    "        optimizer.zero_grad()\n",
    "        loss.backward()\n",
    "\n",
    "        parameters_list = []\n",
    "        for name, p in net.named_parameters():\n",
    "            if not 'fc' in name:\n",
    "                parameters_list.append(p)\n",
    "        adaptive_clip_grad(parameters_list, clip_factor=0.001)\n",
    "            \n",
    "        optimizer.step()\n",
    "\n",
    "        if Test_every_iteration is not None:\n",
    "            if (i+1) % Test_every_iteration == 0:\n",
    "                test_loss, test_acc_top1, test_acc_topk, max_test_acc = test_model(net, max_test_acc, epoch=epoch, iteration=i, record=record)\n",
    "                print(f'Test_loss: {test_loss:.4f}, Test_acc_top1: {test_acc_top1:.4f}, Test_acc_top{Top_k}: {test_acc_topk:.4f}, Max_test_acc: {max_test_acc:.4f}')\n",
    "    \n",
    "    train_loss /= train_samples\n",
    "    train_acc_top1 /= train_samples\n",
    "    train_acc_topk /= train_samples\n",
    "\n",
    "    test_loss, test_acc_top1, test_acc_topk, max_test_acc = test_model(net, max_test_acc, epoch=epoch, iteration=i, record=record)\n",
    "        \n",
    "    return train_loss, train_acc_top1, train_acc_topk, test_loss, test_acc_top1, test_acc_topk, max_test_acc"
   ]
  },
  {
   "cell_type": "code",
   "execution_count": 18,
   "id": "017a43a9",
   "metadata": {},
   "outputs": [
    {
     "name": "stderr",
     "output_type": "stream",
     "text": [
      "100%|██████████| 17/17 [00:05<00:00,  2.92it/s]\n",
      "100%|██████████| 5/5 [00:00<00:00,  7.06it/s]\n"
     ]
    },
    {
     "name": "stdout",
     "output_type": "stream",
     "text": [
      "epoch=0, train_acc_top1=0.0919, train_acc_top5=0.4708, train_loss=13.6960, test_top1=0.0909, test_top5=0.4545, test_loss=9.5379, max_test_acc=0.0909, total_time=6.7618, LR=0.00100000\n"
     ]
    },
    {
     "name": "stderr",
     "output_type": "stream",
     "text": [
      "100%|██████████| 17/17 [00:05<00:00,  3.15it/s]\n",
      "100%|██████████| 5/5 [00:00<00:00,  7.23it/s]\n"
     ]
    },
    {
     "name": "stdout",
     "output_type": "stream",
     "text": [
      "epoch=1, train_acc_top1=0.0845, train_acc_top5=0.4448, train_loss=11.2347, test_top1=0.0909, test_top5=0.4318, test_loss=6.6692, max_test_acc=0.0909, total_time=6.3756, LR=0.00099609\n"
     ]
    },
    {
     "name": "stderr",
     "output_type": "stream",
     "text": [
      "100%|██████████| 17/17 [00:05<00:00,  3.24it/s]\n",
      "100%|██████████| 5/5 [00:00<00:00,  7.27it/s]\n"
     ]
    },
    {
     "name": "stdout",
     "output_type": "stream",
     "text": [
      "epoch=2, train_acc_top1=0.0975, train_acc_top5=0.4838, train_loss=6.7071, test_top1=0.0909, test_top5=0.4545, test_loss=6.0881, max_test_acc=0.0909, total_time=6.2378, LR=0.00099219\n"
     ]
    },
    {
     "name": "stderr",
     "output_type": "stream",
     "text": [
      "100%|██████████| 17/17 [00:05<00:00,  3.25it/s]\n",
      "100%|██████████| 5/5 [00:00<00:00,  7.32it/s]\n"
     ]
    },
    {
     "name": "stdout",
     "output_type": "stream",
     "text": [
      "epoch=3, train_acc_top1=0.0929, train_acc_top5=0.4475, train_loss=5.4707, test_top1=0.0909, test_top5=0.4545, test_loss=4.8126, max_test_acc=0.0909, total_time=6.2245, LR=0.00098828\n"
     ]
    },
    {
     "name": "stderr",
     "output_type": "stream",
     "text": [
      "100%|██████████| 17/17 [00:05<00:00,  3.25it/s]\n",
      "100%|██████████| 5/5 [00:00<00:00,  7.25it/s]\n"
     ]
    },
    {
     "name": "stdout",
     "output_type": "stream",
     "text": [
      "epoch=4, train_acc_top1=0.0929, train_acc_top5=0.4596, train_loss=4.0441, test_top1=0.0909, test_top5=0.4545, test_loss=4.1298, max_test_acc=0.0909, total_time=6.2264, LR=0.00098438\n"
     ]
    },
    {
     "name": "stderr",
     "output_type": "stream",
     "text": [
      "100%|██████████| 17/17 [00:05<00:00,  3.25it/s]\n",
      "100%|██████████| 5/5 [00:00<00:00,  7.08it/s]\n"
     ]
    },
    {
     "name": "stdout",
     "output_type": "stream",
     "text": [
      "epoch=5, train_acc_top1=0.0901, train_acc_top5=0.4717, train_loss=4.4573, test_top1=0.0909, test_top5=0.4545, test_loss=4.5482, max_test_acc=0.0909, total_time=6.9880, LR=0.00098047\n"
     ]
    },
    {
     "name": "stderr",
     "output_type": "stream",
     "text": [
      "100%|██████████| 17/17 [00:05<00:00,  3.21it/s]\n",
      "100%|██████████| 5/5 [00:00<00:00,  7.19it/s]\n"
     ]
    },
    {
     "name": "stdout",
     "output_type": "stream",
     "text": [
      "epoch=6, train_acc_top1=0.0687, train_acc_top5=0.4113, train_loss=3.3832, test_top1=0.0909, test_top5=0.4545, test_loss=3.9538, max_test_acc=0.0909, total_time=6.2960, LR=0.00097656\n"
     ]
    },
    {
     "name": "stderr",
     "output_type": "stream",
     "text": [
      "100%|██████████| 17/17 [00:05<00:00,  3.25it/s]\n",
      "100%|██████████| 5/5 [00:00<00:00,  7.29it/s]\n"
     ]
    },
    {
     "name": "stdout",
     "output_type": "stream",
     "text": [
      "epoch=7, train_acc_top1=0.0891, train_acc_top5=0.4522, train_loss=3.1750, test_top1=0.0909, test_top5=0.4508, test_loss=3.5823, max_test_acc=0.0909, total_time=6.2225, LR=0.00097266\n"
     ]
    },
    {
     "name": "stderr",
     "output_type": "stream",
     "text": [
      "100%|██████████| 17/17 [00:05<00:00,  3.24it/s]\n",
      "100%|██████████| 5/5 [00:00<00:00,  7.16it/s]\n"
     ]
    },
    {
     "name": "stdout",
     "output_type": "stream",
     "text": [
      "epoch=8, train_acc_top1=0.0696, train_acc_top5=0.4373, train_loss=3.0276, test_top1=0.0909, test_top5=0.4545, test_loss=3.0099, max_test_acc=0.0909, total_time=6.2540, LR=0.00096875\n"
     ]
    },
    {
     "name": "stderr",
     "output_type": "stream",
     "text": [
      "100%|██████████| 17/17 [00:05<00:00,  3.23it/s]\n",
      "100%|██████████| 5/5 [00:00<00:00,  7.08it/s]\n"
     ]
    },
    {
     "name": "stdout",
     "output_type": "stream",
     "text": [
      "epoch=9, train_acc_top1=0.0836, train_acc_top5=0.4401, train_loss=2.9847, test_top1=0.0909, test_top5=0.4659, test_loss=2.7281, max_test_acc=0.0909, total_time=6.2737, LR=0.00096484\n"
     ]
    },
    {
     "name": "stderr",
     "output_type": "stream",
     "text": [
      "100%|██████████| 17/17 [00:05<00:00,  3.15it/s]\n",
      "100%|██████████| 5/5 [00:00<00:00,  6.87it/s]\n"
     ]
    },
    {
     "name": "stdout",
     "output_type": "stream",
     "text": [
      "epoch=10, train_acc_top1=0.0799, train_acc_top5=0.4345, train_loss=2.9391, test_top1=0.0909, test_top5=0.4545, test_loss=2.9657, max_test_acc=0.0909, total_time=7.0446, LR=0.00096094\n"
     ]
    },
    {
     "name": "stderr",
     "output_type": "stream",
     "text": [
      "100%|██████████| 17/17 [00:05<00:00,  3.15it/s]\n",
      "100%|██████████| 5/5 [00:00<00:00,  6.76it/s]\n"
     ]
    },
    {
     "name": "stdout",
     "output_type": "stream",
     "text": [
      "epoch=11, train_acc_top1=0.0826, train_acc_top5=0.4318, train_loss=2.7733, test_top1=0.0909, test_top5=0.4545, test_loss=3.0802, max_test_acc=0.0909, total_time=6.4521, LR=0.00095703\n"
     ]
    },
    {
     "name": "stderr",
     "output_type": "stream",
     "text": [
      "100%|██████████| 17/17 [00:05<00:00,  3.24it/s]\n",
      "100%|██████████| 5/5 [00:00<00:00,  6.94it/s]\n"
     ]
    },
    {
     "name": "stdout",
     "output_type": "stream",
     "text": [
      "epoch=12, train_acc_top1=0.0975, train_acc_top5=0.4559, train_loss=2.6840, test_top1=0.0909, test_top5=0.4545, test_loss=2.7930, max_test_acc=0.0909, total_time=6.2807, LR=0.00095312\n"
     ]
    },
    {
     "name": "stderr",
     "output_type": "stream",
     "text": [
      "100%|██████████| 17/17 [00:05<00:00,  3.22it/s]\n",
      "100%|██████████| 5/5 [00:00<00:00,  6.68it/s]\n"
     ]
    },
    {
     "name": "stdout",
     "output_type": "stream",
     "text": [
      "epoch=13, train_acc_top1=0.0706, train_acc_top5=0.4475, train_loss=2.7120, test_top1=0.0909, test_top5=0.4545, test_loss=3.0474, max_test_acc=0.0909, total_time=6.3258, LR=0.00094922\n"
     ]
    },
    {
     "name": "stderr",
     "output_type": "stream",
     "text": [
      "100%|██████████| 17/17 [00:05<00:00,  3.21it/s]\n",
      "100%|██████████| 5/5 [00:00<00:00,  6.75it/s]\n"
     ]
    },
    {
     "name": "stdout",
     "output_type": "stream",
     "text": [
      "epoch=14, train_acc_top1=0.0901, train_acc_top5=0.4420, train_loss=2.7703, test_top1=0.0871, test_top5=0.4545, test_loss=2.6148, max_test_acc=0.0909, total_time=6.0448, LR=0.00094531\n"
     ]
    },
    {
     "name": "stderr",
     "output_type": "stream",
     "text": [
      "100%|██████████| 17/17 [00:05<00:00,  3.21it/s]\n",
      "100%|██████████| 5/5 [00:00<00:00,  6.57it/s]\n"
     ]
    },
    {
     "name": "stdout",
     "output_type": "stream",
     "text": [
      "epoch=15, train_acc_top1=0.0864, train_acc_top5=0.4503, train_loss=2.7453, test_top1=0.0909, test_top5=0.4545, test_loss=2.6563, max_test_acc=0.0909, total_time=6.3450, LR=0.00094141\n"
     ]
    },
    {
     "name": "stderr",
     "output_type": "stream",
     "text": [
      "100%|██████████| 17/17 [00:05<00:00,  3.15it/s]\n",
      "100%|██████████| 5/5 [00:00<00:00,  7.18it/s]\n"
     ]
    },
    {
     "name": "stdout",
     "output_type": "stream",
     "text": [
      "epoch=16, train_acc_top1=0.0901, train_acc_top5=0.4475, train_loss=2.6368, test_top1=0.0909, test_top5=0.4470, test_loss=2.5801, max_test_acc=0.0909, total_time=7.2171, LR=0.00093750\n"
     ]
    },
    {
     "name": "stderr",
     "output_type": "stream",
     "text": [
      "100%|██████████| 17/17 [00:05<00:00,  3.20it/s]\n",
      "100%|██████████| 5/5 [00:00<00:00,  6.97it/s]\n"
     ]
    },
    {
     "name": "stdout",
     "output_type": "stream",
     "text": [
      "epoch=17, train_acc_top1=0.0910, train_acc_top5=0.4410, train_loss=2.6219, test_top1=0.0909, test_top5=0.4621, test_loss=2.5436, max_test_acc=0.0909, total_time=6.3163, LR=0.00093359\n"
     ]
    },
    {
     "name": "stderr",
     "output_type": "stream",
     "text": [
      "100%|██████████| 17/17 [00:05<00:00,  3.22it/s]\n",
      "100%|██████████| 5/5 [00:00<00:00,  7.18it/s]\n"
     ]
    },
    {
     "name": "stdout",
     "output_type": "stream",
     "text": [
      "epoch=18, train_acc_top1=0.0826, train_acc_top5=0.4225, train_loss=2.5955, test_top1=0.0909, test_top5=0.4735, test_loss=2.5607, max_test_acc=0.0909, total_time=6.3119, LR=0.00092969\n"
     ]
    },
    {
     "name": "stderr",
     "output_type": "stream",
     "text": [
      "100%|██████████| 17/17 [00:05<00:00,  3.25it/s]\n",
      "100%|██████████| 5/5 [00:00<00:00,  7.14it/s]\n"
     ]
    },
    {
     "name": "stdout",
     "output_type": "stream",
     "text": [
      "epoch=19, train_acc_top1=0.0864, train_acc_top5=0.4550, train_loss=2.5624, test_top1=0.0909, test_top5=0.4545, test_loss=2.7690, max_test_acc=0.0909, total_time=6.2682, LR=0.00092578\n"
     ]
    },
    {
     "name": "stderr",
     "output_type": "stream",
     "text": [
      "100%|██████████| 17/17 [00:05<00:00,  3.24it/s]\n",
      "100%|██████████| 5/5 [00:00<00:00,  7.27it/s]\n"
     ]
    },
    {
     "name": "stdout",
     "output_type": "stream",
     "text": [
      "epoch=20, train_acc_top1=0.0743, train_acc_top5=0.4383, train_loss=2.6417, test_top1=0.0909, test_top5=0.4545, test_loss=2.7320, max_test_acc=0.0909, total_time=6.2653, LR=0.00092188\n"
     ]
    },
    {
     "name": "stderr",
     "output_type": "stream",
     "text": [
      "100%|██████████| 17/17 [00:05<00:00,  3.24it/s]\n",
      "100%|██████████| 5/5 [00:00<00:00,  7.13it/s]\n"
     ]
    },
    {
     "name": "stdout",
     "output_type": "stream",
     "text": [
      "epoch=21, train_acc_top1=0.0947, train_acc_top5=0.4708, train_loss=2.5473, test_top1=0.0909, test_top5=0.4545, test_loss=2.5966, max_test_acc=0.0909, total_time=6.2810, LR=0.00091797\n"
     ]
    },
    {
     "name": "stderr",
     "output_type": "stream",
     "text": [
      "100%|██████████| 17/17 [00:05<00:00,  3.26it/s]\n",
      "100%|██████████| 5/5 [00:00<00:00,  7.21it/s]\n"
     ]
    },
    {
     "name": "stdout",
     "output_type": "stream",
     "text": [
      "epoch=22, train_acc_top1=0.0808, train_acc_top5=0.4234, train_loss=2.5745, test_top1=0.0909, test_top5=0.4621, test_loss=2.5091, max_test_acc=0.0909, total_time=8.0245, LR=0.00091406\n"
     ]
    },
    {
     "name": "stderr",
     "output_type": "stream",
     "text": [
      "100%|██████████| 17/17 [00:05<00:00,  3.24it/s]\n",
      "100%|██████████| 5/5 [00:00<00:00,  7.29it/s]\n"
     ]
    },
    {
     "name": "stdout",
     "output_type": "stream",
     "text": [
      "epoch=23, train_acc_top1=0.0891, train_acc_top5=0.4410, train_loss=2.5106, test_top1=0.0909, test_top5=0.4545, test_loss=2.5158, max_test_acc=0.0909, total_time=6.2318, LR=0.00091016\n"
     ]
    },
    {
     "name": "stderr",
     "output_type": "stream",
     "text": [
      "100%|██████████| 17/17 [00:05<00:00,  3.26it/s]\n",
      "100%|██████████| 5/5 [00:00<00:00,  7.33it/s]\n"
     ]
    },
    {
     "name": "stdout",
     "output_type": "stream",
     "text": [
      "epoch=24, train_acc_top1=0.0919, train_acc_top5=0.4429, train_loss=2.5133, test_top1=0.0909, test_top5=0.4205, test_loss=2.5664, max_test_acc=0.0909, total_time=6.2135, LR=0.00090625\n"
     ]
    },
    {
     "name": "stderr",
     "output_type": "stream",
     "text": [
      "100%|██████████| 17/17 [00:05<00:00,  3.25it/s]\n",
      "100%|██████████| 5/5 [00:00<00:00,  7.25it/s]\n"
     ]
    },
    {
     "name": "stdout",
     "output_type": "stream",
     "text": [
      "epoch=25, train_acc_top1=0.0836, train_acc_top5=0.4429, train_loss=2.5533, test_top1=0.0871, test_top5=0.4545, test_loss=2.4529, max_test_acc=0.0909, total_time=5.9356, LR=0.00090234\n"
     ]
    },
    {
     "name": "stderr",
     "output_type": "stream",
     "text": [
      "100%|██████████| 17/17 [00:05<00:00,  3.25it/s]\n",
      "100%|██████████| 5/5 [00:00<00:00,  7.17it/s]\n"
     ]
    },
    {
     "name": "stdout",
     "output_type": "stream",
     "text": [
      "epoch=26, train_acc_top1=0.0929, train_acc_top5=0.4401, train_loss=2.4925, test_top1=0.0909, test_top5=0.4545, test_loss=2.4503, max_test_acc=0.0909, total_time=6.2252, LR=0.00089844\n"
     ]
    },
    {
     "name": "stderr",
     "output_type": "stream",
     "text": [
      "100%|██████████| 17/17 [00:05<00:00,  3.24it/s]\n",
      "100%|██████████| 5/5 [00:00<00:00,  7.21it/s]\n"
     ]
    },
    {
     "name": "stdout",
     "output_type": "stream",
     "text": [
      "epoch=27, train_acc_top1=0.0919, train_acc_top5=0.4503, train_loss=2.4910, test_top1=0.0909, test_top5=0.4545, test_loss=2.4456, max_test_acc=0.0909, total_time=6.6289, LR=0.00089453\n"
     ]
    },
    {
     "name": "stderr",
     "output_type": "stream",
     "text": [
      "100%|██████████| 17/17 [00:05<00:00,  3.25it/s]\n",
      "100%|██████████| 5/5 [00:00<00:00,  7.29it/s]\n"
     ]
    },
    {
     "name": "stdout",
     "output_type": "stream",
     "text": [
      "epoch=28, train_acc_top1=0.0882, train_acc_top5=0.4438, train_loss=2.4953, test_top1=0.0909, test_top5=0.4583, test_loss=2.5057, max_test_acc=0.0909, total_time=6.2191, LR=0.00089063\n"
     ]
    },
    {
     "name": "stderr",
     "output_type": "stream",
     "text": [
      "100%|██████████| 17/17 [00:05<00:00,  3.24it/s]\n",
      "100%|██████████| 5/5 [00:00<00:00,  7.14it/s]\n"
     ]
    },
    {
     "name": "stdout",
     "output_type": "stream",
     "text": [
      "epoch=29, train_acc_top1=0.0808, train_acc_top5=0.4373, train_loss=2.4810, test_top1=0.0909, test_top5=0.4697, test_loss=2.4383, max_test_acc=0.0909, total_time=6.2590, LR=0.00088672\n"
     ]
    },
    {
     "name": "stderr",
     "output_type": "stream",
     "text": [
      "100%|██████████| 17/17 [00:05<00:00,  3.25it/s]\n",
      "100%|██████████| 5/5 [00:00<00:00,  7.27it/s]\n"
     ]
    },
    {
     "name": "stdout",
     "output_type": "stream",
     "text": [
      "epoch=30, train_acc_top1=0.0836, train_acc_top5=0.4262, train_loss=2.4812, test_top1=0.0909, test_top5=0.4545, test_loss=2.4971, max_test_acc=0.0909, total_time=6.2530, LR=0.00088281\n"
     ]
    },
    {
     "name": "stderr",
     "output_type": "stream",
     "text": [
      "100%|██████████| 17/17 [00:05<00:00,  3.25it/s]\n",
      "100%|██████████| 5/5 [00:00<00:00,  7.23it/s]\n"
     ]
    },
    {
     "name": "stdout",
     "output_type": "stream",
     "text": [
      "epoch=31, train_acc_top1=0.0826, train_acc_top5=0.4123, train_loss=2.4755, test_top1=0.0909, test_top5=0.4545, test_loss=2.4430, max_test_acc=0.0909, total_time=6.2607, LR=0.00087891\n"
     ]
    },
    {
     "name": "stderr",
     "output_type": "stream",
     "text": [
      "100%|██████████| 17/17 [00:05<00:00,  3.24it/s]\n",
      "100%|██████████| 5/5 [00:00<00:00,  7.23it/s]\n"
     ]
    },
    {
     "name": "stdout",
     "output_type": "stream",
     "text": [
      "epoch=32, train_acc_top1=0.0919, train_acc_top5=0.4568, train_loss=2.4296, test_top1=0.0909, test_top5=0.4583, test_loss=2.4099, max_test_acc=0.0909, total_time=6.2479, LR=0.00087500\n"
     ]
    },
    {
     "name": "stderr",
     "output_type": "stream",
     "text": [
      "100%|██████████| 17/17 [00:05<00:00,  3.23it/s]\n",
      "100%|██████████| 5/5 [00:00<00:00,  7.11it/s]\n"
     ]
    },
    {
     "name": "stdout",
     "output_type": "stream",
     "text": [
      "epoch=33, train_acc_top1=0.0882, train_acc_top5=0.4318, train_loss=2.4333, test_top1=0.0909, test_top5=0.4545, test_loss=2.4063, max_test_acc=0.0909, total_time=6.8839, LR=0.00087109\n"
     ]
    },
    {
     "name": "stderr",
     "output_type": "stream",
     "text": [
      "100%|██████████| 17/17 [00:05<00:00,  3.23it/s]\n",
      "100%|██████████| 5/5 [00:00<00:00,  7.02it/s]\n"
     ]
    },
    {
     "name": "stdout",
     "output_type": "stream",
     "text": [
      "epoch=34, train_acc_top1=0.0761, train_acc_top5=0.4494, train_loss=2.4308, test_top1=0.0909, test_top5=0.4545, test_loss=2.4206, max_test_acc=0.0909, total_time=6.2846, LR=0.00086719\n"
     ]
    },
    {
     "name": "stderr",
     "output_type": "stream",
     "text": [
      "100%|██████████| 17/17 [00:05<00:00,  3.21it/s]\n",
      "100%|██████████| 5/5 [00:00<00:00,  6.63it/s]\n"
     ]
    },
    {
     "name": "stdout",
     "output_type": "stream",
     "text": [
      "epoch=35, train_acc_top1=0.0706, train_acc_top5=0.4215, train_loss=2.4318, test_top1=0.0909, test_top5=0.4508, test_loss=2.4376, max_test_acc=0.0909, total_time=6.3704, LR=0.00086328\n"
     ]
    },
    {
     "name": "stderr",
     "output_type": "stream",
     "text": [
      "100%|██████████| 17/17 [00:05<00:00,  3.26it/s]\n",
      "100%|██████████| 5/5 [00:00<00:00,  7.21it/s]\n"
     ]
    },
    {
     "name": "stdout",
     "output_type": "stream",
     "text": [
      "epoch=36, train_acc_top1=0.0910, train_acc_top5=0.4373, train_loss=2.4225, test_top1=0.0909, test_top5=0.4621, test_loss=2.4203, max_test_acc=0.0909, total_time=6.2183, LR=0.00085938\n"
     ]
    },
    {
     "name": "stderr",
     "output_type": "stream",
     "text": [
      "100%|██████████| 17/17 [00:05<00:00,  3.25it/s]\n",
      "100%|██████████| 5/5 [00:00<00:00,  7.26it/s]\n"
     ]
    },
    {
     "name": "stdout",
     "output_type": "stream",
     "text": [
      "epoch=37, train_acc_top1=0.0938, train_acc_top5=0.4550, train_loss=2.4112, test_top1=0.1061, test_top5=0.4545, test_loss=2.4015, max_test_acc=0.1061, total_time=6.2206, LR=0.00085547\n"
     ]
    },
    {
     "name": "stderr",
     "output_type": "stream",
     "text": [
      "100%|██████████| 17/17 [00:05<00:00,  3.25it/s]\n",
      "100%|██████████| 5/5 [00:00<00:00,  6.89it/s]\n"
     ]
    },
    {
     "name": "stdout",
     "output_type": "stream",
     "text": [
      "epoch=38, train_acc_top1=0.0891, train_acc_top5=0.4494, train_loss=2.4106, test_top1=0.0909, test_top5=0.4432, test_loss=2.4005, max_test_acc=0.1061, total_time=5.9617, LR=0.00085156\n"
     ]
    },
    {
     "name": "stderr",
     "output_type": "stream",
     "text": [
      "100%|██████████| 17/17 [00:05<00:00,  3.24it/s]\n",
      "100%|██████████| 5/5 [00:00<00:00,  7.08it/s]\n"
     ]
    },
    {
     "name": "stdout",
     "output_type": "stream",
     "text": [
      "epoch=39, train_acc_top1=0.0947, train_acc_top5=0.4364, train_loss=2.4089, test_top1=0.0909, test_top5=0.4962, test_loss=2.4010, max_test_acc=0.1061, total_time=6.5453, LR=0.00084766\n"
     ]
    },
    {
     "name": "stderr",
     "output_type": "stream",
     "text": [
      "100%|██████████| 17/17 [00:05<00:00,  3.25it/s]\n",
      "100%|██████████| 5/5 [00:00<00:00,  6.65it/s]\n"
     ]
    },
    {
     "name": "stdout",
     "output_type": "stream",
     "text": [
      "epoch=40, train_acc_top1=0.0808, train_acc_top5=0.4457, train_loss=2.4064, test_top1=0.0947, test_top5=0.4659, test_loss=2.3871, max_test_acc=0.1061, total_time=5.9880, LR=0.00084375\n"
     ]
    },
    {
     "name": "stderr",
     "output_type": "stream",
     "text": [
      "100%|██████████| 17/17 [00:05<00:00,  3.25it/s]\n",
      "100%|██████████| 5/5 [00:00<00:00,  7.27it/s]\n"
     ]
    },
    {
     "name": "stdout",
     "output_type": "stream",
     "text": [
      "epoch=41, train_acc_top1=0.0938, train_acc_top5=0.4652, train_loss=2.4050, test_top1=0.0947, test_top5=0.4621, test_loss=2.4032, max_test_acc=0.1061, total_time=5.9289, LR=0.00083984\n"
     ]
    },
    {
     "name": "stderr",
     "output_type": "stream",
     "text": [
      "100%|██████████| 17/17 [00:05<00:00,  3.25it/s]\n",
      "100%|██████████| 5/5 [00:00<00:00,  7.28it/s]\n"
     ]
    },
    {
     "name": "stdout",
     "output_type": "stream",
     "text": [
      "epoch=42, train_acc_top1=0.1012, train_acc_top5=0.4540, train_loss=2.4135, test_top1=0.0909, test_top5=0.4735, test_loss=2.4237, max_test_acc=0.1061, total_time=5.9306, LR=0.00083594\n"
     ]
    },
    {
     "name": "stderr",
     "output_type": "stream",
     "text": [
      "100%|██████████| 17/17 [00:05<00:00,  3.22it/s]\n",
      "100%|██████████| 5/5 [00:00<00:00,  6.94it/s]\n"
     ]
    },
    {
     "name": "stdout",
     "output_type": "stream",
     "text": [
      "epoch=43, train_acc_top1=0.0938, train_acc_top5=0.4578, train_loss=2.4168, test_top1=0.1591, test_top5=0.5076, test_loss=2.3737, max_test_acc=0.1591, total_time=6.3232, LR=0.00083203\n"
     ]
    },
    {
     "name": "stderr",
     "output_type": "stream",
     "text": [
      "100%|██████████| 17/17 [00:05<00:00,  3.24it/s]\n",
      "100%|██████████| 5/5 [00:00<00:00,  6.70it/s]\n"
     ]
    },
    {
     "name": "stdout",
     "output_type": "stream",
     "text": [
      "epoch=44, train_acc_top1=0.1142, train_acc_top5=0.5330, train_loss=2.3816, test_top1=0.1515, test_top5=0.6439, test_loss=2.2909, max_test_acc=0.1591, total_time=5.9940, LR=0.00082812\n"
     ]
    },
    {
     "name": "stderr",
     "output_type": "stream",
     "text": [
      "100%|██████████| 17/17 [00:05<00:00,  3.20it/s]\n",
      "100%|██████████| 5/5 [00:00<00:00,  6.75it/s]\n"
     ]
    },
    {
     "name": "stdout",
     "output_type": "stream",
     "text": [
      "epoch=45, train_acc_top1=0.1031, train_acc_top5=0.5042, train_loss=2.4469, test_top1=0.1136, test_top5=0.5227, test_loss=2.4006, max_test_acc=0.1591, total_time=6.0609, LR=0.00082422\n"
     ]
    },
    {
     "name": "stderr",
     "output_type": "stream",
     "text": [
      "100%|██████████| 17/17 [00:05<00:00,  3.19it/s]\n",
      "100%|██████████| 5/5 [00:00<00:00,  7.08it/s]\n"
     ]
    },
    {
     "name": "stdout",
     "output_type": "stream",
     "text": [
      "epoch=46, train_acc_top1=0.0901, train_acc_top5=0.4698, train_loss=2.4197, test_top1=0.0871, test_top5=0.4811, test_loss=2.4240, max_test_acc=0.1591, total_time=6.0457, LR=0.00082031\n"
     ]
    },
    {
     "name": "stderr",
     "output_type": "stream",
     "text": [
      "100%|██████████| 17/17 [00:05<00:00,  3.25it/s]\n",
      "100%|██████████| 5/5 [00:00<00:00,  7.28it/s]\n"
     ]
    },
    {
     "name": "stdout",
     "output_type": "stream",
     "text": [
      "epoch=47, train_acc_top1=0.1021, train_acc_top5=0.4689, train_loss=2.4305, test_top1=0.0947, test_top5=0.4318, test_loss=2.4404, max_test_acc=0.1591, total_time=5.9174, LR=0.00081641\n"
     ]
    },
    {
     "name": "stderr",
     "output_type": "stream",
     "text": [
      "100%|██████████| 17/17 [00:05<00:00,  3.22it/s]\n",
      "100%|██████████| 5/5 [00:00<00:00,  7.19it/s]\n"
     ]
    },
    {
     "name": "stdout",
     "output_type": "stream",
     "text": [
      "epoch=48, train_acc_top1=0.0854, train_acc_top5=0.4188, train_loss=2.4298, test_top1=0.0909, test_top5=0.4697, test_loss=2.4085, max_test_acc=0.1591, total_time=5.9766, LR=0.00081250\n"
     ]
    },
    {
     "name": "stderr",
     "output_type": "stream",
     "text": [
      "100%|██████████| 17/17 [00:05<00:00,  3.26it/s]\n",
      "100%|██████████| 5/5 [00:00<00:00,  7.16it/s]\n"
     ]
    },
    {
     "name": "stdout",
     "output_type": "stream",
     "text": [
      "epoch=49, train_acc_top1=0.0743, train_acc_top5=0.4355, train_loss=2.4158, test_top1=0.0909, test_top5=0.4545, test_loss=2.4099, max_test_acc=0.1591, total_time=5.9219, LR=0.00080859\n"
     ]
    },
    {
     "name": "stderr",
     "output_type": "stream",
     "text": [
      "100%|██████████| 17/17 [00:05<00:00,  3.23it/s]\n",
      "100%|██████████| 5/5 [00:00<00:00,  7.03it/s]\n"
     ]
    },
    {
     "name": "stdout",
     "output_type": "stream",
     "text": [
      "epoch=50, train_acc_top1=0.0873, train_acc_top5=0.4410, train_loss=2.4125, test_top1=0.0909, test_top5=0.4545, test_loss=2.4027, max_test_acc=0.1591, total_time=5.9763, LR=0.00080469\n"
     ]
    },
    {
     "name": "stderr",
     "output_type": "stream",
     "text": [
      "100%|██████████| 17/17 [00:05<00:00,  3.21it/s]\n",
      "100%|██████████| 5/5 [00:00<00:00,  7.17it/s]\n"
     ]
    },
    {
     "name": "stdout",
     "output_type": "stream",
     "text": [
      "epoch=51, train_acc_top1=0.0864, train_acc_top5=0.4420, train_loss=2.4125, test_top1=0.0795, test_top5=0.4621, test_loss=2.4003, max_test_acc=0.1591, total_time=6.0092, LR=0.00080078\n"
     ]
    },
    {
     "name": "stderr",
     "output_type": "stream",
     "text": [
      "100%|██████████| 17/17 [00:05<00:00,  3.23it/s]\n",
      "100%|██████████| 5/5 [00:00<00:00,  7.03it/s]\n"
     ]
    },
    {
     "name": "stdout",
     "output_type": "stream",
     "text": [
      "epoch=52, train_acc_top1=0.0929, train_acc_top5=0.4559, train_loss=2.4168, test_top1=0.0909, test_top5=0.4356, test_loss=2.4141, max_test_acc=0.1591, total_time=5.9836, LR=0.00079688\n"
     ]
    },
    {
     "name": "stderr",
     "output_type": "stream",
     "text": [
      "100%|██████████| 17/17 [00:05<00:00,  3.26it/s]\n",
      "100%|██████████| 5/5 [00:00<00:00,  7.22it/s]\n"
     ]
    },
    {
     "name": "stdout",
     "output_type": "stream",
     "text": [
      "epoch=53, train_acc_top1=0.0743, train_acc_top5=0.4225, train_loss=2.4137, test_top1=0.1174, test_top5=0.4545, test_loss=2.4053, max_test_acc=0.1591, total_time=5.9081, LR=0.00079297\n"
     ]
    },
    {
     "name": "stderr",
     "output_type": "stream",
     "text": [
      "100%|██████████| 17/17 [00:05<00:00,  3.26it/s]\n",
      "100%|██████████| 5/5 [00:00<00:00,  7.06it/s]\n"
     ]
    },
    {
     "name": "stdout",
     "output_type": "stream",
     "text": [
      "epoch=54, train_acc_top1=0.0826, train_acc_top5=0.4336, train_loss=2.4082, test_top1=0.0909, test_top5=0.4053, test_loss=2.4003, max_test_acc=0.1591, total_time=5.9258, LR=0.00078906\n"
     ]
    },
    {
     "name": "stderr",
     "output_type": "stream",
     "text": [
      "100%|██████████| 17/17 [00:05<00:00,  3.18it/s]\n",
      "100%|██████████| 5/5 [00:00<00:00,  6.56it/s]\n"
     ]
    },
    {
     "name": "stdout",
     "output_type": "stream",
     "text": [
      "epoch=55, train_acc_top1=0.0780, train_acc_top5=0.4373, train_loss=2.4063, test_top1=0.0909, test_top5=0.4545, test_loss=2.4012, max_test_acc=0.1591, total_time=6.1222, LR=0.00078516\n"
     ]
    },
    {
     "name": "stderr",
     "output_type": "stream",
     "text": [
      "100%|██████████| 17/17 [00:05<00:00,  3.21it/s]\n",
      "100%|██████████| 5/5 [00:00<00:00,  6.65it/s]\n"
     ]
    },
    {
     "name": "stdout",
     "output_type": "stream",
     "text": [
      "epoch=56, train_acc_top1=0.0845, train_acc_top5=0.4373, train_loss=2.4044, test_top1=0.0644, test_top5=0.4545, test_loss=2.4000, max_test_acc=0.1591, total_time=6.0484, LR=0.00078125\n"
     ]
    },
    {
     "name": "stderr",
     "output_type": "stream",
     "text": [
      "100%|██████████| 17/17 [00:05<00:00,  3.20it/s]\n",
      "100%|██████████| 5/5 [00:00<00:00,  7.09it/s]\n"
     ]
    },
    {
     "name": "stdout",
     "output_type": "stream",
     "text": [
      "epoch=57, train_acc_top1=0.0854, train_acc_top5=0.4225, train_loss=2.4012, test_top1=0.0909, test_top5=0.5000, test_loss=2.3958, max_test_acc=0.1591, total_time=6.0173, LR=0.00077734\n"
     ]
    },
    {
     "name": "stderr",
     "output_type": "stream",
     "text": [
      "100%|██████████| 17/17 [00:05<00:00,  3.23it/s]\n",
      "100%|██████████| 5/5 [00:00<00:00,  7.09it/s]\n"
     ]
    },
    {
     "name": "stdout",
     "output_type": "stream",
     "text": [
      "epoch=58, train_acc_top1=0.0882, train_acc_top5=0.4243, train_loss=2.4037, test_top1=0.1023, test_top5=0.5076, test_loss=2.3968, max_test_acc=0.1591, total_time=5.9741, LR=0.00077344\n"
     ]
    },
    {
     "name": "stderr",
     "output_type": "stream",
     "text": [
      "100%|██████████| 17/17 [00:05<00:00,  3.25it/s]\n",
      "100%|██████████| 5/5 [00:00<00:00,  7.15it/s]\n"
     ]
    },
    {
     "name": "stdout",
     "output_type": "stream",
     "text": [
      "epoch=59, train_acc_top1=0.0576, train_acc_top5=0.4448, train_loss=2.4013, test_top1=0.0947, test_top5=0.4545, test_loss=2.3934, max_test_acc=0.1591, total_time=5.9404, LR=0.00076953\n"
     ]
    },
    {
     "name": "stderr",
     "output_type": "stream",
     "text": [
      "100%|██████████| 17/17 [00:05<00:00,  3.26it/s]\n",
      "100%|██████████| 5/5 [00:00<00:00,  7.21it/s]\n"
     ]
    },
    {
     "name": "stdout",
     "output_type": "stream",
     "text": [
      "epoch=60, train_acc_top1=0.0873, train_acc_top5=0.4522, train_loss=2.4011, test_top1=0.0909, test_top5=0.4545, test_loss=2.4076, max_test_acc=0.1591, total_time=5.9234, LR=0.00076563\n"
     ]
    },
    {
     "name": "stderr",
     "output_type": "stream",
     "text": [
      "100%|██████████| 17/17 [00:05<00:00,  3.25it/s]\n",
      "100%|██████████| 5/5 [00:00<00:00,  7.30it/s]\n"
     ]
    },
    {
     "name": "stdout",
     "output_type": "stream",
     "text": [
      "epoch=61, train_acc_top1=0.0966, train_acc_top5=0.4568, train_loss=2.4044, test_top1=0.0909, test_top5=0.4545, test_loss=2.4033, max_test_acc=0.1591, total_time=5.9166, LR=0.00076172\n"
     ]
    },
    {
     "name": "stderr",
     "output_type": "stream",
     "text": [
      "100%|██████████| 17/17 [00:05<00:00,  3.21it/s]\n",
      "100%|██████████| 5/5 [00:00<00:00,  6.77it/s]\n"
     ]
    },
    {
     "name": "stdout",
     "output_type": "stream",
     "text": [
      "epoch=62, train_acc_top1=0.0799, train_acc_top5=0.4299, train_loss=2.4091, test_top1=0.0909, test_top5=0.4394, test_loss=2.3980, max_test_acc=0.1591, total_time=6.0470, LR=0.00075781\n"
     ]
    },
    {
     "name": "stderr",
     "output_type": "stream",
     "text": [
      "100%|██████████| 17/17 [00:05<00:00,  3.19it/s]\n",
      "100%|██████████| 5/5 [00:00<00:00,  6.96it/s]\n"
     ]
    },
    {
     "name": "stdout",
     "output_type": "stream",
     "text": [
      "epoch=63, train_acc_top1=0.0901, train_acc_top5=0.4578, train_loss=2.4072, test_top1=0.0909, test_top5=0.4735, test_loss=2.3983, max_test_acc=0.1591, total_time=6.0491, LR=0.00075391\n"
     ]
    },
    {
     "name": "stderr",
     "output_type": "stream",
     "text": [
      "100%|██████████| 17/17 [00:05<00:00,  3.19it/s]\n",
      "100%|██████████| 5/5 [00:00<00:00,  6.76it/s]\n"
     ]
    },
    {
     "name": "stdout",
     "output_type": "stream",
     "text": [
      "epoch=64, train_acc_top1=0.0724, train_acc_top5=0.4169, train_loss=2.4084, test_top1=0.0909, test_top5=0.4470, test_loss=2.3986, max_test_acc=0.1591, total_time=6.0788, LR=0.00075000\n"
     ]
    },
    {
     "name": "stderr",
     "output_type": "stream",
     "text": [
      "100%|██████████| 17/17 [00:05<00:00,  3.19it/s]\n",
      "100%|██████████| 5/5 [00:00<00:00,  6.81it/s]\n"
     ]
    },
    {
     "name": "stdout",
     "output_type": "stream",
     "text": [
      "epoch=65, train_acc_top1=0.0817, train_acc_top5=0.4485, train_loss=2.4029, test_top1=0.0909, test_top5=0.4924, test_loss=2.3952, max_test_acc=0.1591, total_time=6.0640, LR=0.00074609\n"
     ]
    },
    {
     "name": "stderr",
     "output_type": "stream",
     "text": [
      "100%|██████████| 17/17 [00:05<00:00,  3.20it/s]\n",
      "100%|██████████| 5/5 [00:00<00:00,  6.74it/s]\n"
     ]
    },
    {
     "name": "stdout",
     "output_type": "stream",
     "text": [
      "epoch=66, train_acc_top1=0.0882, train_acc_top5=0.4262, train_loss=2.4059, test_top1=0.0909, test_top5=0.4545, test_loss=2.3994, max_test_acc=0.1591, total_time=6.0566, LR=0.00074219\n"
     ]
    },
    {
     "name": "stderr",
     "output_type": "stream",
     "text": [
      "100%|██████████| 17/17 [00:05<00:00,  3.20it/s]\n",
      "100%|██████████| 5/5 [00:00<00:00,  6.89it/s]\n"
     ]
    },
    {
     "name": "stdout",
     "output_type": "stream",
     "text": [
      "epoch=67, train_acc_top1=0.0845, train_acc_top5=0.4178, train_loss=2.4037, test_top1=0.1023, test_top5=0.4545, test_loss=2.3986, max_test_acc=0.1591, total_time=6.0512, LR=0.00073828\n"
     ]
    },
    {
     "name": "stderr",
     "output_type": "stream",
     "text": [
      "100%|██████████| 17/17 [00:05<00:00,  3.22it/s]\n",
      "100%|██████████| 5/5 [00:00<00:00,  6.97it/s]\n"
     ]
    },
    {
     "name": "stdout",
     "output_type": "stream",
     "text": [
      "epoch=68, train_acc_top1=0.0771, train_acc_top5=0.4197, train_loss=2.4043, test_top1=0.0909, test_top5=0.4545, test_loss=2.3986, max_test_acc=0.1591, total_time=6.0099, LR=0.00073438\n"
     ]
    },
    {
     "name": "stderr",
     "output_type": "stream",
     "text": [
      "100%|██████████| 17/17 [00:05<00:00,  3.24it/s]\n",
      "100%|██████████| 5/5 [00:00<00:00,  7.13it/s]\n"
     ]
    },
    {
     "name": "stdout",
     "output_type": "stream",
     "text": [
      "epoch=69, train_acc_top1=0.0836, train_acc_top5=0.4197, train_loss=2.4036, test_top1=0.0909, test_top5=0.4545, test_loss=2.3984, max_test_acc=0.1591, total_time=5.9566, LR=0.00073047\n"
     ]
    },
    {
     "name": "stderr",
     "output_type": "stream",
     "text": [
      "100%|██████████| 17/17 [00:05<00:00,  3.21it/s]\n",
      "100%|██████████| 5/5 [00:00<00:00,  7.04it/s]\n"
     ]
    },
    {
     "name": "stdout",
     "output_type": "stream",
     "text": [
      "epoch=70, train_acc_top1=0.0817, train_acc_top5=0.4457, train_loss=2.4014, test_top1=0.1098, test_top5=0.4545, test_loss=2.3980, max_test_acc=0.1591, total_time=6.0145, LR=0.00072656\n"
     ]
    },
    {
     "name": "stderr",
     "output_type": "stream",
     "text": [
      "100%|██████████| 17/17 [00:05<00:00,  3.24it/s]\n",
      "100%|██████████| 5/5 [00:00<00:00,  6.95it/s]\n"
     ]
    },
    {
     "name": "stdout",
     "output_type": "stream",
     "text": [
      "epoch=71, train_acc_top1=0.0808, train_acc_top5=0.4234, train_loss=2.4023, test_top1=0.0909, test_top5=0.4545, test_loss=2.3986, max_test_acc=0.1591, total_time=5.9694, LR=0.00072266\n"
     ]
    },
    {
     "name": "stderr",
     "output_type": "stream",
     "text": [
      "100%|██████████| 17/17 [00:05<00:00,  3.25it/s]\n",
      "100%|██████████| 5/5 [00:00<00:00,  6.82it/s]\n"
     ]
    },
    {
     "name": "stdout",
     "output_type": "stream",
     "text": [
      "epoch=72, train_acc_top1=0.0864, train_acc_top5=0.4457, train_loss=2.4000, test_top1=0.0909, test_top5=0.4545, test_loss=2.3977, max_test_acc=0.1591, total_time=5.9737, LR=0.00071875\n"
     ]
    },
    {
     "name": "stderr",
     "output_type": "stream",
     "text": [
      "100%|██████████| 17/17 [00:05<00:00,  3.18it/s]\n",
      "100%|██████████| 5/5 [00:00<00:00,  6.92it/s]\n"
     ]
    },
    {
     "name": "stdout",
     "output_type": "stream",
     "text": [
      "epoch=73, train_acc_top1=0.0873, train_acc_top5=0.4197, train_loss=2.3999, test_top1=0.0909, test_top5=0.4924, test_loss=2.3956, max_test_acc=0.1591, total_time=6.0822, LR=0.00071484\n"
     ]
    },
    {
     "name": "stderr",
     "output_type": "stream",
     "text": [
      "100%|██████████| 17/17 [00:05<00:00,  3.25it/s]\n",
      "100%|██████████| 5/5 [00:00<00:00,  7.13it/s]\n"
     ]
    },
    {
     "name": "stdout",
     "output_type": "stream",
     "text": [
      "epoch=74, train_acc_top1=0.0910, train_acc_top5=0.4327, train_loss=2.3995, test_top1=0.0909, test_top5=0.4659, test_loss=2.3961, max_test_acc=0.1591, total_time=5.9383, LR=0.00071094\n"
     ]
    },
    {
     "name": "stderr",
     "output_type": "stream",
     "text": [
      "100%|██████████| 17/17 [00:05<00:00,  3.18it/s]\n",
      "100%|██████████| 5/5 [00:00<00:00,  6.58it/s]\n"
     ]
    },
    {
     "name": "stdout",
     "output_type": "stream",
     "text": [
      "epoch=75, train_acc_top1=0.0966, train_acc_top5=0.4503, train_loss=2.3986, test_top1=0.1326, test_top5=0.5038, test_loss=2.3903, max_test_acc=0.1591, total_time=6.1079, LR=0.00070703\n"
     ]
    },
    {
     "name": "stderr",
     "output_type": "stream",
     "text": [
      "100%|██████████| 17/17 [00:05<00:00,  3.19it/s]\n",
      "100%|██████████| 5/5 [00:00<00:00,  6.67it/s]\n"
     ]
    },
    {
     "name": "stdout",
     "output_type": "stream",
     "text": [
      "epoch=76, train_acc_top1=0.0975, train_acc_top5=0.4578, train_loss=2.3972, test_top1=0.0909, test_top5=0.4470, test_loss=2.4003, max_test_acc=0.1591, total_time=6.0839, LR=0.00070312\n"
     ]
    },
    {
     "name": "stderr",
     "output_type": "stream",
     "text": [
      "100%|██████████| 17/17 [00:05<00:00,  3.18it/s]\n",
      "100%|██████████| 5/5 [00:00<00:00,  6.69it/s]\n"
     ]
    },
    {
     "name": "stdout",
     "output_type": "stream",
     "text": [
      "epoch=77, train_acc_top1=0.1021, train_acc_top5=0.4670, train_loss=2.3975, test_top1=0.0909, test_top5=0.4545, test_loss=2.3992, max_test_acc=0.1591, total_time=6.1038, LR=0.00069922\n"
     ]
    },
    {
     "name": "stderr",
     "output_type": "stream",
     "text": [
      "100%|██████████| 17/17 [00:05<00:00,  3.19it/s]\n",
      "100%|██████████| 5/5 [00:00<00:00,  6.38it/s]\n"
     ]
    },
    {
     "name": "stdout",
     "output_type": "stream",
     "text": [
      "epoch=78, train_acc_top1=0.0808, train_acc_top5=0.4503, train_loss=2.4068, test_top1=0.0909, test_top5=0.4621, test_loss=2.3986, max_test_acc=0.1591, total_time=6.1279, LR=0.00069531\n"
     ]
    },
    {
     "name": "stderr",
     "output_type": "stream",
     "text": [
      "100%|██████████| 17/17 [00:05<00:00,  3.16it/s]\n",
      "100%|██████████| 5/5 [00:00<00:00,  6.86it/s]\n"
     ]
    },
    {
     "name": "stdout",
     "output_type": "stream",
     "text": [
      "epoch=79, train_acc_top1=0.0873, train_acc_top5=0.4327, train_loss=2.4020, test_top1=0.0909, test_top5=0.4659, test_loss=2.3932, max_test_acc=0.1591, total_time=6.1166, LR=0.00069141\n"
     ]
    },
    {
     "name": "stderr",
     "output_type": "stream",
     "text": [
      "100%|██████████| 17/17 [00:05<00:00,  3.24it/s]\n",
      "100%|██████████| 5/5 [00:00<00:00,  7.11it/s]\n"
     ]
    },
    {
     "name": "stdout",
     "output_type": "stream",
     "text": [
      "epoch=80, train_acc_top1=0.0873, train_acc_top5=0.4680, train_loss=2.3995, test_top1=0.0909, test_top5=0.5720, test_loss=2.3868, max_test_acc=0.1591, total_time=5.9530, LR=0.00068750\n"
     ]
    },
    {
     "name": "stderr",
     "output_type": "stream",
     "text": [
      "100%|██████████| 17/17 [00:05<00:00,  3.24it/s]\n",
      "100%|██████████| 5/5 [00:00<00:00,  7.22it/s]\n"
     ]
    },
    {
     "name": "stdout",
     "output_type": "stream",
     "text": [
      "epoch=81, train_acc_top1=0.0966, train_acc_top5=0.4726, train_loss=2.4025, test_top1=0.0909, test_top5=0.4924, test_loss=2.3887, max_test_acc=0.1591, total_time=5.9524, LR=0.00068359\n"
     ]
    },
    {
     "name": "stderr",
     "output_type": "stream",
     "text": [
      "100%|██████████| 17/17 [00:05<00:00,  3.24it/s]\n",
      "100%|██████████| 5/5 [00:00<00:00,  7.15it/s]\n"
     ]
    },
    {
     "name": "stdout",
     "output_type": "stream",
     "text": [
      "epoch=82, train_acc_top1=0.0873, train_acc_top5=0.4345, train_loss=2.4250, test_top1=0.0909, test_top5=0.4621, test_loss=2.4053, max_test_acc=0.1591, total_time=5.9479, LR=0.00067969\n"
     ]
    },
    {
     "name": "stderr",
     "output_type": "stream",
     "text": [
      "100%|██████████| 17/17 [00:05<00:00,  3.24it/s]\n",
      "100%|██████████| 5/5 [00:00<00:00,  6.60it/s]\n"
     ]
    },
    {
     "name": "stdout",
     "output_type": "stream",
     "text": [
      "epoch=83, train_acc_top1=0.0650, train_acc_top5=0.4197, train_loss=2.4090, test_top1=0.0909, test_top5=0.4545, test_loss=2.3992, max_test_acc=0.1591, total_time=6.0204, LR=0.00067578\n"
     ]
    },
    {
     "name": "stderr",
     "output_type": "stream",
     "text": [
      "100%|██████████| 17/17 [00:05<00:00,  3.24it/s]\n",
      "100%|██████████| 5/5 [00:00<00:00,  6.94it/s]\n"
     ]
    },
    {
     "name": "stdout",
     "output_type": "stream",
     "text": [
      "epoch=84, train_acc_top1=0.0882, train_acc_top5=0.4206, train_loss=2.4053, test_top1=0.0909, test_top5=0.4621, test_loss=2.3995, max_test_acc=0.1591, total_time=5.9719, LR=0.00067188\n"
     ]
    },
    {
     "name": "stderr",
     "output_type": "stream",
     "text": [
      "100%|██████████| 17/17 [00:05<00:00,  3.25it/s]\n",
      "100%|██████████| 5/5 [00:00<00:00,  7.07it/s]\n"
     ]
    },
    {
     "name": "stdout",
     "output_type": "stream",
     "text": [
      "epoch=85, train_acc_top1=0.0854, train_acc_top5=0.4355, train_loss=2.4024, test_top1=0.0909, test_top5=0.4545, test_loss=2.3975, max_test_acc=0.1591, total_time=5.9507, LR=0.00066797\n"
     ]
    },
    {
     "name": "stderr",
     "output_type": "stream",
     "text": [
      "100%|██████████| 17/17 [00:05<00:00,  3.16it/s]\n",
      "100%|██████████| 5/5 [00:00<00:00,  6.82it/s]\n"
     ]
    },
    {
     "name": "stdout",
     "output_type": "stream",
     "text": [
      "epoch=86, train_acc_top1=0.0826, train_acc_top5=0.4410, train_loss=2.4066, test_top1=0.0909, test_top5=0.4091, test_loss=2.3987, max_test_acc=0.1591, total_time=6.1254, LR=0.00066406\n"
     ]
    },
    {
     "name": "stderr",
     "output_type": "stream",
     "text": [
      "100%|██████████| 17/17 [00:05<00:00,  3.16it/s]\n",
      "100%|██████████| 5/5 [00:00<00:00,  6.57it/s]\n"
     ]
    },
    {
     "name": "stdout",
     "output_type": "stream",
     "text": [
      "epoch=87, train_acc_top1=0.0836, train_acc_top5=0.4271, train_loss=2.4016, test_top1=0.0909, test_top5=0.4621, test_loss=2.3982, max_test_acc=0.1591, total_time=6.1851, LR=0.00066016\n"
     ]
    },
    {
     "name": "stderr",
     "output_type": "stream",
     "text": [
      "100%|██████████| 17/17 [00:05<00:00,  3.18it/s]\n",
      "100%|██████████| 5/5 [00:00<00:00,  7.10it/s]\n"
     ]
    },
    {
     "name": "stdout",
     "output_type": "stream",
     "text": [
      "epoch=88, train_acc_top1=0.0864, train_acc_top5=0.4290, train_loss=2.4005, test_top1=0.0985, test_top5=0.4886, test_loss=2.3971, max_test_acc=0.1591, total_time=6.0646, LR=0.00065625\n"
     ]
    },
    {
     "name": "stderr",
     "output_type": "stream",
     "text": [
      "100%|██████████| 17/17 [00:05<00:00,  3.22it/s]\n",
      "100%|██████████| 5/5 [00:00<00:00,  6.93it/s]\n"
     ]
    },
    {
     "name": "stdout",
     "output_type": "stream",
     "text": [
      "epoch=89, train_acc_top1=0.0873, train_acc_top5=0.4420, train_loss=2.4000, test_top1=0.0909, test_top5=0.4545, test_loss=2.3968, max_test_acc=0.1591, total_time=6.0115, LR=0.00065234\n"
     ]
    },
    {
     "name": "stderr",
     "output_type": "stream",
     "text": [
      "100%|██████████| 17/17 [00:05<00:00,  3.25it/s]\n",
      "100%|██████████| 5/5 [00:00<00:00,  7.08it/s]\n"
     ]
    },
    {
     "name": "stdout",
     "output_type": "stream",
     "text": [
      "epoch=90, train_acc_top1=0.0901, train_acc_top5=0.4429, train_loss=2.3991, test_top1=0.1023, test_top5=0.4811, test_loss=2.3942, max_test_acc=0.1591, total_time=5.9522, LR=0.00064844\n"
     ]
    },
    {
     "name": "stderr",
     "output_type": "stream",
     "text": [
      "100%|██████████| 17/17 [00:05<00:00,  3.24it/s]\n",
      "100%|██████████| 5/5 [00:00<00:00,  7.00it/s]\n"
     ]
    },
    {
     "name": "stdout",
     "output_type": "stream",
     "text": [
      "epoch=91, train_acc_top1=0.0910, train_acc_top5=0.4698, train_loss=2.3982, test_top1=0.1439, test_top5=0.4886, test_loss=2.3932, max_test_acc=0.1591, total_time=5.9703, LR=0.00064453\n"
     ]
    },
    {
     "name": "stderr",
     "output_type": "stream",
     "text": [
      "100%|██████████| 17/17 [00:05<00:00,  3.22it/s]\n",
      "100%|██████████| 5/5 [00:00<00:00,  6.98it/s]\n"
     ]
    },
    {
     "name": "stdout",
     "output_type": "stream",
     "text": [
      "epoch=92, train_acc_top1=0.1049, train_acc_top5=0.4643, train_loss=2.3978, test_top1=0.1591, test_top5=0.5265, test_loss=2.3765, max_test_acc=0.1591, total_time=6.2840, LR=0.00064063\n"
     ]
    },
    {
     "name": "stderr",
     "output_type": "stream",
     "text": [
      "100%|██████████| 17/17 [00:05<00:00,  3.25it/s]\n",
      "100%|██████████| 5/5 [00:00<00:00,  7.07it/s]\n"
     ]
    },
    {
     "name": "stdout",
     "output_type": "stream",
     "text": [
      "epoch=93, train_acc_top1=0.0743, train_acc_top5=0.4308, train_loss=2.4046, test_top1=0.0909, test_top5=0.4621, test_loss=2.3977, max_test_acc=0.1591, total_time=6.3141, LR=0.00063672\n"
     ]
    },
    {
     "name": "stderr",
     "output_type": "stream",
     "text": [
      "100%|██████████| 17/17 [00:05<00:00,  3.21it/s]\n",
      "100%|██████████| 5/5 [00:00<00:00,  6.48it/s]\n"
     ]
    },
    {
     "name": "stdout",
     "output_type": "stream",
     "text": [
      "epoch=94, train_acc_top1=0.0826, train_acc_top5=0.4392, train_loss=2.4035, test_top1=0.0909, test_top5=0.4470, test_loss=2.3972, max_test_acc=0.1591, total_time=6.0759, LR=0.00063281\n"
     ]
    },
    {
     "name": "stderr",
     "output_type": "stream",
     "text": [
      "100%|██████████| 17/17 [00:05<00:00,  3.20it/s]\n",
      "100%|██████████| 5/5 [00:00<00:00,  7.20it/s]\n"
     ]
    },
    {
     "name": "stdout",
     "output_type": "stream",
     "text": [
      "epoch=95, train_acc_top1=0.0864, train_acc_top5=0.4299, train_loss=2.4027, test_top1=0.0947, test_top5=0.4545, test_loss=2.3985, max_test_acc=0.1591, total_time=6.0180, LR=0.00062891\n"
     ]
    },
    {
     "name": "stderr",
     "output_type": "stream",
     "text": [
      "100%|██████████| 17/17 [00:05<00:00,  3.22it/s]\n",
      "100%|██████████| 5/5 [00:00<00:00,  6.74it/s]\n"
     ]
    },
    {
     "name": "stdout",
     "output_type": "stream",
     "text": [
      "epoch=96, train_acc_top1=0.0836, train_acc_top5=0.4030, train_loss=2.4085, test_top1=0.0909, test_top5=0.4621, test_loss=2.3994, max_test_acc=0.1591, total_time=6.0295, LR=0.00062500\n"
     ]
    },
    {
     "name": "stderr",
     "output_type": "stream",
     "text": [
      "100%|██████████| 17/17 [00:05<00:00,  3.22it/s]\n",
      "100%|██████████| 5/5 [00:00<00:00,  7.07it/s]\n"
     ]
    },
    {
     "name": "stdout",
     "output_type": "stream",
     "text": [
      "epoch=97, train_acc_top1=0.0882, train_acc_top5=0.4234, train_loss=2.4051, test_top1=0.0909, test_top5=0.4886, test_loss=2.4015, max_test_acc=0.1591, total_time=5.9929, LR=0.00062109\n"
     ]
    },
    {
     "name": "stderr",
     "output_type": "stream",
     "text": [
      "100%|██████████| 17/17 [00:05<00:00,  3.24it/s]\n",
      "100%|██████████| 5/5 [00:00<00:00,  6.91it/s]\n"
     ]
    },
    {
     "name": "stdout",
     "output_type": "stream",
     "text": [
      "epoch=98, train_acc_top1=0.0836, train_acc_top5=0.4206, train_loss=2.4056, test_top1=0.1061, test_top5=0.4545, test_loss=2.3977, max_test_acc=0.1591, total_time=5.9779, LR=0.00061719\n"
     ]
    },
    {
     "name": "stderr",
     "output_type": "stream",
     "text": [
      "100%|██████████| 17/17 [00:05<00:00,  3.24it/s]\n",
      "100%|██████████| 5/5 [00:00<00:00,  6.86it/s]\n"
     ]
    },
    {
     "name": "stdout",
     "output_type": "stream",
     "text": [
      "epoch=99, train_acc_top1=0.0789, train_acc_top5=0.4466, train_loss=2.4006, test_top1=0.0909, test_top5=0.4545, test_loss=2.3984, max_test_acc=0.1591, total_time=5.9843, LR=0.00061328\n"
     ]
    },
    {
     "name": "stderr",
     "output_type": "stream",
     "text": [
      "100%|██████████| 17/17 [00:05<00:00,  3.25it/s]\n",
      "100%|██████████| 5/5 [00:00<00:00,  7.14it/s]\n"
     ]
    },
    {
     "name": "stdout",
     "output_type": "stream",
     "text": [
      "epoch=100, train_acc_top1=0.0752, train_acc_top5=0.4178, train_loss=2.4004, test_top1=0.0909, test_top5=0.4508, test_loss=2.3977, max_test_acc=0.1591, total_time=5.9329, LR=0.00060937\n"
     ]
    },
    {
     "name": "stderr",
     "output_type": "stream",
     "text": [
      "100%|██████████| 17/17 [00:05<00:00,  3.23it/s]\n",
      "100%|██████████| 5/5 [00:00<00:00,  6.96it/s]\n"
     ]
    },
    {
     "name": "stdout",
     "output_type": "stream",
     "text": [
      "epoch=101, train_acc_top1=0.0724, train_acc_top5=0.4253, train_loss=2.4005, test_top1=0.0985, test_top5=0.4508, test_loss=2.3983, max_test_acc=0.1591, total_time=5.9905, LR=0.00060547\n"
     ]
    },
    {
     "name": "stderr",
     "output_type": "stream",
     "text": [
      "100%|██████████| 17/17 [00:05<00:00,  3.23it/s]\n",
      "100%|██████████| 5/5 [00:00<00:00,  7.24it/s]\n"
     ]
    },
    {
     "name": "stdout",
     "output_type": "stream",
     "text": [
      "epoch=102, train_acc_top1=0.0771, train_acc_top5=0.4262, train_loss=2.4022, test_top1=0.0909, test_top5=0.4545, test_loss=2.3980, max_test_acc=0.1591, total_time=5.9611, LR=0.00060156\n"
     ]
    },
    {
     "name": "stderr",
     "output_type": "stream",
     "text": [
      "100%|██████████| 17/17 [00:05<00:00,  3.25it/s]\n",
      "100%|██████████| 5/5 [00:00<00:00,  7.09it/s]\n"
     ]
    },
    {
     "name": "stdout",
     "output_type": "stream",
     "text": [
      "epoch=103, train_acc_top1=0.0771, train_acc_top5=0.4299, train_loss=2.4003, test_top1=0.0947, test_top5=0.4545, test_loss=2.3979, max_test_acc=0.1591, total_time=5.9458, LR=0.00059766\n"
     ]
    },
    {
     "name": "stderr",
     "output_type": "stream",
     "text": [
      "100%|██████████| 17/17 [00:05<00:00,  3.23it/s]\n",
      "100%|██████████| 5/5 [00:00<00:00,  7.00it/s]\n"
     ]
    },
    {
     "name": "stdout",
     "output_type": "stream",
     "text": [
      "epoch=104, train_acc_top1=0.0919, train_acc_top5=0.4345, train_loss=2.4006, test_top1=0.0909, test_top5=0.4545, test_loss=2.3987, max_test_acc=0.1591, total_time=5.9904, LR=0.00059375\n"
     ]
    },
    {
     "name": "stderr",
     "output_type": "stream",
     "text": [
      "100%|██████████| 17/17 [00:05<00:00,  3.24it/s]\n",
      "100%|██████████| 5/5 [00:00<00:00,  7.07it/s]\n"
     ]
    },
    {
     "name": "stdout",
     "output_type": "stream",
     "text": [
      "epoch=105, train_acc_top1=0.0808, train_acc_top5=0.4178, train_loss=2.4011, test_top1=0.0909, test_top5=0.4545, test_loss=2.3975, max_test_acc=0.1591, total_time=5.9616, LR=0.00058984\n"
     ]
    },
    {
     "name": "stderr",
     "output_type": "stream",
     "text": [
      "100%|██████████| 17/17 [00:05<00:00,  3.24it/s]\n",
      "100%|██████████| 5/5 [00:00<00:00,  7.03it/s]\n"
     ]
    },
    {
     "name": "stdout",
     "output_type": "stream",
     "text": [
      "epoch=106, train_acc_top1=0.0808, train_acc_top5=0.4392, train_loss=2.4007, test_top1=0.0871, test_top5=0.4470, test_loss=2.3977, max_test_acc=0.1591, total_time=5.9656, LR=0.00058594\n"
     ]
    },
    {
     "name": "stderr",
     "output_type": "stream",
     "text": [
      "100%|██████████| 17/17 [00:05<00:00,  3.25it/s]\n",
      "100%|██████████| 5/5 [00:00<00:00,  7.20it/s]\n"
     ]
    },
    {
     "name": "stdout",
     "output_type": "stream",
     "text": [
      "epoch=107, train_acc_top1=0.0724, train_acc_top5=0.4225, train_loss=2.4008, test_top1=0.0871, test_top5=0.4470, test_loss=2.3986, max_test_acc=0.1591, total_time=5.9400, LR=0.00058203\n"
     ]
    },
    {
     "name": "stderr",
     "output_type": "stream",
     "text": [
      "100%|██████████| 17/17 [00:05<00:00,  3.25it/s]\n",
      "100%|██████████| 5/5 [00:00<00:00,  7.18it/s]\n"
     ]
    },
    {
     "name": "stdout",
     "output_type": "stream",
     "text": [
      "epoch=108, train_acc_top1=0.0771, train_acc_top5=0.4336, train_loss=2.4000, test_top1=0.0909, test_top5=0.4545, test_loss=2.3993, max_test_acc=0.1591, total_time=5.9350, LR=0.00057812\n"
     ]
    },
    {
     "name": "stderr",
     "output_type": "stream",
     "text": [
      "100%|██████████| 17/17 [00:05<00:00,  3.22it/s]\n",
      "100%|██████████| 5/5 [00:00<00:00,  7.15it/s]\n"
     ]
    },
    {
     "name": "stdout",
     "output_type": "stream",
     "text": [
      "epoch=109, train_acc_top1=0.0836, train_acc_top5=0.4178, train_loss=2.4005, test_top1=0.0909, test_top5=0.5341, test_loss=2.3968, max_test_acc=0.1591, total_time=5.9806, LR=0.00057422\n"
     ]
    },
    {
     "name": "stderr",
     "output_type": "stream",
     "text": [
      "100%|██████████| 17/17 [00:05<00:00,  3.21it/s]\n",
      "100%|██████████| 5/5 [00:00<00:00,  7.02it/s]\n"
     ]
    },
    {
     "name": "stdout",
     "output_type": "stream",
     "text": [
      "epoch=110, train_acc_top1=0.0938, train_acc_top5=0.4633, train_loss=2.3995, test_top1=0.0947, test_top5=0.4697, test_loss=2.3966, max_test_acc=0.1591, total_time=6.0207, LR=0.00057031\n"
     ]
    },
    {
     "name": "stderr",
     "output_type": "stream",
     "text": [
      "100%|██████████| 17/17 [00:05<00:00,  3.23it/s]\n",
      "100%|██████████| 5/5 [00:00<00:00,  5.88it/s]\n"
     ]
    },
    {
     "name": "stdout",
     "output_type": "stream",
     "text": [
      "epoch=111, train_acc_top1=0.0724, train_acc_top5=0.4568, train_loss=2.3996, test_top1=0.0909, test_top5=0.4697, test_loss=2.3983, max_test_acc=0.1591, total_time=6.5363, LR=0.00056641\n"
     ]
    },
    {
     "name": "stderr",
     "output_type": "stream",
     "text": [
      "100%|██████████| 17/17 [00:05<00:00,  3.21it/s]\n",
      "100%|██████████| 5/5 [00:00<00:00,  6.93it/s]\n"
     ]
    },
    {
     "name": "stdout",
     "output_type": "stream",
     "text": [
      "epoch=112, train_acc_top1=0.0734, train_acc_top5=0.4336, train_loss=2.4002, test_top1=0.0985, test_top5=0.5000, test_loss=2.3962, max_test_acc=0.1591, total_time=6.0224, LR=0.00056250\n"
     ]
    },
    {
     "name": "stderr",
     "output_type": "stream",
     "text": [
      "100%|██████████| 17/17 [00:05<00:00,  3.22it/s]\n",
      "100%|██████████| 5/5 [00:00<00:00,  6.96it/s]\n"
     ]
    },
    {
     "name": "stdout",
     "output_type": "stream",
     "text": [
      "epoch=113, train_acc_top1=0.0891, train_acc_top5=0.4383, train_loss=2.4003, test_top1=0.0909, test_top5=0.4545, test_loss=2.3968, max_test_acc=0.1591, total_time=6.0048, LR=0.00055859\n"
     ]
    },
    {
     "name": "stderr",
     "output_type": "stream",
     "text": [
      "100%|██████████| 17/17 [00:05<00:00,  3.23it/s]\n",
      "100%|██████████| 5/5 [00:00<00:00,  6.92it/s]\n"
     ]
    },
    {
     "name": "stdout",
     "output_type": "stream",
     "text": [
      "epoch=114, train_acc_top1=0.0761, train_acc_top5=0.4364, train_loss=2.4010, test_top1=0.0909, test_top5=0.4545, test_loss=2.3968, max_test_acc=0.1591, total_time=5.9975, LR=0.00055469\n"
     ]
    },
    {
     "name": "stderr",
     "output_type": "stream",
     "text": [
      "100%|██████████| 17/17 [00:05<00:00,  3.20it/s]\n",
      "100%|██████████| 5/5 [00:00<00:00,  6.57it/s]\n"
     ]
    },
    {
     "name": "stdout",
     "output_type": "stream",
     "text": [
      "epoch=115, train_acc_top1=0.0864, train_acc_top5=0.4225, train_loss=2.3994, test_top1=0.1288, test_top5=0.4545, test_loss=2.3989, max_test_acc=0.1591, total_time=6.0789, LR=0.00055078\n"
     ]
    },
    {
     "name": "stderr",
     "output_type": "stream",
     "text": [
      "100%|██████████| 17/17 [00:05<00:00,  3.19it/s]\n",
      "100%|██████████| 5/5 [00:00<00:00,  6.64it/s]\n"
     ]
    },
    {
     "name": "stdout",
     "output_type": "stream",
     "text": [
      "epoch=116, train_acc_top1=0.0873, train_acc_top5=0.4420, train_loss=2.4017, test_top1=0.0909, test_top5=0.4583, test_loss=2.3981, max_test_acc=0.1591, total_time=6.0840, LR=0.00054688\n"
     ]
    },
    {
     "name": "stderr",
     "output_type": "stream",
     "text": [
      "100%|██████████| 17/17 [00:05<00:00,  3.01it/s]\n",
      "100%|██████████| 5/5 [00:00<00:00,  6.59it/s]\n"
     ]
    },
    {
     "name": "stdout",
     "output_type": "stream",
     "text": [
      "epoch=117, train_acc_top1=0.0771, train_acc_top5=0.4188, train_loss=2.4013, test_top1=0.0909, test_top5=0.4545, test_loss=2.3979, max_test_acc=0.1591, total_time=6.4131, LR=0.00054297\n"
     ]
    },
    {
     "name": "stderr",
     "output_type": "stream",
     "text": [
      "100%|██████████| 17/17 [00:05<00:00,  3.14it/s]\n",
      "100%|██████████| 5/5 [00:00<00:00,  6.49it/s]\n"
     ]
    },
    {
     "name": "stdout",
     "output_type": "stream",
     "text": [
      "epoch=118, train_acc_top1=0.0808, train_acc_top5=0.4373, train_loss=2.4002, test_top1=0.1023, test_top5=0.4811, test_loss=2.3979, max_test_acc=0.1591, total_time=6.1917, LR=0.00053906\n"
     ]
    },
    {
     "name": "stderr",
     "output_type": "stream",
     "text": [
      "100%|██████████| 17/17 [00:05<00:00,  3.16it/s]\n",
      "100%|██████████| 5/5 [00:00<00:00,  6.32it/s]\n"
     ]
    },
    {
     "name": "stdout",
     "output_type": "stream",
     "text": [
      "epoch=119, train_acc_top1=0.0789, train_acc_top5=0.4215, train_loss=2.4003, test_top1=0.0909, test_top5=0.4773, test_loss=2.3981, max_test_acc=0.1591, total_time=6.1783, LR=0.00053516\n"
     ]
    },
    {
     "name": "stderr",
     "output_type": "stream",
     "text": [
      "100%|██████████| 17/17 [00:05<00:00,  3.16it/s]\n",
      "100%|██████████| 5/5 [00:00<00:00,  6.27it/s]\n"
     ]
    },
    {
     "name": "stdout",
     "output_type": "stream",
     "text": [
      "epoch=120, train_acc_top1=0.0836, train_acc_top5=0.4215, train_loss=2.4008, test_top1=0.1023, test_top5=0.4545, test_loss=2.3980, max_test_acc=0.1591, total_time=6.1870, LR=0.00053125\n"
     ]
    },
    {
     "name": "stderr",
     "output_type": "stream",
     "text": [
      "100%|██████████| 17/17 [00:05<00:00,  3.15it/s]\n",
      "100%|██████████| 5/5 [00:00<00:00,  6.59it/s]\n"
     ]
    },
    {
     "name": "stdout",
     "output_type": "stream",
     "text": [
      "epoch=121, train_acc_top1=0.0910, train_acc_top5=0.4123, train_loss=2.4016, test_top1=0.0909, test_top5=0.4508, test_loss=2.3984, max_test_acc=0.1591, total_time=6.1703, LR=0.00052734\n"
     ]
    },
    {
     "name": "stderr",
     "output_type": "stream",
     "text": [
      "100%|██████████| 17/17 [00:05<00:00,  3.11it/s]\n",
      "100%|██████████| 5/5 [00:00<00:00,  6.57it/s]\n"
     ]
    },
    {
     "name": "stdout",
     "output_type": "stream",
     "text": [
      "epoch=122, train_acc_top1=0.0799, train_acc_top5=0.4485, train_loss=2.3988, test_top1=0.0909, test_top5=0.4545, test_loss=2.3982, max_test_acc=0.1591, total_time=6.2272, LR=0.00052344\n"
     ]
    },
    {
     "name": "stderr",
     "output_type": "stream",
     "text": [
      "100%|██████████| 17/17 [00:05<00:00,  3.12it/s]\n",
      "100%|██████████| 5/5 [00:00<00:00,  6.71it/s]\n"
     ]
    },
    {
     "name": "stdout",
     "output_type": "stream",
     "text": [
      "epoch=123, train_acc_top1=0.0780, train_acc_top5=0.4215, train_loss=2.3995, test_top1=0.0947, test_top5=0.4811, test_loss=2.3980, max_test_acc=0.1591, total_time=6.2097, LR=0.00051953\n"
     ]
    },
    {
     "name": "stderr",
     "output_type": "stream",
     "text": [
      "100%|██████████| 17/17 [00:05<00:00,  3.15it/s]\n",
      "100%|██████████| 5/5 [00:00<00:00,  6.53it/s]\n"
     ]
    },
    {
     "name": "stdout",
     "output_type": "stream",
     "text": [
      "epoch=124, train_acc_top1=0.0780, train_acc_top5=0.4290, train_loss=2.4008, test_top1=0.0909, test_top5=0.4545, test_loss=2.3980, max_test_acc=0.1591, total_time=6.1745, LR=0.00051563\n"
     ]
    },
    {
     "name": "stderr",
     "output_type": "stream",
     "text": [
      "100%|██████████| 17/17 [00:05<00:00,  3.17it/s]\n",
      "100%|██████████| 5/5 [00:00<00:00,  6.40it/s]\n"
     ]
    },
    {
     "name": "stdout",
     "output_type": "stream",
     "text": [
      "epoch=125, train_acc_top1=0.0706, train_acc_top5=0.4345, train_loss=2.3993, test_top1=0.0871, test_top5=0.4432, test_loss=2.3980, max_test_acc=0.1591, total_time=6.1583, LR=0.00051172\n"
     ]
    },
    {
     "name": "stderr",
     "output_type": "stream",
     "text": [
      "100%|██████████| 17/17 [00:05<00:00,  3.15it/s]\n",
      "100%|██████████| 5/5 [00:00<00:00,  6.31it/s]\n"
     ]
    },
    {
     "name": "stdout",
     "output_type": "stream",
     "text": [
      "epoch=126, train_acc_top1=0.0929, train_acc_top5=0.4327, train_loss=2.3995, test_top1=0.0909, test_top5=0.4924, test_loss=2.3964, max_test_acc=0.1591, total_time=6.1964, LR=0.00050781\n"
     ]
    },
    {
     "name": "stderr",
     "output_type": "stream",
     "text": [
      "100%|██████████| 17/17 [00:05<00:00,  3.16it/s]\n",
      "100%|██████████| 5/5 [00:00<00:00,  6.62it/s]\n"
     ]
    },
    {
     "name": "stdout",
     "output_type": "stream",
     "text": [
      "epoch=127, train_acc_top1=0.0873, train_acc_top5=0.4448, train_loss=2.3989, test_top1=0.1136, test_top5=0.5076, test_loss=2.3964, max_test_acc=0.1591, total_time=6.1486, LR=0.00050391\n"
     ]
    },
    {
     "name": "stderr",
     "output_type": "stream",
     "text": [
      "100%|██████████| 17/17 [00:05<00:00,  3.17it/s]\n",
      "100%|██████████| 5/5 [00:00<00:00,  6.48it/s]\n"
     ]
    },
    {
     "name": "stdout",
     "output_type": "stream",
     "text": [
      "epoch=128, train_acc_top1=0.0761, train_acc_top5=0.4448, train_loss=2.3990, test_top1=0.0644, test_top5=0.4508, test_loss=2.4004, max_test_acc=0.1591, total_time=6.1350, LR=0.00050000\n"
     ]
    },
    {
     "name": "stderr",
     "output_type": "stream",
     "text": [
      "100%|██████████| 17/17 [00:05<00:00,  3.16it/s]\n",
      "100%|██████████| 5/5 [00:00<00:00,  6.27it/s]\n"
     ]
    },
    {
     "name": "stdout",
     "output_type": "stream",
     "text": [
      "epoch=129, train_acc_top1=0.0836, train_acc_top5=0.4234, train_loss=2.4005, test_top1=0.1629, test_top5=0.5189, test_loss=2.3965, max_test_acc=0.1629, total_time=6.5531, LR=0.00049609\n"
     ]
    },
    {
     "name": "stderr",
     "output_type": "stream",
     "text": [
      "100%|██████████| 17/17 [00:05<00:00,  3.08it/s]\n",
      "100%|██████████| 5/5 [00:00<00:00,  5.90it/s]\n"
     ]
    },
    {
     "name": "stdout",
     "output_type": "stream",
     "text": [
      "epoch=130, train_acc_top1=0.0929, train_acc_top5=0.4568, train_loss=2.4006, test_top1=0.0909, test_top5=0.4621, test_loss=2.3976, max_test_acc=0.1629, total_time=6.3883, LR=0.00049219\n"
     ]
    },
    {
     "name": "stderr",
     "output_type": "stream",
     "text": [
      "100%|██████████| 17/17 [00:05<00:00,  3.09it/s]\n",
      "100%|██████████| 5/5 [00:00<00:00,  5.74it/s]\n"
     ]
    },
    {
     "name": "stdout",
     "output_type": "stream",
     "text": [
      "epoch=131, train_acc_top1=0.0826, train_acc_top5=0.4494, train_loss=2.4009, test_top1=0.0909, test_top5=0.4962, test_loss=2.3982, max_test_acc=0.1629, total_time=6.3793, LR=0.00048828\n"
     ]
    },
    {
     "name": "stderr",
     "output_type": "stream",
     "text": [
      "100%|██████████| 17/17 [00:05<00:00,  3.10it/s]\n",
      "100%|██████████| 5/5 [00:00<00:00,  6.12it/s]\n"
     ]
    },
    {
     "name": "stdout",
     "output_type": "stream",
     "text": [
      "epoch=132, train_acc_top1=0.0780, train_acc_top5=0.4355, train_loss=2.3996, test_top1=0.0909, test_top5=0.5341, test_loss=2.3968, max_test_acc=0.1629, total_time=6.3062, LR=0.00048437\n"
     ]
    },
    {
     "name": "stderr",
     "output_type": "stream",
     "text": [
      "100%|██████████| 17/17 [00:05<00:00,  3.13it/s]\n",
      "100%|██████████| 5/5 [00:00<00:00,  5.99it/s]\n"
     ]
    },
    {
     "name": "stdout",
     "output_type": "stream",
     "text": [
      "epoch=133, train_acc_top1=0.0780, train_acc_top5=0.3993, train_loss=2.4021, test_top1=0.0909, test_top5=0.4583, test_loss=2.3969, max_test_acc=0.1629, total_time=6.2862, LR=0.00048047\n"
     ]
    },
    {
     "name": "stderr",
     "output_type": "stream",
     "text": [
      "100%|██████████| 17/17 [00:05<00:00,  3.15it/s]\n",
      "100%|██████████| 5/5 [00:00<00:00,  6.25it/s]\n"
     ]
    },
    {
     "name": "stdout",
     "output_type": "stream",
     "text": [
      "epoch=134, train_acc_top1=0.0864, train_acc_top5=0.4587, train_loss=2.3979, test_top1=0.0909, test_top5=0.5379, test_loss=2.3942, max_test_acc=0.1629, total_time=6.2117, LR=0.00047656\n"
     ]
    },
    {
     "name": "stderr",
     "output_type": "stream",
     "text": [
      "100%|██████████| 17/17 [00:05<00:00,  2.99it/s]\n",
      "100%|██████████| 5/5 [00:01<00:00,  3.27it/s]\n"
     ]
    },
    {
     "name": "stdout",
     "output_type": "stream",
     "text": [
      "epoch=135, train_acc_top1=0.0743, train_acc_top5=0.4262, train_loss=2.4009, test_top1=0.0947, test_top5=0.4545, test_loss=2.3981, max_test_acc=0.1629, total_time=7.2331, LR=0.00047266\n"
     ]
    },
    {
     "name": "stderr",
     "output_type": "stream",
     "text": [
      "100%|██████████| 17/17 [00:06<00:00,  2.49it/s]\n",
      "100%|██████████| 5/5 [00:01<00:00,  3.77it/s]\n"
     ]
    },
    {
     "name": "stdout",
     "output_type": "stream",
     "text": [
      "epoch=136, train_acc_top1=0.0826, train_acc_top5=0.4308, train_loss=2.4005, test_top1=0.0909, test_top5=0.4545, test_loss=2.4270, max_test_acc=0.1629, total_time=8.1797, LR=0.00046875\n"
     ]
    },
    {
     "name": "stderr",
     "output_type": "stream",
     "text": [
      "100%|██████████| 17/17 [00:06<00:00,  2.44it/s]\n",
      "100%|██████████| 5/5 [00:01<00:00,  3.60it/s]\n"
     ]
    },
    {
     "name": "stdout",
     "output_type": "stream",
     "text": [
      "epoch=137, train_acc_top1=0.0854, train_acc_top5=0.4188, train_loss=2.4065, test_top1=0.0909, test_top5=0.4545, test_loss=2.3984, max_test_acc=0.1629, total_time=8.3857, LR=0.00046484\n"
     ]
    },
    {
     "name": "stderr",
     "output_type": "stream",
     "text": [
      "100%|██████████| 17/17 [00:06<00:00,  2.49it/s]\n",
      "100%|██████████| 5/5 [00:01<00:00,  3.52it/s]\n"
     ]
    },
    {
     "name": "stdout",
     "output_type": "stream",
     "text": [
      "epoch=138, train_acc_top1=0.0752, train_acc_top5=0.4494, train_loss=2.4028, test_top1=0.0909, test_top5=0.4394, test_loss=2.3980, max_test_acc=0.1629, total_time=8.2654, LR=0.00046094\n"
     ]
    },
    {
     "name": "stderr",
     "output_type": "stream",
     "text": [
      "100%|██████████| 17/17 [00:06<00:00,  2.45it/s]\n",
      "100%|██████████| 5/5 [00:01<00:00,  3.53it/s]\n"
     ]
    },
    {
     "name": "stdout",
     "output_type": "stream",
     "text": [
      "epoch=139, train_acc_top1=0.0854, train_acc_top5=0.4169, train_loss=2.4076, test_top1=0.0909, test_top5=0.4508, test_loss=2.4011, max_test_acc=0.1629, total_time=8.3735, LR=0.00045703\n"
     ]
    },
    {
     "name": "stderr",
     "output_type": "stream",
     "text": [
      "100%|██████████| 17/17 [00:07<00:00,  2.42it/s]\n",
      "100%|██████████| 5/5 [00:01<00:00,  4.53it/s]\n"
     ]
    },
    {
     "name": "stdout",
     "output_type": "stream",
     "text": [
      "epoch=140, train_acc_top1=0.0836, train_acc_top5=0.4383, train_loss=2.4084, test_top1=0.0909, test_top5=0.4545, test_loss=2.4037, max_test_acc=0.1629, total_time=8.1357, LR=0.00045313\n"
     ]
    },
    {
     "name": "stderr",
     "output_type": "stream",
     "text": [
      "100%|██████████| 17/17 [00:06<00:00,  2.48it/s]\n",
      "100%|██████████| 5/5 [00:01<00:00,  3.58it/s]\n"
     ]
    },
    {
     "name": "stdout",
     "output_type": "stream",
     "text": [
      "epoch=141, train_acc_top1=0.1086, train_acc_top5=0.4373, train_loss=2.4100, test_top1=0.0909, test_top5=0.4545, test_loss=2.4042, max_test_acc=0.1629, total_time=8.2659, LR=0.00044922\n"
     ]
    },
    {
     "name": "stderr",
     "output_type": "stream",
     "text": [
      "100%|██████████| 17/17 [00:07<00:00,  2.33it/s]\n",
      "100%|██████████| 5/5 [00:01<00:00,  3.61it/s]\n"
     ]
    },
    {
     "name": "stdout",
     "output_type": "stream",
     "text": [
      "epoch=142, train_acc_top1=0.0799, train_acc_top5=0.4373, train_loss=2.4117, test_top1=0.0909, test_top5=0.4545, test_loss=2.4023, max_test_acc=0.1629, total_time=8.6927, LR=0.00044531\n"
     ]
    },
    {
     "name": "stderr",
     "output_type": "stream",
     "text": [
      "100%|██████████| 17/17 [00:06<00:00,  2.58it/s]\n",
      "100%|██████████| 5/5 [00:01<00:00,  3.52it/s]\n"
     ]
    },
    {
     "name": "stdout",
     "output_type": "stream",
     "text": [
      "epoch=143, train_acc_top1=0.0919, train_acc_top5=0.4448, train_loss=2.4181, test_top1=0.0909, test_top5=0.4583, test_loss=2.4024, max_test_acc=0.1629, total_time=8.0289, LR=0.00044141\n"
     ]
    },
    {
     "name": "stderr",
     "output_type": "stream",
     "text": [
      "100%|██████████| 17/17 [00:06<00:00,  2.47it/s]\n",
      "100%|██████████| 5/5 [00:01<00:00,  4.21it/s]\n"
     ]
    },
    {
     "name": "stdout",
     "output_type": "stream",
     "text": [
      "epoch=144, train_acc_top1=0.0956, train_acc_top5=0.4373, train_loss=2.4124, test_top1=0.0909, test_top5=0.4773, test_loss=2.4259, max_test_acc=0.1629, total_time=8.0908, LR=0.00043750\n"
     ]
    },
    {
     "name": "stderr",
     "output_type": "stream",
     "text": [
      "100%|██████████| 17/17 [00:06<00:00,  2.49it/s]\n",
      "100%|██████████| 5/5 [00:01<00:00,  4.09it/s]\n"
     ]
    },
    {
     "name": "stdout",
     "output_type": "stream",
     "text": [
      "epoch=145, train_acc_top1=0.0817, train_acc_top5=0.4503, train_loss=2.4162, test_top1=0.0909, test_top5=0.4394, test_loss=2.4071, max_test_acc=0.1629, total_time=8.0916, LR=0.00043359\n"
     ]
    },
    {
     "name": "stderr",
     "output_type": "stream",
     "text": [
      "100%|██████████| 17/17 [00:06<00:00,  2.51it/s]\n",
      "100%|██████████| 5/5 [00:01<00:00,  3.56it/s]\n"
     ]
    },
    {
     "name": "stdout",
     "output_type": "stream",
     "text": [
      "epoch=146, train_acc_top1=0.0947, train_acc_top5=0.4401, train_loss=2.4126, test_top1=0.0909, test_top5=0.4545, test_loss=2.4068, max_test_acc=0.1629, total_time=8.2018, LR=0.00042969\n"
     ]
    },
    {
     "name": "stderr",
     "output_type": "stream",
     "text": [
      "100%|██████████| 17/17 [00:07<00:00,  2.40it/s]\n",
      "100%|██████████| 5/5 [00:01<00:00,  4.03it/s]\n"
     ]
    },
    {
     "name": "stdout",
     "output_type": "stream",
     "text": [
      "epoch=147, train_acc_top1=0.0901, train_acc_top5=0.4383, train_loss=2.4155, test_top1=0.0985, test_top5=0.4356, test_loss=2.4004, max_test_acc=0.1629, total_time=8.3323, LR=0.00042578\n"
     ]
    },
    {
     "name": "stderr",
     "output_type": "stream",
     "text": [
      "100%|██████████| 17/17 [00:06<00:00,  2.56it/s]\n",
      "100%|██████████| 5/5 [00:01<00:00,  4.43it/s]\n"
     ]
    },
    {
     "name": "stdout",
     "output_type": "stream",
     "text": [
      "epoch=148, train_acc_top1=0.0910, train_acc_top5=0.4123, train_loss=2.4215, test_top1=0.0947, test_top5=0.4583, test_loss=2.4002, max_test_acc=0.1629, total_time=7.7990, LR=0.00042187\n"
     ]
    },
    {
     "name": "stderr",
     "output_type": "stream",
     "text": [
      "100%|██████████| 17/17 [00:06<00:00,  2.61it/s]\n",
      "100%|██████████| 5/5 [00:01<00:00,  3.80it/s]\n"
     ]
    },
    {
     "name": "stdout",
     "output_type": "stream",
     "text": [
      "epoch=149, train_acc_top1=0.0864, train_acc_top5=0.4540, train_loss=2.4111, test_top1=0.0909, test_top5=0.4545, test_loss=2.4040, max_test_acc=0.1629, total_time=7.8496, LR=0.00041797\n"
     ]
    },
    {
     "name": "stderr",
     "output_type": "stream",
     "text": [
      "100%|██████████| 17/17 [00:06<00:00,  2.49it/s]\n",
      "100%|██████████| 5/5 [00:01<00:00,  3.92it/s]\n"
     ]
    },
    {
     "name": "stdout",
     "output_type": "stream",
     "text": [
      "epoch=150, train_acc_top1=0.0836, train_acc_top5=0.4401, train_loss=2.4104, test_top1=0.0909, test_top5=0.4545, test_loss=2.4288, max_test_acc=0.1629, total_time=8.1296, LR=0.00041406\n"
     ]
    },
    {
     "name": "stderr",
     "output_type": "stream",
     "text": [
      "100%|██████████| 17/17 [00:06<00:00,  2.56it/s]\n",
      "100%|██████████| 5/5 [00:01<00:00,  3.70it/s]\n"
     ]
    },
    {
     "name": "stdout",
     "output_type": "stream",
     "text": [
      "epoch=151, train_acc_top1=0.0984, train_acc_top5=0.4940, train_loss=2.3988, test_top1=0.1098, test_top5=0.4735, test_loss=2.3789, max_test_acc=0.1629, total_time=8.0177, LR=0.00041016\n"
     ]
    },
    {
     "name": "stderr",
     "output_type": "stream",
     "text": [
      "100%|██████████| 17/17 [00:06<00:00,  2.47it/s]\n",
      "100%|██████████| 5/5 [00:01<00:00,  3.51it/s]\n"
     ]
    },
    {
     "name": "stdout",
     "output_type": "stream",
     "text": [
      "epoch=152, train_acc_top1=0.0873, train_acc_top5=0.4856, train_loss=2.4236, test_top1=0.1288, test_top5=0.4735, test_loss=2.3692, max_test_acc=0.1629, total_time=8.3413, LR=0.00040625\n"
     ]
    },
    {
     "name": "stderr",
     "output_type": "stream",
     "text": [
      "100%|██████████| 17/17 [00:06<00:00,  2.52it/s]\n",
      "100%|██████████| 5/5 [00:01<00:00,  3.65it/s]\n"
     ]
    },
    {
     "name": "stdout",
     "output_type": "stream",
     "text": [
      "epoch=153, train_acc_top1=0.0966, train_acc_top5=0.4930, train_loss=2.3974, test_top1=0.0985, test_top5=0.5644, test_loss=2.3740, max_test_acc=0.1629, total_time=8.1388, LR=0.00040234\n"
     ]
    },
    {
     "name": "stderr",
     "output_type": "stream",
     "text": [
      "100%|██████████| 17/17 [00:06<00:00,  2.44it/s]\n",
      "100%|██████████| 5/5 [00:01<00:00,  3.39it/s]\n"
     ]
    },
    {
     "name": "stdout",
     "output_type": "stream",
     "text": [
      "epoch=154, train_acc_top1=0.1012, train_acc_top5=0.4828, train_loss=2.4678, test_top1=0.1212, test_top5=0.5644, test_loss=2.3491, max_test_acc=0.1629, total_time=8.4730, LR=0.00039844\n"
     ]
    },
    {
     "name": "stderr",
     "output_type": "stream",
     "text": [
      "100%|██████████| 17/17 [00:06<00:00,  2.45it/s]\n",
      "100%|██████████| 5/5 [00:01<00:00,  3.41it/s]\n"
     ]
    },
    {
     "name": "stdout",
     "output_type": "stream",
     "text": [
      "epoch=155, train_acc_top1=0.1031, train_acc_top5=0.4828, train_loss=2.4533, test_top1=0.1136, test_top5=0.5795, test_loss=2.3723, max_test_acc=0.1629, total_time=8.4163, LR=0.00039453\n"
     ]
    },
    {
     "name": "stderr",
     "output_type": "stream",
     "text": [
      "100%|██████████| 17/17 [00:06<00:00,  2.45it/s]\n",
      "100%|██████████| 5/5 [00:01<00:00,  3.51it/s]\n"
     ]
    },
    {
     "name": "stdout",
     "output_type": "stream",
     "text": [
      "epoch=156, train_acc_top1=0.1040, train_acc_top5=0.4819, train_loss=2.4212, test_top1=0.1023, test_top5=0.5000, test_loss=2.3926, max_test_acc=0.1629, total_time=8.3734, LR=0.00039063\n"
     ]
    },
    {
     "name": "stderr",
     "output_type": "stream",
     "text": [
      "100%|██████████| 17/17 [00:06<00:00,  2.46it/s]\n",
      "100%|██████████| 5/5 [00:01<00:00,  3.52it/s]\n"
     ]
    },
    {
     "name": "stdout",
     "output_type": "stream",
     "text": [
      "epoch=157, train_acc_top1=0.1244, train_acc_top5=0.5274, train_loss=2.4037, test_top1=0.1667, test_top5=0.5682, test_loss=2.3521, max_test_acc=0.1667, total_time=8.9388, LR=0.00038672\n"
     ]
    },
    {
     "name": "stderr",
     "output_type": "stream",
     "text": [
      "100%|██████████| 17/17 [00:07<00:00,  2.31it/s]\n",
      "100%|██████████| 5/5 [00:01<00:00,  3.47it/s]\n"
     ]
    },
    {
     "name": "stdout",
     "output_type": "stream",
     "text": [
      "epoch=158, train_acc_top1=0.1142, train_acc_top5=0.5153, train_loss=2.4954, test_top1=0.1515, test_top5=0.5114, test_loss=2.4157, max_test_acc=0.1667, total_time=8.8156, LR=0.00038281\n"
     ]
    },
    {
     "name": "stderr",
     "output_type": "stream",
     "text": [
      "100%|██████████| 17/17 [00:06<00:00,  2.43it/s]\n",
      "100%|██████████| 5/5 [00:01<00:00,  3.17it/s]\n"
     ]
    },
    {
     "name": "stdout",
     "output_type": "stream",
     "text": [
      "epoch=159, train_acc_top1=0.1077, train_acc_top5=0.4884, train_loss=2.4678, test_top1=0.1174, test_top5=0.5000, test_loss=2.4143, max_test_acc=0.1667, total_time=8.5927, LR=0.00037891\n"
     ]
    },
    {
     "name": "stderr",
     "output_type": "stream",
     "text": [
      "100%|██████████| 17/17 [00:06<00:00,  2.44it/s]\n",
      "100%|██████████| 5/5 [00:01<00:00,  4.05it/s]\n"
     ]
    },
    {
     "name": "stdout",
     "output_type": "stream",
     "text": [
      "epoch=160, train_acc_top1=0.1105, train_acc_top5=0.4800, train_loss=2.4442, test_top1=0.0909, test_top5=0.4356, test_loss=2.4515, max_test_acc=0.1667, total_time=8.2183, LR=0.00037500\n"
     ]
    },
    {
     "name": "stderr",
     "output_type": "stream",
     "text": [
      "100%|██████████| 17/17 [00:06<00:00,  2.54it/s]\n",
      "100%|██████████| 5/5 [00:00<00:00,  5.22it/s]\n"
     ]
    },
    {
     "name": "stdout",
     "output_type": "stream",
     "text": [
      "epoch=161, train_acc_top1=0.0966, train_acc_top5=0.4494, train_loss=2.4407, test_top1=0.1515, test_top5=0.4583, test_loss=2.3973, max_test_acc=0.1667, total_time=7.6618, LR=0.00037109\n"
     ]
    },
    {
     "name": "stderr",
     "output_type": "stream",
     "text": [
      "100%|██████████| 17/17 [00:06<00:00,  2.80it/s]\n",
      "100%|██████████| 5/5 [00:00<00:00,  6.27it/s]\n"
     ]
    },
    {
     "name": "stdout",
     "output_type": "stream",
     "text": [
      "epoch=162, train_acc_top1=0.0891, train_acc_top5=0.5023, train_loss=2.4245, test_top1=0.0909, test_top5=0.4545, test_loss=2.4848, max_test_acc=0.1667, total_time=6.8831, LR=0.00036719\n"
     ]
    },
    {
     "name": "stderr",
     "output_type": "stream",
     "text": [
      "100%|██████████| 17/17 [00:05<00:00,  3.13it/s]\n",
      "100%|██████████| 5/5 [00:00<00:00,  6.21it/s]\n"
     ]
    },
    {
     "name": "stdout",
     "output_type": "stream",
     "text": [
      "epoch=163, train_acc_top1=0.0808, train_acc_top5=0.4336, train_loss=2.4551, test_top1=0.1098, test_top5=0.5492, test_loss=2.3568, max_test_acc=0.1667, total_time=6.2468, LR=0.00036328\n"
     ]
    },
    {
     "name": "stderr",
     "output_type": "stream",
     "text": [
      "100%|██████████| 17/17 [00:05<00:00,  3.14it/s]\n",
      "100%|██████████| 5/5 [00:00<00:00,  6.53it/s]\n"
     ]
    },
    {
     "name": "stdout",
     "output_type": "stream",
     "text": [
      "epoch=164, train_acc_top1=0.0994, train_acc_top5=0.4568, train_loss=2.4654, test_top1=0.1098, test_top5=0.4545, test_loss=2.4048, max_test_acc=0.1667, total_time=6.1942, LR=0.00035937\n"
     ]
    },
    {
     "name": "stderr",
     "output_type": "stream",
     "text": [
      "100%|██████████| 17/17 [00:05<00:00,  3.11it/s]\n",
      "100%|██████████| 5/5 [00:00<00:00,  6.50it/s]\n"
     ]
    },
    {
     "name": "stdout",
     "output_type": "stream",
     "text": [
      "epoch=165, train_acc_top1=0.0873, train_acc_top5=0.4299, train_loss=2.4397, test_top1=0.1023, test_top5=0.4470, test_loss=2.4153, max_test_acc=0.1667, total_time=6.2449, LR=0.00035547\n"
     ]
    },
    {
     "name": "stderr",
     "output_type": "stream",
     "text": [
      "100%|██████████| 17/17 [00:05<00:00,  3.12it/s]\n",
      "100%|██████████| 5/5 [00:00<00:00,  6.74it/s]\n"
     ]
    },
    {
     "name": "stdout",
     "output_type": "stream",
     "text": [
      "epoch=166, train_acc_top1=0.0956, train_acc_top5=0.4540, train_loss=2.4160, test_top1=0.0947, test_top5=0.4583, test_loss=2.4106, max_test_acc=0.1667, total_time=6.2006, LR=0.00035156\n"
     ]
    },
    {
     "name": "stderr",
     "output_type": "stream",
     "text": [
      "100%|██████████| 17/17 [00:05<00:00,  3.15it/s]\n",
      "100%|██████████| 5/5 [00:00<00:00,  6.44it/s]\n"
     ]
    },
    {
     "name": "stdout",
     "output_type": "stream",
     "text": [
      "epoch=167, train_acc_top1=0.0956, train_acc_top5=0.4373, train_loss=2.4201, test_top1=0.0947, test_top5=0.4811, test_loss=2.4040, max_test_acc=0.1667, total_time=6.1890, LR=0.00034766\n"
     ]
    },
    {
     "name": "stderr",
     "output_type": "stream",
     "text": [
      "100%|██████████| 17/17 [00:05<00:00,  3.15it/s]\n",
      "100%|██████████| 5/5 [00:00<00:00,  6.56it/s]\n"
     ]
    },
    {
     "name": "stdout",
     "output_type": "stream",
     "text": [
      "epoch=168, train_acc_top1=0.1179, train_acc_top5=0.5144, train_loss=2.3948, test_top1=0.1402, test_top5=0.5758, test_loss=2.3817, max_test_acc=0.1667, total_time=6.1654, LR=0.00034375\n"
     ]
    },
    {
     "name": "stderr",
     "output_type": "stream",
     "text": [
      "100%|██████████| 17/17 [00:05<00:00,  3.17it/s]\n",
      "100%|██████████| 5/5 [00:00<00:00,  6.31it/s]\n"
     ]
    },
    {
     "name": "stdout",
     "output_type": "stream",
     "text": [
      "epoch=169, train_acc_top1=0.0938, train_acc_top5=0.4977, train_loss=2.4892, test_top1=0.0795, test_top5=0.4545, test_loss=2.5398, max_test_acc=0.1667, total_time=6.1655, LR=0.00033984\n"
     ]
    },
    {
     "name": "stderr",
     "output_type": "stream",
     "text": [
      "100%|██████████| 17/17 [00:05<00:00,  3.16it/s]\n",
      "100%|██████████| 5/5 [00:00<00:00,  6.45it/s]\n"
     ]
    },
    {
     "name": "stdout",
     "output_type": "stream",
     "text": [
      "epoch=170, train_acc_top1=0.0891, train_acc_top5=0.4773, train_loss=2.4177, test_top1=0.1553, test_top5=0.5606, test_loss=2.3697, max_test_acc=0.1667, total_time=6.1598, LR=0.00033594\n"
     ]
    },
    {
     "name": "stderr",
     "output_type": "stream",
     "text": [
      "100%|██████████| 17/17 [00:05<00:00,  3.15it/s]\n",
      "100%|██████████| 5/5 [00:00<00:00,  6.46it/s]\n"
     ]
    },
    {
     "name": "stdout",
     "output_type": "stream",
     "text": [
      "epoch=171, train_acc_top1=0.1161, train_acc_top5=0.5432, train_loss=2.3759, test_top1=0.0909, test_top5=0.6023, test_loss=2.3555, max_test_acc=0.1667, total_time=6.1885, LR=0.00033203\n"
     ]
    },
    {
     "name": "stderr",
     "output_type": "stream",
     "text": [
      "100%|██████████| 17/17 [00:05<00:00,  3.15it/s]\n",
      "100%|██████████| 5/5 [00:00<00:00,  6.42it/s]\n"
     ]
    },
    {
     "name": "stdout",
     "output_type": "stream",
     "text": [
      "epoch=172, train_acc_top1=0.1151, train_acc_top5=0.5961, train_loss=2.3711, test_top1=0.0758, test_top5=0.6402, test_loss=2.3551, max_test_acc=0.1667, total_time=6.1847, LR=0.00032813\n"
     ]
    },
    {
     "name": "stderr",
     "output_type": "stream",
     "text": [
      "100%|██████████| 17/17 [00:05<00:00,  3.16it/s]\n",
      "100%|██████████| 5/5 [00:00<00:00,  6.36it/s]\n"
     ]
    },
    {
     "name": "stdout",
     "output_type": "stream",
     "text": [
      "epoch=173, train_acc_top1=0.1235, train_acc_top5=0.5887, train_loss=2.3481, test_top1=0.1174, test_top5=0.6212, test_loss=2.3621, max_test_acc=0.1667, total_time=6.1811, LR=0.00032422\n"
     ]
    },
    {
     "name": "stderr",
     "output_type": "stream",
     "text": [
      "100%|██████████| 17/17 [00:05<00:00,  3.15it/s]\n",
      "100%|██████████| 5/5 [00:00<00:00,  6.40it/s]\n"
     ]
    },
    {
     "name": "stdout",
     "output_type": "stream",
     "text": [
      "epoch=174, train_acc_top1=0.1393, train_acc_top5=0.5831, train_loss=2.3557, test_top1=0.1326, test_top5=0.5758, test_loss=2.4687, max_test_acc=0.1667, total_time=6.1798, LR=0.00032031\n"
     ]
    },
    {
     "name": "stderr",
     "output_type": "stream",
     "text": [
      "100%|██████████| 17/17 [00:05<00:00,  3.14it/s]\n",
      "100%|██████████| 5/5 [00:00<00:00,  6.40it/s]\n"
     ]
    },
    {
     "name": "stdout",
     "output_type": "stream",
     "text": [
      "epoch=175, train_acc_top1=0.2145, train_acc_top5=0.7122, train_loss=2.1973, test_top1=0.2462, test_top5=0.7689, test_loss=2.0480, max_test_acc=0.2462, total_time=6.5187, LR=0.00031641\n"
     ]
    },
    {
     "name": "stderr",
     "output_type": "stream",
     "text": [
      "100%|██████████| 17/17 [00:05<00:00,  3.13it/s]\n",
      "100%|██████████| 5/5 [00:00<00:00,  6.47it/s]\n"
     ]
    },
    {
     "name": "stdout",
     "output_type": "stream",
     "text": [
      "epoch=176, train_acc_top1=0.1903, train_acc_top5=0.6890, train_loss=2.8992, test_top1=0.1364, test_top5=0.5833, test_loss=2.6409, max_test_acc=0.2462, total_time=6.2237, LR=0.00031250\n"
     ]
    },
    {
     "name": "stderr",
     "output_type": "stream",
     "text": [
      "100%|██████████| 17/17 [00:05<00:00,  2.94it/s]\n",
      "100%|██████████| 5/5 [00:00<00:00,  5.47it/s]\n"
     ]
    },
    {
     "name": "stdout",
     "output_type": "stream",
     "text": [
      "epoch=177, train_acc_top1=0.1086, train_acc_top5=0.5534, train_loss=2.5187, test_top1=0.1780, test_top5=0.6061, test_loss=2.2977, max_test_acc=0.2462, total_time=6.7069, LR=0.00030859\n"
     ]
    },
    {
     "name": "stderr",
     "output_type": "stream",
     "text": [
      "100%|██████████| 17/17 [00:06<00:00,  2.51it/s]\n",
      "100%|██████████| 5/5 [00:01<00:00,  3.80it/s]\n"
     ]
    },
    {
     "name": "stdout",
     "output_type": "stream",
     "text": [
      "epoch=178, train_acc_top1=0.1458, train_acc_top5=0.5664, train_loss=2.5229, test_top1=0.1515, test_top5=0.6288, test_loss=2.3052, max_test_acc=0.2462, total_time=8.1057, LR=0.00030469\n"
     ]
    },
    {
     "name": "stderr",
     "output_type": "stream",
     "text": [
      "100%|██████████| 17/17 [00:06<00:00,  2.54it/s]\n",
      "100%|██████████| 5/5 [00:01<00:00,  4.29it/s]\n"
     ]
    },
    {
     "name": "stdout",
     "output_type": "stream",
     "text": [
      "epoch=179, train_acc_top1=0.2006, train_acc_top5=0.6880, train_loss=2.2097, test_top1=0.2311, test_top5=0.7727, test_loss=2.0881, max_test_acc=0.2462, total_time=7.8774, LR=0.00030078\n"
     ]
    },
    {
     "name": "stderr",
     "output_type": "stream",
     "text": [
      "100%|██████████| 17/17 [00:06<00:00,  2.59it/s]\n",
      "100%|██████████| 5/5 [00:01<00:00,  3.73it/s]\n"
     ]
    },
    {
     "name": "stdout",
     "output_type": "stream",
     "text": [
      "epoch=180, train_acc_top1=0.1634, train_acc_top5=0.6323, train_loss=2.6024, test_top1=0.1591, test_top5=0.5568, test_loss=2.3597, max_test_acc=0.2462, total_time=7.9206, LR=0.00029687\n"
     ]
    },
    {
     "name": "stderr",
     "output_type": "stream",
     "text": [
      "100%|██████████| 17/17 [00:06<00:00,  2.54it/s]\n",
      "100%|██████████| 5/5 [00:01<00:00,  3.76it/s]\n"
     ]
    },
    {
     "name": "stdout",
     "output_type": "stream",
     "text": [
      "epoch=181, train_acc_top1=0.1708, train_acc_top5=0.6444, train_loss=2.2954, test_top1=0.1742, test_top5=0.7614, test_loss=2.1225, max_test_acc=0.2462, total_time=8.0340, LR=0.00029297\n"
     ]
    },
    {
     "name": "stderr",
     "output_type": "stream",
     "text": [
      "100%|██████████| 17/17 [00:06<00:00,  2.62it/s]\n",
      "100%|██████████| 5/5 [00:01<00:00,  3.70it/s]\n"
     ]
    },
    {
     "name": "stdout",
     "output_type": "stream",
     "text": [
      "epoch=182, train_acc_top1=0.2507, train_acc_top5=0.7781, train_loss=2.0668, test_top1=0.1515, test_top5=0.6288, test_loss=2.3018, max_test_acc=0.2462, total_time=7.8560, LR=0.00028906\n"
     ]
    },
    {
     "name": "stderr",
     "output_type": "stream",
     "text": [
      "100%|██████████| 17/17 [00:06<00:00,  2.66it/s]\n",
      "100%|██████████| 5/5 [00:01<00:00,  4.36it/s]\n"
     ]
    },
    {
     "name": "stdout",
     "output_type": "stream",
     "text": [
      "epoch=183, train_acc_top1=0.2507, train_acc_top5=0.7837, train_loss=2.0665, test_top1=0.2348, test_top5=0.8144, test_loss=1.9706, max_test_acc=0.2462, total_time=7.5573, LR=0.00028516\n"
     ]
    },
    {
     "name": "stderr",
     "output_type": "stream",
     "text": [
      "100%|██████████| 17/17 [00:06<00:00,  2.53it/s]\n",
      "100%|██████████| 5/5 [00:01<00:00,  3.71it/s]\n"
     ]
    },
    {
     "name": "stdout",
     "output_type": "stream",
     "text": [
      "epoch=184, train_acc_top1=0.2646, train_acc_top5=0.8264, train_loss=1.9160, test_top1=0.3371, test_top5=0.9091, test_loss=1.7285, max_test_acc=0.3371, total_time=8.6829, LR=0.00028125\n"
     ]
    },
    {
     "name": "stderr",
     "output_type": "stream",
     "text": [
      "100%|██████████| 17/17 [00:06<00:00,  2.53it/s]\n",
      "100%|██████████| 5/5 [00:01<00:00,  3.43it/s]\n"
     ]
    },
    {
     "name": "stdout",
     "output_type": "stream",
     "text": [
      "epoch=185, train_acc_top1=0.3454, train_acc_top5=0.8793, train_loss=1.7377, test_top1=0.4205, test_top5=0.9280, test_loss=1.5679, max_test_acc=0.4205, total_time=8.5740, LR=0.00027734\n"
     ]
    },
    {
     "name": "stderr",
     "output_type": "stream",
     "text": [
      "100%|██████████| 17/17 [00:06<00:00,  2.63it/s]\n",
      "100%|██████████| 5/5 [00:01<00:00,  3.62it/s]\n"
     ]
    },
    {
     "name": "stdout",
     "output_type": "stream",
     "text": [
      "epoch=186, train_acc_top1=0.3231, train_acc_top5=0.8774, train_loss=1.8580, test_top1=0.3030, test_top5=0.9394, test_loss=1.6414, max_test_acc=0.4205, total_time=7.9071, LR=0.00027344\n"
     ]
    },
    {
     "name": "stderr",
     "output_type": "stream",
     "text": [
      "100%|██████████| 17/17 [00:06<00:00,  2.46it/s]\n",
      "100%|██████████| 5/5 [00:01<00:00,  4.01it/s]\n"
     ]
    },
    {
     "name": "stdout",
     "output_type": "stream",
     "text": [
      "epoch=187, train_acc_top1=0.3370, train_acc_top5=0.8784, train_loss=1.7571, test_top1=0.3561, test_top5=0.9697, test_loss=1.5480, max_test_acc=0.4205, total_time=8.1707, LR=0.00026953\n"
     ]
    },
    {
     "name": "stderr",
     "output_type": "stream",
     "text": [
      "100%|██████████| 17/17 [00:06<00:00,  2.57it/s]\n",
      "100%|██████████| 5/5 [00:01<00:00,  3.30it/s]\n"
     ]
    },
    {
     "name": "stdout",
     "output_type": "stream",
     "text": [
      "epoch=188, train_acc_top1=0.3872, train_acc_top5=0.9136, train_loss=1.6503, test_top1=0.4167, test_top5=0.9659, test_loss=1.4348, max_test_acc=0.4205, total_time=8.1473, LR=0.00026563\n"
     ]
    },
    {
     "name": "stderr",
     "output_type": "stream",
     "text": [
      "100%|██████████| 17/17 [00:06<00:00,  2.50it/s]\n",
      "100%|██████████| 5/5 [00:00<00:00,  5.90it/s]\n"
     ]
    },
    {
     "name": "stdout",
     "output_type": "stream",
     "text": [
      "epoch=189, train_acc_top1=0.3352, train_acc_top5=0.8644, train_loss=1.8604, test_top1=0.4205, test_top5=0.9470, test_loss=1.5052, max_test_acc=0.4205, total_time=7.9718, LR=0.00026172\n"
     ]
    },
    {
     "name": "stderr",
     "output_type": "stream",
     "text": [
      "100%|██████████| 17/17 [00:05<00:00,  3.06it/s]\n",
      "100%|██████████| 5/5 [00:00<00:00,  5.75it/s]\n"
     ]
    },
    {
     "name": "stdout",
     "output_type": "stream",
     "text": [
      "epoch=190, train_acc_top1=0.3779, train_acc_top5=0.9099, train_loss=1.5964, test_top1=0.4356, test_top5=0.9545, test_loss=1.4529, max_test_acc=0.4356, total_time=6.7186, LR=0.00025781\n"
     ]
    },
    {
     "name": "stderr",
     "output_type": "stream",
     "text": [
      "100%|██████████| 17/17 [00:05<00:00,  3.04it/s]\n",
      "100%|██████████| 5/5 [00:00<00:00,  6.02it/s]\n"
     ]
    },
    {
     "name": "stdout",
     "output_type": "stream",
     "text": [
      "epoch=191, train_acc_top1=0.2507, train_acc_top5=0.7484, train_loss=2.9421, test_top1=0.2235, test_top5=0.8561, test_loss=1.9782, max_test_acc=0.4356, total_time=6.4315, LR=0.00025391\n"
     ]
    },
    {
     "name": "stderr",
     "output_type": "stream",
     "text": [
      "100%|██████████| 17/17 [00:05<00:00,  3.13it/s]\n",
      "100%|██████████| 5/5 [00:00<00:00,  6.07it/s]\n"
     ]
    },
    {
     "name": "stdout",
     "output_type": "stream",
     "text": [
      "epoch=192, train_acc_top1=0.3370, train_acc_top5=0.8979, train_loss=1.7081, test_top1=0.3182, test_top5=0.9508, test_loss=1.6723, max_test_acc=0.4356, total_time=6.2693, LR=0.00025000\n"
     ]
    },
    {
     "name": "stderr",
     "output_type": "stream",
     "text": [
      "100%|██████████| 17/17 [00:05<00:00,  3.15it/s]\n",
      "100%|██████████| 5/5 [00:00<00:00,  6.05it/s]\n"
     ]
    },
    {
     "name": "stdout",
     "output_type": "stream",
     "text": [
      "epoch=193, train_acc_top1=0.3417, train_acc_top5=0.8886, train_loss=1.7071, test_top1=0.3977, test_top5=0.9470, test_loss=1.5074, max_test_acc=0.4356, total_time=6.2298, LR=0.00024609\n"
     ]
    },
    {
     "name": "stderr",
     "output_type": "stream",
     "text": [
      "100%|██████████| 17/17 [00:05<00:00,  3.15it/s]\n",
      "100%|██████████| 5/5 [00:00<00:00,  6.04it/s]\n"
     ]
    },
    {
     "name": "stdout",
     "output_type": "stream",
     "text": [
      "epoch=194, train_acc_top1=0.4253, train_acc_top5=0.9146, train_loss=1.5092, test_top1=0.4432, test_top5=0.9697, test_loss=1.4399, max_test_acc=0.4432, total_time=6.5354, LR=0.00024219\n"
     ]
    },
    {
     "name": "stderr",
     "output_type": "stream",
     "text": [
      "100%|██████████| 17/17 [00:05<00:00,  3.16it/s]\n",
      "100%|██████████| 5/5 [00:00<00:00,  6.06it/s]\n"
     ]
    },
    {
     "name": "stdout",
     "output_type": "stream",
     "text": [
      "epoch=195, train_acc_top1=0.3714, train_acc_top5=0.9034, train_loss=1.7521, test_top1=0.4773, test_top5=0.9091, test_loss=1.5664, max_test_acc=0.4773, total_time=6.5147, LR=0.00023828\n"
     ]
    },
    {
     "name": "stderr",
     "output_type": "stream",
     "text": [
      "100%|██████████| 17/17 [00:05<00:00,  3.14it/s]\n",
      "100%|██████████| 5/5 [00:00<00:00,  6.12it/s]\n"
     ]
    },
    {
     "name": "stdout",
     "output_type": "stream",
     "text": [
      "epoch=196, train_acc_top1=0.4782, train_acc_top5=0.9536, train_loss=1.3595, test_top1=0.5833, test_top5=0.9811, test_loss=1.1291, max_test_acc=0.5833, total_time=7.2436, LR=0.00023437\n"
     ]
    },
    {
     "name": "stderr",
     "output_type": "stream",
     "text": [
      "100%|██████████| 17/17 [00:05<00:00,  3.13it/s]\n",
      "100%|██████████| 5/5 [00:00<00:00,  5.98it/s]\n"
     ]
    },
    {
     "name": "stdout",
     "output_type": "stream",
     "text": [
      "epoch=197, train_acc_top1=0.5330, train_acc_top5=0.9675, train_loss=1.2152, test_top1=0.2992, test_top5=0.8258, test_loss=2.1898, max_test_acc=0.5833, total_time=6.2819, LR=0.00023047\n"
     ]
    },
    {
     "name": "stderr",
     "output_type": "stream",
     "text": [
      "100%|██████████| 17/17 [00:05<00:00,  3.14it/s]\n",
      "100%|██████████| 5/5 [00:00<00:00,  6.16it/s]\n"
     ]
    },
    {
     "name": "stdout",
     "output_type": "stream",
     "text": [
      "epoch=198, train_acc_top1=0.4949, train_acc_top5=0.9601, train_loss=1.3245, test_top1=0.4848, test_top5=0.9583, test_loss=1.3012, max_test_acc=0.5833, total_time=6.2368, LR=0.00022656\n"
     ]
    },
    {
     "name": "stderr",
     "output_type": "stream",
     "text": [
      "100%|██████████| 17/17 [00:05<00:00,  3.13it/s]\n",
      "100%|██████████| 5/5 [00:00<00:00,  6.05it/s]\n"
     ]
    },
    {
     "name": "stdout",
     "output_type": "stream",
     "text": [
      "epoch=199, train_acc_top1=0.4930, train_acc_top5=0.9582, train_loss=1.2718, test_top1=0.4432, test_top5=0.9621, test_loss=1.3494, max_test_acc=0.5833, total_time=6.2686, LR=0.00022266\n"
     ]
    },
    {
     "name": "stderr",
     "output_type": "stream",
     "text": [
      "100%|██████████| 17/17 [00:05<00:00,  3.15it/s]\n",
      "100%|██████████| 5/5 [00:00<00:00,  6.08it/s]\n"
     ]
    },
    {
     "name": "stdout",
     "output_type": "stream",
     "text": [
      "epoch=200, train_acc_top1=0.4652, train_acc_top5=0.9406, train_loss=1.3674, test_top1=0.5644, test_top5=0.9773, test_loss=1.1391, max_test_acc=0.5833, total_time=6.2258, LR=0.00021875\n"
     ]
    },
    {
     "name": "stderr",
     "output_type": "stream",
     "text": [
      "100%|██████████| 17/17 [00:05<00:00,  3.12it/s]\n",
      "100%|██████████| 5/5 [00:00<00:00,  6.08it/s]\n"
     ]
    },
    {
     "name": "stdout",
     "output_type": "stream",
     "text": [
      "epoch=201, train_acc_top1=0.6156, train_acc_top5=0.9768, train_loss=1.0481, test_top1=0.6174, test_top5=0.9848, test_loss=1.0387, max_test_acc=0.6174, total_time=6.5777, LR=0.00021484\n"
     ]
    },
    {
     "name": "stderr",
     "output_type": "stream",
     "text": [
      "100%|██████████| 17/17 [00:05<00:00,  3.14it/s]\n",
      "100%|██████████| 5/5 [00:00<00:00,  6.06it/s]\n"
     ]
    },
    {
     "name": "stdout",
     "output_type": "stream",
     "text": [
      "epoch=202, train_acc_top1=0.5190, train_acc_top5=0.8691, train_loss=1.9403, test_top1=0.4318, test_top5=0.8523, test_loss=1.9706, max_test_acc=0.6174, total_time=6.2538, LR=0.00021094\n"
     ]
    },
    {
     "name": "stderr",
     "output_type": "stream",
     "text": [
      "100%|██████████| 17/17 [00:05<00:00,  3.11it/s]\n",
      "100%|██████████| 5/5 [00:00<00:00,  5.59it/s]\n"
     ]
    },
    {
     "name": "stdout",
     "output_type": "stream",
     "text": [
      "epoch=203, train_acc_top1=0.4596, train_acc_top5=0.9285, train_loss=1.4558, test_top1=0.4015, test_top5=0.8864, test_loss=1.5975, max_test_acc=0.6174, total_time=6.3654, LR=0.00020703\n"
     ]
    },
    {
     "name": "stderr",
     "output_type": "stream",
     "text": [
      "100%|██████████| 17/17 [00:06<00:00,  2.78it/s]\n",
      "100%|██████████| 5/5 [00:01<00:00,  4.33it/s]\n"
     ]
    },
    {
     "name": "stdout",
     "output_type": "stream",
     "text": [
      "epoch=204, train_acc_top1=0.3556, train_acc_top5=0.8505, train_loss=2.1575, test_top1=0.4621, test_top5=0.9432, test_loss=1.4102, max_test_acc=0.6174, total_time=7.2938, LR=0.00020313\n"
     ]
    },
    {
     "name": "stderr",
     "output_type": "stream",
     "text": [
      "100%|██████████| 17/17 [00:06<00:00,  2.63it/s]\n",
      "100%|██████████| 5/5 [00:01<00:00,  3.89it/s]\n"
     ]
    },
    {
     "name": "stdout",
     "output_type": "stream",
     "text": [
      "epoch=205, train_acc_top1=0.5190, train_acc_top5=0.9749, train_loss=1.1526, test_top1=0.6364, test_top5=0.9848, test_loss=1.0075, max_test_acc=0.6364, total_time=8.1579, LR=0.00019922\n"
     ]
    },
    {
     "name": "stderr",
     "output_type": "stream",
     "text": [
      "100%|██████████| 17/17 [00:06<00:00,  2.49it/s]\n",
      "100%|██████████| 5/5 [00:01<00:00,  3.59it/s]\n"
     ]
    },
    {
     "name": "stdout",
     "output_type": "stream",
     "text": [
      "epoch=206, train_acc_top1=0.6137, train_acc_top5=0.9796, train_loss=1.0044, test_top1=0.5871, test_top5=0.9924, test_loss=1.1035, max_test_acc=0.6364, total_time=8.2284, LR=0.00019531\n"
     ]
    },
    {
     "name": "stderr",
     "output_type": "stream",
     "text": [
      "100%|██████████| 17/17 [00:06<00:00,  2.59it/s]\n",
      "100%|██████████| 5/5 [00:01<00:00,  4.43it/s]\n"
     ]
    },
    {
     "name": "stdout",
     "output_type": "stream",
     "text": [
      "epoch=207, train_acc_top1=0.5515, train_acc_top5=0.9601, train_loss=1.3051, test_top1=0.6591, test_top5=0.9886, test_loss=0.8985, max_test_acc=0.6591, total_time=8.5994, LR=0.00019141\n"
     ]
    },
    {
     "name": "stderr",
     "output_type": "stream",
     "text": [
      "100%|██████████| 17/17 [00:06<00:00,  2.48it/s]\n",
      "100%|██████████| 5/5 [00:01<00:00,  3.45it/s]\n"
     ]
    },
    {
     "name": "stdout",
     "output_type": "stream",
     "text": [
      "epoch=208, train_acc_top1=0.5079, train_acc_top5=0.9127, train_loss=1.4943, test_top1=0.2083, test_top5=0.7538, test_loss=2.6133, max_test_acc=0.6591, total_time=8.3182, LR=0.00018750\n"
     ]
    },
    {
     "name": "stderr",
     "output_type": "stream",
     "text": [
      "100%|██████████| 17/17 [00:06<00:00,  2.45it/s]\n",
      "100%|██████████| 5/5 [00:01<00:00,  3.42it/s]\n"
     ]
    },
    {
     "name": "stdout",
     "output_type": "stream",
     "text": [
      "epoch=209, train_acc_top1=0.3445, train_acc_top5=0.8422, train_loss=1.9359, test_top1=0.3712, test_top5=0.8939, test_loss=1.7931, max_test_acc=0.6591, total_time=8.4069, LR=0.00018359\n"
     ]
    },
    {
     "name": "stderr",
     "output_type": "stream",
     "text": [
      "100%|██████████| 17/17 [00:06<00:00,  2.45it/s]\n",
      "100%|██████████| 5/5 [00:01<00:00,  3.65it/s]\n"
     ]
    },
    {
     "name": "stdout",
     "output_type": "stream",
     "text": [
      "epoch=210, train_acc_top1=0.4364, train_acc_top5=0.9489, train_loss=1.4268, test_top1=0.5303, test_top5=0.9848, test_loss=1.1062, max_test_acc=0.6591, total_time=8.3344, LR=0.00017969\n"
     ]
    },
    {
     "name": "stderr",
     "output_type": "stream",
     "text": [
      "100%|██████████| 17/17 [00:06<00:00,  2.57it/s]\n",
      "100%|██████████| 5/5 [00:01<00:00,  3.89it/s]\n"
     ]
    },
    {
     "name": "stdout",
     "output_type": "stream",
     "text": [
      "epoch=211, train_acc_top1=0.5432, train_acc_top5=0.9656, train_loss=1.1676, test_top1=0.5682, test_top5=0.9848, test_loss=1.0507, max_test_acc=0.6591, total_time=7.9014, LR=0.00017578\n"
     ]
    },
    {
     "name": "stderr",
     "output_type": "stream",
     "text": [
      "100%|██████████| 17/17 [00:06<00:00,  2.54it/s]\n",
      "100%|██████████| 5/5 [00:01<00:00,  3.63it/s]\n"
     ]
    },
    {
     "name": "stdout",
     "output_type": "stream",
     "text": [
      "epoch=212, train_acc_top1=0.5989, train_acc_top5=0.9833, train_loss=0.9389, test_top1=0.5644, test_top5=0.9811, test_loss=1.0115, max_test_acc=0.6591, total_time=8.0884, LR=0.00017187\n"
     ]
    },
    {
     "name": "stderr",
     "output_type": "stream",
     "text": [
      "100%|██████████| 17/17 [00:07<00:00,  2.35it/s]\n",
      "100%|██████████| 5/5 [00:01<00:00,  3.69it/s]\n"
     ]
    },
    {
     "name": "stdout",
     "output_type": "stream",
     "text": [
      "epoch=213, train_acc_top1=0.6555, train_acc_top5=0.9824, train_loss=0.9230, test_top1=0.5417, test_top5=0.9773, test_loss=1.0226, max_test_acc=0.6591, total_time=8.6173, LR=0.00016797\n"
     ]
    },
    {
     "name": "stderr",
     "output_type": "stream",
     "text": [
      "100%|██████████| 17/17 [00:06<00:00,  2.63it/s]\n",
      "100%|██████████| 5/5 [00:01<00:00,  3.61it/s]\n"
     ]
    },
    {
     "name": "stdout",
     "output_type": "stream",
     "text": [
      "epoch=214, train_acc_top1=0.5952, train_acc_top5=0.9786, train_loss=0.9853, test_top1=0.4848, test_top5=0.9280, test_loss=1.3690, max_test_acc=0.6591, total_time=7.8780, LR=0.00016406\n"
     ]
    },
    {
     "name": "stderr",
     "output_type": "stream",
     "text": [
      "100%|██████████| 17/17 [00:06<00:00,  2.48it/s]\n",
      "100%|██████████| 5/5 [00:01<00:00,  3.65it/s]\n"
     ]
    },
    {
     "name": "stdout",
     "output_type": "stream",
     "text": [
      "epoch=215, train_acc_top1=0.5747, train_acc_top5=0.9851, train_loss=0.9949, test_top1=0.5871, test_top5=0.9962, test_loss=1.0252, max_test_acc=0.6591, total_time=8.2299, LR=0.00016016\n"
     ]
    },
    {
     "name": "stderr",
     "output_type": "stream",
     "text": [
      "100%|██████████| 17/17 [00:06<00:00,  2.71it/s]\n",
      "100%|██████████| 5/5 [00:01<00:00,  3.57it/s]\n"
     ]
    },
    {
     "name": "stdout",
     "output_type": "stream",
     "text": [
      "epoch=216, train_acc_top1=0.6035, train_acc_top5=0.9842, train_loss=0.8969, test_top1=0.6515, test_top5=0.9886, test_loss=0.9541, max_test_acc=0.6591, total_time=7.6863, LR=0.00015625\n"
     ]
    },
    {
     "name": "stderr",
     "output_type": "stream",
     "text": [
      "100%|██████████| 17/17 [00:06<00:00,  2.55it/s]\n",
      "100%|██████████| 5/5 [00:01<00:00,  4.38it/s]\n"
     ]
    },
    {
     "name": "stdout",
     "output_type": "stream",
     "text": [
      "epoch=217, train_acc_top1=0.6917, train_acc_top5=0.9889, train_loss=0.7880, test_top1=0.7121, test_top5=0.9886, test_loss=0.7031, max_test_acc=0.7121, total_time=8.4413, LR=0.00015234\n"
     ]
    },
    {
     "name": "stderr",
     "output_type": "stream",
     "text": [
      "100%|██████████| 17/17 [00:06<00:00,  2.46it/s]\n",
      "100%|██████████| 5/5 [00:01<00:00,  3.53it/s]\n"
     ]
    },
    {
     "name": "stdout",
     "output_type": "stream",
     "text": [
      "epoch=218, train_acc_top1=0.6992, train_acc_top5=0.9907, train_loss=0.7267, test_top1=0.6477, test_top5=0.9924, test_loss=0.8158, max_test_acc=0.7121, total_time=8.3512, LR=0.00014844\n"
     ]
    },
    {
     "name": "stderr",
     "output_type": "stream",
     "text": [
      "100%|██████████| 17/17 [00:06<00:00,  2.51it/s]\n",
      "100%|██████████| 5/5 [00:01<00:00,  4.21it/s]\n"
     ]
    },
    {
     "name": "stdout",
     "output_type": "stream",
     "text": [
      "epoch=219, train_acc_top1=0.6815, train_acc_top5=0.9926, train_loss=0.7603, test_top1=0.7083, test_top5=0.9924, test_loss=0.7476, max_test_acc=0.7121, total_time=7.9786, LR=0.00014453\n"
     ]
    },
    {
     "name": "stderr",
     "output_type": "stream",
     "text": [
      "100%|██████████| 17/17 [00:06<00:00,  2.48it/s]\n",
      "100%|██████████| 5/5 [00:01<00:00,  3.99it/s]\n"
     ]
    },
    {
     "name": "stdout",
     "output_type": "stream",
     "text": [
      "epoch=220, train_acc_top1=0.7409, train_acc_top5=0.9954, train_loss=0.6531, test_top1=0.7045, test_top5=0.9924, test_loss=0.6803, max_test_acc=0.7121, total_time=8.1222, LR=0.00014063\n"
     ]
    },
    {
     "name": "stderr",
     "output_type": "stream",
     "text": [
      "100%|██████████| 17/17 [00:06<00:00,  2.51it/s]\n",
      "100%|██████████| 5/5 [00:01<00:00,  4.03it/s]\n"
     ]
    },
    {
     "name": "stdout",
     "output_type": "stream",
     "text": [
      "epoch=221, train_acc_top1=0.7539, train_acc_top5=0.9935, train_loss=0.5957, test_top1=0.7159, test_top5=0.9962, test_loss=0.6889, max_test_acc=0.7159, total_time=8.6606, LR=0.00013672\n"
     ]
    },
    {
     "name": "stderr",
     "output_type": "stream",
     "text": [
      "100%|██████████| 17/17 [00:07<00:00,  2.41it/s]\n",
      "100%|██████████| 5/5 [00:01<00:00,  3.49it/s]\n"
     ]
    },
    {
     "name": "stdout",
     "output_type": "stream",
     "text": [
      "epoch=222, train_acc_top1=0.6908, train_acc_top5=0.9889, train_loss=0.7952, test_top1=0.6515, test_top5=0.9924, test_loss=0.8360, max_test_acc=0.7159, total_time=8.5171, LR=0.00013281\n"
     ]
    },
    {
     "name": "stderr",
     "output_type": "stream",
     "text": [
      "100%|██████████| 17/17 [00:07<00:00,  2.30it/s]\n",
      "100%|██████████| 5/5 [00:01<00:00,  3.25it/s]\n"
     ]
    },
    {
     "name": "stdout",
     "output_type": "stream",
     "text": [
      "epoch=223, train_acc_top1=0.4438, train_acc_top5=0.8487, train_loss=1.7171, test_top1=0.2917, test_top5=0.8447, test_loss=2.4582, max_test_acc=0.7159, total_time=8.9560, LR=0.00012891\n"
     ]
    },
    {
     "name": "stderr",
     "output_type": "stream",
     "text": [
      "100%|██████████| 17/17 [00:07<00:00,  2.40it/s]\n",
      "100%|██████████| 5/5 [00:01<00:00,  3.23it/s]\n"
     ]
    },
    {
     "name": "stdout",
     "output_type": "stream",
     "text": [
      "epoch=224, train_acc_top1=0.5450, train_acc_top5=0.9554, train_loss=1.2108, test_top1=0.6818, test_top5=0.9924, test_loss=0.8511, max_test_acc=0.7159, total_time=8.6526, LR=0.00012500\n"
     ]
    },
    {
     "name": "stderr",
     "output_type": "stream",
     "text": [
      "100%|██████████| 17/17 [00:07<00:00,  2.40it/s]\n",
      "100%|██████████| 5/5 [00:01<00:00,  3.88it/s]\n"
     ]
    },
    {
     "name": "stdout",
     "output_type": "stream",
     "text": [
      "epoch=225, train_acc_top1=0.6982, train_acc_top5=0.9954, train_loss=0.6838, test_top1=0.7008, test_top5=0.9848, test_loss=0.7630, max_test_acc=0.7159, total_time=8.3898, LR=0.00012109\n"
     ]
    },
    {
     "name": "stderr",
     "output_type": "stream",
     "text": [
      "100%|██████████| 17/17 [00:05<00:00,  2.88it/s]\n",
      "100%|██████████| 5/5 [00:00<00:00,  5.19it/s]\n"
     ]
    },
    {
     "name": "stdout",
     "output_type": "stream",
     "text": [
      "epoch=226, train_acc_top1=0.7335, train_acc_top5=0.9926, train_loss=0.6378, test_top1=0.6705, test_top5=0.9886, test_loss=0.8385, max_test_acc=0.7159, total_time=6.8839, LR=0.00011719\n"
     ]
    },
    {
     "name": "stderr",
     "output_type": "stream",
     "text": [
      "100%|██████████| 17/17 [00:05<00:00,  3.06it/s]\n",
      "100%|██████████| 5/5 [00:00<00:00,  5.93it/s]\n"
     ]
    },
    {
     "name": "stdout",
     "output_type": "stream",
     "text": [
      "epoch=227, train_acc_top1=0.7252, train_acc_top5=0.9972, train_loss=0.6063, test_top1=0.7121, test_top5=0.9924, test_loss=0.6702, max_test_acc=0.7159, total_time=6.4115, LR=0.00011328\n"
     ]
    },
    {
     "name": "stderr",
     "output_type": "stream",
     "text": [
      "100%|██████████| 17/17 [00:05<00:00,  3.11it/s]\n",
      "100%|██████████| 5/5 [00:00<00:00,  5.88it/s]\n"
     ]
    },
    {
     "name": "stdout",
     "output_type": "stream",
     "text": [
      "epoch=228, train_acc_top1=0.7632, train_acc_top5=0.9981, train_loss=0.5618, test_top1=0.6856, test_top5=0.9886, test_loss=0.7570, max_test_acc=0.7159, total_time=6.3329, LR=0.00010938\n"
     ]
    },
    {
     "name": "stderr",
     "output_type": "stream",
     "text": [
      "100%|██████████| 17/17 [00:05<00:00,  3.10it/s]\n",
      "100%|██████████| 5/5 [00:00<00:00,  5.93it/s]\n"
     ]
    },
    {
     "name": "stdout",
     "output_type": "stream",
     "text": [
      "epoch=229, train_acc_top1=0.7688, train_acc_top5=0.9944, train_loss=0.5290, test_top1=0.7159, test_top5=0.9924, test_loss=0.6531, max_test_acc=0.7159, total_time=7.5194, LR=0.00010547\n"
     ]
    },
    {
     "name": "stderr",
     "output_type": "stream",
     "text": [
      "100%|██████████| 17/17 [00:05<00:00,  3.09it/s]\n",
      "100%|██████████| 5/5 [00:00<00:00,  5.99it/s]\n"
     ]
    },
    {
     "name": "stdout",
     "output_type": "stream",
     "text": [
      "epoch=230, train_acc_top1=0.7595, train_acc_top5=0.9981, train_loss=0.5660, test_top1=0.6780, test_top5=0.9924, test_loss=0.7408, max_test_acc=0.7159, total_time=6.3364, LR=0.00010156\n"
     ]
    },
    {
     "name": "stderr",
     "output_type": "stream",
     "text": [
      "100%|██████████| 17/17 [00:05<00:00,  3.11it/s]\n",
      "100%|██████████| 5/5 [00:00<00:00,  6.07it/s]\n"
     ]
    },
    {
     "name": "stdout",
     "output_type": "stream",
     "text": [
      "epoch=231, train_acc_top1=0.7595, train_acc_top5=0.9963, train_loss=0.5650, test_top1=0.6856, test_top5=0.9886, test_loss=0.7132, max_test_acc=0.7159, total_time=6.2975, LR=0.00009766\n"
     ]
    },
    {
     "name": "stderr",
     "output_type": "stream",
     "text": [
      "100%|██████████| 17/17 [00:05<00:00,  3.14it/s]\n",
      "100%|██████████| 5/5 [00:00<00:00,  6.15it/s]\n"
     ]
    },
    {
     "name": "stdout",
     "output_type": "stream",
     "text": [
      "epoch=232, train_acc_top1=0.7725, train_acc_top5=0.9963, train_loss=0.5754, test_top1=0.6970, test_top5=0.9962, test_loss=0.7380, max_test_acc=0.7159, total_time=6.2317, LR=0.00009375\n"
     ]
    },
    {
     "name": "stderr",
     "output_type": "stream",
     "text": [
      "100%|██████████| 17/17 [00:05<00:00,  3.15it/s]\n",
      "100%|██████████| 5/5 [00:00<00:00,  6.02it/s]\n"
     ]
    },
    {
     "name": "stdout",
     "output_type": "stream",
     "text": [
      "epoch=233, train_acc_top1=0.6982, train_acc_top5=0.9898, train_loss=0.6950, test_top1=0.5795, test_top5=0.9848, test_loss=1.0006, max_test_acc=0.7159, total_time=6.2340, LR=0.00008984\n"
     ]
    },
    {
     "name": "stderr",
     "output_type": "stream",
     "text": [
      "100%|██████████| 17/17 [00:05<00:00,  3.14it/s]\n",
      "100%|██████████| 5/5 [00:00<00:00,  6.13it/s]\n"
     ]
    },
    {
     "name": "stdout",
     "output_type": "stream",
     "text": [
      "epoch=234, train_acc_top1=0.7447, train_acc_top5=0.9972, train_loss=0.5745, test_top1=0.7045, test_top5=0.9924, test_loss=0.6656, max_test_acc=0.7159, total_time=6.2413, LR=0.00008594\n"
     ]
    },
    {
     "name": "stderr",
     "output_type": "stream",
     "text": [
      "100%|██████████| 17/17 [00:05<00:00,  2.90it/s]\n",
      "100%|██████████| 5/5 [00:00<00:00,  6.15it/s]\n"
     ]
    },
    {
     "name": "stdout",
     "output_type": "stream",
     "text": [
      "epoch=235, train_acc_top1=0.7131, train_acc_top5=0.9833, train_loss=0.7355, test_top1=0.5189, test_top5=0.9659, test_loss=1.1665, max_test_acc=0.7159, total_time=6.6907, LR=0.00008203\n"
     ]
    },
    {
     "name": "stderr",
     "output_type": "stream",
     "text": [
      "100%|██████████| 17/17 [00:05<00:00,  3.14it/s]\n",
      "100%|██████████| 5/5 [00:00<00:00,  6.08it/s]\n"
     ]
    },
    {
     "name": "stdout",
     "output_type": "stream",
     "text": [
      "epoch=236, train_acc_top1=0.6416, train_acc_top5=0.9824, train_loss=1.0004, test_top1=0.6932, test_top5=0.9962, test_loss=0.7713, max_test_acc=0.7159, total_time=6.2415, LR=0.00007813\n"
     ]
    },
    {
     "name": "stderr",
     "output_type": "stream",
     "text": [
      "100%|██████████| 17/17 [00:05<00:00,  3.14it/s]\n",
      "100%|██████████| 5/5 [00:00<00:00,  6.16it/s]\n"
     ]
    },
    {
     "name": "stdout",
     "output_type": "stream",
     "text": [
      "epoch=237, train_acc_top1=0.7019, train_acc_top5=0.9870, train_loss=0.6980, test_top1=0.7121, test_top5=0.9886, test_loss=0.7375, max_test_acc=0.7159, total_time=6.2319, LR=0.00007422\n"
     ]
    },
    {
     "name": "stderr",
     "output_type": "stream",
     "text": [
      "100%|██████████| 17/17 [00:05<00:00,  3.13it/s]\n",
      "100%|██████████| 5/5 [00:00<00:00,  6.06it/s]\n"
     ]
    },
    {
     "name": "stdout",
     "output_type": "stream",
     "text": [
      "epoch=238, train_acc_top1=0.7632, train_acc_top5=0.9981, train_loss=0.5370, test_top1=0.7235, test_top5=0.9962, test_loss=0.6183, max_test_acc=0.7235, total_time=6.5701, LR=0.00007031\n"
     ]
    },
    {
     "name": "stderr",
     "output_type": "stream",
     "text": [
      "100%|██████████| 17/17 [00:05<00:00,  3.09it/s]\n",
      "100%|██████████| 5/5 [00:01<00:00,  4.40it/s]\n"
     ]
    },
    {
     "name": "stdout",
     "output_type": "stream",
     "text": [
      "epoch=239, train_acc_top1=0.8059, train_acc_top5=1.0000, train_loss=0.4607, test_top1=0.7500, test_top5=0.9886, test_loss=0.6651, max_test_acc=0.7500, total_time=7.2132, LR=0.00006641\n"
     ]
    },
    {
     "name": "stderr",
     "output_type": "stream",
     "text": [
      "100%|██████████| 17/17 [00:06<00:00,  2.55it/s]\n",
      "100%|██████████| 5/5 [00:00<00:00,  5.89it/s]\n"
     ]
    },
    {
     "name": "stdout",
     "output_type": "stream",
     "text": [
      "epoch=240, train_acc_top1=0.7902, train_acc_top5=0.9991, train_loss=0.4933, test_top1=0.7348, test_top5=0.9924, test_loss=0.6849, max_test_acc=0.7500, total_time=7.5209, LR=0.00006250\n"
     ]
    },
    {
     "name": "stderr",
     "output_type": "stream",
     "text": [
      "100%|██████████| 17/17 [00:06<00:00,  2.64it/s]\n",
      "100%|██████████| 5/5 [00:01<00:00,  3.52it/s]\n"
     ]
    },
    {
     "name": "stdout",
     "output_type": "stream",
     "text": [
      "epoch=241, train_acc_top1=0.7855, train_acc_top5=0.9981, train_loss=0.4794, test_top1=0.7235, test_top5=0.9886, test_loss=0.7676, max_test_acc=0.7500, total_time=7.8863, LR=0.00005859\n"
     ]
    },
    {
     "name": "stderr",
     "output_type": "stream",
     "text": [
      "100%|██████████| 17/17 [00:06<00:00,  2.48it/s]\n",
      "100%|██████████| 5/5 [00:01<00:00,  4.83it/s]\n"
     ]
    },
    {
     "name": "stdout",
     "output_type": "stream",
     "text": [
      "epoch=242, train_acc_top1=0.8143, train_acc_top5=1.0000, train_loss=0.4820, test_top1=0.7273, test_top5=0.9962, test_loss=0.6415, max_test_acc=0.7500, total_time=7.9189, LR=0.00005469\n"
     ]
    },
    {
     "name": "stderr",
     "output_type": "stream",
     "text": [
      "100%|██████████| 17/17 [00:06<00:00,  2.83it/s]\n",
      "100%|██████████| 5/5 [00:01<00:00,  3.47it/s]\n"
     ]
    },
    {
     "name": "stdout",
     "output_type": "stream",
     "text": [
      "epoch=243, train_acc_top1=0.8097, train_acc_top5=0.9991, train_loss=0.4650, test_top1=0.7311, test_top5=0.9886, test_loss=0.6902, max_test_acc=0.7500, total_time=7.4740, LR=0.00005078\n"
     ]
    },
    {
     "name": "stderr",
     "output_type": "stream",
     "text": [
      "100%|██████████| 17/17 [00:05<00:00,  3.00it/s]\n",
      "100%|██████████| 5/5 [00:01<00:00,  3.76it/s]\n"
     ]
    },
    {
     "name": "stdout",
     "output_type": "stream",
     "text": [
      "epoch=244, train_acc_top1=0.8319, train_acc_top5=1.0000, train_loss=0.4285, test_top1=0.7538, test_top5=0.9924, test_loss=0.6033, max_test_acc=0.7538, total_time=7.5819, LR=0.00004688\n"
     ]
    },
    {
     "name": "stderr",
     "output_type": "stream",
     "text": [
      "100%|██████████| 17/17 [00:06<00:00,  2.46it/s]\n",
      "100%|██████████| 5/5 [00:01<00:00,  3.74it/s]\n"
     ]
    },
    {
     "name": "stdout",
     "output_type": "stream",
     "text": [
      "epoch=245, train_acc_top1=0.8449, train_acc_top5=0.9991, train_loss=0.4051, test_top1=0.7614, test_top5=0.9924, test_loss=0.6065, max_test_acc=0.7614, total_time=8.6805, LR=0.00004297\n"
     ]
    },
    {
     "name": "stderr",
     "output_type": "stream",
     "text": [
      "100%|██████████| 17/17 [00:06<00:00,  2.53it/s]\n",
      "100%|██████████| 5/5 [00:01<00:00,  3.35it/s]\n"
     ]
    },
    {
     "name": "stdout",
     "output_type": "stream",
     "text": [
      "epoch=246, train_acc_top1=0.8468, train_acc_top5=0.9981, train_loss=0.3879, test_top1=0.7576, test_top5=0.9924, test_loss=0.5955, max_test_acc=0.7614, total_time=8.2368, LR=0.00003906\n"
     ]
    },
    {
     "name": "stderr",
     "output_type": "stream",
     "text": [
      "100%|██████████| 17/17 [00:07<00:00,  2.41it/s]\n",
      "100%|██████████| 5/5 [00:01<00:00,  3.42it/s]\n"
     ]
    },
    {
     "name": "stdout",
     "output_type": "stream",
     "text": [
      "epoch=247, train_acc_top1=0.8468, train_acc_top5=0.9991, train_loss=0.3834, test_top1=0.7614, test_top5=0.9924, test_loss=0.6011, max_test_acc=0.7614, total_time=9.0963, LR=0.00003516\n"
     ]
    },
    {
     "name": "stderr",
     "output_type": "stream",
     "text": [
      "100%|██████████| 17/17 [00:06<00:00,  2.61it/s]\n",
      "100%|██████████| 5/5 [00:01<00:00,  3.32it/s]\n"
     ]
    },
    {
     "name": "stdout",
     "output_type": "stream",
     "text": [
      "epoch=248, train_acc_top1=0.8514, train_acc_top5=0.9991, train_loss=0.3736, test_top1=0.7841, test_top5=0.9924, test_loss=0.5808, max_test_acc=0.7841, total_time=8.6350, LR=0.00003125\n"
     ]
    },
    {
     "name": "stderr",
     "output_type": "stream",
     "text": [
      "100%|██████████| 17/17 [00:07<00:00,  2.40it/s]\n",
      "100%|██████████| 5/5 [00:01<00:00,  3.22it/s]\n"
     ]
    },
    {
     "name": "stdout",
     "output_type": "stream",
     "text": [
      "epoch=249, train_acc_top1=0.8589, train_acc_top5=0.9991, train_loss=0.3674, test_top1=0.7841, test_top5=0.9924, test_loss=0.6111, max_test_acc=0.7841, total_time=9.6676, LR=0.00002734\n"
     ]
    },
    {
     "name": "stderr",
     "output_type": "stream",
     "text": [
      "100%|██████████| 17/17 [00:06<00:00,  2.52it/s]\n",
      "100%|██████████| 5/5 [00:01<00:00,  4.22it/s]\n"
     ]
    },
    {
     "name": "stdout",
     "output_type": "stream",
     "text": [
      "epoch=250, train_acc_top1=0.8579, train_acc_top5=1.0000, train_loss=0.3599, test_top1=0.7576, test_top5=0.9924, test_loss=0.5796, max_test_acc=0.7841, total_time=7.9474, LR=0.00002344\n"
     ]
    },
    {
     "name": "stderr",
     "output_type": "stream",
     "text": [
      "100%|██████████| 17/17 [00:06<00:00,  2.81it/s]\n",
      "100%|██████████| 5/5 [00:00<00:00,  5.44it/s]\n"
     ]
    },
    {
     "name": "stdout",
     "output_type": "stream",
     "text": [
      "epoch=251, train_acc_top1=0.8607, train_acc_top5=0.9991, train_loss=0.3527, test_top1=0.7500, test_top5=0.9924, test_loss=0.6323, max_test_acc=0.7841, total_time=6.9811, LR=0.00001953\n"
     ]
    },
    {
     "name": "stderr",
     "output_type": "stream",
     "text": [
      "100%|██████████| 17/17 [00:05<00:00,  3.10it/s]\n",
      "100%|██████████| 5/5 [00:00<00:00,  5.72it/s]\n"
     ]
    },
    {
     "name": "stdout",
     "output_type": "stream",
     "text": [
      "epoch=252, train_acc_top1=0.8431, train_acc_top5=0.9991, train_loss=0.4087, test_top1=0.7803, test_top5=0.9924, test_loss=0.5796, max_test_acc=0.7841, total_time=6.3655, LR=0.00001563\n"
     ]
    },
    {
     "name": "stderr",
     "output_type": "stream",
     "text": [
      "100%|██████████| 17/17 [00:05<00:00,  3.09it/s]\n",
      "100%|██████████| 5/5 [00:00<00:00,  6.24it/s]\n"
     ]
    },
    {
     "name": "stdout",
     "output_type": "stream",
     "text": [
      "epoch=253, train_acc_top1=0.8719, train_acc_top5=1.0000, train_loss=0.3580, test_top1=0.7765, test_top5=0.9962, test_loss=0.5618, max_test_acc=0.7841, total_time=6.3126, LR=0.00001172\n"
     ]
    },
    {
     "name": "stderr",
     "output_type": "stream",
     "text": [
      "100%|██████████| 17/17 [00:05<00:00,  3.13it/s]\n",
      "100%|██████████| 5/5 [00:00<00:00,  6.19it/s]\n"
     ]
    },
    {
     "name": "stdout",
     "output_type": "stream",
     "text": [
      "epoch=254, train_acc_top1=0.8849, train_acc_top5=0.9991, train_loss=0.3402, test_top1=0.7727, test_top5=0.9924, test_loss=0.5776, max_test_acc=0.7841, total_time=6.2532, LR=0.00000781\n"
     ]
    },
    {
     "name": "stderr",
     "output_type": "stream",
     "text": [
      "100%|██████████| 17/17 [00:05<00:00,  3.11it/s]\n",
      "100%|██████████| 5/5 [00:00<00:00,  6.12it/s]\n"
     ]
    },
    {
     "name": "stdout",
     "output_type": "stream",
     "text": [
      "epoch=255, train_acc_top1=0.8747, train_acc_top5=1.0000, train_loss=0.3394, test_top1=0.7765, test_top5=0.9924, test_loss=0.5682, max_test_acc=0.7841, total_time=6.2995, LR=0.00000391\n"
     ]
    }
   ],
   "source": [
    "for epoch in range(Begin_epoch, Max_epoch):\n",
    "\n",
    "    start_time = time.time()\n",
    "    train_loss, train_acc_top1, train_acc_topk, test_loss, test_acc_top1, test_acc_topk, max_test_acc = train_model(net, max_test_acc, epoch)\n",
    "    \n",
    "    for param_group in optimizer.param_groups:\n",
    "        lr = param_group['lr']\n",
    "        \n",
    "    lr_scheduler.step()\n",
    "\n",
    "    print(f'''epoch={epoch}, train_acc_top1={train_acc_top1:.4f}, train_acc_top{Top_k}={train_acc_topk:.4f}, train_loss={train_loss:.4f}, test_top1={test_acc_top1:.4f}, test_top{Top_k}={test_acc_topk:.4f}, test_loss={test_loss:.4f}, max_test_acc={max_test_acc:.4f}, total_time={(time.time() - start_time):.4f}, LR={lr:.8f}''')\n",
    "    \n",
    "    torch.save(net.state_dict(), Savemodel_path + f'epoch{epoch}{Name_suffix}.h5')\n",
    "    if os.path.exists(Savemodel_path + f'epoch{epoch-1}{Name_suffix}.h5'):\n",
    "        os.remove(Savemodel_path + f'epoch{epoch-1}{Name_suffix}.h5')"
   ]
  },
  {
   "cell_type": "code",
   "execution_count": 19,
   "id": "1014b20b",
   "metadata": {},
   "outputs": [
    {
     "name": "stdout",
     "output_type": "stream",
     "text": [
      "Fichier chargé: ./recorddata_DVS/Test_0_255_step2_nbEvents_presEvents.mat\n"
     ]
    },
    {
     "data": {
      "image/png": "[encoded data removed]",
      "text/plain": [
       "<Figure size 1500x1000 with 2 Axes>"
      ]
     },
     "metadata": {},
     "output_type": "display_data"
    },
    {
     "name": "stdout",
     "output_type": "stream",
     "text": [
      "Meilleure précision: 0.7841 à l'époque 249.0\n"
     ]
    }
   ],
   "source": [
    "import numpy as np\n",
    "import matplotlib.pyplot as plt\n",
    "from scipy.io import loadmat\n",
    "import os\n",
    "import glob\n",
    "\n",
    "def plot_learning_curves(record_path, name_suffix, top_k=5):\n",
    "    \"\"\"\n",
    "    Visualise les courbes d'apprentissage à partir des fichiers .mat générés\n",
    "    \"\"\"\n",
    "    # Recherche du fichier le plus récent\n",
    "    pattern = os.path.join(record_path, f'Test_*{name_suffix}.mat')\n",
    "    files = glob.glob(pattern)\n",
    "    \n",
    "    if not files:\n",
    "        print(f\"Aucun fichier trouvé avec le pattern: {pattern}\")\n",
    "        return\n",
    "    \n",
    "    # Charger le fichier le plus récent\n",
    "    latest_file = max(files, key=os.path.getctime)\n",
    "    print(f\"Fichier chargé: {latest_file}\")\n",
    "    \n",
    "    data = loadmat(latest_file)\n",
    "    record_data = data['Record_data']\n",
    "    \n",
    "    # Extraire les données\n",
    "    epochs = record_data[:, 0]\n",
    "    test_top1 = record_data[:, 2]\n",
    "    test_topk = record_data[:, 3]\n",
    "    test_loss = record_data[:, 4]\n",
    "    \n",
    "    # Créer les graphiques\n",
    "    plt.figure(figsize=(15, 10))\n",
    "    \n",
    "    # Précision Top-1 et Top-k\n",
    "    plt.subplot(2, 1, 1)\n",
    "    plt.plot(epochs, test_top1, 'b-', label=f'Test Accuracy (Top-1)')\n",
    "    plt.plot(epochs, test_topk, 'r-', label=f'Test Accuracy (Top-{top_k})')\n",
    "    plt.title('Précision du modèle au cours des époques')\n",
    "    plt.xlabel('Époque')\n",
    "    plt.ylabel('Précision')\n",
    "    plt.grid(True)\n",
    "    plt.legend()\n",
    "    \n",
    "    # Perte de test\n",
    "    plt.subplot(2, 1, 2)\n",
    "    plt.plot(epochs, test_loss, 'g-', label='Test Loss')\n",
    "    plt.title('Perte de test au cours des époques')\n",
    "    plt.xlabel('Époque')\n",
    "    plt.ylabel('Perte')\n",
    "    plt.grid(True)\n",
    "    plt.legend()\n",
    "    \n",
    "    plt.tight_layout()\n",
    "    plt.savefig(os.path.join(record_path, f'learning_curves{name_suffix}.png'))\n",
    "    plt.show()\n",
    "    \n",
    "    return max(test_top1), epochs[np.argmax(test_top1)]\n",
    "\n",
    "def plot_train_test_comparison(history, top_k=5, save_path=None):\n",
    "    \"\"\"\n",
    "    Compare les métriques d'entraînement et de test\n",
    "    \"\"\"\n",
    "    epochs = history['epochs']\n",
    "    \n",
    "    plt.figure(figsize=(15, 15))\n",
    "    \n",
    "    # Précision Top-1\n",
    "    plt.subplot(3, 1, 1)\n",
    "    plt.plot(epochs, history['train_acc_top1'], 'b-', label='Train Accuracy (Top-1)')\n",
    "    plt.plot(epochs, history['test_acc_top1'], 'r-', label='Test Accuracy (Top-1)')\n",
    "    plt.title('Précision Top-1 (Train vs Test)')\n",
    "    plt.xlabel('Époque')\n",
    "    plt.ylabel('Précision')\n",
    "    plt.grid(True)\n",
    "    plt.legend()\n",
    "    \n",
    "    # Précision Top-k\n",
    "    plt.subplot(3, 1, 2)\n",
    "    plt.plot(epochs, history['train_acc_topk'], 'b-', label=f'Train Accuracy (Top-{top_k})')\n",
    "    plt.plot(epochs, history['test_acc_topk'], 'r-', label=f'Test Accuracy (Top-{top_k})')\n",
    "    plt.title(f'Précision Top-{top_k} (Train vs Test)')\n",
    "    plt.xlabel('Époque')\n",
    "    plt.ylabel('Précision')\n",
    "    plt.grid(True)\n",
    "    plt.legend()\n",
    "    \n",
    "    # Perte\n",
    "    plt.subplot(3, 1, 3)\n",
    "    plt.plot(epochs, history['train_losses'], 'b-', label='Train Loss')\n",
    "    plt.plot(epochs, history['test_losses'], 'r-', label='Test Loss')\n",
    "    plt.title('Perte (Train vs Test)')\n",
    "    plt.xlabel('Époque')\n",
    "    plt.ylabel('Perte')\n",
    "    plt.grid(True)\n",
    "    plt.legend()\n",
    "    \n",
    "    plt.tight_layout()\n",
    "    \n",
    "    if save_path:\n",
    "        plt.savefig(save_path)\n",
    "    \n",
    "    plt.show()\n",
    "\n",
    "def plot_learning_rate(history, save_path=None):\n",
    "    \"\"\"\n",
    "    Visualise l'évolution du taux d'apprentissage\n",
    "    \"\"\"\n",
    "    plt.figure(figsize=(10, 6))\n",
    "    plt.plot(history['epochs'], history['learning_rates'], 'b-')\n",
    "    plt.title(\"Évolution du taux d'apprentissag\")\n",
    "    plt.xlabel('Époque')\n",
    "    plt.ylabel(\"Taux d'apprentissage\")\n",
    "    plt.grid(True)\n",
    "    \n",
    "    if save_path:\n",
    "        plt.savefig(save_path)\n",
    "    \n",
    "    plt.show()\n",
    "\n",
    "BEGIN_EPOCH = 0\n",
    "MAX_EPOCH = 50\n",
    "TOP_K = 5\n",
    "max_acc, best_epoch = plot_learning_curves(Record_path, Name_suffix, TOP_K)\n",
    "print(f\"Meilleure précision: {max_acc:.4f} à l'époque {best_epoch}\")"
   ]
  },
  {
   "cell_type": "code",
   "execution_count": null,
   "id": "00eca72f",
   "metadata": {},
   "outputs": [],
   "source": []
  }
 ],
 "metadata": {
  "kernelspec": {
   "display_name": "myenv",
   "language": "python",
   "name": "python3"
  },
  "language_info": {
   "codemirror_mode": {
    "name": "ipython",
    "version": 3
   },
   "file_extension": ".py",
   "mimetype": "text/x-python",
   "name": "python",
   "nbconvert_exporter": "python",
   "pygments_lexer": "ipython3",
   "version": "3.10.12"
  }
 },
 "nbformat": 4,
 "nbformat_minor": 5
}
