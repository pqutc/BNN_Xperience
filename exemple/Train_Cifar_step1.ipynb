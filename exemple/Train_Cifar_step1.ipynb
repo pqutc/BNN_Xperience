{
 "cells": [
  {
   "cell_type": "code",
   "execution_count": 1,
   "id": "29297ee1",
   "metadata": {},
   "outputs": [],
   "source": [
    "import os\n",
    "import torch\n",
    "import time\n",
    "import numpy as np\n",
    "import torch.nn as nn\n",
    "from tqdm import tqdm\n",
    "from torch.cuda import amp\n",
    "from scipy.io import savemat\n",
    "import torch.nn.functional as F\n",
    "from torchvision import datasets, transforms\n",
    "\n",
    "from Network.ReActNet_18_Qa import *\n",
    "from Network.ReActNet_A_Qa import *\n",
    "from Network.utils import *\n",
    "\n",
    "os.environ[\"CUDA_VISIBLE_DEVICES\"] = '0'"
   ]
  },
  {
   "cell_type": "code",
   "execution_count": 2,
   "id": "db7ba8c0",
   "metadata": {},
   "outputs": [],
   "source": [
    "Begin_epoch = 0\n",
    "Max_epoch = 128\n",
    "Learning_rate = 1e-3\n",
    "Weight_decay = 5e-6\n",
    "Momentum = 0.9\n",
    "Top_k = 5\n",
    "AMP = False\n",
    "\n",
    "Dataset_path = 'tests/data/CIFAR10/'\n",
    "Batch_size = 256\n",
    "Workers = 8\n",
    "Targetnum = 10\n",
    "\n",
    "Test_every_iteration = None\n",
    "Name_suffix = '_step1'\n",
    "Savemodel_path = './savemodels/'\n",
    "Record_path = './recorddata/'\n",
    "if not os.path.exists(Savemodel_path):\n",
    "    os.mkdir(Savemodel_path)\n",
    "if not os.path.exists(Record_path):\n",
    "    os.mkdir(Record_path)"
   ]
  },
  {
   "cell_type": "code",
   "execution_count": 3,
   "id": "8a24b995",
   "metadata": {},
   "outputs": [],
   "source": [
    "_seed_ = 2023\n",
    "torch.manual_seed(_seed_)\n",
    "np.random.seed(_seed_)\n",
    "torch.backends.cudnn.benchmark = False\n",
    "torch.backends.cudnn.deterministic = True"
   ]
  },
  {
   "cell_type": "code",
   "execution_count": 4,
   "id": "11d1faff",
   "metadata": {},
   "outputs": [],
   "source": [
    "transform_train = transforms.Compose([\n",
    "    transforms.Pad(4, padding_mode='reflect'),\n",
    "    transforms.RandomHorizontalFlip(),\n",
    "    transforms.RandomCrop(32),\n",
    "    transforms.ToTensor(),\n",
    "    transforms.Normalize((0.485, 0.456, 0.406), (0.229, 0.224, 0.225))\n",
    "])\n",
    " \n",
    "transform_test = transforms.Compose([\n",
    "    transforms.ToTensor(),\n",
    "    transforms.Normalize((0.485, 0.456, 0.406), (0.229, 0.224, 0.225))\n",
    "])\n",
    "\n",
    "Train_data = datasets.CIFAR10(root=Dataset_path, train=True, download=True, transform=transform_train)\n",
    "Test_data = datasets.CIFAR10(root=Dataset_path, train=False, download=True, transform=transform_test)\n",
    "\n",
    "train_data_loader = torch.utils.data.DataLoader(\n",
    "    dataset=Train_data,\n",
    "    batch_size=Batch_size,\n",
    "    shuffle=True,\n",
    "    num_workers=Workers, \n",
    "    pin_memory=True,\n",
    "    drop_last=True\n",
    ")\n",
    "\n",
    "test_data_loader = torch.utils.data.DataLoader(\n",
    "    dataset=Test_data,\n",
    "    batch_size=Batch_size,\n",
    "    shuffle=False,\n",
    "    num_workers=Workers, \n",
    "    pin_memory=True,\n",
    "    drop_last=False\n",
    ")"
   ]
  },
  {
   "cell_type": "code",
   "execution_count": 5,
   "id": "92fb2064",
   "metadata": {},
   "outputs": [],
   "source": [
    "# net = ResNet18(num_classes=Targetnum, imagenet=False)\n",
    "net = Reactnet(num_classes=Targetnum, imagenet=False)"
   ]
  },
  {
   "cell_type": "code",
   "execution_count": 7,
   "id": "7af79190",
   "metadata": {
    "scrolled": true
   },
   "outputs": [],
   "source": [
    "#net = nn.DataParallel(net).cuda()\n",
    "net = net.cuda()\n",
    "max_test_acc = 0.\n",
    "if Begin_epoch!=0:\n",
    "    net.load_state_dict(torch.load(Savemodel_path + f'epoch{Begin_epoch-1}{Name_suffix}.h5'))\n",
    "    max_test_acc = np.load(Savemodel_path + f'max_acc{Name_suffix}.npy')\n",
    "    max_test_acc = max_test_acc.item()\n",
    "\n",
    "scaler = amp.GradScaler() if AMP else None\n",
    "Test_top1 = []\n",
    "Test_topk = []\n",
    "Test_lossall = []\n",
    "Epoch_list = []\n",
    "Iteration_list = []"
   ]
  },
  {
   "cell_type": "code",
   "execution_count": 8,
   "id": "c5ef575f",
   "metadata": {},
   "outputs": [],
   "source": [
    "all_parameters = net.parameters()\n",
    "weight_parameters = []\n",
    "for pname, p in net.named_parameters():\n",
    "    if (p.ndimension() == 4 or 'conv' in pname) and 'L_alpha' not in pname:\n",
    "        weight_parameters.append(p)\n",
    "weight_parameters_id = list(map(id, weight_parameters))\n",
    "other_parameters = list(filter(lambda p: id(p) not in weight_parameters_id, all_parameters))\n",
    "\n",
    "criterion_train = DistributionLoss()\n",
    "criterion_test = nn.CrossEntropyLoss()\n",
    "optimizer = torch.optim.Adam([\n",
    "    {'params' : other_parameters, 'weight_decay' : 0., 'initial_lr': Learning_rate},\n",
    "    {'params' : weight_parameters, 'weight_decay' : Weight_decay, 'initial_lr': Learning_rate}],\n",
    "    lr = Learning_rate)\n",
    "lr_scheduler = torch.optim.lr_scheduler.LambdaLR(optimizer, lambda step : (1.0-step/Max_epoch), last_epoch=Begin_epoch-1)"
   ]
  },
  {
   "cell_type": "code",
   "execution_count": 9,
   "id": "e1151c8b",
   "metadata": {},
   "outputs": [],
   "source": [
    "def test_model(net, max_test_acc, data_loader=test_data_loader, criterion=criterion_test, epoch=None, iteration=None, record=True):\n",
    "    net.eval()\n",
    "    test_samples = 0\n",
    "    test_loss = 0\n",
    "    test_acc_top1 = 0\n",
    "    test_acc_topk = 0\n",
    "    \n",
    "    with torch.no_grad():\n",
    "        for img, label in tqdm(data_loader):\n",
    "            img = img.cuda()\n",
    "            label = label.cuda()\n",
    "            label_onehot = F.one_hot(label, Targetnum).float()\n",
    "            \n",
    "            out_fr = net(img)\n",
    "            loss = criterion(out_fr, label)\n",
    "                \n",
    "            test_samples += label.numel()\n",
    "            test_loss += loss.item() * label.numel()\n",
    "\n",
    "            test_acc_top1 += (out_fr.argmax(1) == label).float().sum().item()\n",
    "            _, pred = out_fr.topk(Top_k, 1, True, True)\n",
    "            test_acc_topk += torch.eq(pred, label.view(-1,1)).float().sum().item()\n",
    "    \n",
    "    test_loss /= test_samples\n",
    "    test_acc_top1 /= test_samples\n",
    "    test_acc_topk /= test_samples\n",
    "\n",
    "    if test_acc_top1 >= max_test_acc:\n",
    "        max_test_acc = test_acc_top1\n",
    "        torch.save(net.state_dict(), Savemodel_path + f'max_acc{Name_suffix}.h5')\n",
    "        np.save(Savemodel_path + f'max_acc{Name_suffix}.npy', np.array(max_test_acc))\n",
    "\n",
    "    if record:\n",
    "        assert epoch is not None, \"epoch is None!\"\n",
    "        assert iteration is not None, \"iteration is None!\"\n",
    "        \n",
    "        Epoch_list.append(epoch+1)\n",
    "        Iteration_list.append(iteration+1)\n",
    "        Test_top1.append(test_acc_top1)\n",
    "        Test_topk.append(test_acc_topk)\n",
    "        Test_lossall.append(test_loss)\n",
    "\n",
    "        record_data = np.array([Epoch_list, Iteration_list, Test_top1, Test_topk, Test_lossall]).T\n",
    "        mdic = {f'Record_data':record_data, f'Record_meaning':['Epoch_list', 'Iteration_list', 'Test_top1', f'Test_top{Top_k}', 'Test_loss']}\n",
    "\n",
    "        savemat(Record_path + f'Test_{Begin_epoch}_{epoch}{Name_suffix}.mat',mdic)\n",
    "        if os.path.exists(Record_path + f'Test_{Begin_epoch}_{epoch-1}{Name_suffix}.mat'):\n",
    "            os.remove(Record_path + f'Test_{Begin_epoch}_{epoch-1}{Name_suffix}.mat')\n",
    "\n",
    "    return test_loss, test_acc_top1, test_acc_topk, max_test_acc"
   ]
  },
  {
   "cell_type": "code",
   "execution_count": 10,
   "id": "3f67ed58",
   "metadata": {},
   "outputs": [],
   "source": [
    "def train_model(net, max_test_acc, epoch, data_loader=train_data_loader, optimizer=optimizer, criterion=criterion_test, scaler=scaler, record=True):\n",
    "    train_samples = 0\n",
    "    train_loss = 0\n",
    "    train_acc_top1 = 0\n",
    "    train_acc_topk = 0\n",
    "    \n",
    "    for i, (img, label) in enumerate(tqdm(data_loader)):\n",
    "        net.train()\n",
    "        img = img.cuda()\n",
    "        label = label.cuda()\n",
    "        label_onehot = F.one_hot(label, Targetnum).float()\n",
    "        \n",
    "        if AMP:\n",
    "            with amp.autocast():\n",
    "                out_fr = net(img)\n",
    "                loss = criterion(out_fr, label)\n",
    "        else:\n",
    "            out_fr = net(img)\n",
    "            loss = criterion(out_fr, label)\n",
    "            \n",
    "        train_samples += label.numel()\n",
    "        train_loss += loss.item() * label.numel()\n",
    "\n",
    "        train_acc_top1 += (out_fr.argmax(1) == label).float().sum().item()\n",
    "        _, pred = out_fr.topk(Top_k, 1, True, True)\n",
    "        train_acc_topk += torch.eq(pred, label.view(-1,1)).float().sum().item()\n",
    "        \n",
    "        optimizer.zero_grad()\n",
    "        if AMP:\n",
    "            scaler.scale(loss).backward()\n",
    "            scaler.step(optimizer)\n",
    "            scaler.update()\n",
    "        else:\n",
    "            loss.backward()\n",
    "\n",
    "            parameters_list = []\n",
    "            for name, p in net.named_parameters():\n",
    "                if not 'fc' in name:\n",
    "                    parameters_list.append(p)\n",
    "            adaptive_clip_grad(parameters_list, clip_factor=0.001)\n",
    "            \n",
    "            optimizer.step()\n",
    "\n",
    "        if Test_every_iteration is not None:\n",
    "            if (i+1) % Test_every_iteration == 0:\n",
    "                test_loss, test_acc_top1, test_acc_topk, max_test_acc = test_model(net, max_test_acc, epoch=epoch, iteration=i, record=record)\n",
    "                print(f'Test_loss: {test_loss:.4f}, Test_acc_top1: {test_acc_top1:.4f}, Test_acc_top{Top_k}: {test_acc_topk:.4f}, Max_test_acc: {max_test_acc:.4f}')\n",
    "    \n",
    "    train_loss /= train_samples\n",
    "    train_acc_top1 /= train_samples\n",
    "    train_acc_topk /= train_samples\n",
    "\n",
    "    test_loss, test_acc_top1, test_acc_topk, max_test_acc = test_model(net, max_test_acc, epoch=epoch, iteration=i, record=record)\n",
    "        \n",
    "    return train_loss, train_acc_top1, train_acc_topk, test_loss, test_acc_top1, test_acc_topk, max_test_acc"
   ]
  },
  {
   "cell_type": "code",
   "execution_count": 11,
   "id": "46e8d52f",
   "metadata": {
    "scrolled": true
   },
   "outputs": [
    {
     "name": "stderr",
     "output_type": "stream",
     "text": [
      "100%|██████████| 195/195 [00:57<00:00,  3.41it/s]\n",
      "100%|██████████| 40/40 [00:03<00:00, 12.43it/s]\n"
     ]
    },
    {
     "name": "stdout",
     "output_type": "stream",
     "text": [
      "epoch=0, train_acc_top1=0.3456, train_acc_top5=0.8446, train_loss=1.8492, test_top1=0.4628, test_top5=0.9337, test_loss=1.4323, max_test_acc=0.4628, total_time=60.5336, LR=0.00100000\n"
     ]
    },
    {
     "name": "stderr",
     "output_type": "stream",
     "text": [
      "100%|██████████| 195/195 [00:56<00:00,  3.47it/s]\n",
      "100%|██████████| 40/40 [00:03<00:00, 12.42it/s]\n"
     ]
    },
    {
     "name": "stdout",
     "output_type": "stream",
     "text": [
      "epoch=1, train_acc_top1=0.5087, train_acc_top5=0.9362, train_loss=1.3508, test_top1=0.5602, test_top5=0.9540, test_loss=1.2087, max_test_acc=0.5602, total_time=59.5371, LR=0.00099219\n"
     ]
    },
    {
     "name": "stderr",
     "output_type": "stream",
     "text": [
      "100%|██████████| 195/195 [00:56<00:00,  3.44it/s]\n",
      "100%|██████████| 40/40 [00:03<00:00, 12.48it/s]\n"
     ]
    },
    {
     "name": "stdout",
     "output_type": "stream",
     "text": [
      "epoch=2, train_acc_top1=0.5708, train_acc_top5=0.9554, train_loss=1.1761, test_top1=0.6241, test_top5=0.9663, test_loss=1.0432, max_test_acc=0.6241, total_time=60.0299, LR=0.00098438\n"
     ]
    },
    {
     "name": "stderr",
     "output_type": "stream",
     "text": [
      "100%|██████████| 195/195 [00:56<00:00,  3.46it/s]\n",
      "100%|██████████| 40/40 [00:03<00:00, 12.51it/s]\n"
     ]
    },
    {
     "name": "stdout",
     "output_type": "stream",
     "text": [
      "epoch=3, train_acc_top1=0.6214, train_acc_top5=0.9640, train_loss=1.0528, test_top1=0.6594, test_top5=0.9737, test_loss=0.9576, max_test_acc=0.6594, total_time=59.7527, LR=0.00097656\n"
     ]
    },
    {
     "name": "stderr",
     "output_type": "stream",
     "text": [
      "100%|██████████| 195/195 [00:56<00:00,  3.48it/s]\n",
      "100%|██████████| 40/40 [00:03<00:00, 12.50it/s]\n"
     ]
    },
    {
     "name": "stdout",
     "output_type": "stream",
     "text": [
      "epoch=4, train_acc_top1=0.6476, train_acc_top5=0.9709, train_loss=0.9758, test_top1=0.6760, test_top5=0.9766, test_loss=0.9017, max_test_acc=0.6760, total_time=59.4462, LR=0.00096875\n"
     ]
    },
    {
     "name": "stderr",
     "output_type": "stream",
     "text": [
      "100%|██████████| 195/195 [00:56<00:00,  3.48it/s]\n",
      "100%|██████████| 40/40 [00:03<00:00, 12.47it/s]\n"
     ]
    },
    {
     "name": "stdout",
     "output_type": "stream",
     "text": [
      "epoch=5, train_acc_top1=0.6760, train_acc_top5=0.9755, train_loss=0.9012, test_top1=0.6997, test_top5=0.9779, test_loss=0.8506, max_test_acc=0.6997, total_time=59.4142, LR=0.00096094\n"
     ]
    },
    {
     "name": "stderr",
     "output_type": "stream",
     "text": [
      "100%|██████████| 195/195 [00:56<00:00,  3.47it/s]\n",
      "100%|██████████| 40/40 [00:03<00:00, 12.50it/s]\n"
     ]
    },
    {
     "name": "stdout",
     "output_type": "stream",
     "text": [
      "epoch=6, train_acc_top1=0.6912, train_acc_top5=0.9771, train_loss=0.8611, test_top1=0.7149, test_top5=0.9824, test_loss=0.7859, max_test_acc=0.7149, total_time=59.5211, LR=0.00095312\n"
     ]
    },
    {
     "name": "stderr",
     "output_type": "stream",
     "text": [
      "100%|██████████| 195/195 [00:56<00:00,  3.46it/s]\n",
      "100%|██████████| 40/40 [00:03<00:00, 12.31it/s]\n"
     ]
    },
    {
     "name": "stdout",
     "output_type": "stream",
     "text": [
      "epoch=7, train_acc_top1=0.7122, train_acc_top5=0.9815, train_loss=0.8055, test_top1=0.7087, test_top5=0.9803, test_loss=0.8152, max_test_acc=0.7149, total_time=59.6818, LR=0.00094531\n"
     ]
    },
    {
     "name": "stderr",
     "output_type": "stream",
     "text": [
      "100%|██████████| 195/195 [00:55<00:00,  3.53it/s]\n",
      "100%|██████████| 40/40 [00:03<00:00, 12.92it/s]\n"
     ]
    },
    {
     "name": "stdout",
     "output_type": "stream",
     "text": [
      "epoch=8, train_acc_top1=0.7254, train_acc_top5=0.9830, train_loss=0.7702, test_top1=0.7404, test_top5=0.9840, test_loss=0.7407, max_test_acc=0.7404, total_time=58.4972, LR=0.00093750\n"
     ]
    },
    {
     "name": "stderr",
     "output_type": "stream",
     "text": [
      "100%|██████████| 195/195 [00:55<00:00,  3.50it/s]\n",
      "100%|██████████| 40/40 [00:03<00:00, 12.24it/s]\n"
     ]
    },
    {
     "name": "stdout",
     "output_type": "stream",
     "text": [
      "epoch=9, train_acc_top1=0.7364, train_acc_top5=0.9844, train_loss=0.7397, test_top1=0.7437, test_top5=0.9848, test_loss=0.7248, max_test_acc=0.7437, total_time=59.2216, LR=0.00092969\n"
     ]
    },
    {
     "name": "stderr",
     "output_type": "stream",
     "text": [
      "100%|██████████| 195/195 [00:55<00:00,  3.50it/s]\n",
      "100%|██████████| 40/40 [00:03<00:00, 12.30it/s]\n"
     ]
    },
    {
     "name": "stdout",
     "output_type": "stream",
     "text": [
      "epoch=10, train_acc_top1=0.7547, train_acc_top5=0.9870, train_loss=0.6935, test_top1=0.7579, test_top5=0.9889, test_loss=0.6817, max_test_acc=0.7579, total_time=59.1196, LR=0.00092188\n"
     ]
    },
    {
     "name": "stderr",
     "output_type": "stream",
     "text": [
      "100%|██████████| 195/195 [00:55<00:00,  3.53it/s]\n",
      "100%|██████████| 40/40 [00:03<00:00, 12.82it/s]\n"
     ]
    },
    {
     "name": "stdout",
     "output_type": "stream",
     "text": [
      "epoch=11, train_acc_top1=0.7629, train_acc_top5=0.9875, train_loss=0.6682, test_top1=0.7778, test_top5=0.9902, test_loss=0.6351, max_test_acc=0.7778, total_time=58.5884, LR=0.00091406\n"
     ]
    },
    {
     "name": "stderr",
     "output_type": "stream",
     "text": [
      "100%|██████████| 195/195 [00:54<00:00,  3.57it/s]\n",
      "100%|██████████| 40/40 [00:03<00:00, 13.10it/s]\n"
     ]
    },
    {
     "name": "stdout",
     "output_type": "stream",
     "text": [
      "epoch=12, train_acc_top1=0.7748, train_acc_top5=0.9886, train_loss=0.6326, test_top1=0.7789, test_top5=0.9886, test_loss=0.6374, max_test_acc=0.7789, total_time=57.8173, LR=0.00090625\n"
     ]
    },
    {
     "name": "stderr",
     "output_type": "stream",
     "text": [
      "100%|██████████| 195/195 [00:55<00:00,  3.50it/s]\n",
      "100%|██████████| 40/40 [00:03<00:00, 12.93it/s]\n"
     ]
    },
    {
     "name": "stdout",
     "output_type": "stream",
     "text": [
      "epoch=13, train_acc_top1=0.7826, train_acc_top5=0.9901, train_loss=0.6138, test_top1=0.7766, test_top5=0.9891, test_loss=0.6428, max_test_acc=0.7789, total_time=58.8325, LR=0.00089844\n"
     ]
    },
    {
     "name": "stderr",
     "output_type": "stream",
     "text": [
      "100%|██████████| 195/195 [00:56<00:00,  3.47it/s]\n",
      "100%|██████████| 40/40 [00:03<00:00, 12.37it/s]\n"
     ]
    },
    {
     "name": "stdout",
     "output_type": "stream",
     "text": [
      "epoch=14, train_acc_top1=0.7898, train_acc_top5=0.9906, train_loss=0.5901, test_top1=0.7910, test_top5=0.9897, test_loss=0.5987, max_test_acc=0.7910, total_time=59.5995, LR=0.00089063\n"
     ]
    },
    {
     "name": "stderr",
     "output_type": "stream",
     "text": [
      "100%|██████████| 195/195 [00:55<00:00,  3.52it/s]\n",
      "100%|██████████| 40/40 [00:03<00:00, 12.61it/s]\n"
     ]
    },
    {
     "name": "stdout",
     "output_type": "stream",
     "text": [
      "epoch=15, train_acc_top1=0.7953, train_acc_top5=0.9916, train_loss=0.5711, test_top1=0.7939, test_top5=0.9906, test_loss=0.5927, max_test_acc=0.7939, total_time=58.6737, LR=0.00088281\n"
     ]
    },
    {
     "name": "stderr",
     "output_type": "stream",
     "text": [
      "100%|██████████| 195/195 [00:57<00:00,  3.39it/s]\n",
      "100%|██████████| 40/40 [00:03<00:00, 12.18it/s]\n"
     ]
    },
    {
     "name": "stdout",
     "output_type": "stream",
     "text": [
      "epoch=16, train_acc_top1=0.8079, train_acc_top5=0.9926, train_loss=0.5425, test_top1=0.8021, test_top5=0.9925, test_loss=0.5646, max_test_acc=0.8021, total_time=61.0740, LR=0.00087500\n"
     ]
    },
    {
     "name": "stderr",
     "output_type": "stream",
     "text": [
      "100%|██████████| 195/195 [00:56<00:00,  3.44it/s]\n",
      "100%|██████████| 40/40 [00:03<00:00, 12.43it/s]\n"
     ]
    },
    {
     "name": "stdout",
     "output_type": "stream",
     "text": [
      "epoch=17, train_acc_top1=0.8129, train_acc_top5=0.9928, train_loss=0.5289, test_top1=0.8133, test_top5=0.9922, test_loss=0.5454, max_test_acc=0.8133, total_time=60.1034, LR=0.00086719\n"
     ]
    },
    {
     "name": "stderr",
     "output_type": "stream",
     "text": [
      "100%|██████████| 195/195 [00:55<00:00,  3.49it/s]\n",
      "100%|██████████| 40/40 [00:03<00:00, 12.55it/s]\n"
     ]
    },
    {
     "name": "stdout",
     "output_type": "stream",
     "text": [
      "epoch=18, train_acc_top1=0.8178, train_acc_top5=0.9931, train_loss=0.5119, test_top1=0.8031, test_top5=0.9916, test_loss=0.5643, max_test_acc=0.8133, total_time=59.0942, LR=0.00085938\n"
     ]
    },
    {
     "name": "stderr",
     "output_type": "stream",
     "text": [
      "100%|██████████| 195/195 [00:56<00:00,  3.47it/s]\n",
      "100%|██████████| 40/40 [00:03<00:00, 12.27it/s]\n"
     ]
    },
    {
     "name": "stdout",
     "output_type": "stream",
     "text": [
      "epoch=19, train_acc_top1=0.8235, train_acc_top5=0.9933, train_loss=0.4979, test_top1=0.8106, test_top5=0.9936, test_loss=0.5358, max_test_acc=0.8133, total_time=59.5009, LR=0.00085156\n"
     ]
    },
    {
     "name": "stderr",
     "output_type": "stream",
     "text": [
      "100%|██████████| 195/195 [00:56<00:00,  3.47it/s]\n",
      "100%|██████████| 40/40 [00:03<00:00, 12.28it/s]\n"
     ]
    },
    {
     "name": "stdout",
     "output_type": "stream",
     "text": [
      "epoch=20, train_acc_top1=0.8292, train_acc_top5=0.9945, train_loss=0.4787, test_top1=0.8081, test_top5=0.9915, test_loss=0.5629, max_test_acc=0.8133, total_time=59.5109, LR=0.00084375\n"
     ]
    },
    {
     "name": "stderr",
     "output_type": "stream",
     "text": [
      "100%|██████████| 195/195 [00:55<00:00,  3.53it/s]\n",
      "100%|██████████| 40/40 [00:03<00:00, 12.39it/s]\n"
     ]
    },
    {
     "name": "stdout",
     "output_type": "stream",
     "text": [
      "epoch=21, train_acc_top1=0.8332, train_acc_top5=0.9945, train_loss=0.4703, test_top1=0.8127, test_top5=0.9934, test_loss=0.5320, max_test_acc=0.8133, total_time=58.4453, LR=0.00083594\n"
     ]
    },
    {
     "name": "stderr",
     "output_type": "stream",
     "text": [
      "100%|██████████| 195/195 [00:56<00:00,  3.47it/s]\n",
      "100%|██████████| 40/40 [00:03<00:00, 12.49it/s]\n"
     ]
    },
    {
     "name": "stdout",
     "output_type": "stream",
     "text": [
      "epoch=22, train_acc_top1=0.8378, train_acc_top5=0.9953, train_loss=0.4551, test_top1=0.8215, test_top5=0.9911, test_loss=0.5126, max_test_acc=0.8215, total_time=59.5191, LR=0.00082812\n"
     ]
    },
    {
     "name": "stderr",
     "output_type": "stream",
     "text": [
      "100%|██████████| 195/195 [00:56<00:00,  3.45it/s]\n",
      "100%|██████████| 40/40 [00:03<00:00, 12.35it/s]\n"
     ]
    },
    {
     "name": "stdout",
     "output_type": "stream",
     "text": [
      "epoch=23, train_acc_top1=0.8420, train_acc_top5=0.9950, train_loss=0.4429, test_top1=0.8182, test_top5=0.9926, test_loss=0.5211, max_test_acc=0.8215, total_time=59.7513, LR=0.00082031\n"
     ]
    },
    {
     "name": "stderr",
     "output_type": "stream",
     "text": [
      "100%|██████████| 195/195 [00:55<00:00,  3.51it/s]\n",
      "100%|██████████| 40/40 [00:03<00:00, 12.71it/s]\n"
     ]
    },
    {
     "name": "stdout",
     "output_type": "stream",
     "text": [
      "epoch=24, train_acc_top1=0.8486, train_acc_top5=0.9954, train_loss=0.4311, test_top1=0.8193, test_top5=0.9930, test_loss=0.5103, max_test_acc=0.8215, total_time=58.7563, LR=0.00081250\n"
     ]
    },
    {
     "name": "stderr",
     "output_type": "stream",
     "text": [
      "100%|██████████| 195/195 [00:55<00:00,  3.52it/s]\n",
      "100%|██████████| 40/40 [00:03<00:00, 12.97it/s]\n"
     ]
    },
    {
     "name": "stdout",
     "output_type": "stream",
     "text": [
      "epoch=25, train_acc_top1=0.8512, train_acc_top5=0.9956, train_loss=0.4186, test_top1=0.8206, test_top5=0.9931, test_loss=0.5277, max_test_acc=0.8215, total_time=58.4916, LR=0.00080469\n"
     ]
    },
    {
     "name": "stderr",
     "output_type": "stream",
     "text": [
      "100%|██████████| 195/195 [00:56<00:00,  3.47it/s]\n",
      "100%|██████████| 40/40 [00:03<00:00, 12.92it/s]\n"
     ]
    },
    {
     "name": "stdout",
     "output_type": "stream",
     "text": [
      "epoch=26, train_acc_top1=0.8540, train_acc_top5=0.9960, train_loss=0.4124, test_top1=0.8311, test_top5=0.9945, test_loss=0.4875, max_test_acc=0.8311, total_time=59.5319, LR=0.00079688\n"
     ]
    },
    {
     "name": "stderr",
     "output_type": "stream",
     "text": [
      "100%|██████████| 195/195 [00:54<00:00,  3.58it/s]\n",
      "100%|██████████| 40/40 [00:03<00:00, 13.06it/s]\n"
     ]
    },
    {
     "name": "stdout",
     "output_type": "stream",
     "text": [
      "epoch=27, train_acc_top1=0.8599, train_acc_top5=0.9961, train_loss=0.3962, test_top1=0.8264, test_top5=0.9944, test_loss=0.4998, max_test_acc=0.8311, total_time=57.5013, LR=0.00078906\n"
     ]
    },
    {
     "name": "stderr",
     "output_type": "stream",
     "text": [
      "100%|██████████| 195/195 [00:54<00:00,  3.58it/s]\n",
      "100%|██████████| 40/40 [00:03<00:00, 13.10it/s]\n"
     ]
    },
    {
     "name": "stdout",
     "output_type": "stream",
     "text": [
      "epoch=28, train_acc_top1=0.8642, train_acc_top5=0.9965, train_loss=0.3834, test_top1=0.8304, test_top5=0.9939, test_loss=0.5020, max_test_acc=0.8311, total_time=57.4542, LR=0.00078125\n"
     ]
    },
    {
     "name": "stderr",
     "output_type": "stream",
     "text": [
      "100%|██████████| 195/195 [00:54<00:00,  3.56it/s]\n",
      "100%|██████████| 40/40 [00:03<00:00, 12.53it/s]\n"
     ]
    },
    {
     "name": "stdout",
     "output_type": "stream",
     "text": [
      "epoch=29, train_acc_top1=0.8657, train_acc_top5=0.9967, train_loss=0.3754, test_top1=0.8325, test_top5=0.9925, test_loss=0.5021, max_test_acc=0.8325, total_time=58.1657, LR=0.00077344\n"
     ]
    },
    {
     "name": "stderr",
     "output_type": "stream",
     "text": [
      "100%|██████████| 195/195 [00:54<00:00,  3.56it/s]\n",
      "100%|██████████| 40/40 [00:03<00:00, 11.61it/s]\n"
     ]
    },
    {
     "name": "stdout",
     "output_type": "stream",
     "text": [
      "epoch=30, train_acc_top1=0.8713, train_acc_top5=0.9972, train_loss=0.3630, test_top1=0.8372, test_top5=0.9930, test_loss=0.4804, max_test_acc=0.8372, total_time=58.4075, LR=0.00076563\n"
     ]
    },
    {
     "name": "stderr",
     "output_type": "stream",
     "text": [
      "100%|██████████| 195/195 [00:58<00:00,  3.34it/s]\n",
      "100%|██████████| 40/40 [00:03<00:00, 12.14it/s]\n"
     ]
    },
    {
     "name": "stdout",
     "output_type": "stream",
     "text": [
      "epoch=31, train_acc_top1=0.8693, train_acc_top5=0.9968, train_loss=0.3651, test_top1=0.8313, test_top5=0.9943, test_loss=0.5000, max_test_acc=0.8372, total_time=61.6027, LR=0.00075781\n"
     ]
    },
    {
     "name": "stderr",
     "output_type": "stream",
     "text": [
      "100%|██████████| 195/195 [00:55<00:00,  3.52it/s]\n",
      "100%|██████████| 40/40 [00:03<00:00, 12.52it/s]\n"
     ]
    },
    {
     "name": "stdout",
     "output_type": "stream",
     "text": [
      "epoch=32, train_acc_top1=0.8746, train_acc_top5=0.9972, train_loss=0.3525, test_top1=0.8387, test_top5=0.9938, test_loss=0.4768, max_test_acc=0.8387, total_time=58.7060, LR=0.00075000\n"
     ]
    },
    {
     "name": "stderr",
     "output_type": "stream",
     "text": [
      "100%|██████████| 195/195 [00:54<00:00,  3.57it/s]\n",
      "100%|██████████| 40/40 [00:03<00:00, 13.08it/s]\n"
     ]
    },
    {
     "name": "stdout",
     "output_type": "stream",
     "text": [
      "epoch=33, train_acc_top1=0.8805, train_acc_top5=0.9974, train_loss=0.3383, test_top1=0.8380, test_top5=0.9949, test_loss=0.4692, max_test_acc=0.8387, total_time=57.6801, LR=0.00074219\n"
     ]
    },
    {
     "name": "stderr",
     "output_type": "stream",
     "text": [
      "100%|██████████| 195/195 [00:55<00:00,  3.53it/s]\n",
      "100%|██████████| 40/40 [00:03<00:00, 12.96it/s]\n"
     ]
    },
    {
     "name": "stdout",
     "output_type": "stream",
     "text": [
      "epoch=34, train_acc_top1=0.8839, train_acc_top5=0.9978, train_loss=0.3288, test_top1=0.8338, test_top5=0.9936, test_loss=0.4978, max_test_acc=0.8387, total_time=58.3227, LR=0.00073438\n"
     ]
    },
    {
     "name": "stderr",
     "output_type": "stream",
     "text": [
      "100%|██████████| 195/195 [00:55<00:00,  3.54it/s]\n",
      "100%|██████████| 40/40 [00:03<00:00, 12.73it/s]\n"
     ]
    },
    {
     "name": "stdout",
     "output_type": "stream",
     "text": [
      "epoch=35, train_acc_top1=0.8839, train_acc_top5=0.9981, train_loss=0.3254, test_top1=0.8421, test_top5=0.9946, test_loss=0.4676, max_test_acc=0.8421, total_time=58.4118, LR=0.00072656\n"
     ]
    },
    {
     "name": "stderr",
     "output_type": "stream",
     "text": [
      "100%|██████████| 195/195 [00:55<00:00,  3.49it/s]\n",
      "100%|██████████| 40/40 [00:03<00:00, 12.93it/s]\n"
     ]
    },
    {
     "name": "stdout",
     "output_type": "stream",
     "text": [
      "epoch=36, train_acc_top1=0.8875, train_acc_top5=0.9979, train_loss=0.3160, test_top1=0.8451, test_top5=0.9936, test_loss=0.4700, max_test_acc=0.8451, total_time=59.1902, LR=0.00071875\n"
     ]
    },
    {
     "name": "stderr",
     "output_type": "stream",
     "text": [
      "100%|██████████| 195/195 [00:55<00:00,  3.50it/s]\n",
      "100%|██████████| 40/40 [00:03<00:00, 12.64it/s]\n"
     ]
    },
    {
     "name": "stdout",
     "output_type": "stream",
     "text": [
      "epoch=37, train_acc_top1=0.8894, train_acc_top5=0.9981, train_loss=0.3090, test_top1=0.8390, test_top5=0.9943, test_loss=0.4846, max_test_acc=0.8451, total_time=58.9087, LR=0.00071094\n"
     ]
    },
    {
     "name": "stderr",
     "output_type": "stream",
     "text": [
      "100%|██████████| 195/195 [00:54<00:00,  3.55it/s]\n",
      "100%|██████████| 40/40 [00:03<00:00, 12.93it/s]\n"
     ]
    },
    {
     "name": "stdout",
     "output_type": "stream",
     "text": [
      "epoch=38, train_acc_top1=0.8895, train_acc_top5=0.9981, train_loss=0.3074, test_top1=0.8500, test_top5=0.9933, test_loss=0.4556, max_test_acc=0.8500, total_time=58.1718, LR=0.00070312\n"
     ]
    },
    {
     "name": "stderr",
     "output_type": "stream",
     "text": [
      "100%|██████████| 195/195 [00:56<00:00,  3.45it/s]\n",
      "100%|██████████| 40/40 [00:03<00:00, 12.91it/s]\n"
     ]
    },
    {
     "name": "stdout",
     "output_type": "stream",
     "text": [
      "epoch=39, train_acc_top1=0.8915, train_acc_top5=0.9983, train_loss=0.3020, test_top1=0.8478, test_top5=0.9930, test_loss=0.4600, max_test_acc=0.8500, total_time=59.7021, LR=0.00069531\n"
     ]
    },
    {
     "name": "stderr",
     "output_type": "stream",
     "text": [
      "100%|██████████| 195/195 [00:55<00:00,  3.52it/s]\n",
      "100%|██████████| 40/40 [00:03<00:00, 13.04it/s]\n"
     ]
    },
    {
     "name": "stdout",
     "output_type": "stream",
     "text": [
      "epoch=40, train_acc_top1=0.8996, train_acc_top5=0.9981, train_loss=0.2862, test_top1=0.8471, test_top5=0.9943, test_loss=0.4784, max_test_acc=0.8500, total_time=58.4040, LR=0.00068750\n"
     ]
    },
    {
     "name": "stderr",
     "output_type": "stream",
     "text": [
      "100%|██████████| 195/195 [00:54<00:00,  3.55it/s]\n",
      "100%|██████████| 40/40 [00:03<00:00, 12.40it/s]\n"
     ]
    },
    {
     "name": "stdout",
     "output_type": "stream",
     "text": [
      "epoch=41, train_acc_top1=0.9012, train_acc_top5=0.9984, train_loss=0.2803, test_top1=0.8470, test_top5=0.9941, test_loss=0.4657, max_test_acc=0.8500, total_time=58.1540, LR=0.00067969\n"
     ]
    },
    {
     "name": "stderr",
     "output_type": "stream",
     "text": [
      "100%|██████████| 195/195 [00:54<00:00,  3.55it/s]\n",
      "100%|██████████| 40/40 [00:03<00:00, 12.63it/s]\n"
     ]
    },
    {
     "name": "stdout",
     "output_type": "stream",
     "text": [
      "epoch=42, train_acc_top1=0.9040, train_acc_top5=0.9985, train_loss=0.2720, test_top1=0.8500, test_top5=0.9938, test_loss=0.4582, max_test_acc=0.8500, total_time=58.3412, LR=0.00067188\n"
     ]
    },
    {
     "name": "stderr",
     "output_type": "stream",
     "text": [
      "100%|██████████| 195/195 [00:57<00:00,  3.42it/s]\n",
      "100%|██████████| 40/40 [00:03<00:00, 12.83it/s]\n"
     ]
    },
    {
     "name": "stdout",
     "output_type": "stream",
     "text": [
      "epoch=43, train_acc_top1=0.9060, train_acc_top5=0.9984, train_loss=0.2662, test_top1=0.8432, test_top5=0.9952, test_loss=0.4718, max_test_acc=0.8500, total_time=60.1734, LR=0.00066406\n"
     ]
    },
    {
     "name": "stderr",
     "output_type": "stream",
     "text": [
      "100%|██████████| 195/195 [00:54<00:00,  3.60it/s]\n",
      "100%|██████████| 40/40 [00:03<00:00, 13.04it/s]\n"
     ]
    },
    {
     "name": "stdout",
     "output_type": "stream",
     "text": [
      "epoch=44, train_acc_top1=0.9092, train_acc_top5=0.9988, train_loss=0.2584, test_top1=0.8487, test_top5=0.9953, test_loss=0.4724, max_test_acc=0.8500, total_time=57.2769, LR=0.00065625\n"
     ]
    },
    {
     "name": "stderr",
     "output_type": "stream",
     "text": [
      "100%|██████████| 195/195 [00:54<00:00,  3.59it/s]\n",
      "100%|██████████| 40/40 [00:03<00:00, 12.82it/s]\n"
     ]
    },
    {
     "name": "stdout",
     "output_type": "stream",
     "text": [
      "epoch=45, train_acc_top1=0.9110, train_acc_top5=0.9986, train_loss=0.2538, test_top1=0.8505, test_top5=0.9947, test_loss=0.4622, max_test_acc=0.8505, total_time=57.6874, LR=0.00064844\n"
     ]
    },
    {
     "name": "stderr",
     "output_type": "stream",
     "text": [
      "100%|██████████| 195/195 [00:55<00:00,  3.52it/s]\n",
      "100%|██████████| 40/40 [00:03<00:00, 12.63it/s]\n"
     ]
    },
    {
     "name": "stdout",
     "output_type": "stream",
     "text": [
      "epoch=46, train_acc_top1=0.9124, train_acc_top5=0.9990, train_loss=0.2442, test_top1=0.8542, test_top5=0.9949, test_loss=0.4506, max_test_acc=0.8542, total_time=58.7363, LR=0.00064063\n"
     ]
    },
    {
     "name": "stderr",
     "output_type": "stream",
     "text": [
      "100%|██████████| 195/195 [00:58<00:00,  3.35it/s]\n",
      "100%|██████████| 40/40 [00:03<00:00, 12.12it/s]\n"
     ]
    },
    {
     "name": "stdout",
     "output_type": "stream",
     "text": [
      "epoch=47, train_acc_top1=0.9122, train_acc_top5=0.9990, train_loss=0.2473, test_top1=0.8473, test_top5=0.9945, test_loss=0.4716, max_test_acc=0.8542, total_time=61.5515, LR=0.00063281\n"
     ]
    },
    {
     "name": "stderr",
     "output_type": "stream",
     "text": [
      "100%|██████████| 195/195 [00:57<00:00,  3.40it/s]\n",
      "100%|██████████| 40/40 [00:03<00:00, 11.88it/s]\n"
     ]
    },
    {
     "name": "stdout",
     "output_type": "stream",
     "text": [
      "epoch=48, train_acc_top1=0.9149, train_acc_top5=0.9991, train_loss=0.2380, test_top1=0.8510, test_top5=0.9941, test_loss=0.4693, max_test_acc=0.8542, total_time=60.7698, LR=0.00062500\n"
     ]
    },
    {
     "name": "stderr",
     "output_type": "stream",
     "text": [
      "100%|██████████| 195/195 [00:55<00:00,  3.54it/s]\n",
      "100%|██████████| 40/40 [00:03<00:00, 12.90it/s]\n"
     ]
    },
    {
     "name": "stdout",
     "output_type": "stream",
     "text": [
      "epoch=49, train_acc_top1=0.9167, train_acc_top5=0.9991, train_loss=0.2325, test_top1=0.8509, test_top5=0.9942, test_loss=0.4597, max_test_acc=0.8542, total_time=58.1992, LR=0.00061719\n"
     ]
    },
    {
     "name": "stderr",
     "output_type": "stream",
     "text": [
      "100%|██████████| 195/195 [00:55<00:00,  3.51it/s]\n",
      "100%|██████████| 40/40 [00:03<00:00, 12.87it/s]\n"
     ]
    },
    {
     "name": "stdout",
     "output_type": "stream",
     "text": [
      "epoch=50, train_acc_top1=0.9174, train_acc_top5=0.9993, train_loss=0.2283, test_top1=0.8524, test_top5=0.9942, test_loss=0.4763, max_test_acc=0.8542, total_time=58.6646, LR=0.00060937\n"
     ]
    },
    {
     "name": "stderr",
     "output_type": "stream",
     "text": [
      "100%|██████████| 195/195 [00:54<00:00,  3.56it/s]\n",
      "100%|██████████| 40/40 [00:03<00:00, 13.01it/s]\n"
     ]
    },
    {
     "name": "stdout",
     "output_type": "stream",
     "text": [
      "epoch=51, train_acc_top1=0.9205, train_acc_top5=0.9994, train_loss=0.2215, test_top1=0.8615, test_top5=0.9947, test_loss=0.4355, max_test_acc=0.8615, total_time=57.9571, LR=0.00060156\n"
     ]
    },
    {
     "name": "stderr",
     "output_type": "stream",
     "text": [
      "100%|██████████| 195/195 [00:54<00:00,  3.55it/s]\n",
      "100%|██████████| 40/40 [00:03<00:00, 12.32it/s]\n"
     ]
    },
    {
     "name": "stdout",
     "output_type": "stream",
     "text": [
      "epoch=52, train_acc_top1=0.9232, train_acc_top5=0.9993, train_loss=0.2150, test_top1=0.8567, test_top5=0.9944, test_loss=0.4573, max_test_acc=0.8615, total_time=58.2332, LR=0.00059375\n"
     ]
    },
    {
     "name": "stderr",
     "output_type": "stream",
     "text": [
      "100%|██████████| 195/195 [00:55<00:00,  3.49it/s]\n",
      "100%|██████████| 40/40 [00:03<00:00, 12.53it/s]\n"
     ]
    },
    {
     "name": "stdout",
     "output_type": "stream",
     "text": [
      "epoch=53, train_acc_top1=0.9259, train_acc_top5=0.9994, train_loss=0.2053, test_top1=0.8474, test_top5=0.9944, test_loss=0.4948, max_test_acc=0.8615, total_time=59.0605, LR=0.00058594\n"
     ]
    },
    {
     "name": "stderr",
     "output_type": "stream",
     "text": [
      "100%|██████████| 195/195 [00:56<00:00,  3.46it/s]\n",
      "100%|██████████| 40/40 [00:03<00:00, 12.51it/s]\n"
     ]
    },
    {
     "name": "stdout",
     "output_type": "stream",
     "text": [
      "epoch=54, train_acc_top1=0.9260, train_acc_top5=0.9995, train_loss=0.2060, test_top1=0.8569, test_top5=0.9936, test_loss=0.4512, max_test_acc=0.8615, total_time=59.5399, LR=0.00057812\n"
     ]
    },
    {
     "name": "stderr",
     "output_type": "stream",
     "text": [
      "100%|██████████| 195/195 [00:55<00:00,  3.51it/s]\n",
      "100%|██████████| 40/40 [00:03<00:00, 12.83it/s]\n"
     ]
    },
    {
     "name": "stdout",
     "output_type": "stream",
     "text": [
      "epoch=55, train_acc_top1=0.9276, train_acc_top5=0.9995, train_loss=0.1986, test_top1=0.8603, test_top5=0.9948, test_loss=0.4466, max_test_acc=0.8615, total_time=58.6911, LR=0.00057031\n"
     ]
    },
    {
     "name": "stderr",
     "output_type": "stream",
     "text": [
      "100%|██████████| 195/195 [00:54<00:00,  3.58it/s]\n",
      "100%|██████████| 40/40 [00:03<00:00, 12.84it/s]\n"
     ]
    },
    {
     "name": "stdout",
     "output_type": "stream",
     "text": [
      "epoch=56, train_acc_top1=0.9295, train_acc_top5=0.9995, train_loss=0.1978, test_top1=0.8584, test_top5=0.9944, test_loss=0.4494, max_test_acc=0.8615, total_time=57.5211, LR=0.00056250\n"
     ]
    },
    {
     "name": "stderr",
     "output_type": "stream",
     "text": [
      "100%|██████████| 195/195 [00:55<00:00,  3.53it/s]\n",
      "100%|██████████| 40/40 [00:03<00:00, 12.82it/s]\n"
     ]
    },
    {
     "name": "stdout",
     "output_type": "stream",
     "text": [
      "epoch=57, train_acc_top1=0.9298, train_acc_top5=0.9996, train_loss=0.1966, test_top1=0.8547, test_top5=0.9950, test_loss=0.4544, max_test_acc=0.8615, total_time=58.4034, LR=0.00055469\n"
     ]
    },
    {
     "name": "stderr",
     "output_type": "stream",
     "text": [
      "100%|██████████| 195/195 [00:54<00:00,  3.59it/s]\n",
      "100%|██████████| 40/40 [00:03<00:00, 12.87it/s]\n"
     ]
    },
    {
     "name": "stdout",
     "output_type": "stream",
     "text": [
      "epoch=58, train_acc_top1=0.9326, train_acc_top5=0.9996, train_loss=0.1863, test_top1=0.8576, test_top5=0.9938, test_loss=0.4567, max_test_acc=0.8615, total_time=57.4258, LR=0.00054688\n"
     ]
    },
    {
     "name": "stderr",
     "output_type": "stream",
     "text": [
      "100%|██████████| 195/195 [00:54<00:00,  3.59it/s]\n",
      "100%|██████████| 40/40 [00:03<00:00, 12.80it/s]\n"
     ]
    },
    {
     "name": "stdout",
     "output_type": "stream",
     "text": [
      "epoch=59, train_acc_top1=0.9348, train_acc_top5=0.9995, train_loss=0.1823, test_top1=0.8522, test_top5=0.9949, test_loss=0.4715, max_test_acc=0.8615, total_time=57.4898, LR=0.00053906\n"
     ]
    },
    {
     "name": "stderr",
     "output_type": "stream",
     "text": [
      "100%|██████████| 195/195 [00:54<00:00,  3.59it/s]\n",
      "100%|██████████| 40/40 [00:03<00:00, 12.89it/s]\n"
     ]
    },
    {
     "name": "stdout",
     "output_type": "stream",
     "text": [
      "epoch=60, train_acc_top1=0.9390, train_acc_top5=0.9997, train_loss=0.1745, test_top1=0.8598, test_top5=0.9940, test_loss=0.4738, max_test_acc=0.8615, total_time=57.3532, LR=0.00053125\n"
     ]
    },
    {
     "name": "stderr",
     "output_type": "stream",
     "text": [
      "100%|██████████| 195/195 [00:54<00:00,  3.58it/s]\n",
      "100%|██████████| 40/40 [00:03<00:00, 13.02it/s]\n"
     ]
    },
    {
     "name": "stdout",
     "output_type": "stream",
     "text": [
      "epoch=61, train_acc_top1=0.9370, train_acc_top5=0.9997, train_loss=0.1763, test_top1=0.8536, test_top5=0.9933, test_loss=0.4839, max_test_acc=0.8615, total_time=57.5500, LR=0.00052344\n"
     ]
    },
    {
     "name": "stderr",
     "output_type": "stream",
     "text": [
      "100%|██████████| 195/195 [00:54<00:00,  3.58it/s]\n",
      "100%|██████████| 40/40 [00:03<00:00, 12.93it/s]\n"
     ]
    },
    {
     "name": "stdout",
     "output_type": "stream",
     "text": [
      "epoch=62, train_acc_top1=0.9390, train_acc_top5=0.9996, train_loss=0.1711, test_top1=0.8635, test_top5=0.9946, test_loss=0.4531, max_test_acc=0.8635, total_time=57.7235, LR=0.00051563\n"
     ]
    },
    {
     "name": "stderr",
     "output_type": "stream",
     "text": [
      "100%|██████████| 195/195 [00:54<00:00,  3.58it/s]\n",
      "100%|██████████| 40/40 [00:03<00:00, 13.01it/s]\n"
     ]
    },
    {
     "name": "stdout",
     "output_type": "stream",
     "text": [
      "epoch=63, train_acc_top1=0.9409, train_acc_top5=0.9996, train_loss=0.1682, test_top1=0.8599, test_top5=0.9947, test_loss=0.4593, max_test_acc=0.8635, total_time=57.5721, LR=0.00050781\n"
     ]
    },
    {
     "name": "stderr",
     "output_type": "stream",
     "text": [
      "100%|██████████| 195/195 [00:54<00:00,  3.59it/s]\n",
      "100%|██████████| 40/40 [00:03<00:00, 12.98it/s]\n"
     ]
    },
    {
     "name": "stdout",
     "output_type": "stream",
     "text": [
      "epoch=64, train_acc_top1=0.9430, train_acc_top5=0.9997, train_loss=0.1626, test_top1=0.8585, test_top5=0.9936, test_loss=0.4721, max_test_acc=0.8635, total_time=57.4483, LR=0.00050000\n"
     ]
    },
    {
     "name": "stderr",
     "output_type": "stream",
     "text": [
      "100%|██████████| 195/195 [00:55<00:00,  3.51it/s]\n",
      "100%|██████████| 40/40 [00:03<00:00, 12.48it/s]\n"
     ]
    },
    {
     "name": "stdout",
     "output_type": "stream",
     "text": [
      "epoch=65, train_acc_top1=0.9432, train_acc_top5=0.9996, train_loss=0.1576, test_top1=0.8577, test_top5=0.9946, test_loss=0.4872, max_test_acc=0.8635, total_time=58.8005, LR=0.00049219\n"
     ]
    },
    {
     "name": "stderr",
     "output_type": "stream",
     "text": [
      "100%|██████████| 195/195 [00:54<00:00,  3.56it/s]\n",
      "100%|██████████| 40/40 [00:03<00:00, 12.90it/s]\n"
     ]
    },
    {
     "name": "stdout",
     "output_type": "stream",
     "text": [
      "epoch=66, train_acc_top1=0.9470, train_acc_top5=0.9998, train_loss=0.1501, test_top1=0.8587, test_top5=0.9954, test_loss=0.4839, max_test_acc=0.8635, total_time=57.9543, LR=0.00048437\n"
     ]
    },
    {
     "name": "stderr",
     "output_type": "stream",
     "text": [
      "100%|██████████| 195/195 [00:55<00:00,  3.50it/s]\n",
      "100%|██████████| 40/40 [00:03<00:00, 12.83it/s]\n"
     ]
    },
    {
     "name": "stdout",
     "output_type": "stream",
     "text": [
      "epoch=67, train_acc_top1=0.9467, train_acc_top5=0.9997, train_loss=0.1485, test_top1=0.8650, test_top5=0.9941, test_loss=0.4590, max_test_acc=0.8650, total_time=58.9480, LR=0.00047656\n"
     ]
    },
    {
     "name": "stderr",
     "output_type": "stream",
     "text": [
      "100%|██████████| 195/195 [00:55<00:00,  3.50it/s]\n",
      "100%|██████████| 40/40 [00:03<00:00, 12.38it/s]\n"
     ]
    },
    {
     "name": "stdout",
     "output_type": "stream",
     "text": [
      "epoch=68, train_acc_top1=0.9492, train_acc_top5=0.9998, train_loss=0.1442, test_top1=0.8604, test_top5=0.9956, test_loss=0.4684, max_test_acc=0.8650, total_time=58.8972, LR=0.00046875\n"
     ]
    },
    {
     "name": "stderr",
     "output_type": "stream",
     "text": [
      "100%|██████████| 195/195 [00:54<00:00,  3.57it/s]\n",
      "100%|██████████| 40/40 [00:03<00:00, 12.97it/s]\n"
     ]
    },
    {
     "name": "stdout",
     "output_type": "stream",
     "text": [
      "epoch=69, train_acc_top1=0.9514, train_acc_top5=0.9998, train_loss=0.1385, test_top1=0.8570, test_top5=0.9948, test_loss=0.4777, max_test_acc=0.8650, total_time=57.7532, LR=0.00046094\n"
     ]
    },
    {
     "name": "stderr",
     "output_type": "stream",
     "text": [
      "100%|██████████| 195/195 [00:54<00:00,  3.57it/s]\n",
      "100%|██████████| 40/40 [00:03<00:00, 12.88it/s]\n"
     ]
    },
    {
     "name": "stdout",
     "output_type": "stream",
     "text": [
      "epoch=70, train_acc_top1=0.9528, train_acc_top5=0.9998, train_loss=0.1362, test_top1=0.8654, test_top5=0.9937, test_loss=0.4752, max_test_acc=0.8654, total_time=57.8640, LR=0.00045313\n"
     ]
    },
    {
     "name": "stderr",
     "output_type": "stream",
     "text": [
      "100%|██████████| 195/195 [00:54<00:00,  3.57it/s]\n",
      "100%|██████████| 40/40 [00:03<00:00, 12.99it/s]\n"
     ]
    },
    {
     "name": "stdout",
     "output_type": "stream",
     "text": [
      "epoch=71, train_acc_top1=0.9534, train_acc_top5=0.9999, train_loss=0.1302, test_top1=0.8602, test_top5=0.9952, test_loss=0.4804, max_test_acc=0.8654, total_time=57.6777, LR=0.00044531\n"
     ]
    },
    {
     "name": "stderr",
     "output_type": "stream",
     "text": [
      "100%|██████████| 195/195 [00:54<00:00,  3.57it/s]\n",
      "100%|██████████| 40/40 [00:03<00:00, 12.93it/s]\n"
     ]
    },
    {
     "name": "stdout",
     "output_type": "stream",
     "text": [
      "epoch=72, train_acc_top1=0.9523, train_acc_top5=0.9999, train_loss=0.1344, test_top1=0.8643, test_top5=0.9947, test_loss=0.4608, max_test_acc=0.8654, total_time=57.7969, LR=0.00043750\n"
     ]
    },
    {
     "name": "stderr",
     "output_type": "stream",
     "text": [
      "100%|██████████| 195/195 [00:54<00:00,  3.61it/s]\n",
      "100%|██████████| 40/40 [00:03<00:00, 13.02it/s]\n"
     ]
    },
    {
     "name": "stdout",
     "output_type": "stream",
     "text": [
      "epoch=73, train_acc_top1=0.9558, train_acc_top5=0.9998, train_loss=0.1262, test_top1=0.8658, test_top5=0.9937, test_loss=0.4709, max_test_acc=0.8658, total_time=57.2627, LR=0.00042969\n"
     ]
    },
    {
     "name": "stderr",
     "output_type": "stream",
     "text": [
      "100%|██████████| 195/195 [00:54<00:00,  3.60it/s]\n",
      "100%|██████████| 40/40 [00:03<00:00, 13.02it/s]\n"
     ]
    },
    {
     "name": "stdout",
     "output_type": "stream",
     "text": [
      "epoch=74, train_acc_top1=0.9585, train_acc_top5=0.9999, train_loss=0.1202, test_top1=0.8646, test_top5=0.9940, test_loss=0.4786, max_test_acc=0.8658, total_time=57.2386, LR=0.00042187\n"
     ]
    },
    {
     "name": "stderr",
     "output_type": "stream",
     "text": [
      "100%|██████████| 195/195 [00:54<00:00,  3.59it/s]\n",
      "100%|██████████| 40/40 [00:03<00:00, 12.87it/s]\n"
     ]
    },
    {
     "name": "stdout",
     "output_type": "stream",
     "text": [
      "epoch=75, train_acc_top1=0.9567, train_acc_top5=0.9998, train_loss=0.1234, test_top1=0.8633, test_top5=0.9941, test_loss=0.4903, max_test_acc=0.8658, total_time=57.3579, LR=0.00041406\n"
     ]
    },
    {
     "name": "stderr",
     "output_type": "stream",
     "text": [
      "100%|██████████| 195/195 [00:54<00:00,  3.57it/s]\n",
      "100%|██████████| 40/40 [00:03<00:00, 12.78it/s]\n"
     ]
    },
    {
     "name": "stdout",
     "output_type": "stream",
     "text": [
      "epoch=76, train_acc_top1=0.9587, train_acc_top5=0.9998, train_loss=0.1186, test_top1=0.8655, test_top5=0.9945, test_loss=0.4699, max_test_acc=0.8658, total_time=57.7569, LR=0.00040625\n"
     ]
    },
    {
     "name": "stderr",
     "output_type": "stream",
     "text": [
      "100%|██████████| 195/195 [00:55<00:00,  3.54it/s]\n",
      "100%|██████████| 40/40 [00:03<00:00, 12.38it/s]\n"
     ]
    },
    {
     "name": "stdout",
     "output_type": "stream",
     "text": [
      "epoch=77, train_acc_top1=0.9595, train_acc_top5=0.9999, train_loss=0.1150, test_top1=0.8639, test_top5=0.9937, test_loss=0.4812, max_test_acc=0.8658, total_time=58.2796, LR=0.00039844\n"
     ]
    },
    {
     "name": "stderr",
     "output_type": "stream",
     "text": [
      "100%|██████████| 195/195 [00:55<00:00,  3.51it/s]\n",
      "100%|██████████| 40/40 [00:03<00:00, 13.01it/s]\n"
     ]
    },
    {
     "name": "stdout",
     "output_type": "stream",
     "text": [
      "epoch=78, train_acc_top1=0.9619, train_acc_top5=0.9998, train_loss=0.1103, test_top1=0.8678, test_top5=0.9946, test_loss=0.4666, max_test_acc=0.8678, total_time=58.8457, LR=0.00039063\n"
     ]
    },
    {
     "name": "stderr",
     "output_type": "stream",
     "text": [
      "100%|██████████| 195/195 [00:54<00:00,  3.60it/s]\n",
      "100%|██████████| 40/40 [00:03<00:00, 13.00it/s]\n"
     ]
    },
    {
     "name": "stdout",
     "output_type": "stream",
     "text": [
      "epoch=79, train_acc_top1=0.9631, train_acc_top5=1.0000, train_loss=0.1060, test_top1=0.8646, test_top5=0.9950, test_loss=0.4774, max_test_acc=0.8678, total_time=57.2625, LR=0.00038281\n"
     ]
    },
    {
     "name": "stderr",
     "output_type": "stream",
     "text": [
      "100%|██████████| 195/195 [00:54<00:00,  3.57it/s]\n",
      "100%|██████████| 40/40 [00:03<00:00, 12.67it/s]\n"
     ]
    },
    {
     "name": "stdout",
     "output_type": "stream",
     "text": [
      "epoch=80, train_acc_top1=0.9645, train_acc_top5=0.9999, train_loss=0.1036, test_top1=0.8670, test_top5=0.9960, test_loss=0.4686, max_test_acc=0.8678, total_time=57.7468, LR=0.00037500\n"
     ]
    },
    {
     "name": "stderr",
     "output_type": "stream",
     "text": [
      "100%|██████████| 195/195 [00:55<00:00,  3.49it/s]\n",
      "100%|██████████| 40/40 [00:03<00:00, 12.99it/s]\n"
     ]
    },
    {
     "name": "stdout",
     "output_type": "stream",
     "text": [
      "epoch=81, train_acc_top1=0.9641, train_acc_top5=0.9999, train_loss=0.1022, test_top1=0.8662, test_top5=0.9959, test_loss=0.4758, max_test_acc=0.8678, total_time=58.9669, LR=0.00036719\n"
     ]
    },
    {
     "name": "stderr",
     "output_type": "stream",
     "text": [
      "100%|██████████| 195/195 [00:56<00:00,  3.47it/s]\n",
      "100%|██████████| 40/40 [00:03<00:00, 12.93it/s]\n"
     ]
    },
    {
     "name": "stdout",
     "output_type": "stream",
     "text": [
      "epoch=82, train_acc_top1=0.9649, train_acc_top5=1.0000, train_loss=0.0993, test_top1=0.8689, test_top5=0.9953, test_loss=0.4662, max_test_acc=0.8689, total_time=59.4251, LR=0.00035937\n"
     ]
    },
    {
     "name": "stderr",
     "output_type": "stream",
     "text": [
      "100%|██████████| 195/195 [00:56<00:00,  3.47it/s]\n",
      "100%|██████████| 40/40 [00:03<00:00, 12.60it/s]\n"
     ]
    },
    {
     "name": "stdout",
     "output_type": "stream",
     "text": [
      "epoch=83, train_acc_top1=0.9664, train_acc_top5=0.9999, train_loss=0.0959, test_top1=0.8680, test_top5=0.9955, test_loss=0.4893, max_test_acc=0.8689, total_time=59.3601, LR=0.00035156\n"
     ]
    },
    {
     "name": "stderr",
     "output_type": "stream",
     "text": [
      "100%|██████████| 195/195 [00:57<00:00,  3.42it/s]\n",
      "100%|██████████| 40/40 [00:03<00:00, 12.28it/s]\n"
     ]
    },
    {
     "name": "stdout",
     "output_type": "stream",
     "text": [
      "epoch=84, train_acc_top1=0.9679, train_acc_top5=1.0000, train_loss=0.0929, test_top1=0.8705, test_top5=0.9954, test_loss=0.4805, max_test_acc=0.8705, total_time=60.5273, LR=0.00034375\n"
     ]
    },
    {
     "name": "stderr",
     "output_type": "stream",
     "text": [
      "100%|██████████| 195/195 [00:56<00:00,  3.45it/s]\n",
      "100%|██████████| 40/40 [00:03<00:00, 12.78it/s]\n"
     ]
    },
    {
     "name": "stdout",
     "output_type": "stream",
     "text": [
      "epoch=85, train_acc_top1=0.9689, train_acc_top5=0.9999, train_loss=0.0902, test_top1=0.8672, test_top5=0.9943, test_loss=0.5096, max_test_acc=0.8705, total_time=59.5868, LR=0.00033594\n"
     ]
    },
    {
     "name": "stderr",
     "output_type": "stream",
     "text": [
      "100%|██████████| 195/195 [00:56<00:00,  3.46it/s]\n",
      "100%|██████████| 40/40 [00:03<00:00, 12.26it/s]\n"
     ]
    },
    {
     "name": "stdout",
     "output_type": "stream",
     "text": [
      "epoch=86, train_acc_top1=0.9706, train_acc_top5=0.9999, train_loss=0.0868, test_top1=0.8662, test_top5=0.9948, test_loss=0.4837, max_test_acc=0.8705, total_time=59.7022, LR=0.00032813\n"
     ]
    },
    {
     "name": "stderr",
     "output_type": "stream",
     "text": [
      "100%|██████████| 195/195 [00:56<00:00,  3.47it/s]\n",
      "100%|██████████| 40/40 [00:03<00:00, 12.47it/s]\n"
     ]
    },
    {
     "name": "stdout",
     "output_type": "stream",
     "text": [
      "epoch=87, train_acc_top1=0.9700, train_acc_top5=1.0000, train_loss=0.0869, test_top1=0.8711, test_top5=0.9941, test_loss=0.4882, max_test_acc=0.8711, total_time=59.5221, LR=0.00032031\n"
     ]
    },
    {
     "name": "stderr",
     "output_type": "stream",
     "text": [
      "100%|██████████| 195/195 [00:56<00:00,  3.48it/s]\n",
      "100%|██████████| 40/40 [00:03<00:00, 12.55it/s]\n"
     ]
    },
    {
     "name": "stdout",
     "output_type": "stream",
     "text": [
      "epoch=88, train_acc_top1=0.9731, train_acc_top5=1.0000, train_loss=0.0801, test_top1=0.8686, test_top5=0.9952, test_loss=0.4850, max_test_acc=0.8711, total_time=59.2612, LR=0.00031250\n"
     ]
    },
    {
     "name": "stderr",
     "output_type": "stream",
     "text": [
      "100%|██████████| 195/195 [00:56<00:00,  3.44it/s]\n",
      "100%|██████████| 40/40 [00:03<00:00, 12.45it/s]\n"
     ]
    },
    {
     "name": "stdout",
     "output_type": "stream",
     "text": [
      "epoch=89, train_acc_top1=0.9730, train_acc_top5=0.9999, train_loss=0.0795, test_top1=0.8663, test_top5=0.9942, test_loss=0.5215, max_test_acc=0.8711, total_time=59.9381, LR=0.00030469\n"
     ]
    },
    {
     "name": "stderr",
     "output_type": "stream",
     "text": [
      "100%|██████████| 195/195 [00:56<00:00,  3.46it/s]\n",
      "100%|██████████| 40/40 [00:03<00:00, 12.55it/s]\n"
     ]
    },
    {
     "name": "stdout",
     "output_type": "stream",
     "text": [
      "epoch=90, train_acc_top1=0.9738, train_acc_top5=1.0000, train_loss=0.0772, test_top1=0.8722, test_top5=0.9955, test_loss=0.4879, max_test_acc=0.8722, total_time=59.7770, LR=0.00029687\n"
     ]
    },
    {
     "name": "stderr",
     "output_type": "stream",
     "text": [
      "100%|██████████| 195/195 [00:55<00:00,  3.49it/s]\n",
      "100%|██████████| 40/40 [00:03<00:00, 12.49it/s]\n"
     ]
    },
    {
     "name": "stdout",
     "output_type": "stream",
     "text": [
      "epoch=91, train_acc_top1=0.9748, train_acc_top5=1.0000, train_loss=0.0728, test_top1=0.8708, test_top5=0.9946, test_loss=0.4923, max_test_acc=0.8722, total_time=59.0722, LR=0.00028906\n"
     ]
    },
    {
     "name": "stderr",
     "output_type": "stream",
     "text": [
      "100%|██████████| 195/195 [00:56<00:00,  3.48it/s]\n",
      "100%|██████████| 40/40 [00:03<00:00, 12.52it/s]\n"
     ]
    },
    {
     "name": "stdout",
     "output_type": "stream",
     "text": [
      "epoch=92, train_acc_top1=0.9745, train_acc_top5=1.0000, train_loss=0.0736, test_top1=0.8702, test_top5=0.9949, test_loss=0.4932, max_test_acc=0.8722, total_time=59.2916, LR=0.00028125\n"
     ]
    },
    {
     "name": "stderr",
     "output_type": "stream",
     "text": [
      "100%|██████████| 195/195 [00:56<00:00,  3.47it/s]\n",
      "100%|██████████| 40/40 [00:03<00:00, 12.64it/s]\n"
     ]
    },
    {
     "name": "stdout",
     "output_type": "stream",
     "text": [
      "epoch=93, train_acc_top1=0.9763, train_acc_top5=0.9999, train_loss=0.0704, test_top1=0.8692, test_top5=0.9945, test_loss=0.5007, max_test_acc=0.8722, total_time=59.3709, LR=0.00027344\n"
     ]
    },
    {
     "name": "stderr",
     "output_type": "stream",
     "text": [
      "100%|██████████| 195/195 [00:56<00:00,  3.48it/s]\n",
      "100%|██████████| 40/40 [00:03<00:00, 12.53it/s]\n"
     ]
    },
    {
     "name": "stdout",
     "output_type": "stream",
     "text": [
      "epoch=94, train_acc_top1=0.9780, train_acc_top5=1.0000, train_loss=0.0670, test_top1=0.8677, test_top5=0.9941, test_loss=0.5089, max_test_acc=0.8722, total_time=59.2414, LR=0.00026563\n"
     ]
    },
    {
     "name": "stderr",
     "output_type": "stream",
     "text": [
      "100%|██████████| 195/195 [00:56<00:00,  3.44it/s]\n",
      "100%|██████████| 40/40 [00:03<00:00, 11.90it/s]\n"
     ]
    },
    {
     "name": "stdout",
     "output_type": "stream",
     "text": [
      "epoch=95, train_acc_top1=0.9785, train_acc_top5=1.0000, train_loss=0.0668, test_top1=0.8706, test_top5=0.9946, test_loss=0.4859, max_test_acc=0.8722, total_time=60.0629, LR=0.00025781\n"
     ]
    },
    {
     "name": "stderr",
     "output_type": "stream",
     "text": [
      "100%|██████████| 195/195 [00:55<00:00,  3.53it/s]\n",
      "100%|██████████| 40/40 [00:03<00:00, 12.76it/s]\n"
     ]
    },
    {
     "name": "stdout",
     "output_type": "stream",
     "text": [
      "epoch=96, train_acc_top1=0.9787, train_acc_top5=1.0000, train_loss=0.0638, test_top1=0.8664, test_top5=0.9948, test_loss=0.5127, max_test_acc=0.8722, total_time=58.3992, LR=0.00025000\n"
     ]
    },
    {
     "name": "stderr",
     "output_type": "stream",
     "text": [
      "100%|██████████| 195/195 [00:55<00:00,  3.52it/s]\n",
      "100%|██████████| 40/40 [00:03<00:00, 12.90it/s]\n"
     ]
    },
    {
     "name": "stdout",
     "output_type": "stream",
     "text": [
      "epoch=97, train_acc_top1=0.9799, train_acc_top5=1.0000, train_loss=0.0590, test_top1=0.8735, test_top5=0.9935, test_loss=0.5115, max_test_acc=0.8735, total_time=58.6284, LR=0.00024219\n"
     ]
    },
    {
     "name": "stderr",
     "output_type": "stream",
     "text": [
      "100%|██████████| 195/195 [00:54<00:00,  3.60it/s]\n",
      "100%|██████████| 40/40 [00:03<00:00, 13.00it/s]\n"
     ]
    },
    {
     "name": "stdout",
     "output_type": "stream",
     "text": [
      "epoch=98, train_acc_top1=0.9805, train_acc_top5=1.0000, train_loss=0.0588, test_top1=0.8706, test_top5=0.9943, test_loss=0.4986, max_test_acc=0.8735, total_time=57.2431, LR=0.00023437\n"
     ]
    },
    {
     "name": "stderr",
     "output_type": "stream",
     "text": [
      "100%|██████████| 195/195 [00:54<00:00,  3.58it/s]\n",
      "100%|██████████| 40/40 [00:03<00:00, 12.99it/s]\n"
     ]
    },
    {
     "name": "stdout",
     "output_type": "stream",
     "text": [
      "epoch=99, train_acc_top1=0.9812, train_acc_top5=1.0000, train_loss=0.0555, test_top1=0.8732, test_top5=0.9951, test_loss=0.4936, max_test_acc=0.8735, total_time=57.5423, LR=0.00022656\n"
     ]
    },
    {
     "name": "stderr",
     "output_type": "stream",
     "text": [
      "100%|██████████| 195/195 [00:55<00:00,  3.50it/s]\n",
      "100%|██████████| 40/40 [00:03<00:00, 12.69it/s]\n"
     ]
    },
    {
     "name": "stdout",
     "output_type": "stream",
     "text": [
      "epoch=100, train_acc_top1=0.9824, train_acc_top5=1.0000, train_loss=0.0534, test_top1=0.8734, test_top5=0.9952, test_loss=0.5010, max_test_acc=0.8735, total_time=58.8124, LR=0.00021875\n"
     ]
    },
    {
     "name": "stderr",
     "output_type": "stream",
     "text": [
      "100%|██████████| 195/195 [00:55<00:00,  3.50it/s]\n",
      "100%|██████████| 40/40 [00:03<00:00, 12.98it/s]\n"
     ]
    },
    {
     "name": "stdout",
     "output_type": "stream",
     "text": [
      "epoch=101, train_acc_top1=0.9834, train_acc_top5=1.0000, train_loss=0.0518, test_top1=0.8720, test_top5=0.9948, test_loss=0.5042, max_test_acc=0.8735, total_time=58.7973, LR=0.00021094\n"
     ]
    },
    {
     "name": "stderr",
     "output_type": "stream",
     "text": [
      "100%|██████████| 195/195 [00:55<00:00,  3.52it/s]\n",
      "100%|██████████| 40/40 [00:03<00:00, 12.37it/s]\n"
     ]
    },
    {
     "name": "stdout",
     "output_type": "stream",
     "text": [
      "epoch=102, train_acc_top1=0.9837, train_acc_top5=1.0000, train_loss=0.0496, test_top1=0.8727, test_top5=0.9957, test_loss=0.5134, max_test_acc=0.8735, total_time=58.7176, LR=0.00020313\n"
     ]
    },
    {
     "name": "stderr",
     "output_type": "stream",
     "text": [
      "100%|██████████| 195/195 [00:56<00:00,  3.46it/s]\n",
      "100%|██████████| 40/40 [00:03<00:00, 12.00it/s]\n"
     ]
    },
    {
     "name": "stdout",
     "output_type": "stream",
     "text": [
      "epoch=103, train_acc_top1=0.9839, train_acc_top5=1.0000, train_loss=0.0498, test_top1=0.8741, test_top5=0.9947, test_loss=0.5060, max_test_acc=0.8741, total_time=59.8544, LR=0.00019531\n"
     ]
    },
    {
     "name": "stderr",
     "output_type": "stream",
     "text": [
      "100%|██████████| 195/195 [00:54<00:00,  3.58it/s]\n",
      "100%|██████████| 40/40 [00:03<00:00, 12.99it/s]\n"
     ]
    },
    {
     "name": "stdout",
     "output_type": "stream",
     "text": [
      "epoch=104, train_acc_top1=0.9858, train_acc_top5=1.0000, train_loss=0.0449, test_top1=0.8719, test_top5=0.9942, test_loss=0.5093, max_test_acc=0.8741, total_time=57.5772, LR=0.00018750\n"
     ]
    },
    {
     "name": "stderr",
     "output_type": "stream",
     "text": [
      "100%|██████████| 195/195 [00:55<00:00,  3.52it/s]\n",
      "100%|██████████| 40/40 [00:03<00:00, 12.16it/s]\n"
     ]
    },
    {
     "name": "stdout",
     "output_type": "stream",
     "text": [
      "epoch=105, train_acc_top1=0.9863, train_acc_top5=1.0000, train_loss=0.0430, test_top1=0.8740, test_top5=0.9950, test_loss=0.5193, max_test_acc=0.8741, total_time=58.6873, LR=0.00017969\n"
     ]
    },
    {
     "name": "stderr",
     "output_type": "stream",
     "text": [
      "100%|██████████| 195/195 [00:56<00:00,  3.47it/s]\n",
      "100%|██████████| 40/40 [00:03<00:00, 12.89it/s]\n"
     ]
    },
    {
     "name": "stdout",
     "output_type": "stream",
     "text": [
      "epoch=106, train_acc_top1=0.9860, train_acc_top5=1.0000, train_loss=0.0420, test_top1=0.8740, test_top5=0.9946, test_loss=0.5083, max_test_acc=0.8741, total_time=59.3775, LR=0.00017187\n"
     ]
    },
    {
     "name": "stderr",
     "output_type": "stream",
     "text": [
      "100%|██████████| 195/195 [00:54<00:00,  3.55it/s]\n",
      "100%|██████████| 40/40 [00:03<00:00, 12.19it/s]\n"
     ]
    },
    {
     "name": "stdout",
     "output_type": "stream",
     "text": [
      "epoch=107, train_acc_top1=0.9878, train_acc_top5=1.0000, train_loss=0.0383, test_top1=0.8753, test_top5=0.9948, test_loss=0.4998, max_test_acc=0.8753, total_time=58.3923, LR=0.00016406\n"
     ]
    },
    {
     "name": "stderr",
     "output_type": "stream",
     "text": [
      "100%|██████████| 195/195 [00:56<00:00,  3.46it/s]\n",
      "100%|██████████| 40/40 [00:03<00:00, 12.38it/s]\n"
     ]
    },
    {
     "name": "stdout",
     "output_type": "stream",
     "text": [
      "epoch=108, train_acc_top1=0.9874, train_acc_top5=1.0000, train_loss=0.0401, test_top1=0.8758, test_top5=0.9951, test_loss=0.5058, max_test_acc=0.8758, total_time=59.7233, LR=0.00015625\n"
     ]
    },
    {
     "name": "stderr",
     "output_type": "stream",
     "text": [
      "100%|██████████| 195/195 [00:56<00:00,  3.48it/s]\n",
      "100%|██████████| 40/40 [00:03<00:00, 12.31it/s]\n"
     ]
    },
    {
     "name": "stdout",
     "output_type": "stream",
     "text": [
      "epoch=109, train_acc_top1=0.9879, train_acc_top5=1.0000, train_loss=0.0379, test_top1=0.8733, test_top5=0.9948, test_loss=0.5165, max_test_acc=0.8758, total_time=59.3457, LR=0.00014844\n"
     ]
    },
    {
     "name": "stderr",
     "output_type": "stream",
     "text": [
      "100%|██████████| 195/195 [00:56<00:00,  3.45it/s]\n",
      "100%|██████████| 40/40 [00:03<00:00, 12.33it/s]\n"
     ]
    },
    {
     "name": "stdout",
     "output_type": "stream",
     "text": [
      "epoch=110, train_acc_top1=0.9883, train_acc_top5=1.0000, train_loss=0.0362, test_top1=0.8761, test_top5=0.9952, test_loss=0.5209, max_test_acc=0.8761, total_time=59.9488, LR=0.00014063\n"
     ]
    },
    {
     "name": "stderr",
     "output_type": "stream",
     "text": [
      "100%|██████████| 195/195 [00:56<00:00,  3.47it/s]\n",
      "100%|██████████| 40/40 [00:03<00:00, 12.69it/s]\n"
     ]
    },
    {
     "name": "stdout",
     "output_type": "stream",
     "text": [
      "epoch=111, train_acc_top1=0.9892, train_acc_top5=1.0000, train_loss=0.0357, test_top1=0.8755, test_top5=0.9942, test_loss=0.5171, max_test_acc=0.8761, total_time=59.2791, LR=0.00013281\n"
     ]
    },
    {
     "name": "stderr",
     "output_type": "stream",
     "text": [
      "100%|██████████| 195/195 [00:56<00:00,  3.47it/s]\n",
      "100%|██████████| 40/40 [00:03<00:00, 12.60it/s]\n"
     ]
    },
    {
     "name": "stdout",
     "output_type": "stream",
     "text": [
      "epoch=112, train_acc_top1=0.9898, train_acc_top5=1.0000, train_loss=0.0332, test_top1=0.8762, test_top5=0.9952, test_loss=0.5182, max_test_acc=0.8762, total_time=59.4790, LR=0.00012500\n"
     ]
    },
    {
     "name": "stderr",
     "output_type": "stream",
     "text": [
      "100%|██████████| 195/195 [00:56<00:00,  3.48it/s]\n",
      "100%|██████████| 40/40 [00:03<00:00, 12.39it/s]\n"
     ]
    },
    {
     "name": "stdout",
     "output_type": "stream",
     "text": [
      "epoch=113, train_acc_top1=0.9896, train_acc_top5=1.0000, train_loss=0.0330, test_top1=0.8747, test_top5=0.9941, test_loss=0.5400, max_test_acc=0.8762, total_time=59.3389, LR=0.00011719\n"
     ]
    },
    {
     "name": "stderr",
     "output_type": "stream",
     "text": [
      "100%|██████████| 195/195 [00:55<00:00,  3.50it/s]\n",
      "100%|██████████| 40/40 [00:03<00:00, 12.42it/s]\n"
     ]
    },
    {
     "name": "stdout",
     "output_type": "stream",
     "text": [
      "epoch=114, train_acc_top1=0.9911, train_acc_top5=1.0000, train_loss=0.0286, test_top1=0.8788, test_top5=0.9945, test_loss=0.5133, max_test_acc=0.8788, total_time=59.1296, LR=0.00010938\n"
     ]
    },
    {
     "name": "stderr",
     "output_type": "stream",
     "text": [
      "100%|██████████| 195/195 [00:56<00:00,  3.48it/s]\n",
      "100%|██████████| 40/40 [00:03<00:00, 12.54it/s]\n"
     ]
    },
    {
     "name": "stdout",
     "output_type": "stream",
     "text": [
      "epoch=115, train_acc_top1=0.9928, train_acc_top5=1.0000, train_loss=0.0258, test_top1=0.8740, test_top5=0.9952, test_loss=0.5215, max_test_acc=0.8788, total_time=59.2115, LR=0.00010156\n"
     ]
    },
    {
     "name": "stderr",
     "output_type": "stream",
     "text": [
      "100%|██████████| 195/195 [00:56<00:00,  3.46it/s]\n",
      "100%|██████████| 40/40 [00:03<00:00, 12.46it/s]\n"
     ]
    },
    {
     "name": "stdout",
     "output_type": "stream",
     "text": [
      "epoch=116, train_acc_top1=0.9920, train_acc_top5=1.0000, train_loss=0.0273, test_top1=0.8788, test_top5=0.9947, test_loss=0.5122, max_test_acc=0.8788, total_time=59.7982, LR=0.00009375\n"
     ]
    },
    {
     "name": "stderr",
     "output_type": "stream",
     "text": [
      "100%|██████████| 195/195 [00:56<00:00,  3.44it/s]\n",
      "100%|██████████| 40/40 [00:03<00:00, 12.39it/s]\n"
     ]
    },
    {
     "name": "stdout",
     "output_type": "stream",
     "text": [
      "epoch=117, train_acc_top1=0.9921, train_acc_top5=1.0000, train_loss=0.0261, test_top1=0.8780, test_top5=0.9956, test_loss=0.5175, max_test_acc=0.8788, total_time=59.9389, LR=0.00008594\n"
     ]
    },
    {
     "name": "stderr",
     "output_type": "stream",
     "text": [
      "100%|██████████| 195/195 [00:56<00:00,  3.48it/s]\n",
      "100%|██████████| 40/40 [00:03<00:00, 12.35it/s]\n"
     ]
    },
    {
     "name": "stdout",
     "output_type": "stream",
     "text": [
      "epoch=118, train_acc_top1=0.9923, train_acc_top5=1.0000, train_loss=0.0257, test_top1=0.8792, test_top5=0.9947, test_loss=0.5136, max_test_acc=0.8792, total_time=59.5145, LR=0.00007813\n"
     ]
    },
    {
     "name": "stderr",
     "output_type": "stream",
     "text": [
      "100%|██████████| 195/195 [00:52<00:00,  3.72it/s]\n",
      "100%|██████████| 40/40 [00:02<00:00, 13.86it/s]\n"
     ]
    },
    {
     "name": "stdout",
     "output_type": "stream",
     "text": [
      "epoch=119, train_acc_top1=0.9934, train_acc_top5=1.0000, train_loss=0.0229, test_top1=0.8767, test_top5=0.9951, test_loss=0.5169, max_test_acc=0.8792, total_time=55.3184, LR=0.00007031\n"
     ]
    },
    {
     "name": "stderr",
     "output_type": "stream",
     "text": [
      "100%|██████████| 195/195 [00:50<00:00,  3.85it/s]\n",
      "100%|██████████| 40/40 [00:02<00:00, 13.75it/s]\n"
     ]
    },
    {
     "name": "stdout",
     "output_type": "stream",
     "text": [
      "epoch=120, train_acc_top1=0.9941, train_acc_top5=1.0000, train_loss=0.0216, test_top1=0.8778, test_top5=0.9955, test_loss=0.5126, max_test_acc=0.8792, total_time=53.5188, LR=0.00006250\n"
     ]
    },
    {
     "name": "stderr",
     "output_type": "stream",
     "text": [
      "100%|██████████| 195/195 [00:50<00:00,  3.85it/s]\n",
      "100%|██████████| 40/40 [00:02<00:00, 13.79it/s]\n"
     ]
    },
    {
     "name": "stdout",
     "output_type": "stream",
     "text": [
      "epoch=121, train_acc_top1=0.9941, train_acc_top5=1.0000, train_loss=0.0209, test_top1=0.8798, test_top5=0.9953, test_loss=0.5242, max_test_acc=0.8798, total_time=53.6625, LR=0.00005469\n"
     ]
    },
    {
     "name": "stderr",
     "output_type": "stream",
     "text": [
      "100%|██████████| 195/195 [00:50<00:00,  3.86it/s]\n",
      "100%|██████████| 40/40 [00:02<00:00, 13.87it/s]\n"
     ]
    },
    {
     "name": "stdout",
     "output_type": "stream",
     "text": [
      "epoch=122, train_acc_top1=0.9954, train_acc_top5=1.0000, train_loss=0.0194, test_top1=0.8770, test_top5=0.9946, test_loss=0.5124, max_test_acc=0.8798, total_time=53.4218, LR=0.00004688\n"
     ]
    },
    {
     "name": "stderr",
     "output_type": "stream",
     "text": [
      "100%|██████████| 195/195 [00:50<00:00,  3.85it/s]\n",
      "100%|██████████| 40/40 [00:02<00:00, 13.73it/s]\n"
     ]
    },
    {
     "name": "stdout",
     "output_type": "stream",
     "text": [
      "epoch=123, train_acc_top1=0.9948, train_acc_top5=1.0000, train_loss=0.0189, test_top1=0.8781, test_top5=0.9953, test_loss=0.5175, max_test_acc=0.8798, total_time=53.5162, LR=0.00003906\n"
     ]
    },
    {
     "name": "stderr",
     "output_type": "stream",
     "text": [
      "100%|██████████| 195/195 [00:50<00:00,  3.85it/s]\n",
      "100%|██████████| 40/40 [00:02<00:00, 13.71it/s]\n"
     ]
    },
    {
     "name": "stdout",
     "output_type": "stream",
     "text": [
      "epoch=124, train_acc_top1=0.9954, train_acc_top5=1.0000, train_loss=0.0177, test_top1=0.8783, test_top5=0.9952, test_loss=0.5178, max_test_acc=0.8798, total_time=53.5485, LR=0.00003125\n"
     ]
    },
    {
     "name": "stderr",
     "output_type": "stream",
     "text": [
      "100%|██████████| 195/195 [00:50<00:00,  3.85it/s]\n",
      "100%|██████████| 40/40 [00:02<00:00, 13.72it/s]\n"
     ]
    },
    {
     "name": "stdout",
     "output_type": "stream",
     "text": [
      "epoch=125, train_acc_top1=0.9960, train_acc_top5=1.0000, train_loss=0.0165, test_top1=0.8797, test_top5=0.9955, test_loss=0.5151, max_test_acc=0.8798, total_time=53.5106, LR=0.00002344\n"
     ]
    },
    {
     "name": "stderr",
     "output_type": "stream",
     "text": [
      "100%|██████████| 195/195 [00:50<00:00,  3.86it/s]\n",
      "100%|██████████| 40/40 [00:02<00:00, 13.85it/s]\n"
     ]
    },
    {
     "name": "stdout",
     "output_type": "stream",
     "text": [
      "epoch=126, train_acc_top1=0.9960, train_acc_top5=1.0000, train_loss=0.0162, test_top1=0.8788, test_top5=0.9952, test_loss=0.5141, max_test_acc=0.8798, total_time=53.4590, LR=0.00001563\n"
     ]
    },
    {
     "name": "stderr",
     "output_type": "stream",
     "text": [
      "100%|██████████| 195/195 [00:50<00:00,  3.86it/s]\n",
      "100%|██████████| 40/40 [00:02<00:00, 13.76it/s]\n"
     ]
    },
    {
     "name": "stdout",
     "output_type": "stream",
     "text": [
      "epoch=127, train_acc_top1=0.9960, train_acc_top5=1.0000, train_loss=0.0158, test_top1=0.8801, test_top5=0.9953, test_loss=0.5118, max_test_acc=0.8801, total_time=53.6622, LR=0.00000781\n"
     ]
    }
   ],
   "source": [
    "for epoch in range(Begin_epoch, Max_epoch):\n",
    "\n",
    "    start_time = time.time()\n",
    "    train_loss, train_acc_top1, train_acc_topk, test_loss, test_acc_top1, test_acc_topk, max_test_acc = train_model(net, max_test_acc, epoch)\n",
    "    \n",
    "    for param_group in optimizer.param_groups:\n",
    "        lr = param_group['lr']\n",
    "        \n",
    "    lr_scheduler.step()\n",
    "\n",
    "    print(f'''epoch={epoch}, train_acc_top1={train_acc_top1:.4f}, train_acc_top{Top_k}={train_acc_topk:.4f}, train_loss={train_loss:.4f}, test_top1={test_acc_top1:.4f}, test_top{Top_k}={test_acc_topk:.4f}, test_loss={test_loss:.4f}, max_test_acc={max_test_acc:.4f}, total_time={(time.time() - start_time):.4f}, LR={lr:.8f}''')\n",
    "    \n",
    "    torch.save(net.state_dict(), Savemodel_path + f'epoch{epoch}{Name_suffix}.h5')\n",
    "    if os.path.exists(Savemodel_path + f'epoch{epoch-1}{Name_suffix}.h5'):\n",
    "        os.remove(Savemodel_path + f'epoch{epoch-1}{Name_suffix}.h5')"
   ]
  },
  {
   "cell_type": "code",
   "execution_count": 12,
   "id": "39e69091",
   "metadata": {},
   "outputs": [
    {
     "data": {
      "text/plain": [
       "<All keys matched successfully>"
      ]
     },
     "execution_count": 12,
     "metadata": {},
     "output_type": "execute_result"
    }
   ],
   "source": [
    "net.load_state_dict(torch.load(Savemodel_path + f'max_acc{Name_suffix}.h5'))"
   ]
  },
  {
   "cell_type": "code",
   "execution_count": 13,
   "id": "4998ffd5",
   "metadata": {
    "scrolled": true
   },
   "outputs": [
    {
     "name": "stderr",
     "output_type": "stream",
     "text": [
      "100%|██████████| 40/40 [00:03<00:00, 10.61it/s]"
     ]
    },
    {
     "name": "stdout",
     "output_type": "stream",
     "text": [
      "Confusion_Matrix = tensor([[907.,   8.,  15.,   5.,   6.,   3.,   4.,   4.,  29.,  19.],\n",
      "        [  9., 944.,   4.,   1.,   0.,   0.,   1.,   1.,   9.,  31.],\n",
      "        [ 32.,   1., 828.,  31.,  35.,  16.,  40.,  11.,   4.,   2.],\n",
      "        [ 16.,   2.,  40., 759.,  23., 107.,  25.,  11.,   8.,   9.],\n",
      "        [ 11.,   2.,  41.,  33., 844.,  16.,  27.,  23.,   1.,   2.],\n",
      "        [  5.,   0.,  17., 104.,  29., 820.,  12.,  10.,   1.,   2.],\n",
      "        [  4.,   2.,  23.,  24.,  12.,   6., 923.,   3.,   1.,   2.],\n",
      "        [ 12.,   1.,  12.,  20.,  20.,  25.,   5., 904.,   0.,   1.],\n",
      "        [ 30.,   7.,   1.,   5.,   2.,   1.,   1.,   1., 940.,  12.],\n",
      "        [ 12.,  35.,   1.,   3.,   0.,   0.,   5.,   2.,  10., 932.]])\n",
      "acc = 0.8801000118255615\n"
     ]
    },
    {
     "name": "stderr",
     "output_type": "stream",
     "text": [
      "\n"
     ]
    }
   ],
   "source": [
    "Confusion_Matrix = torch.zeros((Targetnum, Targetnum))\n",
    "net.eval()\n",
    "with torch.no_grad():\n",
    "    for img, label in tqdm(test_data_loader):\n",
    "        img = img.cuda()\n",
    "        label = label.cuda()\n",
    "        out_fr = net(img)\n",
    "        guess = out_fr.argmax(1)\n",
    "        for j in range(len(label)):\n",
    "            Confusion_Matrix[label[j],guess[j]] += 1\n",
    "acc = Confusion_Matrix.diag()\n",
    "acc = acc.sum()/Confusion_Matrix.sum()\n",
    "print(f'Confusion_Matrix = {Confusion_Matrix}')\n",
    "print(f'acc = {acc}')"
   ]
  },
  {
   "cell_type": "code",
   "execution_count": 14,
   "id": "31c35130",
   "metadata": {},
   "outputs": [
    {
     "data": {
      "text/plain": [
       "DataParallel(\n",
       "  (module): Reactnet(\n",
       "    (feature): ModuleList(\n",
       "      (0): firstconv3x3(\n",
       "        (conv1): ScaledStdConv2d(3, 32, kernel_size=(3, 3), stride=(1, 1), padding=(1, 1), bias=False)\n",
       "      )\n",
       "      (1): BasicBlock(\n",
       "        (move11): LearnableBias()\n",
       "        (binary_3x3): ScaledStdConv2d(32, 32, kernel_size=(3, 3), stride=(1, 1), padding=(1, 1), bias=False)\n",
       "        (move12): LearnableBias()\n",
       "        (prelu1): Q_PReLU()\n",
       "        (move13): LearnableBias()\n",
       "        (move21): LearnableBias()\n",
       "        (binary_pw_down1): ScaledStdConv2d(32, 32, kernel_size=(1, 1), stride=(1, 1), bias=False)\n",
       "        (binary_pw_down2): ScaledStdConv2d(32, 32, kernel_size=(1, 1), stride=(1, 1), bias=False)\n",
       "        (move22): LearnableBias()\n",
       "        (prelu2): Q_PReLU()\n",
       "        (move23): LearnableBias()\n",
       "        (binary_activation): BinaryActivation()\n",
       "        (pooling): AvgPool2d(kernel_size=2, stride=2, padding=0)\n",
       "      )\n",
       "      (2): BasicBlock(\n",
       "        (move11): LearnableBias()\n",
       "        (binary_3x3): ScaledStdConv2d(64, 64, kernel_size=(3, 3), stride=(2, 2), padding=(1, 1), bias=False)\n",
       "        (move12): LearnableBias()\n",
       "        (prelu1): Q_PReLU()\n",
       "        (move13): LearnableBias()\n",
       "        (move21): LearnableBias()\n",
       "        (binary_pw_down1): ScaledStdConv2d(64, 64, kernel_size=(1, 1), stride=(1, 1), bias=False)\n",
       "        (binary_pw_down2): ScaledStdConv2d(64, 64, kernel_size=(1, 1), stride=(1, 1), bias=False)\n",
       "        (move22): LearnableBias()\n",
       "        (prelu2): Q_PReLU()\n",
       "        (move23): LearnableBias()\n",
       "        (binary_activation): BinaryActivation()\n",
       "        (pooling): AvgPool2d(kernel_size=2, stride=2, padding=0)\n",
       "      )\n",
       "      (3): BasicBlock(\n",
       "        (move11): LearnableBias()\n",
       "        (binary_3x3): ScaledStdConv2d(128, 128, kernel_size=(3, 3), stride=(1, 1), padding=(1, 1), bias=False)\n",
       "        (move12): LearnableBias()\n",
       "        (prelu1): Q_PReLU()\n",
       "        (move13): LearnableBias()\n",
       "        (move21): LearnableBias()\n",
       "        (binary_pw): ScaledStdConv2d(128, 128, kernel_size=(1, 1), stride=(1, 1), bias=False)\n",
       "        (move22): LearnableBias()\n",
       "        (prelu2): Q_PReLU()\n",
       "        (move23): LearnableBias()\n",
       "        (binary_activation): BinaryActivation()\n",
       "      )\n",
       "      (4): BasicBlock(\n",
       "        (move11): LearnableBias()\n",
       "        (binary_3x3): ScaledStdConv2d(128, 128, kernel_size=(3, 3), stride=(2, 2), padding=(1, 1), bias=False)\n",
       "        (move12): LearnableBias()\n",
       "        (prelu1): Q_PReLU()\n",
       "        (move13): LearnableBias()\n",
       "        (move21): LearnableBias()\n",
       "        (binary_pw_down1): ScaledStdConv2d(128, 128, kernel_size=(1, 1), stride=(1, 1), bias=False)\n",
       "        (binary_pw_down2): ScaledStdConv2d(128, 128, kernel_size=(1, 1), stride=(1, 1), bias=False)\n",
       "        (move22): LearnableBias()\n",
       "        (prelu2): Q_PReLU()\n",
       "        (move23): LearnableBias()\n",
       "        (binary_activation): BinaryActivation()\n",
       "        (pooling): AvgPool2d(kernel_size=2, stride=2, padding=0)\n",
       "      )\n",
       "      (5): BasicBlock(\n",
       "        (move11): LearnableBias()\n",
       "        (binary_3x3): ScaledStdConv2d(256, 256, kernel_size=(3, 3), stride=(1, 1), padding=(1, 1), bias=False)\n",
       "        (move12): LearnableBias()\n",
       "        (prelu1): Q_PReLU()\n",
       "        (move13): LearnableBias()\n",
       "        (move21): LearnableBias()\n",
       "        (binary_pw): ScaledStdConv2d(256, 256, kernel_size=(1, 1), stride=(1, 1), bias=False)\n",
       "        (move22): LearnableBias()\n",
       "        (prelu2): Q_PReLU()\n",
       "        (move23): LearnableBias()\n",
       "        (binary_activation): BinaryActivation()\n",
       "      )\n",
       "      (6): BasicBlock(\n",
       "        (move11): LearnableBias()\n",
       "        (binary_3x3): ScaledStdConv2d(256, 256, kernel_size=(3, 3), stride=(2, 2), padding=(1, 1), bias=False)\n",
       "        (move12): LearnableBias()\n",
       "        (prelu1): Q_PReLU()\n",
       "        (move13): LearnableBias()\n",
       "        (move21): LearnableBias()\n",
       "        (binary_pw_down1): ScaledStdConv2d(256, 256, kernel_size=(1, 1), stride=(1, 1), bias=False)\n",
       "        (binary_pw_down2): ScaledStdConv2d(256, 256, kernel_size=(1, 1), stride=(1, 1), bias=False)\n",
       "        (move22): LearnableBias()\n",
       "        (prelu2): Q_PReLU()\n",
       "        (move23): LearnableBias()\n",
       "        (binary_activation): BinaryActivation()\n",
       "        (pooling): AvgPool2d(kernel_size=2, stride=2, padding=0)\n",
       "      )\n",
       "      (7-11): 5 x BasicBlock(\n",
       "        (move11): LearnableBias()\n",
       "        (binary_3x3): ScaledStdConv2d(512, 512, kernel_size=(3, 3), stride=(1, 1), padding=(1, 1), bias=False)\n",
       "        (move12): LearnableBias()\n",
       "        (prelu1): Q_PReLU()\n",
       "        (move13): LearnableBias()\n",
       "        (move21): LearnableBias()\n",
       "        (binary_pw): ScaledStdConv2d(512, 512, kernel_size=(1, 1), stride=(1, 1), bias=False)\n",
       "        (move22): LearnableBias()\n",
       "        (prelu2): Q_PReLU()\n",
       "        (move23): LearnableBias()\n",
       "        (binary_activation): BinaryActivation()\n",
       "      )\n",
       "      (12): BasicBlock(\n",
       "        (move11): LearnableBias()\n",
       "        (binary_3x3): ScaledStdConv2d(512, 512, kernel_size=(3, 3), stride=(2, 2), padding=(1, 1), bias=False)\n",
       "        (move12): LearnableBias()\n",
       "        (prelu1): Q_PReLU()\n",
       "        (move13): LearnableBias()\n",
       "        (move21): LearnableBias()\n",
       "        (binary_pw_down1): ScaledStdConv2d(512, 512, kernel_size=(1, 1), stride=(1, 1), bias=False)\n",
       "        (binary_pw_down2): ScaledStdConv2d(512, 512, kernel_size=(1, 1), stride=(1, 1), bias=False)\n",
       "        (move22): LearnableBias()\n",
       "        (prelu2): Q_PReLU()\n",
       "        (move23): LearnableBias()\n",
       "        (binary_activation): BinaryActivation()\n",
       "        (pooling): AvgPool2d(kernel_size=2, stride=2, padding=0)\n",
       "      )\n",
       "      (13): BasicBlock(\n",
       "        (move11): LearnableBias()\n",
       "        (binary_3x3): ScaledStdConv2d(1024, 1024, kernel_size=(3, 3), stride=(1, 1), padding=(1, 1), bias=False)\n",
       "        (move12): LearnableBias()\n",
       "        (prelu1): Q_PReLU()\n",
       "        (move13): LearnableBias()\n",
       "        (move21): LearnableBias()\n",
       "        (binary_pw): ScaledStdConv2d(1024, 1024, kernel_size=(1, 1), stride=(1, 1), bias=False)\n",
       "        (move22): LearnableBias()\n",
       "        (prelu2): Q_PReLU()\n",
       "        (move23): LearnableBias()\n",
       "        (binary_activation): BinaryActivation()\n",
       "      )\n",
       "    )\n",
       "    (pool1): AdaptiveAvgPool2d(output_size=1)\n",
       "    (fc): Linear(in_features=1024, out_features=10, bias=True)\n",
       "  )\n",
       ")"
      ]
     },
     "execution_count": 14,
     "metadata": {},
     "output_type": "execute_result"
    }
   ],
   "source": [
    "net"
   ]
  }
 ],
 "metadata": {
  "kernelspec": {
   "display_name": ".venv",
   "language": "python",
   "name": "python3"
  },
  "language_info": {
   "codemirror_mode": {
    "name": "ipython",
    "version": 3
   },
   "file_extension": ".py",
   "mimetype": "text/x-python",
   "name": "python",
   "nbconvert_exporter": "python",
   "pygments_lexer": "ipython3",
   "version": "3.12.3"
  }
 },
 "nbformat": 4,
 "nbformat_minor": 5
}
